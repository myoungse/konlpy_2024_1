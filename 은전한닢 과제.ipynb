{
 "cells": [
  {
   "cell_type": "code",
   "execution_count": 3,
   "id": "b498deba",
   "metadata": {},
   "outputs": [
    {
     "data": {
      "text/plain": [
       "['가우스전자', '텔레비전', '정말', '좋', '네요']"
      ]
     },
     "execution_count": 3,
     "metadata": {},
     "output_type": "execute_result"
    }
   ],
   "source": [
    "from konlpy.tag import Mecab\n",
    "tokenizer = Mecab(r\"C:\\mecab\\mecab-ko-dic\")\n",
    "tokenizer.morphs(\"가우스전자 텔레비전 정말 좋네요\")"
   ]
  },
  {
   "cell_type": "code",
   "execution_count": 4,
   "id": "fb76fe90",
   "metadata": {},
   "outputs": [
    {
     "name": "stdout",
     "output_type": "stream",
     "text": [
      "가우스전자\tNNP,*,F,가우스전자,*,*,*,*,*\n",
      "텔레비전\tNNG,*,T,텔레비전,*,*,*,*\n",
      "정말\tMAG,문장부사|양상부사,T,정말,*,*,*,*\n",
      "좋\tVA,*,T,좋,*,*,*,*\n",
      "네요\tEC,*,F,네요,*,*,*,*\n",
      "EOS\n",
      "\n"
     ]
    }
   ],
   "source": [
    "import MeCab\n",
    "m=MeCab.Tagger()\n",
    "out = m.parse(\"가우스전자 텔레비전 정말 좋네요\")\n",
    "print(out)"
   ]
  },
  {
   "cell_type": "code",
   "execution_count": 5,
   "id": "7667bbbc",
   "metadata": {},
   "outputs": [
    {
     "data": {
      "text/plain": [
       "['서울대입구역', '정말', '좋', '네요']"
      ]
     },
     "execution_count": 5,
     "metadata": {},
     "output_type": "execute_result"
    }
   ],
   "source": [
    "from konlpy.tag import Mecab\n",
    "tokenizer = Mecab(r\"C:\\mecab\\mecab-ko-dic\")\n",
    "tokenizer.morphs(\"서울대입구역 정말 좋네요\")"
   ]
  },
  {
   "cell_type": "code",
   "execution_count": 9,
   "id": "1731a39e",
   "metadata": {},
   "outputs": [
    {
     "name": "stdout",
     "output_type": "stream",
     "text": [
      "서울대입구역\tNNP,지명,T,서울대입구역,Compound,*,*,서울/NNG/*+대/NNG/*+입구/NNG/장소+역/NNG/*\n",
      "정말\tMAG,문장부사|양상부사,T,정말,*,*,*,*\n",
      "좋\tVA,*,T,좋,*,*,*,*\n",
      "네요\tEC,*,F,네요,*,*,*,*\n",
      "EOS\n",
      "\n"
     ]
    }
   ],
   "source": [
    "import MeCab\n",
    "m=MeCab.Tagger()\n",
    "out = m.parse(\"서울대입구역 정말 좋네요\")\n",
    "print(out)"
   ]
  },
  {
   "cell_type": "code",
   "execution_count": 11,
   "id": "5b0a3972",
   "metadata": {},
   "outputs": [
    {
     "data": {
      "text/plain": [
       "['동의대', '인공지능', '학과', '정말', '좋', '네요']"
      ]
     },
     "execution_count": 11,
     "metadata": {},
     "output_type": "execute_result"
    }
   ],
   "source": [
    "from konlpy.tag import Mecab\n",
    "tokenizer = Mecab(r\"C:\\mecab\\mecab-ko-dic\")\n",
    "tokenizer.morphs(\"동의대 인공지능학과 정말 좋네요\")"
   ]
  },
  {
   "cell_type": "code",
   "execution_count": 13,
   "id": "dc0d32ca",
   "metadata": {},
   "outputs": [
    {
     "name": "stdout",
     "output_type": "stream",
     "text": [
      "동의대\tNNG,*,F,동의대,Compound,*,*,동/NNG/*+의대/NNG/*\n",
      "인공지능\tNNP,*,T,인공지능,Compound,*,*,인공/NNG/*+지능/NNG/*\n",
      "학과\tNNG,*,F,학과,*,*,*,*\n",
      "정말\tMAG,문장부사|양상부사,T,정말,*,*,*,*\n",
      "좋\tVA,*,T,좋,*,*,*,*\n",
      "네요\tEC,*,F,네요,*,*,*,*\n",
      "EOS\n",
      "\n"
     ]
    }
   ],
   "source": [
    "import MeCab\n",
    "m=MeCab.Tagger()\n",
    "out = m.parse(\"동의대 인공지능학과 정말 좋네요\")\n",
    "print(out)"
   ]
  },
  {
   "cell_type": "code",
   "execution_count": 1,
   "id": "b41564bb",
   "metadata": {},
   "outputs": [
    {
     "data": {
      "text/plain": [
       "['동의대', '인공지능학과', '정말', '좋', '네요']"
      ]
     },
     "execution_count": 1,
     "metadata": {},
     "output_type": "execute_result"
    }
   ],
   "source": [
    "from konlpy.tag import Mecab\n",
    "tokenizer = Mecab(r\"C:\\mecab\\mecab-ko-dic\")\n",
    "tokenizer.morphs(\"동의대 인공지능학과 정말 좋네요\")"
   ]
  },
  {
   "cell_type": "code",
   "execution_count": 2,
   "id": "f163b111",
   "metadata": {},
   "outputs": [
    {
     "name": "stdout",
     "output_type": "stream",
     "text": [
      "동의대\tNNG,*,F,동의대,Compound,*,*,동/NNG/*+의대/NNG/*\n",
      "인공지능학과\tNNP,*,F,인공지능학과,*,*,*,*,*\n",
      "정말\tMAG,문장부사|양상부사,T,정말,*,*,*,*\n",
      "좋\tVA,*,T,좋,*,*,*,*\n",
      "네요\tEC,*,F,네요,*,*,*,*\n",
      "EOS\n",
      "\n"
     ]
    }
   ],
   "source": [
    "import MeCab\n",
    "m=MeCab.Tagger()\n",
    "out = m.parse(\"동의대 인공지능학과 정말 좋네요\")\n",
    "print(out)"
   ]
  },
  {
   "cell_type": "code",
   "execution_count": null,
   "id": "7c77fe2b",
   "metadata": {},
   "outputs": [],
   "source": []
  }
 ],
 "metadata": {
  "kernelspec": {
   "display_name": "mecab",
   "language": "python",
   "name": "mecab"
  },
  "language_info": {
   "codemirror_mode": {
    "name": "ipython",
    "version": 3
   },
   "file_extension": ".py",
   "mimetype": "text/x-python",
   "name": "python",
   "nbconvert_exporter": "python",
   "pygments_lexer": "ipython3",
   "version": "3.8.0"
  }
 },
 "nbformat": 4,
 "nbformat_minor": 5
}
