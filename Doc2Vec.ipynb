{
  "nbformat": 4,
  "nbformat_minor": 0,
  "metadata": {
    "colab": {
      "provenance": [],
      "gpuType": "T4",
      "authorship_tag": "ABX9TyO5quchQQJSlefHO2f+KHRC",
      "include_colab_link": true
    },
    "kernelspec": {
      "name": "python3",
      "display_name": "Python 3"
    },
    "language_info": {
      "name": "python"
    },
    "accelerator": "GPU"
  },
  "cells": [
    {
      "cell_type": "markdown",
      "metadata": {
        "id": "view-in-github",
        "colab_type": "text"
      },
      "source": [
        "<a href=\"https://colab.research.google.com/github/myoungse/konlpy_2024_1/blob/main/Doc2Vec.ipynb\" target=\"_parent\"><img src=\"https://colab.research.google.com/assets/colab-badge.svg\" alt=\"Open In Colab\"/></a>"
      ]
    },
    {
      "cell_type": "code",
      "execution_count": 1,
      "metadata": {
        "colab": {
          "base_uri": "https://localhost:8080/"
        },
        "id": "GxGFobfA9T4J",
        "outputId": "f2e5b0bb-cdb6-47f0-e761-d193c3b183ef"
      },
      "outputs": [
        {
          "output_type": "stream",
          "name": "stdout",
          "text": [
            "Requirement already satisfied: gdown in /usr/local/lib/python3.10/dist-packages (5.1.0)\n",
            "Collecting gdown\n",
            "  Downloading gdown-5.2.0-py3-none-any.whl (18 kB)\n",
            "Requirement already satisfied: beautifulsoup4 in /usr/local/lib/python3.10/dist-packages (from gdown) (4.12.3)\n",
            "Requirement already satisfied: filelock in /usr/local/lib/python3.10/dist-packages (from gdown) (3.14.0)\n",
            "Requirement already satisfied: requests[socks] in /usr/local/lib/python3.10/dist-packages (from gdown) (2.31.0)\n",
            "Requirement already satisfied: tqdm in /usr/local/lib/python3.10/dist-packages (from gdown) (4.66.4)\n",
            "Requirement already satisfied: soupsieve>1.2 in /usr/local/lib/python3.10/dist-packages (from beautifulsoup4->gdown) (2.5)\n",
            "Requirement already satisfied: charset-normalizer<4,>=2 in /usr/local/lib/python3.10/dist-packages (from requests[socks]->gdown) (3.3.2)\n",
            "Requirement already satisfied: idna<4,>=2.5 in /usr/local/lib/python3.10/dist-packages (from requests[socks]->gdown) (3.7)\n",
            "Requirement already satisfied: urllib3<3,>=1.21.1 in /usr/local/lib/python3.10/dist-packages (from requests[socks]->gdown) (2.0.7)\n",
            "Requirement already satisfied: certifi>=2017.4.17 in /usr/local/lib/python3.10/dist-packages (from requests[socks]->gdown) (2024.2.2)\n",
            "Requirement already satisfied: PySocks!=1.5.7,>=1.5.6 in /usr/local/lib/python3.10/dist-packages (from requests[socks]->gdown) (1.7.1)\n",
            "Installing collected packages: gdown\n",
            "  Attempting uninstall: gdown\n",
            "    Found existing installation: gdown 5.1.0\n",
            "    Uninstalling gdown-5.1.0:\n",
            "      Successfully uninstalled gdown-5.1.0\n",
            "Successfully installed gdown-5.2.0\n",
            "Downloading...\n",
            "From (original): https://drive.google.com/uc?id=1XS0UlE8gNNTRjnL6e64sMacOhtVERIqL\n",
            "From (redirected): https://drive.google.com/uc?id=1XS0UlE8gNNTRjnL6e64sMacOhtVERIqL&confirm=t&uuid=681cf55f-8a84-41ca-a636-3830d206e13b\n",
            "To: /content/dart.csv\n",
            "100% 125M/125M [00:02<00:00, 59.2MB/s]\n"
          ]
        }
      ],
      "source": [
        "!pip install --upgrade --no-cache-dir gdown\n",
        "# dart.csv 파일 다운로드\n",
        "!gdown https://drive.google.com/uc?id=1XS0UlE8gNNTRjnL6e64sMacOhtVERIqL"
      ]
    },
    {
      "cell_type": "code",
      "source": [
        "!pip install konlpy\n",
        "!pip install mecab-python\n",
        "!bash <(curl -s https://raw.githubusercontent.com/konlpy/konlpy/master/scripts/mecab.sh)"
      ],
      "metadata": {
        "colab": {
          "base_uri": "https://localhost:8080/"
        },
        "id": "Ddb2NNHm-_WH",
        "outputId": "056a8e48-fa7f-4979-c77e-3d898893e04f"
      },
      "execution_count": 2,
      "outputs": [
        {
          "output_type": "stream",
          "name": "stdout",
          "text": [
            "Collecting konlpy\n",
            "  Downloading konlpy-0.6.0-py2.py3-none-any.whl (19.4 MB)\n",
            "\u001b[2K     \u001b[90m━━━━━━━━━━━━━━━━━━━━━━━━━━━━━━━━━━━━━━━━\u001b[0m \u001b[32m19.4/19.4 MB\u001b[0m \u001b[31m35.6 MB/s\u001b[0m eta \u001b[36m0:00:00\u001b[0m\n",
            "\u001b[?25hCollecting JPype1>=0.7.0 (from konlpy)\n",
            "  Downloading JPype1-1.5.0-cp310-cp310-manylinux_2_17_x86_64.manylinux2014_x86_64.whl (488 kB)\n",
            "\u001b[2K     \u001b[90m━━━━━━━━━━━━━━━━━━━━━━━━━━━━━━━━━━━━━━━━\u001b[0m \u001b[32m488.6/488.6 kB\u001b[0m \u001b[31m37.2 MB/s\u001b[0m eta \u001b[36m0:00:00\u001b[0m\n",
            "\u001b[?25hRequirement already satisfied: lxml>=4.1.0 in /usr/local/lib/python3.10/dist-packages (from konlpy) (4.9.4)\n",
            "Requirement already satisfied: numpy>=1.6 in /usr/local/lib/python3.10/dist-packages (from konlpy) (1.25.2)\n",
            "Requirement already satisfied: packaging in /usr/local/lib/python3.10/dist-packages (from JPype1>=0.7.0->konlpy) (24.0)\n",
            "Installing collected packages: JPype1, konlpy\n",
            "Successfully installed JPype1-1.5.0 konlpy-0.6.0\n",
            "Collecting mecab-python\n",
            "  Downloading mecab-python-1.0.0.tar.gz (1.3 kB)\n",
            "  Preparing metadata (setup.py) ... \u001b[?25l\u001b[?25hdone\n",
            "Collecting mecab-python3 (from mecab-python)\n",
            "  Downloading mecab_python3-1.0.9-cp310-cp310-manylinux_2_17_x86_64.manylinux2014_x86_64.whl (581 kB)\n",
            "\u001b[2K     \u001b[90m━━━━━━━━━━━━━━━━━━━━━━━━━━━━━━━━━━━━━━━━\u001b[0m \u001b[32m581.7/581.7 kB\u001b[0m \u001b[31m13.1 MB/s\u001b[0m eta \u001b[36m0:00:00\u001b[0m\n",
            "\u001b[?25hBuilding wheels for collected packages: mecab-python\n",
            "  Building wheel for mecab-python (setup.py) ... \u001b[?25l\u001b[?25hdone\n",
            "  Created wheel for mecab-python: filename=mecab_python-1.0.0-py3-none-any.whl size=1232 sha256=011e7d54629805a7388193fe0788afa8aa8c911cb0c0e8f76fde65e7f73c4244\n",
            "  Stored in directory: /root/.cache/pip/wheels/ec/41/c8/ce8fb469be2547ce596c4000613806505dc54c296aae45da71\n",
            "Successfully built mecab-python\n",
            "Installing collected packages: mecab-python3, mecab-python\n",
            "Successfully installed mecab-python-1.0.0 mecab-python3-1.0.9\n",
            "Install mecab-ko\n",
            "  % Total    % Received % Xferd  Average Speed   Time    Time     Time  Current\n",
            "                                 Dload  Upload   Total   Spent    Left  Speed\n",
            "  0     0    0     0    0     0      0      0 --:--:--  0:00:01 --:--:--     0\n",
            "100 1381k  100 1381k    0     0   395k      0  0:00:03  0:00:03 --:--:--  896k\n",
            "mecab-0.996-ko-0.9.2/\n",
            "mecab-0.996-ko-0.9.2/example/\n",
            "mecab-0.996-ko-0.9.2/example/example.cpp\n",
            "mecab-0.996-ko-0.9.2/example/example_lattice.cpp\n",
            "mecab-0.996-ko-0.9.2/example/example_lattice.c\n",
            "mecab-0.996-ko-0.9.2/example/example.c\n",
            "mecab-0.996-ko-0.9.2/example/thread_test.cpp\n",
            "mecab-0.996-ko-0.9.2/mecab-config.in\n",
            "mecab-0.996-ko-0.9.2/man/\n",
            "mecab-0.996-ko-0.9.2/man/Makefile.am\n",
            "mecab-0.996-ko-0.9.2/man/mecab.1\n",
            "mecab-0.996-ko-0.9.2/man/Makefile.in\n",
            "mecab-0.996-ko-0.9.2/mecab.iss.in\n",
            "mecab-0.996-ko-0.9.2/config.guess\n",
            "mecab-0.996-ko-0.9.2/README\n",
            "mecab-0.996-ko-0.9.2/COPYING\n",
            "mecab-0.996-ko-0.9.2/CHANGES.md\n",
            "mecab-0.996-ko-0.9.2/README.md\n",
            "mecab-0.996-ko-0.9.2/INSTALL\n",
            "mecab-0.996-ko-0.9.2/config.sub\n",
            "mecab-0.996-ko-0.9.2/configure.in\n",
            "mecab-0.996-ko-0.9.2/swig/\n",
            "mecab-0.996-ko-0.9.2/swig/Makefile\n",
            "mecab-0.996-ko-0.9.2/swig/version.h.in\n",
            "mecab-0.996-ko-0.9.2/swig/version.h\n",
            "mecab-0.996-ko-0.9.2/swig/MeCab.i\n",
            "mecab-0.996-ko-0.9.2/aclocal.m4\n",
            "mecab-0.996-ko-0.9.2/LGPL\n",
            "mecab-0.996-ko-0.9.2/Makefile.am\n",
            "mecab-0.996-ko-0.9.2/configure\n",
            "mecab-0.996-ko-0.9.2/tests/\n",
            "mecab-0.996-ko-0.9.2/tests/autolink/\n",
            "mecab-0.996-ko-0.9.2/tests/autolink/unk.def\n",
            "mecab-0.996-ko-0.9.2/tests/autolink/dicrc\n",
            "mecab-0.996-ko-0.9.2/tests/autolink/dic.csv\n",
            "mecab-0.996-ko-0.9.2/tests/autolink/test\n",
            "mecab-0.996-ko-0.9.2/tests/autolink/char.def\n",
            "mecab-0.996-ko-0.9.2/tests/autolink/matrix.def\n",
            "mecab-0.996-ko-0.9.2/tests/autolink/test.gld\n",
            "mecab-0.996-ko-0.9.2/tests/t9/\n",
            "mecab-0.996-ko-0.9.2/tests/t9/unk.def\n",
            "mecab-0.996-ko-0.9.2/tests/t9/ipadic.pl\n",
            "mecab-0.996-ko-0.9.2/tests/t9/dicrc\n",
            "mecab-0.996-ko-0.9.2/tests/t9/dic.csv\n",
            "mecab-0.996-ko-0.9.2/tests/t9/test\n",
            "mecab-0.996-ko-0.9.2/tests/t9/char.def\n",
            "mecab-0.996-ko-0.9.2/tests/t9/matrix.def\n",
            "mecab-0.996-ko-0.9.2/tests/t9/mkdic.pl\n",
            "mecab-0.996-ko-0.9.2/tests/t9/test.gld\n",
            "mecab-0.996-ko-0.9.2/tests/cost-train/\n",
            "mecab-0.996-ko-0.9.2/tests/cost-train/ipa.train\n",
            "mecab-0.996-ko-0.9.2/tests/cost-train/ipa.test\n",
            "mecab-0.996-ko-0.9.2/tests/cost-train/seed/\n",
            "mecab-0.996-ko-0.9.2/tests/cost-train/seed/rewrite.def\n",
            "mecab-0.996-ko-0.9.2/tests/cost-train/seed/feature.def\n",
            "mecab-0.996-ko-0.9.2/tests/cost-train/seed/unk.def\n",
            "mecab-0.996-ko-0.9.2/tests/cost-train/seed/dicrc\n",
            "mecab-0.996-ko-0.9.2/tests/cost-train/seed/dic.csv\n",
            "mecab-0.996-ko-0.9.2/tests/cost-train/seed/char.def\n",
            "mecab-0.996-ko-0.9.2/tests/cost-train/seed/matrix.def\n",
            "mecab-0.996-ko-0.9.2/tests/run-eval.sh\n",
            "mecab-0.996-ko-0.9.2/tests/run-cost-train.sh\n",
            "mecab-0.996-ko-0.9.2/tests/Makefile.am\n",
            "mecab-0.996-ko-0.9.2/tests/katakana/\n",
            "mecab-0.996-ko-0.9.2/tests/katakana/unk.def\n",
            "mecab-0.996-ko-0.9.2/tests/katakana/dicrc\n",
            "mecab-0.996-ko-0.9.2/tests/katakana/dic.csv\n",
            "mecab-0.996-ko-0.9.2/tests/katakana/test\n",
            "mecab-0.996-ko-0.9.2/tests/katakana/char.def\n",
            "mecab-0.996-ko-0.9.2/tests/katakana/matrix.def\n",
            "mecab-0.996-ko-0.9.2/tests/katakana/test.gld\n",
            "mecab-0.996-ko-0.9.2/tests/eval/\n",
            "mecab-0.996-ko-0.9.2/tests/eval/answer\n",
            "mecab-0.996-ko-0.9.2/tests/eval/system\n",
            "mecab-0.996-ko-0.9.2/tests/eval/test.gld\n",
            "mecab-0.996-ko-0.9.2/tests/shiin/\n",
            "mecab-0.996-ko-0.9.2/tests/shiin/unk.def\n",
            "mecab-0.996-ko-0.9.2/tests/shiin/dicrc\n",
            "mecab-0.996-ko-0.9.2/tests/shiin/dic.csv\n",
            "mecab-0.996-ko-0.9.2/tests/shiin/test\n",
            "mecab-0.996-ko-0.9.2/tests/shiin/char.def\n",
            "mecab-0.996-ko-0.9.2/tests/shiin/matrix.def\n",
            "mecab-0.996-ko-0.9.2/tests/shiin/mkdic.pl\n",
            "mecab-0.996-ko-0.9.2/tests/shiin/test.gld\n",
            "mecab-0.996-ko-0.9.2/tests/latin/\n",
            "mecab-0.996-ko-0.9.2/tests/latin/unk.def\n",
            "mecab-0.996-ko-0.9.2/tests/latin/dicrc\n",
            "mecab-0.996-ko-0.9.2/tests/latin/dic.csv\n",
            "mecab-0.996-ko-0.9.2/tests/latin/test\n",
            "mecab-0.996-ko-0.9.2/tests/latin/char.def\n",
            "mecab-0.996-ko-0.9.2/tests/latin/matrix.def\n",
            "mecab-0.996-ko-0.9.2/tests/latin/test.gld\n",
            "mecab-0.996-ko-0.9.2/tests/chartype/\n",
            "mecab-0.996-ko-0.9.2/tests/chartype/unk.def\n",
            "mecab-0.996-ko-0.9.2/tests/chartype/dicrc\n",
            "mecab-0.996-ko-0.9.2/tests/chartype/dic.csv\n",
            "mecab-0.996-ko-0.9.2/tests/chartype/test\n",
            "mecab-0.996-ko-0.9.2/tests/chartype/char.def\n",
            "mecab-0.996-ko-0.9.2/tests/chartype/matrix.def\n",
            "mecab-0.996-ko-0.9.2/tests/chartype/test.gld\n",
            "mecab-0.996-ko-0.9.2/tests/run-dics.sh\n",
            "mecab-0.996-ko-0.9.2/tests/ngram/\n",
            "mecab-0.996-ko-0.9.2/tests/ngram/unk.def\n",
            "mecab-0.996-ko-0.9.2/tests/ngram/dicrc\n",
            "mecab-0.996-ko-0.9.2/tests/ngram/dic.csv\n",
            "mecab-0.996-ko-0.9.2/tests/ngram/test\n",
            "mecab-0.996-ko-0.9.2/tests/ngram/char.def\n",
            "mecab-0.996-ko-0.9.2/tests/ngram/matrix.def\n",
            "mecab-0.996-ko-0.9.2/tests/ngram/test.gld\n",
            "mecab-0.996-ko-0.9.2/tests/Makefile.in\n",
            "mecab-0.996-ko-0.9.2/ltmain.sh\n",
            "mecab-0.996-ko-0.9.2/config.rpath\n",
            "mecab-0.996-ko-0.9.2/config.h.in\n",
            "mecab-0.996-ko-0.9.2/mecabrc.in\n",
            "mecab-0.996-ko-0.9.2/GPL\n",
            "mecab-0.996-ko-0.9.2/Makefile.train\n",
            "mecab-0.996-ko-0.9.2/ChangeLog\n",
            "mecab-0.996-ko-0.9.2/install-sh\n",
            "mecab-0.996-ko-0.9.2/AUTHORS\n",
            "mecab-0.996-ko-0.9.2/doc/\n",
            "mecab-0.996-ko-0.9.2/doc/bindings.html\n",
            "mecab-0.996-ko-0.9.2/doc/posid.html\n",
            "mecab-0.996-ko-0.9.2/doc/unk.html\n",
            "mecab-0.996-ko-0.9.2/doc/learn.html\n",
            "mecab-0.996-ko-0.9.2/doc/format.html\n",
            "mecab-0.996-ko-0.9.2/doc/libmecab.html\n",
            "mecab-0.996-ko-0.9.2/doc/mecab.css\n",
            "mecab-0.996-ko-0.9.2/doc/feature.html\n",
            "mecab-0.996-ko-0.9.2/doc/Makefile.am\n",
            "mecab-0.996-ko-0.9.2/doc/soft.html\n",
            "mecab-0.996-ko-0.9.2/doc/en/\n",
            "mecab-0.996-ko-0.9.2/doc/en/bindings.html\n",
            "mecab-0.996-ko-0.9.2/doc/dic-detail.html\n",
            "mecab-0.996-ko-0.9.2/doc/flow.png\n",
            "mecab-0.996-ko-0.9.2/doc/mecab.html\n",
            "mecab-0.996-ko-0.9.2/doc/index.html\n",
            "mecab-0.996-ko-0.9.2/doc/result.png\n",
            "mecab-0.996-ko-0.9.2/doc/doxygen/\n",
            "mecab-0.996-ko-0.9.2/doc/doxygen/tab_a.png\n",
            "mecab-0.996-ko-0.9.2/doc/doxygen/globals_eval.html\n",
            "mecab-0.996-ko-0.9.2/doc/doxygen/classMeCab_1_1Tagger-members.html\n",
            "mecab-0.996-ko-0.9.2/doc/doxygen/functions_vars.html\n",
            "mecab-0.996-ko-0.9.2/doc/doxygen/doxygen.css\n",
            "mecab-0.996-ko-0.9.2/doc/doxygen/tab_r.gif\n",
            "mecab-0.996-ko-0.9.2/doc/doxygen/classMeCab_1_1Lattice.html\n",
            "mecab-0.996-ko-0.9.2/doc/doxygen/functions.html\n",
            "mecab-0.996-ko-0.9.2/doc/doxygen/classMeCab_1_1Tagger.html\n",
            "mecab-0.996-ko-0.9.2/doc/doxygen/mecab_8h_source.html\n",
            "mecab-0.996-ko-0.9.2/doc/doxygen/tabs.css\n",
            "mecab-0.996-ko-0.9.2/doc/doxygen/nav_f.png\n",
            "mecab-0.996-ko-0.9.2/doc/doxygen/tab_b.png\n",
            "mecab-0.996-ko-0.9.2/doc/doxygen/globals.html\n",
            "mecab-0.996-ko-0.9.2/doc/doxygen/nav_h.png\n",
            "mecab-0.996-ko-0.9.2/doc/doxygen/tab_h.png\n",
            "mecab-0.996-ko-0.9.2/doc/doxygen/classMeCab_1_1Model.html\n",
            "mecab-0.996-ko-0.9.2/doc/doxygen/globals_func.html\n",
            "mecab-0.996-ko-0.9.2/doc/doxygen/closed.png\n",
            "mecab-0.996-ko-0.9.2/doc/doxygen/tab_l.gif\n",
            "mecab-0.996-ko-0.9.2/doc/doxygen/structmecab__path__t-members.html\n",
            "mecab-0.996-ko-0.9.2/doc/doxygen/functions_func.html\n",
            "mecab-0.996-ko-0.9.2/doc/doxygen/globals_type.html\n",
            "mecab-0.996-ko-0.9.2/doc/doxygen/classMeCab_1_1Lattice-members.html\n",
            "mecab-0.996-ko-0.9.2/doc/doxygen/structmecab__node__t.html\n",
            "mecab-0.996-ko-0.9.2/doc/doxygen/namespacemembers_func.html\n",
            "mecab-0.996-ko-0.9.2/doc/doxygen/tab_s.png\n",
            "mecab-0.996-ko-0.9.2/doc/doxygen/structmecab__dictionary__info__t-members.html\n",
            "mecab-0.996-ko-0.9.2/doc/doxygen/namespacemembers_type.html\n",
            "mecab-0.996-ko-0.9.2/doc/doxygen/classMeCab_1_1Model-members.html\n",
            "mecab-0.996-ko-0.9.2/doc/doxygen/structmecab__dictionary__info__t.html\n",
            "mecab-0.996-ko-0.9.2/doc/doxygen/namespaces.html\n",
            "mecab-0.996-ko-0.9.2/doc/doxygen/namespacemembers.html\n",
            "mecab-0.996-ko-0.9.2/doc/doxygen/namespaceMeCab.html\n",
            "mecab-0.996-ko-0.9.2/doc/doxygen/structmecab__path__t.html\n",
            "mecab-0.996-ko-0.9.2/doc/doxygen/files.html\n",
            "mecab-0.996-ko-0.9.2/doc/doxygen/structmecab__node__t-members.html\n",
            "mecab-0.996-ko-0.9.2/doc/doxygen/index.html\n",
            "mecab-0.996-ko-0.9.2/doc/doxygen/annotated.html\n",
            "mecab-0.996-ko-0.9.2/doc/doxygen/globals_defs.html\n",
            "mecab-0.996-ko-0.9.2/doc/doxygen/classes.html\n",
            "mecab-0.996-ko-0.9.2/doc/doxygen/mecab_8h-source.html\n",
            "mecab-0.996-ko-0.9.2/doc/doxygen/doxygen.png\n",
            "mecab-0.996-ko-0.9.2/doc/doxygen/tab_b.gif\n",
            "mecab-0.996-ko-0.9.2/doc/doxygen/bc_s.png\n",
            "mecab-0.996-ko-0.9.2/doc/doxygen/open.png\n",
            "mecab-0.996-ko-0.9.2/doc/doxygen/mecab_8h.html\n",
            "mecab-0.996-ko-0.9.2/doc/dic.html\n",
            "mecab-0.996-ko-0.9.2/doc/partial.html\n",
            "mecab-0.996-ko-0.9.2/doc/feature.png\n",
            "mecab-0.996-ko-0.9.2/doc/Makefile.in\n",
            "mecab-0.996-ko-0.9.2/missing\n",
            "mecab-0.996-ko-0.9.2/BSD\n",
            "mecab-0.996-ko-0.9.2/NEWS\n",
            "mecab-0.996-ko-0.9.2/mkinstalldirs\n",
            "mecab-0.996-ko-0.9.2/src/\n",
            "mecab-0.996-ko-0.9.2/src/dictionary.h\n",
            "mecab-0.996-ko-0.9.2/src/writer.h\n",
            "mecab-0.996-ko-0.9.2/src/utils.h\n",
            "mecab-0.996-ko-0.9.2/src/string_buffer.cpp\n",
            "mecab-0.996-ko-0.9.2/src/tokenizer.cpp\n",
            "mecab-0.996-ko-0.9.2/src/make.bat\n",
            "mecab-0.996-ko-0.9.2/src/mecab.h\n",
            "mecab-0.996-ko-0.9.2/src/freelist.h\n",
            "mecab-0.996-ko-0.9.2/src/string_buffer.h\n",
            "mecab-0.996-ko-0.9.2/src/learner_tagger.h\n",
            "mecab-0.996-ko-0.9.2/src/dictionary_compiler.cpp\n",
            "mecab-0.996-ko-0.9.2/src/eval.cpp\n",
            "mecab-0.996-ko-0.9.2/src/mecab-system-eval.cpp\n",
            "mecab-0.996-ko-0.9.2/src/darts.h\n",
            "mecab-0.996-ko-0.9.2/src/param.h\n",
            "mecab-0.996-ko-0.9.2/src/char_property.h\n",
            "mecab-0.996-ko-0.9.2/src/learner_node.h\n",
            "mecab-0.996-ko-0.9.2/src/mecab-dict-gen.cpp\n",
            "mecab-0.996-ko-0.9.2/src/mecab-dict-index.cpp\n",
            "mecab-0.996-ko-0.9.2/src/winmain.h\n",
            "mecab-0.996-ko-0.9.2/src/thread.h\n",
            "mecab-0.996-ko-0.9.2/src/context_id.cpp\n",
            "mecab-0.996-ko-0.9.2/src/Makefile.am\n",
            "mecab-0.996-ko-0.9.2/src/connector.h\n",
            "mecab-0.996-ko-0.9.2/src/common.h\n",
            "mecab-0.996-ko-0.9.2/src/dictionary_rewriter.cpp\n",
            "mecab-0.996-ko-0.9.2/src/Makefile.msvc.in\n",
            "mecab-0.996-ko-0.9.2/src/dictionary_rewriter.h\n",
            "mecab-0.996-ko-0.9.2/src/feature_index.h\n",
            "mecab-0.996-ko-0.9.2/src/iconv_utils.cpp\n",
            "mecab-0.996-ko-0.9.2/src/char_property.cpp\n",
            "mecab-0.996-ko-0.9.2/src/mecab-test-gen.cpp\n",
            "mecab-0.996-ko-0.9.2/src/tagger.cpp\n",
            "mecab-0.996-ko-0.9.2/src/mecab-cost-train.cpp\n",
            "mecab-0.996-ko-0.9.2/src/learner.cpp\n",
            "mecab-0.996-ko-0.9.2/src/dictionary.cpp\n",
            "mecab-0.996-ko-0.9.2/src/lbfgs.cpp\n",
            "mecab-0.996-ko-0.9.2/src/ucs.h\n",
            "mecab-0.996-ko-0.9.2/src/writer.cpp\n",
            "mecab-0.996-ko-0.9.2/src/learner_tagger.cpp\n",
            "mecab-0.996-ko-0.9.2/src/lbfgs.h\n",
            "mecab-0.996-ko-0.9.2/src/libmecab.cpp\n",
            "mecab-0.996-ko-0.9.2/src/tokenizer.h\n",
            "mecab-0.996-ko-0.9.2/src/mecab.cpp\n",
            "mecab-0.996-ko-0.9.2/src/utils.cpp\n",
            "mecab-0.996-ko-0.9.2/src/dictionary_generator.cpp\n",
            "mecab-0.996-ko-0.9.2/src/param.cpp\n",
            "mecab-0.996-ko-0.9.2/src/context_id.h\n",
            "mecab-0.996-ko-0.9.2/src/mmap.h\n",
            "mecab-0.996-ko-0.9.2/src/viterbi.h\n",
            "mecab-0.996-ko-0.9.2/src/viterbi.cpp\n",
            "mecab-0.996-ko-0.9.2/src/stream_wrapper.h\n",
            "mecab-0.996-ko-0.9.2/src/feature_index.cpp\n",
            "mecab-0.996-ko-0.9.2/src/nbest_generator.h\n",
            "mecab-0.996-ko-0.9.2/src/ucstable.h\n",
            "mecab-0.996-ko-0.9.2/src/nbest_generator.cpp\n",
            "mecab-0.996-ko-0.9.2/src/iconv_utils.h\n",
            "mecab-0.996-ko-0.9.2/src/connector.cpp\n",
            "mecab-0.996-ko-0.9.2/src/Makefile.in\n",
            "mecab-0.996-ko-0.9.2/src/scoped_ptr.h\n",
            "mecab-0.996-ko-0.9.2/Makefile.in\n",
            "checking for a BSD-compatible install... /usr/bin/install -c\n",
            "checking whether build environment is sane... yes\n",
            "checking for a thread-safe mkdir -p... /usr/bin/mkdir -p\n",
            "checking for gawk... no\n",
            "checking for mawk... mawk\n",
            "checking whether make sets $(MAKE)... yes\n",
            "checking for gcc... gcc\n",
            "checking whether the C compiler works... yes\n",
            "checking for C compiler default output file name... a.out\n",
            "checking for suffix of executables... \n",
            "checking whether we are cross compiling... no\n",
            "checking for suffix of object files... o\n",
            "checking whether we are using the GNU C compiler... yes\n",
            "checking whether gcc accepts -g... yes\n",
            "checking for gcc option to accept ISO C89... none needed\n",
            "checking for style of include used by make... GNU\n",
            "checking dependency style of gcc... none\n",
            "checking for g++... g++\n",
            "checking whether we are using the GNU C++ compiler... yes\n",
            "checking whether g++ accepts -g... yes\n",
            "checking dependency style of g++... none\n",
            "checking how to run the C preprocessor... gcc -E\n",
            "checking for grep that handles long lines and -e... /usr/bin/grep\n",
            "checking for egrep... /usr/bin/grep -E\n",
            "checking whether gcc needs -traditional... no\n",
            "checking whether make sets $(MAKE)... (cached) yes\n",
            "checking build system type... x86_64-unknown-linux-gnu\n",
            "checking host system type... x86_64-unknown-linux-gnu\n",
            "checking how to print strings... printf\n",
            "checking for a sed that does not truncate output... /usr/bin/sed\n",
            "checking for fgrep... /usr/bin/grep -F\n",
            "checking for ld used by gcc... /usr/bin/ld\n",
            "checking if the linker (/usr/bin/ld) is GNU ld... yes\n",
            "checking for BSD- or MS-compatible name lister (nm)... /usr/bin/nm -B\n",
            "checking the name lister (/usr/bin/nm -B) interface... BSD nm\n",
            "checking whether ln -s works... yes\n",
            "checking the maximum length of command line arguments... 1572864\n",
            "checking whether the shell understands some XSI constructs... yes\n",
            "checking whether the shell understands \"+=\"... yes\n",
            "checking how to convert x86_64-unknown-linux-gnu file names to x86_64-unknown-linux-gnu format... func_convert_file_noop\n",
            "checking how to convert x86_64-unknown-linux-gnu file names to toolchain format... func_convert_file_noop\n",
            "checking for /usr/bin/ld option to reload object files... -r\n",
            "checking for objdump... objdump\n",
            "checking how to recognize dependent libraries... pass_all\n",
            "checking for dlltool... dlltool\n",
            "checking how to associate runtime and link libraries... printf %s\\n\n",
            "checking for ar... ar\n",
            "checking for archiver @FILE support... @\n",
            "checking for strip... strip\n",
            "checking for ranlib... ranlib\n",
            "checking command to parse /usr/bin/nm -B output from gcc object... ok\n",
            "checking for sysroot... no\n",
            "checking for mt... no\n",
            "checking if : is a manifest tool... no\n",
            "checking for ANSI C header files... yes\n",
            "checking for sys/types.h... yes\n",
            "checking for sys/stat.h... yes\n",
            "checking for stdlib.h... yes\n",
            "checking for string.h... yes\n",
            "checking for memory.h... yes\n",
            "checking for strings.h... yes\n",
            "checking for inttypes.h... yes\n",
            "checking for stdint.h... yes\n",
            "checking for unistd.h... yes\n",
            "checking for dlfcn.h... yes\n",
            "checking for objdir... .libs\n",
            "checking if gcc supports -fno-rtti -fno-exceptions... no\n",
            "checking for gcc option to produce PIC... -fPIC -DPIC\n",
            "checking if gcc PIC flag -fPIC -DPIC works... yes\n",
            "checking if gcc static flag -static works... yes\n",
            "checking if gcc supports -c -o file.o... yes\n",
            "checking if gcc supports -c -o file.o... (cached) yes\n",
            "checking whether the gcc linker (/usr/bin/ld -m elf_x86_64) supports shared libraries... yes\n",
            "checking whether -lc should be explicitly linked in... no\n",
            "checking dynamic linker characteristics... GNU/Linux ld.so\n",
            "checking how to hardcode library paths into programs... immediate\n",
            "checking whether stripping libraries is possible... yes\n",
            "checking if libtool supports shared libraries... yes\n",
            "checking whether to build shared libraries... yes\n",
            "checking whether to build static libraries... yes\n",
            "checking how to run the C++ preprocessor... g++ -E\n",
            "checking for ld used by g++... /usr/bin/ld -m elf_x86_64\n",
            "checking if the linker (/usr/bin/ld -m elf_x86_64) is GNU ld... yes\n",
            "checking whether the g++ linker (/usr/bin/ld -m elf_x86_64) supports shared libraries... yes\n",
            "checking for g++ option to produce PIC... -fPIC -DPIC\n",
            "checking if g++ PIC flag -fPIC -DPIC works... yes\n",
            "checking if g++ static flag -static works... yes\n",
            "checking if g++ supports -c -o file.o... yes\n",
            "checking if g++ supports -c -o file.o... (cached) yes\n",
            "checking whether the g++ linker (/usr/bin/ld -m elf_x86_64) supports shared libraries... yes\n",
            "checking dynamic linker characteristics... (cached) GNU/Linux ld.so\n",
            "checking how to hardcode library paths into programs... immediate\n",
            "checking for library containing strerror... none required\n",
            "checking whether byte ordering is bigendian... no\n",
            "checking for ld used by GCC... /usr/bin/ld -m elf_x86_64\n",
            "checking if the linker (/usr/bin/ld -m elf_x86_64) is GNU ld... yes\n",
            "checking for shared library run path origin... done\n",
            "checking for iconv... yes\n",
            "checking for working iconv... yes\n",
            "checking for iconv declaration... \n",
            "         extern size_t iconv (iconv_t cd, char * *inbuf, size_t *inbytesleft, char * *outbuf, size_t *outbytesleft);\n",
            "checking for ANSI C header files... (cached) yes\n",
            "checking for an ANSI C-conforming const... yes\n",
            "checking whether byte ordering is bigendian... (cached) no\n",
            "checking for string.h... (cached) yes\n",
            "checking for stdlib.h... (cached) yes\n",
            "checking for unistd.h... (cached) yes\n",
            "checking fcntl.h usability... yes\n",
            "checking fcntl.h presence... yes\n",
            "checking for fcntl.h... yes\n",
            "checking for stdint.h... (cached) yes\n",
            "checking for sys/stat.h... (cached) yes\n",
            "checking sys/mman.h usability... yes\n",
            "checking sys/mman.h presence... yes\n",
            "checking for sys/mman.h... yes\n",
            "checking sys/times.h usability... yes\n",
            "checking sys/times.h presence... yes\n",
            "checking for sys/times.h... yes\n",
            "checking for sys/types.h... (cached) yes\n",
            "checking dirent.h usability... yes\n",
            "checking dirent.h presence... yes\n",
            "checking for dirent.h... yes\n",
            "checking ctype.h usability... yes\n",
            "checking ctype.h presence... yes\n",
            "checking for ctype.h... yes\n",
            "checking for sys/types.h... (cached) yes\n",
            "checking io.h usability... no\n",
            "checking io.h presence... no\n",
            "checking for io.h... no\n",
            "checking windows.h usability... no\n",
            "checking windows.h presence... no\n",
            "checking for windows.h... no\n",
            "checking pthread.h usability... yes\n",
            "checking pthread.h presence... yes\n",
            "checking for pthread.h... yes\n",
            "checking for off_t... yes\n",
            "checking for size_t... yes\n",
            "checking size of char... 1\n",
            "checking size of short... 2\n",
            "checking size of int... 4\n",
            "checking size of long... 8\n",
            "checking size of long long... 8\n",
            "checking size of size_t... 8\n",
            "checking for size_t... (cached) yes\n",
            "checking for unsigned long long int... yes\n",
            "checking for stdlib.h... (cached) yes\n",
            "checking for unistd.h... (cached) yes\n",
            "checking for sys/param.h... yes\n",
            "checking for getpagesize... yes\n",
            "checking for working mmap... yes\n",
            "checking for main in -lstdc++... yes\n",
            "checking for pthread_create in -lpthread... yes\n",
            "checking for pthread_join in -lpthread... yes\n",
            "checking for getenv... yes\n",
            "checking for opendir... yes\n",
            "checking whether make is GNU Make... yes\n",
            "checking if g++ supports stl <vector> (required)... yes\n",
            "checking if g++ supports stl <list> (required)... yes\n",
            "checking if g++ supports stl <map> (required)... yes\n",
            "checking if g++ supports stl <set> (required)... yes\n",
            "checking if g++ supports stl <queue> (required)... yes\n",
            "checking if g++ supports stl <functional> (required)... yes\n",
            "checking if g++ supports stl <algorithm> (required)... yes\n",
            "checking if g++ supports stl <string> (required)... yes\n",
            "checking if g++ supports stl <iostream> (required)... yes\n",
            "checking if g++ supports stl <sstream> (required)... yes\n",
            "checking if g++ supports stl <fstream> (required)... yes\n",
            "checking if g++ supports template <class T> (required)... yes\n",
            "checking if g++ supports const_cast<> (required)... yes\n",
            "checking if g++ supports static_cast<> (required)... yes\n",
            "checking if g++ supports reinterpret_cast<> (required)... yes\n",
            "checking if g++ supports namespaces (required) ... yes\n",
            "checking if g++ supports __thread (optional)... yes\n",
            "checking if g++ supports template <class T> (required)... yes\n",
            "checking if g++ supports GCC native atomic operations (optional)... yes\n",
            "checking if g++ supports OSX native atomic operations (optional)... no\n",
            "checking if g++ environment provides all required features... yes\n",
            "configure: creating ./config.status\n",
            "config.status: creating Makefile\n",
            "config.status: creating src/Makefile\n",
            "config.status: creating src/Makefile.msvc\n",
            "config.status: creating man/Makefile\n",
            "config.status: creating doc/Makefile\n",
            "config.status: creating tests/Makefile\n",
            "config.status: creating swig/version.h\n",
            "config.status: creating mecab.iss\n",
            "config.status: creating mecab-config\n",
            "config.status: creating mecabrc\n",
            "config.status: creating config.h\n",
            "config.status: executing depfiles commands\n",
            "config.status: executing libtool commands\n",
            "config.status: executing default commands\n",
            "make  all-recursive\n",
            "make[1]: Entering directory '/tmp/mecab-0.996-ko-0.9.2'\n",
            "Making all in src\n",
            "make[2]: Entering directory '/tmp/mecab-0.996-ko-0.9.2/src'\n",
            "/bin/bash ../libtool --tag=CXX   --mode=compile g++ -DHAVE_CONFIG_H -I. -I.. -DDIC_VERSION=102   -DMECAB_DEFAULT_RC=\"\\\"/usr/local/etc/mecabrc\\\"\"    -O3 -Wall  -c -o viterbi.lo viterbi.cpp\n",
            "libtool: compile:  g++ -DHAVE_CONFIG_H -I. -I.. -DDIC_VERSION=102 -DMECAB_DEFAULT_RC=\\\"/usr/local/etc/mecabrc\\\" -O3 -Wall -c viterbi.cpp  -fPIC -DPIC -o .libs/viterbi.o\n",
            "In file included from \u001b[01m\u001b[Kdictionary.h:11\u001b[m\u001b[K,\n",
            "                 from \u001b[01m\u001b[Ktokenizer.h:11\u001b[m\u001b[K,\n",
            "                 from \u001b[01m\u001b[Kviterbi.cpp:18\u001b[m\u001b[K:\n",
            "\u001b[01m\u001b[Kdarts.h:\u001b[m\u001b[K In member function ‘\u001b[01m\u001b[KT MeCab::Darts::DoubleArrayImpl<node_type_, node_u_type_, array_type_, array_u_type_, length_func_>::exactMatchSearch(const key_type*, size_t, size_t) const\u001b[m\u001b[K’:\n",
            "\u001b[01m\u001b[Kdarts.h:407:27:\u001b[m\u001b[K \u001b[01;35m\u001b[Kwarning: \u001b[m\u001b[KISO C++17 does not allow ‘\u001b[01m\u001b[Kregister\u001b[m\u001b[K’ storage class specifier [\u001b[01;35m\u001b[K\u001b]8;;https://gcc.gnu.org/onlinedocs/gcc/Warning-Options.html#index-Wregister\u0007-Wregister\u001b]8;;\u0007\u001b[m\u001b[K]\n",
            "  407 |     register array_type_  \u001b[01;35m\u001b[Kb\u001b[m\u001b[K = array_[node_pos].base;\n",
            "      |                           \u001b[01;35m\u001b[K^\u001b[m\u001b[K\n",
            "\u001b[01m\u001b[Kdarts.h:408:28:\u001b[m\u001b[K \u001b[01;35m\u001b[Kwarning: \u001b[m\u001b[KISO C++17 does not allow ‘\u001b[01m\u001b[Kregister\u001b[m\u001b[K’ storage class specifier [\u001b[01;35m\u001b[K\u001b]8;;https://gcc.gnu.org/onlinedocs/gcc/Warning-Options.html#index-Wregister\u0007-Wregister\u001b]8;;\u0007\u001b[m\u001b[K]\n",
            "  408 |     register array_u_type_ \u001b[01;35m\u001b[Kp\u001b[m\u001b[K;\n",
            "      |                            \u001b[01;35m\u001b[K^\u001b[m\u001b[K\n",
            "\u001b[01m\u001b[Kdarts.h:410:26:\u001b[m\u001b[K \u001b[01;35m\u001b[Kwarning: \u001b[m\u001b[KISO C++17 does not allow ‘\u001b[01m\u001b[Kregister\u001b[m\u001b[K’ storage class specifier [\u001b[01;35m\u001b[K\u001b]8;;https://gcc.gnu.org/onlinedocs/gcc/Warning-Options.html#index-Wregister\u0007-Wregister\u001b]8;;\u0007\u001b[m\u001b[K]\n",
            "  410 |     for (register size_t \u001b[01;35m\u001b[Ki\u001b[m\u001b[K = 0; i < len; ++i) {\n",
            "      |                          \u001b[01;35m\u001b[K^\u001b[m\u001b[K\n",
            "\u001b[01m\u001b[Kdarts.h:\u001b[m\u001b[K In member function ‘\u001b[01m\u001b[Ksize_t MeCab::Darts::DoubleArrayImpl<node_type_, node_u_type_, array_type_, array_u_type_, length_func_>::commonPrefixSearch(const key_type*, T*, size_t, size_t, size_t) const\u001b[m\u001b[K’:\n",
            "\u001b[01m\u001b[Kdarts.h:434:27:\u001b[m\u001b[K \u001b[01;35m\u001b[Kwarning: \u001b[m\u001b[KISO C++17 does not allow ‘\u001b[01m\u001b[Kregister\u001b[m\u001b[K’ storage class specifier [\u001b[01;35m\u001b[K\u001b]8;;https://gcc.gnu.org/onlinedocs/gcc/Warning-Options.html#index-Wregister\u0007-Wregister\u001b]8;;\u0007\u001b[m\u001b[K]\n",
            "  434 |     register array_type_  \u001b[01;35m\u001b[Kb\u001b[m\u001b[K   = array_[node_pos].base;\n",
            "      |                           \u001b[01;35m\u001b[K^\u001b[m\u001b[K\n",
            "\u001b[01m\u001b[Kdarts.h:435:25:\u001b[m\u001b[K \u001b[01;35m\u001b[Kwarning: \u001b[m\u001b[KISO C++17 does not allow ‘\u001b[01m\u001b[Kregister\u001b[m\u001b[K’ storage class specifier [\u001b[01;35m\u001b[K\u001b]8;;https://gcc.gnu.org/onlinedocs/gcc/Warning-Options.html#index-Wregister\u0007-Wregister\u001b]8;;\u0007\u001b[m\u001b[K]\n",
            "  435 |     register size_t     \u001b[01;35m\u001b[Knum\u001b[m\u001b[K = 0;\n",
            "      |                         \u001b[01;35m\u001b[K^~~\u001b[m\u001b[K\n",
            "\u001b[01m\u001b[Kdarts.h:436:27:\u001b[m\u001b[K \u001b[01;35m\u001b[Kwarning: \u001b[m\u001b[KISO C++17 does not allow ‘\u001b[01m\u001b[Kregister\u001b[m\u001b[K’ storage class specifier [\u001b[01;35m\u001b[K\u001b]8;;https://gcc.gnu.org/onlinedocs/gcc/Warning-Options.html#index-Wregister\u0007-Wregister\u001b]8;;\u0007\u001b[m\u001b[K]\n",
            "  436 |     register array_type_  \u001b[01;35m\u001b[Kn\u001b[m\u001b[K;\n",
            "      |                           \u001b[01;35m\u001b[K^\u001b[m\u001b[K\n",
            "\u001b[01m\u001b[Kdarts.h:437:28:\u001b[m\u001b[K \u001b[01;35m\u001b[Kwarning: \u001b[m\u001b[KISO C++17 does not allow ‘\u001b[01m\u001b[Kregister\u001b[m\u001b[K’ storage class specifier [\u001b[01;35m\u001b[K\u001b]8;;https://gcc.gnu.org/onlinedocs/gcc/Warning-Options.html#index-Wregister\u0007-Wregister\u001b]8;;\u0007\u001b[m\u001b[K]\n",
            "  437 |     register array_u_type_ \u001b[01;35m\u001b[Kp\u001b[m\u001b[K;\n",
            "      |                            \u001b[01;35m\u001b[K^\u001b[m\u001b[K\n",
            "\u001b[01m\u001b[Kdarts.h:439:26:\u001b[m\u001b[K \u001b[01;35m\u001b[Kwarning: \u001b[m\u001b[KISO C++17 does not allow ‘\u001b[01m\u001b[Kregister\u001b[m\u001b[K’ storage class specifier [\u001b[01;35m\u001b[K\u001b]8;;https://gcc.gnu.org/onlinedocs/gcc/Warning-Options.html#index-Wregister\u0007-Wregister\u001b]8;;\u0007\u001b[m\u001b[K]\n",
            "  439 |     for (register size_t \u001b[01;35m\u001b[Ki\u001b[m\u001b[K = 0; i < len; ++i) {\n",
            "      |                          \u001b[01;35m\u001b[K^\u001b[m\u001b[K\n",
            "\u001b[01m\u001b[Kdarts.h:\u001b[m\u001b[K In member function ‘\u001b[01m\u001b[KMeCab::Darts::DoubleArrayImpl<node_type_, node_u_type_, array_type_, array_u_type_, length_func_>::value_type MeCab::Darts::DoubleArrayImpl<node_type_, node_u_type_, array_type_, array_u_type_, length_func_>::traverse(const key_type*, size_t&, size_t&, size_t) const\u001b[m\u001b[K’:\n",
            "\u001b[01m\u001b[Kdarts.h:472:27:\u001b[m\u001b[K \u001b[01;35m\u001b[Kwarning: \u001b[m\u001b[KISO C++17 does not allow ‘\u001b[01m\u001b[Kregister\u001b[m\u001b[K’ storage class specifier [\u001b[01;35m\u001b[K\u001b]8;;https://gcc.gnu.org/onlinedocs/gcc/Warning-Options.html#index-Wregister\u0007-Wregister\u001b]8;;\u0007\u001b[m\u001b[K]\n",
            "  472 |     register array_type_  \u001b[01;35m\u001b[Kb\u001b[m\u001b[K = array_[node_pos].base;\n",
            "      |                           \u001b[01;35m\u001b[K^\u001b[m\u001b[K\n",
            "\u001b[01m\u001b[Kdarts.h:473:28:\u001b[m\u001b[K \u001b[01;35m\u001b[Kwarning: \u001b[m\u001b[KISO C++17 does not allow ‘\u001b[01m\u001b[Kregister\u001b[m\u001b[K’ storage class specifier [\u001b[01;35m\u001b[K\u001b]8;;https://gcc.gnu.org/onlinedocs/gcc/Warning-Options.html#index-Wregister\u0007-Wregister\u001b]8;;\u0007\u001b[m\u001b[K]\n",
            "  473 |     register array_u_type_ \u001b[01;35m\u001b[Kp\u001b[m\u001b[K;\n",
            "      |                            \u001b[01;35m\u001b[K^\u001b[m\u001b[K\n",
            "In file included from \u001b[01m\u001b[Kdictionary.h:12\u001b[m\u001b[K,\n",
            "                 from \u001b[01m\u001b[Ktokenizer.h:11\u001b[m\u001b[K,\n",
            "                 from \u001b[01m\u001b[Kviterbi.cpp:18\u001b[m\u001b[K:\n",
            "\u001b[01m\u001b[Kchar_property.h:\u001b[m\u001b[K In member function ‘\u001b[01m\u001b[Kconst char* MeCab::CharProperty::seekToOtherType(const char*, const char*, MeCab::CharInfo, MeCab::CharInfo*, size_t*, size_t*) const\u001b[m\u001b[K’:\n",
            "\u001b[01m\u001b[Kchar_property.h:40:26:\u001b[m\u001b[K \u001b[01;35m\u001b[Kwarning: \u001b[m\u001b[KISO C++17 does not allow ‘\u001b[01m\u001b[Kregister\u001b[m\u001b[K’ storage class specifier [\u001b[01;35m\u001b[K\u001b]8;;https://gcc.gnu.org/onlinedocs/gcc/Warning-Options.html#index-Wregister\u0007-Wregister\u001b]8;;\u0007\u001b[m\u001b[K]\n",
            "   40 |     register const char *\u001b[01;35m\u001b[Kp\u001b[m\u001b[K =  begin;\n",
            "      |                          \u001b[01;35m\u001b[K^\u001b[m\u001b[K\n",
            "\u001b[01m\u001b[Kviterbi.cpp:\u001b[m\u001b[K In function ‘\u001b[01m\u001b[Kbool MeCab::{anonymous}::connect(size_t, MeCab::Node*, MeCab::Node**, MeCab::Node**, const MeCab::Connector*, MeCab::Allocator<mecab_node_t, mecab_path_t>*)\u001b[m\u001b[K’:\n",
            "\u001b[01m\u001b[Kviterbi.cpp:321:19:\u001b[m\u001b[K \u001b[01;35m\u001b[Kwarning: \u001b[m\u001b[KISO C++17 does not allow ‘\u001b[01m\u001b[Kregister\u001b[m\u001b[K’ storage class specifier [\u001b[01;35m\u001b[K\u001b]8;;https://gcc.gnu.org/onlinedocs/gcc/Warning-Options.html#index-Wregister\u0007-Wregister\u001b]8;;\u0007\u001b[m\u001b[K]\n",
            "  321 |     register long \u001b[01;35m\u001b[Kbest_cost\u001b[m\u001b[K = 2147483647;\n",
            "      |                   \u001b[01;35m\u001b[K^~~~~~~~~\u001b[m\u001b[K\n",
            "\u001b[01m\u001b[Kviterbi.cpp:324:20:\u001b[m\u001b[K \u001b[01;35m\u001b[Kwarning: \u001b[m\u001b[KISO C++17 does not allow ‘\u001b[01m\u001b[Kregister\u001b[m\u001b[K’ storage class specifier [\u001b[01;35m\u001b[K\u001b]8;;https://gcc.gnu.org/onlinedocs/gcc/Warning-Options.html#index-Wregister\u0007-Wregister\u001b]8;;\u0007\u001b[m\u001b[K]\n",
            "  324 |       register int \u001b[01;35m\u001b[Klcost\u001b[m\u001b[K = connector->cost(lnode, rnode);  // local cost\n",
            "      |                    \u001b[01;35m\u001b[K^~~~~\u001b[m\u001b[K\n",
            "\u001b[01m\u001b[Kviterbi.cpp:325:21:\u001b[m\u001b[K \u001b[01;35m\u001b[Kwarning: \u001b[m\u001b[KISO C++17 does not allow ‘\u001b[01m\u001b[Kregister\u001b[m\u001b[K’ storage class specifier [\u001b[01;35m\u001b[K\u001b]8;;https://gcc.gnu.org/onlinedocs/gcc/Warning-Options.html#index-Wregister\u0007-Wregister\u001b]8;;\u0007\u001b[m\u001b[K]\n",
            "  325 |       register long \u001b[01;35m\u001b[Kcost\u001b[m\u001b[K = lnode->cost + lcost;\n",
            "      |                     \u001b[01;35m\u001b[K^~~~\u001b[m\u001b[K\n",
            "In file included from \u001b[01m\u001b[Kdictionary.h:11\u001b[m\u001b[K,\n",
            "                 from \u001b[01m\u001b[Ktokenizer.h:11\u001b[m\u001b[K,\n",
            "                 from \u001b[01m\u001b[Kviterbi.cpp:18\u001b[m\u001b[K:\n",
            "darts.h: In instantiation of ‘\u001b[01m\u001b[Ksize_t MeCab::Darts::DoubleArrayImpl<node_type_, node_u_type_, array_type_, array_u_type_, length_func_>::commonPrefixSearch(const key_type*, T*, size_t, size_t, size_t) const [with T = MeCab::Darts::DoubleArrayImpl<char, unsigned char, int, unsigned int>::result_pair_type; node_type_ = char; node_u_type_ = unsigned char; array_type_ = int; array_u_type_ = unsigned int; length_func_ = MeCab::Darts::Length<char>; size_t = long unsigned int; MeCab::Darts::DoubleArrayImpl<node_type_, node_u_type_, array_type_, array_u_type_, length_func_>::key_type = char]\u001b[m\u001b[K’:\n",
            "\u001b[01m\u001b[Kdictionary.h:37:34:\u001b[m\u001b[K   required from here\n",
            "\u001b[01m\u001b[Kdarts.h:434:27:\u001b[m\u001b[K \u001b[01;35m\u001b[Kwarning: \u001b[m\u001b[KISO C++17 does not allow ‘\u001b[01m\u001b[Kregister\u001b[m\u001b[K’ storage class specifier [\u001b[01;35m\u001b[K\u001b]8;;https://gcc.gnu.org/onlinedocs/gcc/Warning-Options.html#index-Wregister\u0007-Wregister\u001b]8;;\u0007\u001b[m\u001b[K]\n",
            "  434 |     register array_type_  \u001b[01;35m\u001b[Kb\u001b[m\u001b[K   = array_[node_pos].base;\n",
            "      |                           \u001b[01;35m\u001b[K^\u001b[m\u001b[K\n",
            "\u001b[01m\u001b[Kdarts.h:435:25:\u001b[m\u001b[K \u001b[01;35m\u001b[Kwarning: \u001b[m\u001b[KISO C++17 does not allow ‘\u001b[01m\u001b[Kregister\u001b[m\u001b[K’ storage class specifier [\u001b[01;35m\u001b[K\u001b]8;;https://gcc.gnu.org/onlinedocs/gcc/Warning-Options.html#index-Wregister\u0007-Wregister\u001b]8;;\u0007\u001b[m\u001b[K]\n",
            "  435 |     register size_t     \u001b[01;35m\u001b[Knum\u001b[m\u001b[K = 0;\n",
            "      |                         \u001b[01;35m\u001b[K^~~\u001b[m\u001b[K\n",
            "\u001b[01m\u001b[Kdarts.h:436:27:\u001b[m\u001b[K \u001b[01;35m\u001b[Kwarning: \u001b[m\u001b[KISO C++17 does not allow ‘\u001b[01m\u001b[Kregister\u001b[m\u001b[K’ storage class specifier [\u001b[01;35m\u001b[K\u001b]8;;https://gcc.gnu.org/onlinedocs/gcc/Warning-Options.html#index-Wregister\u0007-Wregister\u001b]8;;\u0007\u001b[m\u001b[K]\n",
            "  436 |     register array_type_  \u001b[01;35m\u001b[Kn\u001b[m\u001b[K;\n",
            "      |                           \u001b[01;35m\u001b[K^\u001b[m\u001b[K\n",
            "\u001b[01m\u001b[Kdarts.h:437:28:\u001b[m\u001b[K \u001b[01;35m\u001b[Kwarning: \u001b[m\u001b[KISO C++17 does not allow ‘\u001b[01m\u001b[Kregister\u001b[m\u001b[K’ storage class specifier [\u001b[01;35m\u001b[K\u001b]8;;https://gcc.gnu.org/onlinedocs/gcc/Warning-Options.html#index-Wregister\u0007-Wregister\u001b]8;;\u0007\u001b[m\u001b[K]\n",
            "  437 |     register array_u_type_ \u001b[01;35m\u001b[Kp\u001b[m\u001b[K;\n",
            "      |                            \u001b[01;35m\u001b[K^\u001b[m\u001b[K\n",
            "\u001b[01m\u001b[Kdarts.h:439:26:\u001b[m\u001b[K \u001b[01;35m\u001b[Kwarning: \u001b[m\u001b[KISO C++17 does not allow ‘\u001b[01m\u001b[Kregister\u001b[m\u001b[K’ storage class specifier [\u001b[01;35m\u001b[K\u001b]8;;https://gcc.gnu.org/onlinedocs/gcc/Warning-Options.html#index-Wregister\u0007-Wregister\u001b]8;;\u0007\u001b[m\u001b[K]\n",
            "  439 |     for (register size_t \u001b[01;35m\u001b[Ki\u001b[m\u001b[K = 0; i < len; ++i) {\n",
            "      |                          \u001b[01;35m\u001b[K^\u001b[m\u001b[K\n",
            "darts.h: In instantiation of ‘\u001b[01m\u001b[KT MeCab::Darts::DoubleArrayImpl<node_type_, node_u_type_, array_type_, array_u_type_, length_func_>::exactMatchSearch(const key_type*, size_t, size_t) const [with T = MeCab::Darts::DoubleArrayImpl<char, unsigned char, int, unsigned int>::result_pair_type; node_type_ = char; node_u_type_ = unsigned char; array_type_ = int; array_u_type_ = unsigned int; length_func_ = MeCab::Darts::Length<char>; MeCab::Darts::DoubleArrayImpl<node_type_, node_u_type_, array_type_, array_u_type_, length_func_>::key_type = char; size_t = long unsigned int]\u001b[m\u001b[K’:\n",
            "\u001b[01m\u001b[Kdarts.h:394:33:\u001b[m\u001b[K   required from ‘\u001b[01m\u001b[Kvoid MeCab::Darts::DoubleArrayImpl<node_type_, node_u_type_, array_type_, array_u_type_, length_func_>::exactMatchSearch(const key_type*, T&, size_t, size_t) const [with T = MeCab::Darts::DoubleArrayImpl<char, unsigned char, int, unsigned int>::result_pair_type; node_type_ = char; node_u_type_ = unsigned char; array_type_ = int; array_u_type_ = unsigned int; length_func_ = MeCab::Darts::Length<char>; MeCab::Darts::DoubleArrayImpl<node_type_, node_u_type_, array_type_, array_u_type_, length_func_>::key_type = char; size_t = long unsigned int]\u001b[m\u001b[K’\n",
            "\u001b[01m\u001b[Kdictionary.h:42:25:\u001b[m\u001b[K   required from here\n",
            "\u001b[01m\u001b[Kdarts.h:407:27:\u001b[m\u001b[K \u001b[01;35m\u001b[Kwarning: \u001b[m\u001b[KISO C++17 does not allow ‘\u001b[01m\u001b[Kregister\u001b[m\u001b[K’ storage class specifier [\u001b[01;35m\u001b[K\u001b]8;;https://gcc.gnu.org/onlinedocs/gcc/Warning-Options.html#index-Wregister\u0007-Wregister\u001b]8;;\u0007\u001b[m\u001b[K]\n",
            "  407 |     register array_type_  \u001b[01;35m\u001b[Kb\u001b[m\u001b[K = array_[node_pos].base;\n",
            "      |                           \u001b[01;35m\u001b[K^\u001b[m\u001b[K\n",
            "\u001b[01m\u001b[Kdarts.h:408:28:\u001b[m\u001b[K \u001b[01;35m\u001b[Kwarning: \u001b[m\u001b[KISO C++17 does not allow ‘\u001b[01m\u001b[Kregister\u001b[m\u001b[K’ storage class specifier [\u001b[01;35m\u001b[K\u001b]8;;https://gcc.gnu.org/onlinedocs/gcc/Warning-Options.html#index-Wregister\u0007-Wregister\u001b]8;;\u0007\u001b[m\u001b[K]\n",
            "  408 |     register array_u_type_ \u001b[01;35m\u001b[Kp\u001b[m\u001b[K;\n",
            "      |                            \u001b[01;35m\u001b[K^\u001b[m\u001b[K\n",
            "\u001b[01m\u001b[Kdarts.h:410:26:\u001b[m\u001b[K \u001b[01;35m\u001b[Kwarning: \u001b[m\u001b[KISO C++17 does not allow ‘\u001b[01m\u001b[Kregister\u001b[m\u001b[K’ storage class specifier [\u001b[01;35m\u001b[K\u001b]8;;https://gcc.gnu.org/onlinedocs/gcc/Warning-Options.html#index-Wregister\u0007-Wregister\u001b]8;;\u0007\u001b[m\u001b[K]\n",
            "  410 |     for (register size_t \u001b[01;35m\u001b[Ki\u001b[m\u001b[K = 0; i < len; ++i) {\n",
            "      |                          \u001b[01;35m\u001b[K^\u001b[m\u001b[K\n",
            "viterbi.cpp: In instantiation of ‘\u001b[01m\u001b[Kbool MeCab::{anonymous}::connect(size_t, MeCab::Node*, MeCab::Node**, MeCab::Node**, const MeCab::Connector*, MeCab::Allocator<mecab_node_t, mecab_path_t>*) [with bool IsAllPath = true; size_t = long unsigned int; MeCab::Node = mecab_node_t]\u001b[m\u001b[K’:\n",
            "\u001b[01m\u001b[Kviterbi.cpp:379:30:\u001b[m\u001b[K   required from ‘\u001b[01m\u001b[Kbool MeCab::Viterbi::viterbi(MeCab::Lattice*) const [with bool IsAllPath = true; bool IsPartial = true]\u001b[m\u001b[K’\n",
            "\u001b[01m\u001b[Kviterbi.cpp:84:35:\u001b[m\u001b[K   required from here\n",
            "\u001b[01m\u001b[Kviterbi.cpp:321:19:\u001b[m\u001b[K \u001b[01;35m\u001b[Kwarning: \u001b[m\u001b[KISO C++17 does not allow ‘\u001b[01m\u001b[Kregister\u001b[m\u001b[K’ storage class specifier [\u001b[01;35m\u001b[K\u001b]8;;https://gcc.gnu.org/onlinedocs/gcc/Warning-Options.html#index-Wregister\u0007-Wregister\u001b]8;;\u0007\u001b[m\u001b[K]\n",
            "  321 |     register long \u001b[01;35m\u001b[Kbest_cost\u001b[m\u001b[K = 2147483647;\n",
            "      |                   \u001b[01;35m\u001b[K^~~~~~~~~\u001b[m\u001b[K\n",
            "\u001b[01m\u001b[Kviterbi.cpp:324:20:\u001b[m\u001b[K \u001b[01;35m\u001b[Kwarning: \u001b[m\u001b[KISO C++17 does not allow ‘\u001b[01m\u001b[Kregister\u001b[m\u001b[K’ storage class specifier [\u001b[01;35m\u001b[K\u001b]8;;https://gcc.gnu.org/onlinedocs/gcc/Warning-Options.html#index-Wregister\u0007-Wregister\u001b]8;;\u0007\u001b[m\u001b[K]\n",
            "  324 |       register int \u001b[01;35m\u001b[Klcost\u001b[m\u001b[K = connector->cost(lnode, rnode);  // local cost\n",
            "      |                    \u001b[01;35m\u001b[K^~~~~\u001b[m\u001b[K\n",
            "\u001b[01m\u001b[Kviterbi.cpp:325:21:\u001b[m\u001b[K \u001b[01;35m\u001b[Kwarning: \u001b[m\u001b[KISO C++17 does not allow ‘\u001b[01m\u001b[Kregister\u001b[m\u001b[K’ storage class specifier [\u001b[01;35m\u001b[K\u001b]8;;https://gcc.gnu.org/onlinedocs/gcc/Warning-Options.html#index-Wregister\u0007-Wregister\u001b]8;;\u0007\u001b[m\u001b[K]\n",
            "  325 |       register long \u001b[01;35m\u001b[Kcost\u001b[m\u001b[K = lnode->cost + lcost;\n",
            "      |                     \u001b[01;35m\u001b[K^~~~\u001b[m\u001b[K\n",
            "viterbi.cpp: In instantiation of ‘\u001b[01m\u001b[Kbool MeCab::{anonymous}::connect(size_t, MeCab::Node*, MeCab::Node**, MeCab::Node**, const MeCab::Connector*, MeCab::Allocator<mecab_node_t, mecab_path_t>*) [with bool IsAllPath = false; size_t = long unsigned int; MeCab::Node = mecab_node_t]\u001b[m\u001b[K’:\n",
            "\u001b[01m\u001b[Kviterbi.cpp:379:30:\u001b[m\u001b[K   required from ‘\u001b[01m\u001b[Kbool MeCab::Viterbi::viterbi(MeCab::Lattice*) const [with bool IsAllPath = false; bool IsPartial = true]\u001b[m\u001b[K’\n",
            "\u001b[01m\u001b[Kviterbi.cpp:91:36:\u001b[m\u001b[K   required from here\n",
            "\u001b[01m\u001b[Kviterbi.cpp:321:19:\u001b[m\u001b[K \u001b[01;35m\u001b[Kwarning: \u001b[m\u001b[KISO C++17 does not allow ‘\u001b[01m\u001b[Kregister\u001b[m\u001b[K’ storage class specifier [\u001b[01;35m\u001b[K\u001b]8;;https://gcc.gnu.org/onlinedocs/gcc/Warning-Options.html#index-Wregister\u0007-Wregister\u001b]8;;\u0007\u001b[m\u001b[K]\n",
            "  321 |     register long \u001b[01;35m\u001b[Kbest_cost\u001b[m\u001b[K = 2147483647;\n",
            "      |                   \u001b[01;35m\u001b[K^~~~~~~~~\u001b[m\u001b[K\n",
            "\u001b[01m\u001b[Kviterbi.cpp:324:20:\u001b[m\u001b[K \u001b[01;35m\u001b[Kwarning: \u001b[m\u001b[KISO C++17 does not allow ‘\u001b[01m\u001b[Kregister\u001b[m\u001b[K’ storage class specifier [\u001b[01;35m\u001b[K\u001b]8;;https://gcc.gnu.org/onlinedocs/gcc/Warning-Options.html#index-Wregister\u0007-Wregister\u001b]8;;\u0007\u001b[m\u001b[K]\n",
            "  324 |       register int \u001b[01;35m\u001b[Klcost\u001b[m\u001b[K = connector->cost(lnode, rnode);  // local cost\n",
            "      |                    \u001b[01;35m\u001b[K^~~~~\u001b[m\u001b[K\n",
            "\u001b[01m\u001b[Kviterbi.cpp:325:21:\u001b[m\u001b[K \u001b[01;35m\u001b[Kwarning: \u001b[m\u001b[KISO C++17 does not allow ‘\u001b[01m\u001b[Kregister\u001b[m\u001b[K’ storage class specifier [\u001b[01;35m\u001b[K\u001b]8;;https://gcc.gnu.org/onlinedocs/gcc/Warning-Options.html#index-Wregister\u0007-Wregister\u001b]8;;\u0007\u001b[m\u001b[K]\n",
            "  325 |       register long \u001b[01;35m\u001b[Kcost\u001b[m\u001b[K = lnode->cost + lcost;\n",
            "      |                     \u001b[01;35m\u001b[K^~~~\u001b[m\u001b[K\n",
            "In file included from \u001b[01m\u001b[Kviterbi.cpp:14\u001b[m\u001b[K:\n",
            "\u001b[01m\u001b[Kparam.h:\u001b[m\u001b[K At global scope:\n",
            "\u001b[01m\u001b[Kparam.h:30:13:\u001b[m\u001b[K \u001b[01;35m\u001b[Kwarning: \u001b[m\u001b[K‘\u001b[01m\u001b[KTarget {anonymous}::lexical_cast(Source) [with Target = std::__cxx11::basic_string<char>; Source = std::__cxx11::basic_string<char>]\u001b[m\u001b[K’ defined but not used [\u001b[01;35m\u001b[K\u001b]8;;https://gcc.gnu.org/onlinedocs/gcc/Warning-Options.html#index-Wunused-function\u0007-Wunused-function\u001b]8;;\u0007\u001b[m\u001b[K]\n",
            "   30 | std::string \u001b[01;35m\u001b[Klexical_cast<std::string, std::string>\u001b[m\u001b[K(std::string arg) {\n",
            "      |             \u001b[01;35m\u001b[K^~~~~~~~~~~~~~~~~~~~~~~~~~~~~~~~~~~~~~\u001b[m\u001b[K\n",
            "libtool: compile:  g++ -DHAVE_CONFIG_H -I. -I.. -DDIC_VERSION=102 -DMECAB_DEFAULT_RC=\\\"/usr/local/etc/mecabrc\\\" -O3 -Wall -c viterbi.cpp -o viterbi.o >/dev/null 2>&1\n",
            "/bin/bash ../libtool --tag=CXX   --mode=compile g++ -DHAVE_CONFIG_H -I. -I.. -DDIC_VERSION=102   -DMECAB_DEFAULT_RC=\"\\\"/usr/local/etc/mecabrc\\\"\"    -O3 -Wall  -c -o tagger.lo tagger.cpp\n",
            "libtool: compile:  g++ -DHAVE_CONFIG_H -I. -I.. -DDIC_VERSION=102 -DMECAB_DEFAULT_RC=\\\"/usr/local/etc/mecabrc\\\" -O3 -Wall -c tagger.cpp  -fPIC -DPIC -o .libs/tagger.o\n",
            "In file included from \u001b[01m\u001b[Kdictionary.h:11\u001b[m\u001b[K,\n",
            "                 from \u001b[01m\u001b[Ktokenizer.h:11\u001b[m\u001b[K,\n",
            "                 from \u001b[01m\u001b[Ktagger.cpp:18\u001b[m\u001b[K:\n",
            "\u001b[01m\u001b[Kdarts.h:\u001b[m\u001b[K In member function ‘\u001b[01m\u001b[KT MeCab::Darts::DoubleArrayImpl<node_type_, node_u_type_, array_type_, array_u_type_, length_func_>::exactMatchSearch(const key_type*, size_t, size_t) const\u001b[m\u001b[K’:\n",
            "\u001b[01m\u001b[Kdarts.h:407:27:\u001b[m\u001b[K \u001b[01;35m\u001b[Kwarning: \u001b[m\u001b[KISO C++17 does not allow ‘\u001b[01m\u001b[Kregister\u001b[m\u001b[K’ storage class specifier [\u001b[01;35m\u001b[K\u001b]8;;https://gcc.gnu.org/onlinedocs/gcc/Warning-Options.html#index-Wregister\u0007-Wregister\u001b]8;;\u0007\u001b[m\u001b[K]\n",
            "  407 |     register array_type_  \u001b[01;35m\u001b[Kb\u001b[m\u001b[K = array_[node_pos].base;\n",
            "      |                           \u001b[01;35m\u001b[K^\u001b[m\u001b[K\n",
            "\u001b[01m\u001b[Kdarts.h:408:28:\u001b[m\u001b[K \u001b[01;35m\u001b[Kwarning: \u001b[m\u001b[KISO C++17 does not allow ‘\u001b[01m\u001b[Kregister\u001b[m\u001b[K’ storage class specifier [\u001b[01;35m\u001b[K\u001b]8;;https://gcc.gnu.org/onlinedocs/gcc/Warning-Options.html#index-Wregister\u0007-Wregister\u001b]8;;\u0007\u001b[m\u001b[K]\n",
            "  408 |     register array_u_type_ \u001b[01;35m\u001b[Kp\u001b[m\u001b[K;\n",
            "      |                            \u001b[01;35m\u001b[K^\u001b[m\u001b[K\n",
            "\u001b[01m\u001b[Kdarts.h:410:26:\u001b[m\u001b[K \u001b[01;35m\u001b[Kwarning: \u001b[m\u001b[KISO C++17 does not allow ‘\u001b[01m\u001b[Kregister\u001b[m\u001b[K’ storage class specifier [\u001b[01;35m\u001b[K\u001b]8;;https://gcc.gnu.org/onlinedocs/gcc/Warning-Options.html#index-Wregister\u0007-Wregister\u001b]8;;\u0007\u001b[m\u001b[K]\n",
            "  410 |     for (register size_t \u001b[01;35m\u001b[Ki\u001b[m\u001b[K = 0; i < len; ++i) {\n",
            "      |                          \u001b[01;35m\u001b[K^\u001b[m\u001b[K\n",
            "\u001b[01m\u001b[Kdarts.h:\u001b[m\u001b[K In member function ‘\u001b[01m\u001b[Ksize_t MeCab::Darts::DoubleArrayImpl<node_type_, node_u_type_, array_type_, array_u_type_, length_func_>::commonPrefixSearch(const key_type*, T*, size_t, size_t, size_t) const\u001b[m\u001b[K’:\n",
            "\u001b[01m\u001b[Kdarts.h:434:27:\u001b[m\u001b[K \u001b[01;35m\u001b[Kwarning: \u001b[m\u001b[KISO C++17 does not allow ‘\u001b[01m\u001b[Kregister\u001b[m\u001b[K’ storage class specifier [\u001b[01;35m\u001b[K\u001b]8;;https://gcc.gnu.org/onlinedocs/gcc/Warning-Options.html#index-Wregister\u0007-Wregister\u001b]8;;\u0007\u001b[m\u001b[K]\n",
            "  434 |     register array_type_  \u001b[01;35m\u001b[Kb\u001b[m\u001b[K   = array_[node_pos].base;\n",
            "      |                           \u001b[01;35m\u001b[K^\u001b[m\u001b[K\n",
            "\u001b[01m\u001b[Kdarts.h:435:25:\u001b[m\u001b[K \u001b[01;35m\u001b[Kwarning: \u001b[m\u001b[KISO C++17 does not allow ‘\u001b[01m\u001b[Kregister\u001b[m\u001b[K’ storage class specifier [\u001b[01;35m\u001b[K\u001b]8;;https://gcc.gnu.org/onlinedocs/gcc/Warning-Options.html#index-Wregister\u0007-Wregister\u001b]8;;\u0007\u001b[m\u001b[K]\n",
            "  435 |     register size_t     \u001b[01;35m\u001b[Knum\u001b[m\u001b[K = 0;\n",
            "      |                         \u001b[01;35m\u001b[K^~~\u001b[m\u001b[K\n",
            "\u001b[01m\u001b[Kdarts.h:436:27:\u001b[m\u001b[K \u001b[01;35m\u001b[Kwarning: \u001b[m\u001b[KISO C++17 does not allow ‘\u001b[01m\u001b[Kregister\u001b[m\u001b[K’ storage class specifier [\u001b[01;35m\u001b[K\u001b]8;;https://gcc.gnu.org/onlinedocs/gcc/Warning-Options.html#index-Wregister\u0007-Wregister\u001b]8;;\u0007\u001b[m\u001b[K]\n",
            "  436 |     register array_type_  \u001b[01;35m\u001b[Kn\u001b[m\u001b[K;\n",
            "      |                           \u001b[01;35m\u001b[K^\u001b[m\u001b[K\n",
            "\u001b[01m\u001b[Kdarts.h:437:28:\u001b[m\u001b[K \u001b[01;35m\u001b[Kwarning: \u001b[m\u001b[KISO C++17 does not allow ‘\u001b[01m\u001b[Kregister\u001b[m\u001b[K’ storage class specifier [\u001b[01;35m\u001b[K\u001b]8;;https://gcc.gnu.org/onlinedocs/gcc/Warning-Options.html#index-Wregister\u0007-Wregister\u001b]8;;\u0007\u001b[m\u001b[K]\n",
            "  437 |     register array_u_type_ \u001b[01;35m\u001b[Kp\u001b[m\u001b[K;\n",
            "      |                            \u001b[01;35m\u001b[K^\u001b[m\u001b[K\n",
            "\u001b[01m\u001b[Kdarts.h:439:26:\u001b[m\u001b[K \u001b[01;35m\u001b[Kwarning: \u001b[m\u001b[KISO C++17 does not allow ‘\u001b[01m\u001b[Kregister\u001b[m\u001b[K’ storage class specifier [\u001b[01;35m\u001b[K\u001b]8;;https://gcc.gnu.org/onlinedocs/gcc/Warning-Options.html#index-Wregister\u0007-Wregister\u001b]8;;\u0007\u001b[m\u001b[K]\n",
            "  439 |     for (register size_t \u001b[01;35m\u001b[Ki\u001b[m\u001b[K = 0; i < len; ++i) {\n",
            "      |                          \u001b[01;35m\u001b[K^\u001b[m\u001b[K\n",
            "\u001b[01m\u001b[Kdarts.h:\u001b[m\u001b[K In member function ‘\u001b[01m\u001b[KMeCab::Darts::DoubleArrayImpl<node_type_, node_u_type_, array_type_, array_u_type_, length_func_>::value_type MeCab::Darts::DoubleArrayImpl<node_type_, node_u_type_, array_type_, array_u_type_, length_func_>::traverse(const key_type*, size_t&, size_t&, size_t) const\u001b[m\u001b[K’:\n",
            "\u001b[01m\u001b[Kdarts.h:472:27:\u001b[m\u001b[K \u001b[01;35m\u001b[Kwarning: \u001b[m\u001b[KISO C++17 does not allow ‘\u001b[01m\u001b[Kregister\u001b[m\u001b[K’ storage class specifier [\u001b[01;35m\u001b[K\u001b]8;;https://gcc.gnu.org/onlinedocs/gcc/Warning-Options.html#index-Wregister\u0007-Wregister\u001b]8;;\u0007\u001b[m\u001b[K]\n",
            "  472 |     register array_type_  \u001b[01;35m\u001b[Kb\u001b[m\u001b[K = array_[node_pos].base;\n",
            "      |                           \u001b[01;35m\u001b[K^\u001b[m\u001b[K\n",
            "\u001b[01m\u001b[Kdarts.h:473:28:\u001b[m\u001b[K \u001b[01;35m\u001b[Kwarning: \u001b[m\u001b[KISO C++17 does not allow ‘\u001b[01m\u001b[Kregister\u001b[m\u001b[K’ storage class specifier [\u001b[01;35m\u001b[K\u001b]8;;https://gcc.gnu.org/onlinedocs/gcc/Warning-Options.html#index-Wregister\u0007-Wregister\u001b]8;;\u0007\u001b[m\u001b[K]\n",
            "  473 |     register array_u_type_ \u001b[01;35m\u001b[Kp\u001b[m\u001b[K;\n",
            "      |                            \u001b[01;35m\u001b[K^\u001b[m\u001b[K\n",
            "In file included from \u001b[01m\u001b[Kdictionary.h:12\u001b[m\u001b[K,\n",
            "                 from \u001b[01m\u001b[Ktokenizer.h:11\u001b[m\u001b[K,\n",
            "                 from \u001b[01m\u001b[Ktagger.cpp:18\u001b[m\u001b[K:\n",
            "\u001b[01m\u001b[Kchar_property.h:\u001b[m\u001b[K In member function ‘\u001b[01m\u001b[Kconst char* MeCab::CharProperty::seekToOtherType(const char*, const char*, MeCab::CharInfo, MeCab::CharInfo*, size_t*, size_t*) const\u001b[m\u001b[K’:\n",
            "\u001b[01m\u001b[Kchar_property.h:40:26:\u001b[m\u001b[K \u001b[01;35m\u001b[Kwarning: \u001b[m\u001b[KISO C++17 does not allow ‘\u001b[01m\u001b[Kregister\u001b[m\u001b[K’ storage class specifier [\u001b[01;35m\u001b[K\u001b]8;;https://gcc.gnu.org/onlinedocs/gcc/Warning-Options.html#index-Wregister\u0007-Wregister\u001b]8;;\u0007\u001b[m\u001b[K]\n",
            "   40 |     register const char *\u001b[01;35m\u001b[Kp\u001b[m\u001b[K =  begin;\n",
            "      |                          \u001b[01;35m\u001b[K^\u001b[m\u001b[K\n",
            "In file included from \u001b[01m\u001b[Kdictionary.h:11\u001b[m\u001b[K,\n",
            "                 from \u001b[01m\u001b[Ktokenizer.h:11\u001b[m\u001b[K,\n",
            "                 from \u001b[01m\u001b[Ktagger.cpp:18\u001b[m\u001b[K:\n",
            "darts.h: In instantiation of ‘\u001b[01m\u001b[Ksize_t MeCab::Darts::DoubleArrayImpl<node_type_, node_u_type_, array_type_, array_u_type_, length_func_>::commonPrefixSearch(const key_type*, T*, size_t, size_t, size_t) const [with T = MeCab::Darts::DoubleArrayImpl<char, unsigned char, int, unsigned int>::result_pair_type; node_type_ = char; node_u_type_ = unsigned char; array_type_ = int; array_u_type_ = unsigned int; length_func_ = MeCab::Darts::Length<char>; size_t = long unsigned int; MeCab::Darts::DoubleArrayImpl<node_type_, node_u_type_, array_type_, array_u_type_, length_func_>::key_type = char]\u001b[m\u001b[K’:\n",
            "\u001b[01m\u001b[Kdictionary.h:37:34:\u001b[m\u001b[K   required from here\n",
            "\u001b[01m\u001b[Kdarts.h:434:27:\u001b[m\u001b[K \u001b[01;35m\u001b[Kwarning: \u001b[m\u001b[KISO C++17 does not allow ‘\u001b[01m\u001b[Kregister\u001b[m\u001b[K’ storage class specifier [\u001b[01;35m\u001b[K\u001b]8;;https://gcc.gnu.org/onlinedocs/gcc/Warning-Options.html#index-Wregister\u0007-Wregister\u001b]8;;\u0007\u001b[m\u001b[K]\n",
            "  434 |     register array_type_  \u001b[01;35m\u001b[Kb\u001b[m\u001b[K   = array_[node_pos].base;\n",
            "      |                           \u001b[01;35m\u001b[K^\u001b[m\u001b[K\n",
            "\u001b[01m\u001b[Kdarts.h:435:25:\u001b[m\u001b[K \u001b[01;35m\u001b[Kwarning: \u001b[m\u001b[KISO C++17 does not allow ‘\u001b[01m\u001b[Kregister\u001b[m\u001b[K’ storage class specifier [\u001b[01;35m\u001b[K\u001b]8;;https://gcc.gnu.org/onlinedocs/gcc/Warning-Options.html#index-Wregister\u0007-Wregister\u001b]8;;\u0007\u001b[m\u001b[K]\n",
            "  435 |     register size_t     \u001b[01;35m\u001b[Knum\u001b[m\u001b[K = 0;\n",
            "      |                         \u001b[01;35m\u001b[K^~~\u001b[m\u001b[K\n",
            "\u001b[01m\u001b[Kdarts.h:436:27:\u001b[m\u001b[K \u001b[01;35m\u001b[Kwarning: \u001b[m\u001b[KISO C++17 does not allow ‘\u001b[01m\u001b[Kregister\u001b[m\u001b[K’ storage class specifier [\u001b[01;35m\u001b[K\u001b]8;;https://gcc.gnu.org/onlinedocs/gcc/Warning-Options.html#index-Wregister\u0007-Wregister\u001b]8;;\u0007\u001b[m\u001b[K]\n",
            "  436 |     register array_type_  \u001b[01;35m\u001b[Kn\u001b[m\u001b[K;\n",
            "      |                           \u001b[01;35m\u001b[K^\u001b[m\u001b[K\n",
            "\u001b[01m\u001b[Kdarts.h:437:28:\u001b[m\u001b[K \u001b[01;35m\u001b[Kwarning: \u001b[m\u001b[KISO C++17 does not allow ‘\u001b[01m\u001b[Kregister\u001b[m\u001b[K’ storage class specifier [\u001b[01;35m\u001b[K\u001b]8;;https://gcc.gnu.org/onlinedocs/gcc/Warning-Options.html#index-Wregister\u0007-Wregister\u001b]8;;\u0007\u001b[m\u001b[K]\n",
            "  437 |     register array_u_type_ \u001b[01;35m\u001b[Kp\u001b[m\u001b[K;\n",
            "      |                            \u001b[01;35m\u001b[K^\u001b[m\u001b[K\n",
            "\u001b[01m\u001b[Kdarts.h:439:26:\u001b[m\u001b[K \u001b[01;35m\u001b[Kwarning: \u001b[m\u001b[KISO C++17 does not allow ‘\u001b[01m\u001b[Kregister\u001b[m\u001b[K’ storage class specifier [\u001b[01;35m\u001b[K\u001b]8;;https://gcc.gnu.org/onlinedocs/gcc/Warning-Options.html#index-Wregister\u0007-Wregister\u001b]8;;\u0007\u001b[m\u001b[K]\n",
            "  439 |     for (register size_t \u001b[01;35m\u001b[Ki\u001b[m\u001b[K = 0; i < len; ++i) {\n",
            "      |                          \u001b[01;35m\u001b[K^\u001b[m\u001b[K\n",
            "darts.h: In instantiation of ‘\u001b[01m\u001b[KT MeCab::Darts::DoubleArrayImpl<node_type_, node_u_type_, array_type_, array_u_type_, length_func_>::exactMatchSearch(const key_type*, size_t, size_t) const [with T = MeCab::Darts::DoubleArrayImpl<char, unsigned char, int, unsigned int>::result_pair_type; node_type_ = char; node_u_type_ = unsigned char; array_type_ = int; array_u_type_ = unsigned int; length_func_ = MeCab::Darts::Length<char>; MeCab::Darts::DoubleArrayImpl<node_type_, node_u_type_, array_type_, array_u_type_, length_func_>::key_type = char; size_t = long unsigned int]\u001b[m\u001b[K’:\n",
            "\u001b[01m\u001b[Kdarts.h:394:33:\u001b[m\u001b[K   required from ‘\u001b[01m\u001b[Kvoid MeCab::Darts::DoubleArrayImpl<node_type_, node_u_type_, array_type_, array_u_type_, length_func_>::exactMatchSearch(const key_type*, T&, size_t, size_t) const [with T = MeCab::Darts::DoubleArrayImpl<char, unsigned char, int, unsigned int>::result_pair_type; node_type_ = char; node_u_type_ = unsigned char; array_type_ = int; array_u_type_ = unsigned int; length_func_ = MeCab::Darts::Length<char>; MeCab::Darts::DoubleArrayImpl<node_type_, node_u_type_, array_type_, array_u_type_, length_func_>::key_type = char; size_t = long unsigned int]\u001b[m\u001b[K’\n",
            "\u001b[01m\u001b[Kdictionary.h:42:25:\u001b[m\u001b[K   required from here\n",
            "\u001b[01m\u001b[Kdarts.h:407:27:\u001b[m\u001b[K \u001b[01;35m\u001b[Kwarning: \u001b[m\u001b[KISO C++17 does not allow ‘\u001b[01m\u001b[Kregister\u001b[m\u001b[K’ storage class specifier [\u001b[01;35m\u001b[K\u001b]8;;https://gcc.gnu.org/onlinedocs/gcc/Warning-Options.html#index-Wregister\u0007-Wregister\u001b]8;;\u0007\u001b[m\u001b[K]\n",
            "  407 |     register array_type_  \u001b[01;35m\u001b[Kb\u001b[m\u001b[K = array_[node_pos].base;\n",
            "      |                           \u001b[01;35m\u001b[K^\u001b[m\u001b[K\n",
            "\u001b[01m\u001b[Kdarts.h:408:28:\u001b[m\u001b[K \u001b[01;35m\u001b[Kwarning: \u001b[m\u001b[KISO C++17 does not allow ‘\u001b[01m\u001b[Kregister\u001b[m\u001b[K’ storage class specifier [\u001b[01;35m\u001b[K\u001b]8;;https://gcc.gnu.org/onlinedocs/gcc/Warning-Options.html#index-Wregister\u0007-Wregister\u001b]8;;\u0007\u001b[m\u001b[K]\n",
            "  408 |     register array_u_type_ \u001b[01;35m\u001b[Kp\u001b[m\u001b[K;\n",
            "      |                            \u001b[01;35m\u001b[K^\u001b[m\u001b[K\n",
            "\u001b[01m\u001b[Kdarts.h:410:26:\u001b[m\u001b[K \u001b[01;35m\u001b[Kwarning: \u001b[m\u001b[KISO C++17 does not allow ‘\u001b[01m\u001b[Kregister\u001b[m\u001b[K’ storage class specifier [\u001b[01;35m\u001b[K\u001b]8;;https://gcc.gnu.org/onlinedocs/gcc/Warning-Options.html#index-Wregister\u0007-Wregister\u001b]8;;\u0007\u001b[m\u001b[K]\n",
            "  410 |     for (register size_t \u001b[01;35m\u001b[Ki\u001b[m\u001b[K = 0; i < len; ++i) {\n",
            "      |                          \u001b[01;35m\u001b[K^\u001b[m\u001b[K\n",
            "libtool: compile:  g++ -DHAVE_CONFIG_H -I. -I.. -DDIC_VERSION=102 -DMECAB_DEFAULT_RC=\\\"/usr/local/etc/mecabrc\\\" -O3 -Wall -c tagger.cpp -o tagger.o >/dev/null 2>&1\n",
            "/bin/bash ../libtool --tag=CXX   --mode=compile g++ -DHAVE_CONFIG_H -I. -I.. -DDIC_VERSION=102   -DMECAB_DEFAULT_RC=\"\\\"/usr/local/etc/mecabrc\\\"\"    -O3 -Wall  -c -o utils.lo utils.cpp\n",
            "libtool: compile:  g++ -DHAVE_CONFIG_H -I. -I.. -DDIC_VERSION=102 -DMECAB_DEFAULT_RC=\\\"/usr/local/etc/mecabrc\\\" -O3 -Wall -c utils.cpp  -fPIC -DPIC -o .libs/utils.o\n",
            "libtool: compile:  g++ -DHAVE_CONFIG_H -I. -I.. -DDIC_VERSION=102 -DMECAB_DEFAULT_RC=\\\"/usr/local/etc/mecabrc\\\" -O3 -Wall -c utils.cpp -o utils.o >/dev/null 2>&1\n",
            "/bin/bash ../libtool --tag=CXX   --mode=compile g++ -DHAVE_CONFIG_H -I. -I.. -DDIC_VERSION=102   -DMECAB_DEFAULT_RC=\"\\\"/usr/local/etc/mecabrc\\\"\"    -O3 -Wall  -c -o eval.lo eval.cpp\n",
            "libtool: compile:  g++ -DHAVE_CONFIG_H -I. -I.. -DDIC_VERSION=102 -DMECAB_DEFAULT_RC=\\\"/usr/local/etc/mecabrc\\\" -O3 -Wall -c eval.cpp  -fPIC -DPIC -o .libs/eval.o\n",
            "In file included from \u001b[01m\u001b[K/usr/include/string.h:535\u001b[m\u001b[K,\n",
            "                 from \u001b[01m\u001b[K/usr/include/c++/11/cstring:42\u001b[m\u001b[K,\n",
            "                 from \u001b[01m\u001b[Kcommon.h:13\u001b[m\u001b[K,\n",
            "                 from \u001b[01m\u001b[Keval.cpp:11\u001b[m\u001b[K:\n",
            "In function ‘\u001b[01m\u001b[Kchar* strncpy(char*, const char*, size_t)\u001b[m\u001b[K’,\n",
            "    inlined from ‘\u001b[01m\u001b[Kstatic bool MeCab::Eval::parseLevel(const char*, std::vector<int>*)\u001b[m\u001b[K’ at \u001b[01m\u001b[Keval.cpp:63:17\u001b[m\u001b[K,\n",
            "    inlined from ‘\u001b[01m\u001b[Kstatic bool MeCab::Eval::eval(int, char**)\u001b[m\u001b[K’ at \u001b[01m\u001b[Keval.cpp:134:15\u001b[m\u001b[K:\n",
            "\u001b[01m\u001b[K/usr/include/x86_64-linux-gnu/bits/string_fortified.h:95:34:\u001b[m\u001b[K \u001b[01;35m\u001b[Kwarning: \u001b[m\u001b[K‘\u001b[01m\u001b[Kchar* __builtin_strncpy(char*, const char*, long unsigned int)\u001b[m\u001b[K’ specified bound 8192 equals destination size [\u001b[01;35m\u001b[K\u001b]8;;https://gcc.gnu.org/onlinedocs/gcc/Warning-Options.html#index-Wstringop-truncation\u0007-Wstringop-truncation\u001b]8;;\u0007\u001b[m\u001b[K]\n",
            "   95 |   return \u001b[01;35m\u001b[K__builtin___strncpy_chk (__dest, __src, __len,\u001b[m\u001b[K\n",
            "      |          \u001b[01;35m\u001b[K~~~~~~~~~~~~~~~~~~~~~~~~^~~~~~~~~~~~~~~~~~~~~~\u001b[m\u001b[K\n",
            "   96 | \u001b[01;35m\u001b[K                                  __glibc_objsize (__dest))\u001b[m\u001b[K;\n",
            "      |                                   \u001b[01;35m\u001b[K~~~~~~~~~~~~~~~~~~~~~~~~~\u001b[m\u001b[K\n",
            "libtool: compile:  g++ -DHAVE_CONFIG_H -I. -I.. -DDIC_VERSION=102 -DMECAB_DEFAULT_RC=\\\"/usr/local/etc/mecabrc\\\" -O3 -Wall -c eval.cpp -o eval.o >/dev/null 2>&1\n",
            "/bin/bash ../libtool --tag=CXX   --mode=compile g++ -DHAVE_CONFIG_H -I. -I.. -DDIC_VERSION=102   -DMECAB_DEFAULT_RC=\"\\\"/usr/local/etc/mecabrc\\\"\"    -O3 -Wall  -c -o iconv_utils.lo iconv_utils.cpp\n",
            "libtool: compile:  g++ -DHAVE_CONFIG_H -I. -I.. -DDIC_VERSION=102 -DMECAB_DEFAULT_RC=\\\"/usr/local/etc/mecabrc\\\" -O3 -Wall -c iconv_utils.cpp  -fPIC -DPIC -o .libs/iconv_utils.o\n",
            "In file included from \u001b[01m\u001b[Kiconv_utils.cpp:18\u001b[m\u001b[K:\n",
            "\u001b[01m\u001b[Kchar_property.h:\u001b[m\u001b[K In member function ‘\u001b[01m\u001b[Kconst char* MeCab::CharProperty::seekToOtherType(const char*, const char*, MeCab::CharInfo, MeCab::CharInfo*, size_t*, size_t*) const\u001b[m\u001b[K’:\n",
            "\u001b[01m\u001b[Kchar_property.h:40:26:\u001b[m\u001b[K \u001b[01;35m\u001b[Kwarning: \u001b[m\u001b[KISO C++17 does not allow ‘\u001b[01m\u001b[Kregister\u001b[m\u001b[K’ storage class specifier [\u001b[01;35m\u001b[K\u001b]8;;https://gcc.gnu.org/onlinedocs/gcc/Warning-Options.html#index-Wregister\u0007-Wregister\u001b]8;;\u0007\u001b[m\u001b[K]\n",
            "   40 |     register const char *\u001b[01;35m\u001b[Kp\u001b[m\u001b[K =  begin;\n",
            "      |                          \u001b[01;35m\u001b[K^\u001b[m\u001b[K\n",
            "libtool: compile:  g++ -DHAVE_CONFIG_H -I. -I.. -DDIC_VERSION=102 -DMECAB_DEFAULT_RC=\\\"/usr/local/etc/mecabrc\\\" -O3 -Wall -c iconv_utils.cpp -o iconv_utils.o >/dev/null 2>&1\n",
            "/bin/bash ../libtool --tag=CXX   --mode=compile g++ -DHAVE_CONFIG_H -I. -I.. -DDIC_VERSION=102   -DMECAB_DEFAULT_RC=\"\\\"/usr/local/etc/mecabrc\\\"\"    -O3 -Wall  -c -o dictionary_rewriter.lo dictionary_rewriter.cpp\n",
            "libtool: compile:  g++ -DHAVE_CONFIG_H -I. -I.. -DDIC_VERSION=102 -DMECAB_DEFAULT_RC=\\\"/usr/local/etc/mecabrc\\\" -O3 -Wall -c dictionary_rewriter.cpp  -fPIC -DPIC -o .libs/dictionary_rewriter.o\n",
            "In file included from \u001b[01m\u001b[K/usr/include/string.h:535\u001b[m\u001b[K,\n",
            "                 from \u001b[01m\u001b[K/usr/include/c++/11/cstring:42\u001b[m\u001b[K,\n",
            "                 from \u001b[01m\u001b[Kdictionary_rewriter.cpp:6\u001b[m\u001b[K:\n",
            "In function ‘\u001b[01m\u001b[Kchar* strncpy(char*, const char*, size_t)\u001b[m\u001b[K’,\n",
            "    inlined from ‘\u001b[01m\u001b[Kbool {anonymous}::match_rewrite_pattern(const char*, const char*)\u001b[m\u001b[K’ at \u001b[01m\u001b[Kdictionary_rewriter.cpp:47:17\u001b[m\u001b[K,\n",
            "    inlined from ‘\u001b[01m\u001b[Kbool MeCab::RewritePattern::rewrite(size_t, const char**, std::string*) const\u001b[m\u001b[K’ at \u001b[01m\u001b[Kdictionary_rewriter.cpp:81:31\u001b[m\u001b[K:\n",
            "\u001b[01m\u001b[K/usr/include/x86_64-linux-gnu/bits/string_fortified.h:95:34:\u001b[m\u001b[K \u001b[01;35m\u001b[Kwarning: \u001b[m\u001b[K‘\u001b[01m\u001b[Kchar* __builtin_strncpy(char*, const char*, long unsigned int)\u001b[m\u001b[K’ specified bound 8192 equals destination size [\u001b[01;35m\u001b[K\u001b]8;;https://gcc.gnu.org/onlinedocs/gcc/Warning-Options.html#index-Wstringop-truncation\u0007-Wstringop-truncation\u001b]8;;\u0007\u001b[m\u001b[K]\n",
            "   95 |   return \u001b[01;35m\u001b[K__builtin___strncpy_chk (__dest, __src, __len,\u001b[m\u001b[K\n",
            "      |          \u001b[01;35m\u001b[K~~~~~~~~~~~~~~~~~~~~~~~~^~~~~~~~~~~~~~~~~~~~~~\u001b[m\u001b[K\n",
            "   96 | \u001b[01;35m\u001b[K                                  __glibc_objsize (__dest))\u001b[m\u001b[K;\n",
            "      |                                   \u001b[01;35m\u001b[K~~~~~~~~~~~~~~~~~~~~~~~~~\u001b[m\u001b[K\n",
            "In function ‘\u001b[01m\u001b[Kchar* strncpy(char*, const char*, size_t)\u001b[m\u001b[K’,\n",
            "    inlined from ‘\u001b[01m\u001b[Kbool MeCab::RewritePattern::set_pattern(const char*, const char*)\u001b[m\u001b[K’ at \u001b[01m\u001b[Kdictionary_rewriter.cpp:67:15\u001b[m\u001b[K:\n",
            "\u001b[01m\u001b[K/usr/include/x86_64-linux-gnu/bits/string_fortified.h:95:34:\u001b[m\u001b[K \u001b[01;35m\u001b[Kwarning: \u001b[m\u001b[K‘\u001b[01m\u001b[Kchar* __builtin_strncpy(char*, const char*, long unsigned int)\u001b[m\u001b[K’ specified bound 8192 equals destination size [\u001b[01;35m\u001b[K\u001b]8;;https://gcc.gnu.org/onlinedocs/gcc/Warning-Options.html#index-Wstringop-truncation\u0007-Wstringop-truncation\u001b]8;;\u0007\u001b[m\u001b[K]\n",
            "   95 |   return \u001b[01;35m\u001b[K__builtin___strncpy_chk (__dest, __src, __len,\u001b[m\u001b[K\n",
            "      |          \u001b[01;35m\u001b[K~~~~~~~~~~~~~~~~~~~~~~~~^~~~~~~~~~~~~~~~~~~~~~\u001b[m\u001b[K\n",
            "   96 | \u001b[01;35m\u001b[K                                  __glibc_objsize (__dest))\u001b[m\u001b[K;\n",
            "      |                                   \u001b[01;35m\u001b[K~~~~~~~~~~~~~~~~~~~~~~~~~\u001b[m\u001b[K\n",
            "In function ‘\u001b[01m\u001b[Kchar* strncpy(char*, const char*, size_t)\u001b[m\u001b[K’,\n",
            "    inlined from ‘\u001b[01m\u001b[Kbool MeCab::RewritePattern::set_pattern(const char*, const char*)\u001b[m\u001b[K’ at \u001b[01m\u001b[Kdictionary_rewriter.cpp:70:15\u001b[m\u001b[K:\n",
            "\u001b[01m\u001b[K/usr/include/x86_64-linux-gnu/bits/string_fortified.h:95:34:\u001b[m\u001b[K \u001b[01;35m\u001b[Kwarning: \u001b[m\u001b[K‘\u001b[01m\u001b[Kchar* __builtin_strncpy(char*, const char*, long unsigned int)\u001b[m\u001b[K’ specified bound 8192 equals destination size [\u001b[01;35m\u001b[K\u001b]8;;https://gcc.gnu.org/onlinedocs/gcc/Warning-Options.html#index-Wstringop-truncation\u0007-Wstringop-truncation\u001b]8;;\u0007\u001b[m\u001b[K]\n",
            "   95 |   return \u001b[01;35m\u001b[K__builtin___strncpy_chk (__dest, __src, __len,\u001b[m\u001b[K\n",
            "      |          \u001b[01;35m\u001b[K~~~~~~~~~~~~~~~~~~~~~~~~^~~~~~~~~~~~~~~~~~~~~~\u001b[m\u001b[K\n",
            "   96 | \u001b[01;35m\u001b[K                                  __glibc_objsize (__dest))\u001b[m\u001b[K;\n",
            "      |                                   \u001b[01;35m\u001b[K~~~~~~~~~~~~~~~~~~~~~~~~~\u001b[m\u001b[K\n",
            "libtool: compile:  g++ -DHAVE_CONFIG_H -I. -I.. -DDIC_VERSION=102 -DMECAB_DEFAULT_RC=\\\"/usr/local/etc/mecabrc\\\" -O3 -Wall -c dictionary_rewriter.cpp -o dictionary_rewriter.o >/dev/null 2>&1\n",
            "/bin/bash ../libtool --tag=CXX   --mode=compile g++ -DHAVE_CONFIG_H -I. -I.. -DDIC_VERSION=102   -DMECAB_DEFAULT_RC=\"\\\"/usr/local/etc/mecabrc\\\"\"    -O3 -Wall  -c -o dictionary_generator.lo dictionary_generator.cpp\n",
            "libtool: compile:  g++ -DHAVE_CONFIG_H -I. -I.. -DDIC_VERSION=102 -DMECAB_DEFAULT_RC=\\\"/usr/local/etc/mecabrc\\\" -O3 -Wall -c dictionary_generator.cpp  -fPIC -DPIC -o .libs/dictionary_generator.o\n",
            "In file included from \u001b[01m\u001b[Kdictionary_generator.cpp:11\u001b[m\u001b[K:\n",
            "\u001b[01m\u001b[Kchar_property.h:\u001b[m\u001b[K In member function ‘\u001b[01m\u001b[Kconst char* MeCab::CharProperty::seekToOtherType(const char*, const char*, MeCab::CharInfo, MeCab::CharInfo*, size_t*, size_t*) const\u001b[m\u001b[K’:\n",
            "\u001b[01m\u001b[Kchar_property.h:40:26:\u001b[m\u001b[K \u001b[01;35m\u001b[Kwarning: \u001b[m\u001b[KISO C++17 does not allow ‘\u001b[01m\u001b[Kregister\u001b[m\u001b[K’ storage class specifier [\u001b[01;35m\u001b[K\u001b]8;;https://gcc.gnu.org/onlinedocs/gcc/Warning-Options.html#index-Wregister\u0007-Wregister\u001b]8;;\u0007\u001b[m\u001b[K]\n",
            "   40 |     register const char *\u001b[01;35m\u001b[Kp\u001b[m\u001b[K =  begin;\n",
            "      |                          \u001b[01;35m\u001b[K^\u001b[m\u001b[K\n",
            "In file included from \u001b[01m\u001b[Kdictionary.h:11\u001b[m\u001b[K,\n",
            "                 from \u001b[01m\u001b[Kdictionary_generator.cpp:14\u001b[m\u001b[K:\n",
            "\u001b[01m\u001b[Kdarts.h:\u001b[m\u001b[K In member function ‘\u001b[01m\u001b[KT MeCab::Darts::DoubleArrayImpl<node_type_, node_u_type_, array_type_, array_u_type_, length_func_>::exactMatchSearch(const key_type*, size_t, size_t) const\u001b[m\u001b[K’:\n",
            "\u001b[01m\u001b[Kdarts.h:407:27:\u001b[m\u001b[K \u001b[01;35m\u001b[Kwarning: \u001b[m\u001b[KISO C++17 does not allow ‘\u001b[01m\u001b[Kregister\u001b[m\u001b[K’ storage class specifier [\u001b[01;35m\u001b[K\u001b]8;;https://gcc.gnu.org/onlinedocs/gcc/Warning-Options.html#index-Wregister\u0007-Wregister\u001b]8;;\u0007\u001b[m\u001b[K]\n",
            "  407 |     register array_type_  \u001b[01;35m\u001b[Kb\u001b[m\u001b[K = array_[node_pos].base;\n",
            "      |                           \u001b[01;35m\u001b[K^\u001b[m\u001b[K\n",
            "\u001b[01m\u001b[Kdarts.h:408:28:\u001b[m\u001b[K \u001b[01;35m\u001b[Kwarning: \u001b[m\u001b[KISO C++17 does not allow ‘\u001b[01m\u001b[Kregister\u001b[m\u001b[K’ storage class specifier [\u001b[01;35m\u001b[K\u001b]8;;https://gcc.gnu.org/onlinedocs/gcc/Warning-Options.html#index-Wregister\u0007-Wregister\u001b]8;;\u0007\u001b[m\u001b[K]\n",
            "  408 |     register array_u_type_ \u001b[01;35m\u001b[Kp\u001b[m\u001b[K;\n",
            "      |                            \u001b[01;35m\u001b[K^\u001b[m\u001b[K\n",
            "\u001b[01m\u001b[Kdarts.h:410:26:\u001b[m\u001b[K \u001b[01;35m\u001b[Kwarning: \u001b[m\u001b[KISO C++17 does not allow ‘\u001b[01m\u001b[Kregister\u001b[m\u001b[K’ storage class specifier [\u001b[01;35m\u001b[K\u001b]8;;https://gcc.gnu.org/onlinedocs/gcc/Warning-Options.html#index-Wregister\u0007-Wregister\u001b]8;;\u0007\u001b[m\u001b[K]\n",
            "  410 |     for (register size_t \u001b[01;35m\u001b[Ki\u001b[m\u001b[K = 0; i < len; ++i) {\n",
            "      |                          \u001b[01;35m\u001b[K^\u001b[m\u001b[K\n",
            "\u001b[01m\u001b[Kdarts.h:\u001b[m\u001b[K In member function ‘\u001b[01m\u001b[Ksize_t MeCab::Darts::DoubleArrayImpl<node_type_, node_u_type_, array_type_, array_u_type_, length_func_>::commonPrefixSearch(const key_type*, T*, size_t, size_t, size_t) const\u001b[m\u001b[K’:\n",
            "\u001b[01m\u001b[Kdarts.h:434:27:\u001b[m\u001b[K \u001b[01;35m\u001b[Kwarning: \u001b[m\u001b[KISO C++17 does not allow ‘\u001b[01m\u001b[Kregister\u001b[m\u001b[K’ storage class specifier [\u001b[01;35m\u001b[K\u001b]8;;https://gcc.gnu.org/onlinedocs/gcc/Warning-Options.html#index-Wregister\u0007-Wregister\u001b]8;;\u0007\u001b[m\u001b[K]\n",
            "  434 |     register array_type_  \u001b[01;35m\u001b[Kb\u001b[m\u001b[K   = array_[node_pos].base;\n",
            "      |                           \u001b[01;35m\u001b[K^\u001b[m\u001b[K\n",
            "\u001b[01m\u001b[Kdarts.h:435:25:\u001b[m\u001b[K \u001b[01;35m\u001b[Kwarning: \u001b[m\u001b[KISO C++17 does not allow ‘\u001b[01m\u001b[Kregister\u001b[m\u001b[K’ storage class specifier [\u001b[01;35m\u001b[K\u001b]8;;https://gcc.gnu.org/onlinedocs/gcc/Warning-Options.html#index-Wregister\u0007-Wregister\u001b]8;;\u0007\u001b[m\u001b[K]\n",
            "  435 |     register size_t     \u001b[01;35m\u001b[Knum\u001b[m\u001b[K = 0;\n",
            "      |                         \u001b[01;35m\u001b[K^~~\u001b[m\u001b[K\n",
            "\u001b[01m\u001b[Kdarts.h:436:27:\u001b[m\u001b[K \u001b[01;35m\u001b[Kwarning: \u001b[m\u001b[KISO C++17 does not allow ‘\u001b[01m\u001b[Kregister\u001b[m\u001b[K’ storage class specifier [\u001b[01;35m\u001b[K\u001b]8;;https://gcc.gnu.org/onlinedocs/gcc/Warning-Options.html#index-Wregister\u0007-Wregister\u001b]8;;\u0007\u001b[m\u001b[K]\n",
            "  436 |     register array_type_  \u001b[01;35m\u001b[Kn\u001b[m\u001b[K;\n",
            "      |                           \u001b[01;35m\u001b[K^\u001b[m\u001b[K\n",
            "\u001b[01m\u001b[Kdarts.h:437:28:\u001b[m\u001b[K \u001b[01;35m\u001b[Kwarning: \u001b[m\u001b[KISO C++17 does not allow ‘\u001b[01m\u001b[Kregister\u001b[m\u001b[K’ storage class specifier [\u001b[01;35m\u001b[K\u001b]8;;https://gcc.gnu.org/onlinedocs/gcc/Warning-Options.html#index-Wregister\u0007-Wregister\u001b]8;;\u0007\u001b[m\u001b[K]\n",
            "  437 |     register array_u_type_ \u001b[01;35m\u001b[Kp\u001b[m\u001b[K;\n",
            "      |                            \u001b[01;35m\u001b[K^\u001b[m\u001b[K\n",
            "\u001b[01m\u001b[Kdarts.h:439:26:\u001b[m\u001b[K \u001b[01;35m\u001b[Kwarning: \u001b[m\u001b[KISO C++17 does not allow ‘\u001b[01m\u001b[Kregister\u001b[m\u001b[K’ storage class specifier [\u001b[01;35m\u001b[K\u001b]8;;https://gcc.gnu.org/onlinedocs/gcc/Warning-Options.html#index-Wregister\u0007-Wregister\u001b]8;;\u0007\u001b[m\u001b[K]\n",
            "  439 |     for (register size_t \u001b[01;35m\u001b[Ki\u001b[m\u001b[K = 0; i < len; ++i) {\n",
            "      |                          \u001b[01;35m\u001b[K^\u001b[m\u001b[K\n",
            "\u001b[01m\u001b[Kdarts.h:\u001b[m\u001b[K In member function ‘\u001b[01m\u001b[KMeCab::Darts::DoubleArrayImpl<node_type_, node_u_type_, array_type_, array_u_type_, length_func_>::value_type MeCab::Darts::DoubleArrayImpl<node_type_, node_u_type_, array_type_, array_u_type_, length_func_>::traverse(const key_type*, size_t&, size_t&, size_t) const\u001b[m\u001b[K’:\n",
            "\u001b[01m\u001b[Kdarts.h:472:27:\u001b[m\u001b[K \u001b[01;35m\u001b[Kwarning: \u001b[m\u001b[KISO C++17 does not allow ‘\u001b[01m\u001b[Kregister\u001b[m\u001b[K’ storage class specifier [\u001b[01;35m\u001b[K\u001b]8;;https://gcc.gnu.org/onlinedocs/gcc/Warning-Options.html#index-Wregister\u0007-Wregister\u001b]8;;\u0007\u001b[m\u001b[K]\n",
            "  472 |     register array_type_  \u001b[01;35m\u001b[Kb\u001b[m\u001b[K = array_[node_pos].base;\n",
            "      |                           \u001b[01;35m\u001b[K^\u001b[m\u001b[K\n",
            "\u001b[01m\u001b[Kdarts.h:473:28:\u001b[m\u001b[K \u001b[01;35m\u001b[Kwarning: \u001b[m\u001b[KISO C++17 does not allow ‘\u001b[01m\u001b[Kregister\u001b[m\u001b[K’ storage class specifier [\u001b[01;35m\u001b[K\u001b]8;;https://gcc.gnu.org/onlinedocs/gcc/Warning-Options.html#index-Wregister\u0007-Wregister\u001b]8;;\u0007\u001b[m\u001b[K]\n",
            "  473 |     register array_u_type_ \u001b[01;35m\u001b[Kp\u001b[m\u001b[K;\n",
            "      |                            \u001b[01;35m\u001b[K^\u001b[m\u001b[K\n",
            "darts.h: In instantiation of ‘\u001b[01m\u001b[Ksize_t MeCab::Darts::DoubleArrayImpl<node_type_, node_u_type_, array_type_, array_u_type_, length_func_>::commonPrefixSearch(const key_type*, T*, size_t, size_t, size_t) const [with T = MeCab::Darts::DoubleArrayImpl<char, unsigned char, int, unsigned int>::result_pair_type; node_type_ = char; node_u_type_ = unsigned char; array_type_ = int; array_u_type_ = unsigned int; length_func_ = MeCab::Darts::Length<char>; size_t = long unsigned int; MeCab::Darts::DoubleArrayImpl<node_type_, node_u_type_, array_type_, array_u_type_, length_func_>::key_type = char]\u001b[m\u001b[K’:\n",
            "\u001b[01m\u001b[Kdictionary.h:37:34:\u001b[m\u001b[K   required from here\n",
            "\u001b[01m\u001b[Kdarts.h:434:27:\u001b[m\u001b[K \u001b[01;35m\u001b[Kwarning: \u001b[m\u001b[KISO C++17 does not allow ‘\u001b[01m\u001b[Kregister\u001b[m\u001b[K’ storage class specifier [\u001b[01;35m\u001b[K\u001b]8;;https://gcc.gnu.org/onlinedocs/gcc/Warning-Options.html#index-Wregister\u0007-Wregister\u001b]8;;\u0007\u001b[m\u001b[K]\n",
            "  434 |     register array_type_  \u001b[01;35m\u001b[Kb\u001b[m\u001b[K   = array_[node_pos].base;\n",
            "      |                           \u001b[01;35m\u001b[K^\u001b[m\u001b[K\n",
            "\u001b[01m\u001b[Kdarts.h:435:25:\u001b[m\u001b[K \u001b[01;35m\u001b[Kwarning: \u001b[m\u001b[KISO C++17 does not allow ‘\u001b[01m\u001b[Kregister\u001b[m\u001b[K’ storage class specifier [\u001b[01;35m\u001b[K\u001b]8;;https://gcc.gnu.org/onlinedocs/gcc/Warning-Options.html#index-Wregister\u0007-Wregister\u001b]8;;\u0007\u001b[m\u001b[K]\n",
            "  435 |     register size_t     \u001b[01;35m\u001b[Knum\u001b[m\u001b[K = 0;\n",
            "      |                         \u001b[01;35m\u001b[K^~~\u001b[m\u001b[K\n",
            "\u001b[01m\u001b[Kdarts.h:436:27:\u001b[m\u001b[K \u001b[01;35m\u001b[Kwarning: \u001b[m\u001b[KISO C++17 does not allow ‘\u001b[01m\u001b[Kregister\u001b[m\u001b[K’ storage class specifier [\u001b[01;35m\u001b[K\u001b]8;;https://gcc.gnu.org/onlinedocs/gcc/Warning-Options.html#index-Wregister\u0007-Wregister\u001b]8;;\u0007\u001b[m\u001b[K]\n",
            "  436 |     register array_type_  \u001b[01;35m\u001b[Kn\u001b[m\u001b[K;\n",
            "      |                           \u001b[01;35m\u001b[K^\u001b[m\u001b[K\n",
            "\u001b[01m\u001b[Kdarts.h:437:28:\u001b[m\u001b[K \u001b[01;35m\u001b[Kwarning: \u001b[m\u001b[KISO C++17 does not allow ‘\u001b[01m\u001b[Kregister\u001b[m\u001b[K’ storage class specifier [\u001b[01;35m\u001b[K\u001b]8;;https://gcc.gnu.org/onlinedocs/gcc/Warning-Options.html#index-Wregister\u0007-Wregister\u001b]8;;\u0007\u001b[m\u001b[K]\n",
            "  437 |     register array_u_type_ \u001b[01;35m\u001b[Kp\u001b[m\u001b[K;\n",
            "      |                            \u001b[01;35m\u001b[K^\u001b[m\u001b[K\n",
            "\u001b[01m\u001b[Kdarts.h:439:26:\u001b[m\u001b[K \u001b[01;35m\u001b[Kwarning: \u001b[m\u001b[KISO C++17 does not allow ‘\u001b[01m\u001b[Kregister\u001b[m\u001b[K’ storage class specifier [\u001b[01;35m\u001b[K\u001b]8;;https://gcc.gnu.org/onlinedocs/gcc/Warning-Options.html#index-Wregister\u0007-Wregister\u001b]8;;\u0007\u001b[m\u001b[K]\n",
            "  439 |     for (register size_t \u001b[01;35m\u001b[Ki\u001b[m\u001b[K = 0; i < len; ++i) {\n",
            "      |                          \u001b[01;35m\u001b[K^\u001b[m\u001b[K\n",
            "darts.h: In instantiation of ‘\u001b[01m\u001b[KT MeCab::Darts::DoubleArrayImpl<node_type_, node_u_type_, array_type_, array_u_type_, length_func_>::exactMatchSearch(const key_type*, size_t, size_t) const [with T = MeCab::Darts::DoubleArrayImpl<char, unsigned char, int, unsigned int>::result_pair_type; node_type_ = char; node_u_type_ = unsigned char; array_type_ = int; array_u_type_ = unsigned int; length_func_ = MeCab::Darts::Length<char>; MeCab::Darts::DoubleArrayImpl<node_type_, node_u_type_, array_type_, array_u_type_, length_func_>::key_type = char; size_t = long unsigned int]\u001b[m\u001b[K’:\n",
            "\u001b[01m\u001b[Kdarts.h:394:33:\u001b[m\u001b[K   required from ‘\u001b[01m\u001b[Kvoid MeCab::Darts::DoubleArrayImpl<node_type_, node_u_type_, array_type_, array_u_type_, length_func_>::exactMatchSearch(const key_type*, T&, size_t, size_t) const [with T = MeCab::Darts::DoubleArrayImpl<char, unsigned char, int, unsigned int>::result_pair_type; node_type_ = char; node_u_type_ = unsigned char; array_type_ = int; array_u_type_ = unsigned int; length_func_ = MeCab::Darts::Length<char>; MeCab::Darts::DoubleArrayImpl<node_type_, node_u_type_, array_type_, array_u_type_, length_func_>::key_type = char; size_t = long unsigned int]\u001b[m\u001b[K’\n",
            "\u001b[01m\u001b[Kdictionary.h:42:25:\u001b[m\u001b[K   required from here\n",
            "\u001b[01m\u001b[Kdarts.h:407:27:\u001b[m\u001b[K \u001b[01;35m\u001b[Kwarning: \u001b[m\u001b[KISO C++17 does not allow ‘\u001b[01m\u001b[Kregister\u001b[m\u001b[K’ storage class specifier [\u001b[01;35m\u001b[K\u001b]8;;https://gcc.gnu.org/onlinedocs/gcc/Warning-Options.html#index-Wregister\u0007-Wregister\u001b]8;;\u0007\u001b[m\u001b[K]\n",
            "  407 |     register array_type_  \u001b[01;35m\u001b[Kb\u001b[m\u001b[K = array_[node_pos].base;\n",
            "      |                           \u001b[01;35m\u001b[K^\u001b[m\u001b[K\n",
            "\u001b[01m\u001b[Kdarts.h:408:28:\u001b[m\u001b[K \u001b[01;35m\u001b[Kwarning: \u001b[m\u001b[KISO C++17 does not allow ‘\u001b[01m\u001b[Kregister\u001b[m\u001b[K’ storage class specifier [\u001b[01;35m\u001b[K\u001b]8;;https://gcc.gnu.org/onlinedocs/gcc/Warning-Options.html#index-Wregister\u0007-Wregister\u001b]8;;\u0007\u001b[m\u001b[K]\n",
            "  408 |     register array_u_type_ \u001b[01;35m\u001b[Kp\u001b[m\u001b[K;\n",
            "      |                            \u001b[01;35m\u001b[K^\u001b[m\u001b[K\n",
            "\u001b[01m\u001b[Kdarts.h:410:26:\u001b[m\u001b[K \u001b[01;35m\u001b[Kwarning: \u001b[m\u001b[KISO C++17 does not allow ‘\u001b[01m\u001b[Kregister\u001b[m\u001b[K’ storage class specifier [\u001b[01;35m\u001b[K\u001b]8;;https://gcc.gnu.org/onlinedocs/gcc/Warning-Options.html#index-Wregister\u0007-Wregister\u001b]8;;\u0007\u001b[m\u001b[K]\n",
            "  410 |     for (register size_t \u001b[01;35m\u001b[Ki\u001b[m\u001b[K = 0; i < len; ++i) {\n",
            "      |                          \u001b[01;35m\u001b[K^\u001b[m\u001b[K\n",
            "libtool: compile:  g++ -DHAVE_CONFIG_H -I. -I.. -DDIC_VERSION=102 -DMECAB_DEFAULT_RC=\\\"/usr/local/etc/mecabrc\\\" -O3 -Wall -c dictionary_generator.cpp -o dictionary_generator.o >/dev/null 2>&1\n",
            "/bin/bash ../libtool --tag=CXX   --mode=compile g++ -DHAVE_CONFIG_H -I. -I.. -DDIC_VERSION=102   -DMECAB_DEFAULT_RC=\"\\\"/usr/local/etc/mecabrc\\\"\"    -O3 -Wall  -c -o dictionary_compiler.lo dictionary_compiler.cpp\n",
            "libtool: compile:  g++ -DHAVE_CONFIG_H -I. -I.. -DDIC_VERSION=102 -DMECAB_DEFAULT_RC=\\\"/usr/local/etc/mecabrc\\\" -O3 -Wall -c dictionary_compiler.cpp  -fPIC -DPIC -o .libs/dictionary_compiler.o\n",
            "In file included from \u001b[01m\u001b[Kdictionary_compiler.cpp:9\u001b[m\u001b[K:\n",
            "\u001b[01m\u001b[Kchar_property.h:\u001b[m\u001b[K In member function ‘\u001b[01m\u001b[Kconst char* MeCab::CharProperty::seekToOtherType(const char*, const char*, MeCab::CharInfo, MeCab::CharInfo*, size_t*, size_t*) const\u001b[m\u001b[K’:\n",
            "\u001b[01m\u001b[Kchar_property.h:40:26:\u001b[m\u001b[K \u001b[01;35m\u001b[Kwarning: \u001b[m\u001b[KISO C++17 does not allow ‘\u001b[01m\u001b[Kregister\u001b[m\u001b[K’ storage class specifier [\u001b[01;35m\u001b[K\u001b]8;;https://gcc.gnu.org/onlinedocs/gcc/Warning-Options.html#index-Wregister\u0007-Wregister\u001b]8;;\u0007\u001b[m\u001b[K]\n",
            "   40 |     register const char *\u001b[01;35m\u001b[Kp\u001b[m\u001b[K =  begin;\n",
            "      |                          \u001b[01;35m\u001b[K^\u001b[m\u001b[K\n",
            "In file included from \u001b[01m\u001b[Kdictionary.h:11\u001b[m\u001b[K,\n",
            "                 from \u001b[01m\u001b[Kdictionary_compiler.cpp:11\u001b[m\u001b[K:\n",
            "\u001b[01m\u001b[Kdarts.h:\u001b[m\u001b[K In member function ‘\u001b[01m\u001b[KT MeCab::Darts::DoubleArrayImpl<node_type_, node_u_type_, array_type_, array_u_type_, length_func_>::exactMatchSearch(const key_type*, size_t, size_t) const\u001b[m\u001b[K’:\n",
            "\u001b[01m\u001b[Kdarts.h:407:27:\u001b[m\u001b[K \u001b[01;35m\u001b[Kwarning: \u001b[m\u001b[KISO C++17 does not allow ‘\u001b[01m\u001b[Kregister\u001b[m\u001b[K’ storage class specifier [\u001b[01;35m\u001b[K\u001b]8;;https://gcc.gnu.org/onlinedocs/gcc/Warning-Options.html#index-Wregister\u0007-Wregister\u001b]8;;\u0007\u001b[m\u001b[K]\n",
            "  407 |     register array_type_  \u001b[01;35m\u001b[Kb\u001b[m\u001b[K = array_[node_pos].base;\n",
            "      |                           \u001b[01;35m\u001b[K^\u001b[m\u001b[K\n",
            "\u001b[01m\u001b[Kdarts.h:408:28:\u001b[m\u001b[K \u001b[01;35m\u001b[Kwarning: \u001b[m\u001b[KISO C++17 does not allow ‘\u001b[01m\u001b[Kregister\u001b[m\u001b[K’ storage class specifier [\u001b[01;35m\u001b[K\u001b]8;;https://gcc.gnu.org/onlinedocs/gcc/Warning-Options.html#index-Wregister\u0007-Wregister\u001b]8;;\u0007\u001b[m\u001b[K]\n",
            "  408 |     register array_u_type_ \u001b[01;35m\u001b[Kp\u001b[m\u001b[K;\n",
            "      |                            \u001b[01;35m\u001b[K^\u001b[m\u001b[K\n",
            "\u001b[01m\u001b[Kdarts.h:410:26:\u001b[m\u001b[K \u001b[01;35m\u001b[Kwarning: \u001b[m\u001b[KISO C++17 does not allow ‘\u001b[01m\u001b[Kregister\u001b[m\u001b[K’ storage class specifier [\u001b[01;35m\u001b[K\u001b]8;;https://gcc.gnu.org/onlinedocs/gcc/Warning-Options.html#index-Wregister\u0007-Wregister\u001b]8;;\u0007\u001b[m\u001b[K]\n",
            "  410 |     for (register size_t \u001b[01;35m\u001b[Ki\u001b[m\u001b[K = 0; i < len; ++i) {\n",
            "      |                          \u001b[01;35m\u001b[K^\u001b[m\u001b[K\n",
            "\u001b[01m\u001b[Kdarts.h:\u001b[m\u001b[K In member function ‘\u001b[01m\u001b[Ksize_t MeCab::Darts::DoubleArrayImpl<node_type_, node_u_type_, array_type_, array_u_type_, length_func_>::commonPrefixSearch(const key_type*, T*, size_t, size_t, size_t) const\u001b[m\u001b[K’:\n",
            "\u001b[01m\u001b[Kdarts.h:434:27:\u001b[m\u001b[K \u001b[01;35m\u001b[Kwarning: \u001b[m\u001b[KISO C++17 does not allow ‘\u001b[01m\u001b[Kregister\u001b[m\u001b[K’ storage class specifier [\u001b[01;35m\u001b[K\u001b]8;;https://gcc.gnu.org/onlinedocs/gcc/Warning-Options.html#index-Wregister\u0007-Wregister\u001b]8;;\u0007\u001b[m\u001b[K]\n",
            "  434 |     register array_type_  \u001b[01;35m\u001b[Kb\u001b[m\u001b[K   = array_[node_pos].base;\n",
            "      |                           \u001b[01;35m\u001b[K^\u001b[m\u001b[K\n",
            "\u001b[01m\u001b[Kdarts.h:435:25:\u001b[m\u001b[K \u001b[01;35m\u001b[Kwarning: \u001b[m\u001b[KISO C++17 does not allow ‘\u001b[01m\u001b[Kregister\u001b[m\u001b[K’ storage class specifier [\u001b[01;35m\u001b[K\u001b]8;;https://gcc.gnu.org/onlinedocs/gcc/Warning-Options.html#index-Wregister\u0007-Wregister\u001b]8;;\u0007\u001b[m\u001b[K]\n",
            "  435 |     register size_t     \u001b[01;35m\u001b[Knum\u001b[m\u001b[K = 0;\n",
            "      |                         \u001b[01;35m\u001b[K^~~\u001b[m\u001b[K\n",
            "\u001b[01m\u001b[Kdarts.h:436:27:\u001b[m\u001b[K \u001b[01;35m\u001b[Kwarning: \u001b[m\u001b[KISO C++17 does not allow ‘\u001b[01m\u001b[Kregister\u001b[m\u001b[K’ storage class specifier [\u001b[01;35m\u001b[K\u001b]8;;https://gcc.gnu.org/onlinedocs/gcc/Warning-Options.html#index-Wregister\u0007-Wregister\u001b]8;;\u0007\u001b[m\u001b[K]\n",
            "  436 |     register array_type_  \u001b[01;35m\u001b[Kn\u001b[m\u001b[K;\n",
            "      |                           \u001b[01;35m\u001b[K^\u001b[m\u001b[K\n",
            "\u001b[01m\u001b[Kdarts.h:437:28:\u001b[m\u001b[K \u001b[01;35m\u001b[Kwarning: \u001b[m\u001b[KISO C++17 does not allow ‘\u001b[01m\u001b[Kregister\u001b[m\u001b[K’ storage class specifier [\u001b[01;35m\u001b[K\u001b]8;;https://gcc.gnu.org/onlinedocs/gcc/Warning-Options.html#index-Wregister\u0007-Wregister\u001b]8;;\u0007\u001b[m\u001b[K]\n",
            "  437 |     register array_u_type_ \u001b[01;35m\u001b[Kp\u001b[m\u001b[K;\n",
            "      |                            \u001b[01;35m\u001b[K^\u001b[m\u001b[K\n",
            "\u001b[01m\u001b[Kdarts.h:439:26:\u001b[m\u001b[K \u001b[01;35m\u001b[Kwarning: \u001b[m\u001b[KISO C++17 does not allow ‘\u001b[01m\u001b[Kregister\u001b[m\u001b[K’ storage class specifier [\u001b[01;35m\u001b[K\u001b]8;;https://gcc.gnu.org/onlinedocs/gcc/Warning-Options.html#index-Wregister\u0007-Wregister\u001b]8;;\u0007\u001b[m\u001b[K]\n",
            "  439 |     for (register size_t \u001b[01;35m\u001b[Ki\u001b[m\u001b[K = 0; i < len; ++i) {\n",
            "      |                          \u001b[01;35m\u001b[K^\u001b[m\u001b[K\n",
            "\u001b[01m\u001b[Kdarts.h:\u001b[m\u001b[K In member function ‘\u001b[01m\u001b[KMeCab::Darts::DoubleArrayImpl<node_type_, node_u_type_, array_type_, array_u_type_, length_func_>::value_type MeCab::Darts::DoubleArrayImpl<node_type_, node_u_type_, array_type_, array_u_type_, length_func_>::traverse(const key_type*, size_t&, size_t&, size_t) const\u001b[m\u001b[K’:\n",
            "\u001b[01m\u001b[Kdarts.h:472:27:\u001b[m\u001b[K \u001b[01;35m\u001b[Kwarning: \u001b[m\u001b[KISO C++17 does not allow ‘\u001b[01m\u001b[Kregister\u001b[m\u001b[K’ storage class specifier [\u001b[01;35m\u001b[K\u001b]8;;https://gcc.gnu.org/onlinedocs/gcc/Warning-Options.html#index-Wregister\u0007-Wregister\u001b]8;;\u0007\u001b[m\u001b[K]\n",
            "  472 |     register array_type_  \u001b[01;35m\u001b[Kb\u001b[m\u001b[K = array_[node_pos].base;\n",
            "      |                           \u001b[01;35m\u001b[K^\u001b[m\u001b[K\n",
            "\u001b[01m\u001b[Kdarts.h:473:28:\u001b[m\u001b[K \u001b[01;35m\u001b[Kwarning: \u001b[m\u001b[KISO C++17 does not allow ‘\u001b[01m\u001b[Kregister\u001b[m\u001b[K’ storage class specifier [\u001b[01;35m\u001b[K\u001b]8;;https://gcc.gnu.org/onlinedocs/gcc/Warning-Options.html#index-Wregister\u0007-Wregister\u001b]8;;\u0007\u001b[m\u001b[K]\n",
            "  473 |     register array_u_type_ \u001b[01;35m\u001b[Kp\u001b[m\u001b[K;\n",
            "      |                            \u001b[01;35m\u001b[K^\u001b[m\u001b[K\n",
            "darts.h: In instantiation of ‘\u001b[01m\u001b[Ksize_t MeCab::Darts::DoubleArrayImpl<node_type_, node_u_type_, array_type_, array_u_type_, length_func_>::commonPrefixSearch(const key_type*, T*, size_t, size_t, size_t) const [with T = MeCab::Darts::DoubleArrayImpl<char, unsigned char, int, unsigned int>::result_pair_type; node_type_ = char; node_u_type_ = unsigned char; array_type_ = int; array_u_type_ = unsigned int; length_func_ = MeCab::Darts::Length<char>; size_t = long unsigned int; MeCab::Darts::DoubleArrayImpl<node_type_, node_u_type_, array_type_, array_u_type_, length_func_>::key_type = char]\u001b[m\u001b[K’:\n",
            "\u001b[01m\u001b[Kdictionary.h:37:34:\u001b[m\u001b[K   required from here\n",
            "\u001b[01m\u001b[Kdarts.h:434:27:\u001b[m\u001b[K \u001b[01;35m\u001b[Kwarning: \u001b[m\u001b[KISO C++17 does not allow ‘\u001b[01m\u001b[Kregister\u001b[m\u001b[K’ storage class specifier [\u001b[01;35m\u001b[K\u001b]8;;https://gcc.gnu.org/onlinedocs/gcc/Warning-Options.html#index-Wregister\u0007-Wregister\u001b]8;;\u0007\u001b[m\u001b[K]\n",
            "  434 |     register array_type_  \u001b[01;35m\u001b[Kb\u001b[m\u001b[K   = array_[node_pos].base;\n",
            "      |                           \u001b[01;35m\u001b[K^\u001b[m\u001b[K\n",
            "\u001b[01m\u001b[Kdarts.h:435:25:\u001b[m\u001b[K \u001b[01;35m\u001b[Kwarning: \u001b[m\u001b[KISO C++17 does not allow ‘\u001b[01m\u001b[Kregister\u001b[m\u001b[K’ storage class specifier [\u001b[01;35m\u001b[K\u001b]8;;https://gcc.gnu.org/onlinedocs/gcc/Warning-Options.html#index-Wregister\u0007-Wregister\u001b]8;;\u0007\u001b[m\u001b[K]\n",
            "  435 |     register size_t     \u001b[01;35m\u001b[Knum\u001b[m\u001b[K = 0;\n",
            "      |                         \u001b[01;35m\u001b[K^~~\u001b[m\u001b[K\n",
            "\u001b[01m\u001b[Kdarts.h:436:27:\u001b[m\u001b[K \u001b[01;35m\u001b[Kwarning: \u001b[m\u001b[KISO C++17 does not allow ‘\u001b[01m\u001b[Kregister\u001b[m\u001b[K’ storage class specifier [\u001b[01;35m\u001b[K\u001b]8;;https://gcc.gnu.org/onlinedocs/gcc/Warning-Options.html#index-Wregister\u0007-Wregister\u001b]8;;\u0007\u001b[m\u001b[K]\n",
            "  436 |     register array_type_  \u001b[01;35m\u001b[Kn\u001b[m\u001b[K;\n",
            "      |                           \u001b[01;35m\u001b[K^\u001b[m\u001b[K\n",
            "\u001b[01m\u001b[Kdarts.h:437:28:\u001b[m\u001b[K \u001b[01;35m\u001b[Kwarning: \u001b[m\u001b[KISO C++17 does not allow ‘\u001b[01m\u001b[Kregister\u001b[m\u001b[K’ storage class specifier [\u001b[01;35m\u001b[K\u001b]8;;https://gcc.gnu.org/onlinedocs/gcc/Warning-Options.html#index-Wregister\u0007-Wregister\u001b]8;;\u0007\u001b[m\u001b[K]\n",
            "  437 |     register array_u_type_ \u001b[01;35m\u001b[Kp\u001b[m\u001b[K;\n",
            "      |                            \u001b[01;35m\u001b[K^\u001b[m\u001b[K\n",
            "\u001b[01m\u001b[Kdarts.h:439:26:\u001b[m\u001b[K \u001b[01;35m\u001b[Kwarning: \u001b[m\u001b[KISO C++17 does not allow ‘\u001b[01m\u001b[Kregister\u001b[m\u001b[K’ storage class specifier [\u001b[01;35m\u001b[K\u001b]8;;https://gcc.gnu.org/onlinedocs/gcc/Warning-Options.html#index-Wregister\u0007-Wregister\u001b]8;;\u0007\u001b[m\u001b[K]\n",
            "  439 |     for (register size_t \u001b[01;35m\u001b[Ki\u001b[m\u001b[K = 0; i < len; ++i) {\n",
            "      |                          \u001b[01;35m\u001b[K^\u001b[m\u001b[K\n",
            "darts.h: In instantiation of ‘\u001b[01m\u001b[KT MeCab::Darts::DoubleArrayImpl<node_type_, node_u_type_, array_type_, array_u_type_, length_func_>::exactMatchSearch(const key_type*, size_t, size_t) const [with T = MeCab::Darts::DoubleArrayImpl<char, unsigned char, int, unsigned int>::result_pair_type; node_type_ = char; node_u_type_ = unsigned char; array_type_ = int; array_u_type_ = unsigned int; length_func_ = MeCab::Darts::Length<char>; MeCab::Darts::DoubleArrayImpl<node_type_, node_u_type_, array_type_, array_u_type_, length_func_>::key_type = char; size_t = long unsigned int]\u001b[m\u001b[K’:\n",
            "\u001b[01m\u001b[Kdarts.h:394:33:\u001b[m\u001b[K   required from ‘\u001b[01m\u001b[Kvoid MeCab::Darts::DoubleArrayImpl<node_type_, node_u_type_, array_type_, array_u_type_, length_func_>::exactMatchSearch(const key_type*, T&, size_t, size_t) const [with T = MeCab::Darts::DoubleArrayImpl<char, unsigned char, int, unsigned int>::result_pair_type; node_type_ = char; node_u_type_ = unsigned char; array_type_ = int; array_u_type_ = unsigned int; length_func_ = MeCab::Darts::Length<char>; MeCab::Darts::DoubleArrayImpl<node_type_, node_u_type_, array_type_, array_u_type_, length_func_>::key_type = char; size_t = long unsigned int]\u001b[m\u001b[K’\n",
            "\u001b[01m\u001b[Kdictionary.h:42:25:\u001b[m\u001b[K   required from here\n",
            "\u001b[01m\u001b[Kdarts.h:407:27:\u001b[m\u001b[K \u001b[01;35m\u001b[Kwarning: \u001b[m\u001b[KISO C++17 does not allow ‘\u001b[01m\u001b[Kregister\u001b[m\u001b[K’ storage class specifier [\u001b[01;35m\u001b[K\u001b]8;;https://gcc.gnu.org/onlinedocs/gcc/Warning-Options.html#index-Wregister\u0007-Wregister\u001b]8;;\u0007\u001b[m\u001b[K]\n",
            "  407 |     register array_type_  \u001b[01;35m\u001b[Kb\u001b[m\u001b[K = array_[node_pos].base;\n",
            "      |                           \u001b[01;35m\u001b[K^\u001b[m\u001b[K\n",
            "\u001b[01m\u001b[Kdarts.h:408:28:\u001b[m\u001b[K \u001b[01;35m\u001b[Kwarning: \u001b[m\u001b[KISO C++17 does not allow ‘\u001b[01m\u001b[Kregister\u001b[m\u001b[K’ storage class specifier [\u001b[01;35m\u001b[K\u001b]8;;https://gcc.gnu.org/onlinedocs/gcc/Warning-Options.html#index-Wregister\u0007-Wregister\u001b]8;;\u0007\u001b[m\u001b[K]\n",
            "  408 |     register array_u_type_ \u001b[01;35m\u001b[Kp\u001b[m\u001b[K;\n",
            "      |                            \u001b[01;35m\u001b[K^\u001b[m\u001b[K\n",
            "\u001b[01m\u001b[Kdarts.h:410:26:\u001b[m\u001b[K \u001b[01;35m\u001b[Kwarning: \u001b[m\u001b[KISO C++17 does not allow ‘\u001b[01m\u001b[Kregister\u001b[m\u001b[K’ storage class specifier [\u001b[01;35m\u001b[K\u001b]8;;https://gcc.gnu.org/onlinedocs/gcc/Warning-Options.html#index-Wregister\u0007-Wregister\u001b]8;;\u0007\u001b[m\u001b[K]\n",
            "  410 |     for (register size_t \u001b[01;35m\u001b[Ki\u001b[m\u001b[K = 0; i < len; ++i) {\n",
            "      |                          \u001b[01;35m\u001b[K^\u001b[m\u001b[K\n",
            "libtool: compile:  g++ -DHAVE_CONFIG_H -I. -I.. -DDIC_VERSION=102 -DMECAB_DEFAULT_RC=\\\"/usr/local/etc/mecabrc\\\" -O3 -Wall -c dictionary_compiler.cpp -o dictionary_compiler.o >/dev/null 2>&1\n",
            "/bin/bash ../libtool --tag=CXX   --mode=compile g++ -DHAVE_CONFIG_H -I. -I.. -DDIC_VERSION=102   -DMECAB_DEFAULT_RC=\"\\\"/usr/local/etc/mecabrc\\\"\"    -O3 -Wall  -c -o context_id.lo context_id.cpp\n",
            "libtool: compile:  g++ -DHAVE_CONFIG_H -I. -I.. -DDIC_VERSION=102 -DMECAB_DEFAULT_RC=\\\"/usr/local/etc/mecabrc\\\" -O3 -Wall -c context_id.cpp  -fPIC -DPIC -o .libs/context_id.o\n",
            "libtool: compile:  g++ -DHAVE_CONFIG_H -I. -I.. -DDIC_VERSION=102 -DMECAB_DEFAULT_RC=\\\"/usr/local/etc/mecabrc\\\" -O3 -Wall -c context_id.cpp -o context_id.o >/dev/null 2>&1\n",
            "/bin/bash ../libtool --tag=CXX   --mode=compile g++ -DHAVE_CONFIG_H -I. -I.. -DDIC_VERSION=102   -DMECAB_DEFAULT_RC=\"\\\"/usr/local/etc/mecabrc\\\"\"    -O3 -Wall  -c -o connector.lo connector.cpp\n",
            "libtool: compile:  g++ -DHAVE_CONFIG_H -I. -I.. -DDIC_VERSION=102 -DMECAB_DEFAULT_RC=\\\"/usr/local/etc/mecabrc\\\" -O3 -Wall -c connector.cpp  -fPIC -DPIC -o .libs/connector.o\n",
            "libtool: compile:  g++ -DHAVE_CONFIG_H -I. -I.. -DDIC_VERSION=102 -DMECAB_DEFAULT_RC=\\\"/usr/local/etc/mecabrc\\\" -O3 -Wall -c connector.cpp -o connector.o >/dev/null 2>&1\n",
            "/bin/bash ../libtool --tag=CXX   --mode=compile g++ -DHAVE_CONFIG_H -I. -I.. -DDIC_VERSION=102   -DMECAB_DEFAULT_RC=\"\\\"/usr/local/etc/mecabrc\\\"\"    -O3 -Wall  -c -o nbest_generator.lo nbest_generator.cpp\n",
            "libtool: compile:  g++ -DHAVE_CONFIG_H -I. -I.. -DDIC_VERSION=102 -DMECAB_DEFAULT_RC=\\\"/usr/local/etc/mecabrc\\\" -O3 -Wall -c nbest_generator.cpp  -fPIC -DPIC -o .libs/nbest_generator.o\n",
            "libtool: compile:  g++ -DHAVE_CONFIG_H -I. -I.. -DDIC_VERSION=102 -DMECAB_DEFAULT_RC=\\\"/usr/local/etc/mecabrc\\\" -O3 -Wall -c nbest_generator.cpp -o nbest_generator.o >/dev/null 2>&1\n",
            "/bin/bash ../libtool --tag=CXX   --mode=compile g++ -DHAVE_CONFIG_H -I. -I.. -DDIC_VERSION=102   -DMECAB_DEFAULT_RC=\"\\\"/usr/local/etc/mecabrc\\\"\"    -O3 -Wall  -c -o writer.lo writer.cpp\n",
            "libtool: compile:  g++ -DHAVE_CONFIG_H -I. -I.. -DDIC_VERSION=102 -DMECAB_DEFAULT_RC=\\\"/usr/local/etc/mecabrc\\\" -O3 -Wall -c writer.cpp  -fPIC -DPIC -o .libs/writer.o\n",
            "In file included from \u001b[01m\u001b[K/usr/include/string.h:535\u001b[m\u001b[K,\n",
            "                 from \u001b[01m\u001b[K/usr/include/c++/11/cstring:42\u001b[m\u001b[K,\n",
            "                 from \u001b[01m\u001b[Kwriter.cpp:7\u001b[m\u001b[K:\n",
            "In function ‘\u001b[01m\u001b[Kchar* strncpy(char*, const char*, size_t)\u001b[m\u001b[K’,\n",
            "    inlined from ‘\u001b[01m\u001b[Kbool MeCab::Writer::writeNode(MeCab::Lattice*, const char*, const Node*, MeCab::StringBuffer*) const\u001b[m\u001b[K’ at \u001b[01m\u001b[Kwriter.cpp:352:27\u001b[m\u001b[K:\n",
            "\u001b[01m\u001b[K/usr/include/x86_64-linux-gnu/bits/string_fortified.h:95:34:\u001b[m\u001b[K \u001b[01;35m\u001b[Kwarning: \u001b[m\u001b[K‘\u001b[01m\u001b[Kchar* __builtin_strncpy(char*, const char*, long unsigned int)\u001b[m\u001b[K’ specified bound 8192 equals destination size [\u001b[01;35m\u001b[K\u001b]8;;https://gcc.gnu.org/onlinedocs/gcc/Warning-Options.html#index-Wstringop-truncation\u0007-Wstringop-truncation\u001b]8;;\u0007\u001b[m\u001b[K]\n",
            "   95 |   return \u001b[01;35m\u001b[K__builtin___strncpy_chk (__dest, __src, __len,\u001b[m\u001b[K\n",
            "      |          \u001b[01;35m\u001b[K~~~~~~~~~~~~~~~~~~~~~~~~^~~~~~~~~~~~~~~~~~~~~~\u001b[m\u001b[K\n",
            "   96 | \u001b[01;35m\u001b[K                                  __glibc_objsize (__dest))\u001b[m\u001b[K;\n",
            "      |                                   \u001b[01;35m\u001b[K~~~~~~~~~~~~~~~~~~~~~~~~~\u001b[m\u001b[K\n",
            "libtool: compile:  g++ -DHAVE_CONFIG_H -I. -I.. -DDIC_VERSION=102 -DMECAB_DEFAULT_RC=\\\"/usr/local/etc/mecabrc\\\" -O3 -Wall -c writer.cpp -o writer.o >/dev/null 2>&1\n",
            "/bin/bash ../libtool --tag=CXX   --mode=compile g++ -DHAVE_CONFIG_H -I. -I.. -DDIC_VERSION=102   -DMECAB_DEFAULT_RC=\"\\\"/usr/local/etc/mecabrc\\\"\"    -O3 -Wall  -c -o string_buffer.lo string_buffer.cpp\n",
            "libtool: compile:  g++ -DHAVE_CONFIG_H -I. -I.. -DDIC_VERSION=102 -DMECAB_DEFAULT_RC=\\\"/usr/local/etc/mecabrc\\\" -O3 -Wall -c string_buffer.cpp  -fPIC -DPIC -o .libs/string_buffer.o\n",
            "libtool: compile:  g++ -DHAVE_CONFIG_H -I. -I.. -DDIC_VERSION=102 -DMECAB_DEFAULT_RC=\\\"/usr/local/etc/mecabrc\\\" -O3 -Wall -c string_buffer.cpp -o string_buffer.o >/dev/null 2>&1\n",
            "/bin/bash ../libtool --tag=CXX   --mode=compile g++ -DHAVE_CONFIG_H -I. -I.. -DDIC_VERSION=102   -DMECAB_DEFAULT_RC=\"\\\"/usr/local/etc/mecabrc\\\"\"    -O3 -Wall  -c -o param.lo param.cpp\n",
            "libtool: compile:  g++ -DHAVE_CONFIG_H -I. -I.. -DDIC_VERSION=102 -DMECAB_DEFAULT_RC=\\\"/usr/local/etc/mecabrc\\\" -O3 -Wall -c param.cpp  -fPIC -DPIC -o .libs/param.o\n",
            "In file included from \u001b[01m\u001b[K/usr/include/string.h:535\u001b[m\u001b[K,\n",
            "                 from \u001b[01m\u001b[K/usr/include/c++/11/cstring:42\u001b[m\u001b[K,\n",
            "                 from \u001b[01m\u001b[Kcommon.h:13\u001b[m\u001b[K,\n",
            "                 from \u001b[01m\u001b[Kparam.cpp:8\u001b[m\u001b[K:\n",
            "In function ‘\u001b[01m\u001b[Kchar* strncpy(char*, const char*, size_t)\u001b[m\u001b[K’,\n",
            "    inlined from ‘\u001b[01m\u001b[Kbool MeCab::Param::open(const char*, const MeCab::Option*)\u001b[m\u001b[K’ at \u001b[01m\u001b[Kparam.cpp:194:15\u001b[m\u001b[K:\n",
            "\u001b[01m\u001b[K/usr/include/x86_64-linux-gnu/bits/string_fortified.h:95:34:\u001b[m\u001b[K \u001b[01;35m\u001b[Kwarning: \u001b[m\u001b[K‘\u001b[01m\u001b[Kchar* __builtin_strncpy(char*, const char*, long unsigned int)\u001b[m\u001b[K’ specified bound 8192 equals destination size [\u001b[01;35m\u001b[K\u001b]8;;https://gcc.gnu.org/onlinedocs/gcc/Warning-Options.html#index-Wstringop-truncation\u0007-Wstringop-truncation\u001b]8;;\u0007\u001b[m\u001b[K]\n",
            "   95 |   return \u001b[01;35m\u001b[K__builtin___strncpy_chk (__dest, __src, __len,\u001b[m\u001b[K\n",
            "      |          \u001b[01;35m\u001b[K~~~~~~~~~~~~~~~~~~~~~~~~^~~~~~~~~~~~~~~~~~~~~~\u001b[m\u001b[K\n",
            "   96 | \u001b[01;35m\u001b[K                                  __glibc_objsize (__dest))\u001b[m\u001b[K;\n",
            "      |                                   \u001b[01;35m\u001b[K~~~~~~~~~~~~~~~~~~~~~~~~~\u001b[m\u001b[K\n",
            "libtool: compile:  g++ -DHAVE_CONFIG_H -I. -I.. -DDIC_VERSION=102 -DMECAB_DEFAULT_RC=\\\"/usr/local/etc/mecabrc\\\" -O3 -Wall -c param.cpp -o param.o >/dev/null 2>&1\n",
            "/bin/bash ../libtool --tag=CXX   --mode=compile g++ -DHAVE_CONFIG_H -I. -I.. -DDIC_VERSION=102   -DMECAB_DEFAULT_RC=\"\\\"/usr/local/etc/mecabrc\\\"\"    -O3 -Wall  -c -o tokenizer.lo tokenizer.cpp\n",
            "libtool: compile:  g++ -DHAVE_CONFIG_H -I. -I.. -DDIC_VERSION=102 -DMECAB_DEFAULT_RC=\\\"/usr/local/etc/mecabrc\\\" -O3 -Wall -c tokenizer.cpp  -fPIC -DPIC -o .libs/tokenizer.o\n",
            "In file included from \u001b[01m\u001b[Ktokenizer.cpp:8\u001b[m\u001b[K:\n",
            "\u001b[01m\u001b[Kdarts.h:\u001b[m\u001b[K In member function ‘\u001b[01m\u001b[KT MeCab::Darts::DoubleArrayImpl<node_type_, node_u_type_, array_type_, array_u_type_, length_func_>::exactMatchSearch(const key_type*, size_t, size_t) const\u001b[m\u001b[K’:\n",
            "\u001b[01m\u001b[Kdarts.h:407:27:\u001b[m\u001b[K \u001b[01;35m\u001b[Kwarning: \u001b[m\u001b[KISO C++17 does not allow ‘\u001b[01m\u001b[Kregister\u001b[m\u001b[K’ storage class specifier [\u001b[01;35m\u001b[K\u001b]8;;https://gcc.gnu.org/onlinedocs/gcc/Warning-Options.html#index-Wregister\u0007-Wregister\u001b]8;;\u0007\u001b[m\u001b[K]\n",
            "  407 |     register array_type_  \u001b[01;35m\u001b[Kb\u001b[m\u001b[K = array_[node_pos].base;\n",
            "      |                           \u001b[01;35m\u001b[K^\u001b[m\u001b[K\n",
            "\u001b[01m\u001b[Kdarts.h:408:28:\u001b[m\u001b[K \u001b[01;35m\u001b[Kwarning: \u001b[m\u001b[KISO C++17 does not allow ‘\u001b[01m\u001b[Kregister\u001b[m\u001b[K’ storage class specifier [\u001b[01;35m\u001b[K\u001b]8;;https://gcc.gnu.org/onlinedocs/gcc/Warning-Options.html#index-Wregister\u0007-Wregister\u001b]8;;\u0007\u001b[m\u001b[K]\n",
            "  408 |     register array_u_type_ \u001b[01;35m\u001b[Kp\u001b[m\u001b[K;\n",
            "      |                            \u001b[01;35m\u001b[K^\u001b[m\u001b[K\n",
            "\u001b[01m\u001b[Kdarts.h:410:26:\u001b[m\u001b[K \u001b[01;35m\u001b[Kwarning: \u001b[m\u001b[KISO C++17 does not allow ‘\u001b[01m\u001b[Kregister\u001b[m\u001b[K’ storage class specifier [\u001b[01;35m\u001b[K\u001b]8;;https://gcc.gnu.org/onlinedocs/gcc/Warning-Options.html#index-Wregister\u0007-Wregister\u001b]8;;\u0007\u001b[m\u001b[K]\n",
            "  410 |     for (register size_t \u001b[01;35m\u001b[Ki\u001b[m\u001b[K = 0; i < len; ++i) {\n",
            "      |                          \u001b[01;35m\u001b[K^\u001b[m\u001b[K\n",
            "\u001b[01m\u001b[Kdarts.h:\u001b[m\u001b[K In member function ‘\u001b[01m\u001b[Ksize_t MeCab::Darts::DoubleArrayImpl<node_type_, node_u_type_, array_type_, array_u_type_, length_func_>::commonPrefixSearch(const key_type*, T*, size_t, size_t, size_t) const\u001b[m\u001b[K’:\n",
            "\u001b[01m\u001b[Kdarts.h:434:27:\u001b[m\u001b[K \u001b[01;35m\u001b[Kwarning: \u001b[m\u001b[KISO C++17 does not allow ‘\u001b[01m\u001b[Kregister\u001b[m\u001b[K’ storage class specifier [\u001b[01;35m\u001b[K\u001b]8;;https://gcc.gnu.org/onlinedocs/gcc/Warning-Options.html#index-Wregister\u0007-Wregister\u001b]8;;\u0007\u001b[m\u001b[K]\n",
            "  434 |     register array_type_  \u001b[01;35m\u001b[Kb\u001b[m\u001b[K   = array_[node_pos].base;\n",
            "      |                           \u001b[01;35m\u001b[K^\u001b[m\u001b[K\n",
            "\u001b[01m\u001b[Kdarts.h:435:25:\u001b[m\u001b[K \u001b[01;35m\u001b[Kwarning: \u001b[m\u001b[KISO C++17 does not allow ‘\u001b[01m\u001b[Kregister\u001b[m\u001b[K’ storage class specifier [\u001b[01;35m\u001b[K\u001b]8;;https://gcc.gnu.org/onlinedocs/gcc/Warning-Options.html#index-Wregister\u0007-Wregister\u001b]8;;\u0007\u001b[m\u001b[K]\n",
            "  435 |     register size_t     \u001b[01;35m\u001b[Knum\u001b[m\u001b[K = 0;\n",
            "      |                         \u001b[01;35m\u001b[K^~~\u001b[m\u001b[K\n",
            "\u001b[01m\u001b[Kdarts.h:436:27:\u001b[m\u001b[K \u001b[01;35m\u001b[Kwarning: \u001b[m\u001b[KISO C++17 does not allow ‘\u001b[01m\u001b[Kregister\u001b[m\u001b[K’ storage class specifier [\u001b[01;35m\u001b[K\u001b]8;;https://gcc.gnu.org/onlinedocs/gcc/Warning-Options.html#index-Wregister\u0007-Wregister\u001b]8;;\u0007\u001b[m\u001b[K]\n",
            "  436 |     register array_type_  \u001b[01;35m\u001b[Kn\u001b[m\u001b[K;\n",
            "      |                           \u001b[01;35m\u001b[K^\u001b[m\u001b[K\n",
            "\u001b[01m\u001b[Kdarts.h:437:28:\u001b[m\u001b[K \u001b[01;35m\u001b[Kwarning: \u001b[m\u001b[KISO C++17 does not allow ‘\u001b[01m\u001b[Kregister\u001b[m\u001b[K’ storage class specifier [\u001b[01;35m\u001b[K\u001b]8;;https://gcc.gnu.org/onlinedocs/gcc/Warning-Options.html#index-Wregister\u0007-Wregister\u001b]8;;\u0007\u001b[m\u001b[K]\n",
            "  437 |     register array_u_type_ \u001b[01;35m\u001b[Kp\u001b[m\u001b[K;\n",
            "      |                            \u001b[01;35m\u001b[K^\u001b[m\u001b[K\n",
            "\u001b[01m\u001b[Kdarts.h:439:26:\u001b[m\u001b[K \u001b[01;35m\u001b[Kwarning: \u001b[m\u001b[KISO C++17 does not allow ‘\u001b[01m\u001b[Kregister\u001b[m\u001b[K’ storage class specifier [\u001b[01;35m\u001b[K\u001b]8;;https://gcc.gnu.org/onlinedocs/gcc/Warning-Options.html#index-Wregister\u0007-Wregister\u001b]8;;\u0007\u001b[m\u001b[K]\n",
            "  439 |     for (register size_t \u001b[01;35m\u001b[Ki\u001b[m\u001b[K = 0; i < len; ++i) {\n",
            "      |                          \u001b[01;35m\u001b[K^\u001b[m\u001b[K\n",
            "\u001b[01m\u001b[Kdarts.h:\u001b[m\u001b[K In member function ‘\u001b[01m\u001b[KMeCab::Darts::DoubleArrayImpl<node_type_, node_u_type_, array_type_, array_u_type_, length_func_>::value_type MeCab::Darts::DoubleArrayImpl<node_type_, node_u_type_, array_type_, array_u_type_, length_func_>::traverse(const key_type*, size_t&, size_t&, size_t) const\u001b[m\u001b[K’:\n",
            "\u001b[01m\u001b[Kdarts.h:472:27:\u001b[m\u001b[K \u001b[01;35m\u001b[Kwarning: \u001b[m\u001b[KISO C++17 does not allow ‘\u001b[01m\u001b[Kregister\u001b[m\u001b[K’ storage class specifier [\u001b[01;35m\u001b[K\u001b]8;;https://gcc.gnu.org/onlinedocs/gcc/Warning-Options.html#index-Wregister\u0007-Wregister\u001b]8;;\u0007\u001b[m\u001b[K]\n",
            "  472 |     register array_type_  \u001b[01;35m\u001b[Kb\u001b[m\u001b[K = array_[node_pos].base;\n",
            "      |                           \u001b[01;35m\u001b[K^\u001b[m\u001b[K\n",
            "\u001b[01m\u001b[Kdarts.h:473:28:\u001b[m\u001b[K \u001b[01;35m\u001b[Kwarning: \u001b[m\u001b[KISO C++17 does not allow ‘\u001b[01m\u001b[Kregister\u001b[m\u001b[K’ storage class specifier [\u001b[01;35m\u001b[K\u001b]8;;https://gcc.gnu.org/onlinedocs/gcc/Warning-Options.html#index-Wregister\u0007-Wregister\u001b]8;;\u0007\u001b[m\u001b[K]\n",
            "  473 |     register array_u_type_ \u001b[01;35m\u001b[Kp\u001b[m\u001b[K;\n",
            "      |                            \u001b[01;35m\u001b[K^\u001b[m\u001b[K\n",
            "In file included from \u001b[01m\u001b[Kdictionary.h:12\u001b[m\u001b[K,\n",
            "                 from \u001b[01m\u001b[Ktokenizer.h:11\u001b[m\u001b[K,\n",
            "                 from \u001b[01m\u001b[Ktokenizer.cpp:12\u001b[m\u001b[K:\n",
            "\u001b[01m\u001b[Kchar_property.h:\u001b[m\u001b[K In member function ‘\u001b[01m\u001b[Kconst char* MeCab::CharProperty::seekToOtherType(const char*, const char*, MeCab::CharInfo, MeCab::CharInfo*, size_t*, size_t*) const\u001b[m\u001b[K’:\n",
            "\u001b[01m\u001b[Kchar_property.h:40:26:\u001b[m\u001b[K \u001b[01;35m\u001b[Kwarning: \u001b[m\u001b[KISO C++17 does not allow ‘\u001b[01m\u001b[Kregister\u001b[m\u001b[K’ storage class specifier [\u001b[01;35m\u001b[K\u001b]8;;https://gcc.gnu.org/onlinedocs/gcc/Warning-Options.html#index-Wregister\u0007-Wregister\u001b]8;;\u0007\u001b[m\u001b[K]\n",
            "   40 |     register const char *\u001b[01;35m\u001b[Kp\u001b[m\u001b[K =  begin;\n",
            "      |                          \u001b[01;35m\u001b[K^\u001b[m\u001b[K\n",
            "In file included from \u001b[01m\u001b[Ktokenizer.cpp:8\u001b[m\u001b[K:\n",
            "darts.h: In instantiation of ‘\u001b[01m\u001b[Ksize_t MeCab::Darts::DoubleArrayImpl<node_type_, node_u_type_, array_type_, array_u_type_, length_func_>::commonPrefixSearch(const key_type*, T*, size_t, size_t, size_t) const [with T = MeCab::Darts::DoubleArrayImpl<char, unsigned char, int, unsigned int>::result_pair_type; node_type_ = char; node_u_type_ = unsigned char; array_type_ = int; array_u_type_ = unsigned int; length_func_ = MeCab::Darts::Length<char>; size_t = long unsigned int; MeCab::Darts::DoubleArrayImpl<node_type_, node_u_type_, array_type_, array_u_type_, length_func_>::key_type = char]\u001b[m\u001b[K’:\n",
            "\u001b[01m\u001b[Kdictionary.h:37:34:\u001b[m\u001b[K   required from here\n",
            "\u001b[01m\u001b[Kdarts.h:434:27:\u001b[m\u001b[K \u001b[01;35m\u001b[Kwarning: \u001b[m\u001b[KISO C++17 does not allow ‘\u001b[01m\u001b[Kregister\u001b[m\u001b[K’ storage class specifier [\u001b[01;35m\u001b[K\u001b]8;;https://gcc.gnu.org/onlinedocs/gcc/Warning-Options.html#index-Wregister\u0007-Wregister\u001b]8;;\u0007\u001b[m\u001b[K]\n",
            "  434 |     register array_type_  \u001b[01;35m\u001b[Kb\u001b[m\u001b[K   = array_[node_pos].base;\n",
            "      |                           \u001b[01;35m\u001b[K^\u001b[m\u001b[K\n",
            "\u001b[01m\u001b[Kdarts.h:435:25:\u001b[m\u001b[K \u001b[01;35m\u001b[Kwarning: \u001b[m\u001b[KISO C++17 does not allow ‘\u001b[01m\u001b[Kregister\u001b[m\u001b[K’ storage class specifier [\u001b[01;35m\u001b[K\u001b]8;;https://gcc.gnu.org/onlinedocs/gcc/Warning-Options.html#index-Wregister\u0007-Wregister\u001b]8;;\u0007\u001b[m\u001b[K]\n",
            "  435 |     register size_t     \u001b[01;35m\u001b[Knum\u001b[m\u001b[K = 0;\n",
            "      |                         \u001b[01;35m\u001b[K^~~\u001b[m\u001b[K\n",
            "\u001b[01m\u001b[Kdarts.h:436:27:\u001b[m\u001b[K \u001b[01;35m\u001b[Kwarning: \u001b[m\u001b[KISO C++17 does not allow ‘\u001b[01m\u001b[Kregister\u001b[m\u001b[K’ storage class specifier [\u001b[01;35m\u001b[K\u001b]8;;https://gcc.gnu.org/onlinedocs/gcc/Warning-Options.html#index-Wregister\u0007-Wregister\u001b]8;;\u0007\u001b[m\u001b[K]\n",
            "  436 |     register array_type_  \u001b[01;35m\u001b[Kn\u001b[m\u001b[K;\n",
            "      |                           \u001b[01;35m\u001b[K^\u001b[m\u001b[K\n",
            "\u001b[01m\u001b[Kdarts.h:437:28:\u001b[m\u001b[K \u001b[01;35m\u001b[Kwarning: \u001b[m\u001b[KISO C++17 does not allow ‘\u001b[01m\u001b[Kregister\u001b[m\u001b[K’ storage class specifier [\u001b[01;35m\u001b[K\u001b]8;;https://gcc.gnu.org/onlinedocs/gcc/Warning-Options.html#index-Wregister\u0007-Wregister\u001b]8;;\u0007\u001b[m\u001b[K]\n",
            "  437 |     register array_u_type_ \u001b[01;35m\u001b[Kp\u001b[m\u001b[K;\n",
            "      |                            \u001b[01;35m\u001b[K^\u001b[m\u001b[K\n",
            "\u001b[01m\u001b[Kdarts.h:439:26:\u001b[m\u001b[K \u001b[01;35m\u001b[Kwarning: \u001b[m\u001b[KISO C++17 does not allow ‘\u001b[01m\u001b[Kregister\u001b[m\u001b[K’ storage class specifier [\u001b[01;35m\u001b[K\u001b]8;;https://gcc.gnu.org/onlinedocs/gcc/Warning-Options.html#index-Wregister\u0007-Wregister\u001b]8;;\u0007\u001b[m\u001b[K]\n",
            "  439 |     for (register size_t \u001b[01;35m\u001b[Ki\u001b[m\u001b[K = 0; i < len; ++i) {\n",
            "      |                          \u001b[01;35m\u001b[K^\u001b[m\u001b[K\n",
            "darts.h: In instantiation of ‘\u001b[01m\u001b[KT MeCab::Darts::DoubleArrayImpl<node_type_, node_u_type_, array_type_, array_u_type_, length_func_>::exactMatchSearch(const key_type*, size_t, size_t) const [with T = MeCab::Darts::DoubleArrayImpl<char, unsigned char, int, unsigned int>::result_pair_type; node_type_ = char; node_u_type_ = unsigned char; array_type_ = int; array_u_type_ = unsigned int; length_func_ = MeCab::Darts::Length<char>; MeCab::Darts::DoubleArrayImpl<node_type_, node_u_type_, array_type_, array_u_type_, length_func_>::key_type = char; size_t = long unsigned int]\u001b[m\u001b[K’:\n",
            "\u001b[01m\u001b[Kdarts.h:394:33:\u001b[m\u001b[K   required from ‘\u001b[01m\u001b[Kvoid MeCab::Darts::DoubleArrayImpl<node_type_, node_u_type_, array_type_, array_u_type_, length_func_>::exactMatchSearch(const key_type*, T&, size_t, size_t) const [with T = MeCab::Darts::DoubleArrayImpl<char, unsigned char, int, unsigned int>::result_pair_type; node_type_ = char; node_u_type_ = unsigned char; array_type_ = int; array_u_type_ = unsigned int; length_func_ = MeCab::Darts::Length<char>; MeCab::Darts::DoubleArrayImpl<node_type_, node_u_type_, array_type_, array_u_type_, length_func_>::key_type = char; size_t = long unsigned int]\u001b[m\u001b[K’\n",
            "\u001b[01m\u001b[Kdictionary.h:42:25:\u001b[m\u001b[K   required from here\n",
            "\u001b[01m\u001b[Kdarts.h:407:27:\u001b[m\u001b[K \u001b[01;35m\u001b[Kwarning: \u001b[m\u001b[KISO C++17 does not allow ‘\u001b[01m\u001b[Kregister\u001b[m\u001b[K’ storage class specifier [\u001b[01;35m\u001b[K\u001b]8;;https://gcc.gnu.org/onlinedocs/gcc/Warning-Options.html#index-Wregister\u0007-Wregister\u001b]8;;\u0007\u001b[m\u001b[K]\n",
            "  407 |     register array_type_  \u001b[01;35m\u001b[Kb\u001b[m\u001b[K = array_[node_pos].base;\n",
            "      |                           \u001b[01;35m\u001b[K^\u001b[m\u001b[K\n",
            "\u001b[01m\u001b[Kdarts.h:408:28:\u001b[m\u001b[K \u001b[01;35m\u001b[Kwarning: \u001b[m\u001b[KISO C++17 does not allow ‘\u001b[01m\u001b[Kregister\u001b[m\u001b[K’ storage class specifier [\u001b[01;35m\u001b[K\u001b]8;;https://gcc.gnu.org/onlinedocs/gcc/Warning-Options.html#index-Wregister\u0007-Wregister\u001b]8;;\u0007\u001b[m\u001b[K]\n",
            "  408 |     register array_u_type_ \u001b[01;35m\u001b[Kp\u001b[m\u001b[K;\n",
            "      |                            \u001b[01;35m\u001b[K^\u001b[m\u001b[K\n",
            "\u001b[01m\u001b[Kdarts.h:410:26:\u001b[m\u001b[K \u001b[01;35m\u001b[Kwarning: \u001b[m\u001b[KISO C++17 does not allow ‘\u001b[01m\u001b[Kregister\u001b[m\u001b[K’ storage class specifier [\u001b[01;35m\u001b[K\u001b]8;;https://gcc.gnu.org/onlinedocs/gcc/Warning-Options.html#index-Wregister\u0007-Wregister\u001b]8;;\u0007\u001b[m\u001b[K]\n",
            "  410 |     for (register size_t \u001b[01;35m\u001b[Ki\u001b[m\u001b[K = 0; i < len; ++i) {\n",
            "      |                          \u001b[01;35m\u001b[K^\u001b[m\u001b[K\n",
            "In file included from \u001b[01m\u001b[K/usr/include/string.h:535\u001b[m\u001b[K,\n",
            "                 from \u001b[01m\u001b[K/usr/include/c++/11/cstring:42\u001b[m\u001b[K,\n",
            "                 from \u001b[01m\u001b[Kcommon.h:13\u001b[m\u001b[K,\n",
            "                 from \u001b[01m\u001b[Ktokenizer.cpp:6\u001b[m\u001b[K:\n",
            "In function ‘\u001b[01m\u001b[Kchar* strncpy(char*, const char*, size_t)\u001b[m\u001b[K’,\n",
            "    inlined from ‘\u001b[01m\u001b[Kbool MeCab::{anonymous}::partial_match(const char*, const char*)\u001b[m\u001b[K’ at \u001b[01m\u001b[Ktokenizer.cpp:193:15\u001b[m\u001b[K,\n",
            "    inlined from ‘\u001b[01m\u001b[Kbool MeCab::{anonymous}::is_valid_node(const MeCab::Lattice*, N*) [with N = mecab_node_t]\u001b[m\u001b[K’ at \u001b[01m\u001b[Ktokenizer.cpp:224:20\u001b[m\u001b[K:\n",
            "\u001b[01m\u001b[K/usr/include/x86_64-linux-gnu/bits/string_fortified.h:95:34:\u001b[m\u001b[K \u001b[01;35m\u001b[Kwarning: \u001b[m\u001b[K‘\u001b[01m\u001b[Kchar* __builtin_strncpy(char*, const char*, long unsigned int)\u001b[m\u001b[K’ specified bound 8192 equals destination size [\u001b[01;35m\u001b[K\u001b]8;;https://gcc.gnu.org/onlinedocs/gcc/Warning-Options.html#index-Wstringop-truncation\u0007-Wstringop-truncation\u001b]8;;\u0007\u001b[m\u001b[K]\n",
            "   95 |   return \u001b[01;35m\u001b[K__builtin___strncpy_chk (__dest, __src, __len,\u001b[m\u001b[K\n",
            "      |          \u001b[01;35m\u001b[K~~~~~~~~~~~~~~~~~~~~~~~~^~~~~~~~~~~~~~~~~~~~~~\u001b[m\u001b[K\n",
            "   96 | \u001b[01;35m\u001b[K                                  __glibc_objsize (__dest))\u001b[m\u001b[K;\n",
            "      |                                   \u001b[01;35m\u001b[K~~~~~~~~~~~~~~~~~~~~~~~~~\u001b[m\u001b[K\n",
            "In function ‘\u001b[01m\u001b[Kchar* strncpy(char*, const char*, size_t)\u001b[m\u001b[K’,\n",
            "    inlined from ‘\u001b[01m\u001b[Kbool MeCab::{anonymous}::partial_match(const char*, const char*)\u001b[m\u001b[K’ at \u001b[01m\u001b[Ktokenizer.cpp:194:15\u001b[m\u001b[K,\n",
            "    inlined from ‘\u001b[01m\u001b[Kbool MeCab::{anonymous}::is_valid_node(const MeCab::Lattice*, N*) [with N = mecab_node_t]\u001b[m\u001b[K’ at \u001b[01m\u001b[Ktokenizer.cpp:224:20\u001b[m\u001b[K:\n",
            "\u001b[01m\u001b[K/usr/include/x86_64-linux-gnu/bits/string_fortified.h:95:34:\u001b[m\u001b[K \u001b[01;35m\u001b[Kwarning: \u001b[m\u001b[K‘\u001b[01m\u001b[Kchar* __builtin_strncpy(char*, const char*, long unsigned int)\u001b[m\u001b[K’ specified bound 8192 equals destination size [\u001b[01;35m\u001b[K\u001b]8;;https://gcc.gnu.org/onlinedocs/gcc/Warning-Options.html#index-Wstringop-truncation\u0007-Wstringop-truncation\u001b]8;;\u0007\u001b[m\u001b[K]\n",
            "   95 |   return \u001b[01;35m\u001b[K__builtin___strncpy_chk (__dest, __src, __len,\u001b[m\u001b[K\n",
            "      |          \u001b[01;35m\u001b[K~~~~~~~~~~~~~~~~~~~~~~~~^~~~~~~~~~~~~~~~~~~~~~\u001b[m\u001b[K\n",
            "   96 | \u001b[01;35m\u001b[K                                  __glibc_objsize (__dest))\u001b[m\u001b[K;\n",
            "      |                                   \u001b[01;35m\u001b[K~~~~~~~~~~~~~~~~~~~~~~~~~\u001b[m\u001b[K\n",
            "In function ‘\u001b[01m\u001b[Kchar* strncpy(char*, const char*, size_t)\u001b[m\u001b[K’,\n",
            "    inlined from ‘\u001b[01m\u001b[Kbool MeCab::Tokenizer<N, P>::open(const MeCab::Param&) [with N = mecab_learner_node_t; P = mecab_learner_path_t]\u001b[m\u001b[K’ at \u001b[01m\u001b[Ktokenizer.cpp:123:17\u001b[m\u001b[K:\n",
            "\u001b[01m\u001b[K/usr/include/x86_64-linux-gnu/bits/string_fortified.h:95:34:\u001b[m\u001b[K \u001b[01;35m\u001b[Kwarning: \u001b[m\u001b[K‘\u001b[01m\u001b[Kchar* __builtin_strncpy(char*, const char*, long unsigned int)\u001b[m\u001b[K’ specified bound 8192 equals destination size [\u001b[01;35m\u001b[K\u001b]8;;https://gcc.gnu.org/onlinedocs/gcc/Warning-Options.html#index-Wstringop-truncation\u0007-Wstringop-truncation\u001b]8;;\u0007\u001b[m\u001b[K]\n",
            "   95 |   return \u001b[01;35m\u001b[K__builtin___strncpy_chk (__dest, __src, __len,\u001b[m\u001b[K\n",
            "      |          \u001b[01;35m\u001b[K~~~~~~~~~~~~~~~~~~~~~~~~^~~~~~~~~~~~~~~~~~~~~~\u001b[m\u001b[K\n",
            "   96 | \u001b[01;35m\u001b[K                                  __glibc_objsize (__dest))\u001b[m\u001b[K;\n",
            "      |                                   \u001b[01;35m\u001b[K~~~~~~~~~~~~~~~~~~~~~~~~~\u001b[m\u001b[K\n",
            "In function ‘\u001b[01m\u001b[Kchar* strncpy(char*, const char*, size_t)\u001b[m\u001b[K’,\n",
            "    inlined from ‘\u001b[01m\u001b[Kbool MeCab::Tokenizer<N, P>::open(const MeCab::Param&) [with N = mecab_node_t; P = mecab_path_t]\u001b[m\u001b[K’ at \u001b[01m\u001b[Ktokenizer.cpp:123:17\u001b[m\u001b[K:\n",
            "\u001b[01m\u001b[K/usr/include/x86_64-linux-gnu/bits/string_fortified.h:95:34:\u001b[m\u001b[K \u001b[01;35m\u001b[Kwarning: \u001b[m\u001b[K‘\u001b[01m\u001b[Kchar* __builtin_strncpy(char*, const char*, long unsigned int)\u001b[m\u001b[K’ specified bound 8192 equals destination size [\u001b[01;35m\u001b[K\u001b]8;;https://gcc.gnu.org/onlinedocs/gcc/Warning-Options.html#index-Wstringop-truncation\u0007-Wstringop-truncation\u001b]8;;\u0007\u001b[m\u001b[K]\n",
            "   95 |   return \u001b[01;35m\u001b[K__builtin___strncpy_chk (__dest, __src, __len,\u001b[m\u001b[K\n",
            "      |          \u001b[01;35m\u001b[K~~~~~~~~~~~~~~~~~~~~~~~~^~~~~~~~~~~~~~~~~~~~~~\u001b[m\u001b[K\n",
            "   96 | \u001b[01;35m\u001b[K                                  __glibc_objsize (__dest))\u001b[m\u001b[K;\n",
            "      |                                   \u001b[01;35m\u001b[K~~~~~~~~~~~~~~~~~~~~~~~~~\u001b[m\u001b[K\n",
            "libtool: compile:  g++ -DHAVE_CONFIG_H -I. -I.. -DDIC_VERSION=102 -DMECAB_DEFAULT_RC=\\\"/usr/local/etc/mecabrc\\\" -O3 -Wall -c tokenizer.cpp -o tokenizer.o >/dev/null 2>&1\n",
            "/bin/bash ../libtool --tag=CXX   --mode=compile g++ -DHAVE_CONFIG_H -I. -I.. -DDIC_VERSION=102   -DMECAB_DEFAULT_RC=\"\\\"/usr/local/etc/mecabrc\\\"\"    -O3 -Wall  -c -o char_property.lo char_property.cpp\n",
            "libtool: compile:  g++ -DHAVE_CONFIG_H -I. -I.. -DDIC_VERSION=102 -DMECAB_DEFAULT_RC=\\\"/usr/local/etc/mecabrc\\\" -O3 -Wall -c char_property.cpp  -fPIC -DPIC -o .libs/char_property.o\n",
            "In file included from \u001b[01m\u001b[Kchar_property.cpp:11\u001b[m\u001b[K:\n",
            "\u001b[01m\u001b[Kchar_property.h:\u001b[m\u001b[K In member function ‘\u001b[01m\u001b[Kconst char* MeCab::CharProperty::seekToOtherType(const char*, const char*, MeCab::CharInfo, MeCab::CharInfo*, size_t*, size_t*) const\u001b[m\u001b[K’:\n",
            "\u001b[01m\u001b[Kchar_property.h:40:26:\u001b[m\u001b[K \u001b[01;35m\u001b[Kwarning: \u001b[m\u001b[KISO C++17 does not allow ‘\u001b[01m\u001b[Kregister\u001b[m\u001b[K’ storage class specifier [\u001b[01;35m\u001b[K\u001b]8;;https://gcc.gnu.org/onlinedocs/gcc/Warning-Options.html#index-Wregister\u0007-Wregister\u001b]8;;\u0007\u001b[m\u001b[K]\n",
            "   40 |     register const char *\u001b[01;35m\u001b[Kp\u001b[m\u001b[K =  begin;\n",
            "      |                          \u001b[01;35m\u001b[K^\u001b[m\u001b[K\n",
            "\u001b[01m\u001b[Kchar_property.cpp:\u001b[m\u001b[K In static member function ‘\u001b[01m\u001b[Kstatic bool MeCab::CharProperty::compile(const char*, const char*, const char*)\u001b[m\u001b[K’:\n",
            "\u001b[01m\u001b[Kchar_property.cpp:194:18:\u001b[m\u001b[K \u001b[01;35m\u001b[Kwarning: \u001b[m\u001b[K‘\u001b[01m\u001b[Kvoid* memset(void*, int, size_t)\u001b[m\u001b[K’ clearing an object of non-trivial type ‘\u001b[01m\u001b[Kstruct MeCab::CharInfo\u001b[m\u001b[K’; use assignment or value-initialization instead [\u001b[01;35m\u001b[K\u001b]8;;https://gcc.gnu.org/onlinedocs/gcc/Warning-Options.html#index-Wclass-memaccess\u0007-Wclass-memaccess\u001b]8;;\u0007\u001b[m\u001b[K]\n",
            "  194 |       \u001b[01;35m\u001b[Kstd::memset(&c, 0, sizeof(c))\u001b[m\u001b[K;\n",
            "      |       \u001b[01;35m\u001b[K~~~~~~~~~~~^~~~~~~~~~~~~~~~~~\u001b[m\u001b[K\n",
            "In file included from \u001b[01m\u001b[Kchar_property.cpp:11\u001b[m\u001b[K:\n",
            "\u001b[01m\u001b[Kchar_property.h:16:8:\u001b[m\u001b[K \u001b[01;36m\u001b[Knote: \u001b[m\u001b[K‘\u001b[01m\u001b[Kstruct MeCab::CharInfo\u001b[m\u001b[K’ declared here\n",
            "   16 | struct \u001b[01;36m\u001b[KCharInfo\u001b[m\u001b[K {\n",
            "      |        \u001b[01;36m\u001b[K^~~~~~~~\u001b[m\u001b[K\n",
            "libtool: compile:  g++ -DHAVE_CONFIG_H -I. -I.. -DDIC_VERSION=102 -DMECAB_DEFAULT_RC=\\\"/usr/local/etc/mecabrc\\\" -O3 -Wall -c char_property.cpp -o char_property.o >/dev/null 2>&1\n",
            "/bin/bash ../libtool --tag=CXX   --mode=compile g++ -DHAVE_CONFIG_H -I. -I.. -DDIC_VERSION=102   -DMECAB_DEFAULT_RC=\"\\\"/usr/local/etc/mecabrc\\\"\"    -O3 -Wall  -c -o dictionary.lo dictionary.cpp\n",
            "libtool: compile:  g++ -DHAVE_CONFIG_H -I. -I.. -DDIC_VERSION=102 -DMECAB_DEFAULT_RC=\\\"/usr/local/etc/mecabrc\\\" -O3 -Wall -c dictionary.cpp  -fPIC -DPIC -o .libs/dictionary.o\n",
            "In file included from \u001b[01m\u001b[Kdictionary.cpp:10\u001b[m\u001b[K:\n",
            "\u001b[01m\u001b[Kchar_property.h:\u001b[m\u001b[K In member function ‘\u001b[01m\u001b[Kconst char* MeCab::CharProperty::seekToOtherType(const char*, const char*, MeCab::CharInfo, MeCab::CharInfo*, size_t*, size_t*) const\u001b[m\u001b[K’:\n",
            "\u001b[01m\u001b[Kchar_property.h:40:26:\u001b[m\u001b[K \u001b[01;35m\u001b[Kwarning: \u001b[m\u001b[KISO C++17 does not allow ‘\u001b[01m\u001b[Kregister\u001b[m\u001b[K’ storage class specifier [\u001b[01;35m\u001b[K\u001b]8;;https://gcc.gnu.org/onlinedocs/gcc/Warning-Options.html#index-Wregister\u0007-Wregister\u001b]8;;\u0007\u001b[m\u001b[K]\n",
            "   40 |     register const char *\u001b[01;35m\u001b[Kp\u001b[m\u001b[K =  begin;\n",
            "      |                          \u001b[01;35m\u001b[K^\u001b[m\u001b[K\n",
            "In file included from \u001b[01m\u001b[Kdictionary.h:11\u001b[m\u001b[K,\n",
            "                 from \u001b[01m\u001b[Kdictionary.cpp:12\u001b[m\u001b[K:\n",
            "\u001b[01m\u001b[Kdarts.h:\u001b[m\u001b[K In member function ‘\u001b[01m\u001b[KT MeCab::Darts::DoubleArrayImpl<node_type_, node_u_type_, array_type_, array_u_type_, length_func_>::exactMatchSearch(const key_type*, size_t, size_t) const\u001b[m\u001b[K’:\n",
            "\u001b[01m\u001b[Kdarts.h:407:27:\u001b[m\u001b[K \u001b[01;35m\u001b[Kwarning: \u001b[m\u001b[KISO C++17 does not allow ‘\u001b[01m\u001b[Kregister\u001b[m\u001b[K’ storage class specifier [\u001b[01;35m\u001b[K\u001b]8;;https://gcc.gnu.org/onlinedocs/gcc/Warning-Options.html#index-Wregister\u0007-Wregister\u001b]8;;\u0007\u001b[m\u001b[K]\n",
            "  407 |     register array_type_  \u001b[01;35m\u001b[Kb\u001b[m\u001b[K = array_[node_pos].base;\n",
            "      |                           \u001b[01;35m\u001b[K^\u001b[m\u001b[K\n",
            "\u001b[01m\u001b[Kdarts.h:408:28:\u001b[m\u001b[K \u001b[01;35m\u001b[Kwarning: \u001b[m\u001b[KISO C++17 does not allow ‘\u001b[01m\u001b[Kregister\u001b[m\u001b[K’ storage class specifier [\u001b[01;35m\u001b[K\u001b]8;;https://gcc.gnu.org/onlinedocs/gcc/Warning-Options.html#index-Wregister\u0007-Wregister\u001b]8;;\u0007\u001b[m\u001b[K]\n",
            "  408 |     register array_u_type_ \u001b[01;35m\u001b[Kp\u001b[m\u001b[K;\n",
            "      |                            \u001b[01;35m\u001b[K^\u001b[m\u001b[K\n",
            "\u001b[01m\u001b[Kdarts.h:410:26:\u001b[m\u001b[K \u001b[01;35m\u001b[Kwarning: \u001b[m\u001b[KISO C++17 does not allow ‘\u001b[01m\u001b[Kregister\u001b[m\u001b[K’ storage class specifier [\u001b[01;35m\u001b[K\u001b]8;;https://gcc.gnu.org/onlinedocs/gcc/Warning-Options.html#index-Wregister\u0007-Wregister\u001b]8;;\u0007\u001b[m\u001b[K]\n",
            "  410 |     for (register size_t \u001b[01;35m\u001b[Ki\u001b[m\u001b[K = 0; i < len; ++i) {\n",
            "      |                          \u001b[01;35m\u001b[K^\u001b[m\u001b[K\n",
            "\u001b[01m\u001b[Kdarts.h:\u001b[m\u001b[K In member function ‘\u001b[01m\u001b[Ksize_t MeCab::Darts::DoubleArrayImpl<node_type_, node_u_type_, array_type_, array_u_type_, length_func_>::commonPrefixSearch(const key_type*, T*, size_t, size_t, size_t) const\u001b[m\u001b[K’:\n",
            "\u001b[01m\u001b[Kdarts.h:434:27:\u001b[m\u001b[K \u001b[01;35m\u001b[Kwarning: \u001b[m\u001b[KISO C++17 does not allow ‘\u001b[01m\u001b[Kregister\u001b[m\u001b[K’ storage class specifier [\u001b[01;35m\u001b[K\u001b]8;;https://gcc.gnu.org/onlinedocs/gcc/Warning-Options.html#index-Wregister\u0007-Wregister\u001b]8;;\u0007\u001b[m\u001b[K]\n",
            "  434 |     register array_type_  \u001b[01;35m\u001b[Kb\u001b[m\u001b[K   = array_[node_pos].base;\n",
            "      |                           \u001b[01;35m\u001b[K^\u001b[m\u001b[K\n",
            "\u001b[01m\u001b[Kdarts.h:435:25:\u001b[m\u001b[K \u001b[01;35m\u001b[Kwarning: \u001b[m\u001b[KISO C++17 does not allow ‘\u001b[01m\u001b[Kregister\u001b[m\u001b[K’ storage class specifier [\u001b[01;35m\u001b[K\u001b]8;;https://gcc.gnu.org/onlinedocs/gcc/Warning-Options.html#index-Wregister\u0007-Wregister\u001b]8;;\u0007\u001b[m\u001b[K]\n",
            "  435 |     register size_t     \u001b[01;35m\u001b[Knum\u001b[m\u001b[K = 0;\n",
            "      |                         \u001b[01;35m\u001b[K^~~\u001b[m\u001b[K\n",
            "\u001b[01m\u001b[Kdarts.h:436:27:\u001b[m\u001b[K \u001b[01;35m\u001b[Kwarning: \u001b[m\u001b[KISO C++17 does not allow ‘\u001b[01m\u001b[Kregister\u001b[m\u001b[K’ storage class specifier [\u001b[01;35m\u001b[K\u001b]8;;https://gcc.gnu.org/onlinedocs/gcc/Warning-Options.html#index-Wregister\u0007-Wregister\u001b]8;;\u0007\u001b[m\u001b[K]\n",
            "  436 |     register array_type_  \u001b[01;35m\u001b[Kn\u001b[m\u001b[K;\n",
            "      |                           \u001b[01;35m\u001b[K^\u001b[m\u001b[K\n",
            "\u001b[01m\u001b[Kdarts.h:437:28:\u001b[m\u001b[K \u001b[01;35m\u001b[Kwarning: \u001b[m\u001b[KISO C++17 does not allow ‘\u001b[01m\u001b[Kregister\u001b[m\u001b[K’ storage class specifier [\u001b[01;35m\u001b[K\u001b]8;;https://gcc.gnu.org/onlinedocs/gcc/Warning-Options.html#index-Wregister\u0007-Wregister\u001b]8;;\u0007\u001b[m\u001b[K]\n",
            "  437 |     register array_u_type_ \u001b[01;35m\u001b[Kp\u001b[m\u001b[K;\n",
            "      |                            \u001b[01;35m\u001b[K^\u001b[m\u001b[K\n",
            "\u001b[01m\u001b[Kdarts.h:439:26:\u001b[m\u001b[K \u001b[01;35m\u001b[Kwarning: \u001b[m\u001b[KISO C++17 does not allow ‘\u001b[01m\u001b[Kregister\u001b[m\u001b[K’ storage class specifier [\u001b[01;35m\u001b[K\u001b]8;;https://gcc.gnu.org/onlinedocs/gcc/Warning-Options.html#index-Wregister\u0007-Wregister\u001b]8;;\u0007\u001b[m\u001b[K]\n",
            "  439 |     for (register size_t \u001b[01;35m\u001b[Ki\u001b[m\u001b[K = 0; i < len; ++i) {\n",
            "      |                          \u001b[01;35m\u001b[K^\u001b[m\u001b[K\n",
            "\u001b[01m\u001b[Kdarts.h:\u001b[m\u001b[K In member function ‘\u001b[01m\u001b[KMeCab::Darts::DoubleArrayImpl<node_type_, node_u_type_, array_type_, array_u_type_, length_func_>::value_type MeCab::Darts::DoubleArrayImpl<node_type_, node_u_type_, array_type_, array_u_type_, length_func_>::traverse(const key_type*, size_t&, size_t&, size_t) const\u001b[m\u001b[K’:\n",
            "\u001b[01m\u001b[Kdarts.h:472:27:\u001b[m\u001b[K \u001b[01;35m\u001b[Kwarning: \u001b[m\u001b[KISO C++17 does not allow ‘\u001b[01m\u001b[Kregister\u001b[m\u001b[K’ storage class specifier [\u001b[01;35m\u001b[K\u001b]8;;https://gcc.gnu.org/onlinedocs/gcc/Warning-Options.html#index-Wregister\u0007-Wregister\u001b]8;;\u0007\u001b[m\u001b[K]\n",
            "  472 |     register array_type_  \u001b[01;35m\u001b[Kb\u001b[m\u001b[K = array_[node_pos].base;\n",
            "      |                           \u001b[01;35m\u001b[K^\u001b[m\u001b[K\n",
            "\u001b[01m\u001b[Kdarts.h:473:28:\u001b[m\u001b[K \u001b[01;35m\u001b[Kwarning: \u001b[m\u001b[KISO C++17 does not allow ‘\u001b[01m\u001b[Kregister\u001b[m\u001b[K’ storage class specifier [\u001b[01;35m\u001b[K\u001b]8;;https://gcc.gnu.org/onlinedocs/gcc/Warning-Options.html#index-Wregister\u0007-Wregister\u001b]8;;\u0007\u001b[m\u001b[K]\n",
            "  473 |     register array_u_type_ \u001b[01;35m\u001b[Kp\u001b[m\u001b[K;\n",
            "      |                            \u001b[01;35m\u001b[K^\u001b[m\u001b[K\n",
            "darts.h: In instantiation of ‘\u001b[01m\u001b[Ksize_t MeCab::Darts::DoubleArrayImpl<node_type_, node_u_type_, array_type_, array_u_type_, length_func_>::commonPrefixSearch(const key_type*, T*, size_t, size_t, size_t) const [with T = MeCab::Darts::DoubleArrayImpl<char, unsigned char, int, unsigned int>::result_pair_type; node_type_ = char; node_u_type_ = unsigned char; array_type_ = int; array_u_type_ = unsigned int; length_func_ = MeCab::Darts::Length<char>; size_t = long unsigned int; MeCab::Darts::DoubleArrayImpl<node_type_, node_u_type_, array_type_, array_u_type_, length_func_>::key_type = char]\u001b[m\u001b[K’:\n",
            "\u001b[01m\u001b[Kdictionary.h:37:34:\u001b[m\u001b[K   required from here\n",
            "\u001b[01m\u001b[Kdarts.h:434:27:\u001b[m\u001b[K \u001b[01;35m\u001b[Kwarning: \u001b[m\u001b[KISO C++17 does not allow ‘\u001b[01m\u001b[Kregister\u001b[m\u001b[K’ storage class specifier [\u001b[01;35m\u001b[K\u001b]8;;https://gcc.gnu.org/onlinedocs/gcc/Warning-Options.html#index-Wregister\u0007-Wregister\u001b]8;;\u0007\u001b[m\u001b[K]\n",
            "  434 |     register array_type_  \u001b[01;35m\u001b[Kb\u001b[m\u001b[K   = array_[node_pos].base;\n",
            "      |                           \u001b[01;35m\u001b[K^\u001b[m\u001b[K\n",
            "\u001b[01m\u001b[Kdarts.h:435:25:\u001b[m\u001b[K \u001b[01;35m\u001b[Kwarning: \u001b[m\u001b[KISO C++17 does not allow ‘\u001b[01m\u001b[Kregister\u001b[m\u001b[K’ storage class specifier [\u001b[01;35m\u001b[K\u001b]8;;https://gcc.gnu.org/onlinedocs/gcc/Warning-Options.html#index-Wregister\u0007-Wregister\u001b]8;;\u0007\u001b[m\u001b[K]\n",
            "  435 |     register size_t     \u001b[01;35m\u001b[Knum\u001b[m\u001b[K = 0;\n",
            "      |                         \u001b[01;35m\u001b[K^~~\u001b[m\u001b[K\n",
            "\u001b[01m\u001b[Kdarts.h:436:27:\u001b[m\u001b[K \u001b[01;35m\u001b[Kwarning: \u001b[m\u001b[KISO C++17 does not allow ‘\u001b[01m\u001b[Kregister\u001b[m\u001b[K’ storage class specifier [\u001b[01;35m\u001b[K\u001b]8;;https://gcc.gnu.org/onlinedocs/gcc/Warning-Options.html#index-Wregister\u0007-Wregister\u001b]8;;\u0007\u001b[m\u001b[K]\n",
            "  436 |     register array_type_  \u001b[01;35m\u001b[Kn\u001b[m\u001b[K;\n",
            "      |                           \u001b[01;35m\u001b[K^\u001b[m\u001b[K\n",
            "\u001b[01m\u001b[Kdarts.h:437:28:\u001b[m\u001b[K \u001b[01;35m\u001b[Kwarning: \u001b[m\u001b[KISO C++17 does not allow ‘\u001b[01m\u001b[Kregister\u001b[m\u001b[K’ storage class specifier [\u001b[01;35m\u001b[K\u001b]8;;https://gcc.gnu.org/onlinedocs/gcc/Warning-Options.html#index-Wregister\u0007-Wregister\u001b]8;;\u0007\u001b[m\u001b[K]\n",
            "  437 |     register array_u_type_ \u001b[01;35m\u001b[Kp\u001b[m\u001b[K;\n",
            "      |                            \u001b[01;35m\u001b[K^\u001b[m\u001b[K\n",
            "\u001b[01m\u001b[Kdarts.h:439:26:\u001b[m\u001b[K \u001b[01;35m\u001b[Kwarning: \u001b[m\u001b[KISO C++17 does not allow ‘\u001b[01m\u001b[Kregister\u001b[m\u001b[K’ storage class specifier [\u001b[01;35m\u001b[K\u001b]8;;https://gcc.gnu.org/onlinedocs/gcc/Warning-Options.html#index-Wregister\u0007-Wregister\u001b]8;;\u0007\u001b[m\u001b[K]\n",
            "  439 |     for (register size_t \u001b[01;35m\u001b[Ki\u001b[m\u001b[K = 0; i < len; ++i) {\n",
            "      |                          \u001b[01;35m\u001b[K^\u001b[m\u001b[K\n",
            "darts.h: In instantiation of ‘\u001b[01m\u001b[KT MeCab::Darts::DoubleArrayImpl<node_type_, node_u_type_, array_type_, array_u_type_, length_func_>::exactMatchSearch(const key_type*, size_t, size_t) const [with T = MeCab::Darts::DoubleArrayImpl<char, unsigned char, int, unsigned int>::result_pair_type; node_type_ = char; node_u_type_ = unsigned char; array_type_ = int; array_u_type_ = unsigned int; length_func_ = MeCab::Darts::Length<char>; MeCab::Darts::DoubleArrayImpl<node_type_, node_u_type_, array_type_, array_u_type_, length_func_>::key_type = char; size_t = long unsigned int]\u001b[m\u001b[K’:\n",
            "\u001b[01m\u001b[Kdarts.h:394:33:\u001b[m\u001b[K   required from ‘\u001b[01m\u001b[Kvoid MeCab::Darts::DoubleArrayImpl<node_type_, node_u_type_, array_type_, array_u_type_, length_func_>::exactMatchSearch(const key_type*, T&, size_t, size_t) const [with T = MeCab::Darts::DoubleArrayImpl<char, unsigned char, int, unsigned int>::result_pair_type; node_type_ = char; node_u_type_ = unsigned char; array_type_ = int; array_u_type_ = unsigned int; length_func_ = MeCab::Darts::Length<char>; MeCab::Darts::DoubleArrayImpl<node_type_, node_u_type_, array_type_, array_u_type_, length_func_>::key_type = char; size_t = long unsigned int]\u001b[m\u001b[K’\n",
            "\u001b[01m\u001b[Kdictionary.h:42:25:\u001b[m\u001b[K   required from here\n",
            "\u001b[01m\u001b[Kdarts.h:407:27:\u001b[m\u001b[K \u001b[01;35m\u001b[Kwarning: \u001b[m\u001b[KISO C++17 does not allow ‘\u001b[01m\u001b[Kregister\u001b[m\u001b[K’ storage class specifier [\u001b[01;35m\u001b[K\u001b]8;;https://gcc.gnu.org/onlinedocs/gcc/Warning-Options.html#index-Wregister\u0007-Wregister\u001b]8;;\u0007\u001b[m\u001b[K]\n",
            "  407 |     register array_type_  \u001b[01;35m\u001b[Kb\u001b[m\u001b[K = array_[node_pos].base;\n",
            "      |                           \u001b[01;35m\u001b[K^\u001b[m\u001b[K\n",
            "\u001b[01m\u001b[Kdarts.h:408:28:\u001b[m\u001b[K \u001b[01;35m\u001b[Kwarning: \u001b[m\u001b[KISO C++17 does not allow ‘\u001b[01m\u001b[Kregister\u001b[m\u001b[K’ storage class specifier [\u001b[01;35m\u001b[K\u001b]8;;https://gcc.gnu.org/onlinedocs/gcc/Warning-Options.html#index-Wregister\u0007-Wregister\u001b]8;;\u0007\u001b[m\u001b[K]\n",
            "  408 |     register array_u_type_ \u001b[01;35m\u001b[Kp\u001b[m\u001b[K;\n",
            "      |                            \u001b[01;35m\u001b[K^\u001b[m\u001b[K\n",
            "\u001b[01m\u001b[Kdarts.h:410:26:\u001b[m\u001b[K \u001b[01;35m\u001b[Kwarning: \u001b[m\u001b[KISO C++17 does not allow ‘\u001b[01m\u001b[Kregister\u001b[m\u001b[K’ storage class specifier [\u001b[01;35m\u001b[K\u001b]8;;https://gcc.gnu.org/onlinedocs/gcc/Warning-Options.html#index-Wregister\u0007-Wregister\u001b]8;;\u0007\u001b[m\u001b[K]\n",
            "  410 |     for (register size_t \u001b[01;35m\u001b[Ki\u001b[m\u001b[K = 0; i < len; ++i) {\n",
            "      |                          \u001b[01;35m\u001b[K^\u001b[m\u001b[K\n",
            "libtool: compile:  g++ -DHAVE_CONFIG_H -I. -I.. -DDIC_VERSION=102 -DMECAB_DEFAULT_RC=\\\"/usr/local/etc/mecabrc\\\" -O3 -Wall -c dictionary.cpp -o dictionary.o >/dev/null 2>&1\n",
            "/bin/bash ../libtool --tag=CXX   --mode=compile g++ -DHAVE_CONFIG_H -I. -I.. -DDIC_VERSION=102   -DMECAB_DEFAULT_RC=\"\\\"/usr/local/etc/mecabrc\\\"\"    -O3 -Wall  -c -o feature_index.lo feature_index.cpp\n",
            "libtool: compile:  g++ -DHAVE_CONFIG_H -I. -I.. -DDIC_VERSION=102 -DMECAB_DEFAULT_RC=\\\"/usr/local/etc/mecabrc\\\" -O3 -Wall -c feature_index.cpp  -fPIC -DPIC -o .libs/feature_index.o\n",
            "In file included from \u001b[01m\u001b[Kfeature_index.h:13\u001b[m\u001b[K,\n",
            "                 from \u001b[01m\u001b[Kfeature_index.cpp:11\u001b[m\u001b[K:\n",
            "\u001b[01m\u001b[Kdarts.h:\u001b[m\u001b[K In member function ‘\u001b[01m\u001b[KT MeCab::Darts::DoubleArrayImpl<node_type_, node_u_type_, array_type_, array_u_type_, length_func_>::exactMatchSearch(const key_type*, size_t, size_t) const\u001b[m\u001b[K’:\n",
            "\u001b[01m\u001b[Kdarts.h:407:27:\u001b[m\u001b[K \u001b[01;35m\u001b[Kwarning: \u001b[m\u001b[KISO C++17 does not allow ‘\u001b[01m\u001b[Kregister\u001b[m\u001b[K’ storage class specifier [\u001b[01;35m\u001b[K\u001b]8;;https://gcc.gnu.org/onlinedocs/gcc/Warning-Options.html#index-Wregister\u0007-Wregister\u001b]8;;\u0007\u001b[m\u001b[K]\n",
            "  407 |     register array_type_  \u001b[01;35m\u001b[Kb\u001b[m\u001b[K = array_[node_pos].base;\n",
            "      |                           \u001b[01;35m\u001b[K^\u001b[m\u001b[K\n",
            "\u001b[01m\u001b[Kdarts.h:408:28:\u001b[m\u001b[K \u001b[01;35m\u001b[Kwarning: \u001b[m\u001b[KISO C++17 does not allow ‘\u001b[01m\u001b[Kregister\u001b[m\u001b[K’ storage class specifier [\u001b[01;35m\u001b[K\u001b]8;;https://gcc.gnu.org/onlinedocs/gcc/Warning-Options.html#index-Wregister\u0007-Wregister\u001b]8;;\u0007\u001b[m\u001b[K]\n",
            "  408 |     register array_u_type_ \u001b[01;35m\u001b[Kp\u001b[m\u001b[K;\n",
            "      |                            \u001b[01;35m\u001b[K^\u001b[m\u001b[K\n",
            "\u001b[01m\u001b[Kdarts.h:410:26:\u001b[m\u001b[K \u001b[01;35m\u001b[Kwarning: \u001b[m\u001b[KISO C++17 does not allow ‘\u001b[01m\u001b[Kregister\u001b[m\u001b[K’ storage class specifier [\u001b[01;35m\u001b[K\u001b]8;;https://gcc.gnu.org/onlinedocs/gcc/Warning-Options.html#index-Wregister\u0007-Wregister\u001b]8;;\u0007\u001b[m\u001b[K]\n",
            "  410 |     for (register size_t \u001b[01;35m\u001b[Ki\u001b[m\u001b[K = 0; i < len; ++i) {\n",
            "      |                          \u001b[01;35m\u001b[K^\u001b[m\u001b[K\n",
            "\u001b[01m\u001b[Kdarts.h:\u001b[m\u001b[K In member function ‘\u001b[01m\u001b[Ksize_t MeCab::Darts::DoubleArrayImpl<node_type_, node_u_type_, array_type_, array_u_type_, length_func_>::commonPrefixSearch(const key_type*, T*, size_t, size_t, size_t) const\u001b[m\u001b[K’:\n",
            "\u001b[01m\u001b[Kdarts.h:434:27:\u001b[m\u001b[K \u001b[01;35m\u001b[Kwarning: \u001b[m\u001b[KISO C++17 does not allow ‘\u001b[01m\u001b[Kregister\u001b[m\u001b[K’ storage class specifier [\u001b[01;35m\u001b[K\u001b]8;;https://gcc.gnu.org/onlinedocs/gcc/Warning-Options.html#index-Wregister\u0007-Wregister\u001b]8;;\u0007\u001b[m\u001b[K]\n",
            "  434 |     register array_type_  \u001b[01;35m\u001b[Kb\u001b[m\u001b[K   = array_[node_pos].base;\n",
            "      |                           \u001b[01;35m\u001b[K^\u001b[m\u001b[K\n",
            "\u001b[01m\u001b[Kdarts.h:435:25:\u001b[m\u001b[K \u001b[01;35m\u001b[Kwarning: \u001b[m\u001b[KISO C++17 does not allow ‘\u001b[01m\u001b[Kregister\u001b[m\u001b[K’ storage class specifier [\u001b[01;35m\u001b[K\u001b]8;;https://gcc.gnu.org/onlinedocs/gcc/Warning-Options.html#index-Wregister\u0007-Wregister\u001b]8;;\u0007\u001b[m\u001b[K]\n",
            "  435 |     register size_t     \u001b[01;35m\u001b[Knum\u001b[m\u001b[K = 0;\n",
            "      |                         \u001b[01;35m\u001b[K^~~\u001b[m\u001b[K\n",
            "\u001b[01m\u001b[Kdarts.h:436:27:\u001b[m\u001b[K \u001b[01;35m\u001b[Kwarning: \u001b[m\u001b[KISO C++17 does not allow ‘\u001b[01m\u001b[Kregister\u001b[m\u001b[K’ storage class specifier [\u001b[01;35m\u001b[K\u001b]8;;https://gcc.gnu.org/onlinedocs/gcc/Warning-Options.html#index-Wregister\u0007-Wregister\u001b]8;;\u0007\u001b[m\u001b[K]\n",
            "  436 |     register array_type_  \u001b[01;35m\u001b[Kn\u001b[m\u001b[K;\n",
            "      |                           \u001b[01;35m\u001b[K^\u001b[m\u001b[K\n",
            "\u001b[01m\u001b[Kdarts.h:437:28:\u001b[m\u001b[K \u001b[01;35m\u001b[Kwarning: \u001b[m\u001b[KISO C++17 does not allow ‘\u001b[01m\u001b[Kregister\u001b[m\u001b[K’ storage class specifier [\u001b[01;35m\u001b[K\u001b]8;;https://gcc.gnu.org/onlinedocs/gcc/Warning-Options.html#index-Wregister\u0007-Wregister\u001b]8;;\u0007\u001b[m\u001b[K]\n",
            "  437 |     register array_u_type_ \u001b[01;35m\u001b[Kp\u001b[m\u001b[K;\n",
            "      |                            \u001b[01;35m\u001b[K^\u001b[m\u001b[K\n",
            "\u001b[01m\u001b[Kdarts.h:439:26:\u001b[m\u001b[K \u001b[01;35m\u001b[Kwarning: \u001b[m\u001b[KISO C++17 does not allow ‘\u001b[01m\u001b[Kregister\u001b[m\u001b[K’ storage class specifier [\u001b[01;35m\u001b[K\u001b]8;;https://gcc.gnu.org/onlinedocs/gcc/Warning-Options.html#index-Wregister\u0007-Wregister\u001b]8;;\u0007\u001b[m\u001b[K]\n",
            "  439 |     for (register size_t \u001b[01;35m\u001b[Ki\u001b[m\u001b[K = 0; i < len; ++i) {\n",
            "      |                          \u001b[01;35m\u001b[K^\u001b[m\u001b[K\n",
            "\u001b[01m\u001b[Kdarts.h:\u001b[m\u001b[K In member function ‘\u001b[01m\u001b[KMeCab::Darts::DoubleArrayImpl<node_type_, node_u_type_, array_type_, array_u_type_, length_func_>::value_type MeCab::Darts::DoubleArrayImpl<node_type_, node_u_type_, array_type_, array_u_type_, length_func_>::traverse(const key_type*, size_t&, size_t&, size_t) const\u001b[m\u001b[K’:\n",
            "\u001b[01m\u001b[Kdarts.h:472:27:\u001b[m\u001b[K \u001b[01;35m\u001b[Kwarning: \u001b[m\u001b[KISO C++17 does not allow ‘\u001b[01m\u001b[Kregister\u001b[m\u001b[K’ storage class specifier [\u001b[01;35m\u001b[K\u001b]8;;https://gcc.gnu.org/onlinedocs/gcc/Warning-Options.html#index-Wregister\u0007-Wregister\u001b]8;;\u0007\u001b[m\u001b[K]\n",
            "  472 |     register array_type_  \u001b[01;35m\u001b[Kb\u001b[m\u001b[K = array_[node_pos].base;\n",
            "      |                           \u001b[01;35m\u001b[K^\u001b[m\u001b[K\n",
            "\u001b[01m\u001b[Kdarts.h:473:28:\u001b[m\u001b[K \u001b[01;35m\u001b[Kwarning: \u001b[m\u001b[KISO C++17 does not allow ‘\u001b[01m\u001b[Kregister\u001b[m\u001b[K’ storage class specifier [\u001b[01;35m\u001b[K\u001b]8;;https://gcc.gnu.org/onlinedocs/gcc/Warning-Options.html#index-Wregister\u0007-Wregister\u001b]8;;\u0007\u001b[m\u001b[K]\n",
            "  473 |     register array_u_type_ \u001b[01;35m\u001b[Kp\u001b[m\u001b[K;\n",
            "      |                            \u001b[01;35m\u001b[K^\u001b[m\u001b[K\n",
            "In file included from \u001b[01m\u001b[K/usr/include/string.h:535\u001b[m\u001b[K,\n",
            "                 from \u001b[01m\u001b[K/usr/include/c++/11/cstring:42\u001b[m\u001b[K,\n",
            "                 from \u001b[01m\u001b[Kfeature_index.cpp:7\u001b[m\u001b[K:\n",
            "In function ‘\u001b[01m\u001b[Kchar* strncpy(char*, const char*, size_t)\u001b[m\u001b[K’,\n",
            "    inlined from ‘\u001b[01m\u001b[Kbool MeCab::FeatureIndex::buildUnigramFeature(MeCab::LearnerPath*, const char*)\u001b[m\u001b[K’ at \u001b[01m\u001b[Kfeature_index.cpp:337:15\u001b[m\u001b[K:\n",
            "\u001b[01m\u001b[K/usr/include/x86_64-linux-gnu/bits/string_fortified.h:95:34:\u001b[m\u001b[K \u001b[01;35m\u001b[Kwarning: \u001b[m\u001b[K‘\u001b[01m\u001b[Kchar* __builtin_strncpy(char*, const char*, long unsigned int)\u001b[m\u001b[K’ specified bound 2048 equals destination size [\u001b[01;35m\u001b[K\u001b]8;;https://gcc.gnu.org/onlinedocs/gcc/Warning-Options.html#index-Wstringop-truncation\u0007-Wstringop-truncation\u001b]8;;\u0007\u001b[m\u001b[K]\n",
            "   95 |   return \u001b[01;35m\u001b[K__builtin___strncpy_chk (__dest, __src, __len,\u001b[m\u001b[K\n",
            "      |          \u001b[01;35m\u001b[K~~~~~~~~~~~~~~~~~~~~~~~~^~~~~~~~~~~~~~~~~~~~~~\u001b[m\u001b[K\n",
            "   96 | \u001b[01;35m\u001b[K                                  __glibc_objsize (__dest))\u001b[m\u001b[K;\n",
            "      |                                   \u001b[01;35m\u001b[K~~~~~~~~~~~~~~~~~~~~~~~~~\u001b[m\u001b[K\n",
            "In function ‘\u001b[01m\u001b[Kchar* strncpy(char*, const char*, size_t)\u001b[m\u001b[K’,\n",
            "    inlined from ‘\u001b[01m\u001b[Kbool MeCab::FeatureIndex::buildBigramFeature(MeCab::LearnerPath*, const char*, const char*)\u001b[m\u001b[K’ at \u001b[01m\u001b[Kfeature_index.cpp:389:15\u001b[m\u001b[K:\n",
            "\u001b[01m\u001b[K/usr/include/x86_64-linux-gnu/bits/string_fortified.h:95:34:\u001b[m\u001b[K \u001b[01;35m\u001b[Kwarning: \u001b[m\u001b[K‘\u001b[01m\u001b[Kchar* __builtin_strncpy(char*, const char*, long unsigned int)\u001b[m\u001b[K’ specified bound 2048 equals destination size [\u001b[01;35m\u001b[K\u001b]8;;https://gcc.gnu.org/onlinedocs/gcc/Warning-Options.html#index-Wstringop-truncation\u0007-Wstringop-truncation\u001b]8;;\u0007\u001b[m\u001b[K]\n",
            "   95 |   return \u001b[01;35m\u001b[K__builtin___strncpy_chk (__dest, __src, __len,\u001b[m\u001b[K\n",
            "      |          \u001b[01;35m\u001b[K~~~~~~~~~~~~~~~~~~~~~~~~^~~~~~~~~~~~~~~~~~~~~~\u001b[m\u001b[K\n",
            "   96 | \u001b[01;35m\u001b[K                                  __glibc_objsize (__dest))\u001b[m\u001b[K;\n",
            "      |                                   \u001b[01;35m\u001b[K~~~~~~~~~~~~~~~~~~~~~~~~~\u001b[m\u001b[K\n",
            "In function ‘\u001b[01m\u001b[Kchar* strncpy(char*, const char*, size_t)\u001b[m\u001b[K’,\n",
            "    inlined from ‘\u001b[01m\u001b[Kbool MeCab::FeatureIndex::buildBigramFeature(MeCab::LearnerPath*, const char*, const char*)\u001b[m\u001b[K’ at \u001b[01m\u001b[Kfeature_index.cpp:390:15\u001b[m\u001b[K:\n",
            "\u001b[01m\u001b[K/usr/include/x86_64-linux-gnu/bits/string_fortified.h:95:34:\u001b[m\u001b[K \u001b[01;35m\u001b[Kwarning: \u001b[m\u001b[K‘\u001b[01m\u001b[Kchar* __builtin_strncpy(char*, const char*, long unsigned int)\u001b[m\u001b[K’ specified bound 2048 equals destination size [\u001b[01;35m\u001b[K\u001b]8;;https://gcc.gnu.org/onlinedocs/gcc/Warning-Options.html#index-Wstringop-truncation\u0007-Wstringop-truncation\u001b]8;;\u0007\u001b[m\u001b[K]\n",
            "   95 |   return \u001b[01;35m\u001b[K__builtin___strncpy_chk (__dest, __src, __len,\u001b[m\u001b[K\n",
            "      |          \u001b[01;35m\u001b[K~~~~~~~~~~~~~~~~~~~~~~~~^~~~~~~~~~~~~~~~~~~~~~\u001b[m\u001b[K\n",
            "   96 | \u001b[01;35m\u001b[K                                  __glibc_objsize (__dest))\u001b[m\u001b[K;\n",
            "      |                                   \u001b[01;35m\u001b[K~~~~~~~~~~~~~~~~~~~~~~~~~\u001b[m\u001b[K\n",
            "libtool: compile:  g++ -DHAVE_CONFIG_H -I. -I.. -DDIC_VERSION=102 -DMECAB_DEFAULT_RC=\\\"/usr/local/etc/mecabrc\\\" -O3 -Wall -c feature_index.cpp -o feature_index.o >/dev/null 2>&1\n",
            "/bin/bash ../libtool --tag=CXX   --mode=compile g++ -DHAVE_CONFIG_H -I. -I.. -DDIC_VERSION=102   -DMECAB_DEFAULT_RC=\"\\\"/usr/local/etc/mecabrc\\\"\"    -O3 -Wall  -c -o lbfgs.lo lbfgs.cpp\n",
            "libtool: compile:  g++ -DHAVE_CONFIG_H -I. -I.. -DDIC_VERSION=102 -DMECAB_DEFAULT_RC=\\\"/usr/local/etc/mecabrc\\\" -O3 -Wall -c lbfgs.cpp  -fPIC -DPIC -o .libs/lbfgs.o\n",
            "libtool: compile:  g++ -DHAVE_CONFIG_H -I. -I.. -DDIC_VERSION=102 -DMECAB_DEFAULT_RC=\\\"/usr/local/etc/mecabrc\\\" -O3 -Wall -c lbfgs.cpp -o lbfgs.o >/dev/null 2>&1\n",
            "/bin/bash ../libtool --tag=CXX   --mode=compile g++ -DHAVE_CONFIG_H -I. -I.. -DDIC_VERSION=102   -DMECAB_DEFAULT_RC=\"\\\"/usr/local/etc/mecabrc\\\"\"    -O3 -Wall  -c -o learner_tagger.lo learner_tagger.cpp\n",
            "libtool: compile:  g++ -DHAVE_CONFIG_H -I. -I.. -DDIC_VERSION=102 -DMECAB_DEFAULT_RC=\\\"/usr/local/etc/mecabrc\\\" -O3 -Wall -c learner_tagger.cpp  -fPIC -DPIC -o .libs/learner_tagger.o\n",
            "In file included from \u001b[01m\u001b[Kfeature_index.h:13\u001b[m\u001b[K,\n",
            "                 from \u001b[01m\u001b[Klearner_tagger.h:12\u001b[m\u001b[K,\n",
            "                 from \u001b[01m\u001b[Klearner_tagger.cpp:13\u001b[m\u001b[K:\n",
            "\u001b[01m\u001b[Kdarts.h:\u001b[m\u001b[K In member function ‘\u001b[01m\u001b[KT MeCab::Darts::DoubleArrayImpl<node_type_, node_u_type_, array_type_, array_u_type_, length_func_>::exactMatchSearch(const key_type*, size_t, size_t) const\u001b[m\u001b[K’:\n",
            "\u001b[01m\u001b[Kdarts.h:407:27:\u001b[m\u001b[K \u001b[01;35m\u001b[Kwarning: \u001b[m\u001b[KISO C++17 does not allow ‘\u001b[01m\u001b[Kregister\u001b[m\u001b[K’ storage class specifier [\u001b[01;35m\u001b[K\u001b]8;;https://gcc.gnu.org/onlinedocs/gcc/Warning-Options.html#index-Wregister\u0007-Wregister\u001b]8;;\u0007\u001b[m\u001b[K]\n",
            "  407 |     register array_type_  \u001b[01;35m\u001b[Kb\u001b[m\u001b[K = array_[node_pos].base;\n",
            "      |                           \u001b[01;35m\u001b[K^\u001b[m\u001b[K\n",
            "\u001b[01m\u001b[Kdarts.h:408:28:\u001b[m\u001b[K \u001b[01;35m\u001b[Kwarning: \u001b[m\u001b[KISO C++17 does not allow ‘\u001b[01m\u001b[Kregister\u001b[m\u001b[K’ storage class specifier [\u001b[01;35m\u001b[K\u001b]8;;https://gcc.gnu.org/onlinedocs/gcc/Warning-Options.html#index-Wregister\u0007-Wregister\u001b]8;;\u0007\u001b[m\u001b[K]\n",
            "  408 |     register array_u_type_ \u001b[01;35m\u001b[Kp\u001b[m\u001b[K;\n",
            "      |                            \u001b[01;35m\u001b[K^\u001b[m\u001b[K\n",
            "\u001b[01m\u001b[Kdarts.h:410:26:\u001b[m\u001b[K \u001b[01;35m\u001b[Kwarning: \u001b[m\u001b[KISO C++17 does not allow ‘\u001b[01m\u001b[Kregister\u001b[m\u001b[K’ storage class specifier [\u001b[01;35m\u001b[K\u001b]8;;https://gcc.gnu.org/onlinedocs/gcc/Warning-Options.html#index-Wregister\u0007-Wregister\u001b]8;;\u0007\u001b[m\u001b[K]\n",
            "  410 |     for (register size_t \u001b[01;35m\u001b[Ki\u001b[m\u001b[K = 0; i < len; ++i) {\n",
            "      |                          \u001b[01;35m\u001b[K^\u001b[m\u001b[K\n",
            "\u001b[01m\u001b[Kdarts.h:\u001b[m\u001b[K In member function ‘\u001b[01m\u001b[Ksize_t MeCab::Darts::DoubleArrayImpl<node_type_, node_u_type_, array_type_, array_u_type_, length_func_>::commonPrefixSearch(const key_type*, T*, size_t, size_t, size_t) const\u001b[m\u001b[K’:\n",
            "\u001b[01m\u001b[Kdarts.h:434:27:\u001b[m\u001b[K \u001b[01;35m\u001b[Kwarning: \u001b[m\u001b[KISO C++17 does not allow ‘\u001b[01m\u001b[Kregister\u001b[m\u001b[K’ storage class specifier [\u001b[01;35m\u001b[K\u001b]8;;https://gcc.gnu.org/onlinedocs/gcc/Warning-Options.html#index-Wregister\u0007-Wregister\u001b]8;;\u0007\u001b[m\u001b[K]\n",
            "  434 |     register array_type_  \u001b[01;35m\u001b[Kb\u001b[m\u001b[K   = array_[node_pos].base;\n",
            "      |                           \u001b[01;35m\u001b[K^\u001b[m\u001b[K\n",
            "\u001b[01m\u001b[Kdarts.h:435:25:\u001b[m\u001b[K \u001b[01;35m\u001b[Kwarning: \u001b[m\u001b[KISO C++17 does not allow ‘\u001b[01m\u001b[Kregister\u001b[m\u001b[K’ storage class specifier [\u001b[01;35m\u001b[K\u001b]8;;https://gcc.gnu.org/onlinedocs/gcc/Warning-Options.html#index-Wregister\u0007-Wregister\u001b]8;;\u0007\u001b[m\u001b[K]\n",
            "  435 |     register size_t     \u001b[01;35m\u001b[Knum\u001b[m\u001b[K = 0;\n",
            "      |                         \u001b[01;35m\u001b[K^~~\u001b[m\u001b[K\n",
            "\u001b[01m\u001b[Kdarts.h:436:27:\u001b[m\u001b[K \u001b[01;35m\u001b[Kwarning: \u001b[m\u001b[KISO C++17 does not allow ‘\u001b[01m\u001b[Kregister\u001b[m\u001b[K’ storage class specifier [\u001b[01;35m\u001b[K\u001b]8;;https://gcc.gnu.org/onlinedocs/gcc/Warning-Options.html#index-Wregister\u0007-Wregister\u001b]8;;\u0007\u001b[m\u001b[K]\n",
            "  436 |     register array_type_  \u001b[01;35m\u001b[Kn\u001b[m\u001b[K;\n",
            "      |                           \u001b[01;35m\u001b[K^\u001b[m\u001b[K\n",
            "\u001b[01m\u001b[Kdarts.h:437:28:\u001b[m\u001b[K \u001b[01;35m\u001b[Kwarning: \u001b[m\u001b[KISO C++17 does not allow ‘\u001b[01m\u001b[Kregister\u001b[m\u001b[K’ storage class specifier [\u001b[01;35m\u001b[K\u001b]8;;https://gcc.gnu.org/onlinedocs/gcc/Warning-Options.html#index-Wregister\u0007-Wregister\u001b]8;;\u0007\u001b[m\u001b[K]\n",
            "  437 |     register array_u_type_ \u001b[01;35m\u001b[Kp\u001b[m\u001b[K;\n",
            "      |                            \u001b[01;35m\u001b[K^\u001b[m\u001b[K\n",
            "\u001b[01m\u001b[Kdarts.h:439:26:\u001b[m\u001b[K \u001b[01;35m\u001b[Kwarning: \u001b[m\u001b[KISO C++17 does not allow ‘\u001b[01m\u001b[Kregister\u001b[m\u001b[K’ storage class specifier [\u001b[01;35m\u001b[K\u001b]8;;https://gcc.gnu.org/onlinedocs/gcc/Warning-Options.html#index-Wregister\u0007-Wregister\u001b]8;;\u0007\u001b[m\u001b[K]\n",
            "  439 |     for (register size_t \u001b[01;35m\u001b[Ki\u001b[m\u001b[K = 0; i < len; ++i) {\n",
            "      |                          \u001b[01;35m\u001b[K^\u001b[m\u001b[K\n",
            "\u001b[01m\u001b[Kdarts.h:\u001b[m\u001b[K In member function ‘\u001b[01m\u001b[KMeCab::Darts::DoubleArrayImpl<node_type_, node_u_type_, array_type_, array_u_type_, length_func_>::value_type MeCab::Darts::DoubleArrayImpl<node_type_, node_u_type_, array_type_, array_u_type_, length_func_>::traverse(const key_type*, size_t&, size_t&, size_t) const\u001b[m\u001b[K’:\n",
            "\u001b[01m\u001b[Kdarts.h:472:27:\u001b[m\u001b[K \u001b[01;35m\u001b[Kwarning: \u001b[m\u001b[KISO C++17 does not allow ‘\u001b[01m\u001b[Kregister\u001b[m\u001b[K’ storage class specifier [\u001b[01;35m\u001b[K\u001b]8;;https://gcc.gnu.org/onlinedocs/gcc/Warning-Options.html#index-Wregister\u0007-Wregister\u001b]8;;\u0007\u001b[m\u001b[K]\n",
            "  472 |     register array_type_  \u001b[01;35m\u001b[Kb\u001b[m\u001b[K = array_[node_pos].base;\n",
            "      |                           \u001b[01;35m\u001b[K^\u001b[m\u001b[K\n",
            "\u001b[01m\u001b[Kdarts.h:473:28:\u001b[m\u001b[K \u001b[01;35m\u001b[Kwarning: \u001b[m\u001b[KISO C++17 does not allow ‘\u001b[01m\u001b[Kregister\u001b[m\u001b[K’ storage class specifier [\u001b[01;35m\u001b[K\u001b]8;;https://gcc.gnu.org/onlinedocs/gcc/Warning-Options.html#index-Wregister\u0007-Wregister\u001b]8;;\u0007\u001b[m\u001b[K]\n",
            "  473 |     register array_u_type_ \u001b[01;35m\u001b[Kp\u001b[m\u001b[K;\n",
            "      |                            \u001b[01;35m\u001b[K^\u001b[m\u001b[K\n",
            "In file included from \u001b[01m\u001b[Kdictionary.h:12\u001b[m\u001b[K,\n",
            "                 from \u001b[01m\u001b[Ktokenizer.h:11\u001b[m\u001b[K,\n",
            "                 from \u001b[01m\u001b[Klearner_tagger.h:13\u001b[m\u001b[K,\n",
            "                 from \u001b[01m\u001b[Klearner_tagger.cpp:13\u001b[m\u001b[K:\n",
            "\u001b[01m\u001b[Kchar_property.h:\u001b[m\u001b[K In member function ‘\u001b[01m\u001b[Kconst char* MeCab::CharProperty::seekToOtherType(const char*, const char*, MeCab::CharInfo, MeCab::CharInfo*, size_t*, size_t*) const\u001b[m\u001b[K’:\n",
            "\u001b[01m\u001b[Kchar_property.h:40:26:\u001b[m\u001b[K \u001b[01;35m\u001b[Kwarning: \u001b[m\u001b[KISO C++17 does not allow ‘\u001b[01m\u001b[Kregister\u001b[m\u001b[K’ storage class specifier [\u001b[01;35m\u001b[K\u001b]8;;https://gcc.gnu.org/onlinedocs/gcc/Warning-Options.html#index-Wregister\u0007-Wregister\u001b]8;;\u0007\u001b[m\u001b[K]\n",
            "   40 |     register const char *\u001b[01;35m\u001b[Kp\u001b[m\u001b[K =  begin;\n",
            "      |                          \u001b[01;35m\u001b[K^\u001b[m\u001b[K\n",
            "In file included from \u001b[01m\u001b[Kfeature_index.h:13\u001b[m\u001b[K,\n",
            "                 from \u001b[01m\u001b[Klearner_tagger.h:12\u001b[m\u001b[K,\n",
            "                 from \u001b[01m\u001b[Klearner_tagger.cpp:13\u001b[m\u001b[K:\n",
            "darts.h: In instantiation of ‘\u001b[01m\u001b[Ksize_t MeCab::Darts::DoubleArrayImpl<node_type_, node_u_type_, array_type_, array_u_type_, length_func_>::commonPrefixSearch(const key_type*, T*, size_t, size_t, size_t) const [with T = MeCab::Darts::DoubleArrayImpl<char, unsigned char, int, unsigned int>::result_pair_type; node_type_ = char; node_u_type_ = unsigned char; array_type_ = int; array_u_type_ = unsigned int; length_func_ = MeCab::Darts::Length<char>; size_t = long unsigned int; MeCab::Darts::DoubleArrayImpl<node_type_, node_u_type_, array_type_, array_u_type_, length_func_>::key_type = char]\u001b[m\u001b[K’:\n",
            "\u001b[01m\u001b[Kdictionary.h:37:34:\u001b[m\u001b[K   required from here\n",
            "\u001b[01m\u001b[Kdarts.h:434:27:\u001b[m\u001b[K \u001b[01;35m\u001b[Kwarning: \u001b[m\u001b[KISO C++17 does not allow ‘\u001b[01m\u001b[Kregister\u001b[m\u001b[K’ storage class specifier [\u001b[01;35m\u001b[K\u001b]8;;https://gcc.gnu.org/onlinedocs/gcc/Warning-Options.html#index-Wregister\u0007-Wregister\u001b]8;;\u0007\u001b[m\u001b[K]\n",
            "  434 |     register array_type_  \u001b[01;35m\u001b[Kb\u001b[m\u001b[K   = array_[node_pos].base;\n",
            "      |                           \u001b[01;35m\u001b[K^\u001b[m\u001b[K\n",
            "\u001b[01m\u001b[Kdarts.h:435:25:\u001b[m\u001b[K \u001b[01;35m\u001b[Kwarning: \u001b[m\u001b[KISO C++17 does not allow ‘\u001b[01m\u001b[Kregister\u001b[m\u001b[K’ storage class specifier [\u001b[01;35m\u001b[K\u001b]8;;https://gcc.gnu.org/onlinedocs/gcc/Warning-Options.html#index-Wregister\u0007-Wregister\u001b]8;;\u0007\u001b[m\u001b[K]\n",
            "  435 |     register size_t     \u001b[01;35m\u001b[Knum\u001b[m\u001b[K = 0;\n",
            "      |                         \u001b[01;35m\u001b[K^~~\u001b[m\u001b[K\n",
            "\u001b[01m\u001b[Kdarts.h:436:27:\u001b[m\u001b[K \u001b[01;35m\u001b[Kwarning: \u001b[m\u001b[KISO C++17 does not allow ‘\u001b[01m\u001b[Kregister\u001b[m\u001b[K’ storage class specifier [\u001b[01;35m\u001b[K\u001b]8;;https://gcc.gnu.org/onlinedocs/gcc/Warning-Options.html#index-Wregister\u0007-Wregister\u001b]8;;\u0007\u001b[m\u001b[K]\n",
            "  436 |     register array_type_  \u001b[01;35m\u001b[Kn\u001b[m\u001b[K;\n",
            "      |                           \u001b[01;35m\u001b[K^\u001b[m\u001b[K\n",
            "\u001b[01m\u001b[Kdarts.h:437:28:\u001b[m\u001b[K \u001b[01;35m\u001b[Kwarning: \u001b[m\u001b[KISO C++17 does not allow ‘\u001b[01m\u001b[Kregister\u001b[m\u001b[K’ storage class specifier [\u001b[01;35m\u001b[K\u001b]8;;https://gcc.gnu.org/onlinedocs/gcc/Warning-Options.html#index-Wregister\u0007-Wregister\u001b]8;;\u0007\u001b[m\u001b[K]\n",
            "  437 |     register array_u_type_ \u001b[01;35m\u001b[Kp\u001b[m\u001b[K;\n",
            "      |                            \u001b[01;35m\u001b[K^\u001b[m\u001b[K\n",
            "\u001b[01m\u001b[Kdarts.h:439:26:\u001b[m\u001b[K \u001b[01;35m\u001b[Kwarning: \u001b[m\u001b[KISO C++17 does not allow ‘\u001b[01m\u001b[Kregister\u001b[m\u001b[K’ storage class specifier [\u001b[01;35m\u001b[K\u001b]8;;https://gcc.gnu.org/onlinedocs/gcc/Warning-Options.html#index-Wregister\u0007-Wregister\u001b]8;;\u0007\u001b[m\u001b[K]\n",
            "  439 |     for (register size_t \u001b[01;35m\u001b[Ki\u001b[m\u001b[K = 0; i < len; ++i) {\n",
            "      |                          \u001b[01;35m\u001b[K^\u001b[m\u001b[K\n",
            "darts.h: In instantiation of ‘\u001b[01m\u001b[KT MeCab::Darts::DoubleArrayImpl<node_type_, node_u_type_, array_type_, array_u_type_, length_func_>::exactMatchSearch(const key_type*, size_t, size_t) const [with T = MeCab::Darts::DoubleArrayImpl<char, unsigned char, int, unsigned int>::result_pair_type; node_type_ = char; node_u_type_ = unsigned char; array_type_ = int; array_u_type_ = unsigned int; length_func_ = MeCab::Darts::Length<char>; MeCab::Darts::DoubleArrayImpl<node_type_, node_u_type_, array_type_, array_u_type_, length_func_>::key_type = char; size_t = long unsigned int]\u001b[m\u001b[K’:\n",
            "\u001b[01m\u001b[Kdarts.h:394:33:\u001b[m\u001b[K   required from ‘\u001b[01m\u001b[Kvoid MeCab::Darts::DoubleArrayImpl<node_type_, node_u_type_, array_type_, array_u_type_, length_func_>::exactMatchSearch(const key_type*, T&, size_t, size_t) const [with T = MeCab::Darts::DoubleArrayImpl<char, unsigned char, int, unsigned int>::result_pair_type; node_type_ = char; node_u_type_ = unsigned char; array_type_ = int; array_u_type_ = unsigned int; length_func_ = MeCab::Darts::Length<char>; MeCab::Darts::DoubleArrayImpl<node_type_, node_u_type_, array_type_, array_u_type_, length_func_>::key_type = char; size_t = long unsigned int]\u001b[m\u001b[K’\n",
            "\u001b[01m\u001b[Kdictionary.h:42:25:\u001b[m\u001b[K   required from here\n",
            "\u001b[01m\u001b[Kdarts.h:407:27:\u001b[m\u001b[K \u001b[01;35m\u001b[Kwarning: \u001b[m\u001b[KISO C++17 does not allow ‘\u001b[01m\u001b[Kregister\u001b[m\u001b[K’ storage class specifier [\u001b[01;35m\u001b[K\u001b]8;;https://gcc.gnu.org/onlinedocs/gcc/Warning-Options.html#index-Wregister\u0007-Wregister\u001b]8;;\u0007\u001b[m\u001b[K]\n",
            "  407 |     register array_type_  \u001b[01;35m\u001b[Kb\u001b[m\u001b[K = array_[node_pos].base;\n",
            "      |                           \u001b[01;35m\u001b[K^\u001b[m\u001b[K\n",
            "\u001b[01m\u001b[Kdarts.h:408:28:\u001b[m\u001b[K \u001b[01;35m\u001b[Kwarning: \u001b[m\u001b[KISO C++17 does not allow ‘\u001b[01m\u001b[Kregister\u001b[m\u001b[K’ storage class specifier [\u001b[01;35m\u001b[K\u001b]8;;https://gcc.gnu.org/onlinedocs/gcc/Warning-Options.html#index-Wregister\u0007-Wregister\u001b]8;;\u0007\u001b[m\u001b[K]\n",
            "  408 |     register array_u_type_ \u001b[01;35m\u001b[Kp\u001b[m\u001b[K;\n",
            "      |                            \u001b[01;35m\u001b[K^\u001b[m\u001b[K\n",
            "\u001b[01m\u001b[Kdarts.h:410:26:\u001b[m\u001b[K \u001b[01;35m\u001b[Kwarning: \u001b[m\u001b[KISO C++17 does not allow ‘\u001b[01m\u001b[Kregister\u001b[m\u001b[K’ storage class specifier [\u001b[01;35m\u001b[K\u001b]8;;https://gcc.gnu.org/onlinedocs/gcc/Warning-Options.html#index-Wregister\u0007-Wregister\u001b]8;;\u0007\u001b[m\u001b[K]\n",
            "  410 |     for (register size_t \u001b[01;35m\u001b[Ki\u001b[m\u001b[K = 0; i < len; ++i) {\n",
            "      |                          \u001b[01;35m\u001b[K^\u001b[m\u001b[K\n",
            "\u001b[01m\u001b[Klearner_tagger.cpp:\u001b[m\u001b[K At global scope:\n",
            "\u001b[01m\u001b[Klearner_tagger.cpp:25:7:\u001b[m\u001b[K \u001b[01;35m\u001b[Kwarning: \u001b[m\u001b[K‘\u001b[01m\u001b[Kchar* MeCab::{anonymous}::mystrdup(const string&)\u001b[m\u001b[K’ defined but not used [\u001b[01;35m\u001b[K\u001b]8;;https://gcc.gnu.org/onlinedocs/gcc/Warning-Options.html#index-Wunused-function\u0007-Wunused-function\u001b]8;;\u0007\u001b[m\u001b[K]\n",
            "   25 | char *\u001b[01;35m\u001b[Kmystrdup\u001b[m\u001b[K(const std::string &str) {\n",
            "      |       \u001b[01;35m\u001b[K^~~~~~~~\u001b[m\u001b[K\n",
            "libtool: compile:  g++ -DHAVE_CONFIG_H -I. -I.. -DDIC_VERSION=102 -DMECAB_DEFAULT_RC=\\\"/usr/local/etc/mecabrc\\\" -O3 -Wall -c learner_tagger.cpp -o learner_tagger.o >/dev/null 2>&1\n",
            "/bin/bash ../libtool --tag=CXX   --mode=compile g++ -DHAVE_CONFIG_H -I. -I.. -DDIC_VERSION=102   -DMECAB_DEFAULT_RC=\"\\\"/usr/local/etc/mecabrc\\\"\"    -O3 -Wall  -c -o learner.lo learner.cpp\n",
            "libtool: compile:  g++ -DHAVE_CONFIG_H -I. -I.. -DDIC_VERSION=102 -DMECAB_DEFAULT_RC=\\\"/usr/local/etc/mecabrc\\\" -O3 -Wall -c learner.cpp  -fPIC -DPIC -o .libs/learner.o\n",
            "In file included from \u001b[01m\u001b[Kfeature_index.h:13\u001b[m\u001b[K,\n",
            "                 from \u001b[01m\u001b[Klearner.cpp:10\u001b[m\u001b[K:\n",
            "\u001b[01m\u001b[Kdarts.h:\u001b[m\u001b[K In member function ‘\u001b[01m\u001b[KT MeCab::Darts::DoubleArrayImpl<node_type_, node_u_type_, array_type_, array_u_type_, length_func_>::exactMatchSearch(const key_type*, size_t, size_t) const\u001b[m\u001b[K’:\n",
            "\u001b[01m\u001b[Kdarts.h:407:27:\u001b[m\u001b[K \u001b[01;35m\u001b[Kwarning: \u001b[m\u001b[KISO C++17 does not allow ‘\u001b[01m\u001b[Kregister\u001b[m\u001b[K’ storage class specifier [\u001b[01;35m\u001b[K\u001b]8;;https://gcc.gnu.org/onlinedocs/gcc/Warning-Options.html#index-Wregister\u0007-Wregister\u001b]8;;\u0007\u001b[m\u001b[K]\n",
            "  407 |     register array_type_  \u001b[01;35m\u001b[Kb\u001b[m\u001b[K = array_[node_pos].base;\n",
            "      |                           \u001b[01;35m\u001b[K^\u001b[m\u001b[K\n",
            "\u001b[01m\u001b[Kdarts.h:408:28:\u001b[m\u001b[K \u001b[01;35m\u001b[Kwarning: \u001b[m\u001b[KISO C++17 does not allow ‘\u001b[01m\u001b[Kregister\u001b[m\u001b[K’ storage class specifier [\u001b[01;35m\u001b[K\u001b]8;;https://gcc.gnu.org/onlinedocs/gcc/Warning-Options.html#index-Wregister\u0007-Wregister\u001b]8;;\u0007\u001b[m\u001b[K]\n",
            "  408 |     register array_u_type_ \u001b[01;35m\u001b[Kp\u001b[m\u001b[K;\n",
            "      |                            \u001b[01;35m\u001b[K^\u001b[m\u001b[K\n",
            "\u001b[01m\u001b[Kdarts.h:410:26:\u001b[m\u001b[K \u001b[01;35m\u001b[Kwarning: \u001b[m\u001b[KISO C++17 does not allow ‘\u001b[01m\u001b[Kregister\u001b[m\u001b[K’ storage class specifier [\u001b[01;35m\u001b[K\u001b]8;;https://gcc.gnu.org/onlinedocs/gcc/Warning-Options.html#index-Wregister\u0007-Wregister\u001b]8;;\u0007\u001b[m\u001b[K]\n",
            "  410 |     for (register size_t \u001b[01;35m\u001b[Ki\u001b[m\u001b[K = 0; i < len; ++i) {\n",
            "      |                          \u001b[01;35m\u001b[K^\u001b[m\u001b[K\n",
            "\u001b[01m\u001b[Kdarts.h:\u001b[m\u001b[K In member function ‘\u001b[01m\u001b[Ksize_t MeCab::Darts::DoubleArrayImpl<node_type_, node_u_type_, array_type_, array_u_type_, length_func_>::commonPrefixSearch(const key_type*, T*, size_t, size_t, size_t) const\u001b[m\u001b[K’:\n",
            "\u001b[01m\u001b[Kdarts.h:434:27:\u001b[m\u001b[K \u001b[01;35m\u001b[Kwarning: \u001b[m\u001b[KISO C++17 does not allow ‘\u001b[01m\u001b[Kregister\u001b[m\u001b[K’ storage class specifier [\u001b[01;35m\u001b[K\u001b]8;;https://gcc.gnu.org/onlinedocs/gcc/Warning-Options.html#index-Wregister\u0007-Wregister\u001b]8;;\u0007\u001b[m\u001b[K]\n",
            "  434 |     register array_type_  \u001b[01;35m\u001b[Kb\u001b[m\u001b[K   = array_[node_pos].base;\n",
            "      |                           \u001b[01;35m\u001b[K^\u001b[m\u001b[K\n",
            "\u001b[01m\u001b[Kdarts.h:435:25:\u001b[m\u001b[K \u001b[01;35m\u001b[Kwarning: \u001b[m\u001b[KISO C++17 does not allow ‘\u001b[01m\u001b[Kregister\u001b[m\u001b[K’ storage class specifier [\u001b[01;35m\u001b[K\u001b]8;;https://gcc.gnu.org/onlinedocs/gcc/Warning-Options.html#index-Wregister\u0007-Wregister\u001b]8;;\u0007\u001b[m\u001b[K]\n",
            "  435 |     register size_t     \u001b[01;35m\u001b[Knum\u001b[m\u001b[K = 0;\n",
            "      |                         \u001b[01;35m\u001b[K^~~\u001b[m\u001b[K\n",
            "\u001b[01m\u001b[Kdarts.h:436:27:\u001b[m\u001b[K \u001b[01;35m\u001b[Kwarning: \u001b[m\u001b[KISO C++17 does not allow ‘\u001b[01m\u001b[Kregister\u001b[m\u001b[K’ storage class specifier [\u001b[01;35m\u001b[K\u001b]8;;https://gcc.gnu.org/onlinedocs/gcc/Warning-Options.html#index-Wregister\u0007-Wregister\u001b]8;;\u0007\u001b[m\u001b[K]\n",
            "  436 |     register array_type_  \u001b[01;35m\u001b[Kn\u001b[m\u001b[K;\n",
            "      |                           \u001b[01;35m\u001b[K^\u001b[m\u001b[K\n",
            "\u001b[01m\u001b[Kdarts.h:437:28:\u001b[m\u001b[K \u001b[01;35m\u001b[Kwarning: \u001b[m\u001b[KISO C++17 does not allow ‘\u001b[01m\u001b[Kregister\u001b[m\u001b[K’ storage class specifier [\u001b[01;35m\u001b[K\u001b]8;;https://gcc.gnu.org/onlinedocs/gcc/Warning-Options.html#index-Wregister\u0007-Wregister\u001b]8;;\u0007\u001b[m\u001b[K]\n",
            "  437 |     register array_u_type_ \u001b[01;35m\u001b[Kp\u001b[m\u001b[K;\n",
            "      |                            \u001b[01;35m\u001b[K^\u001b[m\u001b[K\n",
            "\u001b[01m\u001b[Kdarts.h:439:26:\u001b[m\u001b[K \u001b[01;35m\u001b[Kwarning: \u001b[m\u001b[KISO C++17 does not allow ‘\u001b[01m\u001b[Kregister\u001b[m\u001b[K’ storage class specifier [\u001b[01;35m\u001b[K\u001b]8;;https://gcc.gnu.org/onlinedocs/gcc/Warning-Options.html#index-Wregister\u0007-Wregister\u001b]8;;\u0007\u001b[m\u001b[K]\n",
            "  439 |     for (register size_t \u001b[01;35m\u001b[Ki\u001b[m\u001b[K = 0; i < len; ++i) {\n",
            "      |                          \u001b[01;35m\u001b[K^\u001b[m\u001b[K\n",
            "\u001b[01m\u001b[Kdarts.h:\u001b[m\u001b[K In member function ‘\u001b[01m\u001b[KMeCab::Darts::DoubleArrayImpl<node_type_, node_u_type_, array_type_, array_u_type_, length_func_>::value_type MeCab::Darts::DoubleArrayImpl<node_type_, node_u_type_, array_type_, array_u_type_, length_func_>::traverse(const key_type*, size_t&, size_t&, size_t) const\u001b[m\u001b[K’:\n",
            "\u001b[01m\u001b[Kdarts.h:472:27:\u001b[m\u001b[K \u001b[01;35m\u001b[Kwarning: \u001b[m\u001b[KISO C++17 does not allow ‘\u001b[01m\u001b[Kregister\u001b[m\u001b[K’ storage class specifier [\u001b[01;35m\u001b[K\u001b]8;;https://gcc.gnu.org/onlinedocs/gcc/Warning-Options.html#index-Wregister\u0007-Wregister\u001b]8;;\u0007\u001b[m\u001b[K]\n",
            "  472 |     register array_type_  \u001b[01;35m\u001b[Kb\u001b[m\u001b[K = array_[node_pos].base;\n",
            "      |                           \u001b[01;35m\u001b[K^\u001b[m\u001b[K\n",
            "\u001b[01m\u001b[Kdarts.h:473:28:\u001b[m\u001b[K \u001b[01;35m\u001b[Kwarning: \u001b[m\u001b[KISO C++17 does not allow ‘\u001b[01m\u001b[Kregister\u001b[m\u001b[K’ storage class specifier [\u001b[01;35m\u001b[K\u001b]8;;https://gcc.gnu.org/onlinedocs/gcc/Warning-Options.html#index-Wregister\u0007-Wregister\u001b]8;;\u0007\u001b[m\u001b[K]\n",
            "  473 |     register array_u_type_ \u001b[01;35m\u001b[Kp\u001b[m\u001b[K;\n",
            "      |                            \u001b[01;35m\u001b[K^\u001b[m\u001b[K\n",
            "In file included from \u001b[01m\u001b[Kdictionary.h:12\u001b[m\u001b[K,\n",
            "                 from \u001b[01m\u001b[Ktokenizer.h:11\u001b[m\u001b[K,\n",
            "                 from \u001b[01m\u001b[Klearner_tagger.h:13\u001b[m\u001b[K,\n",
            "                 from \u001b[01m\u001b[Klearner.cpp:13\u001b[m\u001b[K:\n",
            "\u001b[01m\u001b[Kchar_property.h:\u001b[m\u001b[K In member function ‘\u001b[01m\u001b[Kconst char* MeCab::CharProperty::seekToOtherType(const char*, const char*, MeCab::CharInfo, MeCab::CharInfo*, size_t*, size_t*) const\u001b[m\u001b[K’:\n",
            "\u001b[01m\u001b[Kchar_property.h:40:26:\u001b[m\u001b[K \u001b[01;35m\u001b[Kwarning: \u001b[m\u001b[KISO C++17 does not allow ‘\u001b[01m\u001b[Kregister\u001b[m\u001b[K’ storage class specifier [\u001b[01;35m\u001b[K\u001b]8;;https://gcc.gnu.org/onlinedocs/gcc/Warning-Options.html#index-Wregister\u0007-Wregister\u001b]8;;\u0007\u001b[m\u001b[K]\n",
            "   40 |     register const char *\u001b[01;35m\u001b[Kp\u001b[m\u001b[K =  begin;\n",
            "      |                          \u001b[01;35m\u001b[K^\u001b[m\u001b[K\n",
            "In file included from \u001b[01m\u001b[Kfeature_index.h:13\u001b[m\u001b[K,\n",
            "                 from \u001b[01m\u001b[Klearner.cpp:10\u001b[m\u001b[K:\n",
            "darts.h: In instantiation of ‘\u001b[01m\u001b[Ksize_t MeCab::Darts::DoubleArrayImpl<node_type_, node_u_type_, array_type_, array_u_type_, length_func_>::commonPrefixSearch(const key_type*, T*, size_t, size_t, size_t) const [with T = MeCab::Darts::DoubleArrayImpl<char, unsigned char, int, unsigned int>::result_pair_type; node_type_ = char; node_u_type_ = unsigned char; array_type_ = int; array_u_type_ = unsigned int; length_func_ = MeCab::Darts::Length<char>; size_t = long unsigned int; MeCab::Darts::DoubleArrayImpl<node_type_, node_u_type_, array_type_, array_u_type_, length_func_>::key_type = char]\u001b[m\u001b[K’:\n",
            "\u001b[01m\u001b[Kdictionary.h:37:34:\u001b[m\u001b[K   required from here\n",
            "\u001b[01m\u001b[Kdarts.h:434:27:\u001b[m\u001b[K \u001b[01;35m\u001b[Kwarning: \u001b[m\u001b[KISO C++17 does not allow ‘\u001b[01m\u001b[Kregister\u001b[m\u001b[K’ storage class specifier [\u001b[01;35m\u001b[K\u001b]8;;https://gcc.gnu.org/onlinedocs/gcc/Warning-Options.html#index-Wregister\u0007-Wregister\u001b]8;;\u0007\u001b[m\u001b[K]\n",
            "  434 |     register array_type_  \u001b[01;35m\u001b[Kb\u001b[m\u001b[K   = array_[node_pos].base;\n",
            "      |                           \u001b[01;35m\u001b[K^\u001b[m\u001b[K\n",
            "\u001b[01m\u001b[Kdarts.h:435:25:\u001b[m\u001b[K \u001b[01;35m\u001b[Kwarning: \u001b[m\u001b[KISO C++17 does not allow ‘\u001b[01m\u001b[Kregister\u001b[m\u001b[K’ storage class specifier [\u001b[01;35m\u001b[K\u001b]8;;https://gcc.gnu.org/onlinedocs/gcc/Warning-Options.html#index-Wregister\u0007-Wregister\u001b]8;;\u0007\u001b[m\u001b[K]\n",
            "  435 |     register size_t     \u001b[01;35m\u001b[Knum\u001b[m\u001b[K = 0;\n",
            "      |                         \u001b[01;35m\u001b[K^~~\u001b[m\u001b[K\n",
            "\u001b[01m\u001b[Kdarts.h:436:27:\u001b[m\u001b[K \u001b[01;35m\u001b[Kwarning: \u001b[m\u001b[KISO C++17 does not allow ‘\u001b[01m\u001b[Kregister\u001b[m\u001b[K’ storage class specifier [\u001b[01;35m\u001b[K\u001b]8;;https://gcc.gnu.org/onlinedocs/gcc/Warning-Options.html#index-Wregister\u0007-Wregister\u001b]8;;\u0007\u001b[m\u001b[K]\n",
            "  436 |     register array_type_  \u001b[01;35m\u001b[Kn\u001b[m\u001b[K;\n",
            "      |                           \u001b[01;35m\u001b[K^\u001b[m\u001b[K\n",
            "\u001b[01m\u001b[Kdarts.h:437:28:\u001b[m\u001b[K \u001b[01;35m\u001b[Kwarning: \u001b[m\u001b[KISO C++17 does not allow ‘\u001b[01m\u001b[Kregister\u001b[m\u001b[K’ storage class specifier [\u001b[01;35m\u001b[K\u001b]8;;https://gcc.gnu.org/onlinedocs/gcc/Warning-Options.html#index-Wregister\u0007-Wregister\u001b]8;;\u0007\u001b[m\u001b[K]\n",
            "  437 |     register array_u_type_ \u001b[01;35m\u001b[Kp\u001b[m\u001b[K;\n",
            "      |                            \u001b[01;35m\u001b[K^\u001b[m\u001b[K\n",
            "\u001b[01m\u001b[Kdarts.h:439:26:\u001b[m\u001b[K \u001b[01;35m\u001b[Kwarning: \u001b[m\u001b[KISO C++17 does not allow ‘\u001b[01m\u001b[Kregister\u001b[m\u001b[K’ storage class specifier [\u001b[01;35m\u001b[K\u001b]8;;https://gcc.gnu.org/onlinedocs/gcc/Warning-Options.html#index-Wregister\u0007-Wregister\u001b]8;;\u0007\u001b[m\u001b[K]\n",
            "  439 |     for (register size_t \u001b[01;35m\u001b[Ki\u001b[m\u001b[K = 0; i < len; ++i) {\n",
            "      |                          \u001b[01;35m\u001b[K^\u001b[m\u001b[K\n",
            "darts.h: In instantiation of ‘\u001b[01m\u001b[KT MeCab::Darts::DoubleArrayImpl<node_type_, node_u_type_, array_type_, array_u_type_, length_func_>::exactMatchSearch(const key_type*, size_t, size_t) const [with T = MeCab::Darts::DoubleArrayImpl<char, unsigned char, int, unsigned int>::result_pair_type; node_type_ = char; node_u_type_ = unsigned char; array_type_ = int; array_u_type_ = unsigned int; length_func_ = MeCab::Darts::Length<char>; MeCab::Darts::DoubleArrayImpl<node_type_, node_u_type_, array_type_, array_u_type_, length_func_>::key_type = char; size_t = long unsigned int]\u001b[m\u001b[K’:\n",
            "\u001b[01m\u001b[Kdarts.h:394:33:\u001b[m\u001b[K   required from ‘\u001b[01m\u001b[Kvoid MeCab::Darts::DoubleArrayImpl<node_type_, node_u_type_, array_type_, array_u_type_, length_func_>::exactMatchSearch(const key_type*, T&, size_t, size_t) const [with T = MeCab::Darts::DoubleArrayImpl<char, unsigned char, int, unsigned int>::result_pair_type; node_type_ = char; node_u_type_ = unsigned char; array_type_ = int; array_u_type_ = unsigned int; length_func_ = MeCab::Darts::Length<char>; MeCab::Darts::DoubleArrayImpl<node_type_, node_u_type_, array_type_, array_u_type_, length_func_>::key_type = char; size_t = long unsigned int]\u001b[m\u001b[K’\n",
            "\u001b[01m\u001b[Kdictionary.h:42:25:\u001b[m\u001b[K   required from here\n",
            "\u001b[01m\u001b[Kdarts.h:407:27:\u001b[m\u001b[K \u001b[01;35m\u001b[Kwarning: \u001b[m\u001b[KISO C++17 does not allow ‘\u001b[01m\u001b[Kregister\u001b[m\u001b[K’ storage class specifier [\u001b[01;35m\u001b[K\u001b]8;;https://gcc.gnu.org/onlinedocs/gcc/Warning-Options.html#index-Wregister\u0007-Wregister\u001b]8;;\u0007\u001b[m\u001b[K]\n",
            "  407 |     register array_type_  \u001b[01;35m\u001b[Kb\u001b[m\u001b[K = array_[node_pos].base;\n",
            "      |                           \u001b[01;35m\u001b[K^\u001b[m\u001b[K\n",
            "\u001b[01m\u001b[Kdarts.h:408:28:\u001b[m\u001b[K \u001b[01;35m\u001b[Kwarning: \u001b[m\u001b[KISO C++17 does not allow ‘\u001b[01m\u001b[Kregister\u001b[m\u001b[K’ storage class specifier [\u001b[01;35m\u001b[K\u001b]8;;https://gcc.gnu.org/onlinedocs/gcc/Warning-Options.html#index-Wregister\u0007-Wregister\u001b]8;;\u0007\u001b[m\u001b[K]\n",
            "  408 |     register array_u_type_ \u001b[01;35m\u001b[Kp\u001b[m\u001b[K;\n",
            "      |                            \u001b[01;35m\u001b[K^\u001b[m\u001b[K\n",
            "\u001b[01m\u001b[Kdarts.h:410:26:\u001b[m\u001b[K \u001b[01;35m\u001b[Kwarning: \u001b[m\u001b[KISO C++17 does not allow ‘\u001b[01m\u001b[Kregister\u001b[m\u001b[K’ storage class specifier [\u001b[01;35m\u001b[K\u001b]8;;https://gcc.gnu.org/onlinedocs/gcc/Warning-Options.html#index-Wregister\u0007-Wregister\u001b]8;;\u0007\u001b[m\u001b[K]\n",
            "  410 |     for (register size_t \u001b[01;35m\u001b[Ki\u001b[m\u001b[K = 0; i < len; ++i) {\n",
            "      |                          \u001b[01;35m\u001b[K^\u001b[m\u001b[K\n",
            "libtool: compile:  g++ -DHAVE_CONFIG_H -I. -I.. -DDIC_VERSION=102 -DMECAB_DEFAULT_RC=\\\"/usr/local/etc/mecabrc\\\" -O3 -Wall -c learner.cpp -o learner.o >/dev/null 2>&1\n",
            "/bin/bash ../libtool --tag=CXX   --mode=compile g++ -DHAVE_CONFIG_H -I. -I.. -DDIC_VERSION=102   -DMECAB_DEFAULT_RC=\"\\\"/usr/local/etc/mecabrc\\\"\"    -O3 -Wall  -c -o libmecab.lo libmecab.cpp\n",
            "libtool: compile:  g++ -DHAVE_CONFIG_H -I. -I.. -DDIC_VERSION=102 -DMECAB_DEFAULT_RC=\\\"/usr/local/etc/mecabrc\\\" -O3 -Wall -c libmecab.cpp  -fPIC -DPIC -o .libs/libmecab.o\n",
            "In file included from \u001b[01m\u001b[Kdictionary.h:11\u001b[m\u001b[K,\n",
            "                 from \u001b[01m\u001b[Ktokenizer.h:11\u001b[m\u001b[K,\n",
            "                 from \u001b[01m\u001b[Klibmecab.cpp:11\u001b[m\u001b[K:\n",
            "\u001b[01m\u001b[Kdarts.h:\u001b[m\u001b[K In member function ‘\u001b[01m\u001b[KT MeCab::Darts::DoubleArrayImpl<node_type_, node_u_type_, array_type_, array_u_type_, length_func_>::exactMatchSearch(const key_type*, size_t, size_t) const\u001b[m\u001b[K’:\n",
            "\u001b[01m\u001b[Kdarts.h:407:27:\u001b[m\u001b[K \u001b[01;35m\u001b[Kwarning: \u001b[m\u001b[KISO C++17 does not allow ‘\u001b[01m\u001b[Kregister\u001b[m\u001b[K’ storage class specifier [\u001b[01;35m\u001b[K\u001b]8;;https://gcc.gnu.org/onlinedocs/gcc/Warning-Options.html#index-Wregister\u0007-Wregister\u001b]8;;\u0007\u001b[m\u001b[K]\n",
            "  407 |     register array_type_  \u001b[01;35m\u001b[Kb\u001b[m\u001b[K = array_[node_pos].base;\n",
            "      |                           \u001b[01;35m\u001b[K^\u001b[m\u001b[K\n",
            "\u001b[01m\u001b[Kdarts.h:408:28:\u001b[m\u001b[K \u001b[01;35m\u001b[Kwarning: \u001b[m\u001b[KISO C++17 does not allow ‘\u001b[01m\u001b[Kregister\u001b[m\u001b[K’ storage class specifier [\u001b[01;35m\u001b[K\u001b]8;;https://gcc.gnu.org/onlinedocs/gcc/Warning-Options.html#index-Wregister\u0007-Wregister\u001b]8;;\u0007\u001b[m\u001b[K]\n",
            "  408 |     register array_u_type_ \u001b[01;35m\u001b[Kp\u001b[m\u001b[K;\n",
            "      |                            \u001b[01;35m\u001b[K^\u001b[m\u001b[K\n",
            "\u001b[01m\u001b[Kdarts.h:410:26:\u001b[m\u001b[K \u001b[01;35m\u001b[Kwarning: \u001b[m\u001b[KISO C++17 does not allow ‘\u001b[01m\u001b[Kregister\u001b[m\u001b[K’ storage class specifier [\u001b[01;35m\u001b[K\u001b]8;;https://gcc.gnu.org/onlinedocs/gcc/Warning-Options.html#index-Wregister\u0007-Wregister\u001b]8;;\u0007\u001b[m\u001b[K]\n",
            "  410 |     for (register size_t \u001b[01;35m\u001b[Ki\u001b[m\u001b[K = 0; i < len; ++i) {\n",
            "      |                          \u001b[01;35m\u001b[K^\u001b[m\u001b[K\n",
            "\u001b[01m\u001b[Kdarts.h:\u001b[m\u001b[K In member function ‘\u001b[01m\u001b[Ksize_t MeCab::Darts::DoubleArrayImpl<node_type_, node_u_type_, array_type_, array_u_type_, length_func_>::commonPrefixSearch(const key_type*, T*, size_t, size_t, size_t) const\u001b[m\u001b[K’:\n",
            "\u001b[01m\u001b[Kdarts.h:434:27:\u001b[m\u001b[K \u001b[01;35m\u001b[Kwarning: \u001b[m\u001b[KISO C++17 does not allow ‘\u001b[01m\u001b[Kregister\u001b[m\u001b[K’ storage class specifier [\u001b[01;35m\u001b[K\u001b]8;;https://gcc.gnu.org/onlinedocs/gcc/Warning-Options.html#index-Wregister\u0007-Wregister\u001b]8;;\u0007\u001b[m\u001b[K]\n",
            "  434 |     register array_type_  \u001b[01;35m\u001b[Kb\u001b[m\u001b[K   = array_[node_pos].base;\n",
            "      |                           \u001b[01;35m\u001b[K^\u001b[m\u001b[K\n",
            "\u001b[01m\u001b[Kdarts.h:435:25:\u001b[m\u001b[K \u001b[01;35m\u001b[Kwarning: \u001b[m\u001b[KISO C++17 does not allow ‘\u001b[01m\u001b[Kregister\u001b[m\u001b[K’ storage class specifier [\u001b[01;35m\u001b[K\u001b]8;;https://gcc.gnu.org/onlinedocs/gcc/Warning-Options.html#index-Wregister\u0007-Wregister\u001b]8;;\u0007\u001b[m\u001b[K]\n",
            "  435 |     register size_t     \u001b[01;35m\u001b[Knum\u001b[m\u001b[K = 0;\n",
            "      |                         \u001b[01;35m\u001b[K^~~\u001b[m\u001b[K\n",
            "\u001b[01m\u001b[Kdarts.h:436:27:\u001b[m\u001b[K \u001b[01;35m\u001b[Kwarning: \u001b[m\u001b[KISO C++17 does not allow ‘\u001b[01m\u001b[Kregister\u001b[m\u001b[K’ storage class specifier [\u001b[01;35m\u001b[K\u001b]8;;https://gcc.gnu.org/onlinedocs/gcc/Warning-Options.html#index-Wregister\u0007-Wregister\u001b]8;;\u0007\u001b[m\u001b[K]\n",
            "  436 |     register array_type_  \u001b[01;35m\u001b[Kn\u001b[m\u001b[K;\n",
            "      |                           \u001b[01;35m\u001b[K^\u001b[m\u001b[K\n",
            "\u001b[01m\u001b[Kdarts.h:437:28:\u001b[m\u001b[K \u001b[01;35m\u001b[Kwarning: \u001b[m\u001b[KISO C++17 does not allow ‘\u001b[01m\u001b[Kregister\u001b[m\u001b[K’ storage class specifier [\u001b[01;35m\u001b[K\u001b]8;;https://gcc.gnu.org/onlinedocs/gcc/Warning-Options.html#index-Wregister\u0007-Wregister\u001b]8;;\u0007\u001b[m\u001b[K]\n",
            "  437 |     register array_u_type_ \u001b[01;35m\u001b[Kp\u001b[m\u001b[K;\n",
            "      |                            \u001b[01;35m\u001b[K^\u001b[m\u001b[K\n",
            "\u001b[01m\u001b[Kdarts.h:439:26:\u001b[m\u001b[K \u001b[01;35m\u001b[Kwarning: \u001b[m\u001b[KISO C++17 does not allow ‘\u001b[01m\u001b[Kregister\u001b[m\u001b[K’ storage class specifier [\u001b[01;35m\u001b[K\u001b]8;;https://gcc.gnu.org/onlinedocs/gcc/Warning-Options.html#index-Wregister\u0007-Wregister\u001b]8;;\u0007\u001b[m\u001b[K]\n",
            "  439 |     for (register size_t \u001b[01;35m\u001b[Ki\u001b[m\u001b[K = 0; i < len; ++i) {\n",
            "      |                          \u001b[01;35m\u001b[K^\u001b[m\u001b[K\n",
            "\u001b[01m\u001b[Kdarts.h:\u001b[m\u001b[K In member function ‘\u001b[01m\u001b[KMeCab::Darts::DoubleArrayImpl<node_type_, node_u_type_, array_type_, array_u_type_, length_func_>::value_type MeCab::Darts::DoubleArrayImpl<node_type_, node_u_type_, array_type_, array_u_type_, length_func_>::traverse(const key_type*, size_t&, size_t&, size_t) const\u001b[m\u001b[K’:\n",
            "\u001b[01m\u001b[Kdarts.h:472:27:\u001b[m\u001b[K \u001b[01;35m\u001b[Kwarning: \u001b[m\u001b[KISO C++17 does not allow ‘\u001b[01m\u001b[Kregister\u001b[m\u001b[K’ storage class specifier [\u001b[01;35m\u001b[K\u001b]8;;https://gcc.gnu.org/onlinedocs/gcc/Warning-Options.html#index-Wregister\u0007-Wregister\u001b]8;;\u0007\u001b[m\u001b[K]\n",
            "  472 |     register array_type_  \u001b[01;35m\u001b[Kb\u001b[m\u001b[K = array_[node_pos].base;\n",
            "      |                           \u001b[01;35m\u001b[K^\u001b[m\u001b[K\n",
            "\u001b[01m\u001b[Kdarts.h:473:28:\u001b[m\u001b[K \u001b[01;35m\u001b[Kwarning: \u001b[m\u001b[KISO C++17 does not allow ‘\u001b[01m\u001b[Kregister\u001b[m\u001b[K’ storage class specifier [\u001b[01;35m\u001b[K\u001b]8;;https://gcc.gnu.org/onlinedocs/gcc/Warning-Options.html#index-Wregister\u0007-Wregister\u001b]8;;\u0007\u001b[m\u001b[K]\n",
            "  473 |     register array_u_type_ \u001b[01;35m\u001b[Kp\u001b[m\u001b[K;\n",
            "      |                            \u001b[01;35m\u001b[K^\u001b[m\u001b[K\n",
            "In file included from \u001b[01m\u001b[Kdictionary.h:12\u001b[m\u001b[K,\n",
            "                 from \u001b[01m\u001b[Ktokenizer.h:11\u001b[m\u001b[K,\n",
            "                 from \u001b[01m\u001b[Klibmecab.cpp:11\u001b[m\u001b[K:\n",
            "\u001b[01m\u001b[Kchar_property.h:\u001b[m\u001b[K In member function ‘\u001b[01m\u001b[Kconst char* MeCab::CharProperty::seekToOtherType(const char*, const char*, MeCab::CharInfo, MeCab::CharInfo*, size_t*, size_t*) const\u001b[m\u001b[K’:\n",
            "\u001b[01m\u001b[Kchar_property.h:40:26:\u001b[m\u001b[K \u001b[01;35m\u001b[Kwarning: \u001b[m\u001b[KISO C++17 does not allow ‘\u001b[01m\u001b[Kregister\u001b[m\u001b[K’ storage class specifier [\u001b[01;35m\u001b[K\u001b]8;;https://gcc.gnu.org/onlinedocs/gcc/Warning-Options.html#index-Wregister\u0007-Wregister\u001b]8;;\u0007\u001b[m\u001b[K]\n",
            "   40 |     register const char *\u001b[01;35m\u001b[Kp\u001b[m\u001b[K =  begin;\n",
            "      |                          \u001b[01;35m\u001b[K^\u001b[m\u001b[K\n",
            "In file included from \u001b[01m\u001b[Kdictionary.h:11\u001b[m\u001b[K,\n",
            "                 from \u001b[01m\u001b[Ktokenizer.h:11\u001b[m\u001b[K,\n",
            "                 from \u001b[01m\u001b[Klibmecab.cpp:11\u001b[m\u001b[K:\n",
            "darts.h: In instantiation of ‘\u001b[01m\u001b[Ksize_t MeCab::Darts::DoubleArrayImpl<node_type_, node_u_type_, array_type_, array_u_type_, length_func_>::commonPrefixSearch(const key_type*, T*, size_t, size_t, size_t) const [with T = MeCab::Darts::DoubleArrayImpl<char, unsigned char, int, unsigned int>::result_pair_type; node_type_ = char; node_u_type_ = unsigned char; array_type_ = int; array_u_type_ = unsigned int; length_func_ = MeCab::Darts::Length<char>; size_t = long unsigned int; MeCab::Darts::DoubleArrayImpl<node_type_, node_u_type_, array_type_, array_u_type_, length_func_>::key_type = char]\u001b[m\u001b[K’:\n",
            "\u001b[01m\u001b[Kdictionary.h:37:34:\u001b[m\u001b[K   required from here\n",
            "\u001b[01m\u001b[Kdarts.h:434:27:\u001b[m\u001b[K \u001b[01;35m\u001b[Kwarning: \u001b[m\u001b[KISO C++17 does not allow ‘\u001b[01m\u001b[Kregister\u001b[m\u001b[K’ storage class specifier [\u001b[01;35m\u001b[K\u001b]8;;https://gcc.gnu.org/onlinedocs/gcc/Warning-Options.html#index-Wregister\u0007-Wregister\u001b]8;;\u0007\u001b[m\u001b[K]\n",
            "  434 |     register array_type_  \u001b[01;35m\u001b[Kb\u001b[m\u001b[K   = array_[node_pos].base;\n",
            "      |                           \u001b[01;35m\u001b[K^\u001b[m\u001b[K\n",
            "\u001b[01m\u001b[Kdarts.h:435:25:\u001b[m\u001b[K \u001b[01;35m\u001b[Kwarning: \u001b[m\u001b[KISO C++17 does not allow ‘\u001b[01m\u001b[Kregister\u001b[m\u001b[K’ storage class specifier [\u001b[01;35m\u001b[K\u001b]8;;https://gcc.gnu.org/onlinedocs/gcc/Warning-Options.html#index-Wregister\u0007-Wregister\u001b]8;;\u0007\u001b[m\u001b[K]\n",
            "  435 |     register size_t     \u001b[01;35m\u001b[Knum\u001b[m\u001b[K = 0;\n",
            "      |                         \u001b[01;35m\u001b[K^~~\u001b[m\u001b[K\n",
            "\u001b[01m\u001b[Kdarts.h:436:27:\u001b[m\u001b[K \u001b[01;35m\u001b[Kwarning: \u001b[m\u001b[KISO C++17 does not allow ‘\u001b[01m\u001b[Kregister\u001b[m\u001b[K’ storage class specifier [\u001b[01;35m\u001b[K\u001b]8;;https://gcc.gnu.org/onlinedocs/gcc/Warning-Options.html#index-Wregister\u0007-Wregister\u001b]8;;\u0007\u001b[m\u001b[K]\n",
            "  436 |     register array_type_  \u001b[01;35m\u001b[Kn\u001b[m\u001b[K;\n",
            "      |                           \u001b[01;35m\u001b[K^\u001b[m\u001b[K\n",
            "\u001b[01m\u001b[Kdarts.h:437:28:\u001b[m\u001b[K \u001b[01;35m\u001b[Kwarning: \u001b[m\u001b[KISO C++17 does not allow ‘\u001b[01m\u001b[Kregister\u001b[m\u001b[K’ storage class specifier [\u001b[01;35m\u001b[K\u001b]8;;https://gcc.gnu.org/onlinedocs/gcc/Warning-Options.html#index-Wregister\u0007-Wregister\u001b]8;;\u0007\u001b[m\u001b[K]\n",
            "  437 |     register array_u_type_ \u001b[01;35m\u001b[Kp\u001b[m\u001b[K;\n",
            "      |                            \u001b[01;35m\u001b[K^\u001b[m\u001b[K\n",
            "\u001b[01m\u001b[Kdarts.h:439:26:\u001b[m\u001b[K \u001b[01;35m\u001b[Kwarning: \u001b[m\u001b[KISO C++17 does not allow ‘\u001b[01m\u001b[Kregister\u001b[m\u001b[K’ storage class specifier [\u001b[01;35m\u001b[K\u001b]8;;https://gcc.gnu.org/onlinedocs/gcc/Warning-Options.html#index-Wregister\u0007-Wregister\u001b]8;;\u0007\u001b[m\u001b[K]\n",
            "  439 |     for (register size_t \u001b[01;35m\u001b[Ki\u001b[m\u001b[K = 0; i < len; ++i) {\n",
            "      |                          \u001b[01;35m\u001b[K^\u001b[m\u001b[K\n",
            "darts.h: In instantiation of ‘\u001b[01m\u001b[KT MeCab::Darts::DoubleArrayImpl<node_type_, node_u_type_, array_type_, array_u_type_, length_func_>::exactMatchSearch(const key_type*, size_t, size_t) const [with T = MeCab::Darts::DoubleArrayImpl<char, unsigned char, int, unsigned int>::result_pair_type; node_type_ = char; node_u_type_ = unsigned char; array_type_ = int; array_u_type_ = unsigned int; length_func_ = MeCab::Darts::Length<char>; MeCab::Darts::DoubleArrayImpl<node_type_, node_u_type_, array_type_, array_u_type_, length_func_>::key_type = char; size_t = long unsigned int]\u001b[m\u001b[K’:\n",
            "\u001b[01m\u001b[Kdarts.h:394:33:\u001b[m\u001b[K   required from ‘\u001b[01m\u001b[Kvoid MeCab::Darts::DoubleArrayImpl<node_type_, node_u_type_, array_type_, array_u_type_, length_func_>::exactMatchSearch(const key_type*, T&, size_t, size_t) const [with T = MeCab::Darts::DoubleArrayImpl<char, unsigned char, int, unsigned int>::result_pair_type; node_type_ = char; node_u_type_ = unsigned char; array_type_ = int; array_u_type_ = unsigned int; length_func_ = MeCab::Darts::Length<char>; MeCab::Darts::DoubleArrayImpl<node_type_, node_u_type_, array_type_, array_u_type_, length_func_>::key_type = char; size_t = long unsigned int]\u001b[m\u001b[K’\n",
            "\u001b[01m\u001b[Kdictionary.h:42:25:\u001b[m\u001b[K   required from here\n",
            "\u001b[01m\u001b[Kdarts.h:407:27:\u001b[m\u001b[K \u001b[01;35m\u001b[Kwarning: \u001b[m\u001b[KISO C++17 does not allow ‘\u001b[01m\u001b[Kregister\u001b[m\u001b[K’ storage class specifier [\u001b[01;35m\u001b[K\u001b]8;;https://gcc.gnu.org/onlinedocs/gcc/Warning-Options.html#index-Wregister\u0007-Wregister\u001b]8;;\u0007\u001b[m\u001b[K]\n",
            "  407 |     register array_type_  \u001b[01;35m\u001b[Kb\u001b[m\u001b[K = array_[node_pos].base;\n",
            "      |                           \u001b[01;35m\u001b[K^\u001b[m\u001b[K\n",
            "\u001b[01m\u001b[Kdarts.h:408:28:\u001b[m\u001b[K \u001b[01;35m\u001b[Kwarning: \u001b[m\u001b[KISO C++17 does not allow ‘\u001b[01m\u001b[Kregister\u001b[m\u001b[K’ storage class specifier [\u001b[01;35m\u001b[K\u001b]8;;https://gcc.gnu.org/onlinedocs/gcc/Warning-Options.html#index-Wregister\u0007-Wregister\u001b]8;;\u0007\u001b[m\u001b[K]\n",
            "  408 |     register array_u_type_ \u001b[01;35m\u001b[Kp\u001b[m\u001b[K;\n",
            "      |                            \u001b[01;35m\u001b[K^\u001b[m\u001b[K\n",
            "\u001b[01m\u001b[Kdarts.h:410:26:\u001b[m\u001b[K \u001b[01;35m\u001b[Kwarning: \u001b[m\u001b[KISO C++17 does not allow ‘\u001b[01m\u001b[Kregister\u001b[m\u001b[K’ storage class specifier [\u001b[01;35m\u001b[K\u001b]8;;https://gcc.gnu.org/onlinedocs/gcc/Warning-Options.html#index-Wregister\u0007-Wregister\u001b]8;;\u0007\u001b[m\u001b[K]\n",
            "  410 |     for (register size_t \u001b[01;35m\u001b[Ki\u001b[m\u001b[K = 0; i < len; ++i) {\n",
            "      |                          \u001b[01;35m\u001b[K^\u001b[m\u001b[K\n",
            "libtool: compile:  g++ -DHAVE_CONFIG_H -I. -I.. -DDIC_VERSION=102 -DMECAB_DEFAULT_RC=\\\"/usr/local/etc/mecabrc\\\" -O3 -Wall -c libmecab.cpp -o libmecab.o >/dev/null 2>&1\n",
            "/bin/bash ../libtool --tag=CXX   --mode=link g++  -O3 -Wall  -no-undefined -version-info 2:0:0  -o libmecab.la -rpath /usr/local/lib viterbi.lo tagger.lo utils.lo eval.lo iconv_utils.lo dictionary_rewriter.lo dictionary_generator.lo dictionary_compiler.lo context_id.lo connector.lo nbest_generator.lo writer.lo string_buffer.lo param.lo tokenizer.lo char_property.lo dictionary.lo feature_index.lo lbfgs.lo learner_tagger.lo learner.lo libmecab.lo  -lpthread -lpthread  -lstdc++ \n",
            "libtool: link: g++  -fPIC -DPIC -shared -nostdlib /usr/lib/gcc/x86_64-linux-gnu/11/../../../x86_64-linux-gnu/crti.o /usr/lib/gcc/x86_64-linux-gnu/11/crtbeginS.o  .libs/viterbi.o .libs/tagger.o .libs/utils.o .libs/eval.o .libs/iconv_utils.o .libs/dictionary_rewriter.o .libs/dictionary_generator.o .libs/dictionary_compiler.o .libs/context_id.o .libs/connector.o .libs/nbest_generator.o .libs/writer.o .libs/string_buffer.o .libs/param.o .libs/tokenizer.o .libs/char_property.o .libs/dictionary.o .libs/feature_index.o .libs/lbfgs.o .libs/learner_tagger.o .libs/learner.o .libs/libmecab.o   -lpthread -L/usr/lib/gcc/x86_64-linux-gnu/11 -L/usr/lib/gcc/x86_64-linux-gnu/11/../../../x86_64-linux-gnu -L/usr/lib/gcc/x86_64-linux-gnu/11/../../../../lib -L/lib/x86_64-linux-gnu -L/lib/../lib -L/usr/lib/x86_64-linux-gnu -L/usr/lib/../lib -L/usr/local/cuda/lib64/stubs -L/usr/lib/gcc/x86_64-linux-gnu/11/../../.. -lstdc++ -lm -lc -lgcc_s /usr/lib/gcc/x86_64-linux-gnu/11/crtendS.o /usr/lib/gcc/x86_64-linux-gnu/11/../../../x86_64-linux-gnu/crtn.o  -O3   -Wl,-soname -Wl,libmecab.so.2 -o .libs/libmecab.so.2.0.0\n",
            "libtool: link: (cd \".libs\" && rm -f \"libmecab.so.2\" && ln -s \"libmecab.so.2.0.0\" \"libmecab.so.2\")\n",
            "libtool: link: (cd \".libs\" && rm -f \"libmecab.so\" && ln -s \"libmecab.so.2.0.0\" \"libmecab.so\")\n",
            "libtool: link: ar cru .libs/libmecab.a  viterbi.o tagger.o utils.o eval.o iconv_utils.o dictionary_rewriter.o dictionary_generator.o dictionary_compiler.o context_id.o connector.o nbest_generator.o writer.o string_buffer.o param.o tokenizer.o char_property.o dictionary.o feature_index.o lbfgs.o learner_tagger.o learner.o libmecab.o\n",
            "ar: `u' modifier ignored since `D' is the default (see `U')\n",
            "libtool: link: ranlib .libs/libmecab.a\n",
            "libtool: link: ( cd \".libs\" && rm -f \"libmecab.la\" && ln -s \"../libmecab.la\" \"libmecab.la\" )\n",
            "g++ -DHAVE_CONFIG_H -I. -I.. -DDIC_VERSION=102   -DMECAB_DEFAULT_RC=\"\\\"/usr/local/etc/mecabrc\\\"\"    -O3 -Wall  -c -o mecab.o mecab.cpp\n",
            "/bin/bash ../libtool --tag=CXX   --mode=link g++  -O3 -Wall    -o mecab mecab.o libmecab.la -lpthread -lpthread  -lstdc++ \n",
            "libtool: link: g++ -O3 -Wall -o .libs/mecab mecab.o  ./.libs/libmecab.so -lpthread -lstdc++\n",
            "g++ -DHAVE_CONFIG_H -I. -I.. -DDIC_VERSION=102   -DMECAB_DEFAULT_RC=\"\\\"/usr/local/etc/mecabrc\\\"\"    -O3 -Wall  -c -o mecab-dict-index.o mecab-dict-index.cpp\n",
            "/bin/bash ../libtool --tag=CXX   --mode=link g++  -O3 -Wall    -o mecab-dict-index mecab-dict-index.o libmecab.la -lpthread -lpthread  -lstdc++ \n",
            "libtool: link: g++ -O3 -Wall -o .libs/mecab-dict-index mecab-dict-index.o  ./.libs/libmecab.so -lpthread -lstdc++\n",
            "g++ -DHAVE_CONFIG_H -I. -I.. -DDIC_VERSION=102   -DMECAB_DEFAULT_RC=\"\\\"/usr/local/etc/mecabrc\\\"\"    -O3 -Wall  -c -o mecab-dict-gen.o mecab-dict-gen.cpp\n",
            "/bin/bash ../libtool --tag=CXX   --mode=link g++  -O3 -Wall    -o mecab-dict-gen mecab-dict-gen.o libmecab.la -lpthread -lpthread  -lstdc++ \n",
            "libtool: link: g++ -O3 -Wall -o .libs/mecab-dict-gen mecab-dict-gen.o  ./.libs/libmecab.so -lpthread -lstdc++\n",
            "g++ -DHAVE_CONFIG_H -I. -I.. -DDIC_VERSION=102   -DMECAB_DEFAULT_RC=\"\\\"/usr/local/etc/mecabrc\\\"\"    -O3 -Wall  -c -o mecab-cost-train.o mecab-cost-train.cpp\n",
            "/bin/bash ../libtool --tag=CXX   --mode=link g++  -O3 -Wall    -o mecab-cost-train mecab-cost-train.o libmecab.la -lpthread -lpthread  -lstdc++ \n",
            "libtool: link: g++ -O3 -Wall -o .libs/mecab-cost-train mecab-cost-train.o  ./.libs/libmecab.so -lpthread -lstdc++\n",
            "g++ -DHAVE_CONFIG_H -I. -I.. -DDIC_VERSION=102   -DMECAB_DEFAULT_RC=\"\\\"/usr/local/etc/mecabrc\\\"\"    -O3 -Wall  -c -o mecab-system-eval.o mecab-system-eval.cpp\n",
            "/bin/bash ../libtool --tag=CXX   --mode=link g++  -O3 -Wall    -o mecab-system-eval mecab-system-eval.o libmecab.la -lpthread -lpthread  -lstdc++ \n",
            "libtool: link: g++ -O3 -Wall -o .libs/mecab-system-eval mecab-system-eval.o  ./.libs/libmecab.so -lpthread -lstdc++\n",
            "g++ -DHAVE_CONFIG_H -I. -I.. -DDIC_VERSION=102   -DMECAB_DEFAULT_RC=\"\\\"/usr/local/etc/mecabrc\\\"\"    -O3 -Wall  -c -o mecab-test-gen.o mecab-test-gen.cpp\n",
            "/bin/bash ../libtool --tag=CXX   --mode=link g++  -O3 -Wall    -o mecab-test-gen mecab-test-gen.o libmecab.la -lpthread -lpthread  -lstdc++ \n",
            "libtool: link: g++ -O3 -Wall -o .libs/mecab-test-gen mecab-test-gen.o  ./.libs/libmecab.so -lpthread -lstdc++\n",
            "make[2]: Leaving directory '/tmp/mecab-0.996-ko-0.9.2/src'\n",
            "Making all in man\n",
            "make[2]: Entering directory '/tmp/mecab-0.996-ko-0.9.2/man'\n",
            "make[2]: Nothing to be done for 'all'.\n",
            "make[2]: Leaving directory '/tmp/mecab-0.996-ko-0.9.2/man'\n",
            "Making all in doc\n",
            "make[2]: Entering directory '/tmp/mecab-0.996-ko-0.9.2/doc'\n",
            "make[2]: Nothing to be done for 'all'.\n",
            "make[2]: Leaving directory '/tmp/mecab-0.996-ko-0.9.2/doc'\n",
            "Making all in tests\n",
            "make[2]: Entering directory '/tmp/mecab-0.996-ko-0.9.2/tests'\n",
            "make[2]: Nothing to be done for 'all'.\n",
            "make[2]: Leaving directory '/tmp/mecab-0.996-ko-0.9.2/tests'\n",
            "make[2]: Entering directory '/tmp/mecab-0.996-ko-0.9.2'\n",
            "make[2]: Leaving directory '/tmp/mecab-0.996-ko-0.9.2'\n",
            "make[1]: Leaving directory '/tmp/mecab-0.996-ko-0.9.2'\n",
            "Making check in src\n",
            "make[1]: Entering directory '/tmp/mecab-0.996-ko-0.9.2/src'\n",
            "make[1]: Nothing to be done for 'check'.\n",
            "make[1]: Leaving directory '/tmp/mecab-0.996-ko-0.9.2/src'\n",
            "Making check in man\n",
            "make[1]: Entering directory '/tmp/mecab-0.996-ko-0.9.2/man'\n",
            "make[1]: Nothing to be done for 'check'.\n",
            "make[1]: Leaving directory '/tmp/mecab-0.996-ko-0.9.2/man'\n",
            "Making check in doc\n",
            "make[1]: Entering directory '/tmp/mecab-0.996-ko-0.9.2/doc'\n",
            "make[1]: Nothing to be done for 'check'.\n",
            "make[1]: Leaving directory '/tmp/mecab-0.996-ko-0.9.2/doc'\n",
            "Making check in tests\n",
            "make[1]: Entering directory '/tmp/mecab-0.996-ko-0.9.2/tests'\n",
            "make  check-TESTS\n",
            "make[2]: Entering directory '/tmp/mecab-0.996-ko-0.9.2/tests'\n",
            "./pos-id.def is not found. minimum setting is used\n",
            "reading ./unk.def ... 2\n",
            "emitting double-array: 100% |###########################################| \n",
            "./model.def is not found. skipped.\n",
            "./pos-id.def is not found. minimum setting is used\n",
            "reading ./dic.csv ... 177\n",
            "emitting double-array: 100% |###########################################| \n",
            "reading ./matrix.def ... 178x178\n",
            "emitting matrix      : 100% |###########################################| \n",
            "\n",
            "done!\n",
            "./pos-id.def is not found. minimum setting is used\n",
            "reading ./unk.def ... 2\n",
            "emitting double-array: 100% |###########################################| \n",
            "./model.def is not found. skipped.\n",
            "./pos-id.def is not found. minimum setting is used\n",
            "reading ./dic.csv ... 83\n",
            "emitting double-array: 100% |###########################################| \n",
            "reading ./matrix.def ... 84x84\n",
            "emitting matrix      : 100% |###########################################| \n",
            "\n",
            "done!\n",
            "./pos-id.def is not found. minimum setting is used\n",
            "reading ./unk.def ... 2\n",
            "emitting double-array: 100% |###########################################| \n",
            "./model.def is not found. skipped.\n",
            "./pos-id.def is not found. minimum setting is used\n",
            "reading ./dic.csv ... 450\n",
            "emitting double-array: 100% |###########################################| \n",
            "reading ./matrix.def ... 1x1\n",
            "\n",
            "done!\n",
            "./pos-id.def is not found. minimum setting is used\n",
            "reading ./unk.def ... 2\n",
            "emitting double-array: 100% |###########################################| \n",
            "./model.def is not found. skipped.\n",
            "./pos-id.def is not found. minimum setting is used\n",
            "reading ./dic.csv ... 162\n",
            "emitting double-array: 100% |###########################################| \n",
            "reading ./matrix.def ... 3x3\n",
            "emitting matrix      : 100% |###########################################| \n",
            "\n",
            "done!\n",
            "./pos-id.def is not found. minimum setting is used\n",
            "reading ./unk.def ... 2\n",
            "emitting double-array: 100% |###########################################| \n",
            "./model.def is not found. skipped.\n",
            "./pos-id.def is not found. minimum setting is used\n",
            "reading ./dic.csv ... 4\n",
            "emitting double-array: 100% |###########################################| \n",
            "reading ./matrix.def ... 1x1\n",
            "\n",
            "done!\n",
            "./pos-id.def is not found. minimum setting is used\n",
            "reading ./unk.def ... 11\n",
            "emitting double-array: 100% |###########################################| \n",
            "./model.def is not found. skipped.\n",
            "./pos-id.def is not found. minimum setting is used\n",
            "reading ./dic.csv ... 1\n",
            "reading ./matrix.def ... 1x1\n",
            "\n",
            "done!\n",
            "./pos-id.def is not found. minimum setting is used\n",
            "reading ./unk.def ... 2\n",
            "emitting double-array: 100% |###########################################| \n",
            "./model.def is not found. skipped.\n",
            "./pos-id.def is not found. minimum setting is used\n",
            "reading ./dic.csv ... 1\n",
            "reading ./matrix.def ... 1x1\n",
            "\n",
            "done!\n",
            "PASS: run-dics.sh\n",
            "PASS: run-eval.sh\n",
            "seed/pos-id.def is not found. minimum setting is used\n",
            "reading seed/unk.def ... 40\n",
            "emitting double-array: 100% |###########################################| \n",
            "seed/model.def is not found. skipped.\n",
            "seed/pos-id.def is not found. minimum setting is used\n",
            "reading seed/dic.csv ... 4335\n",
            "emitting double-array: 100% |###########################################| \n",
            "reading seed/matrix.def ... 1x1\n",
            "\n",
            "done!\n",
            "reading corpus ...\n",
            "Number of sentences: 34\n",
            "Number of features:  64108\n",
            "eta:                 0.00005\n",
            "freq:                1\n",
            "eval-size:           6\n",
            "unk-eval-size:       4\n",
            "threads:             1\n",
            "charset:             EUC-JP\n",
            "C(sigma^2):          1.00000\n",
            "\n",
            "iter=0 err=1.00000 F=0.35771 target=2406.28355 diff=1.00000\n",
            "iter=1 err=0.97059 F=0.65652 target=1484.25231 diff=0.38318\n",
            "iter=2 err=0.91176 F=0.79331 target=863.32765 diff=0.41834\n",
            "iter=3 err=0.85294 F=0.89213 target=596.72480 diff=0.30881\n",
            "iter=4 err=0.61765 F=0.95467 target=336.30744 diff=0.43641\n",
            "iter=5 err=0.50000 F=0.96702 target=246.53039 diff=0.26695\n",
            "iter=6 err=0.35294 F=0.95472 target=188.93963 diff=0.23361\n",
            "iter=7 err=0.20588 F=0.99106 target=168.62665 diff=0.10751\n",
            "iter=8 err=0.05882 F=0.99777 target=158.64865 diff=0.05917\n",
            "iter=9 err=0.08824 F=0.99665 target=154.14530 diff=0.02839\n",
            "iter=10 err=0.08824 F=0.99665 target=151.94257 diff=0.01429\n",
            "iter=11 err=0.02941 F=0.99888 target=147.20825 diff=0.03116\n",
            "iter=12 err=0.00000 F=1.00000 target=147.34956 diff=0.00096\n",
            "iter=13 err=0.02941 F=0.99888 target=146.32592 diff=0.00695\n",
            "iter=14 err=0.00000 F=1.00000 target=145.77299 diff=0.00378\n",
            "iter=15 err=0.02941 F=0.99888 target=145.24641 diff=0.00361\n",
            "iter=16 err=0.00000 F=1.00000 target=144.96490 diff=0.00194\n",
            "iter=17 err=0.02941 F=0.99888 target=144.90246 diff=0.00043\n",
            "iter=18 err=0.00000 F=1.00000 target=144.75959 diff=0.00099\n",
            "iter=19 err=0.00000 F=1.00000 target=144.71727 diff=0.00029\n",
            "iter=20 err=0.00000 F=1.00000 target=144.66337 diff=0.00037\n",
            "iter=21 err=0.00000 F=1.00000 target=144.61349 diff=0.00034\n",
            "iter=22 err=0.00000 F=1.00000 target=144.62987 diff=0.00011\n",
            "iter=23 err=0.00000 F=1.00000 target=144.60060 diff=0.00020\n",
            "iter=24 err=0.00000 F=1.00000 target=144.59125 diff=0.00006\n",
            "iter=25 err=0.00000 F=1.00000 target=144.58619 diff=0.00004\n",
            "iter=26 err=0.00000 F=1.00000 target=144.58219 diff=0.00003\n",
            "iter=27 err=0.00000 F=1.00000 target=144.58059 diff=0.00001\n",
            "\n",
            "Done! writing model file ... \n",
            "model-ipadic.c1.0.f1.model is not a binary model. reopen it as text mode...\n",
            "reading seed/unk.def ... 40\n",
            "reading seed/dic.csv ... 4335\n",
            "emitting model-ipadic.c1.0.f1.dic/left-id.def/ model-ipadic.c1.0.f1.dic/right-id.def\n",
            "emitting model-ipadic.c1.0.f1.dic/unk.def ... 40\n",
            "emitting model-ipadic.c1.0.f1.dic/dic.csv ... 4335\n",
            "emitting matrix      : 100% |###########################################| \n",
            "copying seed/char.def to model-ipadic.c1.0.f1.dic/char.def\n",
            "copying seed/rewrite.def to model-ipadic.c1.0.f1.dic/rewrite.def\n",
            "copying seed/dicrc to model-ipadic.c1.0.f1.dic/dicrc\n",
            "copying seed/feature.def to model-ipadic.c1.0.f1.dic/feature.def\n",
            "copying model-ipadic.c1.0.f1.model to model-ipadic.c1.0.f1.dic/model.def\n",
            "\n",
            "done!\n",
            "model-ipadic.c1.0.f1.dic/pos-id.def is not found. minimum setting is used\n",
            "reading model-ipadic.c1.0.f1.dic/unk.def ... 40\n",
            "emitting double-array: 100% |###########################################| \n",
            "model-ipadic.c1.0.f1.dic/pos-id.def is not found. minimum setting is used\n",
            "reading model-ipadic.c1.0.f1.dic/dic.csv ... 4335\n",
            "emitting double-array: 100% |###########################################| \n",
            "reading model-ipadic.c1.0.f1.dic/matrix.def ... 346x346\n",
            "emitting matrix      : 100% |###########################################| \n",
            "\n",
            "done!\n",
            "              precision          recall         F\n",
            "LEVEL 0:    12.8959(57/442) 11.8998(57/479) 12.3779\n",
            "LEVEL 1:    12.2172(54/442) 11.2735(54/479) 11.7264\n",
            "LEVEL 2:    11.7647(52/442) 10.8559(52/479) 11.2921\n",
            "LEVEL 4:    11.7647(52/442) 10.8559(52/479) 11.2921\n",
            "PASS: run-cost-train.sh\n",
            "==================\n",
            "All 3 tests passed\n",
            "==================\n",
            "make[2]: Leaving directory '/tmp/mecab-0.996-ko-0.9.2/tests'\n",
            "make[1]: Leaving directory '/tmp/mecab-0.996-ko-0.9.2/tests'\n",
            "make[1]: Entering directory '/tmp/mecab-0.996-ko-0.9.2'\n",
            "make[1]: Leaving directory '/tmp/mecab-0.996-ko-0.9.2'\n",
            "Making install in src\n",
            "make[1]: Entering directory '/tmp/mecab-0.996-ko-0.9.2/src'\n",
            "make[2]: Entering directory '/tmp/mecab-0.996-ko-0.9.2/src'\n",
            "test -z \"/usr/local/lib\" || /usr/bin/mkdir -p \"/usr/local/lib\"\n",
            " /bin/bash ../libtool   --mode=install /usr/bin/install -c   libmecab.la '/usr/local/lib'\n",
            "libtool: install: /usr/bin/install -c .libs/libmecab.so.2.0.0 /usr/local/lib/libmecab.so.2.0.0\n",
            "libtool: install: (cd /usr/local/lib && { ln -s -f libmecab.so.2.0.0 libmecab.so.2 || { rm -f libmecab.so.2 && ln -s libmecab.so.2.0.0 libmecab.so.2; }; })\n",
            "libtool: install: (cd /usr/local/lib && { ln -s -f libmecab.so.2.0.0 libmecab.so || { rm -f libmecab.so && ln -s libmecab.so.2.0.0 libmecab.so; }; })\n",
            "libtool: install: /usr/bin/install -c .libs/libmecab.lai /usr/local/lib/libmecab.la\n",
            "libtool: install: /usr/bin/install -c .libs/libmecab.a /usr/local/lib/libmecab.a\n",
            "libtool: install: chmod 644 /usr/local/lib/libmecab.a\n",
            "libtool: install: ranlib /usr/local/lib/libmecab.a\n",
            "libtool: finish: PATH=\"/usr/local/sbin:/usr/local/bin:/usr/sbin:/usr/bin:/sbin:/bin:/snap/bin:/sbin\" ldconfig -n /usr/local/lib\n",
            "/sbin/ldconfig.real: /usr/local/lib/libtbbmalloc.so.2 is not a symbolic link\n",
            "\n",
            "/sbin/ldconfig.real: /usr/local/lib/libtbb.so.12 is not a symbolic link\n",
            "\n",
            "/sbin/ldconfig.real: /usr/local/lib/libtbbbind.so.3 is not a symbolic link\n",
            "\n",
            "/sbin/ldconfig.real: /usr/local/lib/libtbbmalloc_proxy.so.2 is not a symbolic link\n",
            "\n",
            "/sbin/ldconfig.real: /usr/local/lib/libtbbbind_2_5.so.3 is not a symbolic link\n",
            "\n",
            "/sbin/ldconfig.real: /usr/local/lib/libtbbbind_2_0.so.3 is not a symbolic link\n",
            "\n",
            "----------------------------------------------------------------------\n",
            "Libraries have been installed in:\n",
            "   /usr/local/lib\n",
            "\n",
            "If you ever happen to want to link against installed libraries\n",
            "in a given directory, LIBDIR, you must either use libtool, and\n",
            "specify the full pathname of the library, or use the `-LLIBDIR'\n",
            "flag during linking and do at least one of the following:\n",
            "   - add LIBDIR to the `LD_LIBRARY_PATH' environment variable\n",
            "     during execution\n",
            "   - add LIBDIR to the `LD_RUN_PATH' environment variable\n",
            "     during linking\n",
            "   - use the `-Wl,-rpath -Wl,LIBDIR' linker flag\n",
            "   - have your system administrator add LIBDIR to `/etc/ld.so.conf'\n",
            "\n",
            "See any operating system documentation about shared libraries for\n",
            "more information, such as the ld(1) and ld.so(8) manual pages.\n",
            "----------------------------------------------------------------------\n",
            "test -z \"/usr/local/bin\" || /usr/bin/mkdir -p \"/usr/local/bin\"\n",
            "  /bin/bash ../libtool   --mode=install /usr/bin/install -c mecab '/usr/local/bin'\n",
            "libtool: install: /usr/bin/install -c .libs/mecab /usr/local/bin/mecab\n",
            "test -z \"/usr/local/libexec/mecab\" || /usr/bin/mkdir -p \"/usr/local/libexec/mecab\"\n",
            "  /bin/bash ../libtool   --mode=install /usr/bin/install -c mecab-dict-index mecab-dict-gen mecab-cost-train mecab-system-eval mecab-test-gen '/usr/local/libexec/mecab'\n",
            "libtool: install: /usr/bin/install -c .libs/mecab-dict-index /usr/local/libexec/mecab/mecab-dict-index\n",
            "libtool: install: /usr/bin/install -c .libs/mecab-dict-gen /usr/local/libexec/mecab/mecab-dict-gen\n",
            "libtool: install: /usr/bin/install -c .libs/mecab-cost-train /usr/local/libexec/mecab/mecab-cost-train\n",
            "libtool: install: /usr/bin/install -c .libs/mecab-system-eval /usr/local/libexec/mecab/mecab-system-eval\n",
            "libtool: install: /usr/bin/install -c .libs/mecab-test-gen /usr/local/libexec/mecab/mecab-test-gen\n",
            "test -z \"/usr/local/include\" || /usr/bin/mkdir -p \"/usr/local/include\"\n",
            " /usr/bin/install -c -m 644 mecab.h '/usr/local/include'\n",
            "make[2]: Leaving directory '/tmp/mecab-0.996-ko-0.9.2/src'\n",
            "make[1]: Leaving directory '/tmp/mecab-0.996-ko-0.9.2/src'\n",
            "Making install in man\n",
            "make[1]: Entering directory '/tmp/mecab-0.996-ko-0.9.2/man'\n",
            "make[2]: Entering directory '/tmp/mecab-0.996-ko-0.9.2/man'\n",
            "make[2]: Nothing to be done for 'install-exec-am'.\n",
            "test -z \"/usr/local/share/man/man1\" || /usr/bin/mkdir -p \"/usr/local/share/man/man1\"\n",
            " /usr/bin/install -c -m 644 mecab.1 '/usr/local/share/man/man1'\n",
            "make[2]: Leaving directory '/tmp/mecab-0.996-ko-0.9.2/man'\n",
            "make[1]: Leaving directory '/tmp/mecab-0.996-ko-0.9.2/man'\n",
            "Making install in doc\n",
            "make[1]: Entering directory '/tmp/mecab-0.996-ko-0.9.2/doc'\n",
            "make[2]: Entering directory '/tmp/mecab-0.996-ko-0.9.2/doc'\n",
            "make[2]: Nothing to be done for 'install-exec-am'.\n",
            "make[2]: Nothing to be done for 'install-data-am'.\n",
            "make[2]: Leaving directory '/tmp/mecab-0.996-ko-0.9.2/doc'\n",
            "make[1]: Leaving directory '/tmp/mecab-0.996-ko-0.9.2/doc'\n",
            "Making install in tests\n",
            "make[1]: Entering directory '/tmp/mecab-0.996-ko-0.9.2/tests'\n",
            "make[2]: Entering directory '/tmp/mecab-0.996-ko-0.9.2/tests'\n",
            "make[2]: Nothing to be done for 'install-exec-am'.\n",
            "make[2]: Nothing to be done for 'install-data-am'.\n",
            "make[2]: Leaving directory '/tmp/mecab-0.996-ko-0.9.2/tests'\n",
            "make[1]: Leaving directory '/tmp/mecab-0.996-ko-0.9.2/tests'\n",
            "make[1]: Entering directory '/tmp/mecab-0.996-ko-0.9.2'\n",
            "make[2]: Entering directory '/tmp/mecab-0.996-ko-0.9.2'\n",
            "test -z \"/usr/local/bin\" || /usr/bin/mkdir -p \"/usr/local/bin\"\n",
            " /usr/bin/install -c mecab-config '/usr/local/bin'\n",
            "test -z \"/usr/local/etc\" || /usr/bin/mkdir -p \"/usr/local/etc\"\n",
            " /usr/bin/install -c -m 644 mecabrc '/usr/local/etc'\n",
            "make[2]: Leaving directory '/tmp/mecab-0.996-ko-0.9.2'\n",
            "make[1]: Leaving directory '/tmp/mecab-0.996-ko-0.9.2'\n",
            "Install mecab-ko-dic\n",
            "Install mecab-ko-dic\n",
            "  % Total    % Received % Xferd  Average Speed   Time    Time     Time  Current\n",
            "                                 Dload  Upload   Total   Spent    Left  Speed\n",
            "  0     0    0     0    0     0      0      0 --:--:-- --:--:-- --:--:--     0\n",
            "100 47.4M  100 47.4M    0     0  7229k      0  0:00:06  0:00:06 --:--:-- 10.4M\n",
            "mecab-ko-dic-2.1.1-20180720/\n",
            "mecab-ko-dic-2.1.1-20180720/configure\n",
            "mecab-ko-dic-2.1.1-20180720/COPYING\n",
            "mecab-ko-dic-2.1.1-20180720/autogen.sh\n",
            "mecab-ko-dic-2.1.1-20180720/Place-station.csv\n",
            "mecab-ko-dic-2.1.1-20180720/NNG.csv\n",
            "mecab-ko-dic-2.1.1-20180720/README\n",
            "mecab-ko-dic-2.1.1-20180720/EF.csv\n",
            "mecab-ko-dic-2.1.1-20180720/MAG.csv\n",
            "mecab-ko-dic-2.1.1-20180720/Preanalysis.csv\n",
            "mecab-ko-dic-2.1.1-20180720/NNB.csv\n",
            "mecab-ko-dic-2.1.1-20180720/Person-actor.csv\n",
            "mecab-ko-dic-2.1.1-20180720/VV.csv\n",
            "mecab-ko-dic-2.1.1-20180720/Makefile.in\n",
            "mecab-ko-dic-2.1.1-20180720/matrix.def\n",
            "mecab-ko-dic-2.1.1-20180720/EC.csv\n",
            "mecab-ko-dic-2.1.1-20180720/NNBC.csv\n",
            "mecab-ko-dic-2.1.1-20180720/clean\n",
            "mecab-ko-dic-2.1.1-20180720/ChangeLog\n",
            "mecab-ko-dic-2.1.1-20180720/J.csv\n",
            "mecab-ko-dic-2.1.1-20180720/.keep\n",
            "mecab-ko-dic-2.1.1-20180720/feature.def\n",
            "mecab-ko-dic-2.1.1-20180720/Foreign.csv\n",
            "mecab-ko-dic-2.1.1-20180720/XPN.csv\n",
            "mecab-ko-dic-2.1.1-20180720/EP.csv\n",
            "mecab-ko-dic-2.1.1-20180720/NR.csv\n",
            "mecab-ko-dic-2.1.1-20180720/left-id.def\n",
            "mecab-ko-dic-2.1.1-20180720/Place.csv\n",
            "mecab-ko-dic-2.1.1-20180720/Symbol.csv\n",
            "mecab-ko-dic-2.1.1-20180720/dicrc\n",
            "mecab-ko-dic-2.1.1-20180720/NP.csv\n",
            "mecab-ko-dic-2.1.1-20180720/ETM.csv\n",
            "mecab-ko-dic-2.1.1-20180720/IC.csv\n",
            "mecab-ko-dic-2.1.1-20180720/Place-address.csv\n",
            "mecab-ko-dic-2.1.1-20180720/Group.csv\n",
            "mecab-ko-dic-2.1.1-20180720/model.def\n",
            "mecab-ko-dic-2.1.1-20180720/XSN.csv\n",
            "mecab-ko-dic-2.1.1-20180720/INSTALL\n",
            "mecab-ko-dic-2.1.1-20180720/rewrite.def\n",
            "mecab-ko-dic-2.1.1-20180720/Inflect.csv\n",
            "mecab-ko-dic-2.1.1-20180720/configure.ac\n",
            "mecab-ko-dic-2.1.1-20180720/NNP.csv\n",
            "mecab-ko-dic-2.1.1-20180720/CoinedWord.csv\n",
            "mecab-ko-dic-2.1.1-20180720/XSV.csv\n",
            "mecab-ko-dic-2.1.1-20180720/pos-id.def\n",
            "mecab-ko-dic-2.1.1-20180720/Makefile.am\n",
            "mecab-ko-dic-2.1.1-20180720/unk.def\n",
            "mecab-ko-dic-2.1.1-20180720/missing\n",
            "mecab-ko-dic-2.1.1-20180720/VCP.csv\n",
            "mecab-ko-dic-2.1.1-20180720/install-sh\n",
            "mecab-ko-dic-2.1.1-20180720/Hanja.csv\n",
            "mecab-ko-dic-2.1.1-20180720/MAJ.csv\n",
            "mecab-ko-dic-2.1.1-20180720/XSA.csv\n",
            "mecab-ko-dic-2.1.1-20180720/Wikipedia.csv\n",
            "mecab-ko-dic-2.1.1-20180720/tools/\n",
            "mecab-ko-dic-2.1.1-20180720/tools/add-userdic.sh\n",
            "mecab-ko-dic-2.1.1-20180720/tools/mecab-bestn.sh\n",
            "mecab-ko-dic-2.1.1-20180720/tools/convert_for_using_store.sh\n",
            "mecab-ko-dic-2.1.1-20180720/user-dic/\n",
            "mecab-ko-dic-2.1.1-20180720/user-dic/nnp.csv\n",
            "mecab-ko-dic-2.1.1-20180720/user-dic/place.csv\n",
            "mecab-ko-dic-2.1.1-20180720/user-dic/person.csv\n",
            "mecab-ko-dic-2.1.1-20180720/user-dic/README.md\n",
            "mecab-ko-dic-2.1.1-20180720/NorthKorea.csv\n",
            "mecab-ko-dic-2.1.1-20180720/VX.csv\n",
            "mecab-ko-dic-2.1.1-20180720/right-id.def\n",
            "mecab-ko-dic-2.1.1-20180720/VA.csv\n",
            "mecab-ko-dic-2.1.1-20180720/char.def\n",
            "mecab-ko-dic-2.1.1-20180720/NEWS\n",
            "mecab-ko-dic-2.1.1-20180720/MM.csv\n",
            "mecab-ko-dic-2.1.1-20180720/ETN.csv\n",
            "mecab-ko-dic-2.1.1-20180720/AUTHORS\n",
            "mecab-ko-dic-2.1.1-20180720/Person.csv\n",
            "mecab-ko-dic-2.1.1-20180720/XR.csv\n",
            "mecab-ko-dic-2.1.1-20180720/VCN.csv\n",
            "Looking in current directory for macros.\n",
            "configure.ac:2: warning: AM_INIT_AUTOMAKE: two- and three-arguments forms are deprecated.\n",
            "./lib/autoconf/general.m4:2434: AC_DIAGNOSE is expanded from...\n",
            "aclocal.m4:139: AM_INIT_AUTOMAKE is expanded from...\n",
            "configure.ac:2: the top level\n",
            "configure.ac:56: warning: AC_OUTPUT should be used without arguments.\n",
            "configure.ac:56: You should run autoupdate.\n",
            "configure.ac:2: warning: AM_INIT_AUTOMAKE: two- and three-arguments forms are deprecated.  For more info, see:\n",
            "configure.ac:2: https://www.gnu.org/software/automake/manual/automake.html#Modernize-AM_005fINIT_005fAUTOMAKE-invocation\n",
            "checking for a BSD-compatible install... /usr/bin/install -c\n",
            "checking whether build environment is sane... yes\n",
            "/tmp/mecab-ko-dic-2.1.1-20180720/missing: Unknown `--is-lightweight' option\n",
            "Try `/tmp/mecab-ko-dic-2.1.1-20180720/missing --help' for more information\n",
            "configure: WARNING: 'missing' script is too old or missing\n",
            "checking for a race-free mkdir -p... /usr/bin/mkdir -p\n",
            "checking for gawk... no\n",
            "checking for mawk... mawk\n",
            "checking whether make sets $(MAKE)... yes\n",
            "checking whether make supports nested variables... yes\n",
            "checking for mecab-config... /usr/local/bin/mecab-config\n",
            "checking that generated files are newer than configure... done\n",
            "configure: creating ./config.status\n",
            "config.status: creating Makefile\n",
            "/usr/local/lib\n",
            "/sbin/ldconfig.real: /usr/local/lib/libtbbmalloc.so.2 is not a symbolic link\n",
            "\n",
            "/sbin/ldconfig.real: /usr/local/lib/libtbb.so.12 is not a symbolic link\n",
            "\n",
            "/sbin/ldconfig.real: /usr/local/lib/libtbbbind.so.3 is not a symbolic link\n",
            "\n",
            "/sbin/ldconfig.real: /usr/local/lib/libtbbmalloc_proxy.so.2 is not a symbolic link\n",
            "\n",
            "/sbin/ldconfig.real: /usr/local/lib/libtbbbind_2_5.so.3 is not a symbolic link\n",
            "\n",
            "/sbin/ldconfig.real: /usr/local/lib/libtbbbind_2_0.so.3 is not a symbolic link\n",
            "\n",
            "/usr/local/libexec/mecab/mecab-dict-index -d . -o . -f UTF-8 -t UTF-8\n",
            "reading ./unk.def ... 13\n",
            "emitting double-array: 100% |###########################################| \n",
            "reading ./VA.csv ... 2360\n",
            "reading ./VV.csv ... 7331\n",
            "reading ./Symbol.csv ... 16\n",
            "reading ./Foreign.csv ... 11690\n",
            "reading ./VCP.csv ... 9\n",
            "reading ./VCN.csv ... 7\n",
            "reading ./Place.csv ... 30303\n",
            "reading ./EC.csv ... 2547\n",
            "reading ./MM.csv ... 453\n",
            "reading ./MAJ.csv ... 240\n",
            "reading ./ETM.csv ... 133\n",
            "reading ./NorthKorea.csv ... 3\n",
            "reading ./MAG.csv ... 14242\n",
            "reading ./Place-station.csv ... 1145\n",
            "reading ./Group.csv ... 3176\n",
            "reading ./Hanja.csv ... 125750\n",
            "reading ./Place-address.csv ... 19301\n",
            "reading ./XSA.csv ... 19\n",
            "reading ./XR.csv ... 3637\n",
            "reading ./NNB.csv ... 140\n",
            "reading ./ETN.csv ... 14\n",
            "reading ./XSV.csv ... 23\n",
            "reading ./Person.csv ... 196459\n",
            "reading ./NNP.csv ... 2371\n",
            "reading ./XPN.csv ... 83\n",
            "reading ./Person-actor.csv ... 99230\n",
            "reading ./Inflect.csv ... 44820\n",
            "reading ./NR.csv ... 482\n",
            "reading ./EP.csv ... 51\n",
            "reading ./VX.csv ... 125\n",
            "reading ./CoinedWord.csv ... 148\n",
            "reading ./Preanalysis.csv ... 5\n",
            "reading ./Wikipedia.csv ... 36762\n",
            "reading ./NP.csv ... 342\n",
            "reading ./NNBC.csv ... 677\n",
            "reading ./XSN.csv ... 124\n",
            "reading ./EF.csv ... 1820\n",
            "reading ./IC.csv ... 1305\n",
            "reading ./J.csv ... 416\n",
            "reading ./NNG.csv ... 208524\n",
            "emitting double-array: 100% |###########################################| \n",
            "reading ./matrix.def ... 3822x2693\n",
            "emitting matrix      : 100% |###########################################| \n",
            "\n",
            "done!\n",
            "echo To enable dictionary, rewrite /usr/local/etc/mecabrc as \\\"dicdir = /usr/local/lib/mecab/dic/mecab-ko-dic\\\"\n",
            "To enable dictionary, rewrite /usr/local/etc/mecabrc as \"dicdir = /usr/local/lib/mecab/dic/mecab-ko-dic\"\n",
            "make[1]: Entering directory '/tmp/mecab-ko-dic-2.1.1-20180720'\n",
            "make[1]: Nothing to be done for 'install-exec-am'.\n",
            " /usr/bin/mkdir -p '/usr/local/lib/mecab/dic/mecab-ko-dic'\n",
            " /usr/bin/install -c -m 644 model.bin matrix.bin char.bin sys.dic unk.dic left-id.def right-id.def rewrite.def pos-id.def dicrc '/usr/local/lib/mecab/dic/mecab-ko-dic'\n",
            "make[1]: Leaving directory '/tmp/mecab-ko-dic-2.1.1-20180720'\n",
            "mecab-python is already installed\n",
            "Done.\n"
          ]
        }
      ]
    },
    {
      "cell_type": "code",
      "source": [
        "import pandas as pd\n",
        "from konlpy.tag import Mecab\n",
        "from gensim.models.doc2vec import TaggedDocument\n",
        "from tqdm import tqdm"
      ],
      "metadata": {
        "id": "sEcxf1nPFzIR"
      },
      "execution_count": 3,
      "outputs": []
    },
    {
      "cell_type": "code",
      "source": [
        "import pandas as pd\n",
        "from konlpy.tag import Mecab\n",
        "from gensim.models.doc2vec import TaggedDocument\n",
        "from tqdm import tqdm\n",
        "\n",
        "df = pd.read_csv('/content/dart.csv', sep=',')\n",
        "df = df.dropna()\n",
        "df"
      ],
      "metadata": {
        "colab": {
          "base_uri": "https://localhost:8080/",
          "height": 458
        },
        "id": "iEpOSW-qBMyc",
        "outputId": "9f52b420-380d-4398-92bb-cefa7272507d"
      },
      "execution_count": 4,
      "outputs": [
        {
          "output_type": "execute_result",
          "data": {
            "text/plain": [
              "        code  market    name  \\\n",
              "0     000020   KOSPI    동화약품   \n",
              "1     000040   KOSPI   KR모터스   \n",
              "2     000050   KOSPI      경방   \n",
              "3     000060   KOSPI   메리츠화재   \n",
              "4     000070   KOSPI   삼양홀딩스   \n",
              "...      ...     ...     ...   \n",
              "2582  950130  KOSDAQ  엑세스바이오   \n",
              "2583  950140  KOSDAQ   잉글우드랩   \n",
              "2584  950160  KOSDAQ  코오롱티슈진   \n",
              "2585  950170  KOSDAQ     JTC   \n",
              "2586  950180  KOSDAQ     SNK   \n",
              "\n",
              "                                               business  \n",
              "0     II. 사업의 내용\\n1. 사업의 개요\\n가. 일반적인 사항\\n기업회계기준서 제11...  \n",
              "1     II. 사업의 내용\\n1. 사업의 개요\\n가. 업계의 현황\\n수출주력시장인 유럽 불...  \n",
              "2     II. 사업의 내용\\n1. 사업의 개요\\n(1) 산업의 특성\\n[섬유사업부문]\\n면...  \n",
              "3     II. 사업의 내용\\n1. 사업의 개요\\n가. 산업의 특성, 성장성, 경기변동의 특...  \n",
              "4     II. 사업의 내용\\n1. 사업의 개요\\n가. 업계의 현황\\n지주회사(持株會社, H...  \n",
              "...                                                 ...  \n",
              "2582  II. 사업의 내용\\n1. 사업의 개\\n요\\n당사는 체외진단 기술을 토대로 말라리아...  \n",
              "2583  II. 사업의 내용\\n1. 사업의 개요\\n가. 화장품 ODM산업 개요\\nODM은 O...  \n",
              "2584  II. 사업의 내용\\n당사는 1999년 6월 9일 세포 유전자 기술 Platform...  \n",
              "2585  II. 사업의 내용\\n1. 사업의 개요\\n가. 업계의 현황\\n(1) 산업의 특성\\n...  \n",
              "2586  II. 사업의 내용\\n1. 사업의 개요\\n당사는 연결실체 기준으로 모바일, 콘솔, ...  \n",
              "\n",
              "[2295 rows x 4 columns]"
            ],
            "text/html": [
              "\n",
              "  <div id=\"df-5b348c96-a0aa-45a8-bfeb-cedf68b567c2\" class=\"colab-df-container\">\n",
              "    <div>\n",
              "<style scoped>\n",
              "    .dataframe tbody tr th:only-of-type {\n",
              "        vertical-align: middle;\n",
              "    }\n",
              "\n",
              "    .dataframe tbody tr th {\n",
              "        vertical-align: top;\n",
              "    }\n",
              "\n",
              "    .dataframe thead th {\n",
              "        text-align: right;\n",
              "    }\n",
              "</style>\n",
              "<table border=\"1\" class=\"dataframe\">\n",
              "  <thead>\n",
              "    <tr style=\"text-align: right;\">\n",
              "      <th></th>\n",
              "      <th>code</th>\n",
              "      <th>market</th>\n",
              "      <th>name</th>\n",
              "      <th>business</th>\n",
              "    </tr>\n",
              "  </thead>\n",
              "  <tbody>\n",
              "    <tr>\n",
              "      <th>0</th>\n",
              "      <td>000020</td>\n",
              "      <td>KOSPI</td>\n",
              "      <td>동화약품</td>\n",
              "      <td>II. 사업의 내용\\n1. 사업의 개요\\n가. 일반적인 사항\\n기업회계기준서 제11...</td>\n",
              "    </tr>\n",
              "    <tr>\n",
              "      <th>1</th>\n",
              "      <td>000040</td>\n",
              "      <td>KOSPI</td>\n",
              "      <td>KR모터스</td>\n",
              "      <td>II. 사업의 내용\\n1. 사업의 개요\\n가. 업계의 현황\\n수출주력시장인 유럽 불...</td>\n",
              "    </tr>\n",
              "    <tr>\n",
              "      <th>2</th>\n",
              "      <td>000050</td>\n",
              "      <td>KOSPI</td>\n",
              "      <td>경방</td>\n",
              "      <td>II. 사업의 내용\\n1. 사업의 개요\\n(1) 산업의 특성\\n[섬유사업부문]\\n면...</td>\n",
              "    </tr>\n",
              "    <tr>\n",
              "      <th>3</th>\n",
              "      <td>000060</td>\n",
              "      <td>KOSPI</td>\n",
              "      <td>메리츠화재</td>\n",
              "      <td>II. 사업의 내용\\n1. 사업의 개요\\n가. 산업의 특성, 성장성, 경기변동의 특...</td>\n",
              "    </tr>\n",
              "    <tr>\n",
              "      <th>4</th>\n",
              "      <td>000070</td>\n",
              "      <td>KOSPI</td>\n",
              "      <td>삼양홀딩스</td>\n",
              "      <td>II. 사업의 내용\\n1. 사업의 개요\\n가. 업계의 현황\\n지주회사(持株會社, H...</td>\n",
              "    </tr>\n",
              "    <tr>\n",
              "      <th>...</th>\n",
              "      <td>...</td>\n",
              "      <td>...</td>\n",
              "      <td>...</td>\n",
              "      <td>...</td>\n",
              "    </tr>\n",
              "    <tr>\n",
              "      <th>2582</th>\n",
              "      <td>950130</td>\n",
              "      <td>KOSDAQ</td>\n",
              "      <td>엑세스바이오</td>\n",
              "      <td>II. 사업의 내용\\n1. 사업의 개\\n요\\n당사는 체외진단 기술을 토대로 말라리아...</td>\n",
              "    </tr>\n",
              "    <tr>\n",
              "      <th>2583</th>\n",
              "      <td>950140</td>\n",
              "      <td>KOSDAQ</td>\n",
              "      <td>잉글우드랩</td>\n",
              "      <td>II. 사업의 내용\\n1. 사업의 개요\\n가. 화장품 ODM산업 개요\\nODM은 O...</td>\n",
              "    </tr>\n",
              "    <tr>\n",
              "      <th>2584</th>\n",
              "      <td>950160</td>\n",
              "      <td>KOSDAQ</td>\n",
              "      <td>코오롱티슈진</td>\n",
              "      <td>II. 사업의 내용\\n당사는 1999년 6월 9일 세포 유전자 기술 Platform...</td>\n",
              "    </tr>\n",
              "    <tr>\n",
              "      <th>2585</th>\n",
              "      <td>950170</td>\n",
              "      <td>KOSDAQ</td>\n",
              "      <td>JTC</td>\n",
              "      <td>II. 사업의 내용\\n1. 사업의 개요\\n가. 업계의 현황\\n(1) 산업의 특성\\n...</td>\n",
              "    </tr>\n",
              "    <tr>\n",
              "      <th>2586</th>\n",
              "      <td>950180</td>\n",
              "      <td>KOSDAQ</td>\n",
              "      <td>SNK</td>\n",
              "      <td>II. 사업의 내용\\n1. 사업의 개요\\n당사는 연결실체 기준으로 모바일, 콘솔, ...</td>\n",
              "    </tr>\n",
              "  </tbody>\n",
              "</table>\n",
              "<p>2295 rows × 4 columns</p>\n",
              "</div>\n",
              "    <div class=\"colab-df-buttons\">\n",
              "\n",
              "  <div class=\"colab-df-container\">\n",
              "    <button class=\"colab-df-convert\" onclick=\"convertToInteractive('df-5b348c96-a0aa-45a8-bfeb-cedf68b567c2')\"\n",
              "            title=\"Convert this dataframe to an interactive table.\"\n",
              "            style=\"display:none;\">\n",
              "\n",
              "  <svg xmlns=\"http://www.w3.org/2000/svg\" height=\"24px\" viewBox=\"0 -960 960 960\">\n",
              "    <path d=\"M120-120v-720h720v720H120Zm60-500h600v-160H180v160Zm220 220h160v-160H400v160Zm0 220h160v-160H400v160ZM180-400h160v-160H180v160Zm440 0h160v-160H620v160ZM180-180h160v-160H180v160Zm440 0h160v-160H620v160Z\"/>\n",
              "  </svg>\n",
              "    </button>\n",
              "\n",
              "  <style>\n",
              "    .colab-df-container {\n",
              "      display:flex;\n",
              "      gap: 12px;\n",
              "    }\n",
              "\n",
              "    .colab-df-convert {\n",
              "      background-color: #E8F0FE;\n",
              "      border: none;\n",
              "      border-radius: 50%;\n",
              "      cursor: pointer;\n",
              "      display: none;\n",
              "      fill: #1967D2;\n",
              "      height: 32px;\n",
              "      padding: 0 0 0 0;\n",
              "      width: 32px;\n",
              "    }\n",
              "\n",
              "    .colab-df-convert:hover {\n",
              "      background-color: #E2EBFA;\n",
              "      box-shadow: 0px 1px 2px rgba(60, 64, 67, 0.3), 0px 1px 3px 1px rgba(60, 64, 67, 0.15);\n",
              "      fill: #174EA6;\n",
              "    }\n",
              "\n",
              "    .colab-df-buttons div {\n",
              "      margin-bottom: 4px;\n",
              "    }\n",
              "\n",
              "    [theme=dark] .colab-df-convert {\n",
              "      background-color: #3B4455;\n",
              "      fill: #D2E3FC;\n",
              "    }\n",
              "\n",
              "    [theme=dark] .colab-df-convert:hover {\n",
              "      background-color: #434B5C;\n",
              "      box-shadow: 0px 1px 3px 1px rgba(0, 0, 0, 0.15);\n",
              "      filter: drop-shadow(0px 1px 2px rgba(0, 0, 0, 0.3));\n",
              "      fill: #FFFFFF;\n",
              "    }\n",
              "  </style>\n",
              "\n",
              "    <script>\n",
              "      const buttonEl =\n",
              "        document.querySelector('#df-5b348c96-a0aa-45a8-bfeb-cedf68b567c2 button.colab-df-convert');\n",
              "      buttonEl.style.display =\n",
              "        google.colab.kernel.accessAllowed ? 'block' : 'none';\n",
              "\n",
              "      async function convertToInteractive(key) {\n",
              "        const element = document.querySelector('#df-5b348c96-a0aa-45a8-bfeb-cedf68b567c2');\n",
              "        const dataTable =\n",
              "          await google.colab.kernel.invokeFunction('convertToInteractive',\n",
              "                                                    [key], {});\n",
              "        if (!dataTable) return;\n",
              "\n",
              "        const docLinkHtml = 'Like what you see? Visit the ' +\n",
              "          '<a target=\"_blank\" href=https://colab.research.google.com/notebooks/data_table.ipynb>data table notebook</a>'\n",
              "          + ' to learn more about interactive tables.';\n",
              "        element.innerHTML = '';\n",
              "        dataTable['output_type'] = 'display_data';\n",
              "        await google.colab.output.renderOutput(dataTable, element);\n",
              "        const docLink = document.createElement('div');\n",
              "        docLink.innerHTML = docLinkHtml;\n",
              "        element.appendChild(docLink);\n",
              "      }\n",
              "    </script>\n",
              "  </div>\n",
              "\n",
              "\n",
              "<div id=\"df-02d70dbd-06eb-476b-82cc-e34356d1d3b0\">\n",
              "  <button class=\"colab-df-quickchart\" onclick=\"quickchart('df-02d70dbd-06eb-476b-82cc-e34356d1d3b0')\"\n",
              "            title=\"Suggest charts\"\n",
              "            style=\"display:none;\">\n",
              "\n",
              "<svg xmlns=\"http://www.w3.org/2000/svg\" height=\"24px\"viewBox=\"0 0 24 24\"\n",
              "     width=\"24px\">\n",
              "    <g>\n",
              "        <path d=\"M19 3H5c-1.1 0-2 .9-2 2v14c0 1.1.9 2 2 2h14c1.1 0 2-.9 2-2V5c0-1.1-.9-2-2-2zM9 17H7v-7h2v7zm4 0h-2V7h2v10zm4 0h-2v-4h2v4z\"/>\n",
              "    </g>\n",
              "</svg>\n",
              "  </button>\n",
              "\n",
              "<style>\n",
              "  .colab-df-quickchart {\n",
              "      --bg-color: #E8F0FE;\n",
              "      --fill-color: #1967D2;\n",
              "      --hover-bg-color: #E2EBFA;\n",
              "      --hover-fill-color: #174EA6;\n",
              "      --disabled-fill-color: #AAA;\n",
              "      --disabled-bg-color: #DDD;\n",
              "  }\n",
              "\n",
              "  [theme=dark] .colab-df-quickchart {\n",
              "      --bg-color: #3B4455;\n",
              "      --fill-color: #D2E3FC;\n",
              "      --hover-bg-color: #434B5C;\n",
              "      --hover-fill-color: #FFFFFF;\n",
              "      --disabled-bg-color: #3B4455;\n",
              "      --disabled-fill-color: #666;\n",
              "  }\n",
              "\n",
              "  .colab-df-quickchart {\n",
              "    background-color: var(--bg-color);\n",
              "    border: none;\n",
              "    border-radius: 50%;\n",
              "    cursor: pointer;\n",
              "    display: none;\n",
              "    fill: var(--fill-color);\n",
              "    height: 32px;\n",
              "    padding: 0;\n",
              "    width: 32px;\n",
              "  }\n",
              "\n",
              "  .colab-df-quickchart:hover {\n",
              "    background-color: var(--hover-bg-color);\n",
              "    box-shadow: 0 1px 2px rgba(60, 64, 67, 0.3), 0 1px 3px 1px rgba(60, 64, 67, 0.15);\n",
              "    fill: var(--button-hover-fill-color);\n",
              "  }\n",
              "\n",
              "  .colab-df-quickchart-complete:disabled,\n",
              "  .colab-df-quickchart-complete:disabled:hover {\n",
              "    background-color: var(--disabled-bg-color);\n",
              "    fill: var(--disabled-fill-color);\n",
              "    box-shadow: none;\n",
              "  }\n",
              "\n",
              "  .colab-df-spinner {\n",
              "    border: 2px solid var(--fill-color);\n",
              "    border-color: transparent;\n",
              "    border-bottom-color: var(--fill-color);\n",
              "    animation:\n",
              "      spin 1s steps(1) infinite;\n",
              "  }\n",
              "\n",
              "  @keyframes spin {\n",
              "    0% {\n",
              "      border-color: transparent;\n",
              "      border-bottom-color: var(--fill-color);\n",
              "      border-left-color: var(--fill-color);\n",
              "    }\n",
              "    20% {\n",
              "      border-color: transparent;\n",
              "      border-left-color: var(--fill-color);\n",
              "      border-top-color: var(--fill-color);\n",
              "    }\n",
              "    30% {\n",
              "      border-color: transparent;\n",
              "      border-left-color: var(--fill-color);\n",
              "      border-top-color: var(--fill-color);\n",
              "      border-right-color: var(--fill-color);\n",
              "    }\n",
              "    40% {\n",
              "      border-color: transparent;\n",
              "      border-right-color: var(--fill-color);\n",
              "      border-top-color: var(--fill-color);\n",
              "    }\n",
              "    60% {\n",
              "      border-color: transparent;\n",
              "      border-right-color: var(--fill-color);\n",
              "    }\n",
              "    80% {\n",
              "      border-color: transparent;\n",
              "      border-right-color: var(--fill-color);\n",
              "      border-bottom-color: var(--fill-color);\n",
              "    }\n",
              "    90% {\n",
              "      border-color: transparent;\n",
              "      border-bottom-color: var(--fill-color);\n",
              "    }\n",
              "  }\n",
              "</style>\n",
              "\n",
              "  <script>\n",
              "    async function quickchart(key) {\n",
              "      const quickchartButtonEl =\n",
              "        document.querySelector('#' + key + ' button');\n",
              "      quickchartButtonEl.disabled = true;  // To prevent multiple clicks.\n",
              "      quickchartButtonEl.classList.add('colab-df-spinner');\n",
              "      try {\n",
              "        const charts = await google.colab.kernel.invokeFunction(\n",
              "            'suggestCharts', [key], {});\n",
              "      } catch (error) {\n",
              "        console.error('Error during call to suggestCharts:', error);\n",
              "      }\n",
              "      quickchartButtonEl.classList.remove('colab-df-spinner');\n",
              "      quickchartButtonEl.classList.add('colab-df-quickchart-complete');\n",
              "    }\n",
              "    (() => {\n",
              "      let quickchartButtonEl =\n",
              "        document.querySelector('#df-02d70dbd-06eb-476b-82cc-e34356d1d3b0 button');\n",
              "      quickchartButtonEl.style.display =\n",
              "        google.colab.kernel.accessAllowed ? 'block' : 'none';\n",
              "    })();\n",
              "  </script>\n",
              "</div>\n",
              "\n",
              "  <div id=\"id_631266e2-24b1-4f90-8556-5f70d5576877\">\n",
              "    <style>\n",
              "      .colab-df-generate {\n",
              "        background-color: #E8F0FE;\n",
              "        border: none;\n",
              "        border-radius: 50%;\n",
              "        cursor: pointer;\n",
              "        display: none;\n",
              "        fill: #1967D2;\n",
              "        height: 32px;\n",
              "        padding: 0 0 0 0;\n",
              "        width: 32px;\n",
              "      }\n",
              "\n",
              "      .colab-df-generate:hover {\n",
              "        background-color: #E2EBFA;\n",
              "        box-shadow: 0px 1px 2px rgba(60, 64, 67, 0.3), 0px 1px 3px 1px rgba(60, 64, 67, 0.15);\n",
              "        fill: #174EA6;\n",
              "      }\n",
              "\n",
              "      [theme=dark] .colab-df-generate {\n",
              "        background-color: #3B4455;\n",
              "        fill: #D2E3FC;\n",
              "      }\n",
              "\n",
              "      [theme=dark] .colab-df-generate:hover {\n",
              "        background-color: #434B5C;\n",
              "        box-shadow: 0px 1px 3px 1px rgba(0, 0, 0, 0.15);\n",
              "        filter: drop-shadow(0px 1px 2px rgba(0, 0, 0, 0.3));\n",
              "        fill: #FFFFFF;\n",
              "      }\n",
              "    </style>\n",
              "    <button class=\"colab-df-generate\" onclick=\"generateWithVariable('df')\"\n",
              "            title=\"Generate code using this dataframe.\"\n",
              "            style=\"display:none;\">\n",
              "\n",
              "  <svg xmlns=\"http://www.w3.org/2000/svg\" height=\"24px\"viewBox=\"0 0 24 24\"\n",
              "       width=\"24px\">\n",
              "    <path d=\"M7,19H8.4L18.45,9,17,7.55,7,17.6ZM5,21V16.75L18.45,3.32a2,2,0,0,1,2.83,0l1.4,1.43a1.91,1.91,0,0,1,.58,1.4,1.91,1.91,0,0,1-.58,1.4L9.25,21ZM18.45,9,17,7.55Zm-12,3A5.31,5.31,0,0,0,4.9,8.1,5.31,5.31,0,0,0,1,6.5,5.31,5.31,0,0,0,4.9,4.9,5.31,5.31,0,0,0,6.5,1,5.31,5.31,0,0,0,8.1,4.9,5.31,5.31,0,0,0,12,6.5,5.46,5.46,0,0,0,6.5,12Z\"/>\n",
              "  </svg>\n",
              "    </button>\n",
              "    <script>\n",
              "      (() => {\n",
              "      const buttonEl =\n",
              "        document.querySelector('#id_631266e2-24b1-4f90-8556-5f70d5576877 button.colab-df-generate');\n",
              "      buttonEl.style.display =\n",
              "        google.colab.kernel.accessAllowed ? 'block' : 'none';\n",
              "\n",
              "      buttonEl.onclick = () => {\n",
              "        google.colab.notebook.generateWithVariable('df');\n",
              "      }\n",
              "      })();\n",
              "    </script>\n",
              "  </div>\n",
              "\n",
              "    </div>\n",
              "  </div>\n"
            ],
            "application/vnd.google.colaboratory.intrinsic+json": {
              "type": "dataframe",
              "variable_name": "df",
              "summary": "{\n  \"name\": \"df\",\n  \"rows\": 2295,\n  \"fields\": [\n    {\n      \"column\": \"code\",\n      \"properties\": {\n        \"dtype\": \"string\",\n        \"num_unique_values\": 2295,\n        \"samples\": [\n          \"011790\",\n          \"084010\",\n          \"004710\"\n        ],\n        \"semantic_type\": \"\",\n        \"description\": \"\"\n      }\n    },\n    {\n      \"column\": \"market\",\n      \"properties\": {\n        \"dtype\": \"category\",\n        \"num_unique_values\": 3,\n        \"samples\": [\n          \"KOSPI\",\n          \"KOSDAQ\",\n          \"KONEX\"\n        ],\n        \"semantic_type\": \"\",\n        \"description\": \"\"\n      }\n    },\n    {\n      \"column\": \"name\",\n      \"properties\": {\n        \"dtype\": \"string\",\n        \"num_unique_values\": 2295,\n        \"samples\": [\n          \"SKC\",\n          \"\\ub300\\ud55c\\uc81c\\uac15\",\n          \"\\ud55c\\uc194\\ud14c\\ud06c\\ub2c9\\uc2a4\"\n        ],\n        \"semantic_type\": \"\",\n        \"description\": \"\"\n      }\n    },\n    {\n      \"column\": \"business\",\n      \"properties\": {\n        \"dtype\": \"string\",\n        \"num_unique_values\": 2295,\n        \"samples\": [\n          \"II. \\uc0ac\\uc5c5\\uc758 \\ub0b4\\uc6a9\\n1. \\uc0ac\\uc5c5\\uc758 \\uac1c\\uc694\\n\\ub2f9\\uc0ac\\ub294 \\uc218\\uc775\\uc744 \\ucc3d\\ucd9c\\ud558\\ub294 \\uc7ac\\ud654\\uc640 \\uc6a9\\uc5ed\\uc758 \\uc131\\uaca9, \\uc81c\\ud488 \\ubc0f \\uc81c\\uc870\\uacf5\\uc815\\uc758 \\ud2b9\\uc9d5, \\uc2dc\\uc7a5\\uc758 \\ud2b9\\uc9d5\\n\\ub4f1\\uc744 \\uace0\\ub824\\ud558\\uc5ec \\uacbd\\uc601\\uc758 \\ub2e4\\uac01\\ud654 \\uc2e4\\ud0dc\\ub97c \\uc801\\uc808\\ud788 \\ubc18\\uc601\\ud560 \\uc218 \\uc788\\ub3c4\\ub85d \\ud654\\ud559\\uc0ac\\uc5c5, Industry\\n\\uc18c\\uc7ac\\uc0ac\\uc5c5(\\u820a \\ud544\\ub984\\uc0ac\\uc5c5), \\uc804\\uc790\\uc7ac\\ub8cc\\uc0ac\\uc5c5, BHC\\uc0ac\\uc5c5, \\uae30\\ud0c0\\ub85c \\ub098\\ub204\\uc5b4 \\uc0ac\\uc5c5\\ubcf4\\uace0\\uc11c\\ub97c\\n\\uae30\\uc7ac\\ud558\\uc600\\uc2b5\\ub2c8\\ub2e4. \\ub2f9\\uc0ac \\ubc0f \\uc885\\uc18d\\ud68c\\uc0ac\\uc758 \\uc0ac\\uc5c5\\ubd80\\ubb38\\ubcc4 \\ud604\\ud669\\uc744 \\uc694\\uc57d\\ud558\\uba74 \\uc544\\ub798\\uc640 \\uac19\\uc2b5\\ub2c8\\ub2e4.\\n\\uad6c\\ubd84\\n\\ud68c\\uc0ac\\n\\uc8fc\\uc694 \\uc7ac\\ud654 \\ubc0f \\uc6a9\\uc5ed\\n\\uc0ac\\uc5c5\\ub0b4\\uc6a9\\n\\ud654\\ud559\\uc0ac\\uc5c5\\nSKC\\nPO, POD \\ub4f1\\nPO, POD \\ub4f1\\uc758\\n\\uc81c\\uc870 \\ubc0f \\ud310\\ub9e4\\nIndustry\\uc18c\\uc7ac\\uc0ac\\uc5c5\\n(\\u820a \\ud544\\ub984\\uc0ac\\uc5c5)\\nSKC\\nSKC\\ud558\\uc774\\ud14c\\ud06c\\uc564\\ub9c8\\ucf00\\ud305(\\uc8fc)\\nSKC Hi-Tech&Marketing (Suzhou) Co., Ltd.\\nSKC Hi-Tech&Marketing Taiwan Co., Ltd.\\nSKC Hi-Tech&Marketing Polska Sp. z o.o.\\nSKC Hi-Tech&Marketing USA LLC\\nSKC Inc.\\nSKC\\uc5d0\\ucf54\\uc194\\ub8e8\\uc158\\uc988\\u321c ((\\u820a) SKW)\\nSKC (Jiangsu) High Tech Plastics Co., Ltd.\\nSKC Europe GmbH\\nPET \\ud544\\ub984 \\ub4f1\\nPET \\ud544\\ub984 \\ub4f1\\uc758\\n\\uc81c\\uc870 \\ubc0f \\ud310\\ub9e4\\n\\uc804\\uc790\\uc7ac\\ub8cc\\uc0ac\\uc5c5\\nSKC\\nSK\\ud154\\ub808\\uc2dc\\uc2a4\\nTechdream Co., Ltd.\\nSE(\\uac15\\uc18c)\\uc804\\uc790\\uc7ac\\ub8cc(\\uc720)\\nSKC\\uc194\\ubbf9\\uc2a4\\nSKC\\uc194\\ubbf9\\uc2a4 Taiwan\\nSKC\\uc194\\ubbf9\\uc2a4 Shanghai\\nSOLMICS HONGKONG CO., LTD.\\nSKC-ENF Electronic Materials Ltd.\\nSKC (Nantong) Semiconductor Materials Technology Co., Ltd.\\n\\ubc18\\ub3c4\\uccb4\\n\\ubd80\\ud488\\uc18c\\uc7ac \\ub4f1\\n\\ubc18\\ub3c4\\uccb4 \\ubd80\\ud488\\uc18c\\uc7ac \\ub4f1\\uc758\\n\\uc81c\\uc870 \\ubc0f \\ud310\\ub9e4,\\nBHC\\uc0ac\\uc5c5\\nSK\\ubc14\\uc774\\uc624\\ub79c\\ub4dc\\nBIOLAND BIOTEC CO.,LTD\\nBIOLAND HAIMEN CO.LTD\\n\\ud654\\uc7a5\\ud488 \\uc6d0\\ub8cc \\ub4f1\\n\\ud654\\uc7a5\\ud488 \\uc6d0\\ub8cc \\ub4f1\\uc758\\n\\uc81c\\uc870 \\ubc0f \\ud310\\ub9e4\\n\\uae30\\ud0c0\\nSK\\ud154\\ub808\\uc2dc\\uc2a4\\nSKC\\uc778\\ud504\\ub77c\\uc11c\\ube44\\uc2a4(\\uc8fc)\\nSKC PU Specialty Co., Ltd.\\nSKC (Nantong) PU Specialty Co., Ltd.\\n\\uc6b0\\ub9ac\\ud654\\uc778\\ucf10(\\uc8fc)\\n\\uc911\\uacc4\\uae30 \\ub4f1\\n\\uc911\\uacc4\\uae30 \\ub4f1\\uc758\\n\\ud310\\ub9e4\\n\\uac00\\n. \\uc0ac\\uc5c5\\ubd80\\ubb38\\ubcc4 \\ud604\\ud669\\n\\u25a0 \\ud654\\ud559\\uc0ac\\uc5c5\\n(1) \\uc0b0\\uc5c5\\uc758 \\ud2b9\\uc131\\n\\uc138\\uacc4\\uc801\\uc73c\\ub85c PO(Propylene Oxide)\\ub294 \\ud3f4\\ub9ac\\uc6b0\\ub808\\ud0c4\\uc758 \\uc6d0\\ub8cc\\uc778 PPG(Polypropylene\\nGlycol, Polyol)\\uc5d0 \\uc57d 60% \\uac00\\ub7c9\\uc774 \\uc18c\\ube44\\ub418\\uace0 \\ub2e4\\uc74c\\uc73c\\ub85c PG(Propylene Glycol)\\uac00 \\uc804\\uccb4\\n\\uc218\\uc694\\uc758 20%\\ub97c \\ucc28\\uc9c0\\ud558\\uba70 \\ub098\\uba38\\uc9c0\\ub294 PGE(Propylene Glycol Ether), \\uacc4\\uba74\\ud65c\\uc131\\uc81c,\\n\\ub09c\\uc5f0\\uc7ac \\ub4f1\\uc758 \\uc81c\\uc870\\uc5d0 \\uc0ac\\uc6a9\\ub429\\ub2c8\\ub2e4. PO\\uc758 \\uc8fc\\uc694 \\uc81c\\ubc95\\uc73c\\ub85c\\ub294 Chlorohydrin Process\\uc640\\nPeroxidation Process \\ub4f1\\uc774 \\uc788\\uc2b5\\ub2c8\\ub2e4.\\n\\uad6d\\ub0b4 \\uc2dc\\uc7a5\\uc740 PO\\uc758 \\uacbd\\uc6b0 \\uc218\\uc785\\uc5d0 \\uc758\\uc874\\ud558\\uc600\\uc73c\\ub098, 1991\\ub144 SKC\\uac00 \\uad6d\\ub0b4 \\ucd5c\\ucd08\\ub85c\\n\\uc0dd\\uc0b0\\uc124\\ube44\\ub97c \\uac16\\ucd94\\uba74\\uc11c \\ub0b4\\uc218 \\uc0dd\\uc0b0\\uae30\\ubc18\\uc774 \\ud655\\ubcf4\\ub418\\uc5c8\\uc2b5\\ub2c8\\ub2e4.\\n(2) \\uc0b0\\uc5c5\\uc758 \\uc131\\uc7a5\\uc131\\n\\uc138\\uacc4 PO \\uc2dc\\uc7a5\\uc740 1990\\ub144\\ub300 \\uc774\\ud6c4 \\uc5f0\\ud3c9\\uade0 4~5%\\uc758 \\uafb8\\uc900\\ud55c \\uc131\\uc7a5\\uc138\\uac00 \\uc9c0\\uc18d\\ub418\\uace0\\n\\uc788\\uc2b5\\ub2c8\\ub2e4. \\ud604\\uc7ac \\uc138\\uacc4 \\uc218\\uc694\\uc758 \\uc57d 80%\\uac00 \\ubbf8\\uad6d, \\uc11c\\uc720\\ub7fd, \\uc77c\\ubcf8 \\ub4f1\\uc5d0 \\uc9d1\\uc911\\ub418\\uc5b4 \\uc788\\uc73c\\uba70,\\n\\uc911\\uad6d\\uc744 \\uc911\\uc2ec\\uc73c\\ub85c \\ud55c \\uc544\\uc2dc\\uc544 \\uc9c0\\uc5ed\\uc758 \\uc218\\uc694\\uac00 \\uc99d\\uac00\\ud558\\ub294 \\ucd94\\uc138\\uc785\\ub2c8\\ub2e4.\\n(3) \\uacbd\\uae30\\ubcc0\\ub3d9\\uc758 \\ud2b9\\uc131\\nPO \\uc0ac\\uc6a9\\ub7c9\\uc758 60%\\ub97c \\ucc28\\uc9c0\\ud558\\ub294 PPG\\uc758 \\ucd5c\\uc885 \\uc218\\uc694\\ucc98\\uc778 \\uc790\\ub3d9\\ucc28, \\uc870\\uc120, \\uac74\\uc124 \\ub4f1 \\uc8fc\\uc694\\n\\uc0b0\\uc5c5\\uc758 \\uacbd\\uae30 \\ubcc0\\ub3d9\\uc5d0 \\uc601\\ud5a5\\uc744 \\ubc1b\\uc2b5\\ub2c8\\ub2e4.\\n(4) \\uacbd\\uc7c1\\uc694\\uc18c\\n\\uc138\\uacc4 \\uc2dc\\uc7a5\\uc5d0\\uc11c PO \\uc0dd\\uc0b0\\uae30\\uc220\\uc744 \\ubcf4\\uc720\\ud55c \\uc5c5\\uccb4\\uac00 \\ub9ce\\uc9c0 \\uc54a\\uc73c\\uba70 \\uc2e0\\uaddc \\uae30\\uc220\\uac1c\\ubc1c \\uc5ed\\uc2dc\\u00a0 PO\\n\\uc0dd\\uc0b0\\uc5c5\\uccb4 \\uc704\\uc8fc\\ub85c \\uc774\\ub8e8\\uc5b4\\uc838 \\uacfc\\uc810\\uc2dc\\uc7a5 \\ud615\\ud0dc\\ub97c \\ub744\\uace0 \\uc788\\uc73c\\uba70, \\ub300\\ub2e8\\uc704 \\ud22c\\uc790\\ube44\\uac00\\u00a0 \\ud544\\uc694\\ud558\\uc5ec\\n\\uc2e0\\uaddc \\uc2dc\\uc7a5 \\uc9c4\\uc785\\uc774 \\uc6a9\\uc774\\ud558\\uc9c0 \\uc54a\\uc2b5\\ub2c8\\ub2e4. PG\\uc758 \\uacbd\\uc6b0 \\uad6d\\uc81c\\uaddc\\uaca9\\uc744 \\ub9cc\\uc871\\ud560 \\uacbd\\uc6b0 \\ud488\\uc9c8\\uc5d0\\n\\ub530\\ub978 \\ubcc4\\ub3c4\\uc758 \\uacbd\\uc7c1\\uc694\\uc778\\uc740 \\uc874\\uc7ac\\ud558\\uc9c0 \\uc54a\\uc73c\\ub098, PPG\\uc758 \\uacbd\\uc6b0 \\ubb3c\\uc131 \\ub4f1 \\ub2e4\\uc591\\ud55c \\ud488\\uc9c8 \\ud2b9\\uc131\\uc5d0\\n\\ub530\\ub77c \\uacbd\\uc7c1\\uc774 \\uc774\\ub8e8\\uc5b4\\uc9c0\\uace0 \\uc788\\uc2b5\\ub2c8\\ub2e4. \\ub2f9\\uc0ac\\ub294 \\uad6d\\ub0b4 \\uc720\\uc77c PO \\uc0dd\\uc0b0\\uc790 \\uc5ed\\ud560\\uc744\\n\\uc218\\ud589\\ud574\\uc654\\uc73c\\ub098, \\ucd5c\\uadfc \\uad6d\\ub0b4 \\uacbd\\uc7c1\\uc0ac\\uac00 \\uc9c4\\uc785\\ud55c \\uc0c1\\ud669 \\uc785\\ub2c8\\ub2e4.\\n(5) \\ud604\\ud669 \\ubc0f \\uc804\\ub9dd\\n\\ud654\\ud559\\uc0ac\\uc5c5\\ubd80\\ubb38\\uc740 \\ub2e4\\ub144\\uac04 \\ucd95\\uc801\\ub41c \\uc6b4\\uc804 Know-how\\uc640 \\uc6d0\\uac00 \\uacbd\\uc7c1\\ub825\\uc744 \\ubc14\\ud0d5\\uc73c\\ub85c\\n\\ud3f4\\ub9ac\\uc6b0\\ub808\\ud0c4(PU) \\uc0b0\\uc5c5\\uc758 \\uae30\\ucd08\\uc6d0\\ub8cc\\uc778 \\ud504\\ub85c\\ud544\\ub80c\\uc625\\uc0ac\\uc774\\ub4dc(PO), \\ud504\\ub85c\\ud544\\ub80c\\uae00\\ub9ac\\ucf5c(PG)\\n\\ub4f1\\uc744 \\uc0dd\\uc0b0\\ud558\\uc5ec \\uad6d\\ub0b4\\uc678 \\uad00\\ub828\\uc0b0\\uc5c5\\uc5d0 \\uc548\\uc815\\uc801\\uc73c\\ub85c \\uacf5\\uae09\\ud568\\uc73c\\ub85c\\uc368 \\uad6d\\ub0b4 PU\\uc0b0\\uc5c5\\uc758 \\ub4e0\\ub4e0\\ud55c\\n\\ucd08\\uc11d \\uc5ed\\ud560\\uc744 \\uc131\\uc2e4\\ud788 \\uc218\\ud589\\ud558\\uace0 \\uc788\\uc2b5\\ub2c8\\ub2e4.\\nPO, PG \\uc81c\\ud488\\uc5d0 \\uc788\\uc5b4\\uc11c\\ub294 \\uc2dc\\uc7a5\\uc810\\uc720\\uc728 70%\\ub97c \\ucc28\\uc9c0\\ud558\\ub294 \\uc0dd\\uc0b0\\uc5c5\\uccb4\\ub85c\\uc11c, \\uc9c0\\uc18d\\uc801\\uc778 \\uc2dc\\uc124\\n\\ud655\\ucda9 \\ubc0f \\ud574\\uc678\\uc2dc\\uc7a5 \\uac1c\\ubc1c\\uc744 \\ud1b5\\ud574 PO \\uc5f0\\uad00 \\uc81c\\ud488\\uc758 \\uad6d\\ub0b4 \\uc218\\uc694\\ub97c \\ucda9\\uc871\\uc2dc\\ud0b4\\uc740 \\ubb3c\\ub860 \\uc138\\uacc4\\n60\\uc5ec \\uac1c\\uad6d\\uc5d0 \\uc218\\ucd9c\\ud558\\uace0 \\uc788\\uc2b5\\ub2c8\\ub2e4\\n2015\\ub144\\uc5d0\\ub294 \\uc77c\\ubcf8 \\ubbf8\\uc4f0\\uc774\\ud654\\ud559\\uacfc \\ud55c\\uc77c \\ud569\\uc791\\ubc95\\uc778(MCNS)\\uc744 \\uc124\\ub9bd\\ud558\\uc5ec \\ud3f4\\ub9ac\\uc6b0\\ub808\\ud0c4\\n\\uc0ac\\uc5c5\\uc758 \\uc548\\uc815\\uc801 \\uc131\\uc7a5\\uae30\\ubc18\\uc744 \\ud655\\ubcf4\\ud558\\uc600\\uc73c\\uba70, 2016\\ub144\\uc5d0\\ub294 \\uc2e0\\uaddc System House\\ub97c\\n\\uac00\\ub3d9\\ud558\\ub294 \\ub4f1 Global \\uc0ac\\uc5c5 \\ud655\\ub300\\ub97c \\uac00\\uc18d\\ud654\\ud558\\uace0 \\uc788\\uc2b5\\ub2c8\\ub2e4.\\n\\ub2f9\\uc0ac\\uc758 \\ud654\\ud559\\uc0ac\\uc5c5\\uc740 \\uace0\\uac1d \\uc694\\uad6c\\uc5d0 \\ub9de\\ucd98 \\ub2e4\\uc591\\ud55c \\uc2e0\\uc81c\\ud488 \\uac1c\\ubc1c \\ubc0f \\uae30\\uc220 \\uc9c0\\uc6d0\\uc744 \\ud1b5\\ud558\\uc5ec\\n\\uace0\\uac1d \\ub9cc\\uc871\\uc744 \\uc2e4\\ud604\\ud574\\uac00\\uace0 \\uc788\\uc73c\\uba70, \\uace0\\ubd80\\uac00 \\uc81c\\ud488 \\ud310\\ub9e4 \\uac15\\ud654\\ub85c \\uc218\\uc775\\uc131\\uc744 \\uc81c\\uace0\\ud558\\uace0\\nWorld Best \\ud654\\ud559\\uacf5\\uc7a5 \\uc2e4\\ud604\\uc744 \\ubaa9\\ud45c\\ub85c \\uc9c0\\uc18d\\uc801\\uc778 \\uc6d0\\uac00 \\uc808\\uac10\\uc744 \\ucd94\\uc9c4\\ud558\\uace0 \\uc788\\uc2b5\\ub2c8\\ub2e4.\\n\\ub610\\ud55c \\uc120\\uc81c\\uc801 \\ud658\\uacbd \\ud22c\\uc790\\ub97c \\ud1b5\\ud574 \\uac15\\ud654\\ub418\\ub294 \\ud658\\uacbd \\uaddc\\uc81c\\uc5d0 \\ub300\\ube44\\ud558\\ub294 \\ud55c\\ud3b8 \\uc801\\uadf9\\uc801\\uc778\\n\\uc0ac\\ud68c \\uacf5\\ud5cc\\ud65c\\ub3d9\\uc744 \\uc804\\uac1c\\ud568\\uc73c\\ub85c\\uc368 \\uc0ac\\ud68c\\uc801 \\ucc45\\uc784\\uc744 \\ub2e4\\ud558\\ub294 \\uce5c\\ud658\\uacbd \\uae30\\uc5c5\\uc73c\\ub85c\\uc11c \\uc5ed\\ud560\\uc744\\n\\uc131\\uc2e4\\ud788 \\uc218\\ud589\\ud558\\uace0 \\uc788\\uc2b5\\ub2c8\\ub2e4.\\n2017\\ub144\\uc5d0\\ub294 \\uc720\\uac00 \\ubc0f \\uc6d0\\uc7ac\\ub8cc \\uac00\\uaca9 \\uac15\\uc138\\ub85c \\uc778\\ud55c \\uc6d0\\uac00 \\ubd80\\ub2f4 \\uac00\\uc911\\uacfc \\uacbd\\uc7c1\\uc2ec\\ud654 \\ub4f1\\n\\uc6b0\\ud638\\uc801\\uc774\\uc9c0 \\uc54a\\uc740 \\uc0ac\\uc5c5\\ud658\\uacbd\\uc774 \\uc9c0\\uc18d\\ub418\\uc5c8\\uc2b5\\ub2c8\\ub2e4. \\uadf8\\ub7ec\\ub098 \\ud558\\ubc18\\uae30 \\uc9c0\\uc5ed\\ubcc4 \\uc218\\uae09,\\n\\uac00\\uaca9\\ubcc0\\ub3d9 \\ub4f1 \\ud658\\uacbd \\ubcc0\\ud654\\ub97c \\uc120\\uc81c\\uc801\\uc73c\\ub85c \\ud30c\\uc545\\ud558\\uc5ec \\ud310\\ub9e4\\ubb3c\\ub7c9 \\ud655\\ub300, Location Mix \\ucd5c\\uc801\\ud654,\\uc801\\uae30 \\uac00\\uaca9 \\uc778\\uc0c1\\ucd94\\uc9c4 \\ub4f1\\uc73c\\ub85c \\uc218\\uc775\\uc131 \\uadf9\\ub300\\ud654\\ub97c \\ucd94\\uc9c4\\ud558\\uc600\\uc2b5\\ub2c8\\ub2e4.\\n\\ub610\\ud55c \\uace0\\ubd80\\uac00 PG \\ud310\\ub9e4 \\uc5ed\\ub7c9 \\ud655\\ub300, \\uc0dd\\uc0b0\\ub2a5\\ub825 \\ud655\\ucda9\\uc744 \\ud1b5\\ud574 \\ud654\\ud559\\uc0ac\\uc5c5\\uc758 \\uc591\\uc801/\\uc9c8\\uc801 \\uc131\\uc7a5\\n\\uae30\\ubc18\\uc744 \\uac15\\ud654\\ud558\\uc600\\uc2b5\\ub2c8\\ub2e4. Global Top-Tier \\uc218\\uc900\\uc758 \\uc6d0\\uac00 \\uacbd\\uc7c1\\ub825 \\ud655\\ubcf4\\ub97c \\uc704\\ud574 \\uc9c0\\uc18d\\uc801\\uc778\\n\\uc544\\uc774\\ub514\\uc5b4 \\ubc1c\\uad74/\\uc2e4\\ud589\\uc744 \\ud1b5\\ud574 \\uc81c\\uc870\\uc6d0\\uac00 \\uacbd\\uc7c1\\ub825\\uc744 \\uac15\\ud654\\ud558\\uace0, \\uc8fc\\uc694 \\uace0\\uac1d\\uc0ac\\uc640 \\uc911\\uc7a5\\uae30\\n\\ud611\\ub825 \\uad00\\uacc4 \\uad6c\\ucd95\\uc744 \\ud1b5\\ud574 \\uc2dc\\uc7a5 \\ud658\\uacbd \\ubcc0\\ud654\\uc5d0 \\uc120\\uc81c\\uc801\\uc73c\\ub85c \\ub300\\ube44\\ud558\\uc5ec \\uc0ac\\uc5c5\\uc758 \\uc548\\uc815\\uc801 \\uc218\\uc775\\n\\uae30\\ubc18\\uc744 \\uac15\\ud654\\ud558\\uc600\\uc2b5\\ub2c8\\ub2e4. \\uc2e0\\uaddc \\uc2a4\\ud398\\uc15c\\ud2f0 \\uc0ac\\uc5c5 \\ud655\\ub300\\ub97c \\uc704\\ud574 \\uc911\\uad6d \\ub0b4 \\uc0dd\\uc0b0 \\uac70\\uc810 \\ud655\\ubcf4\\ub3c4\\n\\uacb0\\uc815\\ud588\\uc2b5\\ub2c8\\ub2e4.\\n2018\\ub144\\uc5d0\\ub294 \\uacf5\\uc720 \\uc778\\ud504\\ub77c\\ub97c \\uae30\\ubc18\\uc73c\\ub85c \\ud55c \\uae00\\ub85c\\ubc8c \\ud655\\uc7a5\\uc744 \\ud1b5\\ud574 Business Model \\ud601\\uc2e0\\uc744\\n\\uac00\\uc18d\\ud654\\ud558\\uace0, \\uadfc\\uc6d0\\uc801 \\uacbd\\uc7c1\\ub825 \\uac15\\ud654\\ub97c \\ud1b5\\ud55c \\uac00\\uce58 \\ud601\\uc2e0\\uc744 \\ucd94\\uc9c4\\ud558\\uc5ec Value Chain \\uacbd\\uc7c1\\ub825\\n\\uac15\\ud654, \\uace0\\uc218\\uc775\\uc131 \\uccb4\\uc9c8\\ud654, \\uc2e0\\uc131\\uc7a5 \\ub3d9\\ub825 \\ud655\\ubcf4 \\ub4f1 \\ubcf8\\uc6d0\\uc801 \\uc0ac\\uc5c5 \\uacbd\\uc7c1\\ub825\\uc744 \\ud55c \\ub2e8\\uacc4 \\ub192\\uc740\\n\\uc218\\uc900\\uc73c\\ub85c \\ud5a5\\uc0c1\\uc2dc\\ud0ac \\uac83\\uc785\\ub2c8\\ub2e4. \\ub610\\ud55c, \\uc2a4\\ud398\\uc15c\\ud2f0 \\uc0ac\\uc5c5\\uc740 \\uc911\\uad6d \\ud604\\uc9c0 \\uc0dd\\uc0b0\\uacf5\\uc7a5 \\uc870\\uae30 \\uac74\\uc124\\n\\ubc0f \\uc120\\uc81c\\uc801 \\uc218\\uc8fc\\ubb3c\\ub7c9 \\ud655\\ubcf4\\ub97c \\ud1b5\\ud574 \\uc548\\uc815 \\uac00\\ub3d9 \\uae30\\ubc18\\uc744 \\ud655\\ubcf4 \\ud560 \\uacc4\\ud68d\\uc785\\ub2c8\\ub2e4.\\n(5) \\uad00\\ub828\\ubc95\\ub839 \\ub610\\ub294 \\uc815\\ubd80\\uc758 \\uaddc\\uc81c \\ub4f1\\n\\uc6b0\\ub9ac\\ub098\\ub77c\\ub294 2015\\ub144\\ubd80\\ud130 \\uc628\\uc2e4\\uac00\\uc2a4 \\ubc30\\ucd9c\\uad8c \\uac70\\ub798\\uc81c\\ub97c \\uc2dc\\ud589\\ud558\\uc600\\uace0, \\ub2f9\\uc0ac\\ub294 \\uc628\\uc2e4\\uac00\\uc2a4\\n\\ubc30\\ucd9c\\uad8c \\uac70\\ub798\\uc81c \\uc801\\uc6a9 \\uae30\\uc5c5\\uc73c\\ub85c \\uc801\\uadf9\\uc801\\uc778 \\uc628\\uc2e4\\uac00\\uc2a4 \\uac10\\ucd95 \\ud65c\\ub3d9\\uc744 \\uc2dc\\ud589\\ud558\\uace0 \\uc788\\uc2b5\\ub2c8\\ub2e4.\\n\\u25a0 Industry\\uc18c\\uc7ac\\uc0ac\\uc5c5 (\\u820a \\ud544\\ub984\\uc0ac\\uc5c5)\\n(1) \\uc0b0\\uc5c5\\uc758 \\ud2b9\\uc131\\nPET\\ud544\\ub984 \\uc2dc\\uc7a5\\uc740 \\uad00\\ub828 \\uc0b0\\uc5c5\\uc758 \\uc131\\uc7a5 \\ubc0f \\uc0dd\\ud65c\\uc218\\uc900 \\ud5a5\\uc0c1\\uc5d0 \\ud798\\uc785\\uc5b4 \\uadf8\\ub3d9\\uc548 \\uc804\\uc138\\uacc4\\uc801\\uc73c\\ub85c\\n\\uc5f0\\uac04 \\uc57d 6~7% \\uc131\\uc7a5\\uc744 \\uc9c0\\uc18d\\ud574 \\uc654\\uace0, \\uc0b0\\uc5c5\\uc7ac\\ub85c\\uc11c\\uc758 \\ud2b9\\uc131\\uc0c1 \\ube44\\uad50\\uc801 \\uc548\\uc815\\ub41c \\uafb8\\uc900\\ud55c\\n\\uc131\\uc7a5\\uc138\\ub97c \\uc720\\uc9c0\\ud558\\uace0 \\uc788\\uc2b5\\ub2c8\\ub2e4.\\n\\uc804\\ud1b5\\uc801 PET Film \\uc6a9\\ub3c4\\uc778 \\ud3ec\\uc7a5\\uc6a9, Display \\uc2dc\\uc7a5\\uc740 \\ubb3c\\ub860\\uc774\\uace0 \\uce5c\\ud658\\uacbd \\uc81c\\ud488\\uc778 \\uc5f4\\uc218\\ucd95\\n\\uc81c\\ud488\\uc744 \\uac1c\\ubc1c\\ud558\\uc5ec \\uc2dc\\uc7a5\\uc744 \\ud655\\ub300\\ud574 \\ub098\\uac00\\uace0 \\uc788\\uc73c\\uba70, \\ud2b9\\ud788 \\ubbf8\\ub798\\ub97c \\uc704\\ud574 \\ub9ce\\uc740 \\ud22c\\uc790\\ub97c\\n\\ud558\\uace0 \\uc788\\uc2b5\\ub2c8\\ub2e4.\\n(2) \\uacbd\\uae30\\ubcc0\\ub3d9\\uc758 \\ud2b9\\uc131\\n\\uacbd\\uae30\\ubcc0\\ub3d9\\ubcf4\\ub2e4 \\uacbd\\uc81c\\uc218\\uc900 \\ubc0f \\uad00\\ub828 \\uc0b0\\uc5c5\\uc758 \\ubc1c\\uc804 \\uc815\\ub3c4\\uc5d0 \\ub530\\ub978 \\uc601\\ud5a5\\uc774 \\ud07d\\ub2c8\\ub2e4.\\n(3) \\uacbd\\uc7c1\\uc694\\uc18c\\n\\uc77c\\ubcf8\\uacc4 \\uc5c5\\uccb4\\ub4e4\\uc774 Major group\\uc744 \\ud615\\uc131\\ud558\\uace0 \\uc788\\uace0, \\uadf8 \\ub4a4\\ub97c \\uc774\\uc5b4 \\ud55c\\uad6d\\uc5c5\\uccb4\\uac00 \\uacbd\\uc7c1\\ud558\\uace0\\n\\uc788\\uc73c\\uba70, \\uc778\\ub3c4 \\ubc0f \\uc911\\uad6d\\uc758 \\ub2e4\\uc218 \\ud6c4\\ubc1c\\uc5c5\\uccb4\\ub4e4\\uc774 \\uc2dc\\uc7a5\\uc5d0 \\ucc38\\uc5ec \\ud558\\uace0 \\uc788\\uc2b5\\ub2c8\\ub2e4. \\uc911\\uac04\\uc7ac\\ub85c\\n\\uc0ac\\uc6a9\\ub418\\ub294 \\uc0b0\\uc5c5\\uc7ac\\uc758 \\ud2b9\\uc131\\uc0c1 \\uad00\\ub828 \\uc0b0\\uc5c5\\uc758 \\uc694\\uad6c \\ubc0f \\ud2b9\\uc131\\uc5d0 \\ub9de\\ub294 \\ud544\\ub984\\uc744 \\uacf5\\uae09 \\ud574\\uc57c \\ud558\\uba70\\n\\uc774\\ub97c \\ucda9\\uc871\\uc2dc\\ucf1c\\uc904 \\uc218 \\uc788\\ub294 \\uae30\\uc220 \\ubc0f \\ud488\\uc9c8\\uc774 \\uc808\\ub300\\uc801\\uc73c\\ub85c \\uc911\\uc694\\ud55c \\uc694\\uc18c\\uc785\\ub2c8\\ub2e4.\\n\\ud2b9\\ud788, \\uace0\\ubd80\\uac00 \\uc0b0\\uc5c5\\uc6a9\\uc73c\\ub85c \\uc0ac\\uc6a9\\ub418\\ub294 \\uad11\\ud559\\uc6a9 \\ud544\\ub984\\uc758 \\uacbd\\uc6b0\\ub294 \\uc774\\ub7ec\\ud55c \\uc694\\uc18c\\uac00 \\ub354\\uc6b1\\n\\uc911\\uc694\\ud569\\ub2c8\\ub2e4. \\ub2e4\\ub9cc, \\uc77c\\ubc18 \\ud3ec\\uc7a5/\\uc0b0\\uc5c5\\uc6a9 \\ubd84\\uc57c\\uc5d0\\uc11c \\ubc94\\uc6a9\\ud488\\uc758 \\uacbd\\uc6b0\\ub294 \\uac00\\uaca9 \\ubc0f \\uc11c\\ube44\\uc2a4\\uc640\\n\\uac19\\uc740 \\ud488\\uc9c8 \\uc774\\uc678\\uc758 \\uc694\\uc18c\\uac00 \\uacf5\\uae09\\uc5ec\\ubd80\\ub97c \\uacb0\\uc815\\ud558\\ub294 \\uc911\\uc694\\ud55c \\uc694\\uc18c\\uc758 \\ud558\\ub098\\ub85c \\uac04\\uc8fc\\ub418\\uace0\\n\\uc788\\uc2b5\\ub2c8\\ub2e4.\\n\\ub2f9\\uc0ac\\uc758 \\ud544\\ub984\\uc0ac\\uc5c5\\uc740 \\ucd5c\\uadfc \\uba87 \\ub144\\uac04 \\uc0dd\\uc0b0\\uc124\\ube44 \\uaddc\\ubaa8\\uae30\\uc900\\uc73c\\ub85c \\uc138\\uacc4 4\\uc704\\ub97c \\uae30\\ub85d\\ud558\\uace0\\n\\uc788\\uc2b5\\ub2c8\\ub2e4. \\uc81c\\ud488\\uc758 \\uc2dc\\uc7a5\\uc810\\uc720\\uc728\\uc5d0 \\ub300\\ud574\\uc11c\\ub294 \\uc815\\ud655\\ud55c \\ud1b5\\uacc4 \\uc218\\uce58\\uc640 \\uc8fc\\uc694 \\uacbd\\uc7c1\\uc0ac\\ubcc4\\n\\uc2dc\\uc7a5\\uc810\\uc720\\uc728 \\ucd94\\uc774 \\ucd94\\uc815\\uc758 \\uac1d\\uad00\\uc131 \\ubc0f \\uc815\\ud655\\uc131\\uc774 \\uacb0\\uc5ec\\ub418\\uc5b4 \\uc0dd\\ub7b5\\ud558\\uc600\\uc2b5\\ub2c8\\ub2e4.\\n(4) \\ud604\\ud669 \\ubc0f \\uc804\\ub9dd\\nSKC\\uc758 Industry\\uc18c\\uc7ac\\uc0ac\\uc5c5\\uc740 \\uad6d\\ub0b4 \\ucd5c\\ucd08\\uc758 PET Film \\uc0dd\\uc0b0 \\ud68c\\uc0ac\\ub85c\\uc11c\\uc758 \\uae30\\uc220\\uc801 \\uc6b0\\uc704\\ub97c\\n\\ubc14\\ud0d5\\uc73c\\ub85c \\uc9c0\\uae08\\uae4c\\uc9c0 \\uc9c0\\uc18d\\uc801\\uc778 \\uc5f0\\uad6c\\uac1c\\ubc1c\\uacfc \\uc2e0\\uaddc \\uc6a9\\ub3c4 \\uac1c\\ubc1c\\ub85c PET Film \\uc2dc\\uc7a5\\uc744\\n\\ub9ac\\ub4dc\\ud574\\uc624\\uace0 \\uc788\\uc2b5\\ub2c8\\ub2e4. \\ud2b9\\ud788 \\ubbf8\\ub798\\ub97c \\uc704\\ud574 PVB JV, \\ud22c\\uba85PI\\ud544\\ub984 \\ub4f1\\uc744 \\ucd94\\uc9c4\\ud558\\uace0\\n\\uc788\\uc2b5\\ub2c8\\ub2e4.\\n2017\\ub144\\ucd08 PET \\uc81c\\ud488 \\ud310\\ub9e4\\ub2e8\\uac00 \\uc778\\uc0c1\\uacfc \\uace0\\ubd80\\uac00 Specialty \\uc81c\\ud488\\uad70\\uc758 \\ud310\\ub9e4 \\ud655\\ub300 \\uae30\\ubc18\\n\\uc218\\ub9bd\\uc744 \\ud1b5\\ud574 \\uc601\\uc5c5\\uc774\\uc775 \\ud751\\uc790 \\uc804\\ud658\\uc744 \\ub2ec\\uc131\\ud558\\uc600\\uc2b5\\ub2c8\\ub2e4. \\ud558\\uc9c0\\ub9cc, 2017\\ub144 4\\ubd84\\uae30\\ubd80\\ud130\\n\\uc9c0\\uc18d\\uc801\\uc778 \\uc6d0\\uc7ac\\ub8cc\\uac00(TPA, EG) \\uc0c1\\uc2b9\\uc73c\\ub85c \\uc778\\ud574 \\uc601\\uc5c5 Margin \\ucd95\\uc18c\\uac00 \\uac00\\uc911\\ub418\\uace0 \\uc788\\ub294\\n\\uc0c1\\ud669\\uc73c\\ub85c, \\uc774\\ub97c \\uac1c\\uc120\\ud558\\uae30 \\uc704\\ud55c \\ucd94\\uac00 \\ud310\\ub9e4\\ub2e8\\uac00 \\uc778\\uc0c1\\uacfc SKC ht&m\\uacfc\\uc758 \\ud1b5\\ud569\\nValue Up\\uc744 \\ud1b5\\ud558\\uc5ec \\uc548\\uc815\\uc801 \\uc131\\uacfc\\ucc3d\\ucd9c\\uc744 \\uc774\\ub8e8\\uc5b4 \\ub0b4\\ub3c4\\ub85d \\ucd94\\uc9c4\\ud558\\uace0 \\uc788\\uc2b5\\ub2c8\\ub2e4.\\n\\ub610\\ud55c, PVB, \\ud22c\\uba85PI\\ud544\\ub984 \\ub4f1 \\uc2e0\\uaddc \\uc18c\\uc7ac \\uc0ac\\uc5c5\\uc744 \\ud1b5\\ud574 \\ubcf8\\uaca9\\uc801\\uc778 Industry\\uc18c\\uc7ac\\uc0ac\\uc5c5\\n\\ubd80\\ubb38\\uc73c\\ub85c\\uc758 \\ud55c \\ub2e8\\uacc4 \\ub3c4\\uc57d\\uc744 \\uc900\\ube44\\ud558\\uace0 \\uc788\\uc2b5\\ub2c8\\ub2e4. \\uae30\\uc874 \\uc81c\\ud488\\uad70\\ub3c4 \\uc190\\uc775 \\uac1c\\uc120\\uc744 \\uc704\\ud55c\\n\\uad6c\\uc870\\uc801 \\ubcc0\\ud601\\uc744 \\uc9c0\\uc18d \\ucd94\\uc9c4\\ud558\\ub3c4\\ub85d \\ud560 \\uac83\\uc785\\ub2c8\\ub2e4.\\n\\u25a0 \\uc804\\uc790\\uc7ac\\ub8cc\\uc0ac\\uc5c5\\n(\\n\\ubc18\\n\\ub3c4\\n\\uccb4\\uc18c\\ubaa8\\uc131\\uc790\\uc7ac: CMP Pad, CMP Slurry, Wet Chemical, \\ubc18\\ub3c4\\uccb4 \\ud6c4\\uacf5\\uc815 \\ubd80\\ud488 \\ub4f1)\\n(1) \\uc0b0\\uc5c5\\uc758 \\ud2b9\\uc131\\n\\ubc18\\ub3c4\\uccb4 \\uc0b0\\uc5c5\\uc740 \\uc778\\uac04\\uc758 \\ud3b8\\ub9ac\\ud55c \\uc0b6\\uc744 \\uc704\\ud55c \\ub2e4\\uc591\\ud55c \\uc678\\ubd80\\ud658\\uacbd \\uc2e0\\ud638\\ub97c \\ubcc0\\ud658\\u318d\\ucc98\\ub9ac\\ud558\\uba70\\n\\uae30\\uc5b5\\uae30\\ub2a5 \\uc81c\\ud488\\uc744 \\ucc3d\\uc870\\ud558\\uba70 \\uc778\\ub958\\uae30\\uc220 \\ubc1c\\uc804\\uc744 \\uc120\\ub3c4\\ud558\\ub294 \\uc0b0\\uc5c5\\uc73c\\ub85c \\uc815\\ubcf4\\ud1b5\\uc2e0\\uc0b0\\uc5c5,\\n\\uc804\\uae30\\u318d\\uc804\\uc790\\uc0b0\\uc5c5, \\uc790\\ub3d9\\ucc28\\uc0b0\\uc5c5, \\ud56d\\uacf5\\uc6b0\\uc8fc\\uc0b0\\uc5c5, \\ubc14\\uc774\\uc624\\uc0b0\\uc5c5 \\ub4f1 \\ucca8\\ub2e8 \\uc0b0\\uc5c5\\uc5d0 \\uc5c6\\uc5b4\\uc11c\\ub294\\n\\uc548\\ub418\\ub294 \\ud575\\uc2ec \\uc0b0\\uc5c5 \\uc785\\ub2c8\\ub2e4. \\ubc18\\ub3c4\\uccb4 \\uc0b0\\uc5c5\\uc758 \\ucca8\\ub2e8\\uc131, \\uae30\\ub2a5\\uc131\\uc73c\\ub85c \\uc778\\ud574 \\ubbf8\\ub798 \\ucca8\\ub2e8\\n\\uc0b0\\uc5c5\\ubd84\\uc57c\\uc758 \\uae30\\uc220 \\ud5a5\\uc0c1\\uc744 \\uc774\\ub044\\ub294 \\uc911\\uc694\\ud55c \\ub3d9\\ub825\\uc6d0\\uc774 \\ub418\\uace0 \\uc788\\uc73c\\uba70, \\uc804\\ud6c4\\ubc29 \\uc0b0\\uc5c5\\uc758\\n\\uc5f0\\uacc4\\ud6a8\\uacfc\\uac00 \\ub9e4\\uc6b0 \\ucee4\\uc11c \\uc8fc\\uc694 \\uc0b0\\uc5c5\\uc758 \\uc0dd\\uc0b0\\uad6c\\uc870 \\uace0\\ub3c4\\ud654\\ub97c \\uc704\\ud55c \\uae30\\uac04\\uc0b0\\uc5c5\\uc774\\ub77c \\ubd88\\ub9ac\\uace0\\n\\uc788\\uc2b5\\ub2c8\\ub2e4.\\n(2) \\uc0b0\\uc5c5\\uc758 \\uc131\\uc7a5\\uc131\\n\\ubc18\\ub3c4\\uccb4 \\uc0b0\\uc5c5\\uc740 2007\\ub144 \\uc774\\ud6c4 \\uacf5\\uae09 \\uacfc\\uc789\\uc5d0 \\ub530\\ub978 \\ud310\\ub9e4 \\uac00\\uaca9\\uc758 \\uae09\\uaca9\\ud55c \\ud558\\ub77d\\uacfc 2008\\ub144\\n\\ubbf8\\uad6d \\uc2e0\\uc6a9\\uc704\\uae30\\uc5d0 \\ub530\\ub978 \\uc138\\uacc4\\uacbd\\uc81c \\uce68\\uccb4\\uc758 \\uc601\\ud5a5\\uc73c\\ub85c 2009\\ub144\\uae4c\\uc9c0 \\ub2e4\\uc18c \\uc800\\uc870\\ud55c \\uc131\\uc7a5\\uc138\\ub97c\\n\\ubcf4\\uc774\\uae30\\ub3c4 \\ud558\\uc600\\uc2b5\\ub2c8\\ub2e4.\\n2010\\ub144 \\uc774\\ud6c4 \\uc0c8\\ub85c\\uc6b4 IT\\uae30\\uae30\\uc758 \\ub4f1\\uc7a5\\uacfc \\ub514\\uc9c0\\ud138 \\uae30\\uae30\\uc758 \\ubaa8\\ubc14\\uc77c\\ud654, \\uc2a4\\ub9c8\\ud2b8\\ud654\\ub85c DRAM\\n\\uc218\\uc694\\ub294 PC\\uc5d0\\uc11c \\ubaa8\\ubc14\\uc77c \\uc601\\uc5ed\\uc73c\\ub85c, NAND\\uc218\\uc694\\ub294 \\ubaa8\\ubc14\\uc77c\\uc5d0\\uc11c PC\\uc601\\uc5ed\\uc73c\\ub85c \\ud655\\ub300\\ub428\\uc5d0\\n\\ub530\\ub77c \\ud5a5\\ud6c4 \\uc9c0\\uc18d\\uc801\\uc778 \\uc131\\uc7a5\\uc774 \\uae30\\ub300\\ub429\\ub2c8\\ub2e4.\\n(3) \\uacbd\\uae30\\ubcc0\\ub3d9\\uc758 \\ud2b9\\uc131\\n\\ubc18\\ub3c4\\uccb4 \\uc0b0\\uc5c5\\uc740 \\uc7a5\\uae30\\uc801\\uc73c\\ub85c\\ub294 10\\ub144, \\uc9e7\\uac8c\\ub294 4~5\\ub144 \\uc8fc\\uae30\\ub85c \\uc774\\ub978\\ubc14 \\uc2e4\\ub9ac\\ucf58\\uc0ac\\uc774\\ud074\\n\\uc774\\ub77c\\ub294 \\ud2b9\\uc9d5\\uc801 \\uacbd\\uae30\\ubcc0\\ub3d9\\uc744 \\uc9c0\\uc18d\\ud574 \\uc654\\uc73c\\uba70, \\uc8fc\\ub85c \\uba54\\ubaa8\\ub9ac \\uc81c\\ud488\\uc774 \\uacbd\\uae30\\uc758 \\uc0c1\\uc2b9 \\ubc0f\\n\\ud558\\uac15\\uc758 \\uc6d0\\uc778\\uc774 \\ub418\\uc5c8\\uc2b5\\ub2c8\\ub2e4. \\ucd5c\\uadfc \\uc778\\ud130\\ub137\\uacfc \\uc815\\ubcf4\\ud1b5\\uc2e0\\uc5d0 \\uc758\\ud55c \\ub514\\uc9c0\\ud138 \\uc735\\ud569\\ud654\\uc758 \\uc804\\uac1c\\ub85c\\n\\ubc18\\ub3c4\\uccb4 \\uae30\\uc220\\ub3c4 \\uc2dc\\uc2a4\\ud15c \\uc628 \\uce69, \\ubcf5\\ud569 \\uce69 \\ubc0f \\uc784\\ubca0\\ub4dc\\ud654\\uac00 \\ubcf8\\uaca9\\uc801\\uc73c\\ub85c \\ub3c4\\uc785\\ub418\\uace0 \\uc788\\uc73c\\uba70,\\n\\uba54\\ubaa8\\ub9ac\\uc640 \\ube44\\uba54\\ubaa8\\ub9ac\\uc758 \\uc735\\ud569\\ud654, \\uace0\\uc9d1\\uc801\\ud654\\uc640 \\ub3d9\\uc2dc\\uc5d0 \\ucd94\\uad6c\\ud558\\ub294 \\ubcf5\\ud569\\uae30\\uc220, \\uc790\\ub3d9\\ud654\\uae30\\uc220\\uc758\\n\\ub3c4\\uc785 \\ub4f1\\uc73c\\ub85c \\ubc18\\ub3c4\\uccb4 \\uacbd\\uae30\\ubcc0\\ub3d9\\uc758 \\uc0ac\\uc774\\ud074\\uc5d0 \\ub2e4\\uc18c\\uc758 \\ubcc0\\ud654\\ub97c \\uac00\\uc838\\uc624\\uace0 \\uc788\\uc2b5\\ub2c8\\ub2e4.\\n(4) \\uacbd\\uc7c1\\uc694\\uc18c\\n\\ubc18\\ub3c4\\uccb4\\uc0b0\\uc5c5\\uc758 \\uacbd\\uc7c1\\uc694\\uc18c\\ub85c\\ub294 \\uac00\\uaca9, \\ud488\\uc9c8, \\ub9c8\\ucf00\\ud305\\ub2a5\\ub825 \\ub4f1 \\uae30\\ubcf8\\uc801\\uc778 \\uc694\\uc778 \\uc678\\uc5d0\\ub3c4 \\ubc18\\ub3c4\\uccb4\\n\\uc0b0\\uc5c5\\uc758 \\ud2b9\\uc9d5\\uc5d0 \\ub530\\ub978 \\ud0c0\\uc774\\ubc0d(\\uc2e0\\uc81c\\ud488 \\uc120\\ud589 \\uac1c\\ubc1c \\ub2a5\\ub825, \\uc0dd\\uc0b0\\uc758 \\uc120\\uc810) \\ubc0f \\ub300\\uaddc\\ubaa8 \\uc790\\ubcf8\\uc758\\n\\uc77c\\uc2dc\\uc801 \\ud22c\\ud558\\ub825 \\ub4f1\\uc744 \\ub4e4 \\uc218 \\uc788\\uc73c\\uba70, \\uc774\\ub7ec\\ud55c \\uc694\\uc18c\\ub4e4\\uc774 \\uc2e0\\uaddc\\uc5c5\\uccb4\\ub4e4\\uc5d0\\uac8c\\ub294 \\ud070 \\uc9c4\\uc785\\n\\uc7a5\\ubcbd\\uc774 \\ub418\\uae30\\ub3c4 \\ud569\\ub2c8\\ub2e4. \\uc2dc\\uc7a5\\uc758 \\uc218\\uae09\\uc0c1\\ud669\\uc5d0 \\ub530\\ub77c \\uac00\\uaca9 \\ub4f1\\ub77d\\uc774 \\uc2ec\\ud55c \\uacbd\\uae30\\uc21c\\ud658\\uc8fc\\uae30\\n(\\uc2e4\\ub9ac\\ucf58 \\uc2f8\\uc774\\ud074)\\ub97c \\uac00\\uc9c0\\uace0 \\uc788\\uc73c\\uba70, \\uc81c\\ud488\\uc758 \\ub77c\\uc774\\ud504 \\uc0ac\\uc774\\ud074\\uc774 \\uc9e7\\uc544 \\uc801\\uc808\\ud55c \\uc2dc\\uae30\\uc758\\n\\ud22c\\uc790\\uc640 \\uacbd\\uc7c1\\uc790\\ubcf4\\ub2e4 \\uc120\\ud589\\ud558\\ub294 \\uac1c\\ubc1c\\uc744 \\ud1b5\\ud558\\uc5ec \\uc120\\ubc1c\\uc8fc\\uc790\\uac00 \\ub418\\ub294 \\uac83\\uc774 \\ubb34\\uc5c7\\ubcf4\\ub2e4\\n\\uc911\\uc694\\ud558\\ub2e4 \\ud558\\uaca0\\uc2b5\\ub2c8\\ub2e4.\\n\\u25a0 \\uc804\\uc790\\uc7ac\\ub8cc\\uc0ac\\uc5c5\\n(\\ud30c\\uc778\\uc138\\ub77c\\ubbf9: \\uc54c\\ub8e8\\ubbf8\\ub098, Si, SIC, \\ucffc\\uce20 \\ub4f1)\\n(1) \\uc0b0\\uc5c5\\uc758 \\ud2b9\\uc131\\n\\ube44\\uae08\\uc18d\\ubb34\\uae30\\uc7ac\\ub8cc \\uc911 \\ud558\\ub098\\uc778 \\ud30c\\uc778\\uc138\\ub77c\\ubbf9\\uc2a4(Fine Ceramics)\\ub294 2\\ucc28\\uc138\\uacc4\\ub300\\uc804 \\ud6c4\\n\\uae09\\uc9c4\\uc804\\ud55c \\uacf5\\uc5c5\\uc758 \\ubc1c\\ub2ec\\uc5d0 \\ub530\\ub77c \\uc77c\\uc5b4\\ub09c \\uc5ec\\ub7ec \\uac00\\uc9c0 \\uc0c8\\ub85c\\uc6b4 \\ud2b9\\uc131\\uc744 \\uac16\\ub294 \\uc7ac\\ub8cc\\ub85c\\uc368\\n\\uc804\\ud1b5\\uc801 \\uc5c5\\uccb4\\ubcf4\\ub2e4 \\ub6f0\\uc5b4\\ub09c \\ub0b4\\uad6c\\uc131, \\uae30\\uacc4\\uc801\\uc131\\uc9c8, \\ud2b9\\uc218\\ud55c \\uc804\\uae30\\uc801 \\ud2b9\\uc131 \\ubc0f \\ud654\\ud559\\uc801\\n\\ub0b4\\uad6c\\uc131\\uc744 \\uac16\\ub294 \\uc138\\ub77c\\ubbf9\\uc2a4\\ub97c \\ub9d0\\ud558\\uba70 \\uae08\\uc18d\\uc774\\ub098 \\uace0\\ubd84\\uc790\\uc7ac\\ub8cc\\uc5d0 \\ube44\\ud558\\uc5ec \\uc5ec\\ub7ec\\uac00\\uc9c0\\n\\uc6b0\\uc218\\ud55c \\uc131\\uc9c8\\uc744 \\uac00\\uc9c0\\uace0 \\uc788\\ub294\\ub370, \\uc88b\\uc740 \\uae30\\uacc4\\uc801 \\ud2b9\\uc131(\\uac15\\ub3c4, \\uacbd\\ub3c4, \\uc778\\uc131 \\ub4f1), \\ub192\\uc740 \\ub0b4\\uc5f4\\n\\ud2b9\\uc131(\\ub0b4\\ud654\\ub3c4, \\uc808\\uc5f0\\uc131 \\ub4f1), \\ud2b9\\uc774\\ud55c \\uc804\\uc790\\uc801 \\ud2b9\\uc131(\\uc720\\uc804\\uc131, \\uc808\\uc5f0\\uc131, \\ubc18\\ub3c4\\uc131, \\uc555\\uc804\\uc131 \\ub4f1),\\n\\uc790\\uae30\\uc801\\uc131\\uc9c8(\\uac15\\uc790\\uc131, \\ubc18\\uac15\\uc790\\uc131, \\uc0c1\\uc790\\uc131 \\ub4f1), \\uad11\\ud559\\uc801\\ud2b9\\uc131(\\ud22c\\uad11\\uc131, \\ud761\\uad11\\uc131 \\ub4f1), \\ud654\\ud559\\uc801\\n\\ud2b9\\uc131(\\ub0b4\\uc2dd\\uc131, \\uc131\\ubd84 \\ub2e4\\uc591\\uc131 \\ub4f1), \\ub0b4\\ubc29\\uc0ac\\uc131 \\ubc0f \\uc548\\uc815\\uc131 \\ub4f1\\uc744 \\ub4e4 \\uc218 \\uc788\\uc2b5\\ub2c8\\ub2e4.\\n\\ubc18\\uba74 \\uae08\\uc18d\\uc774\\ub098 \\uace0\\ubd84\\uc790\\uc7ac\\ub8cc\\uc5d0 \\ube44\\ud558\\uc5ec \\ucde8\\uc131(brittleness)\\uc744 \\uac16\\uace0 \\uc788\\uc5b4\\uc11c \\uae68\\uc9c0\\uae30 \\uc26c\\uc6b0\\uba70\\n\\ub610\\ud55c \\uc131\\ud615\\uc774 \\uc5b4\\ub824\\uc6b4 \\ub2e8\\uc810\\uc744 \\uac16\\uace0 \\uc788\\uc5b4 \\uc774\\ub4e4\\uc5d0 \\ub300\\ud55c \\uc5f0\\uad6c\\uac00 \\uc9c0\\uc18d\\uc801\\uc73c\\ub85c \\uc694\\uad6c\\ub418\\uace0\\n\\uc788\\uc2b5\\ub2c8\\ub2e4.\\n\\uad6d\\ub0b4 \\ubd80\\ud488\\uc18c\\uc7ac\\uc5c5\\uccb4\\ub4e4\\uc758 \\uc9c0\\uc18d\\uc801\\uc778 \\uc5f0\\uad6c \\uae30\\uc220 \\uac1c\\ubc1c\\uc744 \\ud1b5\\ud55c \\ud22c\\uc790\\ub85c \\uc810\\ucc28 \\uad6d\\uc0b0\\ud654\\n\\uc9c4\\ud589\\uc728\\uc774 \\ub192\\uc544\\uc9c0\\uace0 \\uc788\\uc73c\\uba70 \\ub2f9\\uc0ac\\uc5d0\\uc11c\\ub3c4 \\uc2e4\\ub9ac\\ucf58 \\ub300\\uad6c\\uacbd \\ub2e8\\uacb0\\uc815 \\uc131\\uc7a5 \\ubc0f LCD \\uc81c\\uc870\\n\\uc124\\ube44\\uc6a9 \\ub300\\ud615\\uad6c\\uc870\\uc138\\ub77c\\ubbf9 \\ub4f1 \\uc801\\uadf9\\uc801\\uc778 \\uc5f0\\uad6c\\uac1c\\ubc1c\\uc744 \\uc9c4\\ud589\\ud558\\uace0 \\uc788\\uc2b5\\ub2c8\\ub2e4.\\n\\ub610\\ud55c \\ucd08\\uace0\\uc21c\\ub3c4\\ud654\\ub97c \\ubaa9\\ud45c\\ub85c, \\uc54c\\ub8e8\\ubbf8\\ub098\\uc758 \\uacbd\\uc6b0 99.8%\\uc774\\uc0c1\\uc758 \\uc21c\\ub3c4\\ub85c \\uc0ac\\uc6a9\\ud558\\uace0 \\uc788\\uc73c\\uba70,\\n\\uae30\\ud0c0 \\uace0\\uac00\\uc758 \\uc18c\\uc7ac\\ub85c\\ub9cc \\uc0ac\\uc6a9\\ub418\\uc5c8\\ub358 Y2O3, AlN, SiC\\ub4f1\\ub3c4 \\uc2e0\\uae30\\uc220\\uac1c\\ubc1c \\ubc0f \\ucd08\\uace0\\uc21c\\ub3c4\\ud654\\n\\ub178\\ub825\\uc744 \\ud1b5\\ud574 \\uad6d\\ub0b4 \\uc138\\ub77c\\ubbf9\\uc0b0\\uc5c5 \\ubc1c\\uc804\\uc5d0 \\uc774\\ubc14\\uc9c0 \\ud558\\uace0 \\uc788\\uc2b5\\ub2c8\\ub2e4.\\n(2) \\uc0b0\\uc5c5\\uc758 \\uc131\\uc7a5\\uc131\\n[\\uae00\\ub85c\\ubc8c \\ucca8\\ub2e8 \\uc138\\ub77c\\ubbf9 \\uc2dc\\uc7a5\\uc758 \\uc7ac\\ub8cc\\ubcc4 \\uc2dc\\uc7a5 \\uaddc\\ubaa8 \\ubc0f \\uc804\\ub9dd]\\n\\uc2dc\\uc7a5 \\uaddc\\ubaa8 \\ubc0f \\uc804\\ub9dd\\n\\ucd5c\\uadfc \\uc6e8\\uc774\\ud37c\\uc758 \\ub300\\uad6c\\uacbd\\ud654 \\ubc0f \\ubc18\\ub3c4\\uccb4\\uce69\\uc758 \\uace0\\uc9d1\\uc801\\ud654 \\ub4f1\\uc744 \\ud1b5\\ud55c \\uc800\\uac00\\uaca9\\ud654\\uac00 \\ub450\\ub4dc\\ub7ec\\uc9c0\\uac8c\\n\\ub098\\ud0c0\\ub098\\uace0 \\uc788\\uc73c\\uba70, \\ud2b9\\ud788 \\ub192\\uc740 \\uc218\\uc728 \\ubc0f \\ucd08\\uace0\\uc9d1\\uc801 \\ubc18\\ub3c4\\uccb4 \\uacf5\\uc815\\uc744 \\uac1c\\ubc1c\\ud558\\uae30 \\uc704\\ud55c \\uc2e4\\ub9ac\\ucf58\\n\\uc6e8\\uc774\\ud37c\\uc758 \\ub300\\uad6c\\uacbd\\ud654(450mm) \\ubc0f \\uace0\\uc21c\\ub3c4\\ud654\\uc758 \\uc9c4\\ud589\\uc774 \\uac00\\uc18d\\ub420 \\uac83\\uc73c\\ub85c \\uc608\\uce21\\ub418\\uace0\\n\\uc788\\uc2b5\\ub2c8\\ub2e4. \\uc774\\uc640 \\ub354\\ubd88\\uc5b4 \\ubc18\\ub3c4\\uccb4 \\uacf5\\uc815\\uc5d0 \\uc801\\uc6a9\\ub418\\uace0 \\uc788\\ub294 \\uace0\\uc628\\uc6a9 \\ubd80\\ud488\\ub4e4 \\uc5ed\\uc2dc \\ub300\\uad6c\\uacbd\\ud654/\\n\\ucd08\\uace0\\uc21c\\ub3c4\\ud654\\uc758 \\uc694\\uad6c\\uc218\\uc900\\uc5d0 \\ub9de\\ub3c4\\ub85d \\uadf8 \\uc774\\uc0c1\\uc758 \\uc21c\\ub3c4\\ub97c \\uac16\\ub294 \\ucd08\\uace0\\uc21c\\ub3c4 \\uc81c\\ud488\\ub4e4\\uc744\\n\\uc694\\uad6c\\ud558\\uace0 \\uc788\\uc2b5\\ub2c8\\ub2e4.\\n(3) \\uacbd\\uae30\\ubcc0\\ub3d9\\uc758 \\ud2b9\\uc131\\n\\uae00\\ub85c\\ubc8c \\uacbd\\uae30\\uce68\\uccb4\\uc758 \\uc601\\ud5a5\\uc73c\\ub85c \\ubc18\\ub3c4\\uccb4 \\uc18c\\uc790\\uc5c5\\uccb4\\ub4e4\\uc758 \\uc124\\ube44\\ud22c\\uc790 \\ucd95\\uc18c \\ubc0f \\uc5c5\\uccb4\\uac04 \\uce58\\ud0a8\\n\\uac8c\\uc784 \\ub4f1\\uc73c\\ub85c \\uc2dc\\uc7a5\\ud658\\uacbd\\uc740 \\ub2e4\\uc18c \\uc704\\ucd95\\ub418\\uc5c8\\uc73c\\ub098, \\uc2a4\\ub9c8\\ud2b8\\ud3f0\\uacfc \\ud14c\\ube14\\ub9bfPC, \\uc0ac\\ubb3c\\uc778\\ud130\\ub137\\uc758\\n\\uc218\\uc694 \\uc99d\\uac00\\ub85c \\ud558\\ubc18\\uae30\\ubd80\\ud130 \\ud68c\\ubcf5\\uc138\\ub97c \\ucc3e\\uc544\\uac00\\uace0 \\uc788\\uc2b5\\ub2c8\\ub2e4. \\ubc18\\ub3c4\\uccb4\\u00b7FPD \\uacf5\\uc815\\ud2b9\\uc131\\uc0c1\\n\\ubbf8\\uc138\\uacf5\\uc815\\ud654\\ub97c \\ud1b5\\ud55c \\uace0\\uc9d1\\uc801\\ud654\\u00b7\\uace0\\ud6a8\\uc728\\ud654\\ub97c \\uc2dc\\ud604\\ud568\\uc73c\\ub85c\\uc368 \\uae30\\uc874 \\uc124\\ube44\\ud6a8\\uc728\\uc744 \\ud655\\ub300\\ud558\\uae30\\n\\uc704\\ud55c \\uc9c0\\uc18d\\uc801\\uc778 \\uae30\\uc220\\uac1c\\ubc1c\\uc774 \\uc774\\ub8e8\\uc5b4\\uc9c0\\uace0 \\uc788\\uc2b5\\ub2c8\\ub2e4.\\n\\ubc18\\ub3c4\\uccb4\\u00b7FPD\\uc18c\\uc790\\uc5c5\\uccb4\\ub4e4\\uc758 \\uc124\\ube44 \\uae30\\uc220\\uac1c\\ubc1c \\ubc0f \\uc2e0\\uaddc\\ub77c\\uc778 \\uc99d\\uc124 \\ub4f1\\uc5d0 \\ub530\\ub77c \\uc2dc\\uc7a5\\uc758 \\uaddc\\ubaa8\\n\\uc5ec\\ubd80\\uac00 \\ud615\\uc131\\ub418\\uc5b4\\uc9d0\\uc73c\\ub85c \\uc774\\uc5d0 \\ub300\\ud55c \\uc2dc\\uc7a5\\ud604\\ud669 \\ubcc0\\ub3d9\\uc131 \\uc788\\uc5b4 \\uacf5\\uc2dd\\ud654\\ub41c \\uc2dc\\uc7a5 \\uc815\\ubcf4\\uac00 \\uc544\\uc9c1\\n\\uc5c6\\ub294 \\uc0c1\\ud0dc\\uc785\\ub2c8\\ub2e4.\\n\\ub610\\ud55c \\uc81c\\ud488\\ud2b9\\uc131\\uc0c1 \\uc18c\\ubaa8\\uc131 Parts\\uc774\\uae30 \\ub54c\\ubb38\\uc5d0 \\uc18c\\uc790\\uc5c5\\uccb4\\ub4e4\\ub85c\\ubd80\\ud130\\uc758 \\uc815\\ud655\\ud55c \\uad50\\uccb4\\uc8fc\\uae30\\ub97c\\n\\uc54c \\uc218 \\uc5c6\\uc73c\\uba70, \\uc7a5\\ube44\\ubcc4, \\uacf5\\uc815\\ubcc4 \\uc815\\ubcf4\\ub97c \\ud30c\\uc545\\ud558\\uae30 \\uc5b4\\ub824\\uc6b4 \\uc2e4\\uc815\\uc785\\ub2c8\\ub2e4.\\n\\uad6d\\ub0b4\\u00b7\\uc678 \\ub3d9\\uc885\\uc5c5\\uccb4\\ub4e4\\uacfc \\uac00\\uaca9 \\ucc28\\uc774\\uac00 \\uc874\\uc7ac\\ud558\\uace0, \\uc138\\ubd80\\uc801\\uc73c\\ub85c \\ubc94\\uc704\\ub97c \\uc881\\ud600\\uc11c\\n\\ud30c\\uc545\\ud558\\uae30\\uc5d0\\ub294 \\ub2e4\\uc18c \\uc81c\\uc57d\\uc774 \\ub530\\ub985\\ub2c8\\ub2e4.\\n(4) \\uacbd\\uc7c1\\uc694\\uc18c\\n\\uad6d\\ub0b4 \\ubc18\\ub3c4\\uccb4 \\ubd80\\ud488 \\uae30\\uc220\\uacfc \\uc2dc\\uc7a5\\uc740 \\uc544\\uc9c1 \\uc694\\uad6c\\uc218\\uc900\\uc5d0 \\ubbf8\\uce58\\uc9c0 \\ubabb\\ud558\\ub294 \\ub4f1 \\uad6d\\ub0b4 \\uc6d0\\ucc9c\\uae30\\uc220\\uc758\\n\\ud655\\ubcf4 \\ubc0f \\uad00\\ub828 \\uae30\\uc220\\uac1c\\ubc1c\\uc5d0 \\ub9ce\\uc740 \\uc81c\\uc57d\\uc744 \\ubc1b\\uace0 \\uc788\\ub294 \\uc2e4\\uc815\\uc785\\ub2c8\\ub2e4. \\ud558\\uc9c0\\ub9cc, \\uad6d\\ub0b4 \\ubd80\\ud488\\uc18c\\uc7ac\\n\\uc5c5\\uccb4\\ub4e4\\uc758 \\uc9c0\\uc18d\\uc801\\uc778 \\uc5f0\\uad6c \\uae30\\uc220 \\uac1c\\ubc1c\\uc744 \\ud1b5\\ud55c \\ud22c\\uc790\\ub85c \\uc810\\ucc28 \\uad6d\\uc0b0\\ud654 \\uc9c4\\ud589\\uc728\\uc774 \\ub192\\uc544\\uc9c0\\uace0\\n\\uc788\\uc73c\\uba70 \\ub2f9\\uc0ac\\uc5d0\\uc11c\\ub3c4 \\uc2e4\\ub9ac\\ucf58 \\ub300\\uad6c\\uacbd \\ub2e8\\uacb0\\uc815 \\uc131\\uc7a5 \\ubc0f LCD\\uc81c\\uc870\\uc124\\ube44\\uc6a9 \\ub300\\ud615\\uad6c\\uc870\\uc138\\ub77c\\ubbf9\\n\\ub4f1 \\uc801\\uadf9\\uc801\\uc778 \\uc5f0\\uad6c\\uac1c\\ubc1c\\uc744 \\uc9c4\\ud589\\ud558\\uace0 \\uc788\\uc2b5\\ub2c8\\ub2e4.\\n(5) \\ud604\\ud669 \\ubc0f \\uc804\\ub9dd\\nSKC\\uc194\\ubbf9\\uc2a4\\ub294 1995\\ub144 \\uc124\\ub9bd\\ud558\\uc5ec \\ub04a\\uc784\\uc5c6\\ub294 \\uc5f0\\uad6c\\uac1c\\ubc1c\\uacfc \\ud22c\\uc790\\ub97c \\ubc14\\ud0d5\\uc73c\\ub85c \\ub300\\ubd80\\ubd84\\n\\uc218\\uc785\\uc5d0 \\uc758\\uc874\\ud574\\uc624\\ub358 \\ud30c\\uc778\\uc138\\ub77c\\ubbf9 \\uc18c\\uc7ac \\uc0b0\\uc5c5\\uc758 \\uad6d\\uc0b0\\ud654\\ub97c \\uc774\\ub8e8\\uc5c8\\uc73c\\uba70, \\uc55e\\uc120 \\uae30\\uc220\\ub825\\uacfc\\n\\uae00\\ub85c\\ubc8c \\ud488\\uc9c8\\uc744 \\uc911\\uc2ec\\uc73c\\ub85c \\uad6d\\ub0b4\\u00b7\\uc678 \\uc720\\uc218\\uc758 \\ubc18\\ub3c4\\uccb4 \\ubc0f FPD\\uc5c5\\uccb4\\uc758 \\uc0ac\\uc5c5\\ud30c\\ud2b8\\ub108\\ub85c\\uc11c\\n\\uc9c0\\uc18d\\uc801\\uc778 \\uc131\\uc7a5\\uacfc \\ubc1c\\uc804\\uc744 \\ud574\\uc624\\uace0 \\uc788\\ub294 \\ub300\\ud45c\\uc801\\uc778 \\ubc18\\ub3c4\\uccb4 \\ubc0f FPD\\ubd80\\ud488\\u00b7\\uc18c\\uc7ac\\uc804\\ubb38 \\uae30\\uc5c5\\n\\uc785\\ub2c8\\ub2e4.\\nSKC\\uc194\\ubbf9\\uc2a4\\ub294 2008\\ub144 SKC(\\uc8fc)\\uac00 \\uc778\\uc218\\ud558\\uac8c \\ub428\\uc5d0 \\ub530\\ub77c SK\\uadf8\\ub8f9\\uc5d0 \\ud3b8\\uc785\\ub418\\uc5b4 \\uad6d\\ub0b4\\n\\uc138\\ub77c\\ubbf9 \\uc2dc\\uc7a5\\uc758 \\ud655\\ub300\\ub97c \\ud1b5\\ud574 \\uae00\\ub85c\\ubc8c \\uc885\\ud569 \\ubd80\\ud488\\uc18c\\uc7ac \\uae30\\uc5c5\\uc73c\\ub85c \\ubc1c\\ub3cb\\uc6c0 \\ud558\\ub294 \\uacc4\\uae30\\uac00\\n\\ub418\\uc5c8\\uc73c\\uba70, \\uae30\\uc874 \\uae30\\uc220\\uc758 \\ub178\\ud558\\uc6b0\\ub97c \\ubc14\\ud0d5\\uc73c\\ub85c \\uc2e0\\uc18c\\uc7ac \\uac1c\\ubc1c \\uc8fc\\ub3c4 \\ubc0f \\ubbf8\\ub798 \\uc0b0\\uc5c5 \\ubc1c\\uc804\\uc5d0\\n\\uc55e\\uc7a5\\uc11c\\uace0 \\uc788\\uc73c\\uba70, \\uae00\\ub85c\\ubc8c \\uc601\\uc5c5\\ub9dd \\uad6c\\ucd95\\uc744 \\uc2dc\\ud604\\ud568\\uc73c\\ub85c\\uc368 Major\\uace0\\uac1d\\ud655\\ubcf4\\ub97c \\ud1b5\\ud55c\\n\\uc138\\uacc4\\uc801\\uc778 \\ubd80\\ud488\\uc18c\\uc7ac \\uc804\\ubb38\\uae30\\uc5c5\\uc73c\\ub85c \\ubc1c\\uc804\\ud558\\uace0 \\uc788\\uc2b5\\ub2c8\\ub2e4.\\n\\u25a0 BHC\\uc0ac\\uc5c5 (\\ud654\\uc7a5\\ud488 \\uc6d0\\ub8cc \\ub4f1)\\n<\\ud654\\uc7a5\\ud488 \\uc18c\\uc7ac \\uc0b0\\uc5c5>\\n(1) \\uc0b0\\uc5c5\\uc758 \\ud2b9\\uc131\\n\\ub300\\ud55c\\ubbfc\\uad6d \\ud654\\uc7a5\\ud488 \\uc0b0\\uc5c5\\uc740 1900\\ub144\\ub300\\ubd80\\ud130 \\uc2dc\\uc791\\ud558\\uc5ec 100\\ub144\\uc774 \\ub118\\ub294 \\uae34 \\uc5ed\\uc0ac\\ub97c \\uac00\\uc9c0\\uace0\\n\\uc788\\ub294 \\ubc18\\uba74, \\uad6d\\ub0b4 \\ud654\\uc7a5\\ud488\\uc18c\\uc7ac \\uc0b0\\uc5c5\\uc758 \\uacbd\\uc6b0 \\uc804\\ubc29 \\uc0b0\\uc5c5\\uacfc\\ub294 \\ub2ec\\ub9ac \\uadf8 \\uc5ed\\uc0ac\\uac00 \\uc0c1\\ub300\\uc801\\uc73c\\ub85c\\n\\uc9e7\\uc2b5\\ub2c8\\ub2e4.\\n\\ucd5c\\uadfc \\uc6f0\\ube59(well-being), \\uc6f0\\uc5d0\\uc774\\uc9d5(well-aging), \\uc548\\ud2f0\\uc5d0\\uc774\\uc9d5(anti-aging) \\ubc0f \\uac10\\uc131\\uc18c\\ube44\\uc640\\n\\uac19\\uc740 \\uc0c8\\ub85c\\uc6b4 \\uc18c\\ube44 \\ud2b8\\ub80c\\ub4dc\\uc5d0 \\ubd80\\ud569\\ud558\\uc5ec \\uc9c0\\uc18d\\uc801\\uc778 \\uc131\\uc7a5\\uc138\\ub97c \\ubcf4\\uc774\\uba70 \\ud2b9\\ud788 \\uad6d\\ub0b4 \\ud654\\uc7a5\\ud488\\n\\uc2dc\\uc7a5\\uc740 \\uacbd\\uae30\\uce68\\uccb4\\ub85c \\ub2e4\\uc218\\uc758 \\uc18c\\ube44\\uc7ac \\uc2dc\\uc7a5\\uc774 \\uc5b4\\ub824\\uc6c0\\uc744 \\uacaa\\uc5c8\\uc74c\\uc5d0\\ub3c4 \\uc131\\uc7a5\\uc138\\ub97c \\uc774\\uc5b4\\n\\uac14\\uc2b5\\ub2c8\\ub2e4. \\uc774\\ub294 \\ud654\\uc7a5\\ud488\\uc774 \\uc77c\\ubc18 \\uc18c\\ube44\\uc7ac\\uc5d0\\uc11c \\ud544\\uc218 \\uc18c\\ube44\\uc7ac\\ub85c \\uc790\\ub9ac\\ubc14\\uafc8\\ud558\\uc600\\uace0,\\n\\uc18c\\ube44\\uc790\\ub4e4\\uc758 \\uac00\\uce58 \\uc18c\\ube44\\uac00 \\ud655\\ub300\\ub428\\uc5d0 \\ub530\\ub978 \\uac83\\uc73c\\ub85c \\ubd84\\uc11d\\ud558\\uace0 \\uc788\\uc2b5\\ub2c8\\ub2e4. \\uad6d\\ub0b4\\ub97c \\ub118\\uc5b4\\n\\uc0c8\\ub85c\\uc6b4 \\uc218\\ucd9c \\uc8fc\\ub825\\uc0b0\\uc5c5\\uc73c\\ub85c \\uc721\\uc131\\ud558\\uae30 \\uc704\\ud55c \\uc815\\ubd80\\uc758 \\ub2e4\\uc591\\ud55c \\uc815\\ucc45\\uc774 \\ucd94\\uc9c4\\ub418\\uace0 \\uc774\\uc5d0\\n\\uc6d0\\ub8cc\\uc0b0\\uc5c5 \\ub610\\ud55c \\ub192\\uc740 \\ubd80\\uac00\\uac00\\uce58 \\ucc3d\\ucd9c\\uc774 \\uac00\\ub2a5\\ud55c \\uc9c0\\uc18d\\uc131\\uc7a5\\uc0b0\\uc5c5\\uc73c\\ub85c \\uc190\\uaf3d\\ud788\\uace0 \\uc788\\uc2b5\\ub2c8\\ub2e4.\\n(2) \\uc0b0\\uc5c5\\uc758 \\uc131\\uc7a5\\uc131\\n\\u3010\\uad6d\\ub0b4 \\ud654\\uc7a5\\ud488 \\uc6d0\\ub8cc \\uc2dc\\uc7a5 \\uc810\\uc720\\uc728\\u3011\\u00a0 \\u00a0 \\u00a0 \\u00a0 \\u00a0 \\u00a0 \\u00a0 \\u00a0 \\u00a0 \\u00a0 \\u00a0 \\u00a0 \\u00a0 \\u00a0 \\u00a0 \\u00a0 \\u00a0 \\u00a0 \\u00a0 \\u00a0 \\u00a0 \\u00a0 \\u00a0 \\u00a0 \\u00a0\\u00a0 ( \\ub2e8\\uc704 : \\uc5b5\\uc6d0 )\\n2018\\ub144\\n2017\\ub144\\n2016\\ub144\\n2015\\ub144\\n2014\\ub144\\n\\uc5f0\\ud3c9\\uade0\\uc99d\\uac10\\uc728\\n1\\n\\ud654\\uc7a5\\ud488 \\uc804\\uccb4\\uc2dc\\uc7a5(\\uc8fc1)\\n104,011\\n97,692\\n100,421\\n90,720\\n84,377\\n4.3%\\n2\\n\\ud654\\uc7a5\\ud488\\uc6d0\\ub8cc \\uc804\\uccb4\\uc2dc\\uc7a5(\\uc8fc2)\\n8,321\\n7,815\\n8,034\\n7,258\\n6,750\\n3\\n\\ucc9c\\uc5f0\\ud654\\uc7a5\\ud488 \\uc6d0\\ub8cc\\uc2dc\\uc7a5\\n(\\uc8fc3)\\n1,664\\n1,563\\n1,607\\n1,452\\n1,350\\n4\\n\\ud654\\uc7a5\\ud488\\uc6d0\\ub8cc \\uc804\\uccb4\\uc2dc\\uc7a5 \\uc911\\n\\ub2f9\\uc0ac\\uc810\\uc720\\uc728(\\uc8fc4)\\n12.1\\n13.1\\n12.2\\n11.1\\n11.4\\n-\\n\\ucc9c\\uc5f0\\ud654\\uc7a5\\ud488 \\uc6d0\\ub8cc\\uc2dc\\uc7a5 \\uc911\\n\\ub2f9\\uc0ac\\uc810\\uc720\\uc728(\\uc8fc5)\\n60.5\\n65.6\\n60.9\\n55.7\\n57.0\\n-\\n(\\uc8fc1) \\ud55c\\uad6d\\ubcf4\\uac74\\uc0b0\\uc5c5\\uc9c4\\ud765\\uc6d0, \\ud1b5\\uacc4 DB\\uc870\\ud68c, \\uad6d\\ub0b4 \\ud654\\uc7a5\\ud488 \\uc2dc\\uc7a5 \\uaddc\\ubaa8.\\n(\\uc8fc2) \\ud654\\uc7a5\\ud488\\uc6d0\\ub8cc \\uc804\\uccb4\\uc2dc\\uc7a5\\uc758 \\ube44\\uc911\\uc740 \\ud654\\uc7a5\\ud488 \\uc804\\uccb4 \\uc2dc\\uc7a5 \\ub300\\ube44 \\ud3c9\\uade0 8%\\ub85c \\ub2f9\\uc0ac \\ucd94\\uc815\\uc790\\ub8cc\\uc784.\\n(\\uc8fc3) \\ucc9c\\uc5f0\\ud654\\uc7a5\\ud488 \\uc6d0\\ub8cc\\uc2dc\\uc7a5\\uc758 \\ube44\\uc911\\uc740 \\ud654\\uc7a5\\ud488\\uc6d0\\ub8cc \\uc804\\uccb4\\uc2dc\\uc7a5\\uc5d0\\uc11c \\uacc4\\uba74\\ud65c\\uc131\\uc81c, \\uc624\\uc77c, \\uc54c\\ucf5c\\ub8cc \\ub4f1\\uc758 \\ube44\\uc911\\uc744\\n\\uc81c\\uc678\\ud55c\\u00a0 20%\\ub85c \\ub2f9\\uc0ac \\ucd94\\uc815\\uc790\\ub8cc\\uc784.\\n(\\uc8fc4) \\ud654\\uc7a5\\ud488\\uc6d0\\ub8cc \\uc804\\uccb4\\uc2dc\\uc7a5\\uc911 \\ub2f9\\uc0ac \\ub9e4\\ucd9c\\uc561\\uc744 \\uac10\\uc548\\ud558\\uc5ec \\uc801\\uc6a9\\ud55c \\ub2f9\\uc0ac \\ucd94\\uc815 \\uc790\\ub8cc\\uc784.\\n(\\uc8fc5) \\ucc9c\\uc5f0\\ud654\\uc7a5\\ud488 \\uc6d0\\ub8cc\\uc2dc\\uc7a5 \\uc911 \\ub2f9\\uc0ac \\ub9e4\\ucd9c\\uc561\\uc744 \\uac10\\uc548\\ud558\\uc5ec \\uc801\\uc6a9\\ud55c \\ub2f9\\uc0ac \\ucd94\\uc815 \\uc790\\ub8cc\\uc784.\\n(3) \\uacbd\\uae30\\ubcc0\\ub3d9\\uc758 \\ud2b9\\uc131\\n\\uc804 \\uc138\\uacc4\\uc801\\uc73c\\ub85c \\ub3d9\\ubb3c\\uc131 \\uc6d0\\ub8cc \\uc0ac\\uc6a9\\uacfc \\ud654\\ud559\\ubb3c\\uc9c8\\uc5d0 \\ub300\\ud55c \\ud658\\uacbd\\uc624\\uc5fc \\ub4f1\\uc758 \\ubd88\\uc548 \\uc694\\uc18c\\ub4e4\\ub85c\\n\\uc778\\ud574 \\uac01\\uc885 \\uaddc\\uc81c\\ub4e4\\uc774 \\uac15\\ud654\\ub428\\uc5d0 \\ub530\\ub77c \\ub2f9\\uc0ac\\uc758 \\uc8fc\\ub825\\uc81c\\ud488\\uc778 \\ucc9c\\uc5f0 \\uc18c\\uc7ac\\uc2dc\\uc7a5\\uc774 \\ub354\\uc6b1\\n\\ud655\\ub300\\ub420 \\uac83\\uc73c\\ub85c \\uc804\\ub9dd\\ub429\\ub2c8\\ub2e4.\\n(4) \\uacbd\\uc7c1\\uc694\\uc18c\\n\\ud654\\uc7a5\\ud488\\uc774 \\ud544\\uc218\\uc18c\\ube44\\uc7ac\\ub85c \\uc790\\ub9ac\\ub9e4\\uae40\\ud568\\uc5d0 \\ub530\\ub77c \\uc2e0\\uaddc\\uc2dc\\uc7a5\\uc774 \\uacc4\\uc18d \\ud655\\ub300\\ub418\\uace0 \\uc788\\uc73c\\uba70 \\uafb8\\uc900\\ud55c\\n\\uc5f0\\uad6c\\uac1c\\ubc1c\\uc758 \\uacb0\\uacfc\\uc778 \\uc2e0\\uc81c\\ud488, \\uc2e0\\uae30\\uc220\\uc744 \\uc774\\uc6a9\\ud558\\uc5ec \\uc2dc\\uc7a5\\uc120\\uc810 \\uacbd\\uc7c1\\uc774 \\uce58\\uc5f4\\ud569\\ub2c8\\ub2e4.\\n\\uc18c\\uc7ac\\uc0b0\\uc5c5\\uc758 \\ud2b9\\uc131\\uc0c1 \\ud310\\ub9e4\\ub300\\uc0c1\\uc774 \\uc77c\\ubc18\\uac1c\\uc778\\uc18c\\ube44\\uc790\\uac00 \\uc544\\ub2cc \\ucd5c\\uc885\\uc81c\\ud488 \\uc81c\\uc870\\ud68c\\uc0ac\\uc640\\uc758 B2B\\n\\uac70\\ub798\\uac00 \\uc77c\\ubc18\\uc801\\uc73c\\ub85c \\ud310\\ub9e4\\uacbd\\ub85c, \\ud310\\ub9e4\\ubc29\\ubc95\\uc774 \\ub2e8\\uc21c\\ud569\\ub2c8\\ub2e4.\\n(5) \\uad00\\ub828 \\ubc95\\ub839 \\ub610\\ub294 \\uc815\\ubd80\\uc758 \\uaddc\\uc81c \\ub4f1\\n2000\\ub144 7\\uc6d4 \\ud654\\uc7a5\\ud488\\ubc95\\uc774 \\uc81c\\uc815\\ub428\\uc5d0 \\ub530\\ub77c 2001\\ub144\\ubd80\\ud130 \\ubcf8\\uaca9\\uc801\\uc778 \\uae30\\ub2a5\\uc131 \\ud654\\uc7a5\\ud488(\\ud56d\\ub178\\ud654,\\n\\uc790\\uc678\\uc120\\ucc28\\ub2e8, \\ubbf8\\ubc31, \\uc544\\ud1a0\\ud53c) \\uc0dd\\uc0b0\\ud310\\ub9e4\\uac00 \\uc774\\ub8e8\\uc5b4\\uc84c\\uc73c\\uba70 \\uc774\\uc5d0 \\ub530\\ub77c \\uc55e\\uc73c\\ub85c\\ub3c4 \\uae30\\ub2a5\\uc131\\n\\ud654\\uc7a5\\ud488\\uc5d0 \\uc0ac\\uc6a9\\ub418\\ub294 \\uc8fc\\uae30\\ub2a5\\uc6d0\\ub8cc\\uc758 \\uc591\\uc774 \\uc9c0\\uc18d\\uc801\\uc73c\\ub85c \\ud655\\ub300\\ub420 \\uc804\\ub9dd\\uc785\\ub2c8\\ub2e4.\\n\\ub610\\ud55c \\ubc95\\uac1c\\uc815\\uc5d0 \\ub530\\ub77c \\ub2e4\\uc591\\ud55c \\uae30\\ub2a5\\uc131 \\uc18c\\uc7ac\\uac00 \\ucd94\\uac00 \\ub4f1\\uc7ac\\ub418\\uace0 \\uc788\\uc73c\\uba70 \\uad6d\\uac00 \\uc815\\ucc45 \\ub610\\ud55c\\n\\uc0b0\\uc5c5\\uc758 \\uc131\\uc7a5\\uc744 \\uc704\\ud55c \\ubc29\\ud5a5\\uc73c\\ub85c \\uc774\\ub8e8\\uc5b4\\uc9c0\\uace0 \\uc788\\uc5b4 \\uc9c0\\uc18d\\uc801\\uc778 \\uc131\\uc7a5\\uc774 \\uc608\\uc0c1\\ub418\\uace0 \\uc788\\uc2b5\\ub2c8\\ub2e4.\\n<\\uac74\\uac15\\uae30\\ub2a5\\uc2dd\\ud488 \\uc0b0\\uc5c5>\\n\\uac74\\uac15\\uae30\\ub2a5\\uc2dd\\ud488\\uc774\\ub780\\u00a0 \\\"\\uc778\\uccb4\\uc5d0 \\uc720\\uc6a9\\ud55c \\uae30\\ub2a5\\uc131\\uc744 \\uac00\\uc9c4 \\uc6d0\\ub8cc\\ub098 \\uc131\\ubd84\\uc744 \\uc0ac\\uc6a9\\ud558\\uc5ec \\uc81c\\uc870/\\n\\uac00\\uacf5\\ud55c \\uc2dd\\ud488\\\" \\uc73c\\ub85c \\uc815\\uc758\\ub418\\uba70, \\uae30\\ub2a5\\uc131\\uc774\\ub77c\\uace0 \\ud568\\uc740 \\\"\\uc778\\uccb4\\uc758 \\uad6c\\uc870 \\ubc0f \\uae30\\ub2a5\\uc5d0 \\ub300\\ud558\\uc5ec\\n\\uc601\\uc591\\uc18c\\ub97c \\uc870\\uc808\\ud558\\uac70\\ub098 \\uc0dd\\ub9ac\\ud559\\uc801 \\uc791\\uc6a9 \\ub4f1\\uacfc \\uac19\\uc740 \\ubcf4\\uac74\\uc6a9\\ub3c4\\uc5d0 \\uc720\\uc6a9\\ud55c \\ud6a8\\uacfc\\ub97c \\uc5bb\\ub294 \\uac83\\n\\\"(\\uac74\\uac15\\uae30\\ub2a5\\uc2dd\\ud488\\uc5d0 \\uad00\\ud55c \\ubc95\\ub960)\\uc744 \\ub9d0\\ud569\\ub2c8\\ub2e4.\\n\\ub2f9\\uc0ac\\ub294 \\ubc18\\uc138\\uae30\\uc758 \\ubc1c\\ud6a8 \\ubc0f Enzyme\\uc0dd\\uc0b0\\uae30\\uc220, \\ubbf8\\uc0dd\\ubb3c\\uc5d0 \\uc758\\ud55c \\ubc14\\uc774\\uc624\\ud3f4\\ub9ac\\uba38 \\uc18c\\uc7ac,\\n\\ubc1c\\ud6a8 \\ubc0f \\ud6a8\\uc18c \\uc18c\\uc7ac \\uac1c\\ubc1c\\uacfc \\ucd94\\ucd9c\\u00b7\\uc815\\uc81c \\uc0dd\\uc0b0\\uae30\\uc220\\uc744 \\uae30\\ubc18\\uc73c\\ub85c \\ud558\\ub294 \\ucc9c\\uc5f0\\ubb3c \\uc720\\ub798 \\uae30\\ub2a5\\uc131\\n\\uc2dd\\ud488\\uc18c\\uc7ac \\uac1c\\ubc1c \\ub4f1\\uc758 \\uc0ac\\uc5c5\\ud654\\ub97c \\uc9c4\\ud589\\ud558\\uace0 \\uc788\\uc2b5\\ub2c8\\ub2e4.\\n\\ubc14\\uc774\\uc624\\ud3f4\\ub9ac\\uba38 \\uc18c\\uc7ac\\uc778 \\ud788\\uc54c\\ub8e8\\ub860\\uc0b0\\uc740 1990\\ub144 \\ucd08\\uc5d0 \\ud654\\uc7a5\\ud488 \\uc18c\\uc7ac\\ub85c\\uc368 \\uad6d\\ub0b4 \\ucd5c\\ucd08\\ub85c\\n\\uac1c\\ubc1c\\ud558\\uc5ec \\ub300\\ub7c9\\uc0dd\\uc0b0 \\ub3c4\\uc785\\ud55c \\uc774\\ud6c4, \\uc9c0\\uc18d\\uc801 \\uc5f0\\uad6c\\uac1c\\ubc1c\\uc744 \\ud1b5\\ud558\\uc5ec 2004\\ub144\\uc5d0 \\ucc9c\\uc5f0\\ucca8\\uac00\\ubb3c\\uc758\\n\\u201c\\ud55c\\uc2dc\\uc801\\uae30\\uc900\\uaddc\\uaca9\\u201d \\uc778\\uc815\\uc744 \\ub4dd\\ud558\\uc600\\uc73c\\uba70, 2010\\ub144\\uc5d0\\ub294 \\uc2dd\\ud488\\uc758\\uc57d\\ud488\\uc548\\uc804\\ucc98\\ub85c\\ubd80\\ud130\\n\\uac74\\uac15\\uae30\\ub2a5\\uc2dd\\ud488 \\uac1c\\ubcc4\\uc778\\uc815\\ud615 \\uc6d0\\ub8cc \\uc778\\uc99d\\uc744 \\ubc1b\\uc544 \\ud604\\uc7ac \\uad6d\\ub0b4\\uc678\\uc5d0 \\ud310\\ub9e4 \\uc911\\uc785\\ub2c8\\ub2e4.\\n2014\\ub144\\uc5d0\\ub294 \\uccad\\uad6d\\uc7a5\\uc758 \\uc810\\uc131\\ubb3c\\uc9c8\\uc778 \\ud3f4\\ub9ac\\uae00\\ub8e8\\ud0d0\\uc0b0\\uc758 \\ub300\\ub7c9\\uc0dd\\uc0b0 \\uc81c\\uc870\\uacf5\\uc815\\uc744 \\uac1c\\ubc1c \\uc644\\ub8cc\\n\\ud558\\uc600\\uc73c\\uba70, 2015\\ub144 \\ud3f4\\ub9ac\\uae00\\ub8e8\\ud0d0\\uc0b0\\uc774 \\uc2dd\\uc57d\\ucc98\\uc758 \\uac74\\uac15\\uae30\\ub2a5\\uc2dd\\ud488 \\uace0\\uc2dc\\ud615\\uc6d0\\ub8cc\\ub85c\\uc758 \\uc804\\ud658\\ub418\\uc5b4\\n\\ud604\\uc7ac \\ud310\\ub9e4\\uc911\\uc5d0 \\uc788\\uc73c\\uba70, \\ud604\\uc7ac \\ucc28\\uae30 \\uc544\\uc774\\ud15c\\uc73c\\ub85c \\ubc84\\uc12f\\uae00\\ub8e8\\uce78 \\ubc0f \\ud751\\ud6a8\\ubaa8\\uae00\\ub8e8\\uce78 \\ub4f1\\uc758\\n\\ub2e4\\uc591\\ud55c \\ubc14\\uc774\\uc624\\ud3f4\\ub9ac\\uba38 \\uc18c\\uc7ac\\ub97c \\uac1c\\ubc1c\\ud558\\uace0 \\uc788\\uc2b5\\ub2c8\\ub2e4.\\n\\uc720\\uc0b0\\uade0 \\ub4f1 \\uc2dd\\uc6a9\\ubbf8\\uc0dd\\ubb3c\\uc744 \\ud65c\\uc6a9\\ud55c \\ucc9c\\uc5f0\\ubb3c\\ubc1c\\ud6a8\\uae30\\uc220\\uacfc \\ud6a8\\uc18c\\ub97c \\ud65c\\uc6a9\\ud55c \\uc0dd\\ubb3c\\uc804\\ud658\\uae30\\uc220\\uc744\\n\\uc774\\uc6a9\\ud558\\uc5ec \\ubc1c\\ud6a8\\ud64d\\uc0bc, \\ubc1c\\ud6a8\\ub9c8\\ub298, \\ubc1c\\ud6a8\\ub179\\uc6a9, \\ud6a8\\uc18c\\uc2dd\\ud488 \\ub4f1 \\ubc14\\uc774\\uc624\\uc2dd\\ud488\\uc18c\\uc7ac\\uc758 \\uac1c\\ubc1c \\ubc0f\\n\\uc0ac\\uc5c5\\ud654\\ub97c \\uc9c4\\ud589\\ud558\\uace0 \\uc788\\uc2b5\\ub2c8\\ub2e4. \\ub610\\ud55c \\ubc1c\\ud6a8\\uae30\\ubc95\\uc758 \\uc2e0\\uaddc\\ubb3c\\uc9c8\\uc758 \\uac1c\\ubc1c\\uc744 \\uc704\\ud574 \\ub098\\uc544\\uac00\\uc11c\\n\\uc790\\uc0ac\\uc758 \\ubc1c\\ud6a8\\uae30\\uc220\\uc744 \\uae30\\ubc18\\uc73c\\ub85c \\ucc28\\ubcc4\\ud654\\ub41c \\uacbd\\uc7c1\\ub825\\uc18c\\uc7ac\\uc758 \\uac1c\\ubc1c\\uc744 \\uc704\\ud574, 2\\uac74\\uc758 \\uc2e0\\uaddc\\uc18c\\uc7ac\\n[\\ubc1c\\ud6a8\\ub9c8\\ub298/\\uac04\\uae30\\ub2a5 \\uac1c\\uc120(\\ud608\\uc911\\ucf5c\\ub808\\uc2a4\\ud14c\\ub864 \\uac1c\\uc120), \\ubc1c\\ud6a8\\uc6b0\\uc2ac/\\uad00\\uc808\\uac74\\uac15\\uac1c\\uc120 \\uac1c\\ubc1c\\uc744\\n\\uad6d\\ube44\\uc9c0\\uc6d0\\uc744 \\ubc1b\\uc544 \\uc2dd\\uc57d\\ucc98\\uc758 \\uac74\\uac15\\uae30\\ub2a5\\uc2dd\\ud488 \\uac1c\\ubcc4\\uc778\\uc815\\ud615 \\uc6d0\\ub8cc \\uc778\\uc99d\\uc744 \\ubaa9\\ud45c\\ub85c \\uace0\\ub824\\ub300\\ud559\\uad50\\n\\ub4f1\\uacfc \\uc0b0\\ud559\\uc5f0\\ud611\\ub3d9\\uc73c\\ub85c \\uac1c\\ubc1c\\uc744 \\uc9c4\\ud589\\ud558\\uace0 \\uc788\\uc73c\\uba70 2016\\ub144 9\\uc6d4 \\uc720\\uc0b0\\uade0\\ubc1c\\ud6a8\\ub9c8\\ub298\\ucd94\\ucd9c\\ubb3c\\uc744\\n\\uc2dd\\uc57d\\ucc98\\ub85c \\ubd80\\ud130 \\uac1c\\ubcc4\\uc778\\uc815\\ud615 \\uc18c\\uc7ac\\ub85c \\uc778\\uc815\\ubc1b\\uc544 \\ud604\\uc7ac \\ud310\\ub9e4 \\uc911\\uc785\\ub2c8\\ub2e4.\\n\\ub610\\ud55c \\ub09c\\uc6a9\\uc131\\uc758 \\ucc9c\\uc5f0\\ucd94\\ucd9c\\ubb3c\\uc778 \\uc774\\uc18c\\ud50c\\ub77c\\ubcf8, \\ud64d\\uacbd\\ucc9c\\ucd94\\ucd9c\\ubb3c, \\ubc00\\ud06c\\uc528\\uc2ac\\ucd94\\ucd9c\\ubb3c, \\uc740\\ud589\\uc78e\\n\\ucd94\\ucd9c\\ubb3c \\ub4f1\\uc744 \\uc790\\uc0ac\\ud2b9\\ud654 \\uae30\\uc220\\ub85c \\uc218\\uc6a9\\ud654\\ud558\\uc5ec \\uc0dd\\uccb4\\ud761\\uc218\\uc728\\uacfc \\ud6a8\\ub2a5\\uc744 \\uc99d\\ub300\\uc2dc\\ud0b4\\uacfc \\uc544\\uc6b8\\ub7ec\\n\\ud48d\\ubbf8\\ub97c \\uac1c\\uc120\\ud558\\uc5ec, \\uc74c\\ub8cc, \\uc824\\ub9ac \\uc81c\\ud615 \\ub4f1 \\ub2e4\\uc591\\ud55c \\uc81c\\ud615\\uc5d0 \\uc801\\uc6a9\\ud560 \\uc218 \\uc788\\ub294 \\uc81c\\ud488\\uac1c\\ubc1c\\uc744\\n\\uc644\\ub8cc\\ud558\\uc600\\uc73c\\uba70, \\uc774\\uc640 \\uac19\\uc774 \\ucc28\\ubcc4\\ud654\\ub41c \\uc218\\uc6a9\\uc131 \\uc18c\\uc7ac\\ub97c \\ud1a0\\ub300\\ub85c \\uc644\\uc81c\\ud488 ODM \\uc0ac\\uc5c5\\uc744\\n\\uc900\\ube44 \\uc911\\uc785\\ub2c8\\ub2e4. \\ud5a5\\ud6c4 \\uc644\\uc81c\\ud488 ODM\\uc0ac\\uc5c5\\uc744 \\ud1b5\\ud558\\uc5ec \\ube44\\uc57d\\uc801 \\uacbd\\uc601\\uc131\\uacfc\\ub97c \\uae30\\ub300\\ud558\\uace0\\n\\uc788\\uc2b5\\ub2c8\\ub2e4.\\n<\\uc758\\ub8cc\\uae30\\uae30 \\uc0b0\\uc5c5(Bio medical products)>\\n\\ub2f9\\uc0ac\\uc758 \\uc870\\uc9c1\\uc7ac\\uc0dd \\uc758\\ub8cc\\uae30\\uae30 \\uc0b0\\uc5c5\\uc740 \\ubc14\\uc774\\uc624 \\uc758\\uc57d\\uc0b0\\uc5c5\\uc758 \\ud55c \\ubd80\\ubd84\\uc73c\\ub85c \\ub2e4\\uc591\\ud55c \\uae30\\uc220\\n\\uc811\\ubaa9\\uc774 \\uac00\\ub2a5\\ud55c \\uc0ac\\uc5c5\\ubd84\\uc57c\\ub85c\\uc11c \\uc7a5\\ub798 \\uace0\\ubd80\\uac00\\uac00\\uce58\\ub97c \\ucc3d\\ucd9c\\ud558\\ub294 \\uc0b0\\uc5c5\\uc785\\ub2c8\\ub2e4.\\n\\uc870\\uc9c1\\uc7ac\\uc0dd \\uc758\\ub8cc\\uae30\\uae30 \\uc0b0\\uc5c5\\uc740 \\uac01\\uc885 \\uc9c8\\ubcd1\\uc774\\ub098 \\uace0\\ub839\\ud654 \\ubc0f \\uc7a5\\uc560 \\ub4f1\\uc758 \\uc6d0\\uc778\\uc73c\\ub85c \\uc190\\uc0c1\\ub41c \\ud53c\\ubd80\\n\\uc870\\uc9c1\\uc758 \\uc7ac\\uc0dd\\uce58\\ub8cc\\uc5d0 \\uc0ac\\uc6a9\\ub418\\ub294 \\uc758\\ub8cc\\uae30\\uae30\\ub97c \\uac1c\\ubc1c\\u318d\\uc0dd\\uc0b0\\ud558\\ub294 \\uc0ac\\uc5c5\\ubd80\\ubb38\\uc73c\\ub85c \\ucf5c\\ub77c\\uac90\\uc744\\n\\uc774\\uc6a9\\ud55c \\ucc3d\\uc0c1\\uce58\\ub8cc \\uc758\\ub8cc\\uae30\\uae30 \\uc0ac\\uc5c5\\uacfc \\uce58\\uacfc \\ub610\\ub294 \\uc815\\ud615\\uc678\\uacfc\\uc601\\uc5ed\\uc758 \\uc190\\uc0c1\\ub41c \\ubf08\\uc870\\uc9c1\\uc774\\ub098\\n\\uc5f0\\uace8\\uc870\\uc9c1\\uc744 \\uc7ac\\uc0dd \\ub610\\ub294 \\uc7ac\\uac74\\ud558\\uae30 \\uc704\\ud574 \\uc0ac\\uc6a9\\ub418\\ub294 \\uc758\\ub8cc\\uae30\\uae30\\ub97c \\uc0dd\\uc0b0\\u318d\\ud310\\ub9e4\\ud558\\uace0 \\uc788\\uc2b5\\ub2c8\\ub2e4.\\n\\ub2f9\\uc0ac\\uc5d0\\uc11c \\uc0dd\\uc0b0\\ud558\\ub294 \\uc758\\ub8cc\\uae30\\uae30\\ub294 \\uc644\\uc81c\\ud488\\uc73c\\ub85c\\uc11c \\ub0b4\\ubd80 \\uc601\\uc5c5 \\uc778\\ub825\\uacfc \\uc678\\ubd80 \\ub300\\ub9ac\\uc810\\uc744 \\ud1b5\\ud574\\n\\ud310\\ub9e4\\ub418\\uace0 \\uc788\\uc73c\\uba70, \\uc81c\\ud488\\uc73c\\ub85c\\ub294 \\uc678\\uacfc\\uc6a9 \\ucc3d\\uc0c1\\ud53c\\ubcf5\\uc7ac(Colladerm, Collaheal, Insuregraf),\\n\\uc784\\ud50c\\ub780\\ud2b8 \\uc2dc\\uc220\\uc5d0 \\uc0ac\\uc6a9\\ub418\\ub294 \\uce58\\uacfc\\uc6a9 \\ucf5c\\ub77c\\uac90 \\uba64\\ube0c\\ub808\\uc778(T-gen), \\uace8\\uc774\\uc2dd\\uc7ac(Collaoss) \\ub4f1\\uc774\\n\\uc788\\uc73c\\uba70 Application \\ud655\\uc7a5\\uacfc \\uc0c8\\ub85c\\uc6b4 \\uc81c\\ud615\\ud655\\ubcf4\\ub97c \\uc704\\ud55c \\uc5f0\\uad6c \\uac1c\\ubc1c\\uc744 \\uc9c4\\ud589\\ud558\\uace0 \\uc788\\uc2b5\\ub2c8\\ub2e4.\\n\\uad6d\\ub0b4\\ubfd0\\ub9cc \\uc544\\ub2c8\\ub77c \\ud574\\uc678 \\ud310\\ub9e4\\ub97c \\uc704\\ud574 \\uc911\\uad6d, \\uc720\\ub7fd, \\ubbf8\\uc8fc \\uc9c0\\uc5ed\\uc744 \\ub300\\uc0c1\\uc73c\\ub85c FDA, CE\\n\\uc778\\uc99d\\uc744 \\uc9c4\\ud589 \\uc911\\uc5d0 \\uc788\\uc2b5\\ub2c8\\ub2e4. \\uc774\\ub7f0 \\ub178\\ub825\\uc758 \\ud55c \\uacb0\\uacfc\\ub85c 2016\\ub144 \\uc911\\uad6d CFDA\\ub97c \\ud1b5\\ud574\\n\\uce58\\uacfc\\uc6a9 \\ucf5c\\ub77c\\uac90 \\uba64\\ube0c\\ub808\\uc778(T-gen) \\uc778\\uc815\\uc744 \\ud68d\\ub4dd\\ud558\\uc600\\uc73c\\uba70 \\uae00\\ub85c\\ubc8c \\uc2dc\\uc7a5 \\uacf5\\ub7b5\\uc744 \\uc704\\ud574\\n\\ud544\\uc218 \\uc694\\uac74\\uc778 \\ud5c8\\uac00 \\uc778\\uc815\\uc744 \\uc704\\ud574 \\ub0b4\\ubd80\\uc5ed\\ub7c9\\uc744 \\uc9d1\\uc911\\ud558\\uace0 \\uc788\\uc2b5\\ub2c8\\ub2e4.\\n<\\ucc9c\\uc5f0\\ubb3c \\uc6d0\\ub8cc\\uc758\\uc57d\\ud488 \\uc0b0\\uc5c5(APIs)>\\n\\uc6d0\\ub8cc\\uc758\\uc57d\\ud488\\uc740 \\uc758\\uc57d\\ud488\\uc81c\\uc870\\uc5d0 \\uc0ac\\uc6a9\\ub418\\ub294 \\uc758\\uc57d\\ud488\\uc758 \\uc6d0\\ub8cc\\ub4e4\\uc758 \\ucd1d\\uce6d\\uc73c\\ub85c \\uc644\\uc81c\\ud488\\n\\uc81c\\uc870\\uc0ac\\uc5d0\\uc11c \\uc758\\uc57d\\ud488 \\uc81c\\uc81c\\ub97c \\uc704\\ud574 \\uc0ac\\uc6a9\\ub418\\ub294 \\uc8fc\\uc6d0\\ub8cc\\ub97c \\uc758\\ubbf8\\ud569\\ub2c8\\ub2e4. \\uc6d0\\ub8cc\\uc758\\uc57d\\ud488\\uc740\\n\\uc57d\\ud6a8\\uc131\\ubd84\\uc5d0 \\ub530\\ub77c \\uc8fc\\uc131\\ubd84(Active Pharmaceutical Ingredients)\\uacfc \\ubcf4\\uc870\\uc131\\ubd84(Inactive\\nPharmaceutical Ingredients)\\uc73c\\ub85c \\ubd84\\ub958\\ub418\\uace0 \\uc788\\uc73c\\uba70 \\ub2f9\\uc0ac\\uc5d0\\uc11c\\ub294 \\uc18c\\ud654\\uc704\\uc7a5\\uac1c\\uc120\\uc5d0\\n\\ub3c4\\uc6c0\\uc744 \\uc8fc\\ub294 Eupatilin(\\uc560\\uc5fd\\ucd94\\ucd9c\\ubb3c) \\ub4f1\\uc758 \\uc8fc\\uc131\\ubd84 \\uc6d0\\ub8cc\\uc758\\uc57d\\ud488\\uc744 \\uc0dd\\uc0b0\\ud558\\uc5ec \\uc644\\uc81c \\uc758\\uc57d\\ud488\\n\\uc0dd\\uc0b0 \\uc5c5\\uccb4\\ub85c \\uacf5\\uae09\\ud558\\uace0 \\uc788\\uc2b5\\ub2c8\\ub2e4.\\n\\uc6d0\\ub8cc\\uc758\\uc57d\\ud488 \\uc0b0\\uc5c5\\uc740 \\uc778\\uac04\\uc758 \\uc0dd\\uba85\\uacfc \\uc9c1\\uc811\\uc801\\uc73c\\ub85c \\uad00\\ub828\\ub41c \\uc81c\\ud488\\uc744 \\uc0dd\\uc0b0\\ud558\\ub294 \\uc0b0\\uc5c5\\uc73c\\ub85c\\n\\uc81c\\ud488\\uc758 \\uac1c\\ubc1c \\uc81c\\uc870 \\uc720\\ud1b5 \\ud310\\ub9e4 \\ub4f1 \\uc804\\uacfc\\uc815\\uc5d0 \\uac78\\uccd0 \\ub9e4\\uc6b0 \\uc5c4\\uaca9\\ud788 \\uad00\\ub9ac\\ub418\\uace0 \\uc788\\uc73c\\uba70\\n\\uadf8 \\uae30\\uc900\\uc744 \\ub9de\\ucd94\\uae30 \\uc704\\ud55c \\uc124\\ube44\\ud22c\\uc790, \\uae30\\uc220\\ud22c\\uc790\\uac00 \\uc774\\ub8e8\\uc5b4 \\uc9c0\\uace0 \\uc788\\uc2b5\\ub2c8\\ub2e4.\\n\\uc124\\ube44\\uc5d0 \\ub300\\ud55c \\uace0\\ub3c4\\ud654 \\ubc0f \\uae30\\uc220 \\uc9d1\\uc57d\\ub3c4\\uac00 \\ub192\\uc740 \\uc0b0\\uc5c5\\uc73c\\ub85c \\uc2e0\\uaddc \\uae30\\uc220 \\ud655\\ubcf4 \\ubc0f \\uc2e0\\uc81c\\ud488\\n\\uac1c\\ubc1c\\uc5d0 \\ub530\\ub77c \\ub192\\uc740 \\ubd80\\uac00\\uac00\\uce58\\ub97c \\ucc3d\\ucd9c\\ud558\\ub294 \\uc0ac\\uc5c5\\uc785\\ub2c8\\ub2e4. \\ub530\\ub77c\\uc11c \\ub2f9\\uc0ac\\uc5d0\\uc11c\\ub294 \\uc2e0\\uaddc\\uc81c\\ud488\\n\\uac1c\\ubc1c\\uc744 \\uc704\\ud574 \\uc644\\uc81c \\uc758\\uc57d\\ud488\\uc81c\\uc870\\uc0ac\\uc640 \\uc9c0\\uc18d\\uc801\\uc778 \\ud611\\ub825\\uc744 \\uc774\\uc5b4\\uac00\\uace0 \\uc788\\uc73c\\uba70 \\uc2e0\\uc57d \\uac1c\\ubc1c\\uc744\\n\\uc704\\ud55c \\uc5f0\\uad6c\\uac1c\\ubc1c\\uc744 \\uc218\\ud589\\ud558\\uace0 \\uc788\\uc2b5\\ub2c8\\ub2e4. \\uc774\\ub97c \\ud1b5\\ud574 \\uc0ac\\uc5c5 \\uacbd\\uc7c1\\ub825 \\ud655\\ubcf4\\ubfd0\\ub9cc \\uc544\\ub2c8\\ub77c\\n\\uad6d\\uac00 \\ubcf4\\uac74\\uc0b0\\uc5c5 \\ubc1c\\uc804\\uc5d0\\ub3c4 \\uc774\\ubc14\\uc9c0 \\ud560 \\uc218 \\uc788\\uc744 \\uac83\\uc73c\\ub85c \\uae30\\ub300\\ud558\\uace0 \\uc788\\uc2b5\\ub2c8\\ub2e4.\\n\\u25a0 \\uae30\\ud0c0\\uc0ac\\uc5c5\\n(\\uc815\\ubcf4\\ud1b5\\uc2e0 \\ub4f1)\\n(1) \\uc0b0\\uc5c5\\uc758 \\ud2b9\\uc131\\n\\ucd5c\\uadfc\\uc758 \\ud1b5\\uc2e0\\uc0b0\\uc5c5\\uc740 \\uae09\\uaca9\\ud55c \\uae30\\uc220\\ubc1c\\uc804\\uacfc \\uc11c\\ube44\\uc2a4\\uc774\\uc6a9\\uc790\\uc758 \\uc218\\uc694\\ubcc0\\ud654 \\ub4f1 \\uc74c\\uc131\\uc911\\uc2ec\\uc758\\n\\uc2dc\\uc7a5\\uc5d0\\uc11c \\ub370\\uc774\\ud130 \\uc911\\uc2ec\\uc758 \\uc2dc\\uc7a5\\uc73c\\ub85c \\uc804\\ud658\\uc774 \\uac00\\uc18d\\ud654\\ub418\\uace0 \\uc788\\uc5b4 \\ud1b5\\uc2e0\\uacfc \\ubc29\\uc1a1\\uc735\\ud569,\\n\\uc720\\ubb34\\uc120 \\ud1b5\\ud569 \\ub4f1 \\ucee8\\ubc84\\uc804\\uc2a4 \\ud658\\uacbd\\uc73c\\ub85c \\uc774\\ub3d9\\ud558\\uace0 \\uc788\\uc2b5\\ub2c8\\ub2e4. \\ud1b5\\uc2e0\\uacfc \\ubc29\\uc1a1 \\uc735\\ud569\\uc744 \\ubaa9\\ud45c\\ub85c\\n\\ud558\\ub294 \\ub514\\uc9c0\\ud138\\uba40\\ud2f0\\ubbf8\\ub514\\uc5b4\\ubc29\\uc1a1(DMB), \\ud734\\ub300\\uc778\\ud130\\ub137(WiBro), \\ubc29\\uc1a1\\ud1b5\\uc2e0\\uc735\\ud569\\uc11c\\ube44\\uc2a4(IPTV)\\n\\ub4f1\\uc758 \\uc2e0\\uaddc\\uc11c\\ube44\\uc2a4 \\ub4f1\\uacfc \\uad6d\\ub0b4\\uc774\\ub3d9\\ud1b5\\uc2e0 \\uc0ac\\uc5c5\\uc790\\ub4e4\\uac04\\uc758 3G\\uc11c\\ube44\\uc2a4(WCDMA) \\ubc0f 3.5G\\n\\uc11c\\ube44\\uc2a4(HSDPA), \\uadf8\\ub9ac\\uace0 \\ucd5c\\uadfc 4G\\uc11c\\ube44\\uc2a4(LTE)\\uc758 \\uacf5\\uaca9\\uc801\\uc778 \\uc11c\\ube44\\uc2a4\\ub9dd \\ud655\\ub300 \\ub4f1\\uc73c\\ub85c\\n\\ud1b5\\uc2e0\\uc2dc\\uc7a5\\uc774 \\uae09\\uaca9\\ud788 \\ubcc0\\ud654\\ub418\\uace0 \\uc788\\uc2b5\\ub2c8\\ub2e4. \\uc774\\ub3d9\\ud1b5\\uc2e0\\uae30\\uc220\\uc740 \\uc77c\\ubc18\\uc801\\uc73c\\ub85c \\uc81c1\\uc138\\ub300\\uc778\\n\\uc544\\ub0a0\\ub85c\\uadf8\\ubc29\\uc2dd(1G), 2\\uc138\\ub300\\uc778 \\ub514\\uc9c0\\ud138\\ubc29\\uc2dd(2G), \\uba40\\ud2f0\\ubbf8\\ub514\\uc5b4 \\ub370\\uc774\\ud130\\uc758 \\uc804\\uc1a1\\uc774 \\uac00\\ub2a5\\ud55c\\n3\\uc138\\ub300 \\uae30\\uc220\\uc778 WCDMA(3G), \\uadf8\\ub9ac\\uace0 \\ubcf4\\ub2e4 \\ube60\\ub974\\uace0 \\uace0\\uc18d \\ub370\\uc774\\ud130 \\ud1b5\\uc2e0\\uc774 \\uac00\\ub2a5\\ud55c 4\\uc138\\ub300\\n\\uae30\\uc220 LTE(4G)\\ub85c \\uad6c\\ubd84\\ub420 \\uc218 \\uc788\\uc2b5\\ub2c8\\ub2e4. \\ucd5c\\uadfc\\uc5d0\\ub294 \\uc2a4\\ub9c8\\ud2b8\\ud3f0 \\uc774\\ud6c4\\uc758 \\ud1b5\\uc2e0\\uc5c5\\uacc4 \\uc131\\uc7a5\\ub3d9\\ub825\\n\\uc73c\\ub85c \\uc190\\uaf3d\\ud788\\ub294 \\uc0ac\\ubb3c\\uc778\\ud130\\ub137(IoT)\\uc758 \\uc2e4\\ud604\\uc744 \\uc704\\ud574\\uc11c\\ub294 \\ud604\\uc7ac\\uc758 \\ud1b5\\uc2e0\\uc18d\\ub3c4\\ubcf4\\ub2e4 \\ud720\\uc52c\\n\\ube68\\ub77c\\uc838\\uc57c \\ud55c\\ub2e4\\ub294 Needs\\uc5d0 \\uc758\\ud574 \\ud55c\\uad6d\\uc744 \\ud3ec\\ud568\\ud55c \\uc815\\ubcf4\\uae30\\uc220(IT) \\uc120\\uc9c4\\uad6d\\uc5d0\\uc11c \\uc81c5\\uc138\\ub300(5G)\\n\\uc774\\ub3d9\\ud1b5\\uc2e0\\uae30\\uc220 \\uc5f0\\uad6c\\uac00 \\ud65c\\ubc1c\\ud558\\uac8c \\uc9c4\\ud589\\ub418\\uace0 \\uc788\\uc2b5\\ub2c8\\ub2e4. \\uc774\\uc640 \\uac19\\uc774 \\ud604\\uc7ac \\uc8fc\\uc694 \\ud1b5\\uc2e0\\uae30\\uc220\\uc758\\n\\ud750\\ub984\\uc740 \\uc81c4\\uc138\\ub300(LTE) \\uae30\\uc220\\uc5d0\\uc11c LTE-A, 3band LTE-A \\ub4f1\\uc744 \\uac70\\uccd0 \\uc81c4\\uc138\\ub300 \\uae30\\uc220\\ubcf4\\ub2e4\\n\\uc218\\ubc31\\ubc30 \\uc774\\uc0c1 \\ube60\\ub978 \\uc81c5\\uc138\\ub300(5G) \\uae30\\uc220\\ub85c \\uc9c4\\ud654\\ud558\\ub294 \\uc911\\uc5d0 \\uc788\\uc2b5\\ub2c8\\ub2e4. \\uc774\\ub7ec\\ud55c LTE\\n\\uc11c\\ube44\\uc2a4\\uc758 \\ub300\\uc911\\ud654 \\ubc0f \\ud5a5\\ud6c4 IoT \\uc11c\\ube44\\uc2a4\\uc758 \\uac1c\\ud654\\ub85c \\uc74c\\uc131 \\ubc0f \\ub370\\uc774\\ud130\\uc758 \\uc804\\uc1a1\\uc18d\\ub3c4\\ub294 \\ub354\\uc6b1\\n\\uc911\\uc694\\ud574\\uc9c0\\uace0 \\ud2b8\\ub798\\ud53d \\ub610\\ud55c \\uae09\\uc99d\\ud560 \\uac83\\uc73c\\ub85c \\uc608\\uc0c1\\ub429\\ub2c8\\ub2e4.\\n(2) \\uc0b0\\uc5c5\\uc758 \\uc131\\uc7a5\\uc131\\n\\ucd5c\\uadfc \\uad6d\\ub0b4 \\uc815\\ubcf4\\ud1b5\\uc2e0\\uc0b0\\uc5c5\\uc740 \\uc81c4\\uc138\\ub300 \\uae30\\uc220\\uc778 LTE\\uc758 \\uc0c1\\uc6a9\\ud654\\uc5d0 \\ub530\\ub77c \\uae30\\uc874 \\uc720\\uc120\\uc5d0\\uc11c\\ub9cc\\n\\uac00\\ub2a5\\ud588\\ub358 \\uc2e4\\uc2dc\\uac04 IPTV \\ubc0f HD\\uae09 \\uace0\\ud654\\uc9c8 VOD \\uc11c\\ube44\\uc2a4 \\ub4f1 \\ub300\\uc6a9\\ub7c9 \\uba40\\ud2f0\\ubbf8\\ub514\\uc5b4 \\ub370\\uc774\\ud0c0\\n\\uc11c\\ube44\\uc2a4\\uac00 \\uc774\\ub3d9\\ud1b5\\uc2e0\\uc11c\\ube44\\uc2a4\\uc5d0\\uc11c\\ub3c4 \\uac00\\ub2a5\\ud558\\uac8c \\ub418\\uc5b4 \\ub370\\uc774\\ud0c0 \\ud2b8\\ub798\\ud53d\\uc774 \\uae09\\uc99d\\ud558\\uace0 \\uc788\\ub294\\n\\ucd94\\uc138\\uc785\\ub2c8\\ub2e4. \\uc774\\ub7ec\\ud55c \\ub124\\ud2b8\\uc6cc\\ud06c \\uc778\\ud504\\ub77c\\uc758 \\ub300\\uc6a9\\ub7c9\\uacfc \\uace0\\uc18d\\ud654\\ub97c \\uc704\\ud574\\uc11c \\uc81c5\\uc138\\ub300(5G) \\uae30\\uc220\\n\\uac1c\\ubc1c\\uc774 \\ud65c\\ubc1c\\ud788 \\uc9c4\\ud589\\ub418\\uace0 \\uc788\\uc73c\\uba70, \\ubbf8\\ub798\\ucc3d\\uc870\\uacfc\\ud559\\ubd80\\ub294 2013\\ub144\\ub3c4\\ub9d0 \\ucd94\\uac00 \\uc8fc\\ud30c\\uc218 \\uacf5\\uae09\\n\\ub9c8\\ub828\\uc744 \\uc704\\ud558\\uc5ec 2023\\ub144\\uae4c\\uc9c0 4\\ub2e8\\uacc4\\uc5d0 \\uac78\\uccd0 1GHz\\ud3ed \\uc774\\uc0c1\\uc758 \\uc8fc\\ud30c\\uc218\\ub97c \\ud68c\\uc218, \\uc7ac\\ubc30\\uce58,\\n\\ud560\\ub2f9\\uc744 \\ud1b5\\ud558\\uc5ec \\ub2e8\\uacc4\\uc801\\uc73c\\ub85c \\ud655\\ubcf4\\ud558\\uaca0\\ub2e4\\ub294 '\\ubaa8\\ubc14\\uc77c \\uad11\\uac1c\\ud1a0 \\ud50c\\ub79c 2.0'\\uc744 \\ud655\\uc815, \\ubc1c\\ud45c\\ud558\\uc600\\uc2b5\\ub2c8\\ub2e4. \\uc774\\ucc98\\ub7fc \\ucc28\\uc138\\ub300 \\uc11c\\ube44\\uc2a4\\ub97c \\uc704\\ud55c \\uc7a5\\ube44\\ud22c\\uc790\\uac00 \\ubcf8\\uaca9\\ud654 \\ub428\\uacfc \\ub3d9\\uc2dc\\uc5d0 \\uc815\\ubd80\\ucc28\\uc6d0\\uc758\\n\\uc9c0\\uc6d0\\uacfc \\uc815\\ucc45\\uc774 \\uc774\\uc5b4\\uc9c0\\uba74\\uc11c \\ud1b5\\uc2e0\\uc7a5\\ube44\\uc2dc\\uc7a5\\uc5d0 \\uc0c8\\ub85c\\uc6b4 \\uc804\\ud658\\uc810\\uc774 \\ub418\\uace0 \\uc788\\uc2b5\\ub2c8\\ub2e4.\\n\\uadf8\\ub9ac\\uace0 \\uc720\\ubb34\\uc120\\ud1b5\\uc2e0\\uc0ac\\uc5c5\\uc790\\ub4e4\\uc758 \\uc778\\uc218\\ud569\\ubcd1, \\uc2e0\\uc131\\uc7a5 \\uc11c\\ube44\\uc2a4 \\uc2dc\\uc7a5 \\uc9c4\\ucd9c \\ub4f1\\uc73c\\ub85c \\ud1b5\\uc2e0\\n\\uc0ac\\uc5c5\\uc790\\uac04\\uc758 \\uc2e0\\uaddc \\uc11c\\ube44\\uc2a4 \\uacbd\\uc7c1\\uc774 \\uce58\\uc5f4\\ud574 \\uc9c0\\uba74\\uc11c \\uc774\\ub85c \\uc778\\ud55c \\ud1b5\\uc2e0\\ubc29\\uc1a1\\uc735\\ud569, \\uc720\\ubb34\\uc120\\ud1b5\\ud569\\n\\ub4f1\\uc758 \\ucee8\\ubc84\\uc804\\uc2a4 \\ud658\\uacbd\\uc73c\\ub85c \\uc804\\ud658\\ub418\\uace0 \\uc788\\uace0, \\uc9c0\\uc18d\\uc801\\uc778 \\uc0ac\\uc5c5\\uc790\\uac04\\uc758 \\uacbd\\uc7c1 \\ubc0f \\uc0c8\\ub85c\\uc6b4 \\ub3cc\\ud30c\\uad6c\\n\\ubaa8\\uc0c9\\uc744 \\uc704\\ud55c \\uc778\\ud55c \\uc2e0\\uae30\\uc220, \\uc2e0\\uc11c\\ube44\\uc2a4 \\uac1c\\ubc1c\\uc758 \\uac00\\uc18d\\ud654\\ub85c \\ud1b5\\uc2e0\\uc7a5\\ube44\\uc758 \\uc218\\uc694\\ub294 \\uc9c0\\uc18d \\uc131\\uc7a5\\n\\ud560 \\uac83\\uc73c\\ub85c \\uc608\\uc0c1\\ub429\\ub2c8\\ub2e4.\\n(3) \\uacbd\\uae30\\ubcc0\\ub3d9\\uc758 \\ud2b9\\uc131\\n\\ud1b5\\uc2e0\\uc7a5\\ube44 \\uc2dc\\uc7a5\\uc740 \\uc9c0\\uc18d\\uc801\\uc778 \\ud1b5\\uc2e0\\uae30\\uc220\\uc758 \\ubc1c\\uc804\\uc5d0 \\ub530\\ub77c \\uae30\\uac04\\ud1b5\\uc2e0 \\uc0ac\\uc5c5\\uc790\\ub4e4\\uc758 \\ud544\\uc694\\uc5d0\\n\\ub530\\ub978 \\ud22c\\uc790 \\uacb0\\uc815\\uc73c\\ub85c \\uc218\\uc694\\uac00 \\ubc1c\\uc0dd\\ub418\\ub294 \\uc2dc\\uc7a5\\uc73c\\ub85c\\uc11c \\uace0\\uc18d\\ub300\\uc6a9\\ub7c9\\uc758 \\uba40\\ud2f0\\ubbf8\\ub514\\uc5b4 \\ub370\\uc774\\ud130\\n\\uc11c\\ube44\\uc2a4\\uc5d0 \\ud544\\uc694\\ud55c \\uc0c8\\ub85c\\uc6b4 \\ud1b5\\uc2e0\\uc7a5\\ube44\\uc758 \\uc218\\uc694\\uac00 \\uafb8\\uc900\\ud788 \\ubc1c\\uc0dd\\ud558\\uace0 \\uc788\\uc2b5\\ub2c8\\ub2e4. \\ub610\\ud55c DMB,\\nIPTV\\uc640 \\uac19\\uc740 \\ubc29\\uc1a1\\ud1b5\\uc2e0\\uc735\\ud569\\uacfc \\uc720\\ubb34\\uc120\\ud1b5\\ud569 \\ub4f1\\uacfc \\uac19\\uc740 \\ub2e4\\uc591\\ud55c \\uc11c\\ube44\\uc2a4\\ub294 \\ud3ec\\ud654 \\uc0c1\\ud0dc\\uc778\\n\\ud1b5\\uc2e0\\uc7a5\\ube44 \\uc2dc\\uc7a5\\uc5d0 \\uc0c8\\ub85c\\uc6b4 \\uae30\\ud68c\\ub85c \\ub2e4\\uac00\\uc624\\uace0 \\uc788\\uc2b5\\ub2c8\\ub2e4. \\ub2e4\\ub9cc \\uad6d\\ub0b4\\uc678 \\uacbd\\uae30\\uac00 \\uacc4\\uc18d \\uce68\\uccb4\\n\\ub418\\uac70\\ub098 \\uc815\\ubd80\\uc640 \\uae30\\uac04 \\ud1b5\\uc2e0 \\uc11c\\ube44\\uc2a4 \\uc0ac\\uc5c5\\uc790 \\ub4f1\\uc758 \\uc815\\ucc45\\uc5d0 \\ubcc0\\ud654\\uac00 \\uc788\\uc744 \\uacbd\\uc6b0\\uc5d0\\ub294 \\ud1b5\\uc2e0\\n\\uc0ac\\uc5c5\\uc790\\uc758 \\ud22c\\uc790\\uac00 \\uc704\\ucd95\\ub420 \\uac00\\ub2a5\\uc131\\uc774 \\uc788\\uace0 \\uc774\\uc5d0 \\ub530\\ub77c \\ub2f9\\uc0ac\\uc758 \\uc2e4\\uc801\\uc5d0 \\ubd80\\uc815\\uc801\\uc778 \\uc601\\ud5a5\\uc744\\n\\ubbf8\\uce60 \\uc218\\ub294 \\uc788\\uc9c0\\ub9cc \\uacc4\\uc808\\uacfc \\uc9c1\\uc811\\uc801\\uc778 \\uc5f0\\uad00\\uc131\\uc740 \\ubbf8\\ubbf8\\ud569\\ub2c8\\ub2e4.\\n(4) \\uacbd\\uc7c1\\uc694\\uc18c\\n\\ud1b5\\uc2e0\\uc7a5\\ube44\\ub294 \\uc7a5\\ube44\\uc5d0 \\ub300\\ud55c \\uace0\\ub3c4\\uc758 \\uc2e0\\ub8b0\\uc131 \\ubc0f \\uc548\\uc815\\uc131\\uacfc \\uc7a5\\ube44 \\uc124\\uce58 \\ubc0f \\uc6b4\\uc6a9 \\uacbd\\ud5d8 \\ub4f1\\uc774\\n\\ub9e4\\uc6b0 \\uc911\\uc694\\ud558\\uae30 \\ub54c\\ubb38\\uc5d0 \\uad00\\ub828 \\ubd84\\uc57c\\uc5d0 \\ub300\\ud55c \\uc804\\ubb38 \\uae30\\uc220 \\ubc0f Know-how\\ub97c \\uad6c\\uc0ac\\ud560 \\uc218 \\uc5c6\\ub294\\n\\uae30\\uc220\\ub825\\uc774 \\ubd80\\uc871\\ud55c \\uc5c5\\uccb4\\ub294 \\uc2dc\\uc7a5\\uc5d0 \\uc2e0\\uaddc \\uc9c4\\uc785\\ud558\\uae30\\uac00 \\ub9e4\\uc6b0 \\uc5b4\\ub835\\uc2b5\\ub2c8\\ub2e4. \\ub300\\ubd80\\ubd84\\uc758 \\uc774\\ub3d9\\n\\ud1b5\\uc2e0\\uc0ac\\uc5c5\\uc790\\ub4e4\\uc740 \\ud22c\\uc790\\uacc4\\ud68d\\uc5d0 \\ub530\\ub77c \\uc911\\uacc4\\uae30 \\ubc0f \\uc804\\uc1a1\\uc7a5\\ube44 \\ud22c\\uc790\\ub97c \\ub2e8\\uae30\\uac04\\uc5d0 \\uc9d1\\uc911\\ud558\\uac8c\\n\\ub418\\ub294 \\ud2b9\\uc131\\uc73c\\ub85c \\uc778\\ud574 \\uc548\\uc815\\uc801\\uc778 \\uae30\\uc220\\uac1c\\ubc1c\\ub2a5\\ub825\\uacfc \\uc801\\uc2dc \\uc0dd\\uc0b0 \\ubc0f \\ub0a9\\ud488\\ub2a5\\ub825, \\uc804\\uad6d\\uc801\\uc778\\nA/S\\uac00 \\uac00\\ub2a5\\ud55c \\uc18c\\uc218\\uc758 \\uc5c5\\uccb4\\ub97c \\uc120\\uc815\\ud558\\uc5ec \\uc790\\uc0ac \\ubaa8\\ub378\\uc758 \\uac1c\\ubc1c, \\uc0dd\\uc0b0, \\ub0a9\\ud488\\uc744 \\uc694\\uad6c\\ud558\\uace0\\n\\uc788\\uc2b5\\ub2c8\\ub2e4. \\ucd5c\\uadfc\\uc5d0\\ub294 \\uae30\\uc220\\ub825\\uc774 \\ubd80\\uc871\\ud55c \\uc911\\uc18c\\uae30\\uc5c5\\uccb4\\ub4e4\\uc774 \\uacbd\\uc7c1 \\uc2ec\\ud654\\ub85c \\uc778\\ud574 \\ub3c4\\ud0dc\\ub418\\uace0\\n\\uc6b0\\uc218\\ud55c \\uc18c\\uc218\\uc758 \\ud611\\ub825\\ud68c\\uc0ac\\ub4e4\\ub85c \\uc2dc\\uc7a5\\uc774 \\uc548\\uc815\\ud654\\ub418\\uc5b4 \\uac00\\uace0 \\uc788\\ub294 \\uc0c1\\ud669\\uc785\\ub2c8\\ub2e4.\\n(5) \\ud604\\ud669 \\ubc0f \\uc804\\ub9dd\\n\\ubc14\\uc774\\uc624\\uc0b0\\uc5c5\\uc740 \\uc0b0\\uc5c5 \\ud2b9\\uc131\\uc0c1 \\uc624\\ub79c \\uc5f0\\uad6c\\uae30\\uac04, \\uc2dc\\uc124 \\ud655\\ucda9\\uc5d0 \\ub530\\ub978 \\ud22c\\uc790\\ube44 \\ub4f1\\uc73c\\ub85c \\ud0c0\\uc0b0\\uc5c5\\uc5d0\\n\\ube44\\ud558\\uc5ec \\uc9c4\\uc785\\uc7a5\\ubcbd\\uc774 \\ub450\\ud141\\uc2b5\\ub2c8\\ub2e4. \\ub530\\ub77c\\uc11c \\uc81c\\ud488 \\uc720\\ud615\\uc5d0 \\ub530\\ub77c \\ub9ce\\uc740 \\uc81c\\ud488\\uc774 \\ub3c5\\uacfc\\uc810 \\uacbd\\uc7c1\\n\\ud615\\ud0dc\\ub97c \\uac00\\uc9c0\\uace0 \\uc788\\uc2b5\\ub2c8\\ub2e4. \\ud55c\\ud3b8, \\ubc14\\uc774\\uc624\\uc0b0\\uc5c5\\uc81c\\ud488 \\ub300\\ubd80\\ubd84\\uc740 \\ucd5c\\uc885 \\uc81c\\ud488 \\uc0dd\\uc0b0\\uc5d0 \\ud544\\uc694\\ud55c\\n\\uc6d0\\uc7ac\\ub8cc \\uc0c1\\ud0dc\\ub85c \\ud310\\ub9e4\\ub428\\uc73c\\ub85c \\uac00\\uaca9\\uacfc \\ud488\\uc9c8\\uc774 \\uc8fc\\ub41c \\uacbd\\uc7c1 \\uc694\\uc18c\\uc785\\ub2c8\\ub2e4.\\n\\ucd5c\\uadfc \\uc2dc\\uc7a5 \\uc131\\uc7a5\\uc5d0 \\ub530\\ub978 \\ub2e4\\uc591\\ud55c \\uacbd\\uc7c1\\uc0ac\\uc758 \\ub4f1\\uc7a5\\uc73c\\ub85c \\ucd94\\uac00\\uc801\\uc778 \\uae30\\uc220\\ub825 \\ud655\\ubcf4\\uac00 \\ud544\\uc694\\ud55c\\n\\uc0c1\\ud669\\uc785\\ub2c8\\ub2e4. \\ub3c5\\uc790\\uc801\\uc778 \\uc6b0\\uc218\\ud55c \\uae30\\uc220 \\ud655\\ubcf4\\ub97c \\uc704\\ud574 \\ub300\\ud559 \\ubc0f \\uad6d\\ub0b4\\uc678 \\uc5c5\\uccb4\\ub4e4\\uacfc\\uc758\\n\\uacf5\\ub3d9\\uac1c\\ubc1c \\ub4f1\\uc758 \\ud65c\\ub3d9\\uc744 \\uc9c4\\ud589\\ud558\\uc5ec \\uae30\\uc220 \\ud655\\ubcf4\\uc5d0 \\ubc15\\ucc28\\ub97c \\uac00\\ud558\\uace0 \\uc788\\uc2b5\\ub2c8\\ub2e4.\\n(6) \\uad00\\ub828\\ubc95\\ub839 \\ub610\\ub294 \\uc815\\ubd80\\uc758 \\uaddc\\uc81c \\ub4f1\\n\\uc6b0\\ub9ac\\ub098\\ub77c\\ub294 \\uc804\\uae30\\ud1b5\\uc2e0\\uae30\\ubcf8\\ubc95 \\uc81c33\\uc870\\uc640 \\uc804\\ud30c\\ubc95 \\uc81c46\\uc870 \\ubc0f \\uc81c57\\uc870\\uc5d0 \\uc758\\uac70, \\uc815\\ubcf4\\ud1b5\\uc2e0\\n\\uae30\\uae30\\uc778\\uc99d\\uaddc\\uce59 \\uc81c3\\uc870\\uc5d0\\uc11c \\uc815\\ud558\\uace0 \\uc788\\ub294 \\uc815\\ubcf4\\ud1b5\\uc2e0\\uae30\\uae30\\ub97c \\uc81c\\uc870, \\uc218\\uc785, \\ud310\\ub9e4\\ud558\\uae30\\n\\uc704\\ud574\\uc11c\\ub294 \\ud615\\uc2dd\\uc2b9\\uc778, \\ud615\\uc2dd\\uac80\\uc815 \\ub610\\ub294 \\ub4f1\\ub85d\\uc744 \\ubc1b\\ub3c4\\ub85d \\uac15\\uc81c \\uaddc\\uc815\\ud558\\uace0 \\uc788\\uc2b5\\ub2c8\\ub2e4.\\n2002\\ub144 7\\uc6d4\\ubd80\\ud130\\ub294 \\uc81c\\ud488\\uc758 \\uacb0\\ud568\\uc73c\\ub85c \\uc18c\\ube44\\uc790\\uc5d0\\uac8c \\ud53c\\ud574\\ub97c \\uc900 \\uacbd\\uc6b0 \\uc81c\\uc870\\uc5c5\\uccb4\\uac00\\n\\uae08\\uc804\\uc801\\uc778 \\uc190\\ud574\\ub97c \\uc18c\\ube44\\uc790\\uc5d0\\uac8c \\ubc30\\uc0c1\\ud1a0\\ub85d \\ud558\\ub294 \\uc81c\\uc870\\ubb3c\\ucc45\\uc784(PL)\\ubc95\\uc774 \\uc2dc\\ud589\\ub418\\uc5b4 \\uc0b0\\uc5c5\\n\\uc804\\ubc18\\uc5d0 \\uac78\\uce5c \\uae30\\uc5c5\\ub4e4\\uc758 \\ucca0\\uc800\\ud55c \\ud488\\uc9c8\\uad00\\ub9ac\\ud65c\\ub3d9\\uc774 \\uc694\\uad6c\\ub418\\uace0 \\uc788\\uc2b5\\ub2c8\\ub2e4. \\ub610\\ud55c \\uc138\\uacc4\\uac01\\uad6d\\uc740\\n\\uc548\\uc804, \\ubcf4\\uac74, \\ud658\\uacbd, \\uc18c\\ube44\\uc790\\ubcf4\\ud638 \\ub4f1 \\uacf5\\uacf5\\ubaa9\\uc801\\uc744 \\ub2ec\\uc131\\ud558\\uae30 \\uc704\\ud558\\uc5ec \\uac15\\uc81c\\uc801\\uc778 \\uae30\\uc220\\uaddc\\uc81c\\ub97c\\n\\uc815\\uc758\\ud558\\uace0 \\uc774\\ub97c \\uc900\\uc218\\ud558\\ub3c4\\ub85d \\uc694\\uad6c\\ud558\\uace0 \\uc788\\ub294\\ub370 WTO \\ud68c\\uc6d0\\uad6d\\uac04\\uc5d0 \\uc0c1\\ud638\\uc778\\uc815\\uc57d\\uc815\\uc11c(MRA\\n:Mutural Recognition Arrangement)\\ub97c \\uccb4\\uacb0\\ud558\\uc5ec \\uc0c1\\ub300\\uad6d \\uc801\\ud569\\uc131 \\ud3c9\\uac00\\uae30\\uad00\\uc774 \\ubc1c\\ud589\\ud55c\\n\\uc2dc\\ud5d8\\uc131\\uc801\\uc11c \\ub610\\ub294 \\uc778\\uc99d\\uc11c,\\u00a0 \\ub9c8\\ud06c \\ub4f1\\uc744 \\uc0c1\\ud638 \\uc778\\uc815\\ud558\\ub294 \\uc81c\\ub3c4\\uac00 \\uc2dc\\ud589\\ub418\\uace0 \\uc788\\uc2b5\\ub2c8\\ub2e4.\\n2. \\ud68c\\uc0ac\\uc758 \\ud604\\ud669\\n\\uac00. \\uacf5\\uc2dc\\ub300\\uc0c1 \\uc0ac\\uc5c5\\ubd80\\ubb38\\uc758 \\uad6c\\ubd84\\n(1) \\uc0ac\\uc5c5\\n\\ubd80\\ubb38\\ubcc4 \\uc694\\uc57d \\uc7ac\\ubb34\\ud604\\ud669\\n\\ub2f9\\n\\uae30\\uc640 \\uc804\\uae30\\uc758 \\ubd80\\ubb38 \\ub9e4\\ucd9c\\uc561 \\ub4f1\\uc740 \\ub2e4\\uc74c\\uacfc \\uac19\\uc2b5\\ub2c8\\ub2e4.\\n\\u2460 \\ub2f9\\uae30\\n(\\ub2e8\\uc704:\\ucc9c\\uc6d0)\\n\\uad6c\\u00a0 \\ubd84\\nIndustry \\uc18c\\uc7ac\\n\\ud654\\ud559\\n\\uc804\\uc790\\uc7ac\\ub8cc\\nBHC\\n\\uae30\\ud0c0\\n\\ud569\\u00a0 \\uacc4\\n\\ucd1d\\ub9e4\\ucd9c\\uc561\\n1,021,493,804\\n770,591,693\\n331,607,269\\n106,255,495\\n309,818,238\\n2,539,766,499\\n\\uc601\\uc5c5\\uc774\\uc775(\\uc190\\uc2e4)\\n33,845,506\\n105,558,039\\n(4,838,238)\\n13,732,910\\n6,782,593\\n155,080,810\\n\\u2461 \\uc804\\uae30\\n(\\ub2e8\\uc704:\\ucc9c\\uc6d0)\\n\\uad6c\\u00a0 \\ubd84\\nIndustry \\uc18c\\uc7ac\\n\\ud654\\ud559\\n\\uc804\\uc790\\uc7ac\\ub8cc\\nBHC\\n\\uae30\\ud0c0\\n\\ud569\\u00a0 \\uacc4\\n\\ucd1d\\ub9e4\\ucd9c\\uc561\\n1,084,084,402\\n870,837,511\\n316,102,196\\n100,589,346\\n396,220,892\\n2,767,834,347\\n\\uc601\\uc5c5\\uc774\\uc775(\\uc190\\uc2e4)\\n(1,970,394)\\n149,387,363\\n22,370,884\\n16,357,517\\n14,983,782\\n201,129,152\\n3. \\uc8fc\\uc694 \\uc81c\\ud488 \\ubc0f \\uc11c\\ube44\\uc2a4 \\ub4f1\\n\\uac00. \\uc8fc\\uc694 \\uc81c\\ud488\\ub4f1\\uc758 \\ud604\\ud669\\n(\\ub2e8\\uc704 : \\uc6d0, %)\\n\\uc0ac\\uc5c5\\ubd80\\ubb38\\n\\ub9e4\\ucd9c\\uc720\\ud615\\n\\ud488\\u00a0\\u00a0 \\ubaa9\\n\\uad6c\\uccb4\\uc801\\uc6a9\\ub3c4\\n\\uc8fc\\uc694\\uc0c1\\ud45c \\ub4f1\\n\\ub9e4\\ucd9c\\uc561(\\ube44\\uc728)\\nIndustry\\n\\uc18c\\uc7ac\\n\\uc81c\\ud488\\nPET FILM \\ub4f1\\n\\uad11\\ud559\\uc6a9,\\n\\ud3ec\\uc7a5\\uc6a9, \\uc0b0\\uc5c5\\uc6a9 \\ub4f1\\nSkyrol\\n\\uc218\\ucd9c\\n447,977,285,365\\n17.6%\\n\\ub0b4\\uc218\\n712,602,104,642\\n28.1%\\n\\ud569\\uacc4\\n1,160,579,390,007\\n45.7%\\n\\ud654\\ud559\\n\\uc81c\\ud488 \\ubc0f\\n\\uc6a9\\uc5ed\\nPOD \\ub4f1\\n\\uc724\\ud65c\\uc81c, \\uc790\\ub3d9\\ucc28,\\n\\ud654\\uc7a5\\ud488,\\uac00\\uc804\\uc81c\\ud488, \\ub2e8\\uc5f4\\uc7ac \\ub4f1\\nSUPER-A\\nGREEN\\n\\uc218\\ucd9c\\n229,491,087,370\\n9.0%\\n\\ub0b4\\uc218\\n541,100,605,193\\n21.3%\\n\\ud569\\uacc4\\n770,591,692,563\\n30.3%\\n\\uc804\\uc790\\uc7ac\\ub8cc\\n\\uc81c\\ud488\\n\\ubc18\\ub3c4\\uccb4 \\uc18c\\uc7ac \\ub4f1\\n\\ubc18\\ub3c4\\uccb4 \\ubd80\\ud488 \\ub4f1\\n-\\n\\uc218\\ucd9c\\n167,068,118,779\\n6.6%\\n\\ub0b4\\uc218\\n170,982,813,167\\n6.7%\\n\\ud569\\uacc4\\n338,050,931,946\\n13.3%\\nBHC\\n\\uc81c\\ud488\\n\\ud654\\uc7a5\\ud488 \\uc6d0\\ub8cc \\ub4f1\\n\\ud654\\uc7a5\\ud488,\\n\\uac74\\uac15\\uae30\\ub2a5\\uc2dd\\ud488 \\ub4f1\\n-\\n\\uc218\\ucd9c\\n24,667,216,335\\n1.0%\\n\\ub0b4\\uc218\\n81,643,645,842\\n3.2%\\n\\ud569\\uacc4\\n106,310,862,177\\n4.2%\\n\\uae30\\ud0c0\\n\\uc81c\\ud488 \\ubc0f\\n\\uc6a9\\uc5ed\\n\\ud1b5\\uc2e0\\uc7a5\\ube44 \\ub4f1\\n\\uc911\\uacc4\\uae30 \\ub4f1\\n-\\n\\uc218\\ucd9c\\n15,819,109\\n0.0%\\n\\ub0b4\\uc218\\n309,802,418,603\\n12.2%\\n\\ud569\\uacc4\\n309,818,237,712\\n12.2%\\n\\uc5f0\\uacb0\\uc870\\uc815\\n-\\n-\\n-\\n-\\n\\uc218\\ucd9c\\n\\u25b347,640,144,379\\n\\u25b31.9%\\n\\ub0b4\\uc218\\n\\u25b397,944,470,866\\n\\u25b33.9%\\n\\ud569\\uacc4\\n\\u25b3145,584,615,245\\n\\u25b35.7%\\n\\ud569\\u00a0 \\u00a0 \\uacc4\\n-\\n\\uc218\\ucd9c\\n821,579,382,579\\n32.3%\\n\\ub0b4\\uc218\\n1,718,187,116,581\\n67.7%\\n\\ud569\\uacc4\\n2,539,766,499,160\\n100.0%\\n[\\u25b3\\ub294 \\ubd80( - )\\uc758 \\uc218\\uce58\\uc784]\\n\\ub098. \\uc8fc\\uc694 \\uc81c\\ud488 \\ub4f1\\uc758 \\uac00\\uaca9\\ubcc0\\ub3d9\\ucd94\\uc774\\n(\\ub2e8\\uc704 : \\uc6d0/kg)\\n\\ud488 \\ubaa9\\n\\ud488 \\ubaa9\\n\\uad6c \\ubd84\\n\\uc81c47\\uae30 \\uc5f0\\uac04\\n\\uc81c46\\uae30 \\uc5f0\\uac04\\n\\uc81c45\\uae30 \\uc5f0\\uac04\\n\\ud654\\ud559\\nPOD(*)\\n\\ub0b4\\uc218\\n1,660\\n1,865\\n1,677\\n\\uc218\\ucd9c\\nIndustry\\uc18c\\uc7ac\\nPET FILM\\n\\ub0b4\\uc218\\n4,210\\n4,066\\n3,888\\n\\uc218\\ucd9c\\n4,358\\n3,776\\n3,745\\n* POD\\ub294 PO \\ubc0f PO \\uc720\\ub3c4\\uccb4\\uc778 PG \\ub4f1\\uc744 \\uc758\\ubbf8\\ud569\\ub2c8\\ub2e4.\\n4. \\uc8fc\\uc694 \\uc6d0\\uc7ac\\ub8cc\\n\\uac00. \\uc8fc\\uc694 \\uc6d0\\uc7ac\\ub8cc \\ub9e4\\uc785\\ud604\\ud669\\n(\\ub2e8\\uc704 : \\ubc31\\ub9cc\\uc6d0)\\n\\uc0ac\\uc5c5\\ubd80\\ubb38\\n\\ud488\\u00a0\\u00a0 \\ubaa9\\n\\uad6c\\uccb4\\uc801\\n\\uc6a9\\ub3c4\\n\\ub9e4\\uc785\\uc561\\n\\ube44\\uace0(\\uc8fc\\uc694\\ub9e4\\uc785\\ucc98)\\n\\ud654\\ud559\\n\\ud504\\ub85c\\ud544\\ub80c, \\ubca4\\uc820 \\ub4f1\\nPO\\uc81c\\uc870\\n318,727\\nSK\\uc885\\ud569\\ud654\\ud559\\nIndustry\\n\\uc18c\\uc7ac\\nDMT\\nPET FILM \\uc81c\\uc870\\n1,663\\nSK\\uc720\\ud654\\nTPA\\n96,035\\n\\ud55c\\ud654\\uc885\\ud569\\ud654\\ud559, \\uc0bc\\ub0a8\\uc11d\\uc720\\ud654\\ud559\\nEG\\n32,797\\nSabic, \\ub86f\\ub370\\ucf00\\ubbf8\\uce7c\\n* EVA, PVDF \\ud488\\ubaa9\\uc758 \\uc6d0\\uc7ac\\ub8cc \\ub9e4\\uc785\\uc740 SKC\\uc5d0\\ucf54\\uc194\\ub8e8\\uc158\\uc988(\\uc8fc)\\ub85c \\uc774\\uad00\\ub418\\uc5c8\\uc2b5\\ub2c8\\ub2e4.\\n\\ub098. \\uc8fc\\uc694 \\uc6d0\\uc7ac\\ub8cc \\ub4f1\\uc758 \\uac00\\uaca9\\ubcc0\\ub3d9\\ucd94\\uc774\\n(\\ub2e8\\uc704 : \\uc6d0/kg)\\n\\ud488 \\ubaa9\\n\\ud488 \\ubaa9\\n\\uc81c47\\uae30 \\uc5f0\\uac04\\n\\uc81c46\\uae30 \\uc5f0\\uac04\\n\\uc81c45\\uae30 \\uc5f0\\uac04\\n\\ud654\\ud559\\n\\ud504\\ub85c\\ud544\\ub80c, \\ubca4\\uc820 \\ub4f1\\n958\\n1,173\\n1,054\\nIndustry\\n\\uc18c\\uc7ac\\nDMT\\n1,384\\n1,395\\n1,288\\nTPA\\n833\\n916\\n754\\nEG\\n669\\n1,010\\n943\\n* EVA, PVDF \\ud488\\ubaa9\\uc758 \\uc6d0\\uc7ac\\ub8cc \\ub9e4\\uc785\\uc740 SKC\\uc5d0\\ucf54\\uc194\\ub8e8\\uc158\\uc988(\\uc8fc)\\ub85c \\uc774\\uad00\\ub418\\uc5c8\\uc2b5\\ub2c8\\ub2e4.\\n5. \\uc0dd\\uc0b0\\ud604\\ud669\\n\\uac00. \\uc0dd\\uc0b0\\ub2a5\\ub825\\n\\uc0ac\\uc5c5\\ubd80\\ubb38\\n\\ud488 \\ubaa9\\n\\uc0ac\\uc5c5\\uc18c\\n\\uc81c47\\uae30 \\uc5f0\\uac04\\n\\uc81c46\\uae30 \\uc5f0\\uac04\\n\\uc81c45\\uae30 \\uc5f0\\uac04\\n\\ud654\\ud559\\nPOD(M/T)\\nSKC\\n460,000\\n460,000\\n427,000\\nIndustry\\n\\uc18c\\uc7ac\\nPET FILM(ton)\\nSKC\\n122,108\\n136,534\\n141,000\\nPET FILM(ton)\\nSKC Inc.\\n72,847\\n72,847\\n72,847\\nPET FILM(ton)\\nSKC Jiangsu\\n32,850\\n32,850\\n32,850\\n\\uac00\\uacf5\\ud544\\ub984(K \\u33a1)\\nSKC\\ud558\\uc774\\ud14c\\ud06c\\uc564\\ub9c8\\ucf00\\ud305\\n159,300\\n146,000\\n115,340\\nMill Base(ton)\\n1,062\\n1,095\\n657\\n\\uc804\\uc790\\uc7ac\\ub8cc\\nAl2O3(\\ubc31\\ub9cc\\uc6d0)\\nSKC\\uc194\\ubbf9\\uc2a4\\n37,930\\n37,930\\n31,418\\nSi(\\ubc31\\ub9cc\\uc6d0)\\n63,815\\n56,813\\n42,691\\nSiC(\\ubc31\\ub9cc\\uc6d0)\\n16,080\\n12,846\\n25,098\\nQ'tz(\\ubc31\\ub9cc\\uc6d0)\\n11,200\\n-\\n-\\nBHC\\n\\ud654\\uc7a5\\ud488\\uc6d0\\ub8cc\\u5916 (\\ubc31\\ub9cc\\uc6d0)\\nSK\\ubc14\\uc774\\uc624\\ub79c\\ub4dc\\n20,000\\n20,000\\n20,000\\n\\uac74\\uac15\\uae30\\ub2a5\\uc131\\uc2dd\\ud488\\u5916 (\\ubc31\\ub9cc\\uc6d0)\\n50,000\\n50,000\\n50,000\\n\\uc758\\ub8cc\\uae30\\uae30\\u5916 (\\ubc31\\ub9cc\\uc6d0)\\n15,000\\n15,000\\n15,000\\n\\ud654\\uc7a5\\ud488\\uc6d0\\ub8cc\\u5916 (\\ubc31\\ub9cc\\uc6d0)\\n30,000\\n30,000\\n30,000\\n\\ud654\\uc7a5\\ud488\\uc6d0\\ub8cc\\u5916 (\\ubc31\\ub9cc\\uc6d0)\\n10,000\\n10,000\\n10,000\\n\\ub098. \\uc0dd\\uc0b0\\ub2a5\\ub825\\uc758 \\uc0b0\\ucd9c\\uadfc\\uac70\\nSKC\\n\\uc0dd\\n\\uc0b0\\ub2a5\\n\\ub825\\uc758\\n\\uc0b0\\n\\ucd9c\\uae30\\n\\uc900\\uc740 \\ucd5c\\n\\ub300\\uc0dd\\uc0b0\\ub2a5\\ub825\\uc774\\uba70, \\uc0b0\\ucd9c\\ubc29\\ubc95\\uc73c\\ub85c\\ub294\\n1\\uc77c\\ud3c9\\uade0\\uac00\\ub3d9\\uc2dc\\uac04\\u00d7 \\uc6d4\\ud3c9\\uade0\\uac00\\ub3d9\\uc77c\\uc218\\u00d7\\uc2dc\\uac04\\ub2f9 \\ucd5c\\ub300\\uc0dd\\uc0b0\\ub7c9\\u00d712\\uac1c\\uc6d4\\n\\uc744 \\uc801\\uc6a9\\ud558\\uc600\\uc73c\\uba70, \\uac01 \\uc801\\uc6a9\\uc694\\uc18c\\ub294\\n\\uc544\\ub798\\uc640 \\uac19\\uc2b5\\ub2c8\\ub2e4.\\n\\ud488\\u00a0 \\u00a0\\u00a0 \\ubaa9\\n1\\uc77c \\ud3c9\\uade0 \\uac00\\ub3d9\\uc2dc\\uac04(Hr)\\n\\uc6d4\\ud3c9\\uade0 \\uac00\\ub3d9\\uc77c\\uc218(\\uc77c)\\n\\uc2dc\\uac04\\ub2f9 \\ucd5c\\uace0 \\uc0dd\\uc0b0\\ub7c9\\nPOD\\n24.0\\n30.0\\n52,714 Kg\\nPET FILM\\n23.4\\n28.1\\n15,500 Kg\\n\\u203b \\uc0c1\\n\\uae30\\n\\uc8fc\\n\\uc694\\n\\uc885\\uc18d\\ud68c\\uc0ac\\ub4e4\\uc758 \\uc0dd\\uc0b0\\ub2a5\\ub825 \\uc0b0\\ucd9c\\uae30\\uc900\\uc740 \\ucd5c\\ub300\\uc0dd\\uc0b0\\ub2a5\\ub825\\uc774\\uba70, \\uc0b0\\ucd9c\\ubc29\\ubc95\\uc73c\\ub85c\\ub294 \\uc2dc\\uac04\\ub2f9 \\ucd5c\\ub300 \\uc0dd\\uc0b0\\ub7c9\\u00d7 24\\uc2dc\\uac04\\u00d7\\uac00\\ub3d9\\uc77c\\uc218 \\uc785\\ub2c8\\ub2e4.\\n\\ub2e4. \\uc0dd\\uc0b0\\uc2e4\\uc801\\n\\uc0ac\\uc5c5\\ubd80\\ubb38\\n\\ud488 \\ubaa9\\n\\uc0ac\\uc5c5\\uc18c\\n\\uc81c47\\uae30 \\uc5f0\\uac04\\n\\uc81c46\\uae30 \\uc5f0\\uac04\\n\\uc81c45\\uae30 \\uc5f0\\uac04\\n\\ud654\\ud559\\nPOD(M/T)\\nSKC\\n469,804\\n446,106\\n405,000\\nIndustry\\n\\uc18c\\uc7ac\\nPET FILM(ton)\\nSKC\\n87,191\\n91,801\\n98,531\\nPET FILM(ton)\\nSKC Inc.\\n39,553\\n43,001\\n44,543\\nPET FILM(ton)\\nSKC Jiangsu\\n37,724\\n34,824\\n33,085\\n\\uac00\\uacf5\\ud544\\ub984(K \\u33a1)\\nSKC\\ud558\\uc774\\ud14c\\ud06c\\uc564\\ub9c8\\ucf00\\ud305\\n127,851\\n118,234\\n99,543\\nMill Base(ton)\\n754\\n843\\n753\\n\\uc804\\uc790\\uc7ac\\ub8cc\\nAl2O3(\\ubc31\\ub9cc\\uc6d0)\\nSKC\\n\\uc194\\ubbf9\\uc2a4\\n21,235\\n29,938\\n30,671\\nSi(\\ubc31\\ub9cc\\uc6d0)\\n63,930\\n52,590\\n41,414\\nSiC(\\ubc31\\ub9cc\\uc6d0)\\n8,929\\n12,447\\n11,075\\nQ'tz(\\ubc31\\ub9cc\\uc6d0)\\n8,256\\n-\\n-\\nBHC\\n\\ud654\\uc7a5\\ud488\\uc6d0\\ub8cc\\u5916(\\ubc31\\ub9cc\\uc6d0)\\nSK\\ubc14\\uc774\\uc624\\ub79c\\ub4dc\\n34,216\\n32,447\\n30,831\\n\\uac74\\uac15\\uae30\\ub2a5\\uc131\\uc2dd\\ud488\\u5916(\\ubc31\\ub9cc\\uc6d0)\\n42,012\\n43,047\\n49,468\\n\\uc758\\ub8cc\\uae30\\uae30\\u5916(\\ubc31\\ub9cc\\uc6d0)\\n16,275\\n12,988\\n14,671\\n\\ud654\\uc7a5\\ud488\\uc6d0\\ub8cc\\u5916(\\ubc31\\ub9cc\\uc6d0)\\n1,365\\n1,260\\n1,402\\n\\ub77c. \\ub2f9\\uae30\\uc758 \\uac00\\ub3d9\\ub960\\n(\\ub2e8\\uc704 : hr, %)\\n\\uc0ac\\uc5c5\\ubd80\\ubb38\\n\\uc0ac\\uc5c5\\uc18c\\n\\ud488\\ubaa9\\n\\ub2f9\\uae30\\uac00\\ub3d9\\uac00\\ub2a5\\uc2dc\\uac04\\n\\ub2f9\\uae30\\uc2e4\\uc81c\\uac00\\ub3d9\\uc2dc\\uac04\\n\\ud3c9\\uade0\\uac00\\ub3d9\\ub960\\n\\ud654\\ud559\\nSKC\\nPOD\\n8,726\\n8,726\\n106.1\\nIndustry\\n\\uc18c\\uc7ac\\nSKC\\nPET FILM\\n15,784\\n11,794\\n74.7\\nSKC Inc.\\nPET FILM\\n35,040\\n22,355\\n63.8\\nSKC Jiangsu\\nPET FILM\\n8,756\\n7,472\\n85.3\\nSKC\\ud558\\uc774\\ud14c\\ud06c\\uc564\\ub9c8\\ucf00\\ud305\\n\\uac00\\uacf5\\ud544\\ub984\\n8,496\\n7,233\\n85.0\\nMill Base\\n8,496\\n6,032\\n71.0\\n\\uc804\\uc790\\uc7ac\\ub8cc\\nSKC\\n\\uc194\\ubbf9\\uc2a4\\nAl2O3\\n48,960\\n26,047\\n53.2\\nSi\\n334,392\\n199,307\\n59.6\\nSiC\\n25,920\\n14,472\\n55.8\\nQ'tz\\n122,640\\n49,056\\n40.0\\nBHC\\nSK\\ubc14\\uc774\\uc624\\ub79c\\ub4dc\\n\\ud654\\uc7a5\\ud488\\uc6d0\\ub8cc \\ub4f1\\n9,600\\n7,041\\n73.3\\n6. \\uc0dd\\uc0b0\\uc124\\ube44\\uc758 \\ud604\\ud669 \\ub4f1\\n[\\uc790\\uc0b0\\ud56d\\ubaa9 : \\ud1a0\\uc9c0]\\n(\\ub2e8\\uc704 : \\ubc31\\ub9cc\\uc6d0)\\n\\ud68c\\uc0ac\\n\\uc18c\\uc7ac\\uc9c0\\n\\uae30\\ucd08\\n\\uc7a5\\ubd80\\uac00\\uc561\\n\\ub2f9\\uae30\\uc99d\\uac10\\n\\ub2f9\\uae30\\n\\uc0c1\\uac01\\n\\uae30\\ub9d0\\n\\uc7a5\\ubd80\\uac00\\uc561\\n\\ube44\\uace0\\n\\uc99d\\uac00\\n\\uac10\\uc18c\\nSKC\\n\\u321c\\n\\uacbd\\uae30\\ub3c4 \\uc218\\uc6d0\\n358,829\\n108\\n-\\n-\\n358,937\\n\\ud654\\ud559,\\nIndustry\\uc18c\\uc7ac, \\uc804\\uc790\\uc7ac\\ub8cc\\nSK\\ud154\\ub808\\uc2dc\\uc2a4\\u321c\\n\\uc11c\\uc6b8 \\uc911\\uad6c\\n3,600\\n-\\n-\\n-\\n3,600\\n\\uc804\\uc790\\uc7ac\\ub8cc,\\uae30\\ud0c0\\nSKC\\ud558\\uc774\\ud14c\\ud06c\\uc564\\ub9c8\\ucf00\\ud305\\n\\u321c\\n\\ucda9\\ub0a8 \\ucc9c\\uc548\\n335\\n9\\n-\\n-\\n344\\nIndustry\\uc18c\\uc7ac\\nSKC\\uc194\\ubbf9\\uc2a4\\u321c\\n\\uacbd\\uae30\\ub3c4 \\ud3c9\\ud0dd\\n36,928\\n-\\n-\\n-\\n36,928\\n\\uc804\\uc790\\uc7ac\\ub8cc\\nSKC\\uc5d0\\ucf54\\uc194\\ub8e8\\uc158\\uc988\\u321c\\n(\\u820a SKW\\u321c)\\n\\ucda9\\ubd81 \\uc9c4\\ucc9c\\n-\\n-\\n-\\n-\\n-\\nIndustry\\uc18c\\uc7ac\\nSK\\ubc14\\uc774\\uc624\\ub79c\\ub4dc\\n\\u321c\\n\\ucda9\\ub0a8 \\ucc9c\\uc548\\n26,990\\n-\\n-\\n-\\n26,990\\nBHC\\n\\uc6b0\\ub9ac\\ud654\\uc778\\ucf10\\n\\u321c\\n\\uacbd\\uae30\\ub3c4 \\uc5f0\\ucc9c\\n903\\n29\\n-\\n-\\n932\\n\\ud654\\ud559\\nSKC Jiangsu\\n\\uc911\\uad6d\\n-\\n-\\n-\\n-\\n-\\nIndustry\\uc18c\\uc7ac\\nSKC PU Specialty Co., Ltd\\n\\ud64d\\ucf69\\n-\\n-\\n-\\n-\\n-\\n\\ud654\\ud559\\nSKC-ENF Electronic Materials Limited\\n\\ud64d\\ucf69\\n-\\n-\\n-\\n-\\n-\\n\\uc804\\uc790\\uc7ac\\ub8cc\\nSKC Inc\\n\\ubbf8\\uad6d\\n9,247\\n534\\n-\\n-\\n9,781\\nIndustry\\uc18c\\uc7ac\\nSKC Europe GmbH\\n\\ub3c5\\uc77c\\n-\\n-\\n-\\n-\\n-\\nIndustry\\uc18c\\uc7ac\\n\\uc18c\\uacc4\\n436,832\\n680\\n-\\n-\\n437,512\\n-\\n[\\uc790\\uc0b0\\ud56d\\ubaa9 : \\uac74\\ubb3c]\\n(\\ub2e8\\uc704 : \\ubc31\\ub9cc\\uc6d0)\\n\\ud68c\\uc0ac\\n\\uc18c\\uc7ac\\uc9c0\\n\\uae30\\ucd08\\n\\uc7a5\\ubd80\\uac00\\uc561\\n\\ub2f9\\uae30\\uc99d\\uac10\\n\\ub2f9\\uae30\\n\\uc0c1\\uac01\\n\\uae30\\ub9d0\\n\\uc7a5\\ubd80\\uac00\\uc561\\n\\ube44\\uace0\\n\\uc99d\\uac00\\n\\uac10\\uc18c\\nSKC\\n\\u321c\\n\\uacbd\\uae30\\ub3c4 \\uc218\\uc6d0\\n107,552\\n1,716\\n(2,788)\\n(5,884)\\n100,596\\n\\ud654\\ud559,\\nIndustry\\uc18c\\uc7ac, \\uc804\\uc790\\uc7ac\\ub8cc\\nSK\\ud154\\ub808\\uc2dc\\uc2a4\\u321c\\n\\uc11c\\uc6b8 \\uc911\\uad6c\\n22,643\\n-\\n(149)\\n(566)\\n21,928\\n\\uc804\\uc790\\uc7ac\\ub8cc,\\uae30\\ud0c0\\nSKC\\ud558\\uc774\\ud14c\\ud06c\\uc564\\ub9c8\\ucf00\\ud305\\n\\u321c\\n\\ucda9\\ub0a8 \\ucc9c\\uc548\\n26,829\\n422\\n(71)\\n(1,684)\\n25,496\\nIndustry\\uc18c\\uc7ac\\nSKC\\uc194\\ubbf9\\uc2a4\\u321c\\n\\uacbd\\uae30\\ub3c4 \\ud3c9\\ud0dd\\n36,486\\n1,212\\n-\\n(2,412)\\n35,286\\n\\uc804\\uc790\\uc7ac\\ub8cc\\nSKC\\uc5d0\\ucf54\\uc194\\ub8e8\\uc158\\uc988\\u321c\\n(\\u820a SKW\\u321c)\\n\\ucda9\\ubd81 \\uc9c4\\ucc9c\\n-\\n-\\n-\\n-\\n-\\nIndustry\\uc18c\\uc7ac\\nSK\\ubc14\\uc774\\uc624\\ub79c\\ub4dc\\n\\u321c\\n\\ucda9\\ub0a8 \\ucc9c\\uc548\\n39,298\\n142\\n-\\n(1,258)\\n38,182\\nBHC\\n\\uc6b0\\ub9ac\\ud654\\uc778\\ucf10\\n\\u321c\\n\\uacbd\\uae30\\ub3c4 \\uc5f0\\ucc9c\\n4,158\\n106\\n-\\n(112)\\n4,152\\n\\ud654\\ud559\\nSKC Jiangsu\\n\\uc911\\uad6d\\n14,215\\n369\\n-\\n(577)\\n14,007\\nIndustry\\uc18c\\uc7ac\\nSKC PU Specialty Co., Ltd\\n\\ud64d\\ucf69\\n-\\n-\\n-\\n-\\n-\\n\\ud654\\ud559\\nSKC-ENF Electronic Materials Limited\\n\\ud64d\\ucf69\\n-\\n-\\n-\\n-\\n-\\n\\uc804\\uc790\\uc7ac\\ub8cc\\nSKC Inc\\n\\ubbf8\\uad6d\\n117,952\\n4,565\\n-\\n(5,392)\\n117,125\\nIndustry\\uc18c\\uc7ac\\nSKC Europe GmbH\\n\\ub3c5\\uc77c\\n-\\n-\\n-\\n-\\n-\\nIndustry\\uc18c\\uc7ac\\n\\uc18c\\uacc4\\n369,133\\n8,532\\n(3,008)\\n(17,885)\\n356,772\\n-\\n[\\uc790\\uc0b0\\ud56d\\ubaa9 : \\uad6c\\ucd95\\ubb3c]\\n(\\ub2e8\\uc704 : \\ubc31\\ub9cc\\uc6d0)\\n\\ud68c\\uc0ac\\n\\uc18c\\uc7ac\\uc9c0\\n\\uae30\\ucd08\\n\\uc7a5\\ubd80\\uac00\\uc561\\n\\ub2f9\\uae30\\uc99d\\uac10\\n\\ub2f9\\uae30\\n\\uc0c1\\uac01\\n\\uae30\\ub9d0\\n\\uc7a5\\ubd80\\uac00\\uc561\\n\\ube44\\uace0\\n\\uc99d\\uac00\\n\\uac10\\uc18c\\nSKC\\n\\u321c\\n\\uacbd\\uae30\\ub3c4 \\uc218\\uc6d0\\n30,295\\n1,094\\n(253)\\n(2,209)\\n28,927\\n\\ud654\\ud559,\\nIndustry\\uc18c\\uc7ac, \\uc804\\uc790\\uc7ac\\ub8cc\\nSK\\ud154\\ub808\\uc2dc\\uc2a4\\u321c\\n\\uc11c\\uc6b8 \\uc911\\uad6c\\n-\\n-\\n-\\n-\\n-\\n\\uc804\\uc790\\uc7ac\\ub8cc,\\uae30\\ud0c0\\nSKC\\ud558\\uc774\\ud14c\\ud06c\\uc564\\ub9c8\\ucf00\\ud305\\n\\u321c\\n\\ucda9\\ub0a8 \\ucc9c\\uc548\\n812\\n444\\n-\\n(88)\\n1,168\\nIndustry\\uc18c\\uc7ac\\nSKC\\uc194\\ubbf9\\uc2a4\\u321c\\n\\uacbd\\uae30\\ub3c4 \\ud3c9\\ud0dd\\n4,692\\n2,054\\n-\\n(884)\\n5,862\\n\\uc804\\uc790\\uc7ac\\ub8cc\\nSKC\\uc5d0\\ucf54\\uc194\\ub8e8\\uc158\\uc988\\u321c\\n(\\u820a SKW\\u321c)\\n\\ucda9\\ubd81 \\uc9c4\\ucc9c\\n9\\n-\\n-\\n(1)\\n8\\nIndustry\\uc18c\\uc7ac\\nSK\\ubc14\\uc774\\uc624\\ub79c\\ub4dc\\n\\u321c\\n\\ucda9\\ub0a8 \\ucc9c\\uc548\\n4,521\\n505\\n-\\n(151)\\n4,875\\nBHC\\n\\uc6b0\\ub9ac\\ud654\\uc778\\ucf10\\n\\u321c\\n\\uacbd\\uae30\\ub3c4 \\uc5f0\\ucc9c\\n264\\n-\\n-\\n(76)\\n188\\n\\ud654\\ud559\\nSKC Jiangsu\\n\\uc911\\uad6d\\n2,792\\n64\\n-\\n(258)\\n2,598\\nIndustry\\uc18c\\uc7ac\\nSKC PU Specialty Co., Ltd\\n\\ud64d\\ucf69\\n-\\n-\\n-\\n-\\n-\\n\\ud654\\ud559\\nSKC-ENF Electronic Materials Limited\\n\\ud64d\\ucf69\\n-\\n-\\n-\\n-\\n-\\n\\uc804\\uc790\\uc7ac\\ub8cc\\nSKC Inc\\n\\ubbf8\\uad6d\\n6,375\\n228\\n-\\n(316)\\n6,287\\nIndustry\\uc18c\\uc7ac\\nSKC Europe GmbH\\n\\ub3c5\\uc77c\\n-\\n-\\n-\\n-\\n-\\nIndustry\\uc18c\\uc7ac\\n\\uc18c\\uacc4\\n49,760\\n4,389\\n(253)\\n(3,983)\\n49,913\\n-\\n[\\uc790\\uc0b0\\ud56d\\ubaa9 : \\uae30\\uacc4\\uc7a5\\uce58]\\n(\\ub2e8\\uc704 : \\ubc31\\ub9cc\\uc6d0)\\n\\ud68c\\uc0ac\\n\\uc18c\\uc7ac\\uc9c0\\n\\uae30\\ucd08\\n\\uc7a5\\ubd80\\uac00\\uc561\\n\\ub2f9\\uae30\\uc99d\\uac10\\n\\ub2f9\\uae30\\n\\uc0c1\\uac01\\n\\uae30\\ub9d0\\n\\uc7a5\\ubd80\\uac00\\uc561\\n\\ube44\\uace0\\n\\uc99d\\uac00\\n\\uac10\\uc18c\\nSKC\\n\\u321c\\n\\uacbd\\uae30\\ub3c4 \\uc218\\uc6d0\\n635,045\\n49,609\\n(9,483)\\n(61,931)\\n613,240\\n\\ud654\\ud559,\\nIndustry\\uc18c\\uc7ac, \\uc804\\uc790\\uc7ac\\ub8cc\\nSK\\ud154\\ub808\\uc2dc\\uc2a4\\u321c\\n\\uc11c\\uc6b8 \\uc911\\uad6c\\n-\\n-\\n-\\n-\\n-\\n\\uc804\\uc790\\uc7ac\\ub8cc,\\uae30\\ud0c0\\nSKC\\ud558\\uc774\\ud14c\\ud06c\\uc564\\ub9c8\\ucf00\\ud305\\n\\u321c\\n\\ucda9\\ub0a8 \\ucc9c\\uc548\\n47,007\\n4,168\\n(2,372)\\n(5,776)\\n43,027\\nIndustry\\uc18c\\uc7ac\\nSKC\\uc194\\ubbf9\\uc2a4\\u321c\\n\\uacbd\\uae30\\ub3c4 \\ud3c9\\ud0dd\\n33,265\\n8,533\\n(70)\\n(7,592)\\n34,136\\n\\uc804\\uc790\\uc7ac\\ub8cc\\nSKC\\uc5d0\\ucf54\\uc194\\ub8e8\\uc158\\uc988\\u321c\\n(\\u820a SKW\\u321c)\\n\\ucda9\\ubd81 \\uc9c4\\ucc9c\\n3,938\\n8\\n-\\n(273)\\n3,673\\nIndustry\\uc18c\\uc7ac\\nSK\\ubc14\\uc774\\uc624\\ub79c\\ub4dc\\n\\u321c\\n\\ucda9\\ub0a8 \\ucc9c\\uc548\\n14,502\\n1,536\\n(2)\\n(3,517)\\n12,519\\nBHC\\n\\uc6b0\\ub9ac\\ud654\\uc778\\ucf10\\n\\u321c\\n\\uacbd\\uae30\\ub3c4 \\uc5f0\\ucc9c\\n1,757\\n157\\n-\\n(420)\\n1,494\\n\\ud654\\ud559\\nSKC Jiangsu\\n\\uc911\\uad6d\\n96,408\\n4,219\\n-\\n(5,690)\\n94,937\\nIndustry\\uc18c\\uc7ac\\nSKC PU Specialty Co., Ltd\\n\\ud64d\\ucf69\\n-\\n-\\n-\\n-\\n-\\n\\ud654\\ud559\\nSKC-ENF Electronic Materials Limited\\n\\ud64d\\ucf69\\n-\\n-\\n-\\n-\\n-\\n\\uc804\\uc790\\uc7ac\\ub8cc\\nSKC Inc\\n\\ubbf8\\uad6d\\n88,230\\n9,298\\n(246)\\n(10,129)\\n87,153\\nIndustry\\uc18c\\uc7ac\\nSKC Europe GmbH\\n\\ub3c5\\uc77c\\n-\\n-\\n-\\n-\\n-\\nIndustry\\uc18c\\uc7ac\\n\\uc18c\\uacc4\\n920,152\\n77,528\\n(12,173)\\n(95,328)\\n890,179\\n-\\n[\\uc790\\uc0b0\\ud56d\\ubaa9 : \\ucc28\\ub7c9\\uc6b4\\ubc18\\uad6c]\\n(\\ub2e8\\uc704 : \\ubc31\\ub9cc\\uc6d0)\\n\\ud68c\\uc0ac\\n\\uc18c\\uc7ac\\uc9c0\\n\\uae30\\ucd08\\n\\uc7a5\\ubd80\\uac00\\uc561\\n\\ub2f9\\uae30\\uc99d\\uac10\\n\\ub2f9\\uae30\\n\\uc0c1\\uac01\\n\\uae30\\ub9d0\\n\\uc7a5\\ubd80\\uac00\\uc561\\n\\ube44\\uace0\\n\\uc99d\\uac00\\n\\uac10\\uc18c\\nSKC\\n\\u321c\\n\\uacbd\\uae30\\ub3c4 \\uc218\\uc6d0\\n75\\n72\\n-\\n(46)\\n102\\n\\ud654\\ud559,\\nIndustry\\uc18c\\uc7ac, \\uc804\\uc790\\uc7ac\\ub8cc\\nSK\\ud154\\ub808\\uc2dc\\uc2a4\\u321c\\n\\uc11c\\uc6b8 \\uc911\\uad6c\\n-\\n-\\n-\\n-\\n-\\n\\uc804\\uc790\\uc7ac\\ub8cc,\\uae30\\ud0c0\\nSKC\\ud558\\uc774\\ud14c\\ud06c\\uc564\\ub9c8\\ucf00\\ud305\\n\\u321c\\n\\ucda9\\ub0a8 \\ucc9c\\uc548\\n17\\n47\\n-\\n(15)\\n49\\nIndustry\\uc18c\\uc7ac\\nSKC\\uc194\\ubbf9\\uc2a4\\u321c\\n\\uacbd\\uae30\\ub3c4 \\ud3c9\\ud0dd\\n54\\n17\\n-\\n(18)\\n53\\n\\uc804\\uc790\\uc7ac\\ub8cc\\nSKC\\uc5d0\\ucf54\\uc194\\ub8e8\\uc158\\uc988\\u321c\\n(\\u820a SKW\\u321c)\\n\\ucda9\\ubd81 \\uc9c4\\ucc9c\\n-\\n-\\n-\\n-\\n-\\nIndustry\\uc18c\\uc7ac\\nSK\\ubc14\\uc774\\uc624\\ub79c\\ub4dc\\n\\u321c\\n\\ucda9\\ub0a8 \\ucc9c\\uc548\\n364\\n69\\n-\\n(156)\\n277\\nBHC\\n\\uc6b0\\ub9ac\\ud654\\uc778\\ucf10\\n\\u321c\\n\\uacbd\\uae30\\ub3c4 \\uc5f0\\ucc9c\\n-\\n-\\n-\\n-\\n-\\n\\ud654\\ud559\\nSKC Jiangsu\\n\\uc911\\uad6d\\n-\\n-\\n-\\n-\\n-\\nIndustry\\uc18c\\uc7ac\\nSKC PU Specialty Co., Ltd\\n\\ud64d\\ucf69\\n-\\n-\\n-\\n-\\n-\\n\\ud654\\ud559\\nSKC-ENF Electronic Materials Limited\\n\\ud64d\\ucf69\\n-\\n-\\n-\\n-\\n-\\n\\uc804\\uc790\\uc7ac\\ub8cc\\nSKC Inc\\n\\ubbf8\\uad6d\\n46\\n60\\n-\\n(22)\\n84\\nIndustry\\uc18c\\uc7ac\\nSKC Europe GmbH\\n\\ub3c5\\uc77c\\n-\\n-\\n-\\n-\\n-\\nIndustry\\uc18c\\uc7ac\\n\\uc18c\\uacc4\\n556\\n265\\n-\\n(257)\\n565\\n-\\n[\\uc790\\uc0b0\\ud56d\\ubaa9 : \\uacf5\\uae30\\uad6c\\ube44\\ud488]\\n(\\ub2e8\\uc704 : \\ubc31\\ub9cc\\uc6d0)\\n\\ud68c\\uc0ac\\n\\uc18c\\uc7ac\\uc9c0\\n\\uae30\\ucd08\\n\\uc7a5\\ubd80\\uac00\\uc561\\n\\ub2f9\\uae30\\uc99d\\uac10\\n\\ub2f9\\uae30\\n\\uc0c1\\uac01\\n\\uae30\\ub9d0\\n\\uc7a5\\ubd80\\uac00\\uc561\\n\\ube44\\uace0\\n\\uc99d\\uac00\\n\\uac10\\uc18c\\nSKC\\n\\u321c\\n\\uacbd\\uae30\\ub3c4 \\uc218\\uc6d0\\n5,718\\n3,542\\n(5)\\n(2,322)\\n6,932\\n\\ud654\\ud559,\\nIndustry\\uc18c\\uc7ac, \\uc804\\uc790\\uc7ac\\ub8cc\\nSK\\ud154\\ub808\\uc2dc\\uc2a4\\u321c\\n\\uc11c\\uc6b8 \\uc911\\uad6c\\n4,397\\n4,886\\n(381)\\n(1,662)\\n7,240\\n\\uc804\\uc790\\uc7ac\\ub8cc,\\uae30\\ud0c0\\nSKC\\ud558\\uc774\\ud14c\\ud06c\\uc564\\ub9c8\\ucf00\\ud305\\n\\u321c\\n\\ucda9\\ub0a8 \\ucc9c\\uc548\\n939\\n1,329\\n-\\n(538)\\n1,730\\nIndustry\\uc18c\\uc7ac\\nSKC\\uc194\\ubbf9\\uc2a4\\u321c\\n\\uacbd\\uae30\\ub3c4 \\ud3c9\\ud0dd\\n1,747\\n1,107\\n-\\n(671)\\n2,183\\n\\uc804\\uc790\\uc7ac\\ub8cc\\nSKC\\uc5d0\\ucf54\\uc194\\ub8e8\\uc158\\uc988\\u321c\\n(\\u820a SKW\\u321c)\\n\\ucda9\\ubd81 \\uc9c4\\ucc9c\\n47\\n145\\n-\\n(47)\\n145\\nIndustry\\uc18c\\uc7ac\\nSK\\ubc14\\uc774\\uc624\\ub79c\\ub4dc\\n\\u321c\\n\\ucda9\\ub0a8 \\ucc9c\\uc548\\n2,440\\n1,124\\n(1)\\n(957)\\n2,606\\nBHC\\n\\uc6b0\\ub9ac\\ud654\\uc778\\ucf10\\n\\u321c\\n\\uacbd\\uae30\\ub3c4 \\uc5f0\\ucc9c\\n41\\n14\\n-\\n(14)\\n41\\n\\ud654\\ud559\\nSKC Jiangsu\\n\\uc911\\uad6d\\n374\\n30\\n(5)\\n(234)\\n165\\nIndustry\\uc18c\\uc7ac\\nSKC PU Specialty Co., Ltd\\n\\ud64d\\ucf69\\n-\\n-\\n-\\n-\\n-\\n\\ud654\\ud559\\nSKC-ENF Electronic Materials Limited\\n\\ud64d\\ucf69\\n32\\n1\\n(29)\\n-\\n4\\n\\uc804\\uc790\\uc7ac\\ub8cc\\nSKC Inc\\n\\ubbf8\\uad6d\\n1,270\\n90\\n-\\n(618)\\n742\\nIndustry\\uc18c\\uc7ac\\nSKC Europe GmbH\\n\\ub3c5\\uc77c\\n2\\n-\\n-\\n-\\n2\\nIndustry\\uc18c\\uc7ac\\n\\uc18c\\uacc4\\n17,006\\n12,268\\n(421)\\n(7,063)\\n21,790\\n-\\n[\\uc790\\uc0b0\\ud56d\\ubaa9 : \\uac74\\uc124\\uc911\\uc778\\uc790\\uc0b0]\\n(\\ub2e8\\uc704 : \\ubc31\\ub9cc\\uc6d0)\\n\\ud68c\\uc0ac\\n\\uc18c\\uc7ac\\uc9c0\\n\\uae30\\ucd08\\n\\uc7a5\\ubd80\\uac00\\uc561\\n\\ub2f9\\uae30\\uc99d\\uac10\\n\\ub2f9\\uae30\\n\\uc0c1\\uac01\\n\\uae30\\ub9d0\\n\\uc7a5\\ubd80\\uac00\\uc561\\n\\ube44\\uace0\\n\\uc99d\\uac00\\n\\uac10\\uc18c\\nSKC\\n\\u321c\\n\\uacbd\\uae30\\ub3c4 \\uc218\\uc6d0\\n83,661\\n121,951\\n(59,785)\\n-\\n145,827\\n\\ud654\\ud559,\\nIndustry\\uc18c\\uc7ac, \\uc804\\uc790\\uc7ac\\ub8cc\\nSK\\ud154\\ub808\\uc2dc\\uc2a4\\u321c\\n\\uc11c\\uc6b8 \\uc911\\uad6c\\n-\\n-\\n-\\n-\\n-\\n\\uc804\\uc790\\uc7ac\\ub8cc,\\uae30\\ud0c0\\nSKC\\ud558\\uc774\\ud14c\\ud06c\\uc564\\ub9c8\\ucf00\\ud305\\n\\u321c\\n\\ucda9\\ub0a8 \\ucc9c\\uc548\\n7,873\\n51,408\\n(3,153)\\n-\\n56,128\\nIndustry\\uc18c\\uc7ac\\nSKC\\uc194\\ubbf9\\uc2a4\\u321c\\n\\uacbd\\uae30\\ub3c4 \\ud3c9\\ud0dd\\n5,014\\n9,438\\n(3,548)\\n-\\n10,904\\n\\uc804\\uc790\\uc7ac\\ub8cc\\nSKC\\uc5d0\\ucf54\\uc194\\ub8e8\\uc158\\uc988\\u321c\\n(\\u820a SKW\\u321c)\\n\\ucda9\\ubd81 \\uc9c4\\ucc9c\\n-\\n-\\n-\\n-\\n-\\nIndustry\\uc18c\\uc7ac\\nSK\\ubc14\\uc774\\uc624\\ub79c\\ub4dc\\n\\u321c\\n\\ucda9\\ub0a8 \\ucc9c\\uc548\\n17,289\\n16,719\\n(3,536)\\n-\\n30,472\\nBHC\\n\\uc6b0\\ub9ac\\ud654\\uc778\\ucf10\\n\\u321c\\n\\uacbd\\uae30\\ub3c4 \\uc5f0\\ucc9c\\n-\\n-\\n-\\n-\\n-\\n\\ud654\\ud559\\nSKC Jiangsu\\n\\uc911\\uad6d\\n1,596\\n7,928\\n(5,540)\\n-\\n3,984\\nIndustry\\uc18c\\uc7ac\\nSKC PU Specialty Co., Ltd\\n\\ud64d\\ucf69\\n13,628\\n7,329\\n-\\n-\\n20,957\\n\\ud654\\ud559\\nSKC-ENF Electronic Materials Limited\\n\\ud64d\\ucf69\\n24,885\\n18,383\\n-\\n-\\n43,268\\n\\uc804\\uc790\\uc7ac\\ub8cc\\nSKC Inc\\n\\ubbf8\\uad6d\\n7,035\\n8,168\\n(4,759)\\n-\\n10,444\\nIndustry\\uc18c\\uc7ac\\nSKC Europe GmbH\\n\\ub3c5\\uc77c\\n-\\n-\\n-\\n-\\n-\\nIndustry\\uc18c\\uc7ac\\n\\uc18c\\uacc4\\n160,981\\n241,324\\n(80,321)\\n-\\n321,984\\n-\\n[\\uc790\\uc0b0\\ud56d\\ubaa9 : \\uc0ac\\uc6a9\\uad8c \\uc790\\uc0b0]\\n(\\ub2e8\\uc704 : \\ubc31\\ub9cc\\uc6d0)\\n\\ud68c\\uc0ac\\n\\uc18c\\uc7ac\\uc9c0\\n\\uae30\\ucd08\\n\\uc7a5\\ubd80\\uac00\\uc561\\n\\ub2f9\\uae30\\uc99d\\uac10\\n\\ub2f9\\uae30\\n\\uc0c1\\uac01\\n\\uae30\\ub9d0\\n\\uc7a5\\ubd80\\uac00\\uc561\\n\\ube44\\uace0\\n\\uc99d\\uac00\\n\\uac10\\uc18c\\nSKC\\n\\u321c\\n\\uacbd\\uae30\\ub3c4 \\uc218\\uc6d0\\n10,048\\n2,548\\n(11)\\n(4,300)\\n8,286\\n\\ud654\\ud559,\\nIndustry\\uc18c\\uc7ac, \\uc804\\uc790\\uc7ac\\ub8cc\\nSK\\ud154\\ub808\\uc2dc\\uc2a4\\u321c\\n\\uc11c\\uc6b8 \\uc911\\uad6c\\n1,101\\n824\\n(231)\\n(480)\\n1,214\\n\\uc804\\uc790\\uc7ac\\ub8cc,\\uae30\\ud0c0\\nSKC\\ud558\\uc774\\ud14c\\ud06c\\uc564\\ub9c8\\ucf00\\ud305\\n\\u321c\\n\\ucda9\\ub0a8 \\ucc9c\\uc548\\n1,218\\n29,270\\n(399)\\n(610)\\n29,479\\nIndustry\\uc18c\\uc7ac\\nSKC\\uc194\\ubbf9\\uc2a4\\u321c\\n\\uacbd\\uae30\\ub3c4 \\ud3c9\\ud0dd\\n711\\n1,242\\n(302)\\n(676)\\n975\\n\\uc804\\uc790\\uc7ac\\ub8cc\\nSKC\\uc5d0\\ucf54\\uc194\\ub8e8\\uc158\\uc988\\u321c\\n(\\u820a SKW\\u321c)\\n\\ucda9\\ubd81 \\uc9c4\\ucc9c\\n22,683\\n724\\n(1)\\n(5,027)\\n18,379\\nIndustry\\uc18c\\uc7ac\\nSK\\ubc14\\uc774\\uc624\\ub79c\\ub4dc\\n\\u321c\\n\\ucda9\\ub0a8 \\ucc9c\\uc548\\n525\\n49\\n(47)\\n(233)\\n294\\nBHC\\n\\uc6b0\\ub9ac\\ud654\\uc778\\ucf10\\n\\u321c\\n\\uacbd\\uae30\\ub3c4 \\uc5f0\\ucc9c\\n-\\n-\\n-\\n-\\n-\\n\\ud654\\ud559\\nSKC Jiangsu\\n\\uc911\\uad6d\\n-\\n-\\n-\\n-\\n-\\nIndustry\\uc18c\\uc7ac\\nSKC PU Specialty Co., Ltd\\n\\ud64d\\ucf69\\n-\\n-\\n-\\n-\\n-\\n\\ud654\\ud559\\nSKC-ENF Electronic Materials Limited\\n\\ud64d\\ucf69\\n-\\n-\\n-\\n-\\n-\\n\\uc804\\uc790\\uc7ac\\ub8cc\\nSKC Inc\\n\\ubbf8\\uad6d\\n-\\n-\\n-\\n-\\n-\\nIndustry\\uc18c\\uc7ac\\nSKC Europe GmbH\\n\\ub3c5\\uc77c\\n-\\n-\\n-\\n-\\n-\\nIndustry\\uc18c\\uc7ac\\n\\uc5f0\\uacb0\\uc870\\uc815\\n-\\n2,468\\n(27,372)\\n-\\n2,218\\n(22,686)\\n-\\n\\uc18c\\uacc4\\n38,754\\n7,285\\n(991)\\n(9,108)\\n35,941\\n-\\n7. \\ub9e4\\ucd9c\\uc5d0 \\uad00\\ud55c \\uc0ac\\ud56d\\n(\\ub2e8\\uc704 : \\uc6d0)\\n\\uc0ac\\uc5c5\\n\\ubd80\\ubb38\\n\\ub9e4\\ucd9c\\n\\uc720\\ud615\\n\\ud488 \\ubaa9\\n\\uc81c47\\uae30\\n\\uc81c46\\uae30\\n\\uc81c45\\uae30\\nIndustry\\n\\uc18c\\uc7ac\\n\\uc81c\\ud488\\nPET FILM \\ub4f1\\n\\uc218\\ucd9c\\n447,977,285,365\\n492,333,388,492\\n660,404,139,833\\n\\ub0b4\\uc218\\n712,602,104,642\\n776,296,948,091\\n349,420,585,402\\n\\ud569\\uacc4\\n1,160,579,390,007\\n1,268,630,336,583\\n1,009,824,725,235\\n\\ud654\\ud559\\n\\uc81c\\ud488\\n\\ubc0f\\n\\uc6a9\\uc5ed\\nPOD \\ub4f1\\n\\uc218\\ucd9c\\n229,491,087,370\\n204,367,910,360\\n140,571,989,661\\n\\ub0b4\\uc218\\n541,100,605,193\\n666,469,600,686\\n644,807,738,254\\n\\ud569\\uacc4\\n770,591,692,563\\n870,837,511,046\\n785,379,727,915\\n\\uc804\\uc790\\uc7ac\\ub8cc\\n\\uc81c\\ud488\\n\\ubc18\\ub3c4\\uccb4 \\uc18c\\uc7ac \\ub4f1\\n\\uc218\\ucd9c\\n167,068,118,779\\n170,456,098,494\\n152,263,804,795\\n\\ub0b4\\uc218\\n170,982,813,167\\n148,396,272,197\\n115,794,083,757\\n\\ud569\\uacc4\\n338,050,931,946\\n318,852,370,691\\n268,057,888,552\\nBHC\\n\\uc81c\\ud488\\n\\ud654\\uc7a5\\ud488 \\uc6d0\\ub8cc \\ub4f1\\n\\uc218\\ucd9c\\n24,667,216,335\\n18,694,510,106\\n21,650,550,803\\n\\ub0b4\\uc218\\n81,643,645,842\\n81,894,836,023\\n80,900,629,035\\n\\ud569\\uacc4\\n106,310,862,177\\n100,589,346,129\\n102,551,179,838\\n\\uae30\\ud0c0\\n\\uc81c\\ud488\\n\\ubc0f\\n\\uc6a9\\uc5ed\\n\\ud1b5\\uc2e0\\uc7a5\\ube44 \\ub4f1\\n\\uc218\\ucd9c\\n15,819,109\\n-\\n201,907,176\\n\\ub0b4\\uc218\\n309,802,418,603\\n397,518,455,238\\n487,528,986,667\\n\\ud569\\uacc4\\n309,818,237,712\\n397,518,455,238\\n487,730,893,843\\n\\uc5f0\\uacb0\\uc870\\uc815\\n\\uc218\\ucd9c\\n\\u25b347,640,144,379\\n\\u25b393,843,097,402\\n-\\n\\ub0b4\\uc218\\n\\u25b397,944,470,866\\n\\u25b394,750,575,002\\n-\\n\\ud569\\uacc4\\n\\u25b3145,584,615,245\\n\\u25b3188,593,672,404\\n-\\n\\ud569\\u00a0\\u00a0 \\uacc4\\n\\uc218\\ucd9c\\n821,579,382,579\\n792,008,810,050\\n975,092,392,268\\n\\ub0b4\\uc218\\n1,718,187,116,581\\n1,975,825,537,233\\n1,678,452,023,115\\n\\ud569\\uacc4\\n2,539,766,499,160\\n2,767,834,347,283\\n2,653,544,415,383\\n[\\u25b3\\ub294 \\ubd80( - )\\uc758 \\uc218\\uce58\\uc784]\\n8. \\ud310\\ub9e4\\uacbd\\ub85c \\ubc0f \\ud310\\ub9e4\\ubc29\\ubc95 \\ub4f1\\n\\uad6c\\ubd84\\n\\ubd80\\ubb38\\n\\ub0b4\\uc5ed\\nSKC\\n\\ud654\\ud559\\nIndustry\\uc18c\\uc7ac\\n\\uc804\\uc790\\uc7ac\\ub8cc\\n\\uac00. \\ud310\\ub9e4\\uc870\\uc9c1\\n\\uc0ac \\uc5c5 \\ubd80 \\ubb38\\n\\uc778\\uc6d0\\uc218\\n\\ube44\\u00a0\\u00a0 \\uace0\\n\\ud654\\ud559\\n17\\n-\\nIndustry\\uc18c\\uc7ac\\n35\\n-\\n\\uc804\\uc790\\uc7ac\\ub8cc\\n11\\n-\\n\\ub098. \\ud310\\ub9e4\\uacbd\\ub85c\\n\\ub2f9\\uc0ac\\uc758 \\ud310\\ub9e4\\uacbd\\ub85c\\ub294 \\uc9c1\\uc811\\ud310\\ub9e4 \\ubc0f \\ub300\\ub9ac\\uc810 \\ub4f1\\uc744 \\ud1b5\\ud55c \\ub0b4\\uc218 \\ud310\\ub9e4\\uc640\\nLocal L/C \\ubc0f \\uc9c1\\uc811 \\uc218\\ucd9c\\uc744 \\ud1b5\\ud55c \\uc218\\ucd9c \\ud310\\ub9e4\\ub85c \\uad6c\\ubd84\\ub429\\ub2c8\\ub2e4.\\n\\ub2e4. \\ud310\\ub9e4\\ubc29\\ubc95 \\ubc0f \\uc870\\uac74\\n\\ub2f9\\uc0ac\\uc758 \\ud310\\ub9e4\\ubc29\\ubc95\\uc740 \\uc8fc\\ubb38\\uc5d0 \\ub530\\ub978 \\ub0a9\\ud488, \\uad6d\\ub0b4 \\ub300\\ub9ac\\uc810 \\ud310\\ub9e4, \\ub300\\ud615\\uc18c\\ub9e4\\uc0c1 \\ud310\\ub9e4 \\ub4f1\\uc73c\\ub85c \\uad6c\\ubd84\\ub429\\ub2c8\\ub2e4.\\n\\ub77c. \\ud310\\ub9e4\\uc804\\ub7b5\\n(1) \\ub0b4\\uc218 : \\ub300\\ub9ac\\uc810 \\uccb4\\uc81c \\ubc0f \\uc9c1\\ud310 \\uccb4\\uc81c\\ub97c \\ub3d9\\uc2dc\\uc5d0 \\uad6c\\ucd95\\ud558\\uc5ec \\uc804\\uad6d\\uc2dc\\uc7a5\\uc744 \\uc11d\\uad8c\\n(2) \\uc218\\ucd9c : \\uc138\\uacc4\\uc2dc\\uc7a5\\uc744 \\ubb34\\ub300\\ub85c \\uc8fc\\uc694\\uc2dc\\uc7a5\\uc5d0 \\ub300\\ud558\\uc5ec \\ud604\\uc9c0\\ubc95\\uc778\\uc758 \\ub9c8\\ucf00\\ud305\\uc744\\n\\ud65c\\uc6a9\\ud558\\uace0 \\uae30\\ud0c0 \\uc9c0\\uc5ed\\uc5d0 \\uc788\\uc5b4\\uc11c\\ub294 \\ub300\\ub9ac\\uc810 \\uccb4\\uacc4\\ub97c \\uad6c\\ucd95\\ud558\\uc5ec \\uc138\\uacc4\\uc801\\uc778 \\ud310\\ub9e4\\ub9dd \\ud615\\uc131\\nSK\\ud154\\ub808\\uc2dc\\uc2a4\\n\\uae30\\ud0c0\\n\\uc804\\uc790\\uc7ac\\ub8cc\\n\\uac00. \\ud310\\ub9e4 \\uc870\\uc9c1\\n(2019. 12. 31 \\uae30\\uc900)\\n\\ud310\\ub9e4\\uc870\\uc9c1\\ub3c4\\n\\ub098. \\ud310\\ub9e4 \\uacbd\\ub85c\\n\\ub2f9\\uc0ac\\ub294 \\uc9c1\\uc811 \\ud310\\ub9e4\\ub97c \\ud1b5\\ud55c \\ub0b4\\uc218 \\ud310\\ub9e4\\uc640 L/C \\ubc0f \\uc9c1\\uc811 \\uc218\\ucd9c\\uc744 \\ud1b5\\ud55c \\uc218\\ucd9c \\ud310\\ub9e4\\ub85c \\uad6c\\ubd84\\ub429\\ub2c8\\ub2e4.\\n\\ub2e4. \\ud310\\ub9e4 \\ubc29\\ubc95 \\ubc0f \\uc870\\uac74\\n\\ub2f9\\uc0ac\\ub294 \\uace0\\uac1d\\uc758 \\uc8fc\\ubb38\\uc5d0 \\ub530\\ub978 \\uc9c1\\uc811 \\ub0a9\\ud488\\uacfc \\uc804\\uc790\\uc0c1\\uac70\\ub798 \\ud310\\ub9e4 \\ub4f1\\uc73c\\ub85c \\uad6c\\ubd84\\ub429\\ub2c8\\ub2e4.\\n\\ub77c. \\ud310\\ub9e4 \\uc804\\ub7b5\\n(1) \\ub0b4\\uc218 : \\uc9c1\\uc811 \\ud310\\ub9e4 \\uccb4\\uc81c\\ub97c \\uc6b4\\uc601\\ud558\\uace0 \\uc788\\uc2b5\\ub2c8\\ub2e4.\\n(2) \\uc218\\ucd9c : \\ud604\\uc9c0\\ubc95\\uc778 \\ubc0f \\ud604\\uc9c0\\uc0ac\\ubb34\\uc18c\\ub97c \\ud65c\\uc6a9\\ud558\\uc5ec \\ud310\\ub9e4\\ub9dd\\uc744 \\ud615\\uc131\\ud558\\uace0 \\uc788\\uc2b5\\ub2c8\\ub2e4.\\nSKC\\uc194\\ubbf9\\uc2a4\\n\\uc804\\uc790\\uc7ac\\ub8cc\\n\\uac00. \\ud310\\ub9e4\\uc870\\uc9c1\\n\\uc601\\uc5c5\\uc870\\uc9c1\\ub3c4\\n\\ub098. \\ud310\\ub9e4\\uacbd\\ub85c\\n\\uc0ac\\uc5c5\\n\\ubd80\\ubb38\\n\\ub9e4\\ucd9c\\n\\uc720\\ud615\\n\\ud488 \\ubaa9\\n\\uad6c\\ubd84\\n\\ud310\\ub9e4\\uacbd\\ub85c\\n\\ud30c\\uc778\\n\\uc138\\ub77c\\ubbf9\\uc2a4\\n\\ubd80\\ubb38\\n\\uc81c\\ud488\\n\\ub9e4\\ucd9c\\nAl2O3, Si, SiC, Quartz\\n\\uae30\\ud0c0\\n\\uc218 \\ucd9c\\n\\ub2f9\\uc0ac \\u2192\\ud574\\uc678 \\ud604\\uc9c0\\ubc95\\uc778 \\u2192 Buyer\\n\\ub2f9\\uc0ac \\u2192 Buyer\\n\\ub0b4 \\uc218\\n\\ub2f9\\uc0ac \\u2192 Buyer\\n\\uc138\\uc815\\n\\ub9e4\\ucd9c\\n\\uc138\\uc815\\ud488\\n\\uc218 \\ucd9c\\n\\ub2f9\\uc0ac \\u2192\\ud574\\uc678 \\ud604\\uc9c0\\ubc95\\uc778 \\u2192 Buyer\\n\\ub2f9\\uc0ac \\u2192 Buyer\\n\\ub0b4 \\uc218\\n\\ub2f9\\uc0ac \\u2192 Buyer\\n\\ub2e4. \\ud310\\ub9e4\\ubc29\\ubc95 \\ubc0f \\uc870\\uac74\\n\\ub2f9\\uc0ac\\uc758\\n\\uc601\\uc5c5\\ubd80\\uc11c\\uac00 \\uc9c1\\uc811 \\ub9e4\\ucd9c\\ucc98\\uc640 \\uc811\\ucd09\\ud558\\uc5ec \\ud310\\ub9e4\\ud558\\ub294 \\ubc29\\ubc95\\uc73c\\ub85c\\n\\uac01 \\ub9e4\\ucd9c\\ucc98 \\ub9c8\\ub2e4 \\uacb0\\uc81c\\uc870\\uac74\\uc740 \\ub2e4\\ub974\\ub098, \\ud1b5\\uc0c1 \\ud604\\uae08\\uacb0\\uc81c \\ub610\\ub294 90\\uc77c\\uc774\\ub0b4\\uc758 \\uc804\\uc790\\uc5b4\\uc74c \\ubc0f \\uad6c\\ub9e4\\uce74\\ub4dc\\uc785\\ub2c8\\ub2e4.\\n\\ub77c. \\ud310\\ub9e4\\uc804\\ub7b5\\n1) \\uad6d\\ub0b4\\uc601\\uc5c5\\n\\ud604\\uc7ac\\uae4c\\uc9c0 \\uc8fc\\uc694\\ud55c \\uacfc\\uc81c\\uac00 \\ub418\\uc5c8\\ub358 \\uac83\\ucc98\\ub7fc \\ubc18\\ub3c4\\uccb4\\uc6a9 \\ud30c\\uc778\\uc138\\ub77c\\ubbf9\\uc2a4 \\uc81c\\ud488\\uc5d0 \\uc788\\uc5b4\\uc11c \\uc544\\uc9c1\\uae4c\\uc9c0\\ub3c4 \\uad6d\\uc0b0\\ud654\\uac00 \\ub418\\uc5b4\\uc9c0\\uc9c0 \\ubabb\\ud55c \\uc81c\\ud488\\ub4e4\\uc740 \\ub9ce\\uc2b5\\ub2c8\\ub2e4. \\uc774\\ub294 \\uc2e0\\uc18c\\uc7ac \\uc0b0\\uc5c5\\uc774 \\ucde8\\uc57d\\ud558\\uc5ec \\uc18c\\uc7ac\\uc790\\uccb4\\ub97c \\uc0dd\\uc0b0\\ud558\\uc9c0 \\ubabb\\ud558\\ub294 \\uad6d\\ub0b4\\uc2e4\\uc815\\uacfc \\uc0c8\\ub85c\\uc6b4 \\uc18c\\uc7ac\\uc5d0 \\ub300\\ud55c \\uc815\\ubc00\\uac00\\uacf5\\uae30\\uc220\\uc758 \\ubd80\\uc871\\uc73c\\ub85c \\uae30\\uc778\\ub418\\ub294 \\uacbd\\uc6b0\\uac00 \\ub300\\ubd80\\ubd84\\uc785\\ub2c8\\ub2e4. \\uacb0\\uad6d \\uc2e0\\uc18c\\uc7ac\\uc0b0\\uc5c5\\uc5d0 \\uc788\\uc5b4\\uc11c \\uad6d\\uc0b0\\ud654\\uc758 \\ubb38\\uc81c\\ub294 \\uc2e0\\uc18c\\uc7ac\\uc758 \\ubc1c\\uad74\\uacfc \\uc815\\ubc00\\uac00\\uacf5\\uae30\\uc220\\uc758 \\uac1c\\ubc1c\\uc744 \\ud1b5\\ud558\\uc5ec \\uac00\\ub2a5\\ud55c \\uac83\\uc785\\ub2c8\\ub2e4. \\ub530\\ub77c\\uc11c, \\ub2f9\\uc0ac\\ub294 \\uc774\\ub7ec\\ud55c \\uc2e0\\uc18c\\uc7ac\\uc758 \\ubc1c\\uad74\\uacfc \\uc815\\ubc00\\uac00\\uacf5\\uae30\\uc220\\uc758 \\uac1c\\ubc1c\\uc744 \\ud1b5\\ud558\\uc5ec \\ubc18\\ub3c4\\uccb4\\uc6a9 \\ud30c\\uc778\\uc138\\ub77c\\ubbf9\\uc2a4 \\uad6d\\ub0b4\\uc2dc\\uc7a5\\uc5d0 \\uc788\\uc5b4\\uc11c \\uae30\\uc874\\uc758 \\ud574\\uc678\\uc5c5\\uccb4\\uac00 \\uc810\\ud558\\uace0 \\uc788\\ub294 \\uc2dc\\uc7a5\\uc744 \\uad6d\\uc0b0\\ud654\\ud558\\ub294 \\ub370\\uc5d0 \\ucd5c\\uc120\\uc744 \\ub2e4\\ud558\\ub294 \\uac83\\uc774 \\uad6d\\ub0b4\\uc601\\uc5c5\\uc758 \\ucd5c\\ub300 \\ud310\\ub9e4\\uc804\\ub7b5\\uc774\\ub77c\\uace0 \\ud560 \\uc218 \\uc788\\uc2b5\\ub2c8\\ub2e4.\\n2) \\ud574\\uc678\\uc601\\uc5c5\\n\\ub2f9\\uc0ac\\ub294 \\uad6d\\uc81c\\ubd80\\ud488\\uac00\\uaca9\\uc774 \\uad6d\\ub0b4\\ubd80\\ud488\\uac00\\uaca9\\ubcf4\\ub2e4\\ub294 \\ub192\\uac8c \\ud615\\uc131\\ub418\\uace0 \\uc788\\ub2e4\\ub294 \\uac83\\uacfc \\uad6d\\ub0b4\\uc2dc\\uc7a5\\uc5d0\\uc11c \\ubc18\\ub3c4\\uccb4\\uc0dd\\uc0b0\\uc744 \\uc120\\ub3c4\\ud558\\ub294 \\uae30\\uc5c5\\uacfc\\uc758 \\uac70\\ub798\\ub97c \\ud1b5\\ud55c \\ud488\\uc9c8\\uc5d0 \\ub300\\ud55c \\uc790\\uc2e0\\uac10\\uc744 \\uae30\\ubc18\\uc73c\\ub85c \\ud574\\uc678\\ud604\\uc9c0\\ubc95\\uc778 \\ub4f1\\uc744 \\ud1b5\\ud558\\uc5ec \\uc218\\ucd9c\\uc744 \\ud558\\uace0 \\uc788\\uc2b5\\ub2c8\\ub2e4. \\ub2f9\\uc0ac\\uc758 \\ud574\\uc678\\uc601\\uc5c5\\ubd80\\ub294 \\uadf8 \\ub3d9\\uc548 \\ub204\\uc801\\ub41c \\ud574\\uc678\\uc601\\uc5c5\\ub178\\ud558\\uc6b0\\ub97c \\ubc14\\ud0d5\\uc73c\\ub85c \\uc77c\\ubcf8, \\ubbf8\\uad6d, \\ub300\\ub9cc, \\uc911\\uad6d, \\uc2f1\\uac00\\ud3f4, \\uc720\\ub7fd \\ub4f1\\uc9c0\\uc5d0\\uc11c \\uc801\\uadf9\\uc801\\uc778 \\uc2dc\\uc7a5\\ucc3d\\ucd9c \\ubc0f \\uc2dc\\uc7a5\\uacf5\\ub7b5\\uc5d0 \\ub098\\uc11c\\uace0 \\uc788\\ub294 \\uc0c1\\ud669\\uc73c\\ub85c \\uc9c1\\uc811\\ub9c8\\ucf00\\ud305\\uc774 \\uc911\\uc694\\ud55c \\ud310\\ub9e4\\uc804\\ub7b5\\uc785\\ub2c8\\ub2e4. \\uc544\\uc6b8\\ub7ec 2018\\ub144\\ubd80\\ud130 \\uacf5\\uae09 \\ucc44\\ub110 \\ub2e4\\ubcc0\\ud654 \\ubc0f Global Top Tier \\uace0\\uac1d \\ud655\\ubcf4 \\uc804\\ub7b5\\uc744 \\ud1b5\\ud574 \\uc9c0\\uc18d\\uc801\\uc778 \\ub9c8\\ucf00\\ud305 \\ud65c\\ub3d9\\uc744 \\uc804\\uac1c\\ud558\\uace0 \\uc788\\uc2b5\\ub2c8\\ub2e4.\\nSKC Inc.\\nIndustry\\uc18c\\uc7ac\\n\\uac00. \\ud310\\ub9e4 \\uc870\\uc9c1\\n\\uc0ac \\uc5c5 \\ubd80 \\ubb38\\n\\ub2e8\\uc704\\uc870\\uc9c1\\n\\uc778\\uc6d0\\uc218\\n\\ube44 \\uace0\\nIndustry\\uc18c\\uc7ac\\nFilm Sales Team\\n19\\nCSR, Marketing \\uc778\\ub825 \\ud3ec\\ud568\\n\\ub098. \\ud310\\ub9e4 \\uacbd\\ub85c\\n(1)\\n\\ub0b4\\uc218 : \\ubbf8\\uad6d \\ub0b4 End Customer\\n(2) \\uc218\\ucd9c : End Customer, SKC Local \\ubc95\\uc778 \\uacbd\\uc720 \\ud310\\ub9e4\\n\\ub2e4. \\ud310\\ub9e4\\uc804\\ub7b5\\n(1) \\ub0b4\\uc218 : \\ubbf8\\uc8fc \\ub0b4 Captive User\\uc5d0 \\ub300\\ud55c \\uacf5\\ub7b5 \\uac15\\ud654\\n(2) \\uc218\\ucd9c : Local \\ubc95\\uc778\\uc774 \\uc788\\ub294 \\uacbd\\uc6b0 -\\u00a0 Local \\ubc95\\uc778\\uc758 \\ub9c8\\ucf00\\ud305 \\ud65c\\uc6a9\\uc5d0 \\uc9d1\\uc911\\n\\uae30\\ud0c0 \\uc9c0\\uc5ed\\uc758 \\uacbd\\uc6b0 - \\ub300\\ub9ac\\uc810 \\ubc0f \\uc9c1\\ud310 \\uccb4\\uacc4 \\uad6c\\ucd95\\nSKC (Jiangsu)\\nHigh Tech\\nPlastics\\nIndustry\\uc18c\\uc7ac\\n\\uac00. \\ud310\\ub9e4 \\uc870\\uc9c1\\n\\uc0ac \\uc5c5 \\ubd80 \\ubb38\\n\\ub2e8\\uc704\\uc870\\uc9c1\\n\\uc778\\uc6d0\\uc218\\n\\ube44 \\uace0\\nIndustry\\uc18c\\uc7ac\\nFilm Sales Team\\n16\\n-\\n\\ub098. \\ud310\\ub9e4 \\uacbd\\ub85c\\n(1) \\ub0b4\\uc218 : \\uc911\\uad6d \\ub0b4 End Customer\\n(2) \\uc218\\ucd9c : End Customer, SKC(\\uc8fc) \\uacbd\\uc720 \\ud310\\ub9e4\\n\\ub2e4. \\ud310\\ub9e4\\uc804\\ub7b5\\n(1) \\ub0b4\\uc218 : \\uc911\\uad6d \\ub0b4 Captive User\\uc5d0 \\ub300\\ud55c \\uacf5\\ub7b5 \\uac15\\ud654\\n(2) \\uc218\\ucd9c : Local \\ubc95\\uc778\\uc774 \\uc788\\ub294 \\uacbd\\uc6b0 -\\u00a0 Local \\ubc95\\uc778\\uc758 \\ub9c8\\ucf00\\ud305 \\ud65c\\uc6a9\\uc5d0 \\uc9d1\\uc911\\n\\uae30\\ud0c0 \\uc9c0\\uc5ed\\uc758 \\uacbd\\uc6b0 - SKC(\\uc8fc) \\ud611\\ub825 \\uccb4\\uacc4 \\uad6c\\ucd95\\nSKC\\ud558\\uc774\\ud14c\\ud06c\\uc564\\n\\ub9c8\\ucf00\\ud305\\nIndustry\\uc18c\\uc7ac\\n\\uac00. \\ud310\\ub9e4 \\uc870\\uc9c1\\n\\uc0ac \\uc5c5 \\ubd80 \\ubb38\\n\\ub2e8\\uc704\\uc870\\uc9c1\\n\\uc778\\uc6d0\\uc218\\n\\ube44 \\uace0\\nIndustry\\n\\uc18c\\uc7ac\\nDisplay\\uc18c\\uc7ac\\ub9c8\\ucf00\\ud305\\n10\\n\\uad11\\ud559\\ud544\\ub984, \\ubcf5\\ud569\\ud544\\ub984 \\ub4f1\\nMillbase\\ub9c8\\ucf00\\ud305\\n4\\nMillbase\\nIT\\uc18c\\uc7ac\\ub9c8\\ucf00\\ud305\\n7\\n\\uc774\\ud615\\ud544\\ub984 \\ub4f1\\nMobile\\uc18c\\uc7ac\\ub9c8\\ucf00\\ud305\\n7\\n\\ub370\\ucf54\\ub808\\uc774\\uc158\\ud544\\ub984 \\ub4f1\\n\\ub098. \\ud310\\ub9e4 \\uacbd\\ub85c\\n(1) \\ub0b4\\uc218 : \\uad6d\\ub0b4 End Customer\\n(2) \\uc218\\ucd9c : End Customer, \\uc911\\uad6d, \\ub300\\ub9cc, \\ud3f4\\ub780\\ub4dc \\ubc95\\uc778 \\uacbd\\uc720 \\ud310\\ub9e4\\n\\ub2e4. \\ud310\\ub9e4\\uc804\\ub7b5\\n(1) \\ub0b4\\uc218 : \\uad6d\\ub0b4 \\uc804\\ub7b5 \\uace0\\uac1d\\uc744 \\uc911\\uc2ec\\uc73c\\ub85c \\ub9e4\\ucd9c \\ud655\\ub300\\n(2) \\uc218\\ucd9c : \\ud604\\uc9c0 \\ubc95\\uc778\\uacfc \\ud611\\ub825 \\ub9c8\\ucf00\\ud305 \\uc9c4\\ud589\\ud558\\uc5ec \\ub9e4\\ucd9c \\ud655\\ub300\\nSK\\ubc14\\uc774\\uc624\\ub79c\\ub4dc\\nBHC\\n\\uac00. \\ud310\\ub9e4\\ucc98 \\ubc0f \\uacb0\\uc81c\\uc870\\uac74\\n\\ud310 \\ub9e4 \\ucc98\\n\\uacb0 \\uc81c \\uc870 \\uac74\\n\\ube44 \\uace0\\n(\\uc8fc)\\uc544\\ubaa8\\ub808\\ud37c\\uc2dc\\ud53d\\n\\uad6c\\ub9e4\\uc790\\uae08(1\\uac1c\\uc6d4 \\ud6c4 \\ud604\\uae08)\\n-\\n(\\uc8fc)\\uc5d8\\uc9c0\\uc0dd\\ud65c\\uac74\\uac15\\n\\uad6c\\ub9e4\\uc790\\uae08(1\\uac1c\\uc6d4 \\ud6c4 \\ud604\\uae08)\\n-\\n(\\uc8fc)\\ucf54\\uc2a4\\uba54\\uce74\\ucf54\\ub9ac\\uc544\\n\\uad6c\\ub9e4\\uc790\\uae08(3\\uac1c\\uc6d4 \\ud6c4 \\ud604\\uae08)\\n-\\n(\\uc8fc)\\ucf54\\uc2a4\\ub9e5\\uc2a4\\n\\uad6c\\ub9e4\\uc790\\uae08(3\\uac1c\\uc6d4 \\ud6c4 \\ud604\\uae08)\\n-\\n\\uae30\\u00a0\\u00a0 \\ud0c0\\n\\ud604\\uae08 \\ubc0f \\uc5b4\\uc74c, \\uad6c\\ub9e4\\uc790\\uae08\\n-\\n\\ub098. \\ud310\\ub9e4\\ubc29\\ubc95\\n(1) \\uad6d\\ub0b4 \\ub9c8\\ucf13 \\uc810\\uc720\\uc728 \\uc0c1\\uc704\\uc5c5\\uccb4(ex.\\uc544\\ubaa8\\ub808\\ud37c\\uc2dc\\ud53d, LG, \\ucf54\\uc2a4\\uba54\\uce74\\ucf54\\ub9ac\\uc544, \\ucf54\\uc2a4\\ub9e5\\uc2a4 \\ub4f1)\\n- \\uac01 \\uc7a5\\uc5c5\\uc0ac \\uc5f0\\uad6c\\uc18c\\uc758 \\uc601\\uc5c5\\ud65c\\ub3d9 \\ubc0f \\uc5f0\\uad6c\\uc18c\\uac04\\uc758 Co-work \\ud615\\ud0dc\\uc758 \\uc601\\uc5c5\\n- \\ucd95\\uc801\\ub41c \\uae30\\uc220\\ub808\\ubc84\\ub9ac\\uc9c0\\ub97c \\ud65c\\uc6a9\\ud55c \\uae30\\uc220 \\uc601\\uc5c5\\n(2) \\uc790\\uc0ac \\uc601\\uc5c5 \\ud65c\\ub3d9\\ub825\\uc774 \\ubbf8\\uce58\\uc9c0 \\uc54a\\ub294 \\uc5c5\\uccb4\\n- \\uc8fc\\uae30\\uc801\\uc778 \\uc790\\uc0ac\\uc81c\\ud488 \\ud310\\ub9e4\\ub9dd\\uc744 \\uc18c\\uc720\\ud55c \\ub514\\uc2a4\\ud2b8\\ub9ac\\ubdf0\\ud130(\\ub300\\ub9ac\\uc810)\\uc758 \\uad50\\uc721\\uc744 \\ud1b5\\ud55c\\n\\uc9c0\\uc18d\\uc801\\uc778 \\ud64d\\ubcf4 \\ubc0f \\uc601\\uc5c5\\n(3) \\ud574\\uc678 \\uc601\\uc5c5\\n- \\uc9c0\\uc18d\\uc801\\uc778 \\ud574\\uc678\\uc804\\uc2dc\\ud68c \\ucc38\\uac00, \\uac01\\uad6d\\uc758 \\ub514\\uc2a4\\ud2b8\\ub9ac\\ubdf0\\ud130\\ub97c \\ud1b5\\ud55c \\uc790\\uc0ac\\ud64d\\ubcf4 \\ubc0f \\ub9c8\\n\\ucf00\\ud305\\n-\\nSKC(\\uc8fc) \\uae00\\ub85c\\ubc8c \\ub9c8\\ucf00\\ud305 \\ub124\\ud2b8\\uc6cc\\ud06c \\ud65c\\uc6a9\\n\\ub2e4. \\ud310\\ub9e4\\uc804\\ub7b5\\n(1) \\uc218\\uc785\\uc6d0\\ub8cc \\ub300\\uccb4 : \\ub300\\ubd80\\ubd84 \\uc218\\uc785\\uc5d0 \\uc758\\uc874\\ud558\\ub294 \\ud654\\uc7a5\\ud488\\uc6d0\\ub8cc\\uc758 \\uad6d\\uc0b0\\ud654\\ub97c \\ud1b5\\ud55c \\uc218\\uc785 \\ub300\\uccb4\\n(2) \\uc218\\ucd9c\\uc99d\\ub300 : \\uc54c\\ubd80\\ud2f4, \\ud788\\uc54c\\ub8e8\\ub860\\uc0b0 \\ub4f1\\uc758 \\uae00\\ub85c\\ubc8c \\uacbd\\uc7c1\\ub825\\uc744 \\uac16\\ucd98 Specialty \\uc18c\\uc7ac\\uc758\\n\\uc9c0\\uc18d\\uc801\\uc778 \\uac1c\\ubc1c\\uacfc SKC \\uae00\\ub85c\\ubc8c \\ub9c8\\ucf00\\ud305 \\uac70\\uc810\\uc744 \\ud65c\\uc6a9\\ud55c \\uc2dc\\uc7a5\\uc810\\uc720\\uc728 \\ud655\\ub300\\n(3) \\uc7a0\\uc7ac\\uc2dc\\uc7a5\\uac1c\\ubc1c : \\uc758\\uc57d\\ud488, \\uc2dd\\ud488 \\uad00\\ub828 \\uc2e0\\uaddc\\uc544\\uc774\\ud15c\\uc758 \\ub860\\uce6d\\uacfc OEM/ODM \\ub4f1 \\uc218\\uc9c1\\n\\uacc4\\uc5f4\\ud654 \\ucd94\\uc9c4\\n(4) \\uc2e0\\uaddc\\uc2dc\\uc7a5 \\uac1c\\ubc1c : Wound care \\uad00\\ub828 \\ud574\\uc678 \\uc778\\uc99d\\uc744 \\uc9c4\\ud589\\ud558\\uace0, \\uc0c8\\ub85c\\uc6b4 \\uae30\\uc220 \\uae30\\ubc18\\uc758\\n\\uc81c\\ud488\\uad70\\uc744 \\ud0d0\\uc0c9/\\ubc1c\\uad74 \\ubc0f \\uc2e0\\uaddc\\uc2dc\\uc7a5 \\uac1c\\ubc1c\\uc744 \\uc704\\ud55c \\uad00\\ub828\\uc5c5\\uc885 \\uc2e0\\uc0ac\\uc5c5 \\ub860\\uce6d \\ub4f1\\n(5) Value-chain \\ud655\\ub300 : \\uac74\\uac15\\uae30\\ub2a5\\uc2dd\\ud488 \\uc0c1\\ud488\\uae30\\ud68d ODM \\ube44\\uc988\\ub2c8\\uc2a4 \\ubaa8\\ub378 \\ub860\\uce6d \\ub4f1\\n9. \\uc2dc\\uc7a5\\uc704\\ud5d8\\uacfc \\uc704\\ud5d8\\uad00\\ub9ac\\n\\uad6c\\ubd84\\n\\ub0b4\\uc5ed\\nSKC\\n\\uae08\\uc735\\uc0c1\\ud488\\uacfc \\uad00\\ub828\\ud558\\uc5ec \\uc5f0\\uacb0\\uc2e4\\uccb4\\ub294 \\uc2e0\\uc6a9\\uc704\\ud5d8, \\uc720\\ub3d9\\uc131\\uc704\\ud5d8 \\ubc0f \\uc2dc\\uc7a5\\uc704\\ud5d8\\uc5d0 \\ub178\\ucd9c\\ub418\\uc5b4 \\uc788\\uc2b5\\ub2c8\\ub2e4. \\ubcf8 \\uc8fc\\uc11d\\uc740 \\uc5f0\\uacb0\\uc2e4\\uccb4\\uac00 \\ub178\\ucd9c\\ub418\\uc5b4 \\uc788\\ub294 \\uc704\\uc758 \\uc704\\ud5d8\\uc5d0 \\ub300\\ud55c \\uc815\\ubcf4\\uc640 \\uc5f0\\uacb0\\uc2e4\\uccb4\\uc758 \\ubaa9\\ud45c, \\uc815\\ucc45, \\uc704\\ud5d8 \\ud3c9\\uac00 \\ubc0f \\uad00\\ub9ac \\uc808\\ucc28, \\uadf8\\ub9ac\\uace0 \\uc790\\ubcf8\\uad00\\ub9ac\\uc5d0 \\ub300\\ud574 \\uacf5\\uc2dc\\ud558\\uace0 \\uc788\\uc2b5\\ub2c8\\ub2e4. \\ucd94\\uac00\\uc801\\uc778 \\uacc4\\ub7c9\\uc801 \\uc815\\ubcf4\\uc5d0 \\ub300\\ud574\\uc11c\\ub294 \\ubcf8 \\uc5f0\\uacb0\\uc7ac\\ubb34\\uc81c\\ud45c \\uc804\\ubc18\\uc5d0 \\uac78\\uccd0\\uc11c \\uacf5\\uc2dc\\ub418\\uc5b4 \\uc788\\uc2b5\\ub2c8\\ub2e4.\\n(1)\\n\\uc704\\ud5d8\\uad00\\ub9ac \\uc815\\ucc45\\n\\uc5f0\\uacb0\\uc2e4\\uccb4\\uc758 \\uc704\\ud5d8\\uad00\\ub9ac \\uc815\\ucc45\\uc740 \\uc5f0\\uacb0\\uc2e4\\uccb4\\uac00 \\uc9c1\\uba74\\ud55c \\uc704\\ud5d8\\uc744 \\uc2dd\\ubcc4 \\ubc0f \\ubd84\\uc11d\\ud558\\uace0, \\uc801\\uc808\\ud55c \\uc704\\ud5d8 \\ud55c\\uacc4\\uce58 \\ubc0f \\ud1b5\\uc81c\\ub97c \\uc124\\uc815\\ud558\\uace0, \\uc704\\ud5d8\\uc774 \\ud55c\\uacc4\\uce58\\ub97c \\ub118\\uc9c0 \\uc54a\\ub3c4\\ub85d \\ud558\\uae30 \\uc704\\ud574 \\uc218\\ub9bd\\ub418\\uc5c8\\uc2b5\\ub2c8\\ub2e4. \\uc704\\ud5d8\\uad00\\ub9ac\\uc815\\ucc45\\uacfc \\uc2dc\\uc2a4\\ud15c\\uc740 \\uc2dc\\uc7a5 \\uc0c1\\ud669\\uacfc \\uc5f0\\uacb0\\uc2e4\\uccb4 \\ud65c\\ub3d9\\uc758 \\ubcc0\\uacbd\\uc744 \\ubc18\\uc601\\ud558\\uae30 \\uc704\\ud574 \\uc815\\uae30\\uc801\\uc73c\\ub85c \\uac80\\ud1a0\\ub418\\uace0 \\uc788\\uc2b5\\ub2c8\\ub2e4. \\uc5f0\\uacb0\\uc2e4\\uccb4\\ub294 \\ud6c8\\ub828 \\ubc0f \\uad00\\ub9ac\\uae30\\uc900, \\uc808\\ucc28\\ub97c \\ud1b5\\ud574 \\ubaa8\\ub4e0 \\uc885\\uc5c5\\uc6d0\\ub4e4\\uc774 \\uc790\\uc2e0\\uc758 \\uc5ed\\ud560\\uacfc \\uc758\\ubb34\\ub97c \\uc774\\ud574\\ud560 \\uc218 \\uc788\\ub294 \\uc5c4\\uaca9\\ud558\\uace0 \\uad6c\\uc870\\uc801\\uc778 \\ud1b5\\uc81c\\ud658\\uacbd\\uc744 \\uad6c\\ucd95\\ud558\\ub294 \\uac83\\uc744 \\ubaa9\\ud45c\\ub85c \\ud558\\uace0 \\uc788\\uc2b5\\ub2c8\\ub2e4.\\n\\uc5f0\\uacb0\\uc2e4\\uccb4\\uc758 \\uac10\\uc0ac\\uc704\\uc6d0\\ud68c\\ub294 \\uacbd\\uc601\\uc9c4\\uc774 \\uc5f0\\uacb0\\uc2e4\\uccb4\\uc758 \\uc704\\ud5d8\\uad00\\ub9ac \\uc815\\ucc45 \\ubc0f \\uc808\\ucc28\\uc758 \\uc900\\uc218\\uc5ec\\ubd80\\ub97c\\uc5b4\\ub5bb\\uac8c \\uad00\\ub9ac\\ud558\\ub294\\uc9c0 \\uac10\\ub3c5\\ud558\\uace0, \\uc5f0\\uacb0\\uc2e4\\uccb4\\uc758 \\uc704\\ud5d8\\uad00\\ub9ac\\uccb4\\uacc4\\uac00 \\uc801\\uc808\\ud55c\\uc9c0 \\uac80\\ud1a0\\ud569\\ub2c8\\ub2e4. \\ub0b4\\ubd80\\uac10\\uc0ac\\ub294 \\uac10\\uc0ac\\uc704\\uc6d0\\ud68c\\uc758 \\uac10\\ub3c5\\uae30\\ub2a5\\uc744 \\ubcf4\\uc870\\ud558\\uc5ec, \\uc704\\ud5d8\\uad00\\ub9ac \\ud1b5\\uc81c \\ubc0f \\uc808\\ucc28\\uc5d0 \\ub300\\ud55c \\uc815\\uae30 \\ubc0f\\ud2b9\\ubcc4 \\uac80\\ud1a0\\ub97c \\uc218\\ud589\\ud558\\uace0 \\uacb0\\uacfc\\ub294 \\uac10\\uc0ac\\uc704\\uc6d0\\ud68c\\uc5d0 \\ubcf4\\uace0\\ud558\\uace0 \\uc788\\uc2b5\\ub2c8\\ub2e4.\\n(2) \\uc2e0\\uc6a9\\uc704\\ud5d8\\n\\uc2e0\\uc6a9\\uc704\\ud5d8\\uc774\\ub780 \\uace0\\uac1d\\uc774\\ub098 \\uac70\\ub798\\uc0c1\\ub300\\ubc29\\uc774 \\uae08\\uc735\\uc0c1\\ud488\\uc5d0 \\ub300\\ud55c \\uacc4\\uc57d\\uc0c1\\uc758 \\uc758\\ubb34\\ub97c \\uc774\\ud589\\ud558\\uc9c0 \\uc54a\\uc544 \\uc5f0\\uacb0\\uc2e4\\uccb4\\uac00 \\uc7ac\\ubb34\\uc190\\uc2e4\\uc744 \\uc785\\uc744 \\uc704\\ud5d8\\uc744 \\uc758\\ubbf8\\ud569\\ub2c8\\ub2e4. \\uc8fc\\ub85c \\uac70\\ub798\\ucc98\\uc5d0 \\ub300\\ud55c \\ub9e4\\ucd9c\\ucc44\\uad8c\\uacfc \\ud22c\\uc790\\uc790\\uc0b0\\uc5d0\\uc11c \\ubc1c\\uc0dd\\ud569\\ub2c8\\ub2e4.\\n\\u2460 \\ub9e4\\ucd9c\\ucc44\\uad8c \\ubc0f \\ud22c\\uc790\\uc790\\uc0b0\\n\\uc5f0\\uacb0\\uc2e4\\uccb4\\uc758 \\uc2e0\\uc6a9\\uc704\\ud5d8\\uc5d0 \\ub300\\ud55c \\ub178\\ucd9c\\uc740 \\uc8fc\\ub85c \\uac01 \\uace0\\uac1d\\ubcc4 \\ud2b9\\uc131\\uc758 \\uc601\\ud5a5\\uc744 \\ubc1b\\uc2b5\\ub2c8\\ub2e4. \\uace0\\uac1d\\uc774\\uc601\\uc5c5\\ud558\\uace0 \\uc788\\ub294 \\uc0b0\\uc5c5 \\ubc0f \\uad6d\\uac00\\uc758 \\ud30c\\uc0b0\\uc704\\ud5d8 \\ub4f1\\uc758 \\uace0\\uac1d \\ubd84\\ud3ec\\ub294 \\uc2e0\\uc6a9\\uc704\\ud5d8\\uc5d0 \\ud070 \\uc601\\ud5a5\\uc744 \\uc8fc\\uc9c0 \\uc54a\\uc2b5\\ub2c8\\ub2e4.\\n\\uc5f0\\uacb0\\uc2e4\\uccb4\\ub294 \\ub9e4\\ucd9c\\ucc44\\uad8c\\uacfc \\ud22c\\uc790\\uc790\\uc0b0\\uc5d0 \\ub300\\ud574 \\ubc1c\\uc0dd\\ud560 \\uac83\\uc73c\\ub85c \\uc608\\uc0c1\\ub418\\ub294 \\uc190\\uc2e4\\uc5d0 \\ub300\\ud574 \\ucda9\\ub2f9\\uae08\\uc744 \\uc124\\uc815\\ud558\\uace0 \\uc788\\uc2b5\\ub2c8\\ub2e4. \\uc774 \\ucda9\\ub2f9\\uae08\\uc740 \\uac1c\\ubcc4\\uc801\\uc73c\\ub85c \\uc720\\uc758\\uc801\\uc778 \\ud56d\\ubaa9\\uc5d0 \\ub300\\ud55c \\uad6c\\uccb4\\uc801\\uc778 \\uc190\\uc0c1\\ucc28\\uc190\\uacfc \\uc720\\uc0ac\\ud55c \\ud2b9\\uc131\\uc744 \\uac00\\uc9c4 \\uae08\\uc735\\uc790\\uc0b0 \\uc9d1\\ud569\\uc5d0\\uc11c \\ubc1c\\uc0dd\\ud558\\uc600\\uc73c\\ub098 \\uc544\\uc9c1 \\uc2dd\\ubcc4\\ub418\\uc9c0 \\uc54a\\uc740 \\uc190\\uc0c1\\uc73c\\ub85c \\uad6c\\uc131\\ub429\\ub2c8\\ub2e4. \\uae08\\uc735\\uc790\\uc0b0 \\uc9d1\\ud569\\uc758 \\ucda9\\ub2f9\\uae08\\uc740 \\uc720\\uc0ac\\ud55c \\uae08\\uc735\\uc790\\uc0b0\\uc758 \\ud68c\\uc218\\uc5d0 \\ub300\\ud55c \\uacfc\\uac70 \\uc790\\ub8cc\\uc5d0 \\uadfc\\uac70\\ud558\\uc5ec \\uacb0\\uc815\\ub418\\uace0 \\uc788\\uc2b5\\ub2c8\\ub2e4.\\n\\u2461 \\ubcf4\\uc99d\\n\\uc5f0\\uacb0\\uc2e4\\uccb4\\ub294 \\uc5f0\\uacb0\\uc2e4\\uccb4 \\ub0b4 \\uae30\\uc5c5 \\ubc0f \\ud2b9\\uc218\\uad00\\uacc4\\uc790 \\ub4f1\\uc744 \\uc704\\ud558\\uc5ec \\uc9c0\\uae09\\ubcf4\\uc99d\\uc744 \\uc81c\\uacf5\\ud558\\uace0 \\uc788\\uc2b5\\ub2c8\\ub2e4.\\n(3) \\uc720\\ub3d9\\uc131\\uc704\\ud5d8\\n\\uc720\\ub3d9\\uc131\\uc704\\ud5d8\\uc774\\ub780 \\uc5f0\\uacb0\\uc2e4\\uccb4\\uac00 \\uae08\\uc735\\ubd80\\ucc44\\uc5d0 \\uad00\\ub828\\ub41c \\uc758\\ubb34\\ub97c \\ucda9\\uc871\\ud558\\ub294 \\ub370 \\uc5b4\\ub824\\uc6c0\\uc744 \\uacaa\\uac8c \\ub420 \\uc704\\ud5d8\\uc744 \\uc758\\ubbf8\\ud569\\ub2c8\\ub2e4. \\uc5f0\\uacb0\\uc2e4\\uccb4\\uc758 \\uc720\\ub3d9\\uc131 \\uad00\\ub9ac\\ubc29\\ubc95\\uc740 \\uc7ac\\ubb34\\uc801\\uc73c\\ub85c \\uc5b4\\ub824\\uc6b4 \\uc0c1\\ud669\\uc5d0\\uc11c\\ub3c4 \\ubc1b\\uc544\\ub4e4\\uc77c \\uc218 \\uc5c6\\ub294 \\uc190\\uc2e4\\uc774 \\ubc1c\\uc0dd\\ud558\\uac70\\ub098, \\uc5f0\\uacb0\\uc2e4\\uccb4\\uc758 \\ud3c9\\ud310\\uc5d0 \\uc190\\uc0c1\\uc744 \\uc785\\ud790 \\uc704\\ud5d8 \\uc5c6\\uc774, \\ub9cc\\uae30\\uc77c\\uc5d0 \\ubd80\\ucc44\\ub97c \\uc0c1\\ud658\\ud560 \\uc218 \\uc788\\ub294 \\ucda9\\ubd84\\ud55c \\uc720\\ub3d9\\uc131\\uc744 \\uc720\\uc9c0\\ud558\\ub3c4\\ub85d \\ud558\\ub294 \\uac83\\uc785\\ub2c8\\ub2e4.\\n(4) \\uc2dc\\uc7a5\\uc704\\ud5d8\\n\\uc2dc\\uc7a5\\uc704\\ud5d8\\uc774\\ub780 \\uc2dc\\uc7a5\\uac00\\uaca9\\uc758 \\ubcc0\\ub3d9\\uc73c\\ub85c \\uc778\\ud558\\uc5ec \\uae08\\uc735\\uc0c1\\ud488\\uc758 \\uacf5\\uc815\\uac00\\uce58\\ub098 \\ubbf8\\ub798\\ud604\\uae08\\ud750\\ub984\\uc774 \\ubcc0\\ub3d9\\ud560 \\uc704\\ud5d8\\uc744 \\uc758\\ubbf8\\ud569\\ub2c8\\ub2e4. \\uc2dc\\uc7a5\\uac00\\uaca9 \\uad00\\ub9ac\\uc758 \\ubaa9\\uc801\\uc740 \\uc218\\uc775\\uc740 \\ucd5c\\uc801\\ud654\\ud558\\ub294 \\ubc18\\uba74 \\uc218\\uc6a9\\uac00\\ub2a5\\ud55c \\ud55c\\uacc4 \\uc774\\ub0b4\\ub85c \\uc2dc\\uc7a5\\uc704\\ud5d8 \\ub178\\ucd9c\\uc744 \\uad00\\ub9ac \\ubc0f \\ud1b5\\uc81c\\ud558\\ub294 \\uac83\\uc785\\ub2c8\\ub2e4.\\n\\uc5f0\\uacb0\\uc2e4\\uccb4\\ub294 \\uc2dc\\uc7a5\\uc704\\ud5d8\\uc744 \\uad00\\ub9ac\\ud558\\uae30 \\uc704\\ud574\\uc11c \\ud30c\\uc0dd\\uc0c1\\ud488\\uc744 \\ub9e4\\uc785 \\ubc0f \\ub9e4\\ub3c4\\ud558\\uace0 \\uae08\\uc735\\uc790\\uc0b0 \\ubc0f \\uae08\\uc735\\ubd80\\ucc44\\ub97c \\ubc1c\\uc0dd\\uc2dc\\ud0a4\\uace0 \\uc788\\uc2b5\\ub2c8\\ub2e4.\\n\\u2460 \\ud658\\uc704\\ud5d8\\n\\uc5f0\\uacb0\\uc2e4\\uccb4\\uc758 \\uae30\\ub2a5\\ud1b5\\ud654\\uc778 \\uc6d0\\ud654 \\uc678\\uc758 \\ud1b5\\ud654\\ub85c \\ud45c\\uc2dc\\ub418\\ub294 \\ud310\\ub9e4, \\uad6c\\ub9e4 \\ubc0f \\ucc28\\uc785\\uc5d0 \\ub300\\ud574 \\ud658\\uc704\\ud5d8\\uc5d0 \\ub178\\ucd9c\\ub418\\uc5b4 \\uc788\\uc2b5\\ub2c8\\ub2e4. \\uc774\\ub7ec\\ud55c \\uac70\\ub798\\ub4e4\\uc774 \\ud45c\\uc2dc\\ub418\\ub294 \\uc8fc\\ub41c \\ud1b5\\ud654\\ub294 USD, EUR, CNY \\ub4f1\\uc785\\ub2c8\\ub2e4. \\ucc28\\uc785\\uae08\\uc5d0 \\ub300\\ud55c \\uc774\\uc790\\ub294 \\uc8fc\\ub85c USD\\ub85c \\ud45c\\uc2dc\\ub429\\ub2c8\\ub2e4. \\uc774\\ub4e4 \\ud1b5\\ud654\\ub294 \\uc5f0\\uacb0\\uc2e4\\uccb4\\uc758 \\uc601\\uc5c5\\uc73c\\ub85c \\uc778\\ud574 \\ubc1c\\uc0dd\\ub418\\ub294 \\ud604\\uae08\\ud750\\ub984\\uacfc \\uc77c\\uce58\\ud558\\ub294 \\ud1b5\\ud654\\uc774\\ubbc0\\ub85c, \\uc774\\uc790\\uc5d0 \\ub300\\ud574\\uc11c\\ub294 \\ud30c\\uc0dd\\uc0c1\\ud488 \\uacc4\\uc57d\\uc744 \\uccb4\\uacb0\\ud558\\uc9c0 \\uc54a\\uace0 \\uacbd\\uc81c\\uc801 \\uc704\\ud5d8\\ud68c\\ud53c\\uac00 \\uac00\\ub2a5\\ud558\\ubbc0\\ub85c \\uc704\\ud5d8\\ud68c\\ud53c\\ud68c\\uacc4\\ub3c4 \\uc801\\uc6a9\\ud558\\uc9c0 \\uc54a\\uc2b5\\ub2c8\\ub2e4. \\uc678\\ud654\\ub85c \\ud45c\\uc2dc\\ub41c \\uae30\\ud0c0\\uc758 \\ud654\\ud3d0\\uc131 \\uc790\\uc0b0 \\ubc0f \\ubd80\\ucc44\\uc640 \\uad00\\ub828\\ud558\\uc5ec \\uc5f0\\uacb0\\uc2e4\\uccb4\\ub294 \\ub2e8\\uae30 \\ubd88\\uade0\\ud615\\uc744 \\ud574\\uc18c\\ud558\\uae30 \\uc704\\ud574 \\uc678\\ud654\\ub97c \\ud604\\ud589 \\ud658\\uc728\\ub85c \\ub9e4\\uc785\\ud558\\uac70\\ub098 \\ub9e4\\uac01\\ud558\\ub294 \\ubc29\\ubc95\\uc73c\\ub85c \\uc21c \\ub178\\ucd9c\\uc704\\ud5d8\\uc744 \\ud5c8\\uc6a9\\uac00\\ub2a5\\ud55c \\uc218\\uc900\\uc73c\\ub85c \\uc720\\uc9c0\\ud558\\uace0 \\uc788\\uc2b5\\ub2c8\\ub2e4.\\n\\u2461 \\uae30\\ud0c0 \\uc2dc\\uc7a5\\uac00\\uaca9 \\uc704\\ud5d8\\n\\uc5f0\\uacb0\\uc2e4\\uccb4\\uac00 \\ubcf4\\uc720\\ud558\\uace0 \\uc788\\ub294 \\ub9e4\\ub3c4\\uac00\\ub2a5 \\uc9c0\\ubd84\\uc0c1\\ud488\\uc73c\\ub85c\\ubd80\\ud130 \\uc9c0\\ubd84\\uac00\\uaca9\\uc704\\ud5d8\\uc774 \\ubc1c\\uc0dd\\ud569\\ub2c8\\ub2e4. \\uc5f0\\uacb0\\uc2e4\\uccb4\\uc758 \\uacbd\\uc601\\uc9c4\\uc740 \\uc2dc\\uc7a5\\uac00\\uaca9\\uc5d0 \\uadfc\\uac70\\ud558\\uc5ec \\ud22c\\uc790 \\ud3ec\\ud2b8\\ud3f4\\ub9ac\\uc624 \\ub0b4\\uc758 \\ucc44\\ubb34 \\ubc0f \\uc9c0\\ubd84\\uc0c1\\ud488\\uc758 \\uad6c\\uc131\\uc744 \\uac80\\ud1a0\\ud558\\uace0 \\uc788\\uc2b5\\ub2c8\\ub2e4.\\n\\uc5f0\\uacb0\\uc2e4\\uccb4 \\ud22c\\uc790\\uc804\\ub7b5\\uc758 \\uc8fc\\uc694 \\ubaa9\\ud45c\\ub294 \\uc8fc\\uc8fc\\uc774\\uc775\\uc758 \\uadf9\\ub300\\ud654\\ub97c \\uc704\\ud574 \\ud22c\\uc790\\uc218\\uc775\\uc744 \\ucd5c\\ub300\\ud654\\ud558\\ub294\\uac83\\uc785\\ub2c8\\ub2e4.\\n(5) \\uc790\\ubcf8\\uad00\\ub9ac\\n\\uc5f0\\uacb0\\uc2e4\\uccb4\\uc758 \\uc815\\ucc45\\uc740 \\ud22c\\uc790\\uc790\\uc640 \\ucc44\\uad8c\\uc790, \\uc2dc\\uc7a5\\uc758 \\uc2e0\\ub8b0 \\ubc0f \\ud5a5\\ud6c4 \\ubc1c\\uc804\\uc744 \\uc704\\ud574 \\uc790\\ubcf8\\uc744 \\uc720\\uc9c0\\ud558\\ub294 \\uac83\\uc785\\ub2c8\\ub2e4. \\uc774\\uc0ac\\ud68c\\ub294 \\uc21c\\uc601\\uc5c5\\uc774\\uc775\\uc744 \\ucd1d\\uc790\\ubcf8\\uae08\\uc561\\uc73c\\ub85c \\ub098\\ub208 \\ube44\\uc728\\uc778 \\uc790\\ubcf8\\uc774\\uc775\\ub960\\uc744 \\uad00\\ub9ac\\ud558\\uace0 \\uc788\\uc2b5\\ub2c8\\ub2e4.\\n\\uc5f0\\uacb0\\uc2e4\\uccb4\\uc758 \\ub2f9\\uae30\\uc640 \\uc804\\uae30\\uc758 \\uc790\\ubcf8\\uad00\\ub9ac\\uc9c0\\ud45c\\ub294 \\ub2e4\\uc74c\\uacfc \\uac19\\uc2b5\\ub2c8\\ub2e4.\\n(\\ub2e8\\uc704:\\ucc9c\\uc6d0)\\n\\uad6c\\u00a0 \\ubd84\\n\\ub2f9\\uae30\\n\\uc804\\uae30\\n\\uc601\\uc5c5\\uc774\\uc775\\n155,080,810\\n201,129,152\\n\\uc790\\ubcf8\\ucd1d\\uacc4\\n1,726,373,837\\n1,694,800,412\\n\\uc790\\ubcf8\\uc774\\uc775\\ub960\\n8.98%\\n11.87%\\nSK\\ud154\\ub808\\uc2dc\\uc2a4\\n(1) \\uae08\\uc735\\uc704\\ud5d8\\uad00\\ub9ac\\n\\ud68c\\uc0ac\\ub294 \\uacbd\\uc601\\ud65c\\ub3d9\\uacfc \\uad00\\ub828\\ud558\\uc5ec \\uc2e0\\uc6a9\\uc704\\ud5d8, \\uc720\\ub3d9\\uc131\\uc704\\ud5d8 \\ubc0f \\uc2dc\\uc7a5\\uc704\\ud5d8 \\ub4f1 \\ub2e4\\uc591\\ud55c \\uae08\\uc735\\uc704\\ud5d8\\uc5d0 \\ub178\\ucd9c\\ub418\\uc5b4 \\uc788\\uc2b5\\ub2c8\\ub2e4. \\ud68c\\uc0ac\\ub294 \\uae08\\uc735\\uc704\\ud5d8\\uc774 \\uacbd\\uc601\\uc5d0 \\ubbf8\\uce60 \\uc218 \\uc788\\ub294 \\ubd88\\ub9ac\\ud55c \\ud6a8\\uacfc\\ub97c \\ucd5c\\uc18c\\ud654\\ud558\\uae30 \\uc704\\ud574\\u00a0 \\ub178\\ub825\\ud558\\uace0 \\uc788\\uc2b5\\ub2c8\\ub2e4. \\ud68c\\uc0ac\\ub294 \\ud2b9\\uc815\\uc704\\ud5d8\\uc744 \\ud68c\\ud53c\\ud558\\uae30 \\uc704\\ud558\\uc5ec \\ud30c\\uc0dd\\uc0c1\\ud488\\uc744 \\uc774\\uc6a9\\ud558\\uace0 \\uc788\\uc2b5\\ub2c8\\ub2e4.\\n1) \\uc2e0\\uc6a9\\uc704\\ud5d8\\uad00\\ub9ac\\n\\ud68c\\uc0ac\\ub294 \\ucc44\\ubb34\\ubd88\\uc774\\ud589\\uc73c\\ub85c \\uc778\\ud55c \\uc7ac\\ubb34\\uc801 \\uc190\\uc2e4\\uc744 \\uacbd\\uac10\\uc2dc\\ud0a4\\uae30 \\uc704\\ud558\\uc5ec \\uc2e0\\uc6a9\\ub3c4\\uac00 \\uc77c\\uc815 \\uc218\\uc900 \\uc774\\uc0c1\\uc778 \\uac70\\ub798\\ucc98\\uc640 \\uac70\\ub798\\ud558\\uace0, \\ucda9\\ubd84\\ud55c \\ub2f4\\ubcf4 \\ub610\\ub294 \\uc9c0\\uae09\\ubcf4\\uc99d\\uc744 \\uc218\\ucde8\\ud558\\uace0 \\uc788\\uc2b5\\ub2c8\\ub2e4. \\ud68c\\uc0ac\\ub294\\uc2e0\\uc6a9\\uc704\\ud5d8\\ub178\\ucd9c \\ubc0f \\uac70\\ub798\\ucc98\\uc758 \\uc2e0\\uc6a9\\ub4f1\\uae09\\uc744 \\uc8fc\\uae30\\uc801\\uc73c\\ub85c \\uac80\\ud1a0\\ud558\\uc5ec \\uac70\\ub798\\ucc98\\uc758 \\uc5ec\\uc2e0\\ud55c\\ub3c4 \\ubc0f \\ub2f4\\ubcf4\\uc218\\uc900\\uc744 \\uc7ac\\uc870\\uc815\\ud558\\ub294 \\ub4f1 \\uc2e0\\uc6a9\\uc704\\ud5d8\\uc744 \\uad00\\ub9ac\\ud558\\uace0 \\uc788\\uc2b5\\ub2c8\\ub2e4.\\n\\uae08\\uc735\\uc0c1\\ud488 \\uc885\\ub958\\ubcc4 \\uc2e0\\uc6a9\\uc704\\ud5d8\\uc758 \\ucd5c\\ub300 \\ub178\\ucd9c\\uae08\\uc561\\uc740 \\ub2e4\\uc74c\\uacfc \\uac19\\uc2b5\\ub2c8\\ub2e4.\\n(\\ub2e8\\uc704 : \\uc6d0)\\n\\uad6c\\ubd84\\n\\ub2f9\\uae30\\n\\uc804\\uae30\\n\\uc7a5\\ubd80\\uae08\\uc561\\n\\uc2e0\\uc6a9\\uc704\\ud5d8\\n\\ucd5c\\ub300\\ub178\\ucd9c\\uae08\\uc561\\n\\uc7a5\\ubd80\\uae08\\uc561\\n\\uc2e0\\uc6a9\\uc704\\ud5d8\\n\\ucd5c\\ub300\\ub178\\ucd9c\\uae08\\uc561\\n\\ud604\\uae08\\ubc0f\\ud604\\uae08\\uc131\\uc790\\uc0b0\\n4,618,944,787\\n4,618,944,787\\n12,762,504,319\\n12,762,504,319\\n\\uc7a5\\ub2e8\\uae30\\uae08\\uc735\\uc0c1\\ud488\\n13,500,000\\n13,500,000\\n13,500,000\\n13,500,000\\n\\ub9e4\\ucd9c\\ucc44\\uad8c\\n66,179,755,307\\n66,179,755,307\\n61,372,232,209\\n61,372,232,209\\n\\ub2e8\\uae30\\uae30\\ud0c0\\ucc44\\uad8c\\n106,007,762\\n106,007,762\\n57,125,000\\n57,125,000\\n\\uc7a5\\uae30\\uae30\\ud0c0\\ucc44\\uad8c\\n53,000,000\\n53,000,000\\n20,000,000\\n20,000,000\\n\\ud569\\uacc4\\n70,971,207,856\\n70,971,207,856\\n74,225,361,528\\n74,225,361,528\\n2) \\uc720\\ub3d9\\uc131\\uc704\\ud5d8\\uad00\\ub9ac\\n\\ud68c\\uc0ac\\ub294 \\ubbf8\\ub798\\uc758 \\ud604\\uae08\\ud750\\ub984\\uc744 \\uc608\\uce21\\ud558\\uc5ec \\ub2e8\\uae30 \\ubc0f \\uc911\\uc7a5\\uae30 \\uc790\\uae08\\uc870\\ub2ec \\uacc4\\ud68d\\uc744 \\uc218\\ub9bd\\ud558\\uc5ec \\uc720\\ub3d9\\uc131\\uc704\\ud5d8\\uc744 \\uad00\\ub9ac\\ud558\\uace0 \\uc788\\uc73c\\uba70, \\uae08\\uc735\\ubd80\\ucc44\\uc758 \\uc794\\uc874\\uacc4\\uc57d \\ub9cc\\uae30\\uc5d0 \\ub530\\ub978 \\ub9cc\\uae30\\ubd84\\uc11d\\ub0b4\\uc6a9\\uc740 \\ub2e4\\uc74c\\uacfc \\uac19\\uc2b5\\ub2c8\\ub2e4.\\n<\\ub2f9\\uae30>\\u00a0 \\u00a0 \\u00a0 \\u00a0 \\u00a0 \\u00a0 \\u00a0 \\u00a0 \\u00a0 \\u00a0 \\u00a0 \\u00a0 \\u00a0 \\u00a0 \\u00a0 \\u00a0 \\u00a0 \\u00a0 \\u00a0 \\u00a0 \\u00a0 \\u00a0 \\u00a0 \\u00a0 \\u00a0 \\u00a0 \\u00a0 \\u00a0 \\u00a0 \\u00a0 \\u00a0 \\u00a0 \\u00a0 \\u00a0 \\u00a0 \\u00a0 \\u00a0 \\u00a0 \\u00a0 \\u00a0 \\u00a0 \\u00a0 \\u00a0 \\u00a0 \\u00a0 (\\ub2e8\\uc704 : \\uc6d0)\\n\\uad6c\\ubd84\\n\\uc7a5\\ubd80\\uae08\\uc561\\n3\\uac1c\\uc6d4\\uc774\\ud558\\n3\\uac1c\\uc6d4~1\\ub144\\n1\\ub144~3\\ub144\\n3\\ub144\\ucd08\\uacfc\\n\\ub9e4\\uc785\\ucc44\\ubb34 \\ubc0f \\uae30\\ud0c0\\ucc44\\ubb34\\n78,636,115,481\\n73,328,612,195\\n5,307,503,286\\n-\\n-\\n\\ub9ac\\uc2a4\\ubd80\\ucc44\\n624,148,245\\n79,095,642\\n231,917,295\\n271,702,456\\n41,432,852\\n\\ucc28\\uc785\\uae08\\n108,419,672,624\\n57,500,000,000\\n6,000,000,000\\n44,919,672,624\\n-\\n\\ud569\\uacc4\\n187,679,936,350\\n130,907,707,837\\n11,539,420,581\\n45,191,375,080\\n41,432,852\\n<\\uc804\\uae30>\\u00a0 \\u00a0 \\u00a0 \\u00a0 \\u00a0 \\u00a0 \\u00a0 \\u00a0 \\u00a0 \\u00a0 \\u00a0 \\u00a0 \\u00a0 \\u00a0 \\u00a0 \\u00a0 \\u00a0 \\u00a0 \\u00a0 \\u00a0 \\u00a0 \\u00a0 \\u00a0 \\u00a0 \\u00a0 \\u00a0 \\u00a0 \\u00a0 \\u00a0 \\u00a0 \\u00a0 \\u00a0 \\u00a0 \\u00a0 \\u00a0 \\u00a0 \\u00a0 \\u00a0 \\u00a0 \\u00a0 \\u00a0 \\u00a0 \\u00a0 \\u00a0 \\u00a0 (\\ub2e8\\uc704 : \\uc6d0)\\n\\uad6c\\ubd84\\n\\uc7a5\\ubd80\\uae08\\uc561\\n3\\uac1c\\uc6d4\\uc774\\ud558\\n3\\uac1c\\uc6d4~1\\ub144\\n1\\ub144~3\\ub144\\n3\\ub144\\ucd08\\uacfc\\n\\ub9e4\\uc785\\ucc44\\ubb34 \\ubc0f \\uae30\\ud0c0\\ucc44\\ubb34\\n100,303,671,991\\n68,830,396,112\\n31,473,275,879\\n-\\n-\\n\\ucc28\\uc785\\uae08\\n87,055,802,050\\n42,003,459,401\\n15,182,499,048\\n29,869,843,601\\n-\\n\\ud569\\uacc4\\n187,359,474,041\\n110,833,855,513\\n46,655,774,927\\n29,869,843,601\\n-\\n3) \\uc2dc\\uc7a5\\uc704\\ud5d8\\n\\ud68c\\uc0ac\\ub294 \\ud658\\uc728\\uacfc \\uc774\\uc790\\uc728\\uc758 \\ubcc0\\ub3d9\\uc73c\\ub85c \\uc778\\ud55c \\uc2dc\\uc7a5\\uc704\\ud5d8\\uc5d0 \\ub178\\ucd9c\\ub418\\uc5b4 \\uc788\\uc2b5\\ub2c8\\ub2e4.\\n(\\uac00) \\uc678\\ud658\\uc704\\ud5d8\\uad00\\ub9ac\\n\\u2460 \\ubcf4\\uace0\\uae30\\uac04\\ub9d0 \\ud604\\uc7ac \\uc678\\ud658\\uc704\\ud5d8\\uc5d0 \\ub178\\ucd9c\\ub418\\uc5b4 \\uc788\\ub294 \\ud68c\\uc0ac\\uc758 \\uae08\\uc735\\uc790\\uc0b0 \\ubc0f \\uae08\\uc735\\ubd80\\ucc44\\uc758 \\ub0b4\\uc5ed\\uc758 \\uc6d0\\ud654\\ud658\\uc0b0 \\uae30\\uc900\\uc561\\uc740 \\ub2e4\\uc74c\\uacfc \\uac19\\uc2b5\\ub2c8\\ub2e4.\\n(\\ub2e8\\uc704 : \\uc6d0)\\n\\uad6c\\ubd84\\n\\ub2f9\\uae30\\n\\uc804\\uae30\\nUSD\\nJPY\\nHKD\\nUSD\\nJPY\\nHKD\\n\\uae08\\uc735\\uc790\\uc0b0\\n\\ub9e4\\ucd9c\\ucc44\\uad8c\\n7,603,731,229\\n740,337,192\\n1,254,395,251\\n12,529,461,832\\n1,757,990,605\\n1,204,695,344\\n\\uae08\\uc735\\ubd80\\ucc44\\n\\ub9e4\\uc785\\ucc44\\ubb34\\n6,458,145,128\\n649,157,402\\n-\\n6,616,741,497\\n732,017,079\\n-\\n\\ubbf8\\uc9c0\\uae09\\uae08\\n12,156,900\\n202,059\\n-\\n559,050\\n-\\n-\\n\\u2461 \\ud68c\\uc0ac\\ub294\\n\\uc678\\ud654\\uac70\\ub798 \\uc218\\ud589\\uc5d0 \\ub530\\ub77c \\ub2e4\\uc591\\ud55c \\ud658\\uc728\\ubcc0\\ub3d9\\uc704\\ud5d8\\uc5d0 \\ub178\\ucd9c\\ub418\\uc5b4 \\uc788\\uc2b5\\ub2c8\\ub2e4. \\uc8fc\\uc694 \\ud1b5\\ud654\\ubcc4 \\ud658\\uc728\\ubcc0\\ub3d9\\uc2dc \\ubbfc\\uac10\\ub3c4 \\ubd84\\uc11d\\ub0b4\\uc6a9\\uc740 \\ub2e4\\uc74c\\uacfc \\uac19\\uc2b5\\ub2c8\\ub2e4.\\n(\\ub2e8\\uc704 : \\uc6d0)\\n\\uad6c\\ubd84\\n\\ub2f9\\uae30\\n\\uc804\\uae30\\n10%\\uc0c1\\uc2b9\\n10%\\ud558\\ub77d\\n10%\\uc0c1\\uc2b9\\n10%\\ud558\\ub77d\\nHKD\\n125,439,525\\n(125,439,525)\\n120,469,534\\n(120,469,534)\\nJPY\\n9,097,773\\n(9,097,773)\\n102,597,353\\n(102,597,353)\\nUSD\\n113,342,920\\n(113,342,920)\\n591,216,129\\n(591,216,129)\\n\\uacc4\\n247,880,218\\n(247,880,218)\\n814,283,016\\n(814,283,016)\\n(\\ub098) \\uc774\\uc790\\uc728\\uc704\\ud5d8\\uad00\\ub9ac\\n\\ud68c\\uc0ac\\ub294 \\uace0\\uc815\\uc774\\uc790\\uc728\\uacfc \\ubcc0\\ub3d9\\uc774\\uc790\\uc728\\ub85c \\uc790\\uae08\\uc744 \\ucc28\\uc785\\ud558\\uace0 \\uc788\\uc73c\\uba70, \\uc774\\ub85c \\uc778\\ud558\\uc5ec \\uc774\\uc790\\uc728\\uc704\\ud5d8\\uc5d0 \\ub178\\ucd9c\\ub418\\uc5b4 \\uc788\\uc2b5\\ub2c8\\ub2e4. \\ud68c\\uc0ac\\ub294 \\uace0\\uc815\\uae08\\ub9ac\\ucc28\\uc785\\uae08\\uacfc \\ubcc0\\ub3d9\\uae08\\ub9ac\\ucc28\\uc785\\uae08\\uc758 \\uc801\\uc808\\ud55c \\uade0\\ud615\\uc720\\uc9c0 \\uc815\\ucc45\\uc744 \\uc218\\ud589\\ud558\\ub294 \\ub4f1 \\uc774\\uc790\\uc728\\uc704\\ud5d8\\uc744 \\uad00\\ub9ac\\ud558\\uace0 \\uc788\\uc73c\\uba70, \\uc774\\uc790\\uc728\\uc704\\ud5d8\\uc5d0 \\ub178\\ucd9c\\ub41c \\ucc28\\uc785\\uae08 \\ub0b4\\uc6a9\\uc740 \\ub2e4\\uc74c\\uacfc \\uac19\\uc2b5\\ub2c8\\ub2e4.\\n(\\ub2e8\\uc704 : \\uc6d0)\\n\\uad6c\\ubd84\\n\\ub2f9\\uae30\\n\\uc804\\uae30\\n\\uc7a5\\ub2e8\\uae30\\ucc28\\uc785\\uae08\\n78,500,000,000\\n57,185,958,449\\n\\uc0ac\\ucc44\\n29,919,672,624\\n29,869,843,601\\n\\ub9ac\\uc2a4\\ubd80\\ucc44\\n624,148,245\\n-\\n\\ud569\\uacc4\\n109,043,820,869\\n87,055,802,050\\n\\uc774\\uc790\\uc728 1% \\ubcc0\\ub3d9\\uc2dc \\ubbfc\\uac10\\ub3c4 \\ubd84\\uc11d\\ub0b4\\uc6a9\\uc740 \\ub2e4\\uc74c\\uacfc \\uac19\\uc2b5\\ub2c8\\ub2e4.\\u00a0 \\u00a0 \\u00a0 \\u00a0 \\u00a0 \\u00a0 \\u00a0 \\u00a0 \\u00a0 \\u00a0 \\u00a0 \\u00a0\\u00a0 (\\ub2e8\\uc704 : \\uc6d0)\\n\\uad6c\\ubd84\\n\\ub2f9\\uae30\\n\\uc804\\uae30\\n1%\\uc0c1\\uc2b9\\n1%\\ud558\\ub77d\\n1%\\uc0c1\\uc2b9\\n1%\\ud558\\ub77d\\n\\uc774\\uc790\\ube44\\uc6a9 \\uc99d\\uac00\\uc561\\n1,090,438,209\\n(1,090,438,209)\\n870,558,021\\n(870,558,021)\\n(2) \\uc790\\ubcf8\\uc704\\ud5d8\\uad00\\ub9ac\\n\\ud68c\\uc0ac\\uc758 \\uc790\\ubcf8\\uad00\\ub9ac \\ubaa9\\uc801\\uc740 \\uacc4\\uc18d\\uae30\\uc5c5\\uc73c\\ub85c \\uc601\\uc5c5\\ud65c\\ub3d9\\uc744 \\uc720\\uc9c0\\ud558\\uace0 \\uc8fc\\uc8fc \\ubc0f \\uc774\\ud574\\uad00\\uacc4\\uc790\\uc758 \\uc774\\uc775\\uc744 \\uadf9\\ub300\\ud654\\ud558\\ud558\\uace0 \\uc790\\ubcf8\\ube44\\uc6a9\\uc758 \\uc808\\uac10\\uc744 \\uc704\\ud558\\uc5ec \\ucd5c\\uc801\\uc758 \\uc790\\ubcf8\\uad6c\\uc870\\ub97c \\uc720\\uc9c0\\ud558\\ub294\\ub370 \\uc788\\uc2b5\\ub2c8\\ub2e4. \\ud68c\\uc0ac\\ub294 \\ubc30\\ub2f9\\uc870\\uc815, \\uc2e0\\uc8fc\\ubc1c\\ud589 \\ub4f1\\uc758 \\uc815\\ucc45\\uc744 \\ud1b5\\ud558\\uc5ec \\uc790\\ubcf8\\uad6c\\uc870\\ub97c \\uacbd\\uc81c\\ud658\\uacbd\\uc758 \\ubcc0\\ud654\\uc5d0\\ub530\\ub77c \\uc801\\uc808\\ud788 \\uc218\\uc815\\ubcc0\\uacbd\\ud558\\uace0 \\uc788\\uc2b5\\ub2c8\\ub2e4. \\ud68c\\uc0ac\\uc758 \\uc790\\ubcf8\\uc704\\ud5d8\\uad00\\ub9ac\\uc815\\ucc45\\uc740 \\uc804\\uae30\\uc640 \\uc911\\uc694\\ud55c \\ubcc0\\ub3d9\\uc774 \\uc5c6\\uc2b5\\ub2c8\\ub2e4.\\n(\\ub2e8\\uc704 : \\uc6d0)\\n\\uad6c\\ubd84\\n\\ub2f9\\uae30\\n\\uc804\\uae30\\n\\ubd80\\ucc44\\ucd1d\\uacc4\\n188,855,607,856\\n188,080,224,400\\n\\ucc28\\uac10: \\ud604\\uae08\\ubc0f\\ud604\\uae08\\uc131\\uc790\\uc0b0\\n(4,618,944,787)\\n(12,762,504,319)\\n\\uc21c\\ubd80\\ucc44\\n184,236,663,069\\n175,317,720,081\\n\\uc790\\ubcf8\\ucd1d\\uacc4\\n(41,557,488,977)\\n(42,237,701,193)\\n\\uc21c\\ubd80\\ucc44\\ube44\\uc728\\n-\\n-\\nSKC\\uc194\\ubbf9\\uc2a4\\n\\ub2f9\\uc0ac\\ub294 \\uacbd\\uc601 \\ud65c\\ub3d9\\uc73c\\ub85c \\uc778\\ud558\\uc5ec \\uc2dc\\uc7a5\\uc704\\ud5d8(\\ud658\\uc704\\ud5d8, \\uac00\\uaca9\\uc704\\ud5d8 \\ubc0f \\uc774\\uc790\\uc728 \\uc704\\ud5d8), \\uc2e0\\uc6a9\\uc704\\ud5d8 \\ubc0f \\uc720\\ub3d9\\uc131 \\uc704\\ud5d8\\uacfc \\uac19\\uc740 \\ub2e4\\uc591\\ud55c \\uae08\\uc735 \\uc704\\ud5d8\\uc5d0 \\ub178\\ucd9c\\ub418\\uc5b4 \\uc788\\uc2b5\\ub2c8\\ub2e4. \\ub2f9\\uc0ac\\uc758 \\uc804\\ubc18\\uc801\\uc778 \\uc704\\ud5d8\\uad00\\ub9ac\\ud504\\ub85c\\uadf8\\ub7a8\\uc740 \\uae08\\uc735\\uc2dc\\uc7a5\\uc758 \\uc608\\uce21\\ubd88\\uac00\\ub2a5\\uc131\\uc5d0 \\ucd08\\uc810\\uc744 \\ub9de\\ucd94\\uace0 \\uc788\\uc73c\\uba70 \\uc7ac\\ubb34\\uc131\\uacfc\\uc5d0 \\uc7a0\\uc7ac\\uc801\\uc73c\\ub85c \\ubd88\\ub9ac\\ud560 \\uc218 \\uc788\\ub294 \\ud6a8\\uacfc\\ub97c \\ucd5c\\uc18c\\ud654\\ud558\\ub294\\ub370 \\uc911\\uc810\\uc744 \\ub450\\uace0 \\uc788\\uc2b5\\ub2c8\\ub2e4.\\n\\uac00\\n. \\uc7ac\\ubb34\\uc704\\ud5d8\\n(1) \\uc2dc\\uc7a5\\uc704\\ud5d8\\n\\u2460 \\uc678\\ud658\\uc704\\ud5d8\\n\\ud68c\\uc0ac\\ub294 \\uad6d\\uc81c\\uc801\\uc73c\\ub85c \\ud65c\\ub3d9\\uc744 \\uc601\\uc704\\ud558\\uace0 \\uc788\\uc5b4 \\uc678\\ud658\\uc704\\ud5d8\\uc5d0 \\ub178\\ucd9c\\ub418\\uc5b4 \\uc5c8\\uc73c\\uba70, \\ud2b9\\ud788 \\uc8fc\\ub85c \\ub2ec\\ub7ec\\ud654 \\ubc0f \\uc77c\\ubcf8\\uc5d4\\ud654 \\ud658\\uc728\\ubcc0\\ub3d9\\uc704\\ud5d8\\uc5d0 \\ub178\\ucd9c\\ub418\\uc5b4 \\uc788\\uc2b5\\ub2c8\\ub2e4.\\n\\ub2f9\\n\\uae30\\ub9d0 \\ubc0f \\uc804\\uae30\\ub9d0 \\ud604\\n\\uc7ac \\ud68c\\uc0ac\\uac00 \\uae30\\ub2a5\\ud1b5\\ud654 \\uc774\\uc678\\uc758 \\uc678\\ud654\\ub85c \\ud45c\\uc2dc\\ud55c \\ud654\\ud3d0\\uc131 \\uc790\\uc0b0 \\ubc0f \\ubd80\\ucc44\\uc758 \\uc7a5\\ubd80\\uae08\\uc561\\uc740 \\ub2e4\\uc74c\\uacfc \\uac19\\uc2b5\\ub2c8\\ub2e4.\\n(\\ub2e8\\uc704: \\ucc9c\\uc6d0, \\ubbf8\\ud654\\ubd88 \\ub4f1)\\n\\uad6c\\ubd84\\n\\ud1b5\\ud654\\n\\ub2f9\\uae30\\ub9d0 (\\uac10\\uc0ac\\ubc1b\\uc74c)\\n\\uc804\\uae30\\ub9d0 (\\uac10\\uc0ac\\ubc1b\\uc74c)\\n\\uc678\\ud654\\uae08\\uc561\\n\\uc6d0\\ud654\\ud658\\uc0b0\\uae08\\uc561\\n\\uc678\\ud654\\uae08\\uc561\\n\\uc6d0\\ud654\\ud658\\uc0b0\\uae08\\uc561\\n<\\uc678\\ud654\\uc790\\uc0b0>\\n\\ud604\\uae08\\ubc0f\\ud604\\uae08\\uc131\\uc790\\uc0b0\\nUSD\\n181,610\\n210,267\\n15,115\\n16,900\\nJPY\\n38,956,365\\n414,289\\n-\\n-\\nCNY\\n313,171\\n51,905\\n224,946\\n36,612\\nTWD\\n9,111,982\\n350,629\\n7,158,825\\n261,870\\n\\ub9e4\\ucd9c\\ucc44\\uad8c \\ubc0f \\uae30\\ud0c0\\ucc44\\uad8c\\nUSD\\n3,710,180\\n4,295,646\\n4,126,821\\n4,614,199\\nJPY\\n113,026,300\\n1,202,001\\n173,359,600\\n1,756,445\\nCNY\\n-\\n-\\n43,350\\n7,056\\nTWD\\n28,444,095\\n1,094,529\\n25,841,996\\n945,300\\n\\uacc4\\n7,619,266\\n7,638,382\\n<\\uc678\\ud654\\ubd80\\ucc44>\\n\\ub9e4\\uc785\\ucc44\\ubb34\\nUSD\\n-\\n-\\n793,512.76\\n887,227\\nJPY\\n19,720,000\\n209,716\\n137,833,950\\n1,396,506\\nTWD\\n40,729,178\\n1,567,259\\n31,970,342\\n1,169,475\\n\\ubbf8\\uc9c0\\uae09\\uae08\\nUSD\\n-\\n-\\n5,748\\n6,427\\nJPY\\n-\\n-\\n29,389,160\\n297,765\\nCNY\\n10,364\\n1,718\\n18,225\\n2,966\\nTWD\\n1,391,696\\n53,552\\n-\\n-\\n\\uacc4\\n1,832,245\\n3,760,366\\n\\ud658\\uc728\\uc758 \\ubcc0\\ub3d9\\uc740 \\uc678\\ud654\\ud658\\uc0b0\\uc190\\uc775\\uc744 \\ud1b5\\ud574 \\ud68c\\uc0ac\\uc758 \\ub2f9\\uae30\\uc190\\uc775\\uc5d0 \\uc601\\ud5a5\\uc744 \\ubbf8\\uce69\\ub2c8\\ub2e4.\\n\\ub2f9\\uae30\\ub9d0\\n\\ubc0f\\n\\uc804\\uae30\\n\\ub9d0\\n\\uc911 \\uac01 \\ud1b5\\ud654\\ubcc4 \\uc6d0\\ud654\\ud658\\uc728 10% \\ubcc0\\ub3d9\\uc2dc \\uc138\\uc804\\uc190\\uc775\\uc5d0 \\ubbf8\\uce58\\ub294 \\uc601\\ud5a5\\uc740 \\uc544\\ub798\\uc640 \\uac19\\uc2b5\\ub2c8\\ub2e4.\\n(\\ub2e8\\uc704:\\ucc9c\\uc6d0)\\n\\uad6c\\ubd84\\n\\ub2f9\\uae30\\ub9d0 (\\uac10\\uc0ac\\ubc1b\\uc74c)\\n\\uc804\\uae30\\ub9d0 (\\uac10\\uc0ac\\ubc1b\\uc74c)\\n10% \\uc0c1\\uc2b9\\uc2dc\\n10% \\ud558\\ub77d\\uc2dc\\n10% \\uc0c1\\uc2b9\\uc2dc\\n10% \\ud558\\ub77d\\uc2dc\\n\\ud604\\ubb3c\\nUSD\\n(1851557)\\n1851557\\n373,745\\n(373,745)\\nJPY\\n140657\\n(140657)\\n6,217\\n(6,217)\\nCNY\\n6597\\n(6597)\\n4,070\\n(4,070)\\nTWD\\n(17411)\\n17411\\n3,770\\n(3,770)\\n\\uc18c \\uacc4\\n(1,721,714)\\n1,721,714\\n387,802\\n(387,802)\\n\\uc120\\ub3c4\\nUSD\\n(139,768)\\n139,768\\n\\uc18c\\uacc4\\n(139,768)\\n139,768\\n\\ud569\\uacc4*\\n248,034\\n(248,034)\\n(*) \\ud30c\\uc0dd\\uc0c1\\ud488\\uc758 \\ud5f7\\uc9c0\\ud6a8\\uacfc\\ub97c \\uace0\\ub824\\ud558\\uc5ec \\uc0b0\\uc815\\ud558\\uc600\\uc2b5\\ub2c8\\ub2e4.\\n\\u2461 \\uac00\\uaca9\\uc704\\ud5d8\\n\\ub2f9\\uae30\\ub9d0\\n\\ubc0f\\n\\uc804\\uae30\\ub9d0 \\ud604\\uc7ac \\ud68c\\uc0ac\\ub294 \\uac00\\uaca9\\uc704\\ud5d8\\uc5d0 \\ub178\\ucd9c\\ub41c \\uae08\\uc735\\uc790\\uc0b0 \\ub610\\ub294 \\uae08\\uc735\\ubd80\\ucc44\\ub97c\\n\\ubcf4\\uc720\\n\\ud558\\uace0\\n\\uc788\\uc9c0 \\uc54a\\uc2b5\\ub2c8\\ub2e4\\n.\\n\\u2462 \\uc774\\uc790\\uc728\\uc704\\ud5d8\\n\\uc774\\uc790\\uc728 \\uc704\\ud5d8\\uc740 \\ubbf8\\ub798\\uc758 \\uc2dc\\uc7a5 \\uc774\\uc790\\uc728 \\ubcc0\\ub3d9\\uc5d0 \\ub530\\ub77c \\uc608\\uae08 \\ub610\\ub294 \\ucc28\\uc785\\uae08 \\ub4f1\\uc5d0\\uc11c \\ubc1c\\uc0dd\\ud558\\ub294 \\uc774\\uc790\\uc218\\uc775 \\ubc0f \\uc774\\uc790\\ube44\\uc6a9\\uc774 \\ubcc0\\ub3d9\\ub420 \\uc704\\ud5d8\\uc744 \\ub73b\\ud558\\uba70, \\uc774\\ub294 \\uc8fc\\ub85c \\ubcc0\\ub3d9\\uae08\\ub9ac\\ubd80 \\uc870\\uac74\\uc758 \\uc608\\uae08\\uacfc \\ucc28\\uc785\\uae08\\uc5d0\\uc11c \\ubc1c\\uc0dd\\ud558\\uace0 \\uc788\\uc2b5\\ub2c8\\ub2e4. \\uc5f0\\uacb0\\ud68c\\uc0ac\\uc758 \\uc774\\uc790\\uc728 \\uc704\\ud5d8\\uad00\\ub9ac\\uc758 \\ubaa9\\ud45c\\ub294 \\uc774\\uc790\\uc728 \\ubcc0\\ub3d9\\uc73c\\ub85c \\uc778\\ud55c \\ubd88\\ud655\\uc2e4\\uc131\\uacfc \\uc21c\\uc774\\uc790\\ube44\\uc6a9\\uc758 \\ucd5c\\uc18c\\ud654\\ub97c \\ucd94\\uad6c\\ud568\\uc73c\\ub85c\\uc368 \\uae30\\uc5c5\\uc758 \\uac00\\uce58\\ub97c \\uadf9\\ub300\\ud654 \\ud558\\ub294\\ub370 \\uc788\\uc2b5\\ub2c8\\ub2e4.\\n(2) \\uc2e0\\uc6a9\\uc704\\ud5d8\\n\\uc2e0\\n\\uc6a9\\n\\uc704\\n\\ud5d8\\uc740 \\uc5f0\\uacb0\\ud68c\\uc0ac \\ucc28\\uc6d0\\uc5d0\\uc11c \\uad00\\ub9ac\\ub418\\uace0 \\uc788\\uc2b5\\ub2c8\\ub2e4. \\uc2e0\\uc6a9\\uc704\\ud5d8\\uc740 \\ubcf4\\uc720\\ud558\\uace0 \\uc788\\ub294\\u00a0 \\uc218\\ucde8\\ucc44\\uad8c \\ubc0f \\ud655\\uc815\\uacc4\\uc57d\\uc744 \\ud3ec\\ud568\\ud55c \\ub3c4\\uc18c\\ub9e4 \\uac70\\ub798\\ucc98\\uc5d0 \\ub300\\ud55c \\uc2e0\\uc6a9\\uc704\\ud5d8\\ubfd0 \\uc544\\ub2c8\\ub77c \\ud604\\uae08\\ubc0f \\ud604\\uae08\\uc131 \\uc790\\uc0b0, \\ud30c\\uc0dd\\uae08\\uc735\\uc0c1\\ud488 \\ubc0f \\uae08\\uc735\\uae30\\uad00 \\uc608\\uce58\\uae08\\uc73c\\ub85c\\ubd80\\ud130 \\ubc1c\\uc0dd\\ud558\\uace0 \\uc788\\uc2b5\\ub2c8\\ub2e4. \\ub3c4\\ub9e4 \\uac70\\ub798\\ucc98\\uc758 \\uacbd\\uc6b0 \\ub3c5\\ub9bd\\uc801\\uc73c\\ub85c \\uc2e0\\uc6a9 \\ud3c9\\uac00\\ub97c \\ubc1b\\ub294\\ub2e4\\uba74 \\ud3c9\\uac00\\ub41c \\uc2e0\\uc6a9 \\ub4f1\\uae09\\uc774 \\uc0ac\\uc6a9\\ub418\\uba70, \\ub3c5\\ub9bd\\uc801\\uc778 \\uc2e0\\uc6a9\\uc704\\ud5d8\\uc744 \\ud3c9\\uac00\\ud558\\uac8c \\ub429\\ub2c8\\ub2e4. \\uac1c\\ubcc4\\uc801\\uc778 \\uc704\\ud5d8 \\ud55c\\ub3c4\\ub294 \\uc774\\uc0ac\\ud68c\\uac00 \\uc815\\ud55c \\ud55c\\ub3c4\\uc5d0 \\ub530\\ub77c \\ub0b4\\ubd80 \\ub610\\ub294 \\uc678\\ubd80\\uc5d0\\uc11c \\ud3c9\\uac00\\ud55c \\uc2e0\\uc6a9 \\ub4f1\\uae09\\uc744 \\ubc14\\ud0d5\\uc73c\\ub85c \\uacb0\\uc815\\ub429\\ub2c8\\ub2e4. \\uc2e0\\uc6a9 \\ud55c\\ub3c4\\uc758 \\uc0ac\\uc6a9 \\uc5ec\\ubd80\\ub294 \\uc815\\uae30\\uc801\\uc73c\\ub85c \\uac80\\ud1a0\\ub418\\uace0 \\uc788\\uc2b5\\ub2c8\\ub2e4.\\n\\ub2f9\\uae30 \\ubc0f \\uc804\\uae30\\ub9d0 \\ud604\\uc7ac \\uc2e0\\uc6a9\\uc704\\ud5d8\\uc5d0 \\ub300\\ud55c \\ucd5c\\ub300 \\ub178\\ucd9c \\uc815\\ub3c4\\ub294 \\ub2e4\\uc74c\\uacfc \\uac19\\uc2b5\\ub2c8\\ub2e4.\\n(\\ub2e8\\uc704: \\ucc9c\\uc6d0)\\n\\uad6c\\ubd84\\n\\ub2f9\\uae30\\ub9d0\\n(\\uac10\\uc0ac\\ubc1b\\uc74c)\\n\\uc804\\uae30\\ub9d0\\n(\\uac10\\uc0ac\\ubc1b\\uc74c)\\n\\ud604\\uae08\\ubc0f\\ud604\\uae08\\uc131\\uc790\\uc0b0(\\uc8fc1)\\n1,833,516\\n1,760,463\\n\\ud30c\\uc0dd\\uae08\\uc735\\uc0c1\\ud488\\n1,608,654\\n797,218\\n\\ub9e4\\ucd9c\\ucc44\\uad8c\\ubc0f \\uae30\\ud0c0\\ucc44\\uad8c\\n26,336,683\\n16,059,754\\n\\uc7a5\\uae30\\ub9e4\\ucd9c\\ucc44\\uad8c\\ubc0f \\uae30\\ud0c0\\ucc44\\uad8c\\n1,307,209\\n1,583,424\\n\\ud569\\uacc4\\n31,086,062\\n20,200,859\\n(\\uc8fc1) \\uc7ac\\ubb34\\uc0c1\\ud0dc\\ud45c\\uc758 \\\"\\ud604\\uae08\\ubc0f\\ud604\\uae08\\uc131\\uc790\\uc0b0\\\"\\uacfc\\uc758 \\ucc28\\uc561\\uc740 \\ud68c\\uc0ac\\uac00 \\uc9c1\\uc811 \\ubcf4\\uc720\\ud558\\uace0 \\uc788\\ub294 \\ud604\\uae08\\uc785\\ub2c8\\ub2e4.\\n(3) \\uc720\\ub3d9\\uc131\\uc704\\ud5d8\\n\\ud68c\\uc0ac\\ub294 \\ubbf8\\uc0ac\\uc6a9 \\ucc28\\uc785\\uae08 \\ud55c\\ub3c4\\ub97c \\uc801\\uc815\\uc218\\uc900\\uc73c\\ub85c \\uc720\\uc9c0\\ud558\\uace0 \\uc601\\uc5c5\\uc790\\uae08 \\uc218\\uc694\\ub97c \\ucda9\\uc871\\uc2dc\\ud0ac \\uc218 \\uc788\\ub3c4\\ub85d \\uc720\\ub3d9\\uc131\\uc5d0 \\ub300\\ud55c \\uc608\\uce21\\uc744 \\ud56d\\uc2dc \\ubaa8\\ub2c8\\ud130\\ub9c1\\ud558\\uc5ec \\ucc28\\uc785\\uae08 \\ud55c\\ub3c4\\ub098 \\uc57d\\uc815\\uc744 \\uc704\\ubc18\\ud558\\ub294 \\uc77c\\uc774 \\uc5c6\\ub3c4\\ub85d \\ud558\\uace0 \\uc788\\uc2b5\\ub2c8\\ub2e4. \\uc720\\ub3d9\\uc131\\uc5d0 \\ub300\\ud55c \\uc608\\uce21 \\uc2dc\\uc5d0\\ub294 \\ud68c\\uc0ac\\uc758 \\uc790\\uae08\\uc870\\ub2ec \\uacc4\\ud68d, \\uc57d\\uc815 \\uc900\\uc218, \\ud68c\\uc0ac \\ub0b4\\ubd80\\uc758 \\ubaa9\\ud45c\\uc7ac\\ubb34\\ube44\\uc728 \\ubc0f \\ud1b5\\ud654\\uc5d0 \\ub300\\ud55c \\uc81c\\ud55c\\uacfc \\uac19\\uc740 \\uc678\\ubd80 \\ubc95\\uaddc\\ub098\\ubc95\\ub960 \\uc694\\uad6c\\uc0ac\\ud56d\\uc774 \\uc788\\ub294\\uacbd\\uc6b0 \\uadf8\\ub7ec\\ud55c \\uc694\\uad6c\\uc0ac\\ud56d\\uc744 \\uace0\\ub824\\ud558\\uace0 \\uc788\\uc2b5\\ub2c8\\ub2e4.\\n\\u2460\\n\\ub2f9\\uae30\\ub9d0 \\ud604\\uc7ac \\ud68c\\uc0ac\\uc758 \\uc720\\ub3d9\\uc131 \\uc704\\ud5d8 \\ubd84\\uc11d\\ub0b4\\uc5ed\\uc740 \\ub2e4\\uc74c\\uacfc \\uac19\\uc2b5\\ub2c8\\ub2e4.\\n(\\ub2e8\\uc704:\\ucc9c\\uc6d0)\\n\\uad6c\\u00a0 \\ubd84\\n3\\uac1c\\uc6d4\\ubbf8\\ub9cc\\n3\\uac1c\\uc6d4~1\\ub144 \\uc774\\ud558\\n1\\ub144~5\\ub144 \\uc774\\ud558\\n5\\ub144 \\uc774\\uc0c1\\n\\ucc28\\uc785\\uae08\\ubc0f\\uc0ac\\ucc44(\\uc8fc1)\\n568,910\\n21,384,733\\n88,327,799\\n-\\n\\uae08\\uc735\\ub9ac\\uc2a4\\ubd80\\ucc44\\n248,506\\n295,073\\n453,274\\n-\\n\\ub9e4\\uc785\\ucc44\\ubb34\\ubc0f \\uae30\\ud0c0\\ucc44\\ubb34\\n12,465,100\\n4,194,601\\n-\\n-\\n\\ud569\\u00a0 \\uacc4\\n13,282,516\\n25,874,407\\n88,781,073\\n-\\n(\\uc8fc1) \\uc774\\uc790\\ube44\\uc6a9\\uc744 \\ud3ec\\ud568\\ud558\\uace0 \\uc788\\uc2b5\\ub2c8\\ub2e4.\\n\\u2461 \\uc804\\uae30\\ub9d0 \\ud604\\uc7ac \\ud68c\\uc0ac\\uc758 \\uc720\\ub3d9\\uc131 \\uc704\\ud5d8 \\ubd84\\uc11d\\ub0b4\\uc5ed\\uc740 \\ub2e4\\uc74c\\uacfc \\uac19\\uc2b5\\ub2c8\\ub2e4.\\n(\\ub2e8\\uc704:\\ucc9c\\uc6d0)\\n\\uad6c\\u00a0 \\ubd84\\n3\\uac1c\\uc6d4\\ubbf8\\ub9cc\\n3\\uac1c\\uc6d4~1\\ub144 \\uc774\\ud558\\n1\\ub144~5\\ub144 \\uc774\\ud558\\n5\\ub144 \\uc774\\uc0c1\\n\\ucc28\\uc785\\uae08\\ubc0f\\uc0ac\\ucc44(\\uc8fc1)\\n2,077,605\\n35,319,754\\n42,529,627\\n-\\n\\ud30c\\uc0dd\\uae08\\uc735\\ubd80\\ucc44\\n6,281\\n-\\n-\\n-\\n\\ub9e4\\uc785\\ucc44\\ubb34\\ubc0f\\uae30\\ud0c0\\ucc44\\ubb34\\n19,199,526\\n889,401\\n-\\n-\\n\\ud569\\u00a0 \\uacc4\\n21,283,412\\n36,209,155\\n42,529,627\\n-\\n(\\uc8fc1) \\uc774\\uc790\\ube44\\uc6a9\\uc744 \\ud3ec\\ud568\\ud558\\uace0 \\uc788\\uc2b5\\ub2c8\\ub2e4.\\n\\ub098. \\uc790\\ubcf8\\uc704\\ud5d8\\uad00\\ub9ac\\n\\ud68c\\uc0ac\\uc758 \\uc790\\ubcf8\\uad00\\ub9ac\\ub294 \\uac74\\uc804\\ud55c \\uc790\\ubcf8\\uad6c\\uc870\\uc758 \\uc720\\uc9c0\\ub97c \\ud1b5\\ud55c \\uc8fc\\uc8fc\\uc774\\uc775\\uc758 \\uadf9\\ub300\\ud654\\ub97c \\ubaa9\\uc801\\uc73c\\ub85c \\ud558\\uace0 \\uc788\\uc73c\\uba70 \\ucd5c\\uc801 \\uc790\\ubcf8\\uad6c\\uc870 \\ub2ec\\uc131\\uc744 \\uc704\\ud574 \\uc790\\ubcf8\\uc870\\ub2ec\\ube44\\uc728\\uc744 \\ubaa8\\ub2c8\\ud130\\ub9c1\\ud558\\uc5ec \\ud544\\uc694\\ud55c \\uacbd\\uc6b0 \\uc801\\uc808\\ud55c \\uc7ac\\ubb34\\uad6c\\uc870 \\uac1c\\uc120\\ubc29\\uc548\\uc744 \\uc2e4\\ud589\\ud558\\uace0 \\uc788\\uc2b5\\ub2c8\\ub2e4.\\n\\ud68c\\uc0ac\\uc758\\n\\ub2f9\\n\\uae30\\ub9d0 \\ubc0f\\n\\uc804\\uae30\\ub9d0 \\ud604\\uc7ac \\uc790\\ubcf8\\uc870\\ub2ec\\ube44\\uc728\\uc740 \\ub2e4\\uc74c\\uacfc \\uac19\\uc2b5\\ub2c8\\ub2e4(\\ub2e8\\uc704:\\ucc9c\\uc6d0)\\n.\\n\\uad6c\\u00a0\\u00a0 \\ubd84\\n\\ub2f9\\uae30\\ub9d0\\n(\\uac10\\uc0ac\\ubc1b\\uc74c)\\n\\uc804\\uae30\\ub9d0\\n(\\uac10\\uc0ac\\ubc1b\\uc74c)\\n\\ucd1d\\ucc28\\uc785\\uae08(A)\\n105,039,454\\n77,137,908\\n\\ud604\\uae08\\ubc0f\\ud604\\uae08\\uc131\\uc790\\uc0b0(B)\\n1,836,721\\n1,767,602\\n\\uc21c\\ubd80\\ucc44(A-B=C)\\n103,202,733\\n75,370,306\\n\\uc790\\ubcf8\\ucd1d\\uacc4(D)\\n95,852,810\\n95,365,040\\n\\ucd1d\\uc790\\ubcf8(C+D=E)\\n199,055,543\\n170,735,346\\n\\uc790\\ubcf8\\uc870\\ub2ec\\ube44\\uc728(C/E)\\n52%\\n44%\\nSK\\ubc14\\uc774\\uc624\\ub79c\\ub4dc\\n\\uac00. \\uc704\\ud5d8\\uad00\\ub9ac\\uc758 \\uac1c\\uc694\\n\\uc5f0\\uacb0\\uc2e4\\uccb4\\ub294 \\uae08\\uc735\\uc0c1\\ud488\\uc744 \\uc6b4\\uc6a9\\ud568\\uc5d0 \\ub530\\ub77c \\ub2e4\\uc74c\\uacfc \\uac19\\uc740 \\uc704\\ud5d8\\uc5d0 \\ub178\\ucd9c\\ub418\\uc5b4 \\uc788\\uc2b5\\ub2c8\\ub2e4.\\n(1) \\uc2e0\\uc6a9\\uc704\\ud5d8\\n(2) \\uc720\\ub3d9\\uc131\\uc704\\ud5d8\\n(3) \\ud658\\uc704\\ud5d8\\n(4) \\uc774\\uc790\\uc728\\uc704\\ud5d8\\n(5) \\uae30\\ud0c0 \\uac00\\uaca9\\uc704\\ud5d8\\n(6) \\uc790\\ubcf8\\uc704\\ud5d8\\uad00\\ub9ac\\n\\ubcf8 \\uc8fc\\uc11d\\uc740 \\uc0c1\\uae30 \\uc704\\ud5d8\\uc5d0 \\ub300\\ud55c \\uc5f0\\uacb0\\uc2e4\\uccb4\\uc758 \\ub178\\ucd9c\\uc815\\ub3c4 \\ubc0f \\uc774\\uc640 \\uad00\\ub828\\ud558\\uc5ec \\uc5f0\\uacb0\\uc2e4\\uccb4\\uac00 \\uc218\\ud589\\ud558\\uace0 \\uc788\\ub294 \\uc790\\ubcf8\\uad00\\ub9ac\\uc640 \\uc704\\ud5d8\\uad00\\ub9ac\\uc758 \\ubaa9\\uc801, \\uc815\\ucc45 \\ubc0f \\uc808\\ucc28\\uc640 \\uc704\\ud5d8\\uce21\\uc815\\ubc29\\ubc95 \\ub4f1\\uc5d0 \\ub300\\ud55c \\uc9c8\\uc801 \\uacf5\\uc2dc\\uc0ac\\ud56d\\uacfc \\uc591\\uc801 \\uacf5\\uc2dc\\uc0ac\\ud56d\\uc744 \\ud3ec\\ud568\\ud558\\uace0 \\uc788\\uc2b5\\ub2c8\\ub2e4.\\n\\ub098. \\uc704\\ud5d8\\uad00\\ub9ac \\uac1c\\ub150\\uccb4\\uacc4\\n\\uc5f0\\uacb0\\uc2e4\\uccb4\\ub294 \\uae08\\uc735\\uc0c1\\ud488\\uacfc \\uad00\\ub828\\ud558\\uc5ec \\uc2e0\\uc6a9\\uc704\\ud5d8, \\uc720\\ub3d9\\uc131\\uc704\\ud5d8, \\ud658\\uc704\\ud5d8, \\uc774\\uc790\\uc728\\uc704\\ud5d8 \\ub4f1\\uacfc \\uac19\\uc740 \\ub2e4\\uc591\\ud55c \\uae08\\uc735\\uc704\\ud5d8\\uc5d0 \\ub178\\ucd9c\\ub418\\uc5b4 \\uc788\\uc2b5\\ub2c8\\ub2e4.\\n\\uc5f0\\uacb0\\uc2e4\\uccb4\\uc758 \\uc704\\ud5d8\\uad00\\ub9ac\\ub294 \\uc5f0\\uacb0\\uc2e4\\uccb4\\uc758 \\uc7ac\\ubb34\\uc801 \\uc131\\uacfc\\uc5d0 \\uc601\\ud5a5\\uc744 \\ubbf8\\uce58\\ub294 \\uc7a0\\uc7ac\\uc801 \\uc704\\ud5d8\\uc744 \\uc2dd\\ubcc4\\ud558\\uc5ec \\uc5f0\\uacb0\\uc2e4\\uccb4\\uac00 \\ud5c8\\uc6a9\\uac00\\ub2a5\\ud55c \\uc218\\uc900\\uc73c\\ub85c \\uac10\\uc18c, \\uc81c\\uac70 \\ubc0f \\ud68c\\ud53c\\ud558\\ub294 \\uac83\\uc744 \\uadf8 \\ubaa9\\uc801\\uc73c\\ub85c \\ud558\\uace0 \\uc788\\uc2b5\\ub2c8\\ub2e4.\\n\\uc5f0\\uacb0\\uc2e4\\uccb4\\ub294 \\uc804\\uc0ac\\uc801\\uc778 \\uc218\\uc900\\uc758 \\uc704\\ud5d8\\uad00\\ub9ac \\uc815\\ucc45 \\ubc0f \\uc808\\ucc28\\ub97c \\ub9c8\\ub828\\ud558\\uc5ec \\uc6b4\\uc601\\ud558\\uace0 \\uc788\\uc73c\\uba70, \\uc5f0\\uacb0\\uc2e4\\uccb4\\uc758 \\uc7ac\\ubb34\\ubd80\\ubb38\\uc5d0\\uc11c \\uc704\\ud5d8\\uad00\\ub9ac\\uc5d0 \\ub300\\ud55c \\ucd1d\\uad04\\ucc45\\uc784\\uc744 \\ub2f4\\ub2f9\\ud558\\uace0 \\uc788\\uc2b5\\ub2c8\\ub2e4.\\n\\uc5f0\\uacb0\\uc2e4\\uccb4\\uc758 \\uc7ac\\ubb34\\ubd80\\ubb38\\uc740 \\uc774\\uc0ac\\ud68c\\uc5d0\\uc11c \\uc2b9\\uc778\\ub41c \\uc704\\ud5d8\\uad00\\ub9ac \\uc815\\ucc45 \\ubc0f \\uc808\\ucc28\\uc5d0 \\ub530\\ub77c \\uc5f0\\uacb0\\uc2e4\\uccb4\\uc758 \\uc601\\uc5c5\\uacfc \\uad00\\ub828\\ud55c \\uae08\\uc735\\uc704\\ud5d8\\uc744 \\uac10\\uc2dc\\ud558\\uace0 \\uad00\\ub9ac\\ud558\\ub294 \\uc5ed\\ud560\\uc744 \\ud558\\uace0 \\uc788\\uc73c\\uba70,\\uae08\\uc735\\uc704\\ud5d8\\uc758 \\uc131\\uaca9\\uacfc \\ub178\\ucd9c\\uc815\\ub3c4\\ub97c \\ubd84\\uc11d\\ud558\\uc5ec \\uc8fc\\uae30\\uc801\\uc73c\\ub85c \\uacbd\\uc601\\uc9c4\\uc5d0\\uac8c \\ubcf4\\uace0\\ud558\\uace0 \\uc788\\uc2b5\\ub2c8\\ub2e4.\\n\\uc5f0\\uacb0\\uc2e4\\uccb4\\uc758 \\uacbd\\uc601\\uc9c4\\uc740 \\uc804\\ubc18\\uc801\\uc778 \\uae08\\uc735\\uc704\\ud5d8\\uad00\\ub9ac\\uc804\\ub7b5\\uc744 \\uc218\\ub9bd\\ud558\\uace0 \\uc704\\ud5d8\\ud68c\\ud53c \\uc218\\ub2e8 \\ubc0f \\uc808\\ucc28\\ub97c \\uacb0\\uc815\\ud558\\uba70 \\uc704\\ud5d8\\uad00\\ub9ac\\uc758 \\ud6a8\\uacfc\\uc131\\uc5d0 \\ub300\\ud55c \\uc0ac\\ud6c4\\ud3c9\\uac00\\ub97c \\uc218\\ud589\\ud558\\uace0 \\uc788\\uc2b5\\ub2c8\\ub2e4.\\u00a0 \\ub610\\ud55c, \\uc5f0\\uacb0\\uc2e4\\uccb4\\uc758 \\ub0b4\\ubd80\\uac10\\uc0ac\\uc778\\uc740 \\uc704\\ud5d8\\uad00\\ub9ac \\uc815\\ucc45 \\ubc0f \\uc808\\ucc28\\uc758 \\uc900\\uc218 \\uc5ec\\ubd80\\uc640 \\uc704\\ud5d8\\ub178\\ucd9c \\ud55c\\ub3c4\\ub97c \\uc9c0\\uc18d\\uc801\\uc73c\\ub85c \\uac80\\ud1a0\\ud558\\uace0 \\uc788\\uc2b5\\ub2c8\\ub2e4.\\u00a0 \\uc5f0\\uacb0\\uc2e4\\uccb4\\uc758 \\uc804\\ubc18\\uc801\\uc778 \\uae08\\uc735\\uc704\\ud5d8 \\uad00\\ub9ac \\uc804\\ub7b5\\uc740 \\uc804\\uae30\\uc640 \\ub3d9\\uc77c\\ud569\\ub2c8\\ub2e4.\\n\\ub2e4. \\uae08\\uc735\\uc704\\ud5d8\\uad00\\ub9ac\\n(1) \\uc2e0\\uc6a9\\uc704\\ud5d8\\uad00\\ub9ac\\n\\uc5f0\\uacb0\\uc2e4\\uccb4\\ub294 \\uae08\\uc735\\uc0c1\\ud488\\uc758 \\ub2f9\\uc0ac\\uc790 \\uc911 \\uc77c\\ubc29\\uc774 \\uc758\\ubb34\\ub97c \\uc774\\ud589\\ud558\\uc9c0 \\uc54a\\uc544 \\uc0c1\\ub300\\ubc29\\uc5d0\\uac8c \\uc7ac\\ubb34\\uc190\\uc2e4\\uc744 \\uc785\\ud790 \\uc2e0\\uc6a9\\uc704\\ud5d8\\uc5d0 \\ub178\\ucd9c\\ub418\\uc5b4 \\uc788\\uc2b5\\ub2c8\\ub2e4. \\uc5f0\\uacb0\\uc2e4\\uccb4\\uc758 \\uacbd\\uc601\\uc9c4\\uc740 \\uc2e0\\uc6a9\\uc704\\ud5d8\\uc744 \\uad00\\ub9ac\\ud558\\uae30 \\uc704\\ud558\\uc5ec \\uc2e0\\uc6a9\\ub3c4\\uac00 \\uc77c\\uc815 \\uc218\\uc900 \\uc774\\uc0c1\\uc778 \\uac70\\ub798\\ucc98\\uc640 \\uac70\\ub798\\ud558\\uace0 \\uc788\\uc73c\\uba70, \\uae08\\uc735\\uc790\\uc0b0\\uc758 \\uc2e0\\uc6a9\\ubcf4\\uac15\\uc744 \\uc704\\ud55c \\uc815\\ucc45\\uacfc \\uc808\\ucc28\\ub97c \\ub9c8\\ub828\\ud558\\uc5ec \\uc6b4\\uc601\\ud558\\uace0 \\uc788\\uc2b5\\ub2c8\\ub2e4.\\n\\uc5f0\\uacb0\\uc2e4\\uccb4\\ub294 \\uc2e0\\uaddc \\uac70\\ub798\\ucc98\\uc640 \\uacc4\\uc57d\\uc2dc \\uacf5\\uac1c\\ub41c \\uc7ac\\ubb34\\uc815\\ubcf4\\uc640 \\uc2e0\\uc6a9\\ud3c9\\uac00\\uae30\\uad00\\uc5d0 \\uc758\\ud558\\uc5ec \\uc81c\\uacf5\\ub41c\\uc815\\ubcf4 \\ub4f1\\uc744 \\uc774\\uc6a9\\ud558\\uc5ec \\uac70\\ub798\\ucc98\\uc758 \\uc2e0\\uc6a9\\ub3c4\\ub97c \\ud3c9\\uac00\\ud558\\uace0 \\uc774\\ub97c \\uadfc\\uac70\\ub85c \\uc2e0\\uc6a9\\uac70\\ub798\\ud55c\\ub3c4\\ub97c \\uacb0\\uc815\\ud558\\uace0 \\uc788\\uc73c\\uba70, \\ub2f4\\ubcf4 \\ub610\\ub294 \\uc9c0\\uae09\\ubcf4\\uc99d\\uc744 \\uc81c\\uacf5\\ubc1b\\uace0 \\uc788\\uc2b5\\ub2c8\\ub2e4.\\u00a0 \\ub610\\ud55c, \\uc5f0\\uacb0\\uc2e4\\uccb4\\ub294 \\uc8fc\\uae30\\uc801\\uc73c\\ub85c \\uac70\\ub798\\ucc98\\uc758 \\uc2e0\\uc6a9\\ub3c4\\ub97c \\uc7ac\\ud3c9\\uac00\\ud558\\uc5ec \\uc2e0\\uc6a9\\uac70\\ub798\\ud55c\\ub3c4\\ub97c \\uc7ac\\uac80\\ud1a0\\ud558\\uace0 \\ub2f4\\ubcf4\\uc218\\uc900\\uc744 \\uc7ac\\uc870\\uc815\\ud558\\uace0 \\uc788\\uc73c\\uba70, \\ud68c\\uc218\\uac00 \\uc9c0\\uc5f0\\ub418\\ub294 \\uae08\\uc735\\uc790\\uc0b0\\uc5d0 \\ub300\\ud558\\uc5ec\\ub294 \\ubd84\\uae30 \\ub2e8\\uc704\\ub85c \\ud68c\\uc218\\uc9c0\\uc5f0 \\ud604\\ud669 \\ubc0f \\ud68c\\uc218\\ub300\\ucc45\\uc744 \\ubcf4\\uace0\\ud558\\uace0 \\uc788\\uc73c\\uba70 \\uc9c0\\uc5f0\\uc0ac\\uc720\\uc5d0 \\ub530\\ub77c \\uc801\\uc808\\ud55c \\uc870\\uce58\\ub97c \\ucde8\\ud558\\uace0 \\uc788\\uc2b5\\ub2c8\\ub2e4.\\n\\u2460 \\uc2e0\\uc6a9\\uc704\\ud5d8\\uc5d0 \\ub300\\ud55c \\ucd5c\\ub300\\ub178\\ucd9c\\uc815\\ub3c4\\n\\uae08\\uc735\\uc790\\uc0b0\\uc758 \\uc7a5\\ubd80\\uae08\\uc561\\uc740 \\uc2e0\\uc6a9\\uc704\\ud5d8\\uc5d0 \\ub300\\ud55c \\ucd5c\\ub300\\ub178\\ucd9c\\uc815\\ub3c4\\ub97c \\ub098\\ud0c0\\ub0c5\\ub2c8\\ub2e4. \\ub2f9\\uae30 \\ubc0f \\uc804\\uae30\\ub9d0 \\ud604\\uc7ac \\uc5f0\\uacb0\\uc2e4\\uccb4\\uc758 \\uc2e0\\uc6a9\\uc704\\ud5d8\\uc5d0 \\ub300\\ud55c \\ucd5c\\ub300 \\ub178\\ucd9c\\uc815\\ub3c4\\ub294 \\ub2e4\\uc74c\\uacfc \\uac19\\uc2b5\\ub2c8\\ub2e4.\\n(\\ub2e8\\uc704 : \\ucc9c\\uc6d0)\\n\\uad6c\\u00a0\\u00a0 \\ubd84\\n\\ub2f9\\uae30\\n\\uc804\\uae30\\n\\ubcf4\\uc99d\\uae08\\n4,305,720\\n4,857,456\\n\\uae30\\ud0c0\\uae08\\uc735\\uc790\\uc0b0\\n1,018,000\\n706,865\\n\\uc7a5\\uae30\\ub300\\uc5ec\\uae08\\n159,200\\n164,000\\n\\uae30\\ud0c0\\uc720\\ub3d9\\uc790\\uc0b0\\n1,308,873\\n1,269,989\\n\\ub9e4\\ucd9c\\ucc44\\uad8c \\ubc0f \\uae30\\ud0c0\\ucc44\\uad8c\\n16,959,613\\n16,942,418\\n\\ud604\\uae08\\ubc0f\\ud604\\uae08\\uc131\\uc790\\uc0b0\\n14,314,123\\n20,545,926\\n\\ud569\\u00a0\\u00a0 \\uacc4\\n38,065,529\\n44,486,654\\n\\u2461 \\uc190\\uc0c1\\ucc28\\uc190\\n\\ub2f9\\uae30 \\ubc0f \\uc804\\uae30\\ub9d0 \\ud604\\uc7ac \\ub9e4\\ucd9c\\ucc44\\uad8c\\uc758 \\uc5f0\\ub839 \\ubc0f \\uac01 \\uc5f0\\ub839\\ubcc4\\ub85c \\uc190\\uc0c1\\ub41c \\ucc44\\uad8c\\uae08\\uc561\\uc740 \\ub2e4\\uc74c\\uacfc \\uac19\\uc2b5\\ub2c8\\ub2e4.\\n(\\ub2e8\\uc704 : \\ucc9c\\uc6d0)\\n\\ubc1c\\uc0dd\\uc2dc\\uc810\\uc77c\\ub85c\\ubd80\\ud130 \\uacbd\\uacfc\\uc77c\\n\\ub2f9\\uae30\\n\\uc804\\uae30\\n\\ucc44\\uad8c\\uc794\\uc561\\n\\uc190\\uc0c1\\uae08\\uc561\\n\\ucc44\\uad8c\\uc794\\uc561\\n\\uc190\\uc0c1\\uae08\\uc561\\n1\\uac1c\\uc6d4\\uc774\\ub0b4\\n8,642,861\\n487\\n9,150,105\\n-\\n1\\uac1c\\uc6d4\\ucd08\\uacfc 3\\uac1c\\uc6d4\\uc774\\ud558\\n5,795,252\\n342\\n5,891,540\\n6,428\\n3\\uac1c\\uc6d4\\ucd08\\uacfc 6\\uac1c\\uc6d4\\uc774\\ud558\\n564,337\\n506\\n808,303\\n4,192\\n6\\uac1c\\uc6d4\\ucd08\\uacfc 1\\ub144\\uc774\\ud558\\n8,642\\n175\\n159,847\\n152,933\\n1\\ub144\\ucd08\\uacfc ~\\n88,534\\n88,535\\n93,598\\n93,599\\n\\ud569\\u00a0\\u00a0 \\uacc4\\n15,099,626\\n90,045\\n16,103,393\\n257,152\\n(2) \\uc720\\ub3d9\\uc131\\uc704\\ud5d8\\uad00\\ub9ac\\n\\uc5f0\\uacb0\\uc2e4\\uccb4\\ub294 \\uc720\\ub3d9\\uc131\\uc704\\ud5d8\\uc744 \\uad00\\ub9ac\\ud558\\uae30\\uc704\\ud558\\uc5ec \\ub2e8\\uae30 \\ubc0f \\uc911\\uc7a5\\uae30 \\uc790\\uae08\\uad00\\ub9ac\\uacc4\\ud68d\\uc744 \\uc218\\ub9bd\\ud558\\uace0 \\ud604\\uae08\\uc720\\ucd9c\\uc608\\uc0b0\\uacfc \\uc2e4\\uc81c\\ud604\\uae08\\uc720\\ucd9c\\uc561\\uc744 \\uc9c0\\uc18d\\uc801\\uc73c\\ub85c \\ubd84\\uc11d,\\uac80\\ud1a0\\ud558\\uc5ec \\uae08\\uc735\\ubd80\\ucc44\\uc640 \\uae08\\uc735\\uc790\\uc0b0\\uc758 \\ub9cc\\uae30\\uad6c\\uc870\\ub97c \\ub300\\uc751\\uc2dc\\ud0a4\\uace0 \\uc788\\uc2b5\\ub2c8\\ub2e4. \\uc5f0\\uacb0\\uc2e4\\uccb4\\uc758 \\uacbd\\uc601\\uc9c4\\uc740 \\uc601\\uc5c5\\ud65c\\ub3d9\\ud604\\uae08\\ud750\\ub984\\uacfc \\uae08\\uc735\\uc790\\uc0b0\\uc758 \\ud604\\uae08\\uc720\\uc785\\uc73c\\ub85c \\uae08\\uc735\\ubd80\\ucc44\\ub97c \\uc0c1\\ud658\\uac00\\ub2a5\\ud558\\ub2e4\\uace0 \\ud310\\ub2e8\\ud558\\uace0 \\uc788\\uc2b5\\ub2c8\\ub2e4.\\n\\u2460 \\ub2f9\\uae30\\ub9d0 \\ud604\\uc7ac \\uae08\\uc735\\ubd80\\ucc44\\uc758 \\uc794\\uc874\\uacc4\\uc57d\\ub9cc\\uae30\\uc5d0 \\ub530\\ub978 \\ub9cc\\uae30\\ubd84\\uc11d\\n(\\ub2e8\\uc704 : \\ucc9c\\uc6d0)\\n\\uad6c\\u00a0\\u00a0 \\ubd84\\n\\uc7a5\\ubd80\\uae08\\uc561\\n6\\uac1c\\uc6d4\\uc774\\ub0b4\\n6-12\\uac1c\\uc6d4\\n1-2\\ub144\\n2-5\\ub144\\n\\uc7a5\\uae30\\ucc28\\uc785\\uae08\\n27,798,222\\n-\\n-\\n13,350,268\\n14,447,954\\n\\uc7a5\\uae30\\ubbf8\\uc9c0\\uae09\\uae08\\n84,462\\n-\\n-\\n84,462\\n-\\n\\ub9ac\\uc2a4\\ubd80\\ucc44\\n101,853\\n-\\n-\\n101,853\\n-\\n\\uc720\\ub3d9\\uc131\\ub9ac\\uc2a4\\ubd80\\ucc44\\n195,730\\n103,690\\n92,040\\n-\\n-\\n\\ub2e8\\uae30\\ucc28\\uc785\\uae08\\n4,143,500\\n-\\n4,143,500\\n-\\n-\\n\\uc720\\ub3d9\\uc131\\uc7a5\\uae30\\ubd80\\ucc44\\n7,996,956\\n5,321,822\\n2,675,134\\n-\\n-\\n\\ub9e4\\uc785\\ucc44\\ubb34 \\ubc0f \\uae30\\ud0c0\\ucc44\\ubb34\\n8,671,386\\n8,671,386\\n-\\n-\\n-\\n\\ub2f9\\uae30\\ubc95\\uc778\\uc138\\ubd80\\ucc44\\n943,258\\n943,258\\n-\\n-\\n-\\n\\ud569\\uacc4\\n49,935,367\\n15,040,156\\n6,910,674\\n13,536,583\\n14,447,954\\n(3) \\ud658\\uc704\\ud5d8\\n\\uc9c0\\ubc30\\ud68c\\uc0ac\\ub294 \\uc678\\ud654\\ub9e4\\ucd9c\\ucc44\\uad8c \\ub4f1\\uacfc \\uad00\\ub828\\ud558\\uc5ec \\uc8fc\\ub85c USD \\ubc0f EUR, JPY\\uc758 \\ud658\\uc728\\ubcc0\\ub3d9\\uc704\\ud5d8\\uc5d0\\ub178\\ucd9c\\ub418\\uc5b4 \\uc788\\uc2b5\\ub2c8\\ub2e4. \\ub2f9\\uae30 \\ubc0f \\uc804\\uae30\\ub9d0 \\ud604\\uc7ac \\uae30\\ub2a5\\ud1b5\\ud654 \\uc774\\uc678\\uc758 \\uc678\\ud654\\ub85c \\ud45c\\uc2dc\\ub41c \\ud654\\ud3d0\\uc131\\uc790\\uc0b0\\ubc0f \\ubd80\\ucc44\\uc758 \\uc7a5\\ubd80\\uae08\\uc561\\uc740 \\ub2e4\\uc74c\\uacfc \\uac19\\uc2b5\\ub2c8\\ub2e4.\\n\\u2460 \\ud658\\uc704\\ud5d8\\uc5d0 \\ub300\\ud55c \\ub178\\ucd9c\\n(\\uc678\\ud654\\ub2e8\\uc704 : \\ubbf8\\ub2ec\\ub7ec, \\uc720\\ub85c, \\uc5d4)\\n\\uad6c\\u00a0\\u00a0 \\ubd84\\n\\ub2f9\\uae30\\n\\uc804\\uae30\\nUSD\\nEUR\\nJPY\\nCNY\\nAUD\\nUSD\\nEUR\\nJPY\\nCNY\\nAUD\\n\\uc790\\uc0b0\\n\\ud604\\uae08\\ubc0f\\ud604\\uae08\\uc131\\uc790\\uc0b0\\n1,833,046\\n97,310\\n5,596,467\\n0.41\\n-\\n12,600\\n-\\n30\\n-\\n-\\n\\ub9e4\\ucd9c\\ucc44\\uad8c\\ubc0f\\uae30\\ud0c0\\ucc44\\uad8c\\n3,224,047\\n284,402\\n-\\n-\\n-\\n4,309,040\\n213,319\\n1,586,000\\n-\\n-\\n\\ud569\\u00a0\\u00a0 \\uacc4\\n5,057,093\\n381,711\\n5,596,467\\n0.41\\n-\\n4,321,640\\n213,319\\n1,586,030\\n-\\n-\\n\\ubd80\\ucc44\\n\\ub9e4\\uc785\\ucc44\\ubb34\\n275,063\\n-\\n18,933\\n208,107\\n1,647\\n30,370\\n-\\n146,933\\n708,280\\n1,319\\n\\ub2f9\\uae30 \\ubc0f \\uc804\\uae30\\ub9d0 \\ud604\\uc7ac \\uc801\\uc6a9\\ub41c \\ud658\\uc728\\uc740 \\ub2e4\\uc74c\\uacfc \\uac19\\uc2b5\\ub2c8\\ub2e4.\\n\\uad6c\\u00a0\\u00a0 \\ubd84\\n\\ub2f9\\uae30\\n\\uc804\\uae30\\nUSD\\n1,157.80\\n1,118.10\\nEUR\\n1,297.43\\n1,279.16\\nJPY\\n10.6347\\n10.1318\\nCNY\\n165.74\\n162.76\\nAUD\\n810.34\\n787.81\\n\\u2461 \\uc678\\ud654\\uc5d0 \\ub300\\ud55c \\ud658\\uc728 10% \\ubcc0\\ub3d9\\uc2dc \\ud658\\uc728\\ubcc0\\ub3d9\\uc774 \\ub2f9\\uae30\\uc190\\uc775\\uc5d0 \\ub300\\ud55c \\ubbfc\\uac10\\ub3c4\\n\\ub2f9\\uae30\\ub9d0\\uacfc \\uc804\\uae30\\ub9d0 \\ud604\\uc7ac \\uc9c0\\ubc30\\ud68c\\uc0ac \\uae08\\uc735\\uc790\\uc0b0\\uacfc \\ubd80\\ucc44\\ub97c \\uad6c\\uc131\\ud558\\ub294 \\uc8fc\\uc694 \\uc678\\ud654 \\ud1b5\\ud654\\uc5d0 \\ub300\\ud55c \\uc6d0\\ud654\\uc758 \\ud658\\uc728\\uc774 \\uc0c1\\uc2b9 \\ub610\\ub294 \\ud558\\ub77d \\ud558\\uc600\\ub354\\ub77c\\uba74, \\uc5f0\\uacb0\\uc2e4\\uccb4\\uc758 \\uc790\\ubcf8\\uacfc \\uc190\\uc775\\uc740 \\ubcc0\\ub3d9\\ud558\\uc600\\uc744 \\uac83\\uc785\\ub2c8\\ub2e4. \\uc774\\uc640 \\uac19\\uc740 \\ubd84\\uc11d\\uc740 \\uc9c0\\ubc30\\ud68c\\uc0ac\\uac00 \\ub2f9\\uae30\\ub9d0\\uc5d0 \\ud569\\ub9ac\\uc801\\uc73c\\ub85c \\uac00\\ub2a5\\ud558\\ub2e4\\uace0 \\ud310\\ub2e8\\ud558\\ub294 \\uc815\\ub3c4\\uc758 \\ubcc0\\ub3d9\\uc744 \\uac00\\uc815\\ud55c \\uac83\\uc785\\ub2c8\\ub2e4. \\ub610\\ud55c, \\ubbfc\\uac10\\ub3c4\\ubd84\\uc11d \\uc2dc\\uc5d0\\ub294 \\uc774\\uc790\\uc728 \\ub4f1 \\ub2e4\\ub978 \\ubcc0\\uc218\\ub294 \\ubcc0\\ub3d9\\ud558\\uc9c0 \\uc54a\\ub294\\ub2e4\\uace0 \\uac00\\uc815\\ud558\\uc600\\uc2b5\\ub2c8\\ub2e4. \\uad6c\\uccb4\\uc801\\uc778 \\uc790\\ubcf8 \\ubc0f \\uc190\\uc775\\uc758 \\ubc95\\uc778\\uc138 \\ubc18\\uc601 \\uc804 \\ubcc0\\ub3d9\\uae08\\uc561\\uc740\\ub2e4\\uc74c\\uacfc \\uac19\\uc2b5\\ub2c8\\ub2e4.\\n(\\ub2e8\\uc704 : \\ucc9c\\uc6d0)\\n\\uad6c\\u00a0\\u00a0 \\ubd84\\n\\ub2f9\\uae30\\n\\uc804\\uae30\\n10%\\uc0c1\\uc2b9\\uc2dc\\n10%\\ud558\\ub77d\\uc2dc\\n10%\\uc0c1\\uc2b9\\uc2dc\\n10%\\ud558\\ub77d\\uc2dc\\nUSD\\n553,663\\n(553,663)\\n479,807\\n(479,807)\\nEUR\\n49,524\\n(49,524)\\n27,287\\n(27,287)\\nJPY\\n5,932\\n(5,932)\\n1,458\\n(1,458)\\nCNY\\n(3,449)\\n3,449\\n(11,528)\\n11,528\\nAUD\\n(133)\\n133\\n(104)\\n104\\n(4) \\uc774\\uc790\\uc728\\uc704\\ud5d8\\uad00\\ub9ac\\n\\ub2f9\\uae30 \\ubc0f \\uc804\\uae30\\ub9d0 \\ud604\\uc7ac \\uc5f0\\uacb0\\uc2e4\\uccb4\\uac00 \\ubcf4\\uc720\\ud558\\uace0 \\uc788\\ub294 \\ubcc0\\ub3d9\\uc774\\uc790\\ubd80 \\uae08\\uc735\\uc0c1\\ud488\\uc758 \\uc7a5\\ubd80\\uae08\\uc561\\uc740 \\ub2e4\\uc74c\\uacfc \\uac19\\uc2b5\\ub2c8\\ub2e4.\\n\\u2460 \\ubcc0\\ub3d9\\uc774\\uc790\\ubd80 \\uae08\\uc735\\uc0c1\\ud488 \\ub0b4\\uc5ed\\n(\\ub2e8\\uc704 : \\ucc9c\\uc6d0)\\n\\uad6c\\u00a0\\u00a0 \\ubd84\\n\\ub2f9\\uae30\\n\\uc804\\uae30\\n\\uc790\\u00a0 \\u00a0\\u00a0 \\uc0b0\\n\\ub2e8\\uae30\\uae08\\uc735\\uc0c1\\ud488\\n-\\n-\\n\\ubd80\\u00a0 \\u00a0\\u00a0 \\ucc44\\n\\uc720\\ub3d9\\uc131\\uc7a5\\uae30\\ubd80\\ucc44\\n(3,000,000)\\n(10,000,000)\\n\\uc7a5\\uae30\\ucc28\\uc785\\uae08\\n(18,000,000)\\n(11,000,000)\\n\\ud569\\u00a0\\u00a0 \\uacc4\\n(21,000,000)\\n(21,000,000)\\n\\u2461 \\uc774\\uc790\\uc728 1%\\ubcc0\\ub3d9\\uc2dc \\ub2f9\\uae30\\uc190\\uc775\\uc5d0 \\ub300\\ud55c \\ubbfc\\uac10\\ub3c4\\n(\\ub2e8\\uc704 : \\ucc9c\\uc6d0)\\n\\uad6c\\u00a0\\u00a0 \\ubd84\\n\\ub2f9\\uae30\\n\\uc804\\uae30\\n1%\\uc0c1\\uc2b9\\uc2dc\\n1%\\ud558\\ub77d\\uc2dc\\n1%\\uc0c1\\uc2b9\\uc2dc\\n1%\\ud558\\ub77d\\uc2dc\\n\\uc21c\\uc774\\uc775\\uc99d\\uac00(\\uac10\\uc18c)\\n(210,000)\\n210,000\\n(210,000)\\n210,000\\n(5) \\uae30\\ud0c0\\uac00\\uaca9\\uc704\\ud5d8\\n\\uc5f0\\uacb0\\uc2e4\\uccb4\\ub294 \\uc720\\uc758\\uc801\\uc778 \\uac00\\uaca9\\uc704\\ud5d8\\uc5d0 \\ub178\\ucd9c\\ub418\\uc5b4 \\uc788\\ub294 \\uae08\\uc735\\uc0c1\\ud488\\uc744 \\ubcf4\\uc720\\ud558\\uace0 \\uc788\\uc9c0 \\uc54a\\uc2b5\\ub2c8\\ub2e4.\\n(6) \\uc790\\ubcf8\\uc704\\ud5d8\\uad00\\ub9ac\\n\\uc5f0\\uacb0\\uc2e4\\uccb4\\uc758 \\uc790\\ubcf8\\uad00\\ub9ac\\ub294 \\uacc4\\uc18d\\uae30\\uc5c5\\uc73c\\ub85c\\uc11c\\uc758 \\uc874\\uc18d\\ub2a5\\ub825\\uc744 \\uc720\\uc9c0\\ud558\\ub294 \\ud55c\\ud3b8, \\uc790\\ubcf8\\uc870\\ub2ec\\ube44\\uc6a9\\uc744 \\ucd5c\\uc18c\\ud654\\ud558\\uc5ec \\uc8fc\\uc8fc\\uc774\\uc775\\uc744 \\uadf9\\ub300\\ud654\\ud558\\ub294\\uac83\\uc744 \\uadf8 \\ubaa9\\uc801\\uc73c\\ub85c \\ud558\\uace0 \\uc788\\uc2b5\\ub2c8\\ub2e4. \\uc5f0\\uacb0\\uc2e4\\uccb4\\uc758 \\uc790\\ubcf8\\uad6c\\uc870\\ub294 \\ucc28\\uc785\\uae08\\uc5d0\\uc11c \\ud604\\uae08\\ubc0f\\ud604\\uae08\\uc131\\uc790\\uc0b0 \\ub4f1\\uc744 \\ucc28\\uac10\\ud55c \\uc21c\\ubd80\\ucc44\\uc640 \\uc790\\ubcf8\\uc73c\\ub85c \\uad6c\\uc131\\ub418\\uba70,\\uc5f0\\uacb0\\uc2e4\\uccb4\\uc758 \\uacbd\\uc601\\uc9c4\\uc740 \\uc790\\ubcf8\\uad6c\\uc870\\ub97c \\uc8fc\\uae30\\uc801\\uc73c\\ub85c \\uac80\\ud1a0\\ud558\\uace0 \\uc788\\uace0, \\uc804\\ubc18\\uc801\\uc778 \\uc790\\ubcf8\\uc704\\ud5d8 \\uad00\\ub9ac\\uc815\\ucc45\\uc740 \\uc804\\uae30\\uc640 \\ub3d9\\uc77c\\ud569\\ub2c8\\ub2e4. \\uc5f0\\uacb0\\uc2e4\\uccb4\\uc758 \\ub2f9\\uae30 \\ubc0f \\uc804\\uae30\\ub9d0 \\ud604\\uc7ac \\uc790\\ubcf8 \\ub300 \\uc21c\\ubd80\\ucc44\\ube44\\uc728\\uc740\\ub2e4\\uc74c\\uacfc \\uac19\\uc2b5\\ub2c8\\ub2e4.\\n(\\ub2e8\\uc704 : \\ucc9c\\uc6d0)\\n\\uad6c\\u00a0\\u00a0 \\ubd84\\n\\ub2f9\\uae30\\n\\uc804\\uae30\\n\\uc7a5\\ub2e8\\uae30\\ucc28\\uc785\\uae08\\n39,938,678\\n30,451,433\\n\\ud604\\uae08\\ubc0f\\ud604\\uae08\\uc131\\uc790\\uc0b0\\n14,314,123\\n20,545,926\\n\\uc21c\\ubd80\\ucc44\\n25,624,555\\n9,905,507\\n\\uc790\\u00a0\\u00a0 \\ubcf8\\n155,723,549\\n148,905,964\\n\\uc21c\\ubd80\\ucc44\\ube44\\uc728(\\uc21c\\ubd80\\ucc44/\\uc790\\ubcf8)\\n16.5%\\n6.7%\\n(7) \\uae08\\uc735\\uc0c1\\ud488\\uc758 \\uacf5\\uc815\\uac00\\uce58\\n\\u2460 \\ub2f9\\uae30 \\ubc0f \\uc804\\uae30\\ub9d0 \\ud604\\uc7ac \\uae08\\uc735\\uc0c1\\ud488\\uc758 \\ubc94\\uc8fc\\ubcc4 \\ubd84\\ub958\\ub0b4\\uc5ed\\uc740 \\ub2e4\\uc74c\\uacfc \\uac19\\uc2b5\\ub2c8\\ub2e4.\\n<\\ub2f9\\uae30>\\n(\\ub2e8\\uc704 : \\ucc9c\\uc6d0)\\n\\uad6c\\u00a0\\u00a0 \\ubd84\\n\\uc0c1\\uac01\\ud6c4\\uc6d0\\uac00\\uce21\\uc815\\n\\uae08\\uc735\\uc790\\uc0b0\\n\\ub2f9\\uae30\\uc190\\uc775-\\uacf5\\uc815\\uac00\\uce58\\uce21\\uc815 \\uae08\\uc735\\uc790\\uc0b0\\n\\uae30\\ud0c0\\ud3ec\\uad04\\uc190\\uc775-\\uacf5\\uc815\\uac00\\uce58\\uce21\\uc815 \\uc9c0\\ubd84\\uc0c1\\ud488\\n\\uc0c1\\uac01\\ud6c4\\uc6d0\\uac00\\uce21\\uc815\\n\\uae08\\uc735\\ubd80\\ucc44\\n\\uae08\\uc735\\uc790\\uc0b0\\n\\ud604\\uae08\\ubc0f\\ud604\\uae08\\uc131\\uc790\\uc0b0\\n14,314,123\\n-\\n-\\n-\\n\\ub9e4\\ucd9c\\ucc44\\uad8c\\ubc0f\\uae30\\ud0c0\\ucc44\\uad8c\\n16,959,613\\n-\\n-\\n-\\n\\uae30\\ud0c0\\uae08\\uc735\\uc790\\uc0b0\\n-\\n998,000\\n20,000\\n-\\n\\ud30c\\uc0dd\\uc0c1\\ud488\\uc790\\uc0b0\\n-\\n55,880\\n-\\n-\\n\\ubcf4\\uc99d\\uae08\\n4,305,720\\n-\\n-\\n-\\n\\uc7a5\\uae30\\ub300\\uc5ec\\uae08\\n159,200\\n-\\n-\\n-\\n\\uc18c\\uacc4\\n35,738,656\\n1,053,880\\n20,000\\n-\\n\\uae08\\uc735\\ubd80\\ucc44\\n\\ub9e4\\uc785\\ucc44\\ubb34\\ubc0f\\uae30\\ud0c0\\ucc44\\ubb34\\n-\\n-\\n-\\n8,671,386\\n\\ub2e8\\uae30\\ucc28\\uc785\\uae08\\n-\\n-\\n-\\n4,143,500\\n\\uc720\\ub3d9\\uc131\\uc7a5\\uae30\\ubd80\\ucc44\\n-\\n-\\n-\\n7,996,956\\n\\uc7a5\\uae30\\ucc28\\uc785\\uae08\\n-\\n-\\n-\\n27,798,222\\n\\uc720\\ub3d9\\uc131\\ub9ac\\uc2a4\\ubd80\\ucc44\\n-\\n-\\n-\\n195,730\\n\\ub9ac\\uc2a4\\ubd80\\ucc44\\n-\\n-\\n-\\n101,853\\n\\uc7a5\\uae30\\ubbf8\\uc9c0\\uae09\\uae08\\n-\\n-\\n-\\n84,462\\n\\uc18c\\uacc4\\n-\\n-\\n-\\n48,992,109\\n<\\uc804\\uae30>\\n(\\ub2e8\\uc704 : \\ucc9c\\uc6d0)\\n\\uad6c\\u00a0\\u00a0 \\ubd84\\n\\uc0c1\\uac01\\ud6c4\\uc6d0\\uac00\\uce21\\uc815\\n\\uae08\\uc735\\uc790\\uc0b0\\n\\ub2f9\\uae30\\uc190\\uc775-\\uacf5\\uc815\\uac00\\uce58\\uce21\\uc815 \\uae08\\uc735\\uc790\\uc0b0\\n\\uae30\\ud0c0\\ud3ec\\uad04\\uc190\\uc775-\\uacf5\\uc815\\uac00\\uce58\\uce21\\uc815 \\uc9c0\\ubd84\\uc0c1\\ud488\\n\\uc0c1\\uac01\\ud6c4\\uc6d0\\uac00\\uce21\\uc815\\n\\uae08\\uc735\\ubd80\\ucc44\\n\\uae08\\uc735\\uc790\\uc0b0\\n\\ud604\\uae08\\ubc0f\\ud604\\uae08\\uc131\\uc790\\uc0b0\\n20,545,926\\n-\\n-\\n-\\n\\ub9e4\\ucd9c\\ucc44\\uad8c\\ubc0f\\uae30\\ud0c0\\ucc44\\uad8c\\n16,942,418\\n-\\n-\\n-\\n\\uae30\\ud0c0\\uae08\\uc735\\uc790\\uc0b0\\n16,865\\n670,000\\n20,000\\n-\\n\\ubcf4\\uc99d\\uae08\\n4,857,456\\n-\\n-\\n-\\n\\uc7a5\\uae30\\ub300\\uc5ec\\uae08\\n164,000\\n-\\n-\\n-\\n\\uc18c\\uacc4\\n42,526,665\\n670,000\\n20,000\\n-\\n\\uae08\\uc735\\ubd80\\ucc44\\n\\ub9e4\\uc785\\ucc44\\ubb34\\ubc0f\\uae30\\ud0c0\\ucc44\\ubb34\\n-\\n-\\n-\\n8,743,726\\n\\ub2e8\\uae30\\ucc28\\uc785\\uae08\\n-\\n-\\n-\\n1,234,480\\n\\uc720\\ub3d9\\uc131\\uc7a5\\uae30\\ubd80\\ucc44\\n-\\n-\\n-\\n11,173,850\\n\\uc7a5\\uae30\\ucc28\\uc785\\uae08\\n-\\n-\\n-\\n18,043,102\\n\\uc7a5\\uae30\\ubbf8\\uc9c0\\uae09\\uae08\\n-\\n-\\n-\\n178,865\\n\\uc18c\\uacc4\\n-\\n-\\n-\\n39,374,024\\n\\u2461 \\ub2f9\\uae30\\uc640 \\uc804\\uae30\\uc758 \\uae08\\uc735\\uc0c1\\ud488 \\ubc94\\uc8fc\\ubcc4 \\uc218\\uc775 \\ubc0f \\ube44\\uc6a9\\uc758 \\uc8fc\\uc694\\ub0b4\\uc5ed\\uc740 \\ub2e4\\uc74c\\uacfc \\uac19\\uc2b5\\ub2c8\\ub2e4.\\n<\\ub2f9\\uae30>\\n(\\ub2e8\\uc704 : \\ucc9c\\uc6d0)\\n\\uad6c\\ubd84\\n\\uc0c1\\uac01\\ud6c4\\uc6d0\\uac00 \\uce21\\uc815\\n\\uae08\\uc735\\uc790\\uc0b0\\n\\ub2f9\\uae30\\uc190\\uc775-\\uacf5\\uc815\\uac00\\uce58\\uce21\\uc815 \\uae08\\uc735\\uc790\\uc0b0\\n\\uc0c1\\uac01\\ud6c4\\uc6d0\\uac00 \\uce21\\uc815\\n\\uae08\\uc735\\ubd80\\ucc44\\n\\ub2f9\\uae30\\uc190\\uc775-\\uacf5\\uc815\\uac00\\uce58\\n\\uce21\\uc815 \\uae08\\uc735\\ubd80\\ucc44\\n\\ud569\\u00a0 \\uacc4\\n\\ub2f9\\uae30\\uc190\\uc775 :\\n\\uc774\\uc790\\uc218\\uc775\\n222,996\\n-\\n-\\n-\\n222,996\\n\\uc678\\ud658\\ucc28\\uc775\\n463,332\\n-\\n32,016\\n-\\n495,348\\n\\uc678\\ud654\\ud658\\uc0b0\\uc774\\uc775\\n26\\n-\\n2,854\\n-\\n2,880\\n\\ub2f9\\uae30\\uc190\\uc775-\\uacf5\\uc815\\uac00\\uce58\\uce21\\uc815\\uae08\\uc735\\uc790\\uc0b0\\ud3c9\\uac00\\uc774\\uc775\\n-\\n328,000\\n-\\n-\\n328,000\\n\\ud30c\\uc0dd\\uc0c1\\ud488\\ud3c9\\uac00\\uc774\\uc775\\n-\\n55,880\\n-\\n-\\n55,880\\n\\uc774\\uc790\\ube44\\uc6a9\\n-\\n-\\n(757,236)\\n-\\n(757,236)\\n\\uc678\\ud658\\ucc28\\uc190\\n(190,366)\\n-\\n(87,411)\\n-\\n(277,777)\\n\\uc678\\ud654\\ud658\\uc0b0\\uc190\\uc2e4\\n(64,559)\\n-\\n(13)\\n-\\n(64,572)\\n\\ud30c\\uc0dd\\uc0c1\\ud488\\uac70\\ub798\\uc190\\uc2e4\\n-\\n-\\n-\\n(73,040)\\n(73,040)\\n\\ud569\\u00a0 \\uacc4\\n431,429\\n383,880\\n(809,790)\\n(73,040)\\n(67,521)\\n<\\uc804\\uae30>\\n(\\ub2e8\\uc704 : \\ucc9c\\uc6d0)\\n\\uad6c\\ubd84\\n\\uc0c1\\uac01\\ud6c4\\uc6d0\\uac00 \\uce21\\uc815\\n\\uae08\\uc735\\uc790\\uc0b0\\n\\ub2f9\\uae30\\uc190\\uc775-\\uacf5\\uc815\\uac00\\uce58\\uce21\\uc815 \\uae08\\uc735\\uc790\\uc0b0\\n\\uc0c1\\uac01\\ud6c4\\uc6d0\\uac00 \\uce21\\uc815\\n\\uae08\\uc735\\ubd80\\ucc44\\n\\ud569\\u00a0 \\uacc4\\n\\ub2f9\\uae30\\uc190\\uc775 :\\n\\uc774\\uc790\\uc218\\uc775\\n238,569\\n-\\n-\\n238,569\\n\\uc678\\ud658\\ucc28\\uc775\\n265,783\\n-\\n85,884\\n351,667\\n\\uc678\\ud654\\ud658\\uc0b0\\uc774\\uc775\\n4,020\\n-\\n422\\n4,442\\n\\uc774\\uc790\\ube44\\uc6a9\\n-\\n-\\n(572,010)\\n(572,010)\\n\\uc678\\ud658\\ucc28\\uc190\\n(281,524)\\n-\\n(78,821)\\n(360,345)\\n\\uc678\\ud654\\ud658\\uc0b0\\uc190\\uc2e4\\n(42,664)\\n-\\n(22)\\n(42,686)\\n\\ub2f9\\uae30\\uc190\\uc775-\\uacf5\\uc815\\uac00\\uce58\\uce21\\uc815\\uae08\\uc735\\uc790\\uc0b0\\ud3c9\\uac00\\uc190\\uc2e4\\n-\\n(330,000)\\n-\\n(330,000)\\n\\ub300\\uc190\\uc0c1\\uac01\\ube44\\n(160,470)\\n-\\n-\\n(160,470)\\n\\ud569\\u00a0 \\uacc4\\n23,714\\n(330,000)\\n(564,547)\\n(870,833)\\n\\u2462 \\ub2f9\\uae30 \\ubc0f \\uc804\\uae30\\ub9d0 \\ud604\\uc7ac \\uae08\\uc735\\uc0c1\\ud488\\uc758 \\uc7a5\\ubd80\\uae08\\uc561\\uacfc \\uacf5\\uc815\\uac00\\uce58\\ub294 \\ub2e4\\uc74c\\uacfc \\uac19\\uc2b5\\ub2c8\\ub2e4.\\n(\\ub2e8\\uc704:\\ucc9c\\uc6d0)\\n\\uad6c\\ubd84\\n\\ub2f9\\uae30\\n\\uc804\\uae30\\n\\uc7a5\\ubd80\\uae08\\uc561\\n\\uacf5\\uc815\\uac00\\uce58\\n\\uc7a5\\ubd80\\uae08\\uc561\\n\\uacf5\\uc815\\uac00\\uce58\\n\\uae08\\uc735\\uc790\\uc0b0\\n\\ud604\\uae08\\ubc0f\\ud604\\uae08\\uc131\\uc790\\uc0b0\\n14,314,123\\n14,314,123\\n20,545,926\\n20,545,926\\n\\ub9e4\\ucd9c\\ucc44\\uad8c\\ubc0f\\uae30\\ud0c0\\ucc44\\uad8c\\n16,959,613\\n16,959,613\\n16,942,418\\n16,942,418\\n\\ub2f9\\uae30\\uc190\\uc775-\\uacf5\\uc815\\uac00\\uce58\\uce21\\uc815 \\uae08\\uc735\\uc790\\uc0b0\\n998,000\\n998,000\\n670,000\\n670,000\\n\\uae30\\ud0c0\\ud3ec\\uad04\\uc190\\uc775-\\uacf5\\uc815\\uac00\\uce58\\uce21\\uc815 \\uae08\\uc735\\uc790\\uc0b0\\n20,000\\n20,000\\n20,000\\n20,000\\n\\ubcf4\\uc99d\\uae08\\n4,305,720\\n4,305,720\\n4,857,456\\n4,857,456\\n\\uae30\\ud0c0\\uae08\\uc735\\uc790\\uc0b0\\n-\\n-\\n16,865\\n16,865\\n\\ud30c\\uc0dd\\uc0c1\\ud488\\uc790\\uc0b0\\n55,880\\n55,880\\n-\\n-\\n\\uc7a5\\uae30\\ub300\\uc5ec\\uae08\\n159,200\\n159,200\\n164,000\\n164,000\\n\\uc18c\\uacc4\\n36,812,536\\n36,812,536\\n43,216,665\\n43,216,665\\n\\uae08\\uc735\\ubd80\\ucc44\\n\\ub9e4\\uc785\\ucc44\\ubb34\\ubc0f\\uae30\\ud0c0\\ucc44\\ubb34\\n8,671,386\\n8,671,386\\n8,743,726\\n8,743,726\\n\\ub2e8\\uae30\\ucc28\\uc785\\uae08\\n4,143,500\\n4,143,500\\n1,234,480\\n1,234,480\\n\\uc720\\ub3d9\\uc131\\uc7a5\\uae30\\ubd80\\ucc44\\n7,996,956\\n7,996,956\\n11,173,850\\n11,173,850\\n\\uc7a5\\uae30\\ucc28\\uc785\\uae08\\n27,798,222\\n27,798,222\\n18,043,102\\n18,043,102\\n\\uc720\\ub3d9\\uc131\\ub9ac\\uc2a4\\ubd80\\ucc44\\n195,730\\n195,730\\n-\\n-\\n\\ub9ac\\uc2a4\\ubd80\\ucc44\\n101,853\\n101,853\\n-\\n-\\n\\uc7a5\\uae30\\ubbf8\\uc9c0\\uae09\\uae08\\n84,462\\n84,462\\n178,865\\n178,865\\n\\uc18c\\uacc4\\n48,992,109\\n48,992,109\\n39,374,023\\n39,374,023\\n\\u2463 \\uacf5\\uc815\\uac00\\uce58 \\uc11c\\uc5f4\\uccb4\\uacc4\\n\\uc5f0\\uacb0\\uc2e4\\uccb4\\ub294 \\uacf5\\uc815\\uac00\\uce58\\uce21\\uc815\\uc5d0 \\uc0ac\\uc6a9\\ub41c \\ud22c\\uc785\\ubcc0\\uc218\\uc758 \\uc720\\uc758\\uc131\\uc744 \\ubc18\\uc601\\ud558\\ub294 \\uacf5\\uc815\\uac00\\uce58 \\uc11c\\uc5f4\\uccb4\\uacc4\\uc5d0 \\ub530\\ub77c \\uacf5\\uc815\\uac00\\uce58\\uce21\\uc815\\uce58\\ub97c \\ubd84\\ub958\\ud558\\uace0 \\uc788\\uc73c\\uba70, \\uacf5\\uc815\\uac00\\uce58 \\uc11c\\uc5f4\\uccb4\\uacc4\\uc758 \\uc218\\uc900\\uc740 \\ub2e4\\uc74c\\uacfc \\uac19\\uc2b5\\ub2c8\\ub2e4.\\n\\uad6c\\ubd84\\n\\ud22c\\uc785\\ubcc0\\uc218\\uc758 \\uc720\\uc758\\uc131\\n\\uc218\\uc900 1\\n\\ub3d9\\uc77c\\ud55c \\uc790\\uc0b0\\uc774\\ub098 \\ubd80\\ucc44\\uc5d0 \\ub300\\ud55c \\ud65c\\uc131\\uc2dc\\uc7a5\\uc758 \\uacf5\\uc2dc\\uac00\\uaca9\\n\\uc218\\uc900 2\\n\\uc9c1\\uc811\\uc801\\uc73c\\ub85c \\ub610\\ub294 \\uac04\\uc811\\uc801\\uc73c\\ub85c \\uad00\\uce21\\uac00\\ub2a5\\ud55c, \\uc790\\uc0b0\\uc774\\ub098 \\ubd80\\ucc44\\uc5d0 \\ub300\\ud55c \\ud22c\\uc785\\ubcc0\\uc218\\n\\uc218\\uc900 3\\n\\uad00\\uce21\\uac00\\ub2a5\\ud55c \\uc2dc\\uc7a5\\uc790\\ub8cc\\uc5d0 \\uae30\\ucd08\\ud558\\uc9c0 \\uc54a\\uc740, \\uc790\\uc0b0\\uc774\\ub098 \\ubd80\\ucc44\\uc5d0 \\ub300\\ud55c \\ud22c\\uc785\\ubcc0\\uc218\\n\\ub2f9\\uae30 \\ubc0f \\uc804\\uae30\\ub9d0 \\ud604\\uc7ac \\uae08\\uc735\\uc0c1\\ud488\\uc758 \\uc218\\uc900\\ubcc4 \\uacf5\\uc815\\uac00\\uce58 \\uce21\\uc815\\uce58\\ub294 \\ub2e4\\uc74c\\uacfc \\uac19\\uc2b5\\ub2c8\\ub2e4.\\n(\\ub2e8\\uc704 : \\ucc9c\\uc6d0)\\n\\uad6c\\ubd84\\n\\uc218\\uc9001\\n\\uc218\\uc9002\\n\\uc218\\uc9003\\n\\ud569\\uacc4\\n\\ub2f9\\uae30\\ub9d0 :\\n\\uae08\\uc735\\uc790\\uc0b0\\n\\ub2f9\\uae30\\uc190\\uc775-\\uacf5\\uc815\\uac00\\uce58\\n\\uce21\\uc815 \\uae08\\uc735\\uc790\\uc0b0\\n-\\n-\\n998,000\\n998,000\\n\\ud30c\\uc0dd\\uc0c1\\ud488\\uc790\\uc0b0\\n-\\n55,880\\n-\\n55,880\\n\\uc804\\uae30\\ub9d0 :\\n\\uae08\\uc735\\uc790\\uc0b0\\n\\ub2f9\\uae30\\uc190\\uc775-\\uacf5\\uc815\\uac00\\uce58\\n\\uce21\\uc815 \\uae08\\uc735\\uc790\\uc0b0\\n-\\n-\\n670,000\\n670,000\\n\\ub2f9\\uae30\\ub9d0 \\ud604\\uc7ac \\uc5f0\\uacb0\\uc2e4\\uccb4\\ub294 \\uacf5\\uc815\\uac00\\uce58 \\uc11c\\uc5f4\\uccb4\\uacc4\\uc5d0\\uc11c \\uc218\\uc900 2\\uc640 3\\uc73c\\ub85c \\ubd84\\ub958\\ub418\\ub294 \\uae08\\uc735\\uc0c1\\ud488\\uc758 \\uacf5\\uc815\\uac00\\uce58\\uc5d0 \\ub300\\ud574 \\ub2e4\\uc74c\\uc758 \\uac00\\uce58\\ud3c9\\uac00\\uae30\\ubc95\\uacfc \\ud22c\\uc785\\ubcc0\\uc218\\ub97c \\uc0ac\\uc6a9\\ud558\\uace0 \\uc788\\uc2b5\\ub2c8\\ub2e4.\\n(\\ub2e8\\uc704 : \\ucc9c\\uc6d0)\\n\\uad6c\\ubd84\\n\\uacf5\\uc815\\uac00\\uce58\\n\\uc218\\uc900\\n\\uac00\\uce58\\ud3c9\\uac00\\uae30\\ubc95\\n\\ube44\\uace0\\n< \\ud30c\\uc0dd\\uc0c1\\ud488\\uc790\\uc0b0>\\n\\ud1b5\\ud654\\uc120\\ub3c4\\n55,880\\n2\\n\\ud604\\uae08\\ud750\\ub984\\ud560\\uc778\\ubaa8\\ud615\\n\\uc120\\ub3c4\\ud658\\uc728, \\ud560\\uc778\\uc728\\n< \\ub2f9\\uae30\\uc190\\uc775-\\uacf5\\uc815\\uac00\\uce58\\uce21\\uc815 \\uae08\\uc735\\uc790\\uc0b0>\\nSBI \\ud5ec\\uc2a4\\ucf00\\uc5b4\\ud380\\ub4dc \\uc81c1\\ud638\\n998,000\\n3\\n\\uacfc\\uac70\\uac70\\ub798\\uc774\\uc6a9\\ubc95\\n\\ucd5c\\uadfc\\uc720\\uc0c1\\uc99d\\uc790\\uae08\\uc561\\n10. \\ud30c\\uc0dd\\uc0c1\\ud488 \\ub4f1\\uc5d0 \\uad00\\ud55c \\uc0ac\\ud56d\\n\\uad6c\\ubd84\\n\\ub0b4\\uc5ed\\nSKC\\n(1) \\ub2f9\\uae30\\ub9d0\\uacfc \\uc804\\uae30\\ub9d0 \\ud604\\uc7ac \\uc5f0\\uacb0\\uc2e4\\uccb4\\uac00 \\ub9e4\\ub9e4\\ubaa9\\uc801 \\ubc0f \\uc704\\ud5d8\\ud68c\\ud53c\\ubaa9\\uc801\\uc73c\\ub85c \\ubcf4\\uc720\\ud558\\uace0 \\uc788\\ub294 \\ud30c\\uc0dd\\uc0c1\\ud488\\uc758 \\ub0b4\\uc5ed\\uc740 \\ub2e4\\uc74c\\uacfc \\uac19\\uc2b5\\ub2c8\\ub2e4.\\n\\u2460 \\ub2f9\\uae30\\ub9d0\\n(\\ub2e8\\uc704:\\ucc9c\\uc6d0)\\n\\ud30c\\uc0dd\\uc0c1\\ud488\\uc885\\ub958\\n\\uacc4\\uc57d\\ucc98\\n\\ud30c\\uc0dd\\uae08\\uc735\\uc790\\uc0b0\\n\\ud30c\\uc0dd\\uae08\\uc735\\ubd80\\ucc44\\n\\uc720\\ub3d9\\n\\ube44\\uc720\\ub3d9\\n\\uc720\\ub3d9\\n\\ube44\\uc720\\ub3d9\\n\\uc774\\uc790\\uc728\\ud1b5\\ud654\\uc2a4\\uc651\\n\\ud558\\ub098\\uc740\\ud589, \\uc2e0\\ud55c\\uc740\\ud589\\n-\\n647,322\\n-\\n593,198\\n\\ud1b5\\ud654\\uc120\\ub3c4\\n\\ud558\\ub098\\uc740\\ud589, SC\\uc740\\ud589, \\uc2e0\\ud55c\\uc740\\ud589 \\ub4f1\\n1,564,522\\n1,620,864\\n1,962,147\\n-\\n\\ud569\\u00a0 \\uacc4\\n1,564,522\\n2,268,186\\n1,962,147\\n593,198\\n\\u2461 \\uc804\\uae30\\ub9d0\\n(\\ub2e8\\uc704:\\ucc9c\\uc6d0)\\n\\ud30c\\uc0dd\\uc0c1\\ud488\\uc885\\ub958\\n\\uacc4\\uc57d\\ucc98\\n\\ud30c\\uc0dd\\uae08\\uc735\\uc790\\uc0b0\\n\\ud30c\\uc0dd\\uae08\\uc735\\ubd80\\ucc44\\n\\uc720\\ub3d9\\n\\ube44\\uc720\\ub3d9\\n\\uc720\\ub3d9\\n\\ube44\\uc720\\ub3d9\\n\\uc774\\uc790\\uc728\\ud1b5\\ud654\\uc2a4\\uc651\\n\\ud558\\ub098\\uc740\\ud589\\n-\\n-\\n-\\n456,091\\n\\ud1b5\\ud654\\uc120\\ub3c4\\n\\ud558\\ub098\\uc740\\ud589, SC\\uc740\\ud589, \\uc2e0\\ud55c\\uc740\\ud589 \\ub4f1\\n924,577\\n792,995\\n120,882\\n98,082\\n\\ud569\\u00a0 \\uacc4\\n924,577\\n792,995\\n120,882\\n554,173\\n(2) \\ub2f9\\uae30\\uc640 \\uc804\\uae30 \\uc911 \\ud30c\\uc0dd\\uc0c1\\ud488\\ud3c9\\uac00\\uc190\\uc775\\uc758 \\ub0b4\\uc5ed\\uc740 \\ub2e4\\uc74c\\uacfc \\uac19\\uc2b5\\ub2c8\\ub2e4.\\n(\\ub2e8\\uc704:\\ucc9c\\uc6d0)\\n\\ud68c\\uacc4\\ucc98\\ub9ac\\n\\ud30c\\uc0dd\\uc0c1\\ud488 \\uc885\\ub958\\n\\ud3c9\\uac00\\uc190\\uc775\\n\\ube44\\uace0\\n\\ub2f9\\uae30\\n\\uc804\\uae30\\n\\ub2f9\\uae30\\uc190\\uc775 \\uc778\\uc2dd\\n\\ud1b5\\ud654\\uc120\\ub3c4 \\ub4f1\\n1,069,576\\n1,274,716\\n\\ub2f9\\uae30\\uc190\\uc775\\n\\uc0c1\\uae30\\uc758 \\ud30c\\uc0dd\\uc0c1\\ud488 \\uac70\\ub798\\uc640 \\uad00\\ub828\\ud558\\uc5ec \\ub2f9\\uae30\\uc640 \\uc804\\uae30 \\uc911 \\uac01\\uac01 1,532,543\\ucc9c\\uc6d0\\uacfc 2,462,035\\ucc9c\\uc6d0\\uc758 \\uc21c\\uac70\\ub798\\uc190\\uc2e4\\uc774 \\ubc1c\\uc0dd\\ud558\\uc600\\uc73c\\uba70, \\uc774\\ub294 \\ud30c\\uc0dd\\uc0c1\\ud488\\uac70\\ub798\\uc190\\uc775\\uc758 \\uacfc\\ubaa9\\uc73c\\ub85c \\uae08\\uc735\\uc190\\uc775\\uc5d0 \\ubc18\\uc601\\ud558\\uc600\\uc2b5\\ub2c8\\ub2e4.\\nSK\\ud154\\ub808\\uc2dc\\uc2a4\\n(1) \\uae30\\ud0c0\\uae08\\uc735\\uc790\\uc0b0 \\ubc0f \\uae30\\ud0c0\\uae08\\uc735\\ubd80\\ucc44\\uc5d0 \\ud3ec\\ud568\\ub41c \\ud30c\\uc0dd\\uae08\\uc735\\uc790\\uc0b0 \\ubc0f \\ud30c\\uc0dd\\uae08\\uc735\\ubd80\\ucc44\\uc758 \\ub0b4\\uc6a9\\uc740 \\ub2e4\\uc74c\\uacfc \\uac19\\uc2b5\\ub2c8\\ub2e4.\\n(\\ub2e8\\uc704 : \\uc6d0)\\n\\uad6c\\ubd84\\n\\ub2f9\\uae30\\n\\uc804\\uae30\\n<\\uc720\\ub3d9\\uc790\\uc0b0-\\ud30c\\uc0dd\\uae08\\uc735\\uc790\\uc0b0>\\n\\ud1b5\\ud654\\uc120\\ub3c4\\uacc4\\uc57d\\n-\\n-\\n<\\uc720\\ub3d9\\ubd80\\ucc44-\\ud30c\\uc0dd\\uae08\\uc735\\ubd80\\ucc44>\\n\\ud1b5\\ud654\\uc120\\ub3c4\\uacc4\\uc57d\\n44,678,786\\n24,162,919\\n(2) \\ud30c\\uc0dd\\uc0c1\\ud488\\uc758 \\ub0b4\\uc6a9\\uc740 \\ub2e4\\uc74c\\uacfc \\uac19\\uc2b5\\ub2c8\\ub2e4.\\n<\\ub2f9\\uae30>\\u00a0 \\u00a0 \\u00a0 \\u00a0 \\u00a0 \\u00a0 \\u00a0 \\u00a0 \\u00a0 \\u00a0 \\u00a0 \\u00a0 \\u00a0 \\u00a0 \\u00a0 \\u00a0 \\u00a0 \\u00a0 \\u00a0 \\u00a0 \\u00a0 \\u00a0 \\u00a0 \\u00a0 \\u00a0 \\u00a0 \\u00a0 \\u00a0 \\u00a0 \\u00a0 \\u00a0 \\u00a0 \\u00a0 \\u00a0 \\u00a0 \\u00a0 \\u00a0 \\u00a0 \\u00a0 \\u00a0 \\u00a0 \\u00a0 \\u00a0 \\u00a0 \\u00a0 \\u00a0 \\u00a0 (\\ub2e8\\uc704 : \\uc6d0)\\n\\uad6c\\ubd84\\n\\uc57d\\uc815\\uae08\\uc561\\n\\uacc4\\uc57d\\uc77c\\n\\ub9cc\\uae30\\uc77c\\n\\uc57d\\uc815\\ud658\\uc728\\n\\ud3c9\\uac00\\uc190\\uc775\\n\\ub9e4\\uc785\\nUSD\\n3,087,224\\n2019-11-07~\\n2019-12-05\\n2020-01-29~\\n2020-02-28\\n1,158.65~1,188.60\\n(50,995,975)\\n\\ub9e4\\ub3c4\\nUSD\\n417,576\\n2019-12-16\\n2020-01-15\\n1,172.60\\n6,317,189\\n\\ud569\\uacc4\\n(44,678,786)\\n<\\uc804\\uae30>\\u00a0 \\u00a0 \\u00a0 \\u00a0 \\u00a0 \\u00a0 \\u00a0 \\u00a0 \\u00a0 \\u00a0 \\u00a0 \\u00a0 \\u00a0 \\u00a0 \\u00a0 \\u00a0 \\u00a0 \\u00a0 \\u00a0 \\u00a0 \\u00a0 \\u00a0 \\u00a0 \\u00a0 \\u00a0 \\u00a0 \\u00a0 \\u00a0 \\u00a0 \\u00a0 \\u00a0 \\u00a0 \\u00a0 \\u00a0 \\u00a0 \\u00a0 \\u00a0 \\u00a0 \\u00a0 \\u00a0 \\u00a0 \\u00a0 \\u00a0 \\u00a0 \\u00a0 \\u00a0 \\u00a0 (\\ub2e8\\uc704 : \\uc6d0)\\n\\uad6c\\ubd84\\n\\uc57d\\uc815\\uae08\\uc561\\n\\uacc4\\uc57d\\uc77c\\n\\ub9cc\\uae30\\uc77c\\n\\uc57d\\uc815\\ud658\\uc728\\n\\ud3c9\\uac00\\uc190\\uc775\\n\\ub9e4\\uc785\\nJPY\\n16,380,481\\n2018-08-09~\\n2018-11-09\\n2019-01-09~\\n2019-04-15\\n9.9630~10.2450\\n(910,705)\\nUSD\\n867,793\\n2018-08-09~\\n2018-12-07\\n2019-01-30~\\n2019-02-28\\n1,110.80~1,124.30\\n(3,489,087)\\n\\ub9e4\\ub3c4\\nJPY\\n111,636,210\\n2018-11-09~\\n2018-12-07\\n2019-01-15~\\n2019-02-28\\n9.9190~9.9363\\n(24,350,101)\\nUSD\\n2,449,251\\n2018-11-09~\\n2018-12-07\\n2019-01-15~\\n2019-02-14\\n1,114.76~1,123.60\\n4,586,974\\n\\ud569\\uacc4\\n(24,162,919)\\nSKC\\uc194\\ubbf9\\uc2a4\\n\\ub2f9\\uae30\\ub9d0\\uacfc \\uc804\\uae30\\ub9d0 \\ud604\\uc7ac \\uc5f0\\uacb0\\uc2e4\\uccb4\\uac00 \\ub9e4\\ub9e4\\ubaa9\\uc801 \\ubc0f \\uc704\\ud5d8\\ud68c\\ud53c\\ubaa9\\uc801\\uc73c\\ub85c \\ubcf4\\uc720\\ud558\\uace0 \\uc788\\ub294 \\ud30c\\uc0dd\\uc0c1\\ud488\\uc758 \\ub0b4\\uc5ed\\uc740 \\ub2e4\\uc74c\\uacfc \\uac19\\uc2b5\\ub2c8\\ub2e4.\\n(1) \\ud1b5\\ud654\\uc120\\ub3c4 \\uacc4\\uc57d\\n-. \\uc57d\\uc815\\uae30\\uad00 :\\n\\uc2e0\\ud55c\\uc740\\ud589 \\ud3c9\\ud0dd\\uc9c0\\uc810,\\ud558\\ub098\\uc740\\ud589 \\ud3c9\\ud0dd\\uc9c0\\uc810\\n-. \\uc57d\\uc815\\ubaa9\\uc801 : \\ud1b5\\ud654\\uc120\\ub3c4 \\uac70\\ub798\\ub97c \\ud1b5\\ud55c \\uc678\\ud654 \\uc790\\uc0b0\\ubd80\\ucc44 \\ud658\\uc728\\ubcc0\\ub3d9\\uc704\\ud5d8 \\ud68c\\ud53c\\n-. \\uc57d\\uc815\\ud55c\\ub3c4 : \\uc2e0\\ud55c\\uc740\\ud589 \\ubbf8\\ud654 \\uce60\\ubc31\\ub9cc\\ubd88 (USD 7,500,000),\\nKEB\\ud558\\ub098\\uc740\\ud589 \\ubbf8\\ud654 \\uc0bc\\ubc31\\ub9cc\\ubd88 (USD 3,000,000)\\n-. \\uc57d\\uc815\\uae30\\uac04 : \\uc57d\\uc815\\uae30\\uad00\\uacfc \\uccb4\\uacb0\\ud55c \\ud1b5\\ud654\\uc120\\ub3c4 \\uacc4\\uc57d \\ub9cc\\uae30 \\ub610\\ub294 \\uccad\\uc0b0\\uc2dc\\uae4c\\uc9c0\\n-. \\ub2f4\\u00a0 \\u00a0 \\u00a0 \\ubcf4 : \\ud55c\\uc815\\uadfc\\ub2f4\\ubcf4\\n(2)\\n\\ud30c\\uc0dd\\uc0c1\\ud488 \\uacc4\\uc57d\\uccb4\\uacb0 \\ub0b4\\uc5ed\\n(\\n2019.12.31 \\ud604\\n\\uc7ac\\n)\\n(\\ub2e8\\uc704:\\ucc9cUSD, \\ucc9cJPY)\\n\\ud30c\\uc0dd\\uc0c1\\ud488\\uc885\\ub958\\n\\uacc4\\uc57d\\ucc98\\n\\uacc4\\uc57d\\uc77c\\n\\ub9cc\\uae30\\uc77c\\n\\ub9e4\\ub3c4\\uc561\\n\\ub9e4\\uc218\\uc561\\n\\ud1b5\\ud654\\uc2a4\\uc651\\n\\uc2e0\\ud55c\\uc740\\ud589\\n2018.05.23\\n2021.05.24\\nUSD 20,000\\n\\ud1b5\\ud654\\uc120\\ub3c4\\nKEB\\ud558\\ub098\\uc740\\ud589\\n2019.11.22\\n2020.01.21\\nUSD 600\\n\\ud1b5\\ud654\\uc120\\ub3c4\\n\\uc2e0\\ud55c\\uc740\\ud589\\n2019.11.29\\n2020.01.21\\nUSD 300\\n\\ud1b5\\ud654\\uc120\\ub3c4\\nKEB\\ud558\\ub098\\uc740\\ud589\\n2019.11.22\\n2020.02.20\\nUSD 600\\n\\ud1b5\\ud654\\uc120\\ub3c4\\n\\uc2e0\\ud55c\\uc740\\ud589\\n2019.11.29\\n2020.02.20\\nUSD 300\\n\\ud1b5\\ud654\\uc120\\ub3c4\\n\\uc2e0\\ud55c\\uc740\\ud589\\n2019.12.05\\n2020.01.21\\nUSD 700\\n\\ud1b5\\ud654\\uc120\\ub3c4\\n\\uc2e0\\ud55c\\uc740\\ud589\\n2019.12.05\\n2020.02.20\\nUSD 700\\n(3)\\n\\ud30c\\uc0dd\\uae08\\uc735\\uc0c1\\ud488 \\ub0b4\\uc5ed\\n(\\ub2e8\\uc704:\\ucc9c\\uc6d0)\\n\\uad6c\\ubd84\\n\\ub2f9\\uae30\\ub9d0\\n\\uc804\\uae30\\ub9d0\\n\\uc790\\uc0b0\\n\\ubd80\\ucc44\\n\\uc790\\uc0b0\\n\\ubd80\\ucc44\\n\\ud1b5\\n\\ud654\\uc2a4\\uc651\\n1,536,407\\n-\\n792,995\\n-\\n\\ud1b5\\n\\ud654\\uc120\\ub3c4\\n72,247\\n-\\n4,223\\n6,281\\n\\ud569\\uacc4\\n1,608,654\\n-\\n797,218\\n6,281\\n\\uc0c1\\uae30\\uc758 \\ud30c\\uc0dd\\uc0c1\\ud488 \\uac70\\ub798\\uc640 \\uad00\\ub828\\ud558\\uc5ec \\ub2f9\\uae30 \\uc911 111\\ubc31\\ub9cc\\uc6d0(\\n\\uc804\\uae30 : 63\\ubc31\\ub9cc\\uc6d0\\n\\uc21c\\uac70\\ub798\\uc190\\uc2e4)\\uc758 \\uc21c\\uac70\\ub798\\uc190\\uc2e4\\uc774 \\ubc1c\\uc0dd\\ud558\\uc600\\uc73c\\uba70, \\uc774\\ub294 \\ud30c\\uc0dd\\uc0c1\\ud488\\uac70\\ub798\\uc190\\uc775\\uc758 \\uacfc\\ubaa9\\uc73c\\ub85c \\uae08\\uc735\\uc190\\uc775\\uc5d0 \\ubc18\\uc601\\ud558\\uc600\\uc2b5\\ub2c8\\ub2e4.\\nSKC\\ud558\\uc774\\ud14c\\ud06c\\uc564\\n\\ub9c8\\ucf00\\ud305\\n\\uac00. \\ub2f9\\uae30\\ub9d0 \\ud604\\uc7ac \\ubcf4\\uc720\\ud558\\uace0 \\uc788\\ub294 \\ud30c\\uc0dd\\uc0c1\\ud488\\uc758 \\ub0b4\\uc5ed\\n(\\ub2e8\\uc704: \\uc6d0)\\n\\ud30c\\uc0dd\\uc0c1\\ud488\\uc885\\ub958\\n\\uacc4\\uc57d\\ucc98\\n\\ud30c\\uc0dd\\uae08\\uc735\\uc790\\uc0b0\\n\\ud30c\\uc0dd\\uae08\\uc735\\ubd80\\ucc44\\n\\uc720\\ub3d9\\n\\ube44\\uc720\\ub3d9\\n\\uc720\\ub3d9\\n\\ube44\\uc720\\ub3d9\\n\\ud1b5\\ud654\\uc120\\ub3c4\\n\\uc2e0\\ud55c\\uc740\\ud589 \\uc678\\n193,072,337\\n-\\n2,992,840\\n-\\n\\uc774\\uc790\\uc728\\uc2a4\\uc651\\nKEB\\ud558\\ub098\\uc740\\ud589\\n-\\n647,322,439\\n-\\n593,198,303\\n\\ub098.\\u00a0 \\uc804\\uae30\\ub9d0 \\ud604\\uc7ac \\ubcf4\\uc720\\ud558\\uace0 \\uc788\\ub294 \\ud30c\\uc0dd\\uc0c1\\ud488\\uc758 \\ub0b4\\uc5ed\\n(\\ub2e8\\uc704: \\uc6d0)\\n\\ud30c\\uc0dd\\uc0c1\\ud488\\uc885\\ub958\\n\\uacc4\\uc57d\\ucc98\\n\\ud30c\\uc0dd\\uae08\\uc735\\uc790\\uc0b0\\n\\ud30c\\uc0dd\\uae08\\uc735\\ubd80\\ucc44\\n\\uc720\\ub3d9\\n\\ube44\\uc720\\ub3d9\\n\\uc720\\ub3d9\\n\\ube44\\uc720\\ub3d9\\n\\ud1b5\\ud654\\uc120\\ub3c4\\n\\ud558\\ub098\\uc740\\ud589\\n109,495,748\\n-\\n-\\n-\\n\\uc774\\uc790\\uc728\\uc2a4\\uc651\\n\\ud558\\ub098\\uc740\\ud589\\n-\\n-\\n-\\n456,091,508\\n\\ub2e4.\\u00a0 \\ud30c\\uc0dd\\uc0c1\\ud488\\ud3c9\\uac00\\uc190\\uc775\\uc758 \\ub0b4\\uc5ed\\n(\\ub2e8\\uc704: \\uc6d0)\\n\\ud68c\\uacc4\\ucc98\\ub9ac\\n\\ud30c\\uc0dd\\uc0c1\\ud488\\uc885\\ub958\\n\\ub2f9\\uae30\\n\\uc804\\uae30\\n3\\uac1c\\uc6d4\\n\\ub204\\uc801\\n3\\uac1c\\uc6d4\\n\\ub204\\uc801\\n\\ub2f9\\uae30\\uc190\\uc775\\n\\ud1b5\\ud654\\uc120\\ub3c4 \\ub4f1\\n- 1,409,794,546\\n700,295,141\\n877,675,036\\n2,110,089,687\\n11. \\uacbd\\uc601\\uc0c1\\uc758 \\uc8fc\\uc694\\uacc4\\uc57d\\n\\uad6c\\ubd84\\n\\ub0b4\\uc5ed\\nSKC\\n\\uacc4 \\uc57d \\ucc98\\n\\uacc4 \\uc57d \\ub0b4 \\uc6a9\\n\\uacc4\\uc57d\\ub9cc\\ub8cc\\uc77c\\nLyondellBasell\\nPO/SM License \\ub3c4\\uc785\\uacc4\\uc57d\\n2025\\ub144 12\\uc6d4 31\\uc77c\\nEvonik Industries AG\\nHPPO \\uc81c\\uc870\\uae30\\uc220\\uc758 \\ub3c4\\uc785\\n2026\\ub144 12\\uc6d4 31\\uc77c\\nPantherine Holdings LLC\\n\\ucf00\\uc774\\uc528\\uc5d0\\ud504\\ud14c\\ud06c\\ub180\\ub85c\\uc9c0\\uc2a4\\u321c \\uc9c0\\ubd84 \\uc591\\uc218\\n* \\uc0c1\\uc138 \\ub0b4\\uc5ed\\uc740 2019\\ub144 6\\uc6d4 13\\uc77c\\n\\uc8fc\\uc694\\uc0ac\\ud56d\\ubcf4\\uace0\\uc11c \\uacf5\\uc2dc\\ub97c \\ucc38\\uace0\\ud558\\uc5ec\\n\\uc8fc\\uc2dc\\uae30 \\ubc14\\ub78d\\ub2c8\\ub2e4.\\n-\\nPetrochemical Industries Company K.S.C.\\n\\ud654\\ud559\\uc0ac\\uc5c5\\ubd80 \\ubb3c\\uc801\\ubd84\\ud560\\ud6c4 \\uc9c0\\ubd84 49% \\uc591\\ub3c4\\n* \\uc0c1\\uc138 \\ub0b4\\uc5ed\\uc740 2019\\ub144 8\\uc6d4 7\\uc77c\\n\\uc8fc\\uc694\\uc0ac\\ud56d\\ubcf4\\uace0\\uc11c \\uacf5\\uc2dc\\ub97c \\ucc38\\uace0\\ud558\\uc5ec\\n\\uc8fc\\uc2dc\\uae30 \\ubc14\\ub78d\\ub2c8\\ub2e4.\\n-\\n\\ucf54\\ub9ac\\uc544\\ud53c\\uc544\\uc774\\ud640\\ub529\\uc2a4\\nSKC\\ucf54\\uc624\\ub871PI \\uc9c0\\ubd84 \\uc804\\ub7c9 \\ucc98\\ubd84\\n* \\uc0c1\\uc138 \\ub0b4\\uc5ed\\uc740 2019\\ub144 12\\uc6d4 24\\uc77c\\n\\ud0c0\\ubc95\\uc778 \\uc8fc\\uc2dd \\ubc0f \\ucd9c\\uc790\\uc99d\\uad8c \\ucc98\\ubd84\\uacb0\\uc815\\n\\uacf5\\uc2dc\\ub97c \\ucc38\\uace0\\ud558\\uc5ec \\uc8fc\\uc2dc\\uae30 \\ubc14\\ub78d\\ub2c8\\ub2e4.\\n-\\nSKC\\ud558\\uc774\\ud14c\\ud06c\\uc564\\n\\ub9c8\\ucf00\\ud305\\n\\uacc4\\uc57d\\uba85\\n\\ud22c\\uc790 \\uc9c4\\ud589 \\uc0c1\\ud669\\n\\uc601\\uc5c5\\uc591\\uc218\\ub3c4\\uacc4\\uc57d\\uc11c\\n- \\uacc4\\uc57d\\uc77c\\uc790 : 2017\\ub144 7\\uc6d4 26\\uc77c\\n- \\uacc4\\uc57d\\uc0c1\\ub300\\ubc29 : SKC(\\uc8fc)\\n- \\uacc4\\uc57d\\ub0b4\\uc6a9\\n* SKC(\\uc8fc)\\ub85c\\ubd80\\ud130 Window\\ud544\\ub984\\uc0ac\\uc5c5\\uc744 \\uc81c\\uc678\\ud55c \\uac00\\uacf5\\uc0ac\\uc5c5\\uc744 \\uc591\\uc218\\ud568\\n* \\uc591\\uc218\\ub300\\uae08 : 262\\uc5b5 7\\ucc9c8\\ubc31\\ub9cc\\uc6d0\\n(\\uc2e4\\uc0ac\\uae30\\uc900\\uc77c\\uacfc \\uac70\\ub798\\uc885\\uacb0\\uc77c \\uc0ac\\uc774 \\uc21c\\uc790\\uc0b0\\uac00\\uce58\\uc758 \\ubcc0\\ub3d9 \\ubc1c\\uc0dd\\uc2dc\\n\\uc591\\uc218\\ub300\\uae08 \\uc870\\uc815 \\uac00\\ub2a5)\\n* \\uac70\\ub798\\uc885\\uacb0\\uc77c : 2017\\ub144 8\\uc6d4 30\\uc77c\\nSKC\\uc5d0\\ucf54\\uc194\\ub8e8\\uc158\\uc988\\n\\uacc4\\uc57d\\uba85\\n\\ud22c\\uc790 \\uc9c4\\ud589 \\uc0c1\\ud669\\n\\uc601\\uc5c5\\uc591\\uc218\\ub3c4\\uacc4\\uc57d\\uc11c\\n- \\uacc4\\uc57d\\uc77c\\uc790 : 2018\\ub144 11\\uc6d4 1\\uc77c\\n- \\uacc4\\uc57d\\uc0c1\\ub300\\ubc29 : SKC(\\uc8fc)\\n- \\uacc4\\uc57d\\ub0b4\\uc6a9\\n* SKC(\\uc8fc)\\ub85c\\ubd80\\ud130 \\uace0\\uae30\\ub2a5 Sheet\\uc0ac\\uc5c5\\uc744 \\uc591\\uc218\\ud568\\n* \\uc591\\uc218\\ub300\\uae08 : 137\\uc5b5 2\\ucc9c6\\ubc31\\ub9cc\\uc6d0\\n(\\uc2e4\\uc0ac\\uae30\\uc900\\uc77c\\uacfc \\uac70\\ub798\\uc885\\uacb0\\uc77c \\uc0ac\\uc774 \\uc21c\\uc790\\uc0b0\\uac00\\uce58\\uc758 \\ubcc0\\ub3d9 \\ubc1c\\uc0dd\\uc2dc\\n\\uc591\\uc218\\ub300\\uae08 \\uc870\\uc815 \\uac00\\ub2a5)\\n* \\uac70\\ub798\\uc885\\uacb0\\uc77c : 2018\\ub144 11\\uc6d4 30\\uc77c\\n12. \\uc5f0\\uad6c\\uac1c\\ubc1c\\ud65c\\ub3d9\\n\\uad6c\\ubd84\\n\\ubd80\\ubb38\\n\\ub0b4\\uc5ed\\nSKC\\n\\ud654\\ud559\\nIndustry\\uc18c\\uc7ac\\n\\uc804\\uc790\\uc7ac\\ub8cc\\n\\ub2f9\\uc0ac\\uc758 \\uc5f0\\uad6c\\uac1c\\ubc1c \\ub2f4\\ub2f9\\uc870\\uc9c1\\uc740 \\uc218\\uc6d0 \\uc9c0\\uc5ed\\uc5d0 \\ucca8\\ub2e8\\uae30\\uc220\\uc911\\uc559\\uc5f0\\uad6c\\uc18c\\ub97c \\uc124\\uce58, \\uc6b4\\uc601 \\ud558\\uace0 \\uc788\\uc73c\\uba70 \\uad00\\ub828 \\uc5f0\\uad6c\\uac1c\\ubc1c\\ub2f4\\ub2f9 \\uc9c1\\uc6d0\\uc218\\ub294 145 \\uba85\\uc785\\ub2c8\\ub2e4.\\n\\ub2f9\\uc0ac\\ub294 PET Film\\uc744 \\uad6d\\ub0b4 \\ucd5c\\ucd08 \\uc790\\uccb4 \\uae30\\uc220\\ub85c \\uac1c\\ubc1c\\ud55c \\uc790\\ubd80\\uc2ec\\uc744 \\ubc14\\ud0d5\\uc73c\\ub85c \\ud604\\uc7ac \\uc0dd\\uc0b0\\ub2a5\\ub825\\uae30\\uc900\\uc73c\\ub85c Global 4\\ub300 Maker\\ub85c\\uc11c\\uc758 \\uaddc\\ubaa8\\uc5d0 \\uac78\\ub9de\\ub294\\n\\uc218\\uc900\\uc758 \\uc5f0\\uad6c\\uac1c\\ubc1c\\uc744 \\ud574\\uc624\\uace0 \\uc788\\uc2b5\\ub2c8\\ub2e4. \\uc774\\uc758 \\uacb0\\uacfc\\ub85c \\uc790\\uae30\\uc6a9, \\ud3ec\\uc7a5\\uc6a9, \\uc808\\uc5f0\\uc6a9, \\ucf58\\ub374\\uc11c\\uc6a9 \\ub4f1 \\uc0b0\\uc5c5\\uc804\\ubc18\\uc5d0 \\uc0ac\\uc6a9\\ub418\\ub294 \\ub9ce\\uc740 \\uc81c\\ud488\\ub4e4\\uc744 \\uac1c\\ubc1c\\ud558\\uc600\\uc2b5\\ub2c8\\ub2e4.\\n\\uacfc\\uac70 1999\\ub144\\uc5d0\\n\\ub294 \\uc5f4\\uc218\\ucd95\\ud544\\ub984\\uc744 \\uac1c\\ubc1c\\ud558\\uc5ec \\ud310\\ub9e4\\ud558\\uae30 \\uc2dc\\uc791\\ud568\\uc73c\\ub85c\\uc368 \\ud574\\uc678 \\uacbd\\uc7c1\\uc0ac \\uc81c\\ud488\\uc758 \\ub3c5\\uc810\\uccb4\\uc81c\\ub97c \\ubd95\\uad34\\uc2dc\\ud0a8 \\uc2e4\\uc801\\uc744 \\uac00\\uc9c0\\uace0 \\uc788\\uc73c\\uba70,\\n\\uc2e0\\uc18c\\uc7ac\\uc778 PEN\\ud544\\ub984, PTT\\ud544\\ub984\\uc744\\u00a0 \\uc131\\uacf5\\uc801\\uc73c\\ub85c \\uac1c\\ubc1c\\ud558\\uc5ec \\uc2dc\\uc7a5 \\uc9c4\\uc785\\uc744 \\uc644\\ub8cc \\ud558\\uc600\\uc2b5\\ub2c8\\ub2e4. 2008\\ub144\\ub9d0\\uc5d0\\ub294 \\ud0dc\\uc591\\uc804\\uc9c0\\uc758 \\ud575\\uc2ec\\uc18c\\uc7ac\\ub85c \\uc0ac\\uc6a9\\ub418\\ub294\\n\\ubd88\\uc18c\\ud544\\ub984\\uacfc EVA \\uc2dc\\ud2b8\\ub97c \\ub3d9\\uc2dc\\uc5d0 \\uac1c\\ubc1c/\\uc591\\uc0b0\\ud654\\ud558\\uc600\\uc73c\\uba70, \\ud22c\\uba85 PI \\ud544\\ub984\\uc744 \\uac1c\\ubc1c/\\uc591\\uc0b0\\ud654 \\ucd94\\uc9c4 \\uc911\\uc785\\ub2c8\\ub2e4. \\ub610\\ud55c Jounce Bumper \\ubc0f CMP Pad \\uac1c\\ubc1c,\\n\\uc591\\uc0b0\\ud654 \\ub4f1 \\uc9c0\\uc18d\\uc801\\uc778 \\ud575\\uc2ec \\uc0ac\\uc5c5 \\uac15\\ud654\\uc640 \\uc2e0\\uc131\\uc7a5\\ub3d9\\ub825 \\ud655\\ubcf4\\ub97c \\uc704\\ud55c R&D \\uc5ed\\ub7c9 \\uac15\\ud654\\uc5d0 \\ub9e4\\uc9c4\\ud558\\uace0 \\uc788\\uc2b5\\ub2c8\\ub2e4.\\n\\uac00. \\uc5f0\\uad6c\\uac1c\\ubc1c\\ube44\\uc6a9\\n2019\\ub144 \\ub2f9\\uc0ac\\uac00 \\uc5f0\\uad6c \\ubc0f \\uac1c\\ubc1c\\ud65c\\ub3d9\\uc5d0 \\uc9c0\\ucd9c\\ud558\\uace0 \\uc788\\ub294 \\uc5f0\\uad6c\\uac1c\\ubc1c\\ube44\\uc6a9 \\ub0b4\\uc5ed\\uc740 \\ub2e4\\uc74c\\uacfc \\uac19\\uc2b5\\ub2c8\\ub2e4.\\n(\\ub2e8\\uc704 : \\ubc31\\ub9cc\\uc6d0)\\n\\uacfc\\u00a0 \\u00a0 \\u00a0\\u00a0 \\ubaa9\\n2019\\n(\\uc81c47\\uae30)\\n2018\\n(\\uc81c46\\uae30)\\n2017\\n(\\uc81c45\\uae30)\\n\\uc6d0\\u00a0 \\uc7ac\\u00a0 \\ub8cc\\u00a0 \\ube44\\n673\\n1,250\\n2,389\\n\\uc778\\u00a0 \\u00a0 \\uac74\\u00a0 \\u00a0 \\ube44\\n17,519\\n18,771\\n17,146\\n\\uac10 \\uac00 \\uc0c1 \\uac01 \\ube44\\n4,040\\n3,780\\n3,645\\n\\uc704 \\ud0c1 \\uc6a9 \\uc5ed \\ube44\\n9,102\\n8,780\\n6,814\\n\\uae30\\u00a0 \\u00a0 \\u00a0 \\u00a0 \\u00a0 \\u00a0 \\ud0c0\\n2,835\\n2,828\\n4,333\\n\\uc5f0\\uad6c\\uac1c\\ubc1c\\ube44\\uc6a9 \\uacc4\\n34,169\\n35,409\\n34,327\\n(\\uc815\\ubd80\\ubcf4\\uc870\\uae08)\\n94\\n250\\n353\\n\\ud68c\\uacc4\\ucc98\\ub9ac\\n\\ud310\\ub9e4\\ube44\\uc640 \\uad00\\ub9ac\\ube44\\n22,479\\n22,027\\n23,641\\n\\uc81c\\uc870\\uacbd\\ube44\\n108\\n126\\n145\\n\\uac1c\\ubc1c\\ube44(\\ubb34\\ud615\\uc790\\uc0b0)\\n11,582\\n13,256\\n10,541\\n\\uc5f0\\uad6c\\uac1c\\ubc1c\\ube44 / \\ub9e4\\ucd9c\\uc561 \\ube44\\uc728\\n[\\uc5f0\\uad6c\\uac1c\\ubc1c\\ube44\\uc6a9\\uacc4\\u00f7\\ub2f9\\uae30\\ub9e4\\ucd9c\\uc561\\u00d7100]\\n2.78%\\n2.50%\\n2.45%\\n\\ub098. \\uc9c0\\uc801\\uc7ac\\uc0b0\\uad8c \\ubcf4\\uc720 \\ud604\\ud669\\n\\uc5f0\\ub3c4\\n\\ub4f1\\ub85d\\uac74\\uc218\\n\\ub4f1\\ub85d \\ub0b4\\uc5ed \\uc694\\uc57d\\n2015\\n45\\uac74\\n10-1481042 \\uace0\\ud22c\\uc790\\uc728\\uc758 \\uc790\\uc131\\uc2dc\\ud2b8 \\ubcf5\\ud569\\uccb4 \\u5916 44\\uac74\\n2016\\n30\\uac74\\n10-1594542 \\ud22c\\uba85 \\uc774\\ucd95\\uc5f0\\uc2e0 \\ud3f4\\ub9ac\\uc5d0\\uc2a4\\ud14c\\ub974 \\ud544\\ub984 \\ubc0f \\uc774\\uc758 \\uc81c\\uc870\\ubc29\\ubc95 \\u5916 29\\uac74\\n2017\\n111\\uac74\\n10-1685172 \\uace0\\ub0b4\\uc5f4\\uc131 \\ubc0f \\uace0\\ub0b4\\ud654\\ud559\\uc131\\uc758 \\ubcf4\\ud638\\ubc15\\ub9c9 \\uc870\\uc131\\ubb3c \\ubc0f \\uc774\\ub97c \\uc774\\uc6a9\\ud558\\uc5ec \\ubcf4\\ud638\\ubc15\\ub9c9\\uc744 \\uc81c\\uc870\\ud558\\ub294 \\ubc29\\ubc95 \\u5916 110\\uac74\\n2018\\n121\\uac74\\n10-1825983 \\ud3b8\\uad11\\uc790 \\ubcf4\\ud638 \\ud544\\ub984, \\uc774\\ub97c \\ud3ec\\ud568\\ud558\\ub294 \\ud3b8\\uad11\\ud310, \\ubc0f \\uc774\\ub97c \\uad6c\\ube44\\ud55c \\ud45c\\uc2dc \\uc7a5\\uce58 \\u5916 120\\uac74\\n2019\\n143\\uac74\\n10-1948280 \\ud3f4\\ub9ac\\uc5d0\\uc2a4\\ud14c\\ub974 \\uc218\\uc9c0 \\uc870\\uc131\\ubb3c \\ubc0f \\uc774\\ub97c \\uc774\\uc6a9\\ud55c \\ud3f4\\ub9ac\\uc5d0\\uc2a4\\ud14c\\ub974 \\ud544\\ub984\\uc758 \\uc81c\\uc870\\ubc29\\ubc95 \\u5916 142\\uac74\\n\\uc0c1\\uae30 \\uc9c0\\uc801\\uc7ac\\uc0b0\\uad8c\\uc740 \\uc804\\ubb38\\uc778\\ub825\\uc73c\\ub85c \\uad6c\\uc131\\ub41c \\uc804\\ub2f4\\uc870\\uc9c1\\uc5d0 \\uc758\\ud574 \\ucd9c\\uc6d0/\\ub4f1\\ub85d, \\uc0ac\\ud6c4\\uad00\\ub9ac \\ub4f1\\uc774 \\uad00\\ub9ac\\ub418\\uace0 \\uc788\\uc73c\\uba70, \\ub300\\ubd80\\ubd84 \\uc0c1\\uc6a9 \\ub610\\ub294 \\uc0c1\\uc6a9\\ud654\\ub97c\\n\\ubaa9\\uc801\\uc73c\\ub85c \\ub4f1\\ub85d\\ubc1b\\uc740 \\ud2b9\\ud5c8\\uad8c\\uc73c\\ub85c \\ub2f9\\uc0ac\\uc758 \\uad8c\\ub9ac\\ubcf4\\ud638 \\ud6a8\\uacfc\\uac00 \\uc788\\uc2b5\\ub2c8\\ub2e4.\\nSK\\ud154\\ub808\\uc2dc\\uc2a4\\n\\uae30\\ud0c0\\n\\uc804\\uc790\\uc7ac\\ub8cc\\n\\ub2f9\\uc0ac\\ub294 \\ud68c\\uc0ac \\uc124\\ub9bd \\uc774\\ub798 \\uad11 \\uc911\\uacc4\\uae30 \\ubc0f RF \\uc911\\uacc4\\uae30, WiBro, LTE \\ud3a8\\ud1a0\\uc140 \\ub4f1 \\ud1b5\\uc2e0\\uc7a5\\ube44\\ub97c \\uc9c0\\uc18d\\uc801\\uc73c\\ub85c \\uac1c\\ubc1c\\ud558\\uc5ec \\uc0c1\\uc6a9\\ud654 \\ud558\\uc600\\uc2b5\\ub2c8\\ub2e4.\\n\\ub2f9\\uc0ac\\uc758 \\uc5f0\\uad6c \\uac1c\\ubc1c \\ub2f4\\ub2f9 \\uc870\\uc9c1\\uc740 \\ud310\\uad50 \\uc5f0\\uad6c\\uc18c\\uc5d0 \\uc788\\uc2b5\\ub2c8\\ub2e4. \\ub2f9\\uc0ac\\uac00 \\uc5f0\\uad6c \\ubc0f \\uac1c\\ubc1c\\ud65c\\ub3d9\\uc5d0 \\uc9c0\\ucd9c\\ud558\\uace0 \\uc788\\ub294 \\uc5f0\\uad6c\\uac1c\\ubc1c \\ube44\\uc6a9\\uc740 \\ub2e4\\uc74c\\uacfc \\uac19\\uc2b5\\ub2c8\\ub2e4.\\n(\\ub2e8\\uc704 : \\ubc31\\ub9cc\\uc6d0)\\n\\uacfc\\u00a0 \\u00a0 \\u00a0 \\u00a0 \\u00a0 \\u00a0\\u00a0 \\ubaa9\\n2019\\n(\\uc81c23\\uae30\\n)\\n2018\\n(\\uc81c22\\uae30\\n)\\n2017\\n(\\uc81c21\\uae30\\n)\\n\\uc6d0\\u00a0 \\uc7ac\\u00a0 \\ub8cc\\u00a0\\u00a0 \\ube44\\n404\\n181\\n261\\n\\uc778\\u00a0 \\u00a0\\u00a0 \\uac74\\u00a0 \\u00a0\\u00a0 \\ube44\\n3,723\\n3,193\\n2,929\\n\\uac10 \\uac00 \\uc0c1 \\uac01 \\ube44\\n1037\\n780\\n1,225\\n\\uc704 \\ud0c1 \\uc6a9 \\uc5ed \\ube44\\n1075\\n1,740\\n66\\n\\uae30\\u00a0 \\u00a0 \\u00a0 \\u00a0 \\u00a0 \\u00a0\\u00a0 \\ud0c0\\n2,912\\n2,675\\n2,020\\n\\uc5f0\\uad6c\\uac1c\\ubc1c\\ube44\\uc6a9 \\uacc4\\n9,151\\n8,568\\n6,501\\n(\\uc815\\ubd80\\ubcf4\\uc870\\uae08)\\n0\\n-\\n-\\n\\ud68c\\uacc4\\ucc98\\ub9ac\\n\\ud310\\ub9e4\\ube44\\uc640 \\uad00\\ub9ac\\ube44\\n3,533\\n4,687\\n5,860\\n\\uc81c\\uc870\\uc6d0\\uac00 \\ub4f1\\n0\\n-\\n-\\n\\uac1c\\ubc1c\\ube44(\\ubb34\\ud615\\uc790\\uc0b0)\\n5,618\\n3,881\\n641\\n\\uc5f0\\uad6c\\uac1c\\ubc1c\\ube44 / \\ub9e4\\ucd9c\\uc561 \\ube44\\uc728\\n[\\uc5f0\\uad6c\\uac1c\\ubc1c\\ube44\\uc6a9\\uacc4\\u00f7\\ub2f9\\uae30\\ub9e4\\ucd9c\\uc561\\u00d7100]\\n3.14%\\n2.49%\\n1.63%\\nSKC\\uc194\\ubbf9\\uc2a4\\n\\uc804\\uc790\\uc7ac\\ub8cc\\n\\uac00. \\uc5f0\\uad6c\\uac1c\\ubc1c\\ud65c\\ub3d9\\uc758 \\uac1c\\uc694\\n(1) \\uc5f0\\uad6c\\uac1c\\ubc1c \\ub2f4\\ub2f9 \\uc870\\uc9c1\\n\\uc5f0\\uad6c\\uc18c\\uc870\\uc9c1\\ub3c4\\n(\\n2) \\uc5f0\\uad6c\\uac1c\\ubc1c\\ube44\\uc6a9\\n(\\ub2e8\\uc704 : \\ubc31\\ub9cc\\uc6d0)\\n\\uacfc\\u00a0 \\u00a0 \\u00a0\\u00a0 \\ubaa9\\n2019\\n(\\uc81c25\\uae30)\\n2018\\n(\\uc81c24\\uae30)\\n2017\\n(\\uc81c23\\uae30)\\n\\ube44 \\uace0\\n\\uc6d0\\u00a0 \\uc7ac\\u00a0 \\ub8cc\\u00a0 \\ube44\\n472\\n24\\n9\\n-\\n\\uc778\\u00a0 \\u00a0 \\uac74\\u00a0 \\u00a0 \\ube44\\n554\\n994\\n886\\n-\\n\\uac10 \\uac00 \\uc0c1 \\uac01 \\ube44\\n255\\n441\\n414\\n-\\n\\uae30\\u00a0 \\u00a0 \\u00a0 \\u00a0 \\u00a0 \\u00a0 \\ud0c0\\n200\\n104\\n432\\n-\\n\\uc5f0\\uad6c\\uac1c\\ubc1c\\ube44\\uc6a9\\uacc4\\n1,481\\n1,563\\n1,741\\n-\\n(\\uc815\\ubd80\\ubcf4\\uc870\\uae08)\\n-\\n-\\n-\\n-\\n\\ud68c\\uacc4\\ucc98\\ub9ac\\n\\ud310\\ub9e4\\ube44\\uc640\\uad00\\ub9ac\\ube44\\n1\\n10\\n46\\n-\\n\\uc81c\\u00a0 \\uc870\\u00a0 \\uacbd\\u00a0 \\ube44\\n1,479\\n1,553\\n1,696\\n-\\n\\uac1c\\ubc1c\\ube44(\\ubb34\\ud615\\uc790\\uc0b0)\\n-\\n-\\n-\\n-\\n\\uc5f0\\uad6c\\uac1c\\ubc1c\\ube44 / \\ub9e4\\ucd9c\\uc561 \\ube44\\uc728 (\\uc8fc1)\\n[\\uc5f0\\uad6c\\uac1c\\ubc1c\\ube44\\uc6a9\\uacc4\\u00f7\\ub2f9\\uae30\\ub9e4\\ucd9c\\uc561\\u00d7100]\\n1.07%\\n1.11%\\n1.31%\\n-\\n(\\uc8fc1) 2016\\ub144\\uc740 \\ud0dc\\uc591\\uad11\\uc0ac\\uc5c5\\ubd80 \\ub9e4\\uac01\\uc73c\\ub85c \\uc778\\ud558\\uc5ec \\ud574\\ub2f9 \\uc0ac\\uc5c5\\uc758 \\ubaa8\\ub4e0 \\uc190\\uc775 \\ud56d\\ubaa9\\uc744 \\uacc4\\uc18d\\uc601\\uc5c5\\uacfc \\ubd84\\ub9ac\\ud558\\uc5ec '\\uc911\\ub2e8\\uc601\\uc5c5\\uc190\\uc775' \\uc73c\\ub85c\\n\\uc7ac\\ubd84\\ub958\\ud558\\uc5ec \\ud45c\\uc2dc\\ud558\\uace0, \\ube44\\uad50\\ud45c\\uc2dc\\ub418\\ub294 \\uacfc\\uac70 \\uc190\\uc775\\uacc4\\uc0b0\\uc11c\\ub3c4 \\uc7ac\\uc791\\uc131 \\ud558\\uc600\\uc2b5\\ub2c8\\ub2e4. \\uc774\\uc5d0 \\ub530\\ub77c\\n\\uc5f0\\uad6c\\uac1c\\ubc1c\\ube44 \\ube44\\uc911\\uc758 \\ube44\\uc728\\uc744\\n\\uacc4\\uc18d\\uc0ac\\uc5c5\\uc774\\uc775 \\uae30\\uc900\\uc73c\\ub85c \\uc7ac\\uc791\\uc131 \\ud558\\uc600\\uc2b5\\ub2c8\\ub2e4.\\n\\ub098. \\uc5f0\\uad6c\\uac1c\\ubc1c \\uc2e4\\uc801\\n\\uc5f0\\uad6c\\uae30\\uad00\\n\\uc5f0\\uad6c\\uacfc\\uc81c\\n\\uc5f0\\uad6c\\uae30\\uac04\\n\\uc5f0\\uad6c\\uacb0\\uacfc \\ubc0f \\uae30\\ub300\\uc131\\uacfc\\n\\ub2f9\\uc0ac\\n\\ubd80\\uc124\\n\\uc5f0\\uad6c\\uc18c\\n\\uc2e0\\uaddc SiC \\uc18c\\uc7ac \\uac1c\\ubc1c\\n15\\ub144 08\\uc6d4\\n~19\\ub144 12\\uc6d4\\n- \\uc81c\\ud488 \\uc81c\\uc870 \\ubc0f \\uace0\\uac1d TEST\\ub85c \\uace0\\uac1d \\ub300\\uc751 \\ub9e4\\ucd9c \\ubc1c\\uc0dd \\uc608\\uc0c1\\n\\uc2e0\\uaddc \\uacf5\\ubc95 \\uac1c\\ubc1c\\n15\\ub144 01\\uc6d4\\n~19\\ub144 12\\uc6d4\\n- \\uc2e0\\uaddc \\uacf5\\ubc95 \\uc801\\uc6a9 \\uc81c\\ud488 \\uac1c\\ubc1c\\ub85c \\uc6d0\\uac00\\uc808\\uac10 \\uc608\\uc0c1\\n\\ub2e4. \\uc9c0\\uc801\\uc7ac\\uc0b0\\uad8c \\ubcf4\\uc720 \\ud604\\ud669\\n\\uc77c\\uc790\\n\\ud2b9\\ud5c8 \\ub0b4\\uc6a9\\n\\ud574\\ub2f9\\uad6d\\uac00\\n2006.04.07\\n\\ubb34\\uc18c\\uacb0 \\uc9c8\\ud654\\uc54c\\ub8e8\\ubbf8\\ub284 \\uc815\\uc804\\ucc99 \\ubc0f \\uadf8 \\uc81c\\uc870\\ubc29\\ubc95\\n\\uad6d\\ub0b4\\n2006.10.09\\n\\uc218\\uc9c0\\uc7ac \\ucf54\\ud305\\ubc29\\ubc95 \\ubc0f \\uc774\\ub97c \\uc774\\uc6a9\\ud558\\uc5ec \\uc81c\\uc870\\ub41c \\ub3c4\\uc804\\uc131 \\uc785\\uc790 \\ub610\\ub294 \\uac15\\uc790\\uc131\\uccb4 \\uc785\\uc790\\uac00 \\ucf54\\ud305\\ub41c \\uc218\\uc9c0\\uc7ac\\n\\uad6d\\ub0b4\\n2007.02.08\\n\\ubc18\\ub3c4\\uccb4 \\uc81c\\uc870\\uc124\\ube44\\uc758 \\ucf54\\ud305\\uce35 \\ud615\\uc131\\ubc29\\ubc95\\n\\uad6d\\ub0b4\\n2007.11.07\\n\\ucf5c\\ub4dc\\uc2a4\\ud504\\ub808\\uc774\\uc6a9 \\ub178\\uc990 \\ubc0f \\uc774\\ub97c \\uc774\\uc6a9\\ud55c \\ucf5c\\ub4dc \\uc2a4\\ud504\\ub808\\uc774 \\uc7a5\\uce58\\n\\uad6d\\ub0b4\\n2007.11.08\\n\\ucf5c\\ub4dc\\uc2a4\\ud504\\ub808\\uc774\\uc6a9 \\ub178\\uc990 \\ubc0f \\uc774\\ub97c \\uc774\\uc6a9\\ud55c \\ucf5c\\ub4dc \\uc2a4\\ud504\\ub808\\uc774 \\uc7a5\\uce58\\n\\uad6d\\ub0b4\\n2008.02.01\\n\\ub0b4\\ub9c8\\ubaa8\\uc131 \\uae08\\uc18d\\uae30\\uc9c0 \\ubcf5\\ud569\\uccb4 \\ucf54\\ud305\\uce35 \\ud615\\uc131\\ubc25\\ubc95 \\ubc0f \\uc774\\ub97c \\uc774\\uc6a9\\ud558\\uc5ec \\uc81c\\uc870\\ub41c \\ucf54\\ud305\\uce35\\n\\uad6d\\ub0b4\\n2008.02.13\\n\\uae08\\uc18d\\uae30\\uc9c0 \\ubcf5\\ud569\\uccb4 \\ud615\\uc131\\ubc29\\ubc95 \\ubc0f \\uc774\\ub97c \\uc774\\uc6a9\\ud558\\uc5ec \\uc81c\\uc870\\ub41c \\ucf54\\ud305\\uce35 \\ubc0f \\ubc8c\\ud06c\\n\\uad6d\\ub0b4\\n2008.08.28\\n\\ub0b4\\ub9c8\\ubaa8\\uc131\\uae08\\uc18d\\uae30\\uc9c0\\ubcf5\\ud569\\uccb4 \\ucf54\\ud305\\uce35 \\ud615\\uc131\\ubc29\\ubc95 \\ubc0f \\uc774\\ub97c \\uc774\\uc6a9\\ud558\\uc5ec \\uc81c\\uc870\\ub41c \\ucf54\\ud305\\uce35\\n\\uc77c\\ubcf8\\n2008.08.28\\n\\ub0b4\\ub9c8\\ubaa8\\uc131\\uae08\\uc18d\\uae30\\uc9c0\\ubcf5\\ud569\\uccb4 \\ucf54\\ud305\\uce35 \\ud615\\uc131\\ubc29\\ubc95 \\ubc0f \\uc774\\ub97c \\uc774\\uc6a9\\ud558\\uc5ec \\uc81c\\uc870\\ub41c \\ucf54\\ud305\\uce35\\n\\ub300\\ub9cc\\n2008.08.28\\n\\ub0b4\\ub9c8\\ubaa8\\uc131\\uae08\\uc18d\\uae30\\uc9c0\\ubcf5\\ud569\\uccb4 \\ucf54\\ud305\\uce35 \\ud615\\uc131\\ubc29\\ubc95 \\ubc0f \\uc774\\ub97c \\uc774\\uc6a9\\ud558\\uc5ec \\uc81c\\uc870\\ub41c \\ucf54\\ud305\\uce35\\n\\ubbf8\\uad6d\\n2011.08.01\\n\\ubc18\\uc751\\uc18c\\uacb0 \\ud0c4\\ud654\\uaddc\\uc18c \\uc18c\\uacb0\\uccb4 \\uc811\\ud569\\uccb4\\uc758 \\uc81c\\uc870\\ubc29\\ubc95 \\ubc0f \\uc774\\uc5d0 \\uc758\\ud574 \\uc81c\\uc870\\ub418\\ub294 \\ud0c4\\ud654\\uaddc\\uc18c \\uc18c\\uacb0\\uccb4 \\uc811\\ud569\\uccb4\\n\\uad6d\\ub0b4\\n2011.12.29\\n\\uc720\\ub9ac\\uae30\\ud310\\uc744 \\uac16\\ub294 \\ub514\\uc2a4\\ud50c\\ub808\\uc774 \\uc81c\\uc870\\uc6a9 \\ub9ac\\ud504\\ud2b8 \\uc7a5\\uce58\\n\\uad6d\\ub0b4\\n2012.02.21\\n\\ubc18\\uc751\\uc18c\\uacb0 \\ud0c4\\ud654\\uaddc\\uc18c \\uc18c\\uacb0\\uccb4 \\uc811\\ud569\\uc6a9 \\uc811\\ud569\\uc81c \\ubc0f \\uc774\\ub97c \\uc774\\uc6a9\\ud55c \\uc811\\ud569 \\ubc29\\ubc95\\n\\uad6d\\ub0b4\\n2013.08.08\\n\\ub864\\ub7ec\\ubd80\\uc2f1\\n\\uad6d\\ub0b4\\n2016.02.23\\n\\uc6d0\\ub8cc \\uacf5\\uae09\\uc774 \\uc6a9\\uc774\\ud55c \\uc789\\uacf3 \\uc131\\uc7a5 \\uc7a5\\uce58\\n\\uad6d\\ub0b4\\n2016.03.30\\n\\uc2e4\\ub9ac\\ucf58 \\ub2e8\\uacb0\\uc815 \\uc789\\uacf3\\uc758 \\uc81c\\uc870\\uc7a5\\uce58 \\ubc0f \\uadf8 \\uc81c\\uc870\\ubc29\\ubc95\\n\\uad6d\\ub0b4\\n2016.09.01\\n\\uc6e8\\uc774\\ud37c \\uc774\\uc1a1\\uc6a9 \\ud3ec\\ud06c\\n\\uad6d\\ub0b4\\n2016.10.25\\n\\ud0ed \\ub0a0\\uac1c\\uac00 \\uad6c\\ube44\\ub41c \\uc804\\uadf9\\ud310 \\uccb4\\uacb0\\uc6a9 \\ud074\\ub7a8\\ud504\\n\\uad6d\\ub0b4\\n2016.10.31\\n\\uba48\\ucda4\\ub9c1\\uc744 \\uad6c\\ube44\\ud55c \\uc804\\uadf9\\ud310 \\uccb4\\uacb0\\uc6a9 \\ud074\\ub7a8\\ud504\\n\\uad6d\\ub0b4\\n2017.12.15\\n\\uc804\\uae30\\uc804\\ub3c4\\uc131 \\ubd80\\ud488\\uc744 \\ud3ec\\ud568\\ud558\\ub294 \\ud50c\\ub77c\\uc988\\ub9c8 \\ucc98\\ub9ac\\uc7a5\\uce58 \\ubc0f \\uadf8 \\ubd80\\ud488\\uc758 \\uc81c\\uc870\\ubc29\\ubc95\\n\\uad6d\\ub0b4\\n2018.01.08\\n\\uc804\\uae30\\uc804\\ub3c4\\uc131 \\ubd80\\ud488\\uc744 \\ud3ec\\ud568\\ud558\\ub294 \\ud504\\ub77c\\uc988\\ub9c8 \\ucc98\\ub9ac\\uc7a5\\uce58 \\ubc0f \\uadf8 \\ubd80\\ud488\\uc758 \\uc81c\\uc870\\ubc29\\ubc95\\n\\uad6d\\ub0b4\\n2018.04.09\\n\\ud145\\uc2a4\\ud150\\uacc4 \\ub0b4\\uc2dd\\ud310\\uc744 \\ud3ec\\ud568\\ud558\\ub294 \\ud504\\ub77c\\uc988\\ub9c8 \\uc7a5\\uce58\\uc6a9 \\ubd80\\ud488 \\ubc0f \\uadf8 \\uc81c\\uc870\\ubc29\\ubc95\\n\\uad6d\\ub0b4\\n2018.04.09\\n\\ud145\\uc2a4\\ud150\\uce74\\ubc14\\uc774\\ub4dc \\uce35\\uc744 \\uac00\\uc9c4 \\ud504\\ub77c\\uc988\\ub9c8 \\uc7a5\\uce58\\uc6a9 \\ubd80\\ud488 \\ubc0f \\uadf8 \\uc81c\\uc870\\ubc29\\ubc95\\n\\uad6d\\ub0b4\\n2018.04.09\\n\\ud145\\uc2a4\\ud150\\uacc4 \\ucf54\\ud305\\uce35\\uc744 \\uac00\\uc9c4 \\ud504\\ub77c\\uc988\\ub9c8 \\uc7a5\\uce58\\uc6a9 \\ubd80\\ud488 \\ubc0f \\uadf8 \\uc81c\\uc870\\ubc29\\ubc95\\n\\uad6d\\ub0b4\\n2018.06.11\\n\\uace0\\ubd84\\uc790 \\ubd09\\uc9c0\\ub97c \\ud65c\\uc6a9\\ud55c \\uc131\\ud615\\ud488 \\uc81c\\uc870\\uc7a5\\uce58\\n\\uad6d\\ub0b4\\n2018.06.15\\n\\ud145\\uc2a4\\ud150\\uce74\\ubc14\\uc774\\ub4dc \\ubc8c\\ud06c\\ub85c \\uc774\\ub8e8\\uc5b4\\uc9c4 \\ud50c\\ub77c\\uc988\\ub9c8 \\uc7a5\\uce58\\uc6a9 \\ubd80\\ud488\\n\\uad6d\\ub0b4\\n2018.06.21\\n\\uc9c1\\ubb3c\\uc744 \\uc774\\uc6a9\\ud55c \\ud0c4\\ud654\\uaddc\\uc18c \\uc81c\\uc870\\ubc29\\ubc95 \\ubc0f \\uadf8\\uac8c \\uc758\\ud574 \\uc81c\\uc870\\ub41c \\ud0c4\\ud654\\uaddc\\uc18c\\n\\uad6d\\ub0b4\\n2019.11.05\\n\\ud145\\uc2a4\\ud150\\uce74\\ubc14\\uc774\\ub4dc\\ub85c \\uc774\\ub8e8\\uc5b4\\uc9c4 \\ud50c\\ub77c\\uc988\\ub9c8 \\uc7a5\\uce58\\uc6a9 \\ubd80\\ud488 \\ubc0f \\uadf8 \\uc81c\\uc870\\ubc29\\ubc95\\n\\uad6d\\ub0b4\\n2019.11.05\\n\\ud145\\uc2a4\\ud150\\uc625\\uc0ac\\uc774\\ub4dc \\ubc8c\\ud06c\\ub85c \\uc774\\ub8e8\\uc5b4\\uc9c4 \\ud50c\\ub77c\\uc988\\ub9c8 \\uc7a5\\uce58\\uc6a9 \\ubd80\\ud488\\n\\uad6d\\ub0b4\\nSKC Inc.\\nIndustry\\uc18c\\uc7ac\\n\\uac00. \\uc5f0\\uad6c\\uac1c\\ubc1c \\ud65c\\ub3d9\\uc758 \\uac1c\\uc694\\n(1) \\uc5f0\\uad6c\\uac1c\\ubc1c \\ub2f4\\ub2f9\\uc870\\uc9c1\\n\\ub2f9\\uc0ac\\ub294 \\uacf5\\uc7a5\\ub0b4\\uc5d0 T&D \\ubc0f QA\\ud300\\uc744 \\ud3b8\\uc131/\\uc6b4\\uc601\\ud558\\uace0 \\uc788\\uc73c\\uba70 \\ubcf8\\uc0ac SKC(\\uc8fc)\\uc758 \\uc5f0\\uad6c\\uc870\\uc9c1\\uacfc \\uc5f0\\uacc4\\ud558\\uc5ec \\ud604\\uc9c0\\uc5d0\\uc11c \\uc0dd\\uc0b0\\ud558\\uace0 \\uc788\\ub294\\nPET \\ud544\\ub984\\uc758 \\uac00\\uacf5\\ubd84\\uc57c\\uc5d0 \\ub300\\ud55c \\uc5f0\\uad6c\\ub97c \\uc9c4\\ud589\\uc911 \\uc785\\ub2c8\\ub2e4.\\n(2) \\uc5f0\\uad6c\\uac1c\\ubc1c\\ube44\\uc6a9\\n\\ubcf8\\uaca9\\uc801\\uc778 \\uc5f0\\uad6c\\uac1c\\ubc1c\\uc740 \\ubcf8\\uc0ac\\uc778 SKC(\\uc8fc)\\ub97c \\ud65c\\uc6a9\\ud558\\uace0 \\ub2f9\\uc0ac\\ub294 \\ud604\\uc9c0 \\uc801\\uc751 \\uae30\\uc220 \\ub4f1\\uc758 \\uac1c\\ubc1c\\ub9cc \\ub2f4\\ub2f9\\ud558\\uace0 \\uc788\\uae30 \\ub54c\\ubb38\\uc5d0 \\uc5f0\\uad6c\\uac1c\\ubc1c\\ube44\\ub85c \\uad6c\\ubcc4\\ud558\\uc9c0 \\uc54a\\uc2b5\\ub2c8\\ub2e4.\\n\\ub098. \\uc5f0\\uad6c\\uac1c\\ubc1c \\uc2e4\\uc801\\n\\ub2f9\\uc0ac\\ub294 \\ud604\\uc9c0\\uc801\\uc751\\uae30\\uc220, \\uc81c\\ud488\\uc758 \\uace0\\uac1d \\ud2b9\\ubcc4 \\uc694\\uad6c\\uc0ac\\ud56d \\uc801\\uc6a9 \\ub4f1\\uc758 \\uac1c\\ubc1c\\uc744 \\ub2f4\\ub2f9\\ud558\\uace0 \\uc788\\uc5b4, \\ubcc4\\ub3c4 \\ucd9c\\uc6d0\\ub41c \\ud2b9\\ud5c8 \\ub4f1\\uc740 \\uc5c6\\uc2b5\\ub2c8\\ub2e4.\\nSKC\\ud558\\uc774\\ud14c\\ud06c\\uc564\\n\\ub9c8\\ucf00\\ud305\\nIndustry\\uc18c\\uc7ac\\n\\ub2f9\\uc0ac\\uc758 \\uc5f0\\uad6c\\uac1c\\ubc1c \\ub2f4\\ub2f9\\uc870\\uc9c1\\uc740 \\uc218\\uc6d0\\uacfc \\ucc9c\\uc548\\uc5d0 \\uc5f0\\uad6c\\uc18c\\ub97c \\uc124\\uce58, \\uc6b4\\uc601 \\ud558\\uace0 \\uc788\\uc73c\\uba70 \\uad00\\ub828 \\uc5f0\\uad6c\\uac1c\\ubc1c\\ub2f4\\ub2f9 \\uc9c1\\uc6d0\\uc218\\ub294\\n63\\n\\uba85\\uc785\\ub2c8\\ub2e4.\\n\\ub2f9\\uc0ac\\ub294 \\ubbf8\\ub514\\uc5b4 \\ubc0f \\ud544\\ub984 \\uc18c\\uc7ac \\uac00\\uacf5\\uc0ac\\uc5c5\\uc758 \\uacbd\\ud5d8\\uc744 \\ubc14\\ud0d5\\uc73c\\ub85c Display \\uad00\\ub828 \\uc81c\\ud488\\ub4e4\\uc744 \\uac1c\\ubc1c\\ud558\\uace0 \\uc788\\uace0 \\ud5a5\\ud6c4 \\uc790\\ub3d9\\ucc28, \\uac74\\n\\ucd95, \\ubc18\\ub3c4\\uccb4,\\nIT \\uc0b0\\uc5c5 \\ub4f1 Non display \\uc2dc\\uc7a5 \\uc9c4\\uc785\\uc744 \\uc704\\ud55c \\uae30\\uc220 \\uac1c\\ubc1c\\ub3c4 \\uc9c4\\ud589\\ud558\\uace0 \\uc788\\uc2b5\\ub2c8\\ub2e4.\\n\\uc8fc\\uc694 \\uc5f0\\uad6c\\uac1c\\ubc1c \\uc131\\uacfc\\ub294 LCD \\ud655\\uc0b0\\ud544\\ub984 \\uad6d\\ub0b4 \\ucd5c\\ucd08 \\uac1c\\ubc1c\\uc744 \\ud544\\ub450\\ub85c \\ub2e4\\uc591\\ud55c LCD\\uc6a9 \\uad11\\ud559\\ud544\\ub984\\uc744 \\uc790\\uccb4 \\uac1c\\ubc1c\\ud558\\uc600\\uace0 \\uae30\\ub2a5\\uc131 \\ud544\\ub984\\uc778\\n\\uc774\\ud615\\ud544\\ub984,\\ube44\\uc0b0\\ubc29\\uc9c0\\ud544\\ub984,\\uc804\\ub3c4\\uc131\\ud544\\ub984\\uacfc Green \\ubc00\\ubca0\\uc774\\uc2a4\\ub3c4 \\uc0c1\\uc6a9\\ud654\\uc5d0 \\uc131\\uacf5\\ud558\\uc600\\uc2b5\\ub2c8\\ub2e4.\\n\\ub2f9\\uc0ac\\ub294 \\ud5a5\\ud6c4 Wet \\ucf54\\ud305, \\ubd84\\uc0b0\\uae30\\uc220, Lamination, Dry \\ucf54\\ud305, UV \\uacbd\\ud654, \\ub9c8\\uc774\\ud06c\\ub85c \\ud328\\ud134 \\ub4f1 \\ud575\\uc2ec\\uae30\\uc220\\uc744 \\ubc14\\ud0d5\\uc73c\\ub85c \\uc735\\ubcf5\\ud569 R&D\\ub97c \\ud1b5\\ud558\\uc5ec\\n\\uc2dc\\uc7a5\\uc120\\ub3c4\\ud615 \\ud601\\uc2e0\\uc81c\\ud488\\uc744 \\uac1c\\ubc1c\\ud558\\uace0\\uc790 \\ub9e4\\uc9c4\\ud558\\uace0 \\uc788\\uc2b5\\ub2c8\\ub2e4.\\n\\uac00. \\uc5f0\\uad6c\\uac1c\\ubc1c\\ube44\\uc6a9\\n2019\\ub144 \\ub2f9\\uc0ac\\uac00 \\uc5f0\\uad6c \\ubc0f \\uac1c\\ubc1c\\ud65c\\ub3d9\\uc5d0 \\uc9c0\\ucd9c\\ud558\\uace0 \\uc788\\ub294 \\uc5f0\\uad6c\\uac1c\\ubc1c\\ube44\\uc6a9 \\ub0b4\\uc5ed\\uc740 \\ub2e4\\uc74c\\uacfc \\uac19\\uc2b5\\ub2c8\\ub2e4.\\n(\\ub2e8\\uc704 : \\ubc31\\ub9cc\\uc6d0)\\n\\uacfc\\u00a0 \\u00a0 \\u00a0\\u00a0 \\ubaa9\\n2019\\ub144\\n(\\uc81c13\\uae30)\\n2018\\ub144\\n(\\uc81c12\\uae30)\\n2017\\ub144\\n(\\uc81c11\\uae30)\\n\\uc6d0\\u00a0 \\uc7ac\\u00a0 \\ub8cc\\u00a0 \\ube44\\n4,098\\n2,357\\n4,608\\n\\uc778\\u00a0 \\u00a0 \\uac74\\u00a0 \\u00a0 \\ube44\\n5,748\\n5,752\\n4,160\\n\\uac10 \\uac00 \\uc0c1 \\uac01 \\ube44\\n302\\n223\\n232\\n\\uc704 \\ud0c1 \\uc6a9 \\uc5ed \\ube44\\n-\\n-\\n\\uae30\\u00a0 \\u00a0 \\u00a0 \\u00a0 \\u00a0 \\u00a0 \\ud0c0\\n3,392\\n4,520\\n2,956\\n\\uc5f0\\uad6c\\uac1c\\ubc1c\\ube44\\uc6a9 \\uacc4\\n13,540\\n12,852\\n11,956\\n(\\uc815\\ubd80\\ubcf4\\uc870\\uae08)\\n-\\n-\\n\\ud68c\\uacc4\\ucc98\\ub9ac\\n\\ud310\\ub9e4\\ube44\\uc640 \\uad00\\ub9ac\\ube44\\n11,361\\n11,733\\n9,954\\n\\uc81c\\uc870\\uacbd\\ube44\\n-\\n-\\n\\uac1c\\ubc1c\\ube44(\\ubb34\\ud615\\uc790\\uc0b0)\\n2,179\\n1,119\\n2,002\\n\\uc5f0\\uad6c\\uac1c\\ubc1c\\ube44 / \\ub9e4\\ucd9c\\uc561 \\ube44\\uc728\\n[\\uc5f0\\uad6c\\uac1c\\ubc1c\\ube44\\uc6a9\\uacc4\\u00f7\\ub2f9\\uae30\\ub9e4\\ucd9c\\uc561\\u00d7100]\\n3.57%\\n3.99%\\n4.30%\\n* 2019\\ub144 \\ubcc4\\ub3c4 \\ub9e4\\ucd9c\\uc561 378,928\\ubc31\\ub9cc\\uc6d0\\n\\ub098. \\uc9c0\\uc801\\uc7ac\\uc0b0\\uad8c \\ubcf4\\uc720 \\ud604\\ud669\\n\\uc5f0\\ub3c4\\n\\ub4f1\\ub85d\\uac74\\uc218\\n\\ub4f1\\ub85d \\ub0b4\\uc5ed \\uc694\\uc57d\\n2015\\n8\\uac74\\n10-1565855 \\ud328\\ud134 \\ube44\\uc2dc\\uc778\\uc131\\uc774 \\uc6b0\\uc218\\ud55c \\ud22c\\uba85 \\uc804\\ub3c4\\uc131 \\uad11\\ud559\\uc2dc\\ud2b8 \\u5916 7\\uac74\\n2016\\n10\\uac74\\n10-1663280 \\uc561\\uc815\\ud45c\\uc2dc\\uc7a5\\uce58\\uc6a9 \\uc0c9\\uc21c\\ub3c4 \\ud5a5\\uc0c1 \\ud544\\ub984 \\u5916 9\\uac74\\n2017\\n20\\uac74\\n10-1738493 \\ube44\\uc0b0\\ubc29\\uc9c0\\ud544\\ub984 \\u5916 19\\uac74\\n2018\\n19\\uac74\\n10-1823625 \\uc778\\uc1c4\\uac00\\ub2a5\\ud55c \\uae30\\ub2a5\\uc131 \\ud558\\ub4dc\\ucf54\\ud305 \\ud544\\ub984 \\ubc0f \\uc774\\uc758 \\uc81c\\uc870\\ubc29\\ubc95 \\u5916 18\\uac74\\n2019\\n17\\uac74\\n10-1948273 \\ube44\\uc0b0\\ubc29\\uc9c0\\ub370\\ucf54\\ud544\\ub984 \\u5916 16\\uac74\\nSK\\ubc14\\uc774\\uc624\\ub79c\\ub4dc\\nBHC\\n\\uac00. \\uc5f0\\uad6c\\uac1c\\ubc1c\\ud65c\\ub3d9\\uc758 \\uac1c\\uc694\\n(1) \\uc5f0\\uad6c\\uac1c\\ubc1c \\ub2f4\\ub2f9\\uc870\\uc9c1\\n\\uc5f0\\uad6c\\uc18c \\uc870\\uc9c1\\ub3c4\\n(2) \\uc5f0\\uad6c\\uac1c\\ubc1c\\ube44\\uc6a9(\\uc5f0\\n\\uacb0\\uae30\\uc900)\\n\\ud68c\\uc0ac\\uc758 \\ucd5c\\uadfc 3\\ub144\\uac04 \\uc5f0\\uad6c\\uac1c\\ubc1c \\ube44\\uc6a9\\uc740 \\ub2e4\\uc74c\\uacfc \\uac19\\uc2b5\\ub2c8\\ub2e4.\\n(\\ub2e8\\uc704 : \\ubc31\\ub9cc\\uc6d0 )\\n\\uacfc\\u00a0 \\u00a0 \\u00a0\\u00a0 \\ubaa9\\n2019\\n(\\uc81c25\\uae30)\\n2018\\n(\\uc81c24\\uae30)\\n2017\\n(\\uc81c23\\uae30)\\n\\ube44\\uace0\\n\\uc6d0\\u00a0 \\uc7ac\\u00a0 \\ub8cc\\u00a0 \\ube44\\n782\\n522\\n444\\n-\\n\\uc778\\u00a0 \\u00a0 \\uac74\\u00a0 \\u00a0 \\ube44\\n3,810\\n4,253\\n3,575\\n-\\n\\uac10 \\uac00 \\uc0c1 \\uac01 \\ube44\\n-\\n-\\n-\\n-\\n\\uc704 \\ud0c1 \\uc6a9 \\uc5ed \\ube44\\n167\\n123\\n162\\n-\\n\\uae30\\u00a0 \\u00a0 \\u00a0 \\u00a0 \\u00a0 \\u00a0\\u00a0 \\ud0c0\\n2,052\\n2,508\\n2,475\\n-\\n\\uc5f0\\uad6c\\uac1c\\ubc1c\\ube44\\uc6a9 \\uacc4\\n(\\uc815\\ubd80\\ubcf4\\uc870\\uae08 \\ucc28\\uac10 \\uc804)\\n6,811\\n7,406\\n6,656\\n-\\n(\\uc815\\ubd80\\ubcf4\\uc870\\uae08)\\n188\\n562\\n513\\n-\\n\\ud68c\\uacc4\\ucc98\\ub9ac\\n\\ud310\\ub9e4\\ube44\\uc640 \\uad00\\ub9ac\\ube44\\n6,314\\n6,374\\n6,143\\n-\\n\\uc81c\\uc870\\uacbd\\ube44\\n-\\n-\\n-\\n-\\n\\uac1c\\ubc1c\\ube44(\\ubb34\\ud615\\uc790\\uc0b0)\\n309\\n470\\n-\\n-\\n\\uc5f0\\uad6c\\uac1c\\ubc1c\\ube44 / \\ub9e4\\ucd9c\\uc561 \\ube44\\uc728\\n[\\uc5f0\\uad6c\\uac1c\\ubc1c\\ube44\\uc6a9\\uacc4\\u00f7\\ub2f9\\uae30\\ub9e4\\ucd9c\\uc561\\u00d7100]\\n6.2%\\n6.8%\\n5.9%\\n-\\n(*1) \\uc5f0\\uad6c\\uac1c\\ubc1c\\ube44 / \\ub9e4\\ucd9c\\uc561 \\ube44\\uc728\\uc740 \\uc815\\ubd80\\ubcf4\\uc870\\uae08 \\ucc28\\uac10 \\ud6c4 \\uc5f0\\uad6c\\uac1c\\ubc1c\\ube44\\uc6a9 \\uacc4\\ub97c \\uae30\\uc900\\uc73c\\ub85c \\uc0b0\\uc815\\ud568.\\n\\ub098. \\uc5f0\\uad6c\\uac1c\\ubc1c \\uc2e4\\uc801\\n\\uad6c\\u00a0 \\ubd84\\n2019\\n2018\\n2017\\n\\uc5f0\\uad6c\\uacfc\\uc81c\\n-\\ubc1c\\ud6a8\\uae30\\uc220\\uc811\\ubaa9 \\uad6d\\ub0b4\\ub18d\\uc0b0\\ubb3c\\uc744 \\uc774\\uc6a9\\ud55c \\uad00\\uc808\\uac74\\uac15 \\uac74\\uac15\\uae30\\ub2a5\\uc2dd\\ud488\\uac1c\\ubc1c (\\uace0\\ubd80\\uac00\\uac00\\uce58\\uc2dd\\ud488\\uae30\\uc220\\uac1c\\ubc1c\\uacfc\\uc81c/\\ub18d\\ub9bc\\uc218\\uc0b0\\uc2dd\\ud488\\uae30\\ud68d\\uae30\\uc220\\ud3c9\\uac00\\uc6d0)\\n-(\\ub3c4\\ub77c\\uc9c0) \\uae30\\ub2a5\\uc131 \\uc6d0\\ub8cc \\uc9c0\\ud45c \\ud655\\ubcf4 \\ubc0f \\uc6d0\\ub8cc \\ud45c\\uc900\\ud654\\ub97c \\uc704\\ud55c \\uae30\\uc900\\uaddc\\uaca9 \\uc124\\uc815 \\uc5f0\\uad6c\\n-\\uc12c\\uc465\\ubd80\\uc7c1\\uc774\\ub97c \\uc774\\uc6a9\\ud55c \\ud608\\uc911 \\uc694\\uc0b0\\uc758 \\uac10\\uc18c\\uc5d0 \\ub3c4\\uc6c0\\uc744 \\uc8fc\\ub294 \\uac74\\uac15\\uae30\\ub2a5\\uc2dd\\ud488\\uac1c\\ubc1c(\\uace0\\ubd80\\uac00\\uac00\\uce58\\uc2dd\\ud488\\uae30\\uc220\\uac1c\\ubc1c\\uc0b0\\uc5c5/\\ub18d\\ub9bc\\ucd95\\uc0b0\\uc2dd\\ud488\\ubd80)\\n-BS07M \\uade0\\uc8fc \\ubc30\\uc591\\ubb3c \\ud65c\\uc6a9 \\ubc0f \\ucc9c\\uc5f0\\ubb3c\\uc18c\\uc7ac \\ub370\\uc774\\ud130\\ubca0\\uc774\\uc2a4 \\ud65c\\uc6a9\\n-\\ub0a0\\uac1c\\ud558\\ub298\\ub098\\ub9ac \\uc6d0\\ubb3c \\ud655\\ubcf4\\uc640 \\uc774\\ub97c \\ud65c\\uc6a9\\ud55c \\ud654\\uc7a5\\ud488 \\uc18c\\uc7ac\\uac1c\\ubc1c\\n-\\uc81c\\uc8fc \\uc790\\uc0dd \\uade0\\uc8fc \\ud655\\ubcf4\\uc640 \\uc774\\ub97c \\ud65c\\uc6a9\\ud55c \\uc18c\\uc7ac\\uac1c\\ubc1c\\n-\\uc2dc\\uc2a4\\ud15c\\ud1b5\\ud569\\uc801 \\uae00\\ub85c\\uceec \\ud654\\uc7a5\\ud488 \\uc2e0\\uc18c\\uc7ac\\ube0c\\ub79c\\ub4dc \\uac1c\\ubc1c(\\uae00\\ub85c\\ubc8c\\ucf54\\uc2a4\\uba54\\ud2f1\\uacfc\\uc81c/\\ubcf4\\uac74\\ubcf5\\uc9c0\\ubd80)\\n-\\ucf69\\ubc1c\\uc544\\ubc30\\uc544 \\ucd94\\ucd9c\\ubb3c\\uc744 \\ud3ec\\ud568\\ud558\\ub294 \\uac31\\ub144\\uae30 \\uac1c\\uc120 \\uac74\\uac15\\uae30\\ub2a5\\uc2dd\\ud488\\uac1c\\ubc1c(\\ub18d\\uc5c5\\uae30\\uc220\\uc2e4\\uc6a9\\ud654\\uc7ac\\ub2e8/\\uc5f0\\uad6c\\uac1c\\ubc1c\\uc131\\uacfc\\uc0ac\\uc5c5\\ud654\\uc9c0\\uc6d0\\uc0ac\\uc5c5)\\n-\\uacfc\\uccb4\\uc911 \\ud639\\uc740 \\ube44\\ub9cc\\uc778\\uc5d0\\uc11c \\uccb4\\uc911 \\ubc0f \\uccb4\\uc9c0\\ubc29 \\uac10\\uc18c\\uc5d0 \\ubbf8\\uce58\\ub294 \\ubc1c\\ud6a8\\uc728\\ud53c\\ucd94\\ucd9c\\ubd84\\ub9d0(FCCE)\\uc758 \\uc720\\ud6a8\\uc131 \\ubc0f \\uc548\\uc815\\uc131\\uc744 \\ud3c9\\uac00\\ud558\\uae30 \\uc704\\ud55c 12\\uc8fc, \\ubb34\\uc791\\uc704\\ubc30\\uc815, \\uc774\\uc911\\ub208\\uac00\\ub9bc, \\uc704\\uc57d\\ub300\\uc870 \\uc778\\uccb4\\uc801\\uc6a9\\uc2dc\\ud5d8(\\uc2dd\\ud488\\uae30\\ub2a5\\uc131\\ud3c9\\uac00\\uc9c0\\uc6d0\\uc0ac\\uc5c5/\\ud55c\\uad6d\\uc2dd\\ud488\\uc5f0\\uad6c\\uc6d0)\\n-\\uc12c\\uc465\\ubd80\\uc7c1\\uc774\\ub97c \\uc774\\uc6a9\\ud55c \\ud608\\uc911 \\uc694\\uc0b0\\uc758 \\uac10\\uc18c\\uc5d0 \\ub3c4\\uc6c0\\uc744 \\uc8fc\\ub294 \\uac74\\uac15\\uae30\\ub2a5\\uc2dd\\ud488\\uac1c\\ubc1c(\\uace0\\ubd80\\uac00\\uac00\\uce58\\uc2dd\\ud488\\uae30\\uc220\\uac1c\\ubc1c\\uc0b0\\uc5c5/\\ub18d\\ub9bc\\ucd95\\uc0b0\\uc2dd\\ud488\\ubd80)\\n-(\\ub3c4\\ub77c\\uc9c0) \\uae30\\ub2a5\\uc131 \\uc6d0\\ub8cc \\uc9c0\\ud45c \\ud655\\ubcf4 \\ubc0f \\uc6d0\\ub8cc \\ud45c\\uc900\\ud654\\ub97c \\uc704\\ud55c \\uae30\\uc900\\uaddc\\uaca9 \\uc124\\uc815 \\uc5f0\\uad6c\\n-\\ubc1c\\ud6a8\\uae30\\uc220\\uc811\\ubaa9 \\uad6d\\ub0b4\\ub18d\\uc0b0\\ubb3c\\uc744 \\uc774\\uc6a9\\ud55c \\uad00\\uc808\\uac74\\uac15 \\uac74\\uac15\\uae30\\ub2a5\\uc2dd\\ud488\\uac1c\\ubc1c (\\uace0\\ubd80\\uac00\\uac00\\uce58\\uc2dd\\ud488\\uae30\\uc220\\uac1c\\ubc1c\\uacfc\\uc81c/\\ub18d\\ub9bc\\uc218\\uc0b0\\uc2dd\\ud488\\uae30\\ud68d\\uae30\\uc220\\ud3c9\\uac00\\uc6d0)\\n-\\uc720\\uc804\\uccb4 \\uc815\\ubcf4 \\uae30\\ubc18 \\ubc14\\uc774\\uc624\\uc140\\ub8f0\\ub85c\\uc624\\uc988 \\uc0dd\\uc0b0 \\uade0\\uc8fc \\uc5c5\\uadf8\\ub808\\uc774\\ub4dc\\n-BL153\\uc758 \\uce58\\ub9e4\\uce58\\ub8cc\\uc81c \\uac1c\\ubc1c\\uc744 \\uc704\\ud55c \\uc81c2a\\uc0c1 \\uc784\\uc0c1\\uc5f0\\uad6c(\\ubcf4\\uac74\\ubcf5\\uc9c0\\ubd80)\\n-\\ub0a0\\uac1c\\ud558\\ub298\\ub098\\ub9ac \\uc6d0\\ubb3c \\ud655\\ubcf4\\uc640 \\uc774\\ub97c \\ud65c\\uc6a9\\ud55c \\ud654\\uc7a5\\ud488 \\uc18c\\uc7ac\\uac1c\\ubc1c\\n-\\uace0\\uae09\\uacc4\\uba74\\ud654\\ud559 \\uae30\\ubc18 \\ud654\\uc7a5\\ud488 \\ubc18\\uc81c\\ud615 \\uac1c\\ubc1c\\n-\\uc2dc\\uc2a4\\ud15c\\ud1b5\\ud569\\uc801 \\uae00\\ub85c\\uceec\\ud654\\uc7a5\\ud488 \\uc2e0\\uc18c\\uc7ac\\ube0c\\ub79c\\ub4dc \\uac1c\\ubc1c(\\uae00\\ub85c\\ubc8c\\ucf54\\uc2a4\\uba54\\ud2f1\\uacfc\\uc81c/\\ubcf4\\uac74\\ubcf5\\uc9c0\\ubd80)\\n-\\ucf69\\ubc1c\\uc544\\ubc30\\uc544 \\ucd94\\ucd9c\\ubb3c\\uc744 \\ud3ec\\ud568\\ud558\\ub294 \\uac31\\ub144\\uae30 \\uac1c\\uc120 \\uac74\\uac15\\uae30\\ub2a5\\uc2dd\\ud488\\uac1c\\ubc1c(\\ub18d\\uc5c5\\uae30\\uc220\\uc2e4\\uc6a9\\ud654\\uc7ac\\ub2e8/\\uc5f0\\uad6c\\uac1c\\ubc1c\\uc131\\uacfc\\uc0ac\\uc5c5\\ud654\\uc9c0\\uc6d0\\uc0ac\\uc5c5)\\n-\\uacfc\\uccb4\\uc911 \\ud639\\uc740 \\ube44\\ub9cc\\uc778\\uc5d0\\uc11c \\uccb4\\uc911 \\ubc0f \\uccb4\\uc9c0\\ubc29 \\uac10\\uc18c\\uc5d0 \\ubbf8\\uce58\\ub294 \\ubc1c\\ud6a8\\uc728\\ud53c\\ucd94\\ucd9c\\ubd84\\ub9d0(FCCE)\\uc758 \\uc720\\ud6a8\\uc131 \\ubc0f \\uc548\\uc815\\uc131\\uc744 \\ud3c9\\uac00\\ud558\\uae30 \\uc704\\ud55c 12\\uc8fc, \\ubb34\\uc791\\uc704\\ubc30\\uc815, \\uc774\\uc911\\ub208\\uac00\\ub9bc, \\uc704\\uc57d\\ub300\\uc870 \\uc778\\uccb4\\uc801\\uc6a9\\uc2dc\\ud5d8(\\uc2dd\\ud488\\uae30\\ub2a5\\uc131\\ud3c9\\uac00\\uc9c0\\uc6d0\\uc0ac\\uc5c5/\\ud55c\\uad6d\\uc2dd\\ud488\\uc5f0\\uad6c\\uc6d0)\\n-\\uc12c\\uc465\\ubd80\\uc7c1\\uc774\\ub97c \\uc774\\uc6a9\\ud55c \\ud608\\uc911 \\uc694\\uc0b0\\uc758 \\uac10\\uc18c\\uc5d0 \\ub3c4\\uc6c0\\uc744 \\uc8fc\\ub294 \\uac74\\uac15\\uae30\\ub2a5\\uc2dd\\ud488\\uac1c\\ubc1c(\\uace0\\ubd80\\uac00\\uac00\\uce58\\uc2dd\\ud488\\uae30\\uc220\\uac1c\\ubc1c\\uc0b0\\uc5c5/\\ub18d\\ub9bc\\ucd95\\uc0b0\\uc2dd\\ud488\\ubd80)\\n-\\uc190\\ubc14\\ub2e5\\uc120\\uc778\\uc7a5\\uc744 \\uc774\\uc6a9\\ud55c \\uc778\\uc9c0\\uac1c\\uc120\\ub2a5\\ub825 \\uac74\\uac15\\uae30\\ub2a5\\uc2dd\\ud488\\uac1c\\ubc1c(\\uc11c\\uc6b8\\uc2dc/\\uae30\\uc5c5\\uc131\\uc7a5\\uc9c0\\uc6d0\\uc0b0\\uc5c5)\\n-\\ubc1c\\ud6a8\\uae30\\uc220\\uc811\\ubaa9 \\uad6d\\ub0b4\\ub18d\\uc0b0\\ubb3c\\uc744 \\uc774\\uc6a9\\ud55c \\uad00\\uc808\\uac74\\uac15 \\uac74\\uac15\\uae30\\ub2a5\\uc2dd\\ud488\\uac1c\\ubc1c(\\uace0\\ubd80\\uac00\\uac00\\uce58\\uc2dd\\ud488\\uae30\\uc220\\uac1c\\ubc1c\\uacfc\\uc81c/\\ub18d\\ub9bc\\uc218\\uc0b0\\uc2dd\\ud488\\uae30\\ud68d\\uae30\\uc220\\ud3c9\\uac00\\uc6d0)\\n-\\uc720\\uc804\\uccb4 \\uc815\\ubcf4 \\uae30\\ubc18 \\ubc14\\uc774\\uc624\\uc140\\ub8f0\\ub85c\\uc624\\uc988 \\uc0dd\\uc0b0 \\uade0\\uc8fc \\uc5c5\\uadf8\\ub808\\uc774\\ub4dc\\n-\\uc12c\\uc465\\ubd80\\uc7c1\\uc774\\ub97c \\uc774\\uc6a9\\ud55c \\uc778\\uc9c0\\uac1c\\uc120\\ub2a5\\ub825 \\uac74\\uac15\\uae30\\ub2a5\\uc2dd\\ud488\\uac1c\\ubc1c(\\uace0\\ubd80\\uac00\\uac00\\uce58\\uc2dd\\ud488\\uae30\\uc220\\uac1c\\ubc1c\\uacfc\\uc81c/\\ub18d\\ub9bc\\uc218\\uc0b0\\uc2dd\\ud488\\uae30\\ud68d\\uae30\\uc220\\ud3c9\\uac00\\uc6d0)\\n\\uc5f0\\uad6c\\uae30\\uad00\\n-\\uc5d0\\uc2a4\\ucf00\\uc774\\ubc14\\uc774\\uc624\\ub79c\\ub4dc/\\uacbd\\ud76c\\ub300/\\uad6d\\ubbfc\\ub300\\ud559\\uad50\\n-\\ub18d\\uc9c4\\uccad/\\uac00\\ucc9c\\ub300\\ud559\\uad50\\n-\\uace0\\ub824\\uc740\\ub2e8/KIST/\\uace0\\ub824\\ub300\\ud559\\uad50\\n-\\uc5d0\\uc2a4\\ucf00\\uc774\\ubc14\\uc774\\uc624\\ub79c\\ub4dc/\\uacf5\\uc8fc\\ub300\\ud559\\uad50\\n-\\uc5d0\\uc2a4\\ucf00\\uc774\\ubc14\\uc774\\uc624\\ub79c\\ub4dc/\\ucda9\\ubd81\\ub300\\ud559\\uad50\\n-\\uc5d0\\uc2a4\\ucf00\\uc774\\ubc14\\uc774\\uc624\\ub79c\\ub4dc/\\uc774\\ud654\\uc5ec\\uc790\\ub300\\ud559\\uad50\\n-\\uc5d0\\uc2a4\\ucf00\\uc774\\ubc14\\uc774\\uc624\\ub79c\\ub4dc/\\uc11c\\uc6b8\\ub300\\ud559\\uad50\\n-\\uc5d0\\uc2a4\\ucf00\\uc774\\ubc14\\uc774\\uc624\\ub79c\\ub4dc\\n-\\uc5d0\\uc2a4\\ucf00\\uc774\\ubc14\\uc774\\uc624\\ub79c\\ub4dc/\\ub124\\uc624\\ub274\\ud2b8\\ub77c\\n-\\uace0\\ub824\\uc740\\ub2e8/KIST/\\uace0\\ub824\\ub300\\ud559\\uad50\\n-\\ub18d\\uc9c4\\uccad/\\uac00\\ucc9c\\ub300\\ud559\\uad50\\n-\\uc5d0\\uc2a4\\ucf00\\uc774\\ubc14\\uc774\\uc624\\ub79c\\ub4dc/\\uacbd\\ud76c\\ub300/\\uad6d\\ubbfc\\ub300\\ud559\\uad50\\n-\\uc5d0\\uc2a4\\ucf00\\uc774\\ubc14\\uc774\\uc624\\ub79c\\ub4dc/\\uc911\\uc559\\ub300\\ud559\\uad50\\n-\\uc5d0\\uc2a4\\ucf00\\uc774\\ubc14\\uc774\\uc624\\ub79c\\ub4dc\\n-\\uc5d0\\uc2a4\\ucf00\\uc774\\ubc14\\uc774\\uc624\\ub79c\\ub4dc/\\ucda9\\ubd81\\ub300\\ud559\\uad50\\n-\\uc5d0\\uc2a4\\ucf00\\uc774\\ubc14\\uc774\\uc624\\ub79c\\ub4dc/\\ud55c\\uc591\\ub300\\ud559\\uad50\\n-\\uc5d0\\uc2a4\\ucf00\\uc774\\ubc14\\uc774\\uc624\\ub79c\\ub4dc/\\uc11c\\uc6b8\\ub300\\ud559\\uad50\\n-\\uc5d0\\uc2a4\\ucf00\\uc774\\ubc14\\uc774\\uc624\\ub79c\\ub4dc\\n-\\uc5d0\\uc2a4\\ucf00\\uc774\\ubc14\\uc774\\uc624\\ub79c\\ub4dc/\\ub124\\uc624\\ub274\\ud2b8\\ub77c\\n-\\uace0\\ub824\\uc740\\ub2e8/KIST/\\uace0\\ub824\\ub300\\ud559\\uad50\\n-\\uace0\\ub824\\uc740\\ub2e8/KIST/\\uacbd\\ud76c\\ub300\\ud559\\uad50\\n-\\uc5d0\\uc2a4\\ucf00\\uc774\\ubc14\\uc774\\uc624\\ub79c\\ub4dc/\\uacbd\\ud76c\\ub300/\\uad6d\\ubbfc\\ub300\\n-\\uc5d0\\uc2a4\\ucf00\\uc774\\ubc14\\uc774\\uc624\\ub79c\\ub4dc/\\uc911\\uc559\\ub300\\n-\\uc5d0\\uc2a4\\ucf00\\uc774\\ubc14\\uc774\\uc624\\ub79c\\ub4dc/\\uace0\\ub824\\uc740\\ub2e8/\\uacbd\\ud76c\\ub300\\n\\uc5f0\\uad6c\\uacb0\\uacfc \\ubc0f\\n\\uae30\\ub300\\ud6a8\\uacfc\\n-\\ubc1c\\ud6a8\\uc6b0\\uc2ac\\uc744 \\uc8fc\\uc6d0\\ub8cc\\ub85c \\ud558\\ub294 \\uad00\\uc808\\uac74\\uac15 \\uac1c\\uc120 \\uac74\\uac15\\uae30\\ub2a5\\uc2dd\\ud488 \\uc6d0\\ub8cc \\uac1c\\ubc1c\\n-\\ud64d\\ub3c4\\ub77c\\uc9c0\\ub97c \\uc774\\uc6a9\\ud55c \\uba74\\uc5f0\\ub825 \\uac1c\\uc120 \\uae30\\ub2a5\\uc131 \\uac74\\uac15\\uae30\\ub2a5\\uc2dd\\ud488 \\uc6d0\\ub8cc \\uac1c\\ubc1c\\n-\\uc12c\\uc465\\ubd80\\uc7c1\\uc774\\ub97c \\uc774\\uc6a9\\ud55c \\ud608\\uc911\\uc694\\uc0b0 \\uac10\\uc18c \\uac74\\uac15\\uae30\\ub2a5\\uc2dd\\ud488 \\uc6d0\\ub8cc \\uac1c\\ubc1c\\n-\\ubbf8\\uc0dd\\ubb3c \\ud65c\\uc6a9 \\uc2e0\\uaddc\\uc18c\\uc7ac \\uac1c\\ubc1c\\n-\\uba78\\uc885 \\uc704\\uae30\\uc885 \\ubcf5\\uc6d0\\uc744 \\ud654\\uc7a5\\ud488 \\uc18c\\uc7ac \\ud655\\ubcf4\\n-\\uc2e0\\uaddc\\ud654\\uc7a5\\ud488 \\uc18c\\uc7ac \\uac1c\\ubc1c\\n-\\uc2e0\\uaddc\\ud654\\uc7a5\\ud488 \\uc18c\\uc7ac \\uac1c\\ubc1c\\n-\\ucf69\\ubc1c\\uc544\\ubc30\\uc544 \\ucd94\\ucd9c\\ubb3c\\uc744 \\uc774\\uc6a9\\ud55c \\uac31\\ub144\\uae30 \\uc5ec\\uc131 \\uac74\\uac15\\uae30\\ub2a5\\uc2dd\\ud488 \\uc6d0\\ub8cc \\uac1c\\ubc1c\\n-\\ubc1c\\ud6a8\\uc728\\ud53c\\ucd94\\ucd9c\\ubd84\\ub9d0\\uc744 \\uc774\\uc6a9\\ud55c \\uccb4\\uc9c0\\ubc29 \\uac10\\uc18c \\uac74\\uac15\\uae30\\ub2a5\\uc2dd\\ud488 \\uc6d0\\ub8cc \\uac1c\\ubc1c\\n-\\uc12c\\uc465\\ubd80\\uc7c1\\uc774\\ub97c \\uc774\\uc6a9\\ud55c \\ud608\\uc911\\uc694\\uc0b0 \\uac10\\uc18c \\uac74\\uac15\\uae30\\ub2a5\\uc2dd\\ud488 \\uc6d0\\ub8cc \\uac1c\\ubc1c\\n-\\ud64d\\ub3c4\\ub77c\\uc9c0\\ub97c \\uc774\\uc6a9\\ud55c \\uba74\\uc5f0\\ub825 \\uac1c\\uc120 \\uae30\\ub2a5\\uc131 \\uac74\\uac15\\uae30\\ub2a5\\uc2dd\\ud488 \\uc6d0\\ub8cc \\uac1c\\ubc1c\\n-\\ubc1c\\ud6a8\\uc6b0\\uc2ac\\uc744 \\uc8fc\\uc6d0\\ub8cc\\ub85c \\ud558\\ub294 \\uad00\\uc808\\uac74\\uac15 \\uac1c\\uc120 \\uac74\\uac15\\uae30\\ub2a5\\uc2dd\\ud488 \\uc6d0\\ub8cc \\uac1c\\ubc1c\\n-\\uc720\\uc804\\uccb4 \\uac1c\\ub7c9\\uc744 \\ud1b5\\ud55c \\ubc14\\uc774\\uc624\\uc140\\ub8f0\\ub85c\\uc624\\uc988 \\uc0dd\\uc0b0 \\uade0\\uc8fc \\uc0dd\\uc0b0\\uc131 \\ud5a5\\uc0c1\\n-BL153 \\uce58\\ub9e4\\uce58\\ub8cc\\uc81c 2a\\uc0c1 \\uc784\\uc0c1\\uc2dc\\ud5d8 \\uc644\\ub8cc\\n-\\uba78\\uc885 \\uc704\\uae30\\uc885 \\ubcf5\\uc6d0\\uc744 \\ud654\\uc7a5\\ud488 \\uc18c\\uc7ac \\ud655\\ubcf4\\n-\\uc2e0\\uaddc\\ud654\\uc7a5\\ud488 \\uc18c\\uc7ac \\uac1c\\ubc1c\\n-\\uc2e0\\uaddc\\ud654\\uc7a5\\ud488 \\uc18c\\uc7ac \\uac1c\\ubc1c\\n-\\ucf69\\ubc1c\\uc544\\ubc30\\uc544 \\ucd94\\ucd9c\\ubb3c \\uc778\\uccb4\\uc801\\uc6a9\\uc2dc\\ud5d8 \\uc9c4\\ud589\\n-\\ubc1c\\ud6a8\\uc728\\ud53c\\ucd94\\ucd9c\\ubd84\\ub9d0 \\uc778\\uccb4\\uc801\\uc6a9\\uc2dc\\ud5d8 \\uc9c4\\ud589\\n-\\uc12c\\uc465\\ubd80\\uc7c1\\uc774\\uc758 \\ud45c\\uc900\\ud654/\\uae30\\uc900 \\ubc0f \\uaddc\\uaca9\\ud655\\ub9bd\\n-\\uc190\\ubc14\\ub2e5\\uc120\\uc778\\uc7a5\\uc904\\uae30 \\ud45c\\uc900\\ud654/\\uae30\\uc900 \\ubc0f \\uaddc\\uaca9\\ud655\\ub9bd\\n-\\ubc1c\\ud6a8\\uc6b0\\uc2ac\\uc758 \\ud45c\\uc900\\ud654/in vitro, in vivo \\uc5f0\\uad6c\\n-\\ubc14\\uc774\\uc624\\uc140\\ub960\\ub85c\\uc624\\uc988 \\uc0dd\\uc0b0 \\uade0\\uc8fc \\uc720\\uc804\\uccb4 \\ubd84\\uc11d/ \\uc7ac\\uc870\\ud569 \\uade0\\uc8fc \\uac1c\\ubc1c\\n-\\uc12c\\uc465\\ubd80\\uc7c1\\uc774\\uc758 \\ud45c\\uc900\\ud654/\\ub3d9\\ubb3c\\ub3c5\\uc131\\uc2dc\\ud5d8 \\uc9c4\\ud589\\n\\uc0c1\\ud488\\ud654\\ub41c\\n\\uacbd\\uc6b0\\ub0b4\\uc6a9\\n-\\ubc1c\\ud6a8\\uc6b0\\uc2ac\\ucd94\\ucd9c\\ubcf5\\ud569\\ubb3c(\\uc77c\\ubc18\\uc2dd\\ud488)\\n-\\ubc24\\ub0b4\\ud53c\\ud6a8\\ubaa8\\ubc1c\\ud6a8\\ucd94\\ucd9c\\ubb3c(\\uc77c\\ubc18\\uc2dd\\ud488)\\n-\\ubc1c\\ud6a8\\uc6b0\\uc2ac\\ucd94\\ucd9c\\ubcf5\\ud569\\ubb3c(\\uc77c\\ubc18\\uc2dd\\ud488)\\n-\\ubc1c\\ud6a8\\uc728\\ud53c-\\uc77c\\ubc18\\uc2dd\\ud488\\ud488\\ubaa9\\uc81c\\uc870\\ubcf4\\uace0&\\ud310\\ub9e4\\n13. \\ud658\\uacbd \\uad00\\ub828 \\uaddc\\uc81c\\uc0ac\\ud56d\\n\\ub2f9\\uc0ac\\ub294 \\ubc95\\ub960\\uc5d0\\uc11c \\uc815\\ud558\\uace0 \\uc788\\ub294 \\uac01\\uc885 \\uc81c\\ud488\\ud658\\uacbd \\uaddc\\uc81c\\uc640 \\uc0ac\\uc5c5\\uc7a5\\uad00\\ub9ac \\ud658\\uacbd\\uaddc\\uc81c\\ub97c\\n\\ucca0\\uc800\\ud558\\uac8c \\uc900\\uc218\\ud558\\uace0 \\uc788\\uc2b5\\ub2c8\\ub2e4.\\n- \\ub300\\uae30 \\uc218\\uc9c8\\n\\uacf5\\uc815 \\uac1c\\uc120, \\ub300\\uccb4\\uc6d0\\ub8cc \\uc801\\uc6a9 \\ub4f1\\uc744 \\ud1b5\\ud558\\uc5ec \\uc624\\uc5fc\\ubb3c\\uc9c8 \\ubc1c\\uc0dd\\uc744 \\ucd5c\\uc18c\\ud654\\ud558\\uace0 \\uc788\\uc73c\\uba70, \\ubc1c\\uc0dd\\ub41c \\uc624\\uc5fc\\ubb3c\\uc9c8\\uc740 \\ubc29\\uc9c0\\uc2dc\\uc124\\uc744 \\ud1b5\\ud558\\uc5ec \\ucc98\\ub9ac\\ud558\\uace0 \\uc788\\uc2b5\\ub2c8\\ub2e4. \\ubc29\\uc9c0\\uc2dc\\uc124\\uc740 \\uc0ac\\uc5c5\\uc7a5 \\uad00\\ub9ac \\uaddc\\uc815, \\uc808\\ucc28\\uc5d0 \\ub530\\ub77c \\uc8fc\\uae30\\uc801\\uc73c\\ub85c \\uc810\\uac80\\ud558\\uace0 \\uc788\\uc73c\\uba70, \\ub178\\ud6c4\\ub41c \\uc124\\ube44\\ub294 \\ub9e4\\ub144 \\ub2e8\\uacc4\\uc801\\uc73c\\ub85c \\ud22c\\uc790 \\uc608\\uc0b0\\uc744 \\ud655\\ubcf4\\ud558\\uc5ec \\uace0\\ud6a8\\uc728, \\ucd5c\\uc2e0 \\uc124\\ube44\\ub85c \\uad50\\uccb4, \\uac1c\\uc120\\ud558\\uace0 \\uc788\\uc2b5\\ub2c8\\ub2e4.\\n- \\ud1a0\\uc591\\n\\uc6d0\\ub8cc, \\uc81c\\ud488\\uc758 \\uc785,\\ucd9c\\ud558 \\uc2dc \\ud1a0\\uc591\\uc624\\uc5fc\\uc758 \\ubc29\\uc9c0\\ub97c \\uc704\\ud558\\uc5ec \\ub300\\uc0c1\\uc9c0\\uc5ed\\uc5d0 \\ubc29\\uc9c0\\uc2dc\\uc124\\uc744\\n\\uc124\\uce58\\ud558\\uace0 \\uc8fc\\uae30\\uc801\\uc73c\\ub85c \\uc810\\uac80\\ud558\\uace0 \\uc788\\uc2b5\\ub2c8\\ub2e4. \\uc791\\uc5c5 \\uc911 \\ub204\\ucd9c\\uc744 \\uc608\\ubc29\\ud558\\uae30 \\uc704\\ud558\\uc5ec\\n\\uc791\\uc5c5\\ud45c\\uc900\\uc744 \\uc9c0\\uc18d\\uc801\\uc73c\\ub85c \\uc81c,\\uac1c\\uc815\\ud558\\uace0 \\uc791\\uc5c5\\uc790 \\uad50\\uc721\\uc744 \\uc9c4\\ud589\\ud558\\uace0 \\uc788\\uc2b5\\ub2c8\\ub2e4.\\n- \\uc720\\ud574\\ud654\\ud559\\ubb3c\\uc9c8\\n\\ucde8\\uae09\\ud558\\ub294 \\ubaa8\\ub4e0 \\ud654\\ud559\\ubb3c\\uc9c8 \\ub3c4\\uc785 \\uc2dc SkyCHEMS(\\ud654\\ud559\\ubb3c\\uc9c8 \\uad00\\ub9ac \\uc2dc\\uc2a4\\ud15c) \\ub4f1\\uc744 \\ud1b5\\ud558\\uc5ec\\n\\uac80\\ud1a0, \\uad00\\ub9ac \\uc911\\uc785\\ub2c8\\ub2e4. \\uc0ac\\uc6a9 \\ubc0f \\uc800\\uc7a5 \\uc2dc\\uc124\\uc5d0\\ub294 \\uac10\\uc9c0\\uae30, \\ucc28\\ub2e8\\uc7a5\\uce58 \\ub4f1\\uc744 \\uc6b4\\uc601 \\uc911\\uc774\\uba70,\\n\\ube44\\uc0c1 \\ubcf4\\ud638\\uad6c \\ub4f1\\uc744 \\ubc30\\uce58\\ud558\\uace0 \\uc0c1\\uc2dc \\uc810\\uac80\\ud558\\uace0 \\uc788\\uc2b5\\ub2c8\\ub2e4. \\ub610\\ud55c, \\uc8fc\\uae30\\uc801\\uc73c\\ub85c \\uc720\\ucd9c\\ub300\\ube44\\n\\ud6c8\\ub828\\uc744 \\uc2e4\\uc2dc\\ud558\\uc5ec \\ube44\\uc0c1 \\uc0c1\\ud669\\uc5d0 \\ub300\\ube44\\ud558\\uace0 \\uc788\\uc2b5\\ub2c8\\ub2e4..\\n- \\uaddc\\uc81c \\ub300\\uc751\\n\\ucd5c\\uc2e0 \\ubc95\\uaddc \\ubc0f \\uad6d\\uc81c\\ud611\\uc57d\\uc758 \\uc694\\uad6c\\uc0ac\\ud56d\\uc744 \\ud30c\\uc545\\ud558\\uace0 \\uc81c\\ud488 \\ub0b4 \\uaddc\\uc81c\\ubb3c\\uc9c8\\uc774 \\ud3ec\\ud568\\ub418\\uc9c0\\n\\uc54a\\ub3c4\\ub85d \\ud56d\\uc2dc \\ubaa8\\ub2c8\\ud130\\ub9c1 \\uc911\\uc774\\uba70, SHE \\ubc29\\uce68 \\ubc0f \\uacbd\\uc601\\uc2dc\\uc2a4\\ud15c\\uc5d0 \\ub530\\ub77c \\uc0ac\\uc5c5\\uc7a5\\ubcc4\\n\\ud658\\uacbd\\uaddc\\uc81c \\uc900\\uc218 \\uc5ec\\ubd80\\ub97c \\uc810\\uac80\\ud558\\uace0 \\uc788\\uc2b5\\ub2c8\\ub2e4.\\n- \\uc628\\uc2e4\\uac00\\uc2a4 \\ubc30\\ucd9c\\ub7c9 \\ubc0f \\uc5d0\\ub108\\uc9c0 \\uc0ac\\uc6a9\\ub7c9 \\uad00\\ub9ac\\n\\uc628\\uc2e4\\uac00\\uc2a4 \\ubc30\\ucd9c\\uad8c \\uac70\\ub798\\uc81c \\ub300\\uc0c1 \\uc5c5\\uccb4\\ub85c \\uc120\\uc815\\ub418\\uc5b4 \\ubc30\\ucd9c\\uad8c \\uac70\\ub798\\uc81c \\uc758\\ubb34\\ub97c \\uc131\\uc2e4\\ud788\\n\\uc218\\ud589\\ud558\\uace0 \\uc788\\uc73c\\uba70, \\uc0ac\\uc5c5\\uc7a5 \\ubc30\\ucd9c\\ub7c9 \\ubc0f \\uc5d0\\ub108\\uc9c0 \\uc808\\uac10 \\ud65c\\ub3d9\\uc744 \\uc801\\uadf9\\uc801\\uc73c\\ub85c \\uc218\\ud589\\ud558\\uace0\\n\\uc788\\uc2b5\\ub2c8\\ub2e4. \\uc0dd\\uc0b0\\uc815\\ubcf4\\uc2dc\\uc2a4\\ud15c \\ub4f1\\uc744 \\ud1b5\\ud558\\uc5ec \\uc77c\\ub2e8\\uc704\\ub85c \\uc5d0\\ub108\\uc9c0 \\uc0ac\\uc6a9\\ub7c9\\uacfc \\uc628\\uc2e4\\uac00\\uc2a4\\ubc30\\ucd9c\\ub7c9\\uc744 \\uad00\\ub9ac\\ud558\\uace0 \\uc788\\uc73c\\uba70, \\uc774\\ub97c \\ud1b5\\ud558\\uc5ec \\uc5f0\\uac04 \\uac10\\ucd95\\ubaa9\\ud45c \\ub2ec\\uc131 \\uc5ec\\ubd80\\ub97c \\uc810\\uac80\\ud558\\uace0 \\uc788\\uc2b5\\ub2c8\\ub2e4.\",\n          \"II. \\uc0ac\\uc5c5\\uc758 \\ub0b4\\uc6a9\\n1. \\uc0ac\\uc5c5\\uc758 \\uc77c\\ubc18\\n<\\uc9c0\\ubc30\\ud68c\\uc0ac>\\n\\u25cb \\uc81c\\uac15/\\uc555\\uc5f0 \\ubd80\\ubb38\\n\\uc9c0\\ubc30\\ud68c\\uc0ac(\\ub300\\ud55c\\uc81c\\uac15(\\uc8fc))\\ub294 \\ucca0\\uc2a4\\ud06c\\ub7a9\\uc744 \\uc6d0\\uc7ac\\ub8cc\\ub85c \\ud558\\uc5ec \\ube4c\\ub9bf\\uc744 \\uc0dd\\uc0b0\\ud558\\ub294 \\uc81c\\uac15\\uc0ac\\uc5c5\\uacfc \\ubc18\\uc81c\\ud488\\uc778 \\ube4c\\ub9bf\\uc744 \\uc6d0\\uc7ac\\ub8cc\\ub85c \\ud558\\uc5ec \\ucca0\\uadfc\\uc744 \\uc0dd\\uc0b0\\ud558\\ub294 \\uc555\\uc5f0\\uc0ac\\uc5c5\\uc744 \\uc601\\uc704\\ud558\\uace0 \\uc788\\uc2b5\\ub2c8\\ub2e4. \\uadf8\\ub7ec\\ub098 \\uc81c\\uac15\\uc0ac\\uc5c5\\uacfc \\uc555\\uc5f0\\uc0ac\\uc5c5\\uc740 \\uc0c1\\ud558\\uacf5\\uc815\\uc73c\\ub85c \\uc5f0\\uacb0\\ub41c \\uc0ac\\uc5c5\\ubd80\\ubb38\\uc785\\ub2c8\\ub2e4. \\ub530\\ub77c\\uc11c \\ub2f9\\uc0ac\\ub294 \\uacf5\\uc2dc\\ub300\\uc0c1 \\uc0ac\\uc5c5\\ubd80\\ubb38\\uc744 \\uc81c\\uac15/\\uc555\\uc5f0\\uc73c\\ub85c \\ub2e8\\uc77c\\ud654\\ud558\\uc5ec \\ud45c\\uc2dc\\ud558\\uace0 \\uc788\\uc2b5\\ub2c8\\ub2e4.\\n(1) \\uc0b0\\uc5c5\\uc758 \\ud2b9\\uc131\\n\\ucca0\\uac15\\uc0b0\\uc5c5\\uc740 \\uc790\\ub3d9\\ucc28, \\uc870\\uc120, \\uae30\\uacc4, \\uac74\\uc124\\uc744 \\ube44\\ub86f\\ud55c \\uc804\\uccb4 \\uc0b0\\uc5c5\\uc5d0 \\uae30\\ucd08\\uc18c\\uc7ac\\ub97c \\uacf5\\uae09\\ud558\\ub294 \\uc0b0\\uc5c5\\uc73c\\ub85c\\uc11c \\ucca0\\uad11\\uc11d, \\ucca0\\uc2a4\\ud06c\\ub7a9 \\ub4f1\\uc744 \\uc6a9\\ud574\\ud558\\uc5ec \\uc5f4\\uc5f0, \\ub0c9\\uc5f0, \\uac15\\uad00, \\ucca0\\uadfc, \\ubd09\\ud615\\uac15 \\ub4f1\\uc758 \\uc81c\\ud488\\uc744 \\ub9cc\\ub4e4\\uc5b4\\ub0b4\\ub294 \\uc0b0\\uc5c5\\uc785\\ub2c8\\ub2e4. \\ub610\\ud55c \\uad6d\\uac00\\uae30\\uac04\\uc0b0\\uc5c5\\uc73c\\ub85c \\uc804\\u318d\\ud6c4\\ubc29 \\uc5f0\\uad00\\ud6a8\\uacfc\\uac00 \\ud06c\\uba70 \\uae30\\ubcf8\\uc801\\uc73c\\ub85c \\ub9c9\\ub300\\ud55c \\uc124\\ube44\\ud22c\\uc790\\uac00 \\uc694\\uad6c\\ub418\\ub294 \\uc77c\\uc885\\uc758 \\uc7a5\\uce58\\uc0b0\\uc5c5\\uc785\\ub2c8\\ub2e4.\\n(2) \\uc0b0\\uc5c5\\uc758 \\uc131\\uc7a5\\uc131\\n\\ucca0\\uac15\\uc0b0\\uc5c5\\uc740 \\uac74\\uc124, \\uc870\\uc120, \\uc790\\ub3d9\\ucc28, \\uac00\\uc804, \\ubc29\\uc704\\uc0b0\\uc5c5 \\ub4f1\\uacfc \\ubc00\\uc811\\ud55c \\uad00\\uacc4\\ub97c \\ub9fa\\uace0 \\uc788\\uc73c\\uba70, \\uc720\\ub7fd \\uacbd\\uc81c\\uc704\\uae30, \\uc911\\uad6d\\ubc1c \\uacf5\\uae09\\uacfc\\uc789, \\uc870\\uc120\\uacbd\\uae30 \\ud558\\ub77d \\ub4f1 \\uc138\\uacc4 \\uacbd\\uc81c\\uc5d0 \\ub300\\ud55c \\ubd88\\ud655\\uc2e4\\uc131 \\uc18d\\uc5d0\\uc11c\\ub3c4 \\uc138\\uacc4 \\uc870\\uac15 \\uc0dd\\uc0b0\\ub7c9\\uc740 \\uafb8\\uc900\\ud55c \\uc99d\\uac00\\uc138\\ub97c \\ubcf4\\uc774\\uace0 \\uc788\\uc2b5\\ub2c8\\ub2e4. \\uc6b0\\ub9ac\\ub098\\ub77c\\uc758 \\uc870\\uac15 \\uc0dd\\uc0b0\\ub3c4 \\uc9c0\\uc18d\\uc801\\uc778 \\ucca0\\uac15\\uc124\\ube44 \\ud655\\ucda9\\uacfc \\uac74\\uc124, \\uc870\\uc120, \\uc790\\ub3d9\\ucc28, \\uac00\\uc804 \\ub4f1 \\uc218\\uc694 \\ud655\\ub300\\ub85c \\uc99d\\uac00\\ud558\\uc600\\uc2b5\\ub2c8\\ub2e4.\\ucca0\\uac15\\uc5c5\\uacc4\\ub294 \\uad6d\\ub0b4 \\ucca0\\uac15 \\uc124\\ube44 \\ud22c\\uc790\\ub97c \\ud655\\ub300\\ud558\\uc5ec \\uad6d\\ub0b4 \\uc790\\uae09\\ub960\\uc744 \\ud5a5\\uc0c1\\uc2dc\\ud0a4\\uace0, \\uc218\\ucd9c \\ud655\\ub300\\ub97c\\ud1b5\\ud574 \\ubb34\\uc5ed\\uc218\\uc9c0\\ub97c \\uac1c\\uc120\\ud558\\uace0 \\uc788\\uc73c\\uba70, \\uace0\\uc6a9\\ucc3d\\ucd9c\\uc5d0\\ub3c4 \\uae30\\uc5ec\\ud558\\uace0 \\uc788\\uc2b5\\ub2c8\\ub2e4.\\n\\ub610\\ud55c, \\ucd5c\\uadfc \\uae00\\ub85c\\ubc8c \\uacbd\\uae30\\uce68\\uccb4\\ub85c \\uc778\\ud55c \\uc218\\uc694 \\uac10\\uc18c\\uc5d0\\ub3c4 \\ubd88\\uad6c\\ud558\\uace0 \\uc7a5\\uae30\\uc801\\uc73c\\ub85c\\ub294 \\uad6d\\ub0b4 \\uc0b0\\uc5c5\\uc758 \\uc131\\uc7a5\\uc138\\ub97c \\uae30\\ubc18\\uc73c\\ub85c \\ucca0\\uac15\\uc218\\uc694\\ub294 \\ud5a5\\ud6c4 \\uafb8\\uc900\\ud788 \\ud655\\ub300\\ub420 \\uac83\\uc73c\\ub85c \\uae30\\ub300\\ub429\\ub2c8\\ub2e4.\\n(3) \\uacbd\\uae30\\ubcc0\\ub3d9\\uc758 \\ud2b9\\uc131\\n\\ucca0\\uac15\\uc0b0\\uc5c5 \\uc911\\uc5d0\\uc11c \\ub2f9\\uc0ac\\uc640 \\uac19\\uc774 \\uac74\\uc124\\uc6a9 \\uc790\\uc7ac\\ub97c \\uc8fc\\ub85c \\uc0dd\\uc0b0\\ud558\\ub294 \\uc804\\uae30\\ub85c \\uc81c\\uac15\\uc5c5\\uc740 \\uad6d\\ub0b4\\uc678 \\uac74\\uc124\\uacbd\\uae30\\uc640 \\ub192\\uc740 \\uc0c1\\uad00\\uad00\\uacc4\\uac00 \\uc788\\uc2b5\\ub2c8\\ub2e4. \\uacc4\\uc808\\uc801\\uc73c\\ub85c \\ucf58\\ud06c\\ub9ac\\ud2b8 \\ud0c0\\uc124\\uc774 \\uc6a9\\uc774\\ud55c \\ubd04\\ubd80\\ud130 \\ub2a6\\uac00\\uc744\\uae4c\\uc9c0\\ub294 \\uc8fc\\ub85c \\uc131\\uc218\\uae30\\uc5d0 \\ud574\\ub2f9\\ub418\\uba70, \\ucf58\\ud06c\\ub9ac\\ud2b8 \\ud0c0\\uc124\\uc774 \\uc5b4\\ub824\\uc6b4 \\uaca8\\uc6b8\\ucca0 \\ubc0f \\uc7a5\\ub9c8\\ucca0\\uc740 \\uc8fc\\ub85c \\ube44\\uc218\\uae30\\uc5d0 \\ud574\\ub2f9\\ub429\\ub2c8\\ub2e4. \\ub610\\ud55c \\ucca0\\uadfc\\uc0b0\\uc5c5\\uc740 \\uccb4\\uac10\\uacbd\\uae30\\ud68c\\ubcf5 \\uc774\\ud6c4\\uc5d0 \\uac74\\ucd95\\uacc4\\ud68d \\ubc0f \\ubd84\\uc591\\uc774 \\ud65c\\uc131\\ud654\\ub418\\ub294 \\uac74\\uc124\\uc5c5\\uc758 \\ud2b9\\uc131\\uc5d0 \\ub530\\ub77c \\uccb4\\uac10\\uacbd\\uae30\\uc5d0 \\uc57d 1\\ub144 \\uc815\\ub3c4 \\ud6c4\\ud589\\ud558\\ub294 \\ud2b9\\uc9d5\\uc744 \\uac00\\uc9c0\\uace0 \\uc788\\uc2b5\\ub2c8\\ub2e4. \\ucd5c\\uadfc\\uc5d0\\ub294 \\uac74\\uc124 \\uc2dc\\uacf5\\uae30\\uc220\\uc758 \\ubc1c\\uc804 \\ubc0f \\uc9c0\\uad6c\\uc628\\ub09c\\ud654 \\uc601\\ud5a5\\uc73c\\ub85c \\uacc4\\uc808\\uc801 \\uc601\\ud5a5\\uc774\\uc57d\\ud574\\uc9c0\\ub294 \\ubc18\\uba74, \\uac74\\uc124 \\ubc0f \\uacbd\\uc81c \\uad00\\ub828 \\uc815\\ubd80\\uc815\\ucc45, \\uad00\\ub828 \\ubc95\\uaddc, \\uc81c\\ub3c4\\uc758 \\ubcc0\\ud654\\uc5d0 \\uc758\\ud55c \\uc601\\ud5a5\\uc774 \\ud655\\ub300\\ub418\\ub294 \\ucd94\\uc138\\uc785\\ub2c8\\ub2e4.\\n(4) \\uacbd\\uc7c1 \\uc694\\uc18c\\n\\ucca0\\uadfc\\uc2dc\\uc7a5\\uc740 Product Life Cycle\\uc0c1 \\uac00\\uaca9\\uacbd\\uc7c1\\ub825 \\ud655\\ubcf4\\uac00 \\uc8fc\\uc694\\uacbd\\uc7c1 \\uc694\\uc18c\\ub85c \\uc791\\uc6a9\\ud558\\ub294 \\uc131\\uc219\\uae30 \\uc2dc\\uc7a5\\uc5d0 \\ud574\\ub2f9\\ub429\\ub2c8\\ub2e4. \\ub530\\ub77c\\uc11c \\ucca0\\uadfc\\uc0dd\\uc0b0\\uc5c5\\uccb4\\uc758 \\uacbd\\uc7c1\\ub825\\uc740 \\uc678\\ubd80\\uc801\\uc73c\\ub85c \\ucca0\\uc2a4\\ud06c\\ub7a9 \\ubc0f \\ube4c\\ub9bf(Billet)\\uc758 \\uad6d\\uc81c \\uac00\\uaca9 \\ub4f1\\ub77d\\uc5d0 \\ub530\\ub978 \\ub300\\uc751, \\ub0b4\\ubd80\\uc801\\uc73c\\ub85c \\uc124\\ube44\\uc758 \\uc790\\ub3d9\\ud654 \\ubc0f \\uacf5\\uc7a5\\uac04 \\uc0dd\\uc0b0 \\uc81c\\ud488\\uc758 \\ud2b9\\ud654 \\ub4f1\\uc744 \\ud1b5\\ud55c \\uc6d0\\uac00\\uc808\\uac10 \\ubc0f \\uc0dd\\uc0b0\\uc131 \\ud5a5\\uc0c1 \\uc5ec\\ubd80\\uc5d0 \\ud070 \\uc601\\ud5a5\\uc744 \\ubc1b\\uc2b5\\ub2c8\\ub2e4. \\ucd5c\\uadfc\\ucca0\\uadfc\\uc0dd\\uc0b0\\uc5c5\\uacc4\\ub294 \\uc0dd\\uc0b0\\uacf5\\uc815\\uac1c\\uc120, \\uc2e0\\uc81c\\ud488\\uac1c\\ubc1c, \\uc2e0\\uacf5\\ubc95\\ucc44\\ud0dd \\ub4f1\\uc744 \\ud1b5\\ud55c \\uacbd\\uc7c1\\uc6b0\\uc704 \\ud655\\ubcf4\\ub97c\\uc704\\ud558\\uc5ec \\ud798\\uc4f0\\uace0 \\uc788\\uc2b5\\ub2c8\\ub2e4.\\n(5) \\uc790\\uc6d0\\uc870\\ub2ec\\uc0c1\\uc758 \\ud2b9\\uc131\\n\\uc804\\uae30\\ub85c \\uc81c\\uac15\\uc0ac\\uc758 \\uacbd\\uc6b0 \\ucca0\\uadfc \\uc6d0\\uac00\\uc758 \\uc57d 70%\\ub97c \\uace0\\ucca0\\uc778 \\ucca0\\uc2a4\\ud06c\\ub7a9\\uc774 \\ucc28\\uc9c0\\ud558\\uace0 \\uc788\\uc2b5\\ub2c8\\ub2e4.\\uc6b0\\ub9ac\\ub098\\ub77c\\uc758 \\uacbd\\uc6b0 \\ucca0\\uc2a4\\ud06c\\ub7a9 \\ubd80\\uc871\\uad6d\\uac00\\ub85c \\uc218\\uc785 \\ucca0\\uc2a4\\ud06c\\ub7a9 \\uc0ac\\uc6a9\\uc774 \\ud544\\uc218\\uc801\\uc774\\uba70 \\uc138\\uacc4 \\ucca0\\uc2a4\\ud06c\\ub7a9 \\uc2dc\\uc7a5\\uc5d0 \\ud070 \\uc601\\ud5a5\\uc744 \\ubc1b\\uc2b5\\ub2c8\\ub2e4. \\ucd5c\\uadfc\\uacfc \\uac19\\uc774 \\uac00\\uaca9\\ubcc0\\ub3d9\\uc131\\uc774 \\ub192\\uc740 \\uc2dc\\uc7a5\\ud658\\uacbd\\uc5d0\\uc11c\\ub294 \\uac00\\uaca9\\uacbd\\uc7c1\\ub825\\uc774 \\uc788\\ub294 \\ucca0\\uc2a4\\ud06c\\ub7a9\\uc758 \\uc548\\uc815\\uc801 \\ud655\\ubcf4\\uac00 \\uc911\\uc694\\ud569\\ub2c8\\ub2e4.\\n(6) \\uad00\\ub828\\ubc95\\ub839 \\ub610\\ub294 \\uc815\\ubd80\\uc758 \\uaddc\\uc81c \\ub4f1\\n\\uc815\\ubd80\\uc758 \\ud658\\uacbd\\uaddc\\uc81c \\ubc0f \\uad50\\ud1a0\\uc758\\uc815\\uc11c\\uc640 \\uad00\\ub828\\ud55c \\uad6d\\uc81c \\ud658\\uacbd\\uaddc\\uc81c\\uac00 \\uc810\\ucc28 \\uac15\\ud654\\ub418\\ub294 \\ucd94\\uc138\\uc785\\ub2c8\\ub2e4. \\ub2f9\\uc0ac\\ub294 \\ubc30\\ucd9c\\uad8c \\uac70\\ub798\\uc81c\\ub3c4 \\ud560\\ub2f9 \\ub300\\uc0c1 \\uc5c5\\uccb4\\ub85c \\uc628\\uc2e4\\uac00\\uc2a4 \\uac10\\ucd95\\uc744 \\uc704\\ud574 \\ub178\\ub825\\ud558\\uace0 \\uc788\\uc73c\\uba70 \\uad74\\ub69d\\uc5d0\\uc11c \\ubc30\\ucd9c\\ub418\\ub294 \\uc624\\uc5fc\\ubb3c\\uc9c8\\uc744 \\uc9d1\\uc9c4\\uc124\\ube44\\uc5d0 TMS(Tele Monitoring System : \\uad74\\ub69d\\uc790\\ub3d9\\uce21\\uc815\\uc2dc\\uc2a4\\ud15c)\\ub97c \\uc124\\uce58\\ud558\\uc5ec \\uc2e4\\uc2dc\\uac04 \\ubaa8\\ub2c8\\ud130\\ub9c1\\ud558\\uba70 \\uc790\\uccb4 \\ubc30\\ucd9c \\ud5c8\\uc6a9\\uae30\\uc900\\uc744 \\ud1b5\\ud558\\uc5ec \\uc5c4\\uaca9\\ud558\\uac8c \\uad00\\ub9ac\\ud558\\uace0 \\uc788\\uc2b5\\ub2c8\\ub2e4. \\ub610\\ud55c \\uad74\\ub69d \\uc678 \\ubc30\\ucd9c\\ub418\\ub294 \\ube44\\uc0b0\\ubc30\\ucd9c \\uc2dc\\uc124 \\uad00\\ub9ac\\uae30\\uc900\\uc744 \\uc900\\uc218\\ud558\\uace0 \\uc788\\uc2b5\\ub2c8\\ub2e4. \\uc0ac\\uc5c5\\uc7a5 \\ub0b4\\uc5d0\\uc11c \\ubc1c\\uc0dd\\ud558\\ub294 \\ubaa8\\ub4e0 \\ud3d0\\uae30\\ubb3c\\uc744 \\ucd5c\\uc801\\uc758 \\ucc98\\ub9ac\\uc2dc\\uc2a4\\ud15c\\uc744 \\ud1b5\\ud574 \\ucc98\\ub9ac\\ud558\\uace0 \\uc788\\uc73c\\uba70, \\uc0dd\\uc0b0\\uacf5\\uc815\\uc0c1 \\ubc1c\\uc0dd\\ud560\\uc218 \\uc788\\ub294 \\ud3d0\\uae30\\ubb3c\\uc758 \\uac10\\ub7c9\\uc744 \\uc704\\ud574 \\ub178\\ub825\\ud558\\uace0 \\uc788\\uc2b5\\ub2c8\\ub2e4\\n(7) \\uc601\\uc5c5\\uac1c\\ud669\\n\\ub2f9\\uc0ac\\ub294 \\ub2e4\\ub978 \\uc804\\uae30\\ub85c \\uc81c\\uac15\\uc0ac\\ub4e4\\uacfc \\ucc28\\ubcc4\\ud654\\ub41c \\ud310\\ub9e4\\uc804\\ub7b5\\uc744 \\ud1b5\\ud558\\uc5ec \\uc601\\uc5c5\\ub825\\uc744 \\uac15\\ud654\\ud558\\uace0 \\uc788\\uc2b5\\ub2c8\\ub2e4. \\uc6b0\\uc120, \\uc720\\ud1b5\\uc5c5\\uccb4\\ub4e4\\uc744 \\uc8fc\\uc694\\ud55c \\uace0\\uac1d\\uc73c\\ub85c \\uac70\\ub798\\ud558\\ub294 \\ub2e4\\ub978 \\uc804\\uae30\\ub85c \\uc81c\\uac15\\uc0ac\\uc640 \\ub2ec\\ub9ac \\ub2f9\\uc0ac\\ub294 \\ucca0\\uadfc\\uc744 \\uc9c1\\uc811 \\uc0ac\\uc6a9\\ud558\\ub294 \\uc2e4\\uc218\\uc694\\uc790\\uc778 \\uac74\\uc124\\uc5c5\\uccb4\\ub97c \\ub300\\uc0c1\\uc73c\\ub85c \\uc81c\\ud488\\uc744 \\ud310\\ub9e4\\ud558\\uace0, \\ub354\\ubd88\\uc5b4 \\uc7ac\\ubb34\\uad6c\\uc870\\uac00 \\uc6b0\\ub7c9\\ud55c \\ub300\\ud615\\uc720\\ud1b5\\uc0c1 \\uc704\\uc8fc\\uc758 \\ud310\\ub9e4\\uc804\\ub7b5\\uc744 \\ucd94\\uad6c\\ud558\\uace0 \\uc788\\uc2b5\\ub2c8\\ub2e4. \\uc774\\ub294 \\ub2f9\\uc0ac\\uc758 \\uc81c\\ud488\\ud488\\uc9c8\\uc5d0 \\ub300\\ud55c \\uc790\\uc2e0\\uac10\\uacfc \\uc2e4\\uc218\\uc694\\uc790\\uc758 \\uc138\\ubd84\\ud654\\ub41c \\uc218\\uc694\\ucda9\\uc871\\uc744 \\ud1b5\\ud558\\uc5ec \\uc81c\\uc870\\uc0ac\\uc640 \\uace0\\uac1d\\uc774 \\uac00\\uc9c8 \\uc218 \\uc788\\ub294 \\uac00\\uce58\\ub97c \\uadf9\\ub300\\ud654\\ud558\\ub294 \\ud55c\\ud3b8, \\uc218\\uc775\\uc131 \\ubc0f \\uc548\\uc804\\uc131 \\uc81c\\uace0\\ub97c \\ucd94\\uad6c\\ud560 \\uc218 \\uc788\\ub294 'Win-Win' \\uc804\\ub7b5\\uc5d0\\uc11c \\ube44\\ub86f\\ub41c \\uac83\\uc785\\ub2c8\\ub2e4.\\n\\ub610\\ud55c, \\ub2f9\\uc0ac\\ub294 \\uace0\\uac1d\\uad00\\ub9ac \\uae30\\uc900\\uc744 \\uc5c5\\uccb4\\uac00 \\uc544\\ub2cc \\ucca0\\uadfc\\uc774 \\uc0ac\\uc6a9\\ub418\\ub294 \\ud604\\uc7a5\\uc744 \\uae30\\uc900\\uc73c\\ub85c \\ub9c8\\ucf00\\ud305\\ubc0f \\uc601\\uc5c5\\uc815\\ucc45\\uc744 \\uc218\\ud589\\ud558\\uace0 \\uc788\\uc2b5\\ub2c8\\ub2e4. \\uc774\\ub807\\ub4ef \\ud604\\uc7a5\\uc704\\uc8fc\\uc758 \\ucc28\\ubcc4\\ud654\\ub41c \\uc601\\uc5c5\\uc815\\ucc45\\uc744 \\uc804\\uac1c\\ud558\\ub294 \\uc774\\uc720\\ub294 \\uc81c\\ud488\\uc744 \\uc9c1\\uc811 \\uc0ac\\uc6a9\\ud558\\ub294 \\uac74\\uc124\\ud604\\uc7a5\\uc5d0\\uc11c\\uc758 \\uc218\\uc694\\uc790 \\ubc18\\uc751\\uc744 \\ud30c\\uc545\\ud558\\uc5ec \\uc9c4\\uc815\\ud55c \\uace0\\uac1d\\ub9cc\\uc871 \\ud65c\\ub3d9\\uc744 \\uc218\\ud589\\ud558\\uae30 \\uc704\\ud568\\uc785\\ub2c8\\ub2e4.\\n(8) \\uc2dc\\uc7a5\\uc758 \\ud2b9\\uc131\\n\\u2460 \\uac74\\uc124\\uacbd\\uae30 \\uc5f0\\ub3d9\\n\\ucca0\\uadfc\\uc758 \\uc8fc\\uc694 \\uc218\\uc694\\uc0b0\\uc5c5\\uc740 \\uac74\\uc124\\uc0b0\\uc5c5\\uc73c\\ub85c \\ucca0\\uadfc \\uc218\\uc694\\ub294 \\uac74\\uc124\\uacbd\\uae30\\uc5d0 \\uc5f0\\ub3d9\\ub418\\ub294 \\ud2b9\\uc131\\uc774 \\uc788\\uc2b5\\ub2c8\\ub2e4.\\n\\u2461 \\uc790\\ubcf8\\uc9d1\\uc57d\\uc801 \\uc7a5\\uce58\\uc0b0\\uc5c5\\n\\uc790\\ubcf8\\uc9d1\\uc57d\\uc801 \\uc7a5\\uce58\\uc0b0\\uc5c5\\uc73c\\ub85c \\ub300\\uaddc\\ubaa8 \\uc790\\ubcf8\\ud22c\\uc790\\ub294 \\uc2e0\\uaddc\\uc5c5\\uccb4\\uc758 \\uc2dc\\uc7a5\\uc9c4\\uc785\\uc5d0 \\ub300\\ud55c \\uc9c4\\uc785\\uc7a5\\ubcbd \\uc694\\uc778\\uc73c\\ub85c \\uc791\\uc6a9\\ud569\\ub2c8\\ub2e4.\\n\\u2462 \\uc131\\uc219\\uae30\\uc758 \\uc81c\\ud488 Life Cycle\\n\\ucca0\\uadfc\\uc740 \\uac00\\uaca9, \\ud488\\uc9c8\\uc0c1 \\ucc28\\ubcc4\\ud654\\uac00 \\uc5c6\\ub294 \\ubc14, \\uae30\\ud0c0 \\uc11c\\ube44\\uc2a4 \\uc81c\\uacf5\\ub2a5\\ub825\\uc0c1\\uc758 \\ucc28\\ubcc4\\ud654\\ub97c \\ud1b5\\ud55c \\uace0\\uac1d\\ub9cc\\uc871\\ub3c4 \\uc81c\\uace0\\uac00 \\uacbd\\uc7c1\\ub825 \\uc694\\uc18c\\uc785\\ub2c8\\ub2e4.\\n(9) \\uc2e0\\uaddc\\uc0ac\\uc5c5 \\ub4f1\\uc758 \\ub0b4\\uc6a9 \\ubc0f \\uc804\\ub9dd\\n\\ud574\\ub2f9\\uc0ac\\ud56d \\uc5c6\\uc74c.\\n(10) \\uc870\\uc9c1\\ub3c4\\n\\ub300\\ud55c\\uc81c\\uac15 \\uc870\\uc9c1\\ub3c4_hr\\n<\\uc5f0\\uacb0\\ub300\\uc0c1 \\uc885\\uc18d\\ud68c\\uc0ac>\\n\\u25cb \\ubb3c\\ub958/\\uac00\\uacf5/IT Biz\\n\\ub300\\ud55c\\ub124\\ud2b8\\uc6cd\\uc2a4(\\uc8fc)\\ub294 \\ub300\\ud55c\\uc81c\\uac15(\\uc8fc)\\uc758 \\ubb3c\\ub958, \\ucca0\\uadfc\\uac00\\uacf5, IT Biz \\ub2f4\\ub2f9 \\ubc95\\uc778\\uc73c\\ub85c\\uc11c \\uad00\\ub828 \\uc5c5\\ubb34\\ub97c \\ud1b5\\ud55c Synergy \\ubc0f Value\\ub97c\\ucc3d\\ucd9c\\ud558\\uace0 \\uc774\\ub97c \\uae30\\ubc18\\uc73c\\ub85c \\ucd5c\\uc0c1\\uc758\\uc11c\\ube44\\uc2a4\\ub97c \\uace0\\uac1d\\uc5d0\\uac8c \\uc81c\\uacf5\\ud569\\ub2c8\\ub2e4.\\n\\uac00. \\ubb3c\\ub958\\uc0ac\\uc5c5\\n(1)\\u00a0 \\uc0b0\\uc5c5\\uc758 \\ud2b9\\uc131\\n\\ubb3c\\ub958\\uc0b0\\uc5c5\\uc740 \\uacbd\\uc81c\\uc131\\uc7a5\\ub960, \\uc218\\ucd9c\\uc785\\ubb3c\\ub3d9\\ub7c9, \\ub0b4\\uc218\\uc2dc\\uc7a5 \\ub4f1\\uc5d0 \\uc601\\ud5a5\\uc744\\ubc1b\\uc73c\\uba70, \\ud2b9\\ud788 \\uc8fc\\uc694 \\uc218\\uc694\\uc0b0\\uc5c5\\uc778 \\ucca0\\uac15\\uc0b0\\uc5c5, \\uc870\\uc120\\uc0b0\\uc5c5, \\uc720\\ud1b5\\uc0b0\\uc5c5\\uc758 \\uc5c5\\ud669\\uc5d0 \\ub9ce\\uc740 \\uc601\\ud5a5\\uc744 \\ubc1b\\ub294 \\ud2b9\\uc9d5\\uc744 \\uac00\\uc9c0\\uace0 \\uc788\\uc2b5\\ub2c8\\ub2e4. \\ub610\\ud55c \\uc138\\uacc4 \\uad50\\uc5ed\\ub7c9\\uc774 \\uac08\\uc218\\ub85d \\uc99d\\uac00\\ud568\\uc5d0 \\ub530\\ub77c \\ubbf8\\uad6d, \\uc720\\ub835, \\uc911\\uad6d, \\uc77c\\ubcf8 \\ub4f1 \\uc8fc\\uc694\\uad6d\\ub4e4\\uc758 \\uacbd\\uc81c\\uc131\\uc7a5\\uc774 \\uad6d\\ub0b4 \\ubb3c\\ub958\\uc0b0\\uc5c5\\uc5d0 \\ubbf8\\uce58\\ub294 \\ud30c\\uae09\\ud6a8\\uacfc\\uac00 \\uc99d\\uac00\\ud558\\uace0 \\uc788\\ub294 \\ucd94\\uc138\\uc785\\ub2c8\\ub2e4. \\ub610\\ud55c, \\ucd5c\\uadfc \\uc138\\uacc4\\uc801\\uc73c\\ub85c \\ubb3c\\ub958\\uac00 \\uacbd\\uc7c1\\ub825 \\uac15\\ud654\\uc758 \\uc8fc\\uc694 \\uac1c\\uc120\\ub300\\uc0c1\\uc73c\\ub85c \\ubd80\\uac01\\ub418\\uba74\\uc11c \\ubb3c\\ub958 \\ud6a8\\uc728\\ud654\\ub97c \\uc704\\ud55c \\uc815\\ubd80\\uc640 \\uae30\\uc5c5\\uccb4\\ub4e4\\uc758 \\ud22c\\uc790\\uc640 \\ub178\\ub825\\ud655\\ub300\\uac00 \\uc138\\uacc4\\uc801\\uc778 \\uc870\\ub958\\ub97c \\ud615\\uc131\\ud558\\uba70 \\uc9c0\\uc18d\\uc801\\uc73c\\ub85c \\uc9c4\\ud589\\ub418\\uace0 \\uc788\\uc2b5\\ub2c8\\ub2e4.\\ub610\\ud55c \\ud574\\uc6b4\\uc5c5\\uc740 \\uc2dd\\ub7c9, \\uc5d0\\ub108\\uc9c0, \\uc6d0\\uc790\\uc7ac, \\uc0dd\\ud544\\ud488 \\ub4f1\\uc744 \\uc218\\uc694\\uc640 \\uacf5\\uae09\\uc758 \\uc6d0\\uce59\\uc5d0 \\ub530\\ub77c \\uc6d0\\ud558\\ub294 \\uc2dc\\uae30\\uc5d0 \\ud544\\uc694\\ud55c \\uc7a5\\uc18c\\ub85c \\uc218\\uc1a1\\ud558\\ub294 \\uc11c\\ube44\\uc2a4 \\uc0b0\\uc5c5\\uc778 \\ub3d9\\uc2dc\\uc5d0 \\uc120\\ubc15\\uc744 \\ud655\\ubcf4\\ud558\\ub294\\ub370 \\ub300\\uaddc\\ubaa8\\uc758 \\uc790\\uae08\\uc774 \\ud22c\\ud558\\ub418\\ub294 \\ub300\\ud45c\\uc801\\uc778 \\uc790\\ubcf8\\uc9d1\\uc57d\\uc801 \\uc0b0\\uc5c5\\uc785\\ub2c8\\ub2e4. \\uad6d\\uac00\\uac04\\uc758 \\uc7a5\\ubcbd\\uc5d0 \\uad6c\\uc560\\ubc1b\\uc9c0 \\uc54a\\uace0 \\uc804\\uc138\\uacc4\\ub97c \\uc0c1\\ub300\\ub85c \\uc0b0\\uc5c5 \\ud65c\\ub3d9\\uc774 \\uc774\\ub8e8\\uc5b4\\uc9c0\\ub294 \\uc644\\uc804\\uacbd\\uc7c1 \\uc0b0\\uc5c5\\uc774\\uace0, \\ud2b9\\ud788 \\uc6b0\\ub9ac\\ub098\\ub77c\\uc758 \\uacbd\\uc6b0\\ub294 \\uad6d\\ubbfc\\uacbd\\uc81c\\uc758 \\uc131\\uc7a5\\uc5d0 \\ud544\\uc218\\uc801\\uc778 \\uc6d0\\uc790\\uc7ac \\ubc0f \\uc218\\ucd9c\\uc785 \\uc0c1\\ud488\\uc75890% \\uc774\\uc0c1\\uc744 \\uc6b4\\uc1a1\\ud558\\ub294 \\uad00\\uacc4\\ub85c \\uad6d\\uac00\\uc758 \\uae30\\uac04\\uc0ac\\uc5c5\\uc774\\ub77c\\uace0 \\ud560 \\uc218 \\uc788\\uc2b5\\ub2c8\\ub2e4.\\n(2) \\uc0b0\\uc5c5\\uc758 \\uc131\\uc7a5\\uc131\\n\\ubb3c\\ub958\\uc0b0\\uc5c5\\uc740 \\ubb3c\\ub958 \\uc218\\uc694\\uc758 \\ubcc0\\ud654\\uc640 \\uae30\\uc220 \\ud601\\uc2e0 \\ub4f1 \\uc694\\uc778\\uc73c\\ub85c \\uad6d\\ub0b4\\uc678 \\ubb3c\\ub958 \\ud658\\uacbd\\uc774 \\uae09\\ubcc0\\ud558\\uace0 \\uc788\\ub294 \\uc0c1\\ud669\\uc785\\ub2c8\\ub2e4. \\ub300\\ub7c9 \\uc218\\uc1a1\\uc5d0\\uc11c \\ub9de\\ucda4\\ud615 \\uc6b4\\uc1a1 \\uc11c\\ube44\\uc2a4 \\uc911\\uc2ec\\uc73c\\ub85c \\uc218\\uc694\\uac00 \\uc774\\ub3d9\\ud558\\uace0 \\uc788\\uc73c\\uba70, 4\\ucc28 \\uc0b0\\uc5c5\\ud601\\uba85\\uc774 \\ubcf8\\uaca9\\ud654 \\ub418\\uc5b4 IoT(\\uc0ac\\ubb3c\\uc778\\ud130\\ub137), \\ube45\\ub370\\uc774\\ud130,\\u00a0 \\ube14\\ub85d\\uccb4\\uc778 \\ub4f1 \\ub2e4\\uc591\\ud55c \\ucca8\\ub2e8\\uae30\\uc220\\uacfc \\ubb3c\\ub958\\uc0b0\\uc5c5\\uc774 \\uc735\\ud569 \\ub418\\uba74\\uc11c \\ub2e8\\uc21c \\ub178\\ub3d9\\uc9d1\\uc57d \\uc0b0\\uc5c5\\uc5d0\\uc11c \\uace0\\ubd80\\uac00\\uac00\\uce58\\ub97c \\ucc3d\\ucd9c\\ud558\\ub294 \\uc11c\\ube44\\uc2a4 \\uc0b0\\uc5c5\\uc73c\\ub85c \\uc9c4\\ud654\\ub418\\ub294 \\ubaa8\\uc2b5\\uc785\\ub2c8\\ub2e4.\\n\\uc774\\uc5d0 \\uc0ac\\ubb3c\\uc778\\ud130\\ub137\\uacfc \\ube45\\ub370\\uc774\\ud130 \\uae30\\uc220\\uc744 \\ud65c\\uc6a9\\ud55c \\ubb3c\\ub958 \\uc815\\ubcf4 \\uc81c\\uacf5, \\ubb3c\\ub958\\uc11c\\ube44\\uc2a4 \\ub4f1 \\uac1c\\ubc1c\\uc774 \\ud65c\\ubc1c\\ud558\\uba70, \\uc774\\ub7ec\\ud55c \\ubb3c\\ub958\\uc0b0\\uc5c5\\uc758 \\ud2b8\\ub80c\\ub4dc\\ub294\\u00a0 \\ubb3c\\ub958 \\uae30\\uc5c5\\uc758 \\ubb3c\\ub958\\ub124\\ud2b8\\uc6cc\\ud06c, \\ub178\\ub3d9, \\uc0c1\\ud488, \\uc11c\\ube44\\uc2a4 \\uce21\\uba74\\uc5d0\\uc11c \\ud575\\uc2ec\\uacbd\\uc7c1\\ub825 \\ubcc0\\ud654\\ub97c \\ucd08\\ub798\\ud558\\uace0 \\uc788\\uc2b5\\ub2c8\\ub2e4. \\uc774\\ub7ec\\ud55c \\ubcc0\\ud654\\ub294 \\ubb3c\\ub958 \\uc815\\ubcf4\\ub97c \\ud65c\\uc6a9\\ud55c \\uace0\\ubd80\\uac00\\uac00\\uce58 \\ubb3c\\ub958 \\uc11c\\ube44\\uc2a4\\ub97c \\uac1c\\ubc1c\\ud558\\ub294 \\uae30\\uc5c5\\uc5d0 \\uc0c8\\ub85c\\uc6b4 \\uc131\\uc7a5 \\uae30\\ud68c\\ub97c \\uc81c\\uacf5\\ud560 \\uac83\\uc73c\\ub85c \\uae30\\ub300\\ub429\\ub2c8\\ub2e4.\\n(3) \\uacbd\\uae30\\ubcc0\\ub3d9\\uc758 \\ud2b9\\uc131\\n\\ubb3c\\ub958\\uc0b0\\uc5c5\\uc740 \\uacbd\\uae30\\ubcc0\\ub3d9\\uc5d0 \\uc120\\ud589\\uc801\\uc73c\\ub85c \\ubc18\\uc751\\ud558\\uba70, \\ub300\\ub0b4\\uc678 \\uacbd\\uc601\\uc5ec\\uac74 \\ubcc0\\ud654\\uc5d0 \\ub530\\ub978 \\ud0c0 \\uc0b0\\uc5c5\\uc758 \\uc0dd\\uc0b0\\ub7c9 \\ubc0f \\uc138\\uacc4 \\uad50\\uc5ed\\ub7c9 \\ub4f1 \\uacbd\\uae30\\ubcc0\\ud654\\uc5d0 \\ubbfc\\uac10\\ud558\\uac8c \\ubc18\\uc751\\ud558\\ub294 \\ud2b9\\uc9d5\\uc774 \\uc788\\uc2b5\\ub2c8\\ub2e4. \\ub610\\ud55c, \\ud658\\uc728, \\ucee8\\ud14c\\uc774\\ub108\\uc6a9\\uc120\\uc9c0\\uc218\\ub098, \\uac74\\ud654\\ubb3c\\uc6b4\\uc784\\uc9c0\\uc218 \\ub4f1\\uc758 \\uc6b4\\uc784\\uc9c0\\uc218\\uc5d0 \\uc758\\ud558\\uc5ec \\uc218\\uc775\\uc131\\uc5d0 \\ud070 \\ubcc0\\ub3d9\\uc774 \\ubc1c\\uc0dd\\ud569\\ub2c8\\ub2e4. \\ube44\\uc6a9\\uce21\\uba74\\uc5d0\\uc11c \\uc120\\ubc15\\uc6d0\\uac00\\ub098 \\uc720\\uac00 \\ub4f1\\uc5d0 \\uc758\\ud574\\uc11c\\ub3c4 \\uc218\\uc775\\uc774 \\ud06c\\uac8c \\uc601\\ud5a5\\uc744 \\ubc1b\\uac8c \\ub429\\ub2c8\\ub2e4.\\n(4) \\uacbd\\uc7c1 \\uc694\\uc18c\\n\\ubbfc\\uac04\\ud22c\\uc790\\uac00 \\ud65c\\uc131\\ud654 \\ub418\\uba74\\uc11c \\ub300\\uae30\\uc5c5 \\ubc0f \\uc678\\uad6d\\uc790\\ubcf8\\uc774 \\uad6d\\ub0b4 \\ud56d\\ub9cc\\uc5c5\\uacc4\\uc5d0 \\uc9c4\\ucd9c\\ud568\\uc73c\\ub85c\\uc368 \\uad6d\\ub0b4\\uae30\\uc5c5\\uc740 \\uacbd\\uc7c1\\ub825 \\uc81c\\uace0\\ub97c \\uc704\\ud558\\uc5ec \\ub178\\ub825 \\ud558\\uace0 \\uc788\\uc73c\\uba70, \\uc8fc\\uc694 \\uacbd\\uc7c1 \\uc694\\uc18c\\ub294 \\uac00\\uaca9 \\ubc0f \\uace0\\uac1d\\uc11c\\ube44\\uc2a4 \\ub77c\\uace0 \\ud560 \\uc218 \\uc788\\uc2b5\\ub2c8\\ub2e4.\\u00a0 \\ub610\\ud55c \\ud574\\uc6b4\\uc5c5\\uc740 \\uc120\\ub300\\uc758 \\ub300\\ud615\\ud654\\uc640 \\ubd81\\ubbf8, \\uad6c\\uc8fc, \\ub3d9\\ub0a8\\uc544, \\uc77c\\ubcf8\\ub4f1 \\uc804\\ub7b5\\uc801\\uc778 \\uc81c\\ud734 \\ub4f1\\uc73c\\ub85c \\uc778\\ud55c \\uc120\\uc0ac\\ub4e4\\uc758 \\uacbd\\uc7c1\\uc774 \\uc2ec\\ud654\\ub418\\uace0 \\uc788\\ub294 \\ubc18\\uba74 \\uc790\\ubcf8\\uc9d1\\uc57d\\uc801 \\uc0b0\\uc5c5\\uc778 \\uad00\\uacc4\\ub85c \\uc9c4\\uc785\\uc7a5\\ubcbd\\uc774 \\ub192\\uc544 \\uacfc\\uc810\\uc2dc\\uc7a5\\uc774 \\ud615\\uc131\\ub418\\uace0 \\uc788\\uc2b5\\ub2c8\\ub2e4. \\uaddc\\ubaa8\\uc758 \\uacbd\\uc81c\\uac00 \\uc791\\uc6a9\\ud558\\uc5ec \\ub300\\ud615\\uc120\\uc0ac\\uac00 \\uc6d0\\uac00\\uce21\\uba74\\uc5d0\\uc11c \\uc6b0\\uc704\\ub97c \\ucc28\\uc9c0\\ud558\\uac8c \\ub429\\ub2c8\\ub2e4.\\n(5) \\uc601\\uc5c5\\uac1c\\ud669\\n\\uc218\\ucd9c\\uc785 \\ubc8c\\ud06c, \\ucee8\\ud14c\\uc774\\ub108 \\ub4f1\\uc5d0 \\ub300\\ud55c \\ucc28\\ubcc4\\ud654\\ub41c \\ubb3c\\ub958 \\uc11c\\ube44\\uc2a4\\ub97c \\uc81c\\uacf5\\ud568\\uc73c\\ub85c\\uc368 \\uace0\\uac1d \\ub9cc\\uc871\\uc744\\uadf9\\ub300\\ud654\\ud558\\uace0 \\uc788\\uc2b5\\ub2c8\\ub2e4. \\uc6d0\\uc7ac\\ub8cc, \\ubd80\\uc790\\uc7ac, \\uc124\\ube44 \\uae30\\uc790\\uc7ac \\ub4f1\\uc744 \\ud574\\uc678\\uc5d0\\uc11c \\uc218\\uc785\\ud558\\uace0 \\uc790\\uc7ac, \\uc644\\uc81c\\ud488 \\ub4f1 \\uc218\\ucd9c\\uc744 \\uc704\\ud55c \\uc218\\ucd9c\\uc785\\ud1b5\\uad00, \\ub0b4\\ub959 \\uc6b4\\uc1a1 \\ub4f1 \\uc804\\ubc18\\uc801 \\uc218\\ucd9c\\uc785 \\uc5c5\\ubb34 \\ub300\\ud589 \\ubc0f \\uad00\\ub828 \\ucee8\\uc124\\ud305 \\uc11c\\ube44\\uc2a4\\ub97c \\uc81c\\uacf5\\ud558\\uace0 \\uc788\\uc2b5\\ub2c8\\ub2e4. \\ub610\\ud55c \\ub300\\ud615 \\ucc28\\ub7c9 Capa. \\ubc0f \\ucc28\\ubcc4\\ud654\\ub41c \\uc6b4\\uc601, \\uad00\\ub9ac System\\uc744 \\ud1b5\\ud55c \\ucd5c\\uc0c1\\uc758 \\ub0b4\\ub959 \\uc6b4\\uc1a1 \\uc11c\\ube44\\uc2a4\\ub97c \\uc81c\\uacf5\\ud558\\uace0 \\uc788\\uc2b5\\ub2c8\\ub2e4.\\n(6) \\uc2dc\\uc7a5\\uc810\\uc720\\uc728\\n\\uc5f0\\uacb0\\ub300\\uc0c1\\uc885\\uc18d\\ud68c\\uc0ac\\uc778 \\ub300\\ud55c\\ub124\\ud2b8\\uc6cd\\uc2a4(\\uc8fc)\\ub294 \\uc9c0\\ubc30\\ud68c\\uc0ac\\uc778 \\ub300\\ud55c\\uc81c\\uac15(\\uc8fc)\\uc758 \\ubb3c\\ub958\\ubc95\\uc778\\uc73c\\ub85c \\ub300\\ud55c\\uc81c\\uac15(\\uc8fc)\\uc758 \\uad6d\\ub0b4\\uc678 \\ubb3c\\ub958\\ub97c \\ud1b5\\ud569 \\uad00\\ub9ac\\ud558\\uace0 \\uc788\\uc73c\\ub098, \\uc2dc\\uc7a5\\uc810\\uc720\\uc728\\uc740 \\ubbf8\\ubbf8\\ud558\\uc5ec \\uc791\\uc131\\uc744\\uc0dd\\ub7b5\\ud569\\ub2c8\\ub2e4.\\n\\ub098. \\ucca0\\uadfc\\uac00\\uacf5\\uc0ac\\uc5c5\\n(1) \\uc0b0\\uc5c5\\uc758 \\ud2b9\\uc131\\n\\ucca0\\uadfc\\uac00\\uacf5\\uc758 \\uae30\\ubc18\\uc774 \\ub418\\ub294 \\uac74\\uc124\\uc0b0\\uc5c5\\uc740 \\uc0ac\\ub78c\\uc758 \\uc77c\\uc0c1\\uc0dd\\ud65c \\ubc0f \\uacbd\\uc81c\\ud65c\\ub3d9\\uc744 \\uc704\\ud55c \\uacf5\\uac04\\uacfc, \\uad50\\ub958\\uc640 \\uc6b4\\uc1a1\\uc744 \\uc9c0\\uc6d0\\ud558\\uae30 \\uc704\\ud55c \\uc778\\ud504\\ub77c\\ub97c \\uad6c\\ucd95\\ud558\\ub294 \\uc0ac\\uc5c5\\uc73c\\ub85c\\n\\uc0ac\\uc5c5\\ubd84\\uc57c\\ub294 \\ud06c\\uac8c \\uc0c1\\uc5c5, \\uc5c5\\ubb34, \\uc8fc\\ud0dd, \\ubb38\\ud654 \\uc2dc\\uc124 \\ub4f1\\uc744 \\uac74\\uc124\\ud558\\ub294 \\uac74\\ucd95 \\uc0ac\\uc5c5, \\ub3c4\\ub85c, \\ucca0\\ub3c4, \\ud56d\\ub9cc \\ub4f1 \\uc0ac\\ud68c\\uac04\\uc811\\uc790\\ubcf8 \\uc2dc\\uc124\\uc744 \\uac74\\uc124\\ud558\\ub294 \\ud1a0\\ubaa9 \\uc0ac\\uc5c5, \\ubc1c\\uc804\\uc18c, \\uc5d0\\ub108\\uc9c0 \\uc800\\uc7a5\\uc2dc\\uc124, \\uc0b0\\uc5c5\\uc2dc\\uc124 \\ub4f1\\uc744 \\uac74\\uc124\\ud558\\ub294 \\ud50c\\ub79c\\ud2b8 \\uc0ac\\uc5c5\\uc73c\\ub85c \\uad6c\\ubd84\\ud560 \\uc218 \\uc788\\uc2b5\\ub2c8\\ub2e4.\\n\\ucca0\\uadfc\\uac00\\uacf5\\uc0b0\\uc5c5\\uc740 \\ub178\\ub3d9\\ub825\\uacfc \\uc790\\uae08, \\uae30\\uc220 \\ub4f1\\uc758 \\uc0dd\\uc0b0\\uc694\\uc18c\\ub97c \\ud65c\\uc6a9\\ud558\\uc5ec \\uac74\\uc124 \\uc2dc \\uace8\\uc870\\uacf5\\uc0ac\\uc5d0 \\uc0ac\\uc6a9 \\ub418\\ub294 \\ucca0\\uadfc\\uc758 \\uc808\\ub2e8 \\uc808\\uace1 \\ub4f1\\uc744 \\ud3ec\\ud568\\ud55c \\uac00\\uacf5\\uc11c\\ube44\\uc2a4\\ub97c \\uc81c\\uacf5\\ud569\\ub2c8\\ub2e4. \\ubc1c\\uc8fc \\uc8fc\\uccb4\\uc5d0 \\ub530\\ub77c \\ucca0\\uadfc \\uac00\\uacf5\\uc11c\\ube44\\uc2a4\\ub97c \\ube44\\ub86f\\ud55c \\ub3c4\\uba74\\uac80\\ud1a0, Shop, \\ucee4\\ud50c\\ub7ec, \\uc120\\uc870\\ub9bd \\ub4f1\\uc758\\n\\uc218\\uc9c1\\uacc4\\uc5f4 \\uad6c\\uc870\\uc758 \\uc11c\\ube44\\uc2a4\\ub97c \\ud568\\uaed8 \\uc81c\\uacf5\\ud569\\ub2c8\\ub2e4.\\n(2) \\uc0b0\\uc5c5\\uc758 \\uc131\\uc7a5\\uc131\\n\\ucca0\\uadfc\\uac00\\uacf5\\uc758 \\uae30\\ubc18\\uc774 \\ub418\\ub294 \\uac74\\uc124\\uc0b0\\uc5c5\\uc758 \\uc131\\uc7a5\\uc744 \\ubcf4\\uba74 2020\\ub144\\ub3c4 \\uac74\\uc124\\uacbd\\uae30 \\uc2dc\\uc7a5\\uc740 \\uac70\\uc2dc\\uc801\\uc73c\\ub85c \\uae00\\ub85c\\ubc8c \\ub3d9\\uc870\\ud654\\uc640 \\uac70\\uc2dc\\uacbd\\uc81c \\uc5b4\\ub824\\uc6c0 \\uac00\\uc911\\ub420 \\uac83\\uc73c\\ub85c \\ubcf4\\uc774\\uba70, \\uc804\\ubc18\\uc801\\uc778 \\uc218\\uc694\\uc704\\ucd95\\uacfc \\uc218\\uc694\\uc758 \\uaca9\\ucc28\\ud655\\ub300 \\ubc0f \\uc900\\uacf5 \\uac10\\uc18c\\uc5d0\\ub3c4 \\ubd88\\uad6c\\ud558\\uace0 \\ub204\\uc801 \\ubb3c\\ub7c9\\uc758 \\uc9c0\\uc18d\\uc73c\\ub85c \\uc778\\ud55c \\uac74\\uc124\\uacbd\\uae30\\uc758 \\uce68\\uccb4\\uac00 \\uc9c0\\uc18d \\ub420 \\uac83\\uc73c\\ub85c \\uc0ac\\ub8cc\\ub429\\ub2c8\\ub2e4.\\n(3) \\uacbd\\uae30\\ubcc0\\ub3d9\\uc758 \\ud2b9\\uc131\\n\\ucca0\\uadfc\\uac00\\uacf5\\uc740 \\uac74\\uc124\\uacbd\\uae30\\uc758 \\uc9c1\\uc811\\uc801\\uc778 \\uc601\\ud5a5\\uc744 \\ubc1b\\uace0 \\uc788\\uc73c\\uba70, \\uac74\\uc124\\uc0b0\\uc5c5 \\uacbd\\uae30 \\ubcc0\\ub3d9\\uc5d0 \\ub530\\ub978 \\ud22c\\uc790 \\ubc0f \\uc218\\uc694\\uc5d0 \\ud070 \\uc601\\ud5a5\\uc744 \\ubc1b\\uace0 \\uc788\\uc2b5\\ub2c8\\ub2e4. \\ub610\\ud55c, \\uac74\\uc124 \\uc0b0\\uc5c5\\uc758 \\ud2b9\\uc131 \\uc0c1 \\uc8fc\\ub85c \\uc625\\uc678\\uc5d0\\uc11c \\uc774\\ub8e8\\uc5b4\\uc9c0\\ubbc0\\ub85c \\ub3d9\\uc808\\uae30, \\uc6b0\\ucc9c \\ub4f1\\uc758 \\uc601\\ud5a5\\uc73c\\ub85c \\uc778\\ud574 \\uc2dc\\uacf5\\uc758 \\uc5b4\\ub824\\uc6c0\\uc744 \\uacaa\\ub294 \\uacc4\\uc808\\uc801 \\ud658\\uacbd\\uc801 \\uc694\\uc778\\uc774 \\uc788\\uc2b5\\ub2c8\\ub2e4.\\n(4) \\uacbd\\uc7c1 \\uc694\\uc18c\\n\\uac74\\uc124\\uacbd\\uae30\\uc758 \\ud558\\ub77d\\uc5d0 \\ub530\\ub978 \\ucca0\\uadfc\\uac00\\uacf5 \\uc218\\uc694 \\uac10\\uc18c \\uadf8\\ub9ac\\uace0 \\uc77c\\ubd80 \\ucd9c\\ud608 \\uacbd\\uc7c1\\uc5d0 \\ub530\\ub77c \\uc800\\uac00\\uc785\\ucc30\\uacfc \\uc800\\uac00\\uc218\\uc8fc\\uc758 \\ubc18\\ubcf5\\uc774 \\ubc1c\\uc0dd\\ub418\\uace0 \\uc788\\uc2b5\\ub2c8\\ub2e4. \\ub610\\ud55c \\uc778\\ub825 \\uc6b4\\uc601 \\uc704\\uc8fc\\uc758 \\uc0b0\\uc5c5\\uc774\\uae30\\uc5d0 \\ucd5c\\uc800\\uc784\\uae08 \\uc0c1\\uc2b9\\uc5d0 \\ub530\\ub978 \\uc190\\uc775\\uc758 \\uc545\\ud654\\ub3c4 \\ubc1c\\uc0dd\\ub418\\uace0 \\uc788\\uc2b5\\ub2c8\\ub2e4. \\uc774\\uc5d0 \\ucca0\\uadfc\\uac00\\uacf5\\uc5c5\\uacc4\\ub294 \\uc0dd\\uc0b0\\uc131 \\ud5a5\\uc0c1, \\uc790\\ub3d9\\ud654 \\uc124\\ube44 \\ub3c4\\uc785, \\uac00\\uaca9\\uacbd\\uc7c1\\ub825 \\uac15\\ud654 \\ub4f1\\uc758 \\ud65c\\ub3d9\\uc744 \\uc9c4\\ud589\\ud558\\uace0 \\uc788\\uc2b5\\ub2c8\\ub2e4.\\n(5) \\uc601\\uc5c5 \\uac1c\\ud669\\n\\ub2f9\\uc0ac\\ub294 \\uac74\\uc124\\uc2dc\\uc7a5\\uc5d0\\uc11c \\uc774\\ub8e8\\uc5b4\\uc9c0\\ub294 \\ud604\\uc7a5 \\ucca0\\uadfc\\uac00\\uacf5\\uc744 \\uacf5\\uc7a5 \\ucca0\\uadfc\\uac00\\uacf5\\uc73c\\ub85c \\uc804\\ud658\\uc2dc\\ud0b4\\uacfc \\ub3d9\\uc2dc\\uc5d0 \\uc804\\uc0b0\\uc2dc\\uc2a4\\ud15c \\ub3c4\\uc785 \\ubc0f \\uc790\\ub3d9\\ud654 \\uc124\\ube44 \\uc6b4\\uc601\\uc744 \\ud1b5\\ud574 \\uace0\\uac1d\\uc5d0\\uac8c \\ucd5c\\uc0c1\\uc758 \\uc11c\\ube44\\uc2a4\\ub97c \\uc81c\\uacf5\\ud558\\uace0 \\uc788\\uc2b5\\ub2c8\\ub2e4. \\uc774\\uc5d0 \\ub530\\ub77c \\uae30\\uc874 \\uace0\\uac1d\\uc0ac\\uc758 \\ubb3c\\ub7c9 \\ud655\\ub300\\ub97c \\ube44\\ub86f\\ud558\\uc5ec \\uc7ac\\ubb34\\uac74\\uc804\\uc131\\uc774 \\uc6b0\\uc218\\ud55c \\uc911\\uc18c\\ud615 \\uac74\\uc124\\uc0ac\\uc758 \\ud655\\ub300\\ub97c \\ud1b5\\ud574 \\uc601\\uc5c5\\uc601\\uc5ed\\uc744 \\ub113\\ud600\\uac00\\uace0 \\uc788\\uc2b5\\ub2c8\\ub2e4. \\ub2f9\\uc0ac\\ub294 \\ub300\\ud55c\\uc81c\\uac15\\uc758 \\uad00\\uacc4\\uc0ac\\ub85c\\uc11c \\ub300\\ud55c\\uc81c\\uac15 \\ubb3c\\ub7c9\\uc758 \\uacf5\\uae09\\uc744 \\ube44\\ub86f\\ud558\\uc5ec \\ub300\\ud55c\\uc81c\\uac15 \\uc678 \\uac74\\uc124\\uc0ac \\uc601\\uc5c5\\ud65c\\ub3d9\\uc744 \\ud1b5\\ud574 \\uc810\\uc720\\uc728\\uc744 \\ud655\\ub300\\uc2dc\\ud0a4\\uace0 \\uc788\\uc2b5\\ub2c8\\ub2e4.\\n(6) \\uc2e0\\uaddc\\uc0ac\\uc5c5 \\ub4f1\\uc758 \\ub0b4\\uc6a9 \\ubc0f \\uc804\\ub9dd\\n\\ucca0\\uadfc\\uc73c\\ub85c \\uc9c4\\ud589\\ub418\\ub294 \\uc5f0\\uacc4\\uc0ac\\uc5c5 \\uc911 \\ucca0\\uadfc\\uac00\\uacf5\\uc744 \\ube44\\ub86f\\ud558\\uc5ec \\ucee4\\ud50c\\ub7ec, \\uc120\\uc870\\ub9bd \\ub4f1\\uc758 \\uc218\\uc9c1\\uacc4\\uc5f4 \\ud655\\ub300\\ub97c \\ud1b5\\ud574 \\ub2f9\\uc0ac\\uc758 \\ub9e4\\ucd9c\\uc561 \\ubc0f \\uc601\\uc5c5\\uc774\\uc775\\uc744 \\ud655\\ub300\\ud574\\ub098\\uac08 \\uc804\\ub9dd\\uc785\\ub2c8\\ub2e4.\\n\\ub2e4. IT Biz\\n(1) \\uc0b0\\uc5c5\\uc758 \\ud2b9\\uc131\\nIT\\uc11c\\ube44\\uc2a4\\uc0b0\\uc5c5\\uc740 \\uacbd\\uc81c/\\uc0ac\\ud68c \\uc804\\ubc18\\uc758 \\uc0dd\\uc0b0\\uc131\\uacfc \\ud6a8\\uc728\\uc131\\uc744 \\uc81c\\uace0\\uc2dc\\ud0a4\\ub294 \\uc0b0\\uc5c5\\uc785\\ub2c8\\ub2e4. \\ud2b9\\ud788 \\uace0\\uae09\\uc778\\ub825 \\uc911\\uc2ec\\uc758 \\uc9c0\\uc2dd\\uae30\\ubc18\\uc0ac\\uc5c5\\uc73c\\ub85c\\uc11c \\uc81c\\uc870\\uc5c5, \\ud1b5\\uc2e0\\uc5c5 \\ub4f1 \\ud0c0 \\uc0b0\\uc5c5 \\ub300\\ube44 \\uc778\\ub825\\uc790\\uc0b0\\uc5d0 \\ub300\\ud55c \\uc758\\uc874\\ub3c4\\uac00 \\ub192\\uc544 \\uace0\\uc6a9 \\ucc3d\\ucd9c\\ud6a8\\uacfc\\uac00 \\ub9e4\\uc6b0 \\ub192\\uc740 \\uc0b0\\uc5c5\\uc785\\ub2c8\\ub2e4. \\ub610\\ud55c \\ud0c0 \\uc0b0\\uc5c5\\ubd80\\ubb38\\uc774 \\uc0c8\\ub85c\\uc6b4 \\ubd80\\uac00\\uac00\\uce58\\ub97c \\ucc3d\\ucd9c\\ud560 \\uc218 \\uc788\\ub3c4\\ub85d \\uc9c0\\uc6d0\\ud558\\uba70 \\uc774\\ub7ec\\ud55c \\uc0b0\\uc5c5\\uac04 \\uc735\\ud569\\uc744 \\ud1b5\\ud574 \\uade0\\ud615\\uc131\\uc7a5, \\uc0dd\\uc0b0\\uc131 \\ud5a5\\uc0c1, \\uc2e0\\uc81c\\ud488 \\uac1c\\ubc1c \\ubc0f \\uc0c8\\ub85c\\uc6b4 \\ube44\\uc988\\ub2c8\\uc2a4 \\ucc3d\\ucd9c\\uc5d0 \\uae30\\uc5ec\\ud558\\uace0 \\uc788\\uc2b5\\ub2c8\\ub2e4. \\uc774\\ub7ec\\ud55c \\ud6a8\\uacfc\\ub97c \\uac10\\uc548\\ud560 \\ub54c IT\\uc11c\\ube44\\uc2a4 \\uc0b0\\uc5c5\\uc740 \\ud0c0 \\uc0b0\\uc5c5 \\ub300\\ube44 \\ubd80\\uac00\\uac00\\uce58 \\uc720\\ubc1c\\uacc4\\uc218\\uac00 \\ub192\\uc544 \\uc804\\uccb4 \\uad6d\\uac00 \\uacbd\\uc81c\\uc5d0 \\ubbf8\\uce58\\ub294 \\uc601\\ud5a5\\uc774 \\ub9e4\\uc6b0 \\ub192\\uc740 \\uac83\\uc73c\\ub85c \\ud310\\ub2e8\\ub429\\ub2c8\\ub2e4\\nIT\\uc11c\\ube44\\uc2a4\\ub294 \\ucee8\\uc124\\ud305/SI(System Integration), IT \\uc544\\uc6c3\\uc18c\\uc2f1\\uc73c\\ub85c \\uad6c\\ubd84\\ub418\\uba70, \\uace0\\uac1d\\uc758 \\uc815\\ubcf4\\ud654 \\uacc4\\ud68d\\uc5d0\\uc11c\\ubd80\\ud130 \\uad6c\\ucd95 \\ubc0f \\uc704\\ud0c1 \\uc6b4\\uc601\\uae4c\\uc9c0 \\ud544\\uc694\\ud55c \\ubaa8\\ub4e0 \\uc81c\\ubc18 \\ud65c\\ub3d9\\uc744 IT \\uae30\\uc220\\uc744 \\ud65c\\uc6a9\\ud558\\uc5ec \\uc9c0\\uc6d0\\ud558\\ub294 \\ud589\\uc704\\ub97c \\ub9d0\\ud569\\ub2c8\\ub2e4. \\ucee8\\uc124\\ud305/SI\\ub294 \\uc0ac\\uc6a9\\uc790\\uc758 \\ud658\\uacbd\\uacfc \\uc694\\uad6c\\uc5d0 \\uac00\\uc7a5 \\uc801\\ud569\\ud55c \\uc815\\ubcf4 \\uc2dc\\uc2a4\\ud15c\\uc744 \\uad6c\\ucd95, \\uc6b4\\uc601\\ud558\\uae30 \\uc704\\ud574\\uc11c \\uacbd\\uc601 \\ucee8\\uc124\\ud305, \\uc815\\ubcf4\\uc2dc\\uc2a4\\ud15c \\ucee8\\uc124\\ud305\\uc5d0\\uc11c\\ubd80\\ud130 \\uc2dc\\uc2a4\\ud15c \\uc124\\uacc4, \\uacc4\\ubc1c, \\ud1b5\\ud569, \\uad6c\\ucd95, \\uad00\\ub9ac, \\uad50\\uc721, \\uc720\\uc9c0\\ubcf4\\uc218\\ub97c \\uc804\\ubc18\\uc801\\uc73c\\ub85c \\uc218\\ud589\\ud558\\ub294 \\uc11c\\ube44\\uc2a4\\uc785\\ub2c8\\ub2e4. IT \\uc544\\uc6c3\\uc18c\\uc2f1\\uc740 \\uace0\\uac1d\\uc758 \\uc5c5\\uc885\\uacfc \\uaddc\\ubaa8, \\uc0ac\\uc5c5 \\ubaa9\\ud45c, \\ube44\\uc988\\ub2c8\\uc2a4 \\ud658\\uacbd \\ubcc0\\ud654\\uc5d0 \\ucd5c\\uc801\\ud654\\ub41c \\uc815\\ubcf4\\uc804\\ub7b5 \\uc218\\ub9bd\\uc73c\\ub85c, \\uace0\\uac1d\\uc758 \\uac00\\uce58 \\ucc3d\\ucd9c\\uc744 \\uc704\\ud55c IT \\uce21\\uba74\\uc5d0\\uc11c\\uc758 \\ubaa8\\ub4e0 \\uc9c0\\uc6d0\\uc744 \\uc218\\ud589\\ud558\\ub294 \\uc11c\\ube44\\uc2a4 \\uc785\\ub2c8\\ub2e4.\\n(2) \\uc0b0\\uc5c5\\uc758 \\uc131\\uc7a5\\uc131\\nKRG\\uc5d0 \\ub530\\ub974\\uba74 2018\\ub144 \\uad6d\\ub0b4 \\uc81c\\uc870 IT\\uc2dc\\uc7a5\\uc740 \\uc804\\ub144\\ub300\\ube44 1.2% \\uc99d\\uac00\\ud55c 5\\uc870 1800\\uc5b5\\uc6d0\\uc73c\\ub85c \\uc608\\uc0c1\\ud558\\uc600\\uc73c\\ub098 \\ucd5c\\uadfc \\uba87 \\ub144\\uac04 \\uc81c\\uc870 IT\\uc2dc\\uc7a5\\uc740 \\uc2e4\\uc801 \\uc545\\ud654\\uc5d0 \\ub530\\ub978 \\ud22c\\uc790 \\uc800\\uc870\\ub85c \\ud558\\ub77d\\uc138\\ub97c \\uba74\\uce58 \\ubabb\\ud588\\uc9c0\\ub9cc 2019\\ub144\\ubd80\\ud130 \\uc2dc\\uc7a5\\uc774 \\ub2e4\\uc18c \\uc0c1\\uc2b9\\ud558\\uace0 \\uc788\\uc2b5\\ub2c8\\ub2e4.\\n\\ucd5c\\uadfc \\uc81c\\uc870\\uc5c5\\uc5d0 IT\\ub97c \\uacb0\\ud569\\ud55c \\uc0b0\\uc5c5 \\uc735\\ud569\\uc5d0 \\uad00\\uc2ec\\uc774 \\uace0\\uc870\\ub418\\uace0 \\uc788\\uc2b5\\ub2c8\\ub2e4. \\uad6d\\ub0b4 \\uae30\\uc5c5\\ub4e4\\ub3c4 \\uc790\\ub3d9\\ucc28\\uc640 IT, \\uc704\\uce58\\uc815\\ubcf4\\uc640 \\ubc18\\ub3c4\\uccb4, \\uc13c\\uc11c, \\uc81c\\uc5b4\\uae30\\uc220 \\ub4f1\\uc744 \\uc735\\ud569\\ud558\\uc5ec \\uc81c\\uc870\\uc5c5 \\ud601\\uc2e0\\uc5d0 \\uc801\\uadf9 \\ucd94\\uc9c4\\ud558\\uace0 \\uc788\\uc2b5\\ub2c8\\ub2e4. \\uc81c\\uc870 IT\\uc2dc\\uc7a5\\uc740 \\uc0dd\\uc0b0\\ud604\\uc7a5\\uc758 \\uc2a4\\ub9c8\\ud2b8\\ud654\\uac00 \\uac00\\uc7a5 \\ud070 \\uc774\\uc288\\ub85c \\ubd80\\uac01\\ub418\\uace0 \\uc788\\ub294 \\uac00\\uc6b4\\ub370 AI, VR, \\ub85c\\ubcf4\\ud2f1\\uc2a4 \\ub4f1 \\ubd80\\uac00\\uac00\\uce58 \\uc81c\\uace0\\ub97c \\uc704\\ud55c \\ucd5c\\uc2e0 \\uae30\\uc220\\uc774 \\uc811\\ubaa9\\ub418\\uace0 \\uc788\\uc2b5\\ub2c8\\ub2e4. \\uc815\\ubd80\\ub294 \\uc2a4\\ub9c8\\ud2b8\\uacf5\\uc7a5 \\uad6c\\ucd95 2025\\ub144\\uae4c\\uc9c0 \\uc2a4\\ub9c8\\ud2b8\\uacf5\\uc7a5 3\\ub9cc \\uac1c\\ub97c \\uad6c\\ucd95\\ud558\\uace0, \\uc774\\uc5d0 \\ud544\\uc694\\ud55c 4\\ub9cc\\uba85\\uc758 \\uc778\\uc7ac\\ub97c \\uc591\\uc131\\ud558\\uaca0\\ub2e4\\ub294 \\u2018\\uc2a4\\ub9c8\\ud2b8 \\uc81c\\uc870\\ud601\\uc2e0 \\ube44\\uc804 2025;\\ub97c \\ubc1c\\ud45c\\ud588\\uc2b5\\ub2c8\\ub2e4. \\ud5a5\\ud6c4 \\ucd5c\\uc2e0 IT\\uae30\\uc220\\uc774 \\uc811\\ubaa9\\ub41c \\uc2a4\\ub9c8\\ud2b8\\uacf5\\uc7a5\\uc5d0 \\ub300\\ud55c \\uc131\\uc7a5\\uc740 \\uc9c0\\uc18d\\ub420 \\uac83\\uc785\\ub2c8\\ub2e4.\\n\\ub610, \\uc8fc\\uc694 IT\\uc11c\\ube44\\uc2a4 \\uae30\\uc5c5\\ub4e4\\uc744 \\uc911\\uc2ec\\uc73c\\ub85c \\uc778\\uacf5\\uc9c0\\ub2a5, IoT, Big Data, Cloud \\ub4f1 \\uc0c8\\ub85c\\uc6b4 \\ube44\\uc988\\ub2c8\\uc2a4 \\ubaa8\\ub378\\uc758 \\uc804\\ub7b5 \\uc218\\ub9bd\\uacfc \\uc774\\ub97c \\uc9c0\\uc6d0\\ud558\\uae30 \\uc704\\ud55c \\uc778\\ub825 \\ubc0f \\uc870\\uc9c1 \\uc7ac\\uad6c\\uc131, \\uc0c8\\ub85c\\uc6b4 \\uc194\\ub8e8\\uc158 \\ubc0f \\uc11c\\ube44\\uc2a4\\uc758 \\uac1c\\ubc1c\\uc5d0 \\uc8fc\\ub825 \\ud560 \\uc804\\ub9dd\\uc785\\ub2c8\\ub2e4. \\ub610\\ud55c, \\uc778\\uacf5\\uc9c0\\ub2a5, IoT, Cloud, Big Data, \\ube14\\ub85d\\uccb4\\uc778 \\ub4f1\\uc758 \\uc2e0\\uae30\\uc220\\uc744 \\uace0\\uac1d \\ube44\\uc988\\ub2c8\\uc2a4\\uc640 \\uc5f0\\uacc4\\ud558\\uace0, \\uc774\\ub97c \\ud1b5\\ud574 \\uace0\\uac1d\\uc758 \\uc0c8\\ub85c\\uc6b4 \\ubd80\\uac00\\uac00\\uce58 \\ubc1c\\uacac\\uacfc \\ube44\\uc988\\ub2c8\\uc2a4 \\uacbd\\uc7c1\\ub825 \\uac15\\ud654\\ub97c \\uc9c0\\uc6d0\\ud558\\ub294\\ub370 \\uc8fc\\ub825\\ud569\\ub2c8\\ub2e4.\\n(3) \\uacbd\\uae30\\ubcc0\\ub3d9\\uc758 \\ud2b9\\uc131\\nIT \\ud22c\\uc790\\ub294 \\uacbd\\uae30 \\ubcc0\\ub3d9\\uacfc \\ub192\\uc740 \\uc0c1\\uad00\\uad00\\uacc4\\ub97c \\uc9c0\\ub2c8\\uace0 \\uc788\\uc2b5\\ub2c8\\ub2e4. \\uc774\\ub294 \\uc815\\ubcf4\\uc2dc\\uc2a4\\ud15c\\uc758 \\uc8fc \\uc218\\uc694\\uc790\\uc778 \\uae30\\uc5c5\\ub4e4\\uc774 \\uacbd\\uae30\\uac00 \\uc545\\ud654\\ub420 \\uacbd\\uc6b0 IT \\ubd80\\ubb38 \\ud22c\\uc790\\ub97c \\ubcf4\\ub958\\ud558\\ub294 \\uacbd\\ud5a5\\uc774 \\uc788\\uae30 \\ub54c\\ubb38\\uc785\\ub2c8\\ub2e4.\\n\\uc77c\\ubc18\\uc801\\uc73c\\ub85c \\uae30\\uc5c5\\uc758 IT\\ud22c\\uc790\\ub294 \\uc2dc\\uc2a4\\ud15c\\uc758 \\ub178\\ud6c4\\ud654\\uc5d0 \\ub530\\ub77c \\uc77c\\uc815\\ud55c \\uad50\\uccb4\\uc8fc\\uae30\\ub97c \\uac16\\ub294 \\ud55c\\ud3b8, \\uc124\\ube44 \\ud22c\\uc790 \\ud6c4 IT\\ud22c\\uc790\\uac00 \\uc9d1\\ud589\\ub418\\uae30 \\ub54c\\ubb38\\uc5d0 IT\\uc11c\\ube44\\uc2a4 \\uc0b0\\uc5c5\\uc740 \\uacbd\\uae30\\uc5d0 \\ud6c4\\ud589\\uc801\\uc778 \\uc131\\uaca9\\uc744 \\uac16\\uac8c \\ub429\\ub2c8\\ub2e4. \\ubc18\\uba74 IT\\uc11c\\ube44\\uc2a4 \\uc0b0\\uc5c5\\uc740 \\ud0c0 \\uc0b0\\uc5c5\\uc5d0 \\ube44\\ud574 \\uacc4\\uc808\\uc801 \\ubcc0\\ub3d9 \\uc694\\uc778\\uc5d0 \\ub530\\ub978 \\ubbfc\\uac10\\ub3c4\\uac00 \\ub0ae\\uc740 \\ud3b8\\uc785\\ub2c8\\ub2e4. \\uace0\\uac1d\\uc758 \\uc608\\uc0b0 \\uc9d1\\ud589 \\ubc0f \\ud22c\\uc790\\uac00 \\uc8fc\\ub85c \\ud558\\ubc18\\uae30\\uc5d0 \\ud3b8\\uc911\\ub418\\ub294 \\uacbd\\ud5a5\\uc774 \\uc788\\uc73c\\ub098 \\uc5c5\\uacc4\\uc5d0 \\ubbf8\\uce58\\ub294 \\uc601\\ud5a5\\uc740 \\ubbf8\\ubbf8\\ud569\\ub2c8\\ub2e4.\\n(4) \\uacbd\\uc7c1 \\uc694\\uc18c\\nIT\\uc11c\\ube44\\uc2a4 \\uc0b0\\uc5c5\\uc740 \\ucd08\\uae30\\uc5d0 \\uc0ac\\uc5c5\\uc120\\uc810\\uc774 \\uc911\\uc694\\ud558\\uc9c0\\ub9cc, \\uc9c4\\uc785\\uc7a5\\ubcbd\\uc774 \\ub192\\uc9c0 \\uc54a\\uace0, \\uace0\\uac1d\\ub4e4\\uc774 \\uccb4\\uac10\\ud558\\ub294 \\uc11c\\ube44\\uc2a4\\uc5d0 \\ub300\\ud55c \\ucc28\\ubcc4\\ud654 \\uc815\\ub3c4\\uac00 \\ud0c0 \\uc0b0\\uc5c5\\uc5d0 \\ube44\\ud574 \\uc0c1\\ub300\\uc801\\uc73c\\ub85c \\ud06c\\uc9c0 \\uc54a\\uc544 \\uc0b0\\uc5c5 \\uc790\\uccb4\\uc758 \\uacbd\\uc7c1\\uac15\\ub3c4\\uac00 \\ube44\\uad50\\uc801 \\ub192\\uc740 \\ud3b8\\uc785\\ub2c8\\ub2e4. \\uad6d\\ub0b4 \\uc2dc\\uc7a5\\uc5d0\\uc11c\\ub294 \\uae30\\uc220\\ub825, \\uc218\\ud589\\uacbd\\ud5d8, \\ud488\\uc9c8\\uad00\\ub9ac \\uc5ed\\ub7c9 \\ub4f1\\uc744 \\ubcf4\\uc720\\ud558\\uace0 \\uc788\\ub294 \\uc5c5\\uccb4\\uac00 \\uacbd\\uc7c1 \\uc6b0\\uc704\\ub97c \\uc810\\ud558\\uace0 \\uc788\\uc2b5\\ub2c8\\ub2e4.\\nIT\\uc5c5\\uccb4\\ub294 \\ub2e4\\uc591\\ud55c \\ub808\\ud37c\\ub7f0\\uc2a4 \\ud655\\ubcf4\\ub97c \\ud1b5\\ud55c \\uacbd\\ud5d8\\ucd95\\uc801, \\ud48d\\ubd80\\ud55c \\uae30\\uc220\\uc778\\ub825\\uc758 \\ud655\\ubcf4, \\ud504\\ub85c\\uc81d\\ud2b8 \\uc218\\ud589 \\ub178\\ud558\\uc6b0 \\ubc0f \\uace0\\uac1d \\uc120\\ud638\\ub3c4 \\ub4f1 \\ub2e4\\uc591\\ud55c \\uce21\\uba74\\uc5d0\\uc11c \\uacbd\\uc7c1\\ub825\\uc5d0 \\ud070 \\uc601\\ud5a5\\uc744 \\ub07c\\uce69\\ub2c8\\ub2e4.\\n(5) \\uc601\\uc5c5\\uac1c\\ud669\\n\\u25ce \\uc0ac\\uc5c5\\ubd80\\ubb38\\ubcc4 \\uc8fc\\uc694\\ub0b4\\uc6a9\\n\\uc0ac\\uc5c5\\ubd80\\ubb38\\n\\uc8fc\\uc694\\ub0b4\\uc5ed\\n1\\nIT \\uc544\\uc6c3\\uc18c\\uc2f1\\n\\ub300\\ud55c\\uc81c\\uac15 IT\\uc11c\\ube44\\uc2a4 \\ubc0f \\uc194\\ub8e8\\uc158 \\uc81c\\uacf5\\n- ERP \\ub4f1 \\ud1a0\\ud0c8 \\uc544\\uc6c3\\uc18c\\uc2f1 \\uc11c\\ube44\\uc2a4 \\ubc0f \\uc194\\ub8e8\\uc158 \\uc81c\\uacf5\\n- Infra \\uad00\\ub9ac \\ubc0f \\uc6b4\\uc601\\uc11c\\ube44\\uc2a4 \\uc81c\\uacf5\\nERP \\uad00\\ub828 \\ub300\\uc678 \\ube44\\uc0c1\\uc8fc IT\\uc11c\\ube44\\uc2a4 \\uc81c\\uacf5\\n- ERP \\uc601\\uc5ed \\ub300\\uc678 \\uc6d0\\uaca9\\uc9c0\\uc6d0 IT\\uc11c\\ube44\\uc2a4 \\uc81c\\uacf5\\n2\\n\\ucee8\\uc124\\ud305/SI\\n\\uc81c\\uc870\\ud68c\\uc0ac \\uc5c5\\ubb34 \\uc804\\ubc18\\uc5d0 \\uac78\\uce5c \\uc815\\ubcf4\\uc2dc\\uc2a4\\ud15c \\uad6c\\ucd95 IT\\uc11c\\ube44\\uc2a4 \\uc81c\\uacf5\\n(6) \\uc2dc\\uc7a5\\uc758 \\ud2b9\\uc131 \\ubc0f \\uc810\\uc720\\uc728\\n\\u2460 IT \\uc544\\uc6c3\\uc18c\\uc2f1\\n\\ub300\\ud55c\\uc81c\\uac15 IT \\uc544\\uc6c3\\uc18c\\uc2f1\\uc744 \\ud1b5\\ud574 \\ucd95\\uc801\\ub41c \\uacbd\\ud5d8\\uacfc \\ub300\\uc678 \\ube44\\uc0c1\\uc8fc IT Outsourcing \\uacbd\\ud5d8\\uc744 \\uae30\\ubc18\\uc73c\\ub85c \\uace0\\uac1d\\uc758 \\uac00\\uce58 \\ucc3d\\ucd9c\\uc744 \\uc704\\ud55c IT \\uce21\\uba74\\uc5d0\\uc11c\\uc758 \\ubaa8\\ub4e0 \\uc9c0\\uc6d0\\uc744 \\uc218\\ud589\\ud569\\ub2c8\\ub2e4 \\uace0\\uac1d\\uc758 IT\\uc11c\\ube44\\uc2a4 \\ud601\\uc2e0\\uc744 \\ud1b5\\ud574 \\ube44\\uc988\\ub2c8\\uc2a4 \\uacbd\\uc7c1\\ub825\\uc744 \\uac15\\ud654\\ud558\\uace0, IT\\uc11c\\ube44\\uc2a4 \\ud5a5\\uc0c1\\uc744 \\ud1b5\\ud55c \\ube44\\uc6a9\\uc808\\uac10 \\ubc0fIT\\uc11c\\ube44\\uc2a4 \\uc131\\uacfc \\uc81c\\uace0\\ub97c \\ud1b5\\ud55c \\uae30\\uc5c5\\uac00\\uce58\\ub97c \\uc99d\\ub300\\uc2dc\\ud0b5\\ub2c8\\ub2e4.\\n\\uae30 \\ud655\\ubcf4\\ub41c Captive \\uc2dc\\uc7a5\\uc740 \\ub354 \\ub098\\uc740 IT\\uc11c\\ube44\\uc2a4\\ub97c \\ud1b5\\ud574 \\uace0\\uac1d \\ube44\\uc988\\ub2c8\\uc2a4\\uc5d0 \\uac00\\uce58\\ub97c \\uc62c\\ub824\\uc8fc\\uace0, \\uc2e0\\uaddc IT \\uc544\\uc6c3\\uc18c\\uc2f1\\uc744 \\ucd94\\uac00 \\ud655\\ubcf4\\ub97c \\uc704\\ud55c \\ud65c\\ub3d9\\uc744 \\uac15\\ud654\\ud569\\ub2c8\\ub2e4.\\n\\uc2dc\\uc7a5 \\uc810\\uc720\\uc728\\uc740 \\uc0b0\\uc815\\uc774 \\ubd88\\uac00\\ud558\\uc5ec \\uc0dd\\ub7b5\\ud569\\ub2c8\\ub2e4.\\n\\u2461 \\ucee8\\uc124\\ud305/SI\\n\\uae30\\uc5c5\\uc758 \\uacbd\\uc601\\uad00\\ub9ac, \\uc81c\\uc870, \\uace0\\uac1d\\uad00\\ub9ac \\ub4f1 \\uc5c5\\ubb34\\uc804\\ubc18\\uc5d0 \\uac78\\uce5c \\uc2dc\\uc2a4\\ud15c \\uad6c\\ucd95 IT\\uc11c\\ube44\\uc2a4\\ub97c \\uc81c\\uacf5\\ud558\\uace0 \\uc788\\uace0, \\ub300\\ud55c\\uc81c\\uac15 \\ub4f1 \\uad00\\uacc4\\uc0ac\\uc758 \\uc2dc\\uc2a4\\ud15c \\uad6c\\ucd95\\uacbd\\ud5d8\\uacfc \\uc194\\ub8e8\\uc158\\uc744 \\uae30\\ubc18\\uc73c\\ub85c \\uace0\\uac1d\\uc758 \\ube44\\uc988\\ub2c8\\uc2a4\\ub97c \\uc9c0\\uc6d0 \\ud569\\ub2c8\\ub2e4.\\n\\ub2f9\\uc0ac\\ub294 Google\\uc758 \\uacf5\\uc2dd \\ud30c\\ud2b8\\ub108\\uc0ac\\ub85c Google Cloud Platform \\uad00\\ub828 \\uae30\\uc220\\ub825\\uc744 \\ubcf4\\uc720\\ud558\\uace0 \\uc788\\uc73c\\uba70, \\uc774\\ub7ec\\ud55c \\uae30\\uc220\\uc744 \\ubc14\\ud0d5\\uc73c\\ub85c Google\\uc758 \\uae30\\uc5c5\\uc6a9 \\uc194\\ub8e8\\uc158\\uc778 Google Apps\\uc640 \\ud2b9\\ud654\\uc194\\ub8e8\\uc158\\uc744 \\uc81c\\uacf5\\ud569\\ub2c8\\ub2e4.\\n\\uc2dc\\uc7a5 \\uc810\\uc720\\uc728\\uc740 \\uc0b0\\uc815\\uc774 \\ubd88\\uac00\\ud558\\uc5ec \\uc0dd\\ub7b5\\ud569\\ub2c8\\ub2e4.\\n(7) \\uc2e0\\uaddc\\uc0ac\\uc5c5 \\ub4f1\\uc758 \\ub0b4\\uc6a9 \\ubc0f \\uc804\\ub9dd\\nIT\\uc0ac\\uc5c5 \\uc790\\uc0dd\\ub825 \\uac15\\ud654 \\ubc0f \\uace0\\uac1d\\uc0ac \\ube44\\uc988\\ub2c8\\uc2a4 \\uac00\\uce58\\ub97c \\uc81c\\uace0\\ud558\\uae30 \\uc704\\ud55c \\uc194\\ub8e8\\uc158 \\uae30\\ubc18 \\uc0ac\\uc5c5\\uc744 \\uc218\\ud589\\ud558\\uace0\\uc790 \\ud558\\uba70, \\uc774\\ub97c \\uc704\\ud574 \\ub0b4\\ubd80 \\uc5ed\\ub7c9 \\uac15\\ud654 \\ubc0f \\uacfc\\uc81c\\ub97c \\ubc1c\\uad74\\ud558\\uc5ec \\uc0ac\\uc5c5\\uc744 \\ucd94\\uc9c4\\ud569\\ub2c8\\ub2e4\\n(8) \\uc870\\uc9c1\\ub3c4\\n\\uc870\\uc9c1\\ub3c4_\\ub300\\ud55c\\ub124\\ud2b8\\uc6cd\\uc2a4\\n\\u203b2020\\n\\ub144\\n1\\uc6d4 1\\uc77c \\uae30\\uc900\\n\\u25cb \\ubd80\\ub3d9\\uc0b0 \\ubd80\\ubb38\\n\\uc13c\\ud140\\uc0ac\\uc774\\uc5b8\\uc2a4\\ud30c\\ud06c(\\uc8fc)\\ub294 \\uc13c\\ud140\\uc0ac\\uc774\\uc5b8\\uc2a4\\ud30c\\ud06c\\ube4c\\ub529\\uc758 \\uc2dc\\ud589\\uc0ac\\ub85c \\uc13c\\ud140\\uc9c0\\uc5ed \\ub0b4 \\ubd80\\ub3d9\\uc0b0 \\uac1c\\ubc1c\\uc744 \\ubaa9\\uc801\\uc73c\\ub85c \\uc124\\ub9bd\\ub418\\uc5c8\\uc73c\\uba70, \\ubd80\\ub3d9\\uc0b0 \\uac1c\\ubc1c\\uc5c5 \\ubc0f \\uc784\\ub300\\uc5c5\\uc744 \\uc8fc\\ub41c \\uc601\\uc5c5\\ubaa9\\uc801\\uc73c\\ub85c \\ud558\\uace0 \\uc788\\uc2b5\\ub2c8\\ub2e4.\\n\\uac00. \\uc5c5\\uacc4\\uc758 \\ud604\\ud669\\n(1) \\uc0b0\\uc5c5\\uc758 \\ud2b9\\uc131\\n\\ubd80\\ub3d9\\uc0b0\\uc740 \\ud2b9\\uc815\\ud55c \\uc704\\uce58\\uc640 \\uacf5\\uac04\\uc18d\\uc5d0\\uc11c \\uc0b4\\uc544\\uac00\\ub294 \\uc778\\uac04\\uc5d0\\uac8c \\uc7a5\\uc18c\\ub97c \\uc81c\\uacf5\\ud558\\uace0, \\uc778\\uac04\\uc0dd\\ud65c\\uc5d0 \\ud3b8\\uc775\\uc744 \\uc81c\\uacf5\\ud574\\uc8fc\\ub294 \\uac83\\uc73c\\ub85c \\ud2b9\\ud788 \\uad6d\\ub0b4\\uc5d0\\uc11c\\ub294 \\uc790\\uc0b0\\uc73c\\ub85c\\uc11c \\uc911\\uc694\\ud55c \\uc758\\ubbf8\\ub97c \\uac00\\uc9d1\\ub2c8\\ub2e4. \\ubd80\\ub3d9\\uc0b0 \\uad00\\ub9ac\\uc0b0\\uc5c5\\uc758 \\ubaa9\\uc801\\uc740 \\ubcf4\\uc720\\ud558\\uace0 \\uc788\\ub294 \\uc790\\uc0b0\\uc758 \\ud6a8\\uc728\\uc801\\uc778 \\uad00\\ub9ac\\ub97c \\ud1b5\\ud55c \\uc774\\uc6a9\\uc758 \\ud3b8\\ub9ac\\uc640 \\uc6b4\\uc601\\uc218\\uc775\\uc758 \\uadf9\\ub300\\ud654 \\ubc0f \\uc790\\uc0b0\\uac00\\uce58\\uc758 \\uadf9\\ub300\\ud654\\ub97c \\uc774\\ub8e8\\ub294 \\uac83\\uc785\\ub2c8\\ub2e4. \\uc774\\ud6c4 \\ub9e4\\uc785/\\ub9e4\\uac01\\uc744 \\ud1b5\\ud574 \\ub354 \\ud070 \\ub9e4\\ub9e4\\uc774\\uc775\\uc744 \\ucc3d\\ucd9c\\ud558\\ub294\\ub370 \\uae30\\uc5ec\\ud560 \\uc218 \\uc788\\uc2b5\\ub2c8\\ub2e4.\\n(2) \\uc0b0\\uc5c5\\uc758 \\uc131\\uc7a5\\uc131\\n\\ubd80\\ub3d9\\uc0b0 \\ud22c\\uc790\\uc758 \\ud328\\ub7ec\\ub2e4\\uc784\\uc774 \\uc9c1\\uc811\\ud22c\\uc790\\uc5d0\\uc11c \\uac04\\uc811\\ud22c\\uc790\\ub85c \\ubcc0\\ud658\\ub428\\uc5d0 \\ub530\\ub77c \\uc608\\uc804\\uc758 \\ub9e4\\uc785, \\ub9e4\\uac01\\uc5d0 \\ub530\\ub978 \\ud22c\\uc790\\ubcf4\\ub2e4\\ub294 \\ubcf4\\uc720/\\uc720\\uc9c0 \\uae30\\uac04\\ub3d9\\uc548 \\uccb4\\uacc4\\uc801\\uc774\\uace0 \\ud6a8\\uc728\\uc801\\uc778 \\ubd80\\ub3d9\\uc0b0 \\uad00\\ub9ac\\ub97c \\ud1b5\\ud574\\uc6b4\\uc601\\uc218\\uc775\\uc744 \\uadf9\\ub300\\ud654\\ud558\\ub294 \\ubc29\\ud5a5\\uc73c\\ub85c \\ubc14\\ub00c\\uace0 \\uc788\\uc2b5\\ub2c8\\ub2e4. \\uadf8\\ub7ec\\ubbc0\\ub85c, \\uccb4\\uacc4\\uc801\\uc778 \\ubd80\\ub3d9\\uc0b0 \\uad00\\ub9ac\\ub97c \\ud1b5\\ud574 \\uc6b4\\uc601\\uc218\\uc775\\uc744 \\uadf9\\ub300\\ud654\\ud558\\uace0 \\ucd94\\ud6c4 \\ub9e4\\uac01\\uc2dc \\ub9e4\\ub9e4\\ucc28\\uc775\\uc744 \\uc2e4\\ud604\\ud560 \\uc218 \\uc788\\ub294 \\ubc29\\ud5a5\\uc73c\\ub85c\\n\\ubd80\\ub3d9\\uc0b0 \\uad00\\ub9ac\\uc0b0\\uc5c5\\uc740 \\uc804\\ud658\\ud558\\uace0 \\uc788\\uc2b5\\ub2c8\\ub2e4.\\u00a0 \\uc774\\uc5d0 \\ubd80\\ub3d9\\uc0b0 \\uad00\\ub9ac\\uc0b0\\uc5c5\\uc758 \\uc911\\uc694\\uc131\\uc740 \\uc774\\uc804\\ubcf4\\ub2e4 \\ub192\\uc544\\uc84c\\uc73c\\ub098, CB Richard Ellis, Jones Lang Lasalle, Cushman&Wake field \\uac19\\uc740\\uc678\\uad6d\\uacc4\\ud68c\\uc0ac\\uc640, \\uad6d\\ub0b4 \\ub300\\uae30\\uc5c5 \\uacc4\\uc5f4\\uc0ac\\ub4e4\\uc774 \\ubd80\\ub3d9\\uc0b0 \\uad00\\ub9ac\\uc0b0\\uc5c5\\uc5d0 \\ub6f0\\uc5b4\\ub4e4\\uc5b4 \\uacbd\\uc7c1\\uc740 \\uce58\\uc5f4\\ud55c \\uc0c1\\ud669\\uc785\\ub2c8\\ub2e4.\\n(3) \\uacbd\\uae30\\ubcc0\\ub3d9\\uc758 \\ud2b9\\uc131\\n\\ubd80\\ub3d9\\uc0b0 \\uad00\\ub9ac\\uc0b0\\uc5c5\\uc740 \\uad6d\\ub0b4 \\uacbd\\uae30 \\ubc0f \\uac74\\uc124\\uacbd\\uae30\\uc5d0 \\ub530\\ub77c \\uc601\\ud5a5\\uc744 \\ub9ce\\uc774 \\ubc1b\\uc73c\\uba70, \\ud2b9\\ubcc4\\ud788 \\uc218\\uc694\\uac00 \\ub9ce\\uc740 \\uc2dc\\uae30\\ub294 \\uc5c6\\uc2b5\\ub2c8\\ub2e4. \\ud1b5\\uc0c1 \\uacbd\\uae30\\uac00 \\uc88b\\uc744\\ub54c \\ud638\\ud669\\uc744 \\ub204\\ub9ac\\uace0, \\ubd88\\ud669\\uc2dc\\uc5d0\\ub294 \\uc785\\uc8fc\\uc0ac\\ub4e4\\uc774 \\uac04\\uc811\\ube44 \\uc808\\uac10\\uc744 \\uc704\\ud574 \\uc0ac\\ubb34\\uc2e4 \\uc784\\ucc28\\ub8cc\\uc5d0 \\ub9ce\\uc740 \\ube44\\uc6a9\\uc744 \\ud22c\\uc790\\ud560 \\uc218 \\uc5c6\\uc5b4 \\ub9ce\\uc740 \\ud0c0\\uaca9\\uc744 \\ubc1b\\uc2b5\\ub2c8\\ub2e4.\\u00a0 \\ub610\\ud55c \\ubd80\\ub3d9\\uc0b0 \\uacf5\\uae09\\uc5d0 \\ub530\\ub77c \\uad00\\ub9ac\\uc0b0\\uc5c5\\uc758 \\uac00\\uce58\\ub3c4 \\uacb0\\uc815\\ub418\\ubbc0\\ub85c \\uc815\\ubd80\\uc758 \\ubd80\\ub3d9\\uc0b0, \\uac74\\uc124 \\ubd80\\uc591 \\uc815\\ucc45\\uc758 \\ubc29\\ud5a5\\uc131\\uc5d0\\ub3c4 \\uc601\\ud5a5\\uc744 \\ubc1b\\uc2b5\\ub2c8\\ub2e4.\\n(4) \\uacbd\\uc7c1 \\uc694\\uc18c\\n\\ubd80\\ub3d9\\uc0b0 \\uad00\\ub9ac\\uc0b0\\uc5c5\\uc758 \\uc8fc \\uacbd\\uc7c1\\uc694\\uc778\\uc740 \\ucd5c\\uc18c\\uc758 \\ube44\\uc6a9\\uc73c\\ub85c \\uac74\\ubb3c\\uc758 \\uc720\\uc9c0\\uad00\\ub9ac\\ub97c \\ud589\\ud574\\ub098\\uac08\\uc218 \\uc788\\ub290\\ub0d0 \\ud558\\ub294\\uac83\\uc774\\uba70 \\uad00\\ub9ac\\ub178\\ud558\\uc6b0 \\ubc0f \\uac74\\ubb3c\\uc8fc \\uc774\\uc775\\uadf9\\ub300\\ud654\\ub97c \\ud1b5\\ud574 \\uad00\\ub9ac\\uc6a9\\uc5ed\\ube44\\ub97c \\ub192\\uc774\\uace0, \\uad00\\ub9ac\\uc6d0\\uac00\\ub97c \\uc808\\uac10\\ud574 \\ub098\\uac00\\ub294 \\uac83\\uc774 \\ucd5c\\uc6b0\\uc120 \\uc0ac\\ud56d\\uc785\\ub2c8\\ub2e4.\\n(5) \\uc601\\uc5c5\\uac1c\\ud669\\n2010\\ub1444\\uc6d4\\uc5d0 \\uc0ac\\uc6a9\\uc2b9\\uc778\\uc744 \\ubc1b\\uc740 \\uc13c\\ud140\\uc0ac\\uc774\\uc5b8\\uc2a4\\ud30c\\ud06c\\ube4c\\ub529\\uc744 \\uc18c\\uc720\\ud558\\uace0 \\uc788\\uc73c\\uba70, \\ub300\\uc9c0 1,919\\ud3c9 \\uaddc\\ubaa8\\uc5d0 \\ubcf8\\uad00 \\uc5c5\\ubb34\\ub3d9 (\\uc9c0\\uc0c1 23\\uce35, \\uc9c0\\ud558 4\\uce35)\\uacfc \\uad50\\uc721 \\uc5f0\\uad6c\\ub3d9 (\\uc9c0\\uc0c1 4\\uce35, \\uc9c0\\ud558 4\\uce35)\\uc73c\\ub85c \\uad6c\\uc131\\ub418\\uc5b4 \\uc788\\uc2b5\\ub2c8\\ub2e4. \\uc13c\\ud140\\uc9c0\\uc5ed \\ub0b4\\uc758 \\ud504\\ub77c\\uc784\\uae09 \\uc624\\ud53c\\uc2a4 \\ube4c\\ub529\\uc73c\\ub85c \\uc88b\\uc740 \\uc785\\uc9c0\\ub97c \\ud65c\\uc6a9\\ud558\\uc5ec \\ud604\\uc7ac \\uc784\\ub300\\uc0ac\\uc5c5\\uc744 \\ud65c\\ubc1c\\ud788 \\uc804\\uac1c\\ud558\\uace0 \\uc788\\uc2b5\\ub2c8\\ub2e4. \\uacf5\\uc2dc\\uc77c \\uae30\\uc900 \\ud604\\uc7ac \\uc784\\ub300\\uc728\\uc740 99% \\uc785\\ub2c8\\ub2e4.\\n(6) \\uc2dc\\uc7a5\\uc810\\uc720\\uc728\\n\\uc2dc\\uc7a5\\uc810\\uc720\\uc728\\uc774 \\ubbf8\\ubbf8\\ud558\\uc5ec \\uc791\\uc131\\uc744 \\uc0dd\\ub7b5\\ud569\\ub2c8\\ub2e4.\\n(7) \\uc2e0\\uaddc\\uc0ac\\uc5c5 \\ub4f1\\uc758 \\ub0b4\\uc6a9 \\ubc0f \\uc804\\ub9dd\\n\\ud574\\ub2f9\\uc0ac\\ud56d \\uc5c6\\uc74c.\\n2. \\uc8fc\\uc694 \\uc81c\\ud488, \\uc11c\\ube44\\uc2a4 \\ub4f1\\n\\uac00. \\uc8fc\\uc694 \\uc81c\\ud488 \\ub4f1\\uc758 \\ud604\\ud669\\n\\ub2f9\\uc0ac\\ub294 \\ucca0\\uadfc, \\ube4c\\ub9bf\\uc744 \\uc0dd\\uc0b0, \\ud310\\ub9e4\\ud558\\uace0 \\uc788\\uc73c\\uba70 \\uac01 \\uc81c\\ud488\\ubcc4 \\ub9e4\\ucd9c\\uc561 \\ubc0f \\ucd1d \\ub9e4\\ucd9c\\uc561\\uc5d0\\uc11c \\ucc28\\uc9c0\\ud558\\ub294 \\ube44\\uc728\\uc740 \\uc544\\ub798\\uc640 \\uac19\\uc2b5\\ub2c8\\ub2e4.\\n(\\ub2e8\\uc704: \\ucc9c\\uc6d0)\\n\\uc0ac\\uc5c5\\n\\ubd80\\ubb38\\n\\ub9e4\\ucd9c\\n\\uc720\\ud615\\n\\ud488\\ubaa9\\n\\uad6c\\uccb4\\uc801\\n\\uc6a9\\ub3c4\\n\\uc8fc\\uc694 \\uc0c1\\ud45c\\n\\ub4f1\\n\\ub9e4\\ucd9c\\uc561\\n\\ube44\\uc728\\n\\uc81c\\uac15/\\uc555\\uc5f0/\\n\\uac00\\uacf5\\n\\uc81c\\u00a0\\u00a0 \\ud488\\n\\ucca0\\uadfc\\n\\uac74\\uc124\\uc790\\uc7ac\\nDH Steel,\\nUltra-Bar,\\nSTAZ\\n672,081,950\\n76.09%\\n\\ube4c\\ub9bf\\n\\ubd09/\\ud615\\uac15 \\ubc18\\uc81c\\ud488\\n-\\n4,371\\n0.00%\\nBar-in-Coil\\n\\uac74\\uc124\\uc790\\uc7ac\\n-\\n168,041,802\\n19.02%\\n\\uae30\\ud0c0\\n-\\n-\\n43,150,688\\n4.89%\\n\\ud569\\u00a0 \\u00a0 \\uacc4\\n883,278,810\\n100.00%\\n\\ub098. \\uc81c\\ud488\\ubcc4 \\uad6c\\uccb4\\uc801\\uc778 \\uac00\\uaca9\\ubcc0\\ub3d9\\ucd94\\uc774\\n\\uc81c\\ud488 \\uac00\\uaca9\\uc740 \\ud488\\ubaa9\\ubcc4 \\ub9e4\\ucd9c\\uc561\\uc5d0\\uc11c \\ud310\\ub9e4\\ub7c9\\uc744 \\ub098\\ub208 \\uac12\\uc73c\\ub85c \\uc0b0\\ucd9c\\ud558\\uc600\\uc2b5\\ub2c8\\ub2e4.\\n(\\ub2e8\\uc704 : \\ucc9c\\uc6d0/\\ud1a4)\\n\\ud488\\u00a0 \\u00a0 \\u00a0 \\u00a0\\u00a0 \\ubaa9\\n\\uc81c67\\uae30\\n\\uc81c66\\uae30\\n\\uc81c65\\uae30\\n\\ucca0\\u00a0 \\uadfc\\n699\\n684\\n620\\n\\ube4c\\u00a0 \\ub9bf\\n550\\n526\\n493\\nBar-in-Coil\\n724\\n770\\n665\\n3. \\uc8fc\\uc694 \\uc6d0\\uc7ac\\ub8cc\\n\\uac00. \\uc8fc\\uc694 \\uc6d0\\uc7ac\\ub8cc, \\ubd80\\uc7ac\\ub8cc \\ub4f1\\uc758 \\ud604\\ud669\\n\\ub2f9\\uc0ac\\ub294 \\ucca0\\uc2a4\\ud06c\\ub7a9 \\ubc0f \\ud569\\uae08\\ucca0 \\ub4f1\\uc744 \\uc8fc\\uc694 \\uc6d0\\ubd80\\uc790\\uc7ac\\ub85c \\uc0ac\\uc6a9\\ud558\\uace0 \\uc788\\uc2b5\\ub2c8\\ub2e4. \\uc6d0\\uc790\\uc7ac\\uc778 \\ucca0\\uc2a4\\ud06c\\ub7a9\\uc758 \\uacbd\\uc6b0 \\uad6d\\ub0b4\\uc0b0\\uc774 \\uc218\\uc785\\uc0b0\\ubcf4\\ub2e4 \\ud070 \\ube44\\uc911\\uc744 \\ucc28\\uc9c0\\ud558\\uace0 \\uc788\\uc73c\\uba70 \\uc2dc\\ud669\\uc5d0 \\ub530\\ub77c \\uadf8 \\ube44\\uc911\\uc744 \\uc870\\uc808\\ud558\\uba70 \\uc6b4\\uc601\\ud558\\uace0 \\uc788\\uc2b5\\ub2c8\\ub2e4. \\ubd80\\uc7ac\\ub8cc\\uc778 \\ud569\\uae08\\ucca0\\uc758 \\uacbd\\uc6b0 \\uad6d\\ub0b4 \\uc81c\\uc870\\uc5c5\\uccb4\\uc5d0\\uc11c \\uc8fc\\ub85c \\uad6c\\ub9e4\\ud558\\uace0 \\uc788\\uc2b5\\ub2c8\\ub2e4.\\n(\\ub2e8\\uc704: \\ucc9c\\uc6d0)\\n\\uc0ac\\uc5c5\\ubd80\\ubb38\\n\\ub9e4\\uc785 \\uc720\\ud615\\n\\ud488 \\ubaa9\\n\\uad6c\\uccb4\\uc801 \\uc6a9\\ub3c4\\n\\ub9e4\\uc785\\uc561\\n(\\ube44\\uc728)\\n\\ube44\\uc728\\n\\uc81c\\u00a0\\u00a0 \\uac15\\n\\uc555\\u00a0\\u00a0 \\uc5f0\\n\\uc6d0\\uc7ac\\ub8cc\\n\\ucca0\\uc2a4\\ud06c\\ub7a9\\n\\uc678\\ubd80\\uc870\\ub2ec\\ube4c\\ub9bf\\n\\ube4c\\ub9bf \\ubc0f \\ucca0\\uadfc \\uc8fc\\uc6d0\\ub8cc\\n397,355,318\\n(67.08%)\\n\\ubd80\\uc7ac\\ub8cc\\n\\ud569\\uae08\\ucca0 \\uc678\\n\\ube4c\\ub9bf \\ubc0f \\ucca0\\uadfc \\ubd80\\uc6d0\\ub8cc\\n15,614,602\\n(2.64%)\\n\\uc800\\uc7a5\\ud488\\n\\ub0b4\\ud654\\ubb3c \\uc678\\n\\ube4c\\ub9bf \\ubc0f \\ucca0\\uadfc \\ubd80\\uc6d0\\ub8cc\\n26,184,374\\n(4.42%)\\n\\uc18c\\u00a0 \\u00a0\\u00a0 \\uacc4\\n439,154,294\\n\\uac00\\u00a0\\u00a0 \\uacf5\\n\\uc6d0\\uc7ac\\ub8cc\\n\\uc0c1\\ud488_\\uc77c\\ubc18\\ucca0\\uadfc\\n\\uac00\\uacf5\\ucca0\\uadfc \\uc8fc\\uc6d0\\ub8cc\\n153,241,950\\n(28.57%)\\n\\uc18c\\u00a0 \\u00a0\\u00a0 \\uacc4\\n153,241,950\\n\\ud569\\u00a0 \\u00a0 \\u00a0 \\uacc4\\n592,396,244\\n*\\uc0c1\\uae30 \\uc790\\ub8cc\\uc758 \\uc6d0\\uc7ac\\ub8cc\\ub294 \\uc81c\\uac15\\uacf5\\uc815\\uc5d0 \\ud22c\\uc785\\ub418\\ub294 \\uc2a4\\ud06c\\ub7a9, \\uc555\\uc5f0\\uacf5\\uc815\\uc5d0 \\ud22c\\uc785\\ub418\\ub294 \\uc678\\ubd80\\uad6c\\ub9e4 \\ube4c\\ub9bf \\ubfd0 \\uc544\\ub2c8\\ub77c \\uac00\\uacf5\\uacf5\\uc815\\uc5d0 \\ud22c\\uc785\\ub418\\ub294 \\uc0c1\\ud488_\\uc77c\\ubc18\\ucca0\\uadfc\\uc744 \\ud3ec\\ud568\\ud558\\uace0 \\uc788\\uc2b5\\ub2c8\\ub2e4.\\n\\uc8fc\\uc694 \\uc6d0\\uc7ac\\ub8cc \\ubc0f \\ubd80\\uc7ac\\ub8cc\\uc758 \\uad6c\\uccb4\\uc801\\uc778 \\uac00\\uaca9\\ubcc0\\ub3d9\\ucd94\\uc774\\ub294 \\uc544\\ub798\\uc640 \\uac19\\uc2b5\\ub2c8\\ub2e4. \\uac00\\uaca9\\uc740 \\ud488\\ubaa9\\ubcc4 \\uad6c\\ub9e4\\uae08\\uc561\\uc5d0\\uc11c \\uad6c\\ub9e4\\ub7c9\\uc744 \\ub098\\ub208 \\uac12\\uc73c\\ub85c \\uc0b0\\ucd9c\\ud558\\uc600\\uc2b5\\ub2c8\\ub2e4.\\n(\\ub2e8\\uc704: \\ucc9c\\uc6d0/\\ud1a4)\\n\\ud488\\u00a0 \\u00a0 \\u00a0 \\u00a0 \\ubaa9\\n\\uc81c67\\uae30\\n\\uc81c66\\uae30\\n\\uc81c65\\uae30\\n\\uc6d0\\uc7ac\\ub8cc\\n\\ucca0\\uc2a4\\ud06c\\ub7a9\\n351\\n385\\n334\\n\\uc678\\ubd80\\uc870\\ub2ec\\ube4c\\ub9bf\\n542\\n602\\n533\\n\\uc0c1\\ud488_\\uc77c\\ubc18\\ucca0\\uadfc\\n682\\n697\\n630\\n\\ubd80\\uc7ac\\ub8cc\\n\\ud569\\uae08\\ucca0 \\uc678\\n348\\n495\\n465\\n\\uc800\\uc7a5\\ud488\\n\\ub0b4\\ud654\\ubb3c \\uc678\\n2,821\\n3,544\\n2,286\\n4. \\uc0dd\\uc0b0 \\ubc0f \\uc124\\ube44\\n\\uac00. \\uc0dd\\uc0b0\\uc5d0 \\uad00\\ud55c \\uc0ac\\ud56d\\n\\ub2f9\\uc0ac\\ub294 \\ubd80\\uc0b0 \\uc2e0\\ud3c9, \\ub179\\uc0b0 \\uadf8\\ub9ac\\uace0 \\ud3c9\\ud0dd\\uc5d0\\uc11c \\uc81c\\uac15 \\ubc0f \\uc555\\uc5f0 \\uacf5\\uc7a5\\uc744 \\uc6b4\\uc601\\ud558\\uace0 \\uc788\\uc2b5\\ub2c8\\ub2e4. \\uc81c67\\uae30 \\ub3d9\\uc548\\uc758 \\uc0dd\\uc0b0\\uc2e4\\uc801, \\uc0dd\\uc0b0\\ub2a5\\ub825 \\ubc0f \\uac00\\ub3d9\\ub960\\uc740 \\uc544\\ub798\\uc640 \\uac19\\uc2b5\\ub2c8\\ub2e4.\\n(\\ub2e8\\uc704 :\\ucc9c\\ud1a4, %)\\n\\uc0ac\\uc5c5\\uc18c(\\uc0ac\\uc5c5\\ubd80\\ubb38)\\n\\uc81c67\\uae30\\n\\uc0dd\\uc0b0\\uc2e4\\uc801\\n\\uc81c66\\uae30\\n\\uc0dd\\uc0b0\\uc2e4\\uc801\\n\\ud3c9\\uade0\\uac00\\ub3d9\\ub960\\n\\uc81c\\u00a0\\u00a0 \\uac15\\n(\\ube4c\\ub9bf)\\n\\ub179\\uc0b0\\n943\\n896\\n94%\\n\\uc18c\\uacc4\\n943\\n999\\n94%\\n\\uc555\\u00a0\\u00a0 \\uc5f0\\n(\\ucca0\\uadfc)\\n\\uc2e0\\ud3c9\\n260\\n365\\n43%\\n\\ub179\\uc0b0\\n452\\n474\\n90%\\n\\ud3c9\\ud0dd\\n280\\n323\\n62%\\n\\uc18c\\uacc4\\n992\\n1,162\\n64%\\n\\u203b\\uc2e0\\ud3c9\\uc81c\\uac15\\uc740 2018\\ub144 5\\uc6d4 31\\uc77c\\ubd80\\ub85c \\ud3d0\\uc1c4 \\ub418\\uc5c8\\uc2b5\\ub2c8\\ub2e4.\\n\\u203b\\ub179\\uc0b0\\uc81c\\uac15 \\uae30\\uc874 \\uc0dd\\uc0b0\\ub2a5\\ub825 \\uc5f0\\uc0b0 80\\ub9cc\\ud1a4\\uc774\\uc5c8\\uc73c\\ub098 2018\\ub144 8\\uc6d4 \\ud558\\uacc4\\ub300\\ubcf4\\uc218\\uc2dc \\uc804\\uae30\\ub85c\\nrevamping\\uc744 \\ud1b5\\ud574 \\uc0dd\\uc0b0\\ub2a5\\ub825 \\uc5f0\\uc0b0 100\\ub9cc\\ud1a4\\uc73c\\ub85c \\uc99d\\uac00\\ud558\\uc600\\uc73c\\uba70 \\ud574\\ub2f9 \\ubcf4\\uace0\\uc11c\\n\\ud3c9\\uade0\\uac00\\ub3d9\\ub960\\uc740 revamping \\ud6c4 \\uc5f0\\uc0b0 100\\ub9cc\\ud1a4 \\uae30\\uc900\\uc73c\\ub85c \\uc0b0\\uc815\\ud558\\uc600\\uc2b5\\ub2c8\\ub2e4.\\n\\ucd5c\\uadfc 3\\ub144\\uac04 \\uc0dd\\uc0b0\\ud604\\ud669\\uc740 \\uc544\\ub798\\uc640 \\uac19\\uc2b5\\ub2c8\\ub2e4.\\n(\\ub2e8\\uc704: \\ucc9c\\ud1a4)\\n\\uc0ac\\uc5c5\\n\\ubd80\\ubb38\\n\\ud488\\u00a0 \\ubaa9\\n\\uc0ac\\uc5c5\\uc18c\\n\\uc81c67\\uae30\\n\\uc81c66\\uae30\\n\\uc81c65\\uae30\\n\\uc81c\\uac15\\n\\ube4c\\u00a0 \\ub9bf\\n\\ub179\\uc0b0\\n943\\n896\\n869\\n\\ud569\\u00a0 \\u00a0 \\u00a0 \\uacc4\\n943\\n999\\n1,412\\n\\uc555\\uc5f0\\n\\ucca0\\u00a0 \\uadfc\\n\\uc2e0\\ud3c9\\n260\\n365\\n611\\n\\ub179\\uc0b0\\n452\\n474\\n476\\n\\ud3c9\\ud0dd\\n280\\n323\\n383\\n\\ud569\\u00a0 \\u00a0 \\u00a0 \\uacc4\\n992\\n1,162\\n1,470\\n\\u203b \\ub2f9\\uc0ac\\ub294 \\ucca0\\uadfc\\uc744 \\uc0dd\\uc0b0\\ud558\\ub294 \\ub2e8\\uc77c \\uc0ac\\uc5c5\\ubd80\\ubb38\\uc744 \\uc601\\uc704\\ud558\\ub294 \\uc5c5\\uccb4\\uc774\\ub098 \\uc0dd\\uc0b0\\uacf5\\uc815\\uc758 \\ud2b9\\uc131\\uc0c1 \\uc81c\\uac15\\uacf5\\uc815\\uacfc \\uc555\\uc5f0\\uacf5\\uc815\\uc73c\\ub85c \\uad6c\\ubd84\\ud558\\uc5ec \\uae30\\uc220\\ud558\\uc600\\uc74c.\\n\\ub098. \\uc124\\ube44\\uc5d0 \\uad00\\ud55c \\uc0ac\\ud56d\\n\\ub2f9\\uc0ac\\ub294 \\ubd80\\uc0b0 \\uc2e0\\ud3c9\\uacfc \\ub179\\uc0b0 \\uadf8\\ub9ac\\uace0 \\uacbd\\uae30\\ub3c4 \\ud3c9\\ud0dd \\uc18c\\uc7ac \\uc81c\\uac15 \\ubc0f \\uc555\\uc5f0 \\uacf5\\uc7a5\\uc774 \\uc788\\uc73c\\uba70 \\ubcf8\\uc0ac\\ub294 \\uc2e0\\ud3c9\\uacf5\\uc7a5 \\ub0b4\\uc5d0 \\uc704\\uce58\\ud558\\uace0 \\uc788\\uc2b5\\ub2c8\\ub2e4. \\ub610\\ud55c \\ubd80\\uc0b0 \\ub179\\uc0b0\\uc5d0 \\ucca0\\uadfc \\uac00\\uacf5\\uacf5\\uc7a5\\uc744 \\uc6b4\\uc601\\ud558\\uace0 \\uc788\\uc2b5\\ub2c8\\ub2e4. \\ubcf8 \\ubcf4\\uace0\\uc11c \\uc791\\uc131 \\uae30\\uc900\\uc77c \\ud604\\uc7ac \\uc790\\uc0b0\\uc758 \\ud56d\\ubaa9\\ubcc4 \\ud604\\ud669\\uc740 \\uc544\\ub798\\uc640 \\uac19\\uc2b5\\ub2c8\\ub2e4.\\n[2019\\ub144 12\\uc6d4 31\\uc77c \\ud604\\uc7ac]\\u00a0 \\u00a0 \\u00a0 \\u00a0 \\u00a0 \\u00a0 \\u00a0 \\u00a0 \\u00a0 \\u00a0 \\u00a0 \\u00a0 \\u00a0 \\u00a0 \\u00a0 \\u00a0 \\u00a0 \\u00a0 \\u00a0 \\u00a0 \\u00a0 \\u00a0 \\u00a0 \\u00a0 \\u00a0 \\u00a0 \\u00a0 \\u00a0 \\u00a0 \\u00a0 \\u00a0 (\\ub2e8\\uc704: \\ubc31\\ub9cc \\uc6d0)\\n\\ud56d\\u00a0 \\ubaa9\\n\\ucde8\\ub4dd\\uc6d0\\uac00\\n\\uc190\\uc0c1\\ucc28\\uc190(***)\\n\\uac10\\uac00\\uc0c1\\uac01\\n\\uae30\\ub9d0\\n\\uc7a5\\ubd80\\uac00\\uc561\\n\\uc804\\uae30\\n\\uc774\\uc6d4\\n\\ub2f9\\uae30\\n\\uc99d\\uac00\\n\\ub2f9\\uae30\\n\\uac10\\uc18c\\n\\ub2f9\\uae30\\n\\ub300\\uccb4\\n\\uae30\\ub9d0\\n\\uc794\\uc561\\n\\uc804\\uae30\\n\\uc774\\uc6d4\\n\\ub2f9\\uae30\\n\\uc99d\\uac00\\n\\ub2f9\\uae30\\n\\uac10\\uc18c\\n\\uae30\\ub9d0\\n\\uc794\\uc561\\n\\uc804\\uae30\\n\\uc774\\uc6d4\\n\\ub2f9\\uae30\\n\\uc0c1\\uac01\\n\\ub2f9\\uae30\\n\\uac10\\uc18c\\n\\ub2f9\\uae30\\n\\ub300\\uccb4\\n\\uae30\\ub9d0\\n\\uc794\\uc561\\n\\ud1a0\\uc9c0(*)\\n63,599\\n186\\n63,785\\n0\\n0\\n0\\n0\\n63,785\\n\\uac74\\ubb3c(**)\\n83,595\\n221\\n83,816\\n1,971\\n1,971\\n26,490\\n1,953\\n28,443\\n53,402\\n\\uad6c\\ucd95\\ubb3c\\n19,377\\n336\\n64\\n19,649\\n861\\n19\\n842\\n9,304\\n770\\n29\\n10,045\\n8,762\\n\\uae30\\uacc4\\uc7a5\\uce58\\n194,557\\n12,187\\n8,298\\n-9\\n198,437\\n2,276\\n536\\n1,740\\n156,127\\n9,417\\n6,668\\n158,876\\n37,821\\n\\ucc28\\ub7c9\\uc6b4\\ubc18\\uad6c\\n4,903\\n152\\n840\\n4,215\\n0\\n0\\n4,184\\n220\\n771\\n3,633\\n582\\n\\uacf5\\uae30\\uad6c\\n5,778\\n306\\n479\\n5,605\\n227\\n169\\n58\\n4,467\\n313\\n244\\n4,536\\n1,011\\n\\ube44\\ud488\\n8,826\\n139\\n245\\n9\\n8,729\\n33\\n33\\n7,513\\n538\\n239\\n7,812\\n884\\n\\ub9ac\\uc2a4\\uae30\\uacc4\\uc7a5\\uce58\\n10,670\\n4,147\\n6,523\\n0\\n0\\n6,039\\n835\\n2,613\\n4,261\\n2,262\\n\\uc0ac\\uc6a9\\uad8c\\uc790\\uc0b0\\n0\\n1,677\\n1,677\\n0\\n0\\n0\\n827\\n827\\n850\\n\\uc784\\ucc28\\uc790\\uc0b0\\uac1c\\ub7c9\\uad8c\\n63\\n63\\n0\\n0\\n48\\n15\\n63\\n0\\n\\ud569 \\uacc4\\n391,368\\n15,204\\n14,073\\n0\\n392,499\\n5,368\\n0\\n724\\n4,644\\n214,172\\n14,888\\n10,564\\n0\\n218,496\\n169,359\\n(*)\\ud1a0\\uc9c0 \\ubc0f \\ud22c\\uc790\\ubd80\\ub3d9\\uc0b0(\\ud1a0\\uc9c0)\\n(**)\\uac74\\ubb3c \\ubc0f \\ud22c\\uc790\\ubd80\\ub3d9\\uc0b0(\\uac74\\ubb3c)\\n(***)\\uc804\\uae30 \\uc2e0\\ud3c9\\uc81c\\uac15\\uacf5\\uc7a5 \\ud3d0\\uc1c4\\uc5d0 \\ub530\\ub77c \\uc81c\\uac15 \\uc804\\uc6a9 \\uc790\\uc0b0\\uc5d0 \\ub300\\ud574 \\uc190\\uc0c1\\uc744 \\uc778\\uc2dd\\ud558\\uc600\\uc2b5\\ub2c8\\ub2e4.\\n5. \\ub9e4\\ucd9c\\n\\uac00. \\ub9e4\\ucd9c\\uc2e4\\uc801\\n\\ub2f9\\uc0ac \\ub9e4\\ucd9c\\uc758 \\uc138\\ubd80\\ub0b4\\uc5ed\\uc740 \\ub2e4\\uc74c\\uacfc \\uac19\\uc2b5\\ub2c8\\ub2e4.\\n(\\ub2e8\\uc704: \\ucc9c\\uc6d0)\\n\\uc0ac\\uc5c5\\ubd80\\ubb38\\n\\ub9e4\\ucd9c\\uc720\\ud615\\n\\ud488 \\ubaa9\\n\\uc81c67\\uae30\\n\\uc81c66\\uae30\\n\\uc81c65\\uae30\\n\\uc81c\\uac15/\\uc555\\uc5f0\\n\\uc81c\\u00a0\\u00a0 \\ud488\\n\\ucca0\\u00a0\\u00a0 \\uadfc\\n\\uc218\\ucd9c\\n3,228,885\\n56,624\\n249,893\\n\\ub0b4\\uc218\\n668,853,064\\n794,502,260\\n932,638,874\\n\\uacc4\\n672,081,950\\n794,558,884\\n932,888,767\\n\\ube4c\\u00a0\\u00a0 \\ub9bf\\n\\uc218\\ucd9c\\n5,254,250\\n10,756,710\\n\\ub0b4\\uc218\\n4,371\\n0\\n28,018,543\\n\\uacc4\\n4,371\\n5,254,250\\n38,775,253\\nBar-in-\\nCoil\\n\\uc218\\ucd9c\\n11,048,871\\n15,454,159\\n5,572,619\\n\\ub0b4\\uc218\\n156,992,931\\n175,132,328\\n132,594,696\\n\\uacc4\\n168,041,802\\n190,586,487\\n138,167,315\\n\\uc18c\\u00a0\\u00a0 \\uacc4\\n840,128,123\\n990,399,621\\n1,109,831,333\\n\\uc0c1\\u00a0\\u00a0 \\ud488\\n\\u5916\\n\\ub2e8\\ucc99 \\u5916\\n\\uc218\\ucd9c\\n2,689,945\\n1,162,796\\n-\\n\\ub0b4\\uc218\\n40,460,743\\n33,826,286\\n31,256,568\\n\\uc18c\\u00a0\\u00a0 \\uacc4\\n43,150,688\\n34,989,083\\n31,256,568\\n\\ud569 \\uacc4\\n883,278,810\\n1,025,388,703\\n1,141,087,903\\n\\ub098. \\ud310\\ub9e4\\uacbd\\ub85c \\ubc0f \\ud310\\ub9e4\\ubc29\\ubc95 \\ub4f1\\n\\ub2f9\\uc0ac \\ucca0\\uadfc\\uc758 \\uacbd\\uc6b0 \\ud310\\ub9e4\\uacbd\\ub85c\\ub294 \\ub0b4\\uc218\\uc640 \\uc218\\ucd9c\\ub85c \\ub098\\ub204\\uc5b4\\uc9c0\\ub294\\ub370 \\ub0b4\\uc218\\ub294 \\ubbfc\\uc218(\\uac74\\uc124\\uc0ac & \\uc720\\ud1b5\\uc0c1)\\uc640 \\uad00\\uc218(\\uc870\\ub2ec\\uccad)\\uc73c\\ub85c \\ub098\\ub20c \\uc218 \\uc788\\uc2b5\\ub2c8\\ub2e4. \\ubbfc\\uc218\\uc758 \\uacbd\\uc6b0 \\uace0\\uac1d\\uc0ac\\uc758 \\ubc1c\\uc8fc\\ub97c \\ubc1b\\uc544 \\ub0a9\\ud488\\ud55c \\ud6c4 \\uc6d4\\ub9d0\\uc5d0 \\uac70\\ub798\\ub0b4\\uc5ed\\uc744 \\ubc1c\\uc1a1\\ud558\\uace0 \\uc0c1\\ud638\\uac04 \\ub0a9\\ud488\\uc218\\ub7c9\\uc744 \\ud655\\uc778\\ud558\\uc5ec \\uc138\\uae08\\uacc4\\uc0b0\\uc11c\\ub97c \\ubc1c\\ud589\\ud569\\ub2c8\\ub2e4. \\uacb0\\uc81c\\ub294 \\ud604\\uae08, \\uc5b4\\uc74c\\uc73c\\ub85c \\uc774\\ub8e8\\uc5b4\\uc9c0\\uace0 \\uc788\\uc2b5\\ub2c8\\ub2e4. \\uad00\\uc218\\uc758 \\uacbd\\uc6b0 \\ubd84\\ud560\\ub0a9\\ud488\\uc694\\uad6c \\ubc0f \\ud1b5\\uc9c0\\uc11c \\uc811\\uc218\\uc77c\\ub85c\\ubd80\\ud130 30\\uc77c \\uc774\\ub0b4\\uc5d0 \\ub0a9\\ud488\\ud558\\uac70\\ub098 \\uad00\\uae09\\ud604\\uc7a5 \\uc694\\uccad(\\uc18c\\uc694\\ub7c9\\uccad\\uad6c\\uc11c)\\uc744 \\uc811\\uc218\\ud55c \\ud6c4 45\\uc77c \\uc774\\ub0b4\\uc5d0 \\ub0a9\\ud488\\ud569\\ub2c8\\ub2e4. \\ub0a9\\ud488 \\ud6c4\\uc5d0\\ub294 \\uc6d4\\ub9c8\\uac10 \\uc138\\uae08\\uacc4\\uc0b0\\uc11c\\ub97c \\ubc1c\\ud589\\ud558\\uace0 \\ud604\\uae08\\uc73c\\ub85c \\uacb0\\uc81c\\uac00 \\uc774\\ub8e8\\uc5b4\\uc9d1\\ub2c8\\ub2e4. \\uc218\\ucd9c\\uc758 \\uacbd\\uc6b0\\uc5d0\\ub294 \\uace0\\uac1d\\uc5d0\\uac8c \\ub0a9\\ud488\\ud55c \\ud6c4 L/C \\ub4f1\\uc744 \\ud1b5\\ud558\\uc5ec \\uacb0\\uc81c\\uac00 \\uc774\\ub8e8\\uc5b4\\uc9d1\\ub2c8\\ub2e4.\\n\\ub2e4. \\ud310\\ub9e4\\uc804\\ub7b5\\n\\ub0b4\\uc218 \\ud310\\ub9e4\\uc758 \\uacbd\\uc6b0 \\uc601\\uc5c5\\uc0ac\\uc6d0\\uc758 \\ucee8\\uc124\\ud134\\ud2b8\\ud654\\ub97c \\ud1b5\\ud574 \\uace0\\uac1d \\uc911\\uc2ec \\uc601\\uc5c5\\uc744 \\uc2e4\\uc2dc\\ud558\\uace0 \\uc788\\uc2b5\\ub2c8\\ub2e4. \\uc601\\uc5c5\\uc0ac\\uc6d0\\uc774 \\uc9c1\\uc811 \\uace0\\uac1d\\uc0ac \\ubcf8\\uc0ac \\ubfd0 \\uc544\\ub2c8\\ub77c \\ud604\\uc7a5\\uc744 \\ubc29\\ubb38\\ud558\\uc5ec\\u00a0 VOC(Voice Of Customer)\\ub97c \\uc218\\uc9d1\\ud558\\uc5ec \\uc5c5\\ubb34\\uc5d0 \\uc801\\uadf9 \\ubc18\\uc601\\ud569\\ub2c8\\ub2e4. \\ub610\\ud55c \\ucca0\\uadfc\\uac00\\uacf5 \\ub4f1 \\ubd80\\uac00\\uc11c\\ube44\\uc2a4\\ub97c \\uc81c\\uacf5\\ud558\\uc5ec\\uacf5\\uc0ac\\uae30\\uac04 \\ub2e8\\ucd95 \\ubc0f \\ud604\\uc7a5 \\uc7ac\\uace0\\ubd80\\ub2f4 \\uacbd\\uac10\\uc744 \\ub3d5\\uace0 \\uc788\\uc2b5\\ub2c8\\ub2e4. \\uc218\\ucd9c\\uc758 \\uacbd\\uc6b0 Steel Manager Group, \\uad6c\\ub9e4\\ubb34\\uc5ed\\ud300\\uc5d0\\uc11c\\ub2f4\\ub2f9\\ud558\\uba70 \\ub2e4\\uc591\\ud55c \\ud310\\ub85c\\ub97c \\uad6c\\ucd95\\ud558\\uae30 \\uc704\\ud574 \\ub178\\ub825\\ud558\\uace0 \\uc788\\uc2b5\\ub2c8\\ub2e4.\\n6. \\uc218\\uc8fc\\uc0c1\\ud669\\n(\\ub2e8\\uc704 : \\ud1a4, \\uc6d0)\\n\\ud488\\ubaa9\\n\\uc218\\uc8fc\\n\\uc77c\\uc790\\n\\ub0a9\\uae30\\n\\uc218\\uc8fc\\ucd1d\\uc561\\n\\uae30\\ub0a9\\ud488\\uc561\\n\\uc218\\uc8fc\\uc794\\uace0\\n\\uc218\\ub7c9\\n\\uae08\\uc561\\n\\uc218\\ub7c9\\n\\uae08\\uc561\\n\\uc218\\ub7c9\\n\\uae08\\uc561\\n\\ucca0\\uadfc \\ub610\\ub294 \\uac15\\ucca0\\ubd09\\n2018.03.26\\n2020.03.25\\n280,000\\n193,026,271,620\\n280,000\\n193,026,271,620\\n0\\n0\\n\\ud569 \\uacc4\\n280,000\\n193,026,271,620\\n280,000\\n193,026,271,620\\n0\\n0\\n7. \\uc2dc\\uc7a5\\uc704\\ud5d8\\uacfc \\uc704\\ud5d8\\uad00\\ub9ac\\n\\uac00. \\uc7ac\\ubb34\\uc704\\ud5d8\\uc694\\uc18c\\n\\uc5f0\\uacb0\\ud68c\\uc0ac\\ub294 \\uc5ec\\ub7ec \\ud65c\\ub3d9\\uc73c\\ub85c \\uc778\\ud558\\uc5ec \\uc2dc\\uc7a5\\uc704\\ud5d8(\\ud658\\uc704\\ud5d8, \\uacf5\\uc815\\uac00\\uce58\\uc774\\uc790\\uc728\\uc704\\ud5d8, \\ud604\\uae08\\ud750\\ub984\\uc774\\uc790\\uc728\\uc704\\ud5d8 \\ubc0f \\uac00\\uaca9\\uc704\\ud5d8), \\uc2e0\\uc6a9\\uc704\\ud5d8 \\ubc0f \\uc720\\ub3d9\\uc131 \\uc704\\ud5d8\\uacfc \\uac19\\uc740 \\ub2e4\\uc591\\ud55c \\uae08\\uc735 \\uc704\\ud5d8\\uc5d0 \\ub178\\ucd9c\\ub418\\uc5b4 \\uc788\\uc2b5\\ub2c8\\ub2e4.\\n\\uc5f0\\uacb0\\ud68c\\uc0ac\\uc758 \\uc804\\ubc18\\uc801\\uc778 \\uc704\\ud5d8\\uad00\\ub9ac\\uc815\\ucc45\\uc740 \\uae08\\uc735\\uc2dc\\uc7a5\\uc758 \\uc608\\uce21\\ubd88\\uac00\\ub2a5\\uc131\\uc5d0 \\ucd08\\uc810\\uc744 \\ub9de\\ucd94\\uace0 \\uc788\\uc73c\\uba70 \\uc7ac\\ubb34\\uc131\\uacfc\\uc5d0 \\uc7a0\\uc7ac\\uc801\\uc73c\\ub85c \\ubd88\\ub9ac\\ud560 \\uc218 \\uc788\\ub294 \\ud6a8\\uacfc\\ub97c \\ucd5c\\uc18c\\ud654\\ud558\\ub294\\ub370 \\uc911\\uc810\\uc744 \\ub450\\uace0 \\uc788\\uc2b5\\ub2c8\\ub2e4. \\uc5f0\\uacb0\\ud68c\\uc0ac\\ub294 \\ud2b9\\uc815 \\uc704\\ud5d8\\uc744 \\ud68c\\ud53c\\ud558\\uae30 \\uc704\\ud574 \\ud30c\\uc0dd\\uc0c1\\ud488\\uc744 \\uc774\\uc6a9\\ud558\\uace0 \\uc788\\uc2b5\\ub2c8\\ub2e4.\\n\\uc704\\ud5d8\\uad00\\ub9ac\\ub294 \\uc774\\uc0ac\\ud68c\\uc5d0\\uc11c \\uc2b9\\uc778\\ud55c \\uc815\\ucc45\\uc5d0 \\ub530\\ub77c \\uc790\\uae08\\ubd80\\uc11c\\uc5d0 \\uc758\\ud574 \\uc774\\ub8e8\\uc5b4\\uc9c0\\uace0 \\uc788\\uc2b5\\ub2c8\\ub2e4. \\uc5f0\\uacb0\\ud68c\\uc0ac \\uc790\\uae08\\ud300\\uc740 \\uc5f0\\uacb0\\ud68c\\uc0ac\\uc758 \\ud604\\uc5c5\\ubd80\\uc11c\\ub4e4\\uacfc \\uae34\\ubc00\\ud788 \\ud611\\ub825\\ud558\\uc5ec \\uc7ac\\ubb34\\uc704\\ud5d8\\uc744 \\uc2dd\\ubcc4, \\ud3c9\\uac00 \\ubc0f \\ud68c\\ud53c\\ud558\\uace0 \\uc788\\uc2b5\\ub2c8\\ub2e4. \\uc774\\uc0ac\\ud68c\\ub294 \\uc678\\ud658\\uc704\\ud5d8, \\uc774\\uc790\\uc728\\uc704\\ud5d8, \\uc2e0\\uc6a9\\uc704\\ud5d8, \\ud30c\\uc0dd\\uc0c1\\ud488\\uacfc \\ube44\\ud30c\\uc0dd\\uc0c1\\ud488\\uc758 \\uc774\\uc6a9 \\ubc0f \\uc720\\ub3d9\\uc131\\uc744 \\ucd08\\uacfc\\ud558\\ub294 \\ud22c\\uc790\\uc640 \\uac19\\uc740 \\ud2b9\\uc815 \\ubd84\\uc57c\\uc5d0 \\uad00\\ud55c \\ubb38\\uc11c\\ud654\\ub41c \\uc815\\ucc45\\ubfd0 \\uc544\\ub2c8\\ub77c, \\uc804\\ubc18\\uc801\\uc778 \\uc704\\ud5d8\\uad00\\ub9ac\\uc5d0 \\ub300\\ud55c \\ubb38\\uc11c\\ud654\\ub41c \\uc815\\ucc45\\uc744 \\uc81c\\uacf5\\ud569\\ub2c8\\ub2e4.\\n(1) \\uc2dc\\uc7a5\\uc704\\ud5d8\\n1) \\uc678\\ud658\\uc704\\ud5d8\\n\\uc5f0\\uacb0\\ud68c\\uc0ac\\ub294 \\ucca0\\uadfc \\ubc0f \\ube4c\\ub9bf \\uc218\\ucd9c\\uacfc \\ucca0\\uc2a4\\ud06c\\ub7a9, \\uc804\\uadf9\\ubd09 \\ub4f1 \\uc6d0\\uc7ac\\ub8cc\\uc758 \\uc218\\uc785 \\uac70\\ub798 \\ubc0f \\uc678\\ud654\\ucc28\\uc785\\uae08\\uacfc \\uad00\\ub828\\ud558\\uc5ec \\ub2e4\\uc591\\ud55c \\ud1b5\\ud654\\ub85c\\ubd80\\ud130\\uc758 \\ud658\\uc728\\ubcc0\\ub3d9\\uc704\\ud5d8\\uc5d0 \\ub178\\ucd9c\\ub418\\uc5b4 \\uc788\\uc2b5\\ub2c8\\ub2e4. \\uc5f0\\uacb0\\ud68c\\uc0ac\\uac00 \\ub178\\ucd9c\\ub418\\uc5b4 \\uc788\\ub294 \\uc8fc\\uc694 \\ud1b5\\ud654\\ub294 \\ub2ec\\ub7ec\\uc774\\uba70, \\uae30\\ud0c0\\uc758 \\ud1b5\\ud654\\ub85c\\ub294 \\uc77c\\ubcf8 \\uc5d4\\ud654, \\uc720\\ub85c\\ud654 \\ub4f1\\uc774 \\uc788\\uc2b5\\ub2c8\\ub2e4.\\n\\uc5f0\\uacb0\\ud68c\\uc0ac\\ub294 \\uc678\\ud658\\uaddc\\uc815\\uc5d0 \\uc758\\ud574\\uc11c \\ud658\\uc728\\ubcc0\\ub3d9\\uc704\\ud5d8\\uc744 \\uad00\\ub9ac\\ud558\\uace0 \\uc788\\uc2b5\\ub2c8\\ub2e4. \\ud658\\uc728\\uad00\\ub9ac\\uc758 \\uae30\\ubcf8\\uc804\\ub7b5\\uc740 \\ud658\\uc728 \\uc601\\ud5a5\\uc73c\\ub85c \\uc778\\ud55c \\uc190\\uc775 \\ubcc0\\ub3d9\\uc131\\uc744 \\ucd95\\uc18c\\ud558\\ub294 \\uac83\\uc785\\ub2c8\\ub2e4.\\n\\ubcf4\\uace0\\uae30\\uac04\\uc885\\ub8cc\\uc77c \\ud604\\uc7ac \\uae30\\ub2a5\\ud1b5\\ud654 \\uc774\\uc678\\uc758 \\uc678\\ud654\\ub85c \\ud45c\\uc2dc\\ub41c \\ud654\\ud3d0\\uc131\\uc790\\uc0b0 \\ubc0f \\ubd80\\ucc44\\uc758 \\uc7a5\\ubd80\\uae08\\uc561\\uc740 \\ub2e4\\uc74c\\uacfc \\uac19\\uc2b5\\ub2c8\\ub2e4.\\n\\uad6c \\ubd84\\n2019. 12. 31\\n2018. 12. 31\\n\\uc678 \\ud654 \\uae08 \\uc561\\n\\uc6d0 \\ud654 \\uae08 \\uc561(\\ucc9c\\uc6d0)\\n\\uc678 \\ud654 \\uae08 \\uc561\\n\\uc6d0 \\ud654 \\uae08 \\uc561(\\ucc9c\\uc6d0)\\n\\uc790 \\uc0b0\\n\\ubd80 \\ucc44\\n\\uc790 \\uc0b0\\n\\ubd80 \\ucc44\\n\\uc790 \\uc0b0\\n\\ubd80 \\ucc44\\n\\uc790 \\uc0b0\\n\\ubd80 \\ucc44\\nUSD\\n11,208,946\\n3,532,964\\n12,977,717\\n4,090,466\\n18,905,454\\n11,347,965\\n21,138,188\\n12,688,160\\nJPY\\n16,317,148\\n513,976,568\\n173,528\\n5,465,987\\n419,489\\n147,998,070\\n4,250\\n1,499,487\\nEUR\\n391,859\\n422,453\\n508,409\\n548,103\\n438,274\\n-\\n560,623\\n-\\nSGD\\n12,491,077\\n2,319,907\\n10,724,214\\n1,991,756\\n32,508,572\\n2,484,678\\n26,601,114\\n2,033,162\\n\\ubcf4\\uace0\\uae30\\uac04\\uc885\\ub8cc\\uc77c \\ud604\\uc7ac \\ub2e4\\ub978 \\ubaa8\\ub4e0 \\ubcc0\\uc218\\uac00 \\uc77c\\uc815\\ud558\\uace0 \\uac01 \\uc678\\ud654\\uc5d0 \\ub300\\ud55c \\uae30\\ub2a5\\ud1b5\\ud654\\uc758 \\ud658\\uc728\\uc774 10% \\ubcc0\\ub3d9 \\uc2dc \\ud658\\uc728\\ubcc0\\ub3d9\\uc774 \\uc138\\uc804\\uc774\\uc775\\uc5d0 \\ubbf8\\uce58\\ub294 \\uc601\\ud5a5\\uc740 \\ub2e4\\uc74c\\uacfc \\uac19\\uc2b5\\ub2c8\\ub2e4(\\ub2e8\\uc704: \\ucc9c\\uc6d0).\\n\\uad6c \\ubd84\\n2019. 12. 31\\n2018. 12. 31\\n10% \\uc0c1\\uc2b9\\uc2dc\\n10% \\ud558\\ub77d\\uc2dc\\n10% \\uc0c1\\uc2b9\\uc2dc\\n10% \\ud558\\ub77d\\uc2dc\\nU S D\\n888,725\\n(888,725)\\n845,003\\n(845,003)\\nJ P Y\\n(529,246)\\n529,246\\n(149,524)\\n149,524\\nE U R\\n(3,969)\\n3,969\\n56,062\\n(56,062)\\nS G D\\n873,246\\n(873,246)\\n2,456,795\\n(2,456,795)\\n\\uacc4\\n1,228,756\\n(1,228,756)\\n3,208,368\\n(3,208,368)\\n\\uc0c1\\uae30 \\ubbfc\\uac10\\ub3c4 \\ubd84\\uc11d\\uc740 \\ubcf4\\uace0\\uae30\\uac04\\uc885\\ub8cc\\uc77c \\ud604\\uc7ac \\uae30\\ub2a5\\ud1b5\\ud654 \\uc774\\uc678\\uc758 \\uc678\\ud654\\ub85c \\ud45c\\uc2dc\\ub41c \\ud654\\ud3d0\\uc131 \\uc790\\uc0b0 \\ubc0f \\ubd80\\ucc44\\ub97c \\ub300\\uc0c1\\uc73c\\ub85c \\ud558\\uc600\\uc2b5\\ub2c8\\ub2e4.\\n2) \\uac00\\uaca9\\uc704\\ud5d8\\n\\uc5f0\\uacb0\\ud68c\\uc0ac\\ub294 \\uc5f0\\uacb0\\uc7ac\\ubb34\\uc0c1\\ud0dc\\ud45c\\uc0c1 \\uae30\\ud0c0\\ud3ec\\uad04\\uc190\\uc775-\\uacf5\\uc815\\uac00\\uce58 \\uae08\\uc735\\uc790\\uc0b0\\uc73c\\ub85c \\ubd84\\ub958\\ub418\\ub294 \\ud68c\\uc0ac \\ubcf4\\uc720\\uc9c0\\ubd84\\uc99d\\uad8c\\uc758 \\uac00\\uaca9\\uc704\\ud5d8\\uc5d0 \\ub178\\ucd9c\\ub418\\uc5b4 \\uc788\\uc2b5\\ub2c8\\ub2e4. \\ub610\\ud55c, \\uc5f0\\uacb0\\ud68c\\uc0ac\\uc5d0\\uc11c \\ubcf4\\uc720\\ud558\\uace0 \\uc788\\ub294 \\uc0c1\\uc7a5\\uc8fc\\uc2dd\\uc740 \\uacf5\\uac1c\\uc2dc\\uc7a5\\uc5d0\\uc11c \\uac70\\ub798\\ub418\\uace0 \\uc788\\uc73c\\uba70 KOSPI \\uc8fc\\uac00\\uc9c0\\uc218 \\ub610\\ub294 KOSDAQ \\uc8fc\\uac00\\uc9c0\\uc218 \\uc911 \\ud558\\ub098\\uc5d0 \\uc18d\\ud574 \\uc788\\uc2b5\\ub2c8\\ub2e4.\\n\\uc774 \\ub450\\uac00\\uc9c0 \\uc8fc\\uac00\\uc9c0\\uc218\\uc758 \\uc0c1\\uc2b9 \\ub610\\ub294 \\ud558\\ub77d\\uc774 \\uc5f0\\uacb0\\ud68c\\uc0ac\\uc758 \\ub2f9\\uae30 \\uc138\\ud6c4\\uc774\\uc775 \\ubc0f \\uc790\\ubcf8\\uc5d0 \\ubbf8\\uce58\\ub294\\uc601\\ud5a5\\uc740 \\uc544\\ub798 \\ud45c\\uc640 \\uac19\\uc2b5\\ub2c8\\ub2e4. \\uc774 \\ubd84\\uc11d\\uc740 \\ub2e4\\ub978 \\ubcc0\\uc218\\ub4e4\\uc740 \\uc77c\\uc815\\ud558\\uba70 \\uc5f0\\uacb0\\ud68c\\uc0ac\\uc758 \\uc9c0\\ubd84\\uc0c1\\ud488\\uc740 \\uacfc\\uac70 \\ud574\\ub2f9 \\uc9c0\\uc218\\uc640\\uc758 \\uc0c1\\uad00\\uad00\\uacc4\\uc5d0 \\ub530\\ub77c \\uc6c0\\uc9c1\\uc778\\ub2e4\\ub294 \\uac00\\uc815\\ud558\\uc5d0 \\uc8fc\\uac00\\uc9c0\\uc218\\uac00 5% \\uc99d\\uac00 \\ub610\\ub294 \\uac10\\uc18c\\ud55c \\uacbd\\uc6b0\\ub97c \\ubd84\\uc11d\\ud55c \\uac83\\uc785\\ub2c8\\ub2e4(\\ub2e8\\uc704: \\ucc9c\\uc6d0).\\n\\uc9c0 \\uc218\\n\\uc138\\ud6c4\\uc774\\uc775\\uc5d0 \\ub300\\ud55c \\uc601\\ud5a5\\n\\uc790\\ubcf8\\uc5d0 \\ub300\\ud55c \\uc601\\ud5a5\\n2019. 12. 31\\n2018. 12. 31\\n2019. 12. 31\\n2018. 12. 31\\nKOSPI/KOSDAQ\\n-\\n-\\n66,649\\n154,880\\n3) \\uc774\\uc790\\uc728 \\uc704\\ud5d8\\n\\uc5f0\\uacb0\\ud68c\\uc0ac\\uc758 \\uc774\\uc790\\uc728 \\uc704\\ud5d8\\uc740 \\ubbf8\\ub798 \\uc2dc\\uc7a5\\uc774\\uc790\\uc728 \\ubcc0\\ub3d9\\uc5d0 \\ub530\\ub77c \\uc608\\uae08 \\ub610\\ub294 \\ucc28\\uc785\\uae08 \\ub4f1\\uc5d0\\uc11c \\ubc1c\\uc0dd\\ud558\\ub294 \\uc774\\uc790\\uc218\\uc775 \\ubc0f \\uc774\\uc790\\ube44\\uc6a9\\uc774 \\ubcc0\\ub3d9\\ub420 \\uc704\\ud5d8\\uc73c\\ub85c\\uc11c \\uc774\\ub294 \\uc8fc\\ub85c \\ubcc0\\ub3d9\\uae08\\ub9ac\\ubd80 \\uc870\\uac74\\uc758 \\ucc28\\uc785\\uae08\\uacfc \\uc608\\uae08\\uc5d0\\uc11c \\ubc1c\\uc0dd\\ud558\\uace0 \\uc788\\uc2b5\\ub2c8\\ub2e4. \\uc5f0\\uacb0\\ud68c\\uc0ac\\uc758 \\uc774\\uc790\\uc728\\uad00\\ub9ac\\uc758 \\ubaa9\\ud45c\\ub294 \\uc774\\uc790\\uc728 \\ubcc0\\ub3d9\\uc73c\\ub85c \\uc778\\ud55c \\ubd88\\ud655\\uc2e4\\uc131\\uc744 \\ucd5c\\uc18c\\ud654\\ud558\\uba74\\uc11c \\uc21c\\uc774\\uc790\\uc758 \\uc774\\uc775 \\uc99d\\uac00 \\ubc0f \\uc190\\uc2e4 \\uac10\\uc18c\\ub97c \\ucd94\\uad6c\\ud568\\uc73c\\ub85c\\uc11c \\uc8fc\\uc8fc\\uc758 \\uc774\\uc775\\uc744 \\uadf9\\ub300\\ud654\\ud558\\ub294\\ub370 \\uc788\\uc2b5\\ub2c8\\ub2e4.\\n\\uc5f0\\uacb0\\ud68c\\uc0ac\\uc758 \\ucc28\\uc785\\uae08\\uacfc \\ucc44\\uad8c\\uc740 \\uc0c1\\uac01\\ud6c4\\uc6d0\\uac00\\ub85c \\uce21\\uc815\\ub429\\ub2c8\\ub2e4. \\ucc28\\uc785\\uae08 \\uc911 \\uc774\\uc790\\uc728\\uc774 \\uc8fc\\uae30\\uc801\\uc73c\\ub85c \\uc7ac\\uc124\\uc815\\ub418\\ub294 \\uacc4\\uc57d\\uc758 \\uacbd\\uc6b0\\uc5d0\\ub294 \\uad00\\ub828\\ud558\\uc5ec \\uc2dc\\uc7a5\\uc774\\uc790\\uc728 \\ubcc0\\ub3d9\\uc704\\ud5d8\\uc5d0 \\ub178\\ucd9c\\ub418\\uc5b4 \\uc788\\uc2b5\\ub2c8\\ub2e4.\\n\\uc5f0\\uacb0\\ud68c\\uc0ac\\uc758 \\ucc28\\uc785\\uae08\\uacfc \\uad00\\ub828\\ub41c \\uc774\\uc790\\uc728\\uc704\\ud5d8 \\ubc0f \\ubcf4\\uace0\\uae30\\uac04 \\ub9d0 \\ud604\\uc7ac \\uacc4\\uc57d\\uc0c1 \\uc774\\uc790\\uc728 \\uc7ac\\uc124\\uc815\\uc77c\\uc740 \\ub2e4\\uc74c\\uacfc \\uac19\\uc2b5\\ub2c8\\ub2e4(\\ub2e8\\uc704 : \\ucc9c\\uc6d0).\\n\\uc9c0\\uc218\\n\\ub2f9\\uae30\\n\\uc804\\uae30\\n\\uae08\\uc561\\n\\ube44\\uc728\\n\\uae08\\uc561\\n\\ube44\\uc728\\n\\ubcc0\\ub3d9\\uae08\\ub9ac \\ucc28\\uc785\\uae08\\n8,748,590\\n22%\\n13,394,823\\n25%\\n\\uae30\\ud0c0 \\ucc28\\uc785\\uae08 - \\uc774\\uc790\\uc728 \\uc7ac\\uc124\\uc815\\uc77c(*):\\n6\\uac1c\\uc6d4 \\ubbf8\\ub9cc\\n1,759,000\\n4%\\n4,956,070\\n9%\\n6-12\\uac1c\\uc6d4\\n16,454,500\\n41%\\n19,102,680\\n35%\\n1-5\\ub144\\n11,600,000\\n29%\\n14,838,420\\n27%\\n5\\ub144 \\ucd08\\uacfc\\n1,250,000\\n3%\\n2,250,000\\n4%\\n\\ud569 \\uacc4\\n39,812,090\\n100%\\n54,541,993\\n100%\\n(*) \\uc774\\uc790\\uc728 \\uc7ac\\uc124\\uc815\\uc77c\\uc740 \\uacc4\\uc57d\\uc0c1 \\uc774\\uc790\\uc728\\uc774 \\uc7ac\\uc124\\uc815\\ub418\\ub294 \\uc2dc\\uc810\\uacfc \\uacc4\\uc57d \\ub9cc\\uae30 \\uc911 \\uc774\\ub978 \\uc2dc\\uc810\\n\\ub9cc\\uae30\\ubcc4 \\ubd84\\uc11d\\uc740 \\uc544\\ub798 \\uc720\\ub3d9\\uc131 \\uad00\\ub828 \\uc8fc\\uc11d\\uc0ac\\ud56d\\uc5d0 \\ud3ec\\ud568\\ub418\\uc5b4 \\uc788\\uc2b5\\ub2c8\\ub2e4. \\uc704\\uc758 \\ucc28\\uc785\\uae08 \\ube44\\uc728\\uc740\\uc804\\uccb4 \\ucc28\\uc785\\uae08 \\uc911 \\ubcc0\\ub3d9\\uae08\\ub9ac\\uc5d0 \\ub178\\ucd9c\\ub41c \\ud574\\ub2f9 \\ucc28\\uc785\\uae08\\uc758 \\ube44\\uc728\\uc744 \\ub098\\ud0c0\\ub0c5\\ub2c8\\ub2e4.\\n\\ub098. \\ubbfc\\uac10\\ub3c4 \\ubd84\\uc11d\\n\\ubcf4\\uace0\\uae30\\uac04\\ub9d0 \\ud604\\uc7ac \\ub2e4\\ub978 \\ubaa8\\ub4e0 \\ubcc0\\uc218\\uac00 \\uc77c\\uc815\\ud558\\uace0 \\ubcc0\\ub3d9\\uae08\\ub9ac\\ucc28\\uc785\\uae08\\uc758 \\uc774\\uc790\\uc728\\uc758 \\ubcc0\\ub3d9\\uc2dc \\uc5f0\\uacb0\\ud68c\\uc0ac\\uc758 \\uc21c\\uc774\\uc775\\uc5d0 \\ubbf8\\uce58\\ub294 \\uc601\\ud5a5\\uc740 \\uc544\\ub798 \\ud45c\\uc640 \\uac19\\uc2b5\\ub2c8\\ub2e4(\\ub2e8\\uc704 : \\ucc9c\\uc6d0).\\n\\uc9c0\\uc218\\n\\uc21c\\uc774\\uc775\\uc5d0 \\ub300\\ud55c \\uc601\\ud5a5\\n\\ub2f9\\uae30\\n\\uc804\\uae30\\n1% \\uc0c1\\uc2b9 \\uc2dc\\n(87,486)\\n(133,948)\\n1% \\ud558\\ub77d \\uc2dc\\n87,486\\n133,948\\n(2) \\uc2e0\\uc6a9\\uc704\\ud5d8\\n\\uc2e0\\uc6a9\\uc704\\ud5d8\\uc740 \\uae30\\uc5c5 \\ubc0f \\uac1c\\uc778 \\uace0\\uac1d\\uc5d0 \\ub300\\ud55c \\uc2e0\\uc6a9\\uac70\\ub798 \\ubc0f \\ucc44\\uad8c \\ubfd0 \\uc544\\ub2c8\\ub77c \\ud604\\uae08\\uc131\\uc790\\uc0b0, \\ucc44\\ubb34\\uc0c1\\ud488\\uc758 \\uacc4\\uc57d \\ud604\\uae08\\ud750\\ub984, \\uc720\\ub9ac\\ud55c \\ud30c\\uc0dd\\uc0c1\\ud488 \\ubc0f \\uc608\\uce58\\uae08 \\ub4f1\\uc5d0\\uc11c\\ub3c4 \\ubc1c\\uc0dd\\ud569\\ub2c8\\ub2e4.\\n1) \\uc704\\ud5d8\\uad00\\ub9ac\\n\\uae30\\uc5c5 \\uace0\\uac1d\\uc758 \\uacbd\\uc6b0 \\uc678\\ubd80 \\uc2e0\\uc6a9\\ub4f1\\uae09\\uc744 \\ud655\\uc778\\ud560 \\uc218 \\uc788\\ub294 \\uacbd\\uc6b0 \\ub3d9 \\uc815\\ubcf4\\ub97c \\uc0ac\\uc6a9\\ud558\\uace0 \\uadf8 \\uc678\\uc758 \\uacbd\\uc6b0\\uc5d0\\ub294 \\ub0b4\\ubd80\\uc801\\uc73c\\ub85c \\uace0\\uac1d\\uc758 \\uc7ac\\ubb34\\uc0c1\\ud0dc\\uc640 \\uacfc\\uac70 \\uacbd\\ud5d8 \\ub4f1\\uc744 \\uadfc\\uac70\\ub85c \\uc2e0\\uc6a9\\ub4f1\\uae09\\uc744 \\ud3c9\\uac00\\ud569\\ub2c8\\ub2e4. \\uace0\\uac1d\\ubcc4 \\ud55c\\ub3c4\\ub294 \\ub0b4\\ubd80 \\ubc0f \\uc678\\ubd80 \\uc2e0\\uc6a9\\ub4f1\\uae09\\uc5d0 \\ub530\\ub77c \\uc774\\uc0ac\\ud68c\\uac00 \\uc815\\ud55c \\ud55c\\ub3c4\\ub97c \\uc801\\uc6a9\\ud569\\ub2c8\\ub2e4. \\uacbd\\uc601\\uc9c4\\uc740 \\uc774\\ub7ec\\ud55c \\uace0\\uac1d\\ubcc4 \\ud55c\\ub3c4\\uc758 \\uc900\\uc218 \\uc5ec\\ubd80\\ub97c \\uc815\\uae30\\uc801\\uc73c\\ub85c \\uac80\\ud1a0\\ud569\\ub2c8\\ub2e4. \\uac1c\\uc778 \\uace0\\uac1d\\uc5d0 \\ub300\\ud55c \\ub9e4\\ucd9c\\uc740 \\ud604\\uae08 \\ub610\\ub294 \\ud5c8\\uc6a9\\ub41c \\uc2e0\\uc6a9\\uce74\\ub4dc \\uac70\\ub798\\ub9cc\\uc744 \\ud5c8\\uc6a9\\ud558\\uc5ec \\uc2e0\\uc6a9\\uc704\\ud5d8\\uc744 \\ucd5c\\uc18c\\ud654\\ud569\\ub2c8\\ub2e4.\\n\\uc5f0\\uacb0\\ud68c\\uc0ac\\uc758 \\uc2e0\\uc6a9\\uc704\\ud5d8\\uc740 \\uac1c\\ubcc4 \\uace0\\uac1d, \\uc0b0\\uc5c5, \\uc9c0\\uc5ed \\ub4f1\\uc5d0 \\ub300\\ud55c \\uc720\\uc758\\uc801\\uc778 \\uc9d1\\uc911\\uc740 \\uc5c6\\uc2b5\\ub2c8\\ub2e4.\\n\\uc5f0\\uacb0\\ud68c\\uc0ac\\uac00 \\ubcf4\\uc720\\ud558\\ub294 \\ucc44\\ubb34\\uc0c1\\ud488\\uc740 \\ubaa8\\ub450 \\ub0ae\\uc740 \\uc2e0\\uc6a9\\uc704\\ud5d8\\uc758 \\uc0c1\\ud488\\uc5d0 \\ud574\\ub2f9\\ud569\\ub2c8\\ub2e4. \\uc774\\ub7ec\\ud55c \\ucc44\\ubb34\\uc0c1\\ud488\\ub4e4\\uc5d0 \\ub300\\ud574\\uc11c\\ub294 \\uc2e0\\uc6a9\\ub4f1\\uae09\\uc744 \\ubaa8\\ub2c8\\ud130\\ub9c1\\ud558\\uc5ec \\uc2e0\\uc6a9\\uc704\\ud5d8\\uc758 \\ud558\\ub77d\\uc744 \\ud3c9\\uac00\\ud558\\uace0 \\uc788\\uc2b5\\ub2c8\\ub2e4.\\n2) \\uc2e0\\uc6a9\\ubcf4\\uac15\\n\\uc77c\\ubd80 \\ub9e4\\ucd9c\\ucc44\\uad8c\\uc5d0 \\ub300\\ud574\\uc11c\\ub294 \\uac70\\ub798\\uc0c1\\ub300\\ubc29\\uc774 \\uacc4\\uc57d\\uc744 \\ubd88\\uc774\\ud589\\ud558\\ub294 \\uacbd\\uc6b0 \\uc774\\ud589\\uc744 \\uc694\\uad6c\\ud560 \\uc218 \\uc788\\ub294 \\ubcf4\\uc99d \\ub610\\ub294 \\uc2e0\\uc6a9\\uc7a5 \\ub4f1\\uc758 \\uc2e0\\uc6a9\\ubcf4\\uac15\\uc744 \\uc81c\\uacf5\\ubc1b\\uace0 \\uc788\\uc2b5\\ub2c8\\ub2e4.\\n3) \\uc2e0\\uc6a9\\uc704\\ud5d8\\uc758 \\uc720\\uc758\\uc801 \\uc99d\\uac00\\n\\ucd5c\\ucd08 \\uc778\\uc2dd \\ud6c4\\uc5d0 \\uae08\\uc735\\uc0c1\\ud488\\uc758 \\uc2e0\\uc6a9\\uc704\\ud5d8\\uc774 \\uc720\\uc758\\uc801\\uc73c\\ub85c \\uc99d\\uac00\\ud558\\uc600\\ub294\\uc9c0\\ub97c \\ud3c9\\uac00\\ud560 \\ub54c \\ubcf4\\uace0\\uae30\\uac04 \\ub9d0\\uc758 \\uae08\\uc735\\uc0c1\\ud488\\uc5d0 \\ub300\\ud55c \\ucc44\\ubb34\\ubd88\\uc774\\ud589 \\ubc1c\\uc0dd\\uc704\\ud5d8\\uc744 \\ucd5c\\ucd08 \\uc778\\uc2dd\\uc77c\\uc758 \\ucc44\\ubb34\\ubd88\\uc774\\ud589 \\ubc1c\\uc0dd\\uc704\\ud5d8\\uacfc \\ube44\\uad50\\ud569\\ub2c8\\ub2e4. \\uc774\\ub7ec\\ud55c \\ud3c9\\uac00\\ub97c \\ud558\\uae30 \\uc704\\ud574 \\uacfc\\ub3c4\\ud55c \\uc6d0\\uac00\\ub098 \\ub178\\ub825 \\uc5c6\\uc774 \\uc774\\uc6a9\\ud560 \\uc218 \\uc788\\ub294 \\uacfc\\uac70 \\uacbd\\ud5d8 \\ubc0f \\ubbf8\\ub798\\uc804\\ub9dd \\uc815\\ubcf4\\ub97c \\ud3ec\\ud568\\ud558\\uc5ec \\ud569\\ub9ac\\uc801\\uc774\\uace0 \\ub4b7\\ubc1b\\uce68\\ub420 \\uc218 \\uc788\\ub294 \\uc591\\uc801\\u318d\\uc9c8\\uc801\\uc815\\ubcf4\\ub97c \\ubaa8\\ub450 \\uace0\\ub824\\ud569\\ub2c8\\ub2e4. \\uc5f0\\uacb0\\ud68c\\uc0ac\\uac00 \\uc774\\uc6a9\\ud558\\ub294 \\ubbf8\\ub798\\uc804\\ub9dd \\uc815\\ubcf4\\uc5d0\\ub294 \\uacbd\\uc81c\\uc804\\ubb38\\uac00 \\ubcf4\\uace0\\uc11c\\uc640 \\uc7ac\\ubb34\\ubd84\\uc11d\\uac00, \\uc815\\ubd80\\uae30\\uad00, \\uad00\\ub828 \\uc2f1\\ud06c\\ud0f1\\ud06c \\ubc0f \\uc720\\uc0ac\\uae30\\uad00 \\ub4f1\\uc5d0\\uc11c \\uc5bb\\uc740 \\uc5f0\\uacb0\\ud68c\\uc0ac\\uc758 \\ucc28\\uc785\\uc790\\uac00 \\uc601\\uc704\\ud558\\ub294 \\uc0b0\\uc5c5\\uc758 \\ubbf8\\ub798\\uc804\\ub9dd\\ubfd0 \\ub9cc \\uc544\\ub2c8\\ub77c \\uc5f0\\uacb0\\ud68c\\uc0ac\\uc758 \\ud575\\uc2ec\\uc601\\uc5c5\\uacfc \\uad00\\ub828\\ub41c \\ud604\\uc7ac \\ubc0f \\ubbf8\\ub798 \\uacbd\\uc81c\\uc815\\ubcf4\\uc5d0 \\ub300\\ud55c \\ub2e4\\uc591\\ud55c \\uc678\\ubd80\\uc790\\ub8cc\\ub97c \\uace0\\ub824\\ud558\\ub294 \\uac83\\uc774 \\ud3ec\\ud568\\ub429\\ub2c8\\ub2e4.\\n\\ud2b9\\ud788 \\ucd5c\\ucd08 \\uc778\\uc2dd \\ud6c4\\uc5d0 \\uc2e0\\uc6a9\\uc704\\ud5d8\\uc774 \\uc720\\uc758\\uc801\\uc73c\\ub85c \\uc99d\\uac00\\ud558\\uc600\\ub294\\uc9c0\\ub97c \\ud3c9\\uac00\\ud560 \\ub54c \\ub2e4\\uc74c\\uc758 \\uc0ac\\ud56d\\uc744 \\uace0\\ub824\\ud558\\uace0 \\uc788\\uc2b5\\ub2c8\\ub2e4.\\n- \\uae08\\uc735\\uc0c1\\ud488\\uc758 (\\uc774\\uc6a9\\ud560 \\uc218 \\uc788\\ub294 \\uacbd\\uc6b0) \\uc678\\ubd80 \\ub610\\ub294 \\ub0b4\\ubd80 \\uc2e0\\uc6a9\\ub4f1\\uae09\\uc758 \\uc2e4\\uc81c \\ub610\\ub294 \\uc608\\uc0c1\\ub418\\ub294 \\uc720\\uc758\\uc801\\uc778 \\uc545\\ud654\\n- \\ud2b9\\uc815 \\uae08\\uc735\\uc0c1\\ud488\\uc758 \\uc2e0\\uc6a9\\uc704\\ud5d8\\uc5d0 \\ub300\\ud55c \\uc678\\ubd80 \\uc2dc\\uc7a5\\uc9c0\\ud45c\\uc758 \\uc720\\uc758\\uc801\\uc778 \\uc545\\ud654. \\uc608\\ub97c \\ub4e4\\uc5b4 \\uc2e0\\uc6a9\\uc2a4\\ud504\\ub808\\ub4dc, \\ucc28\\uc785\\uc790\\uc5d0 \\ub300\\ud55c \\uc2e0\\uc6a9\\ubd80\\ub3c4\\uc2a4\\uc651\\uac00\\uaca9\\uc758 \\uc720\\uc758\\uc801\\uc778 \\uc99d\\uac00 \\ub610\\ub294 \\uae08\\uc735\\uc790\\uc0b0\\uc758 \\uacf5\\uc815\\uac00\\uce58\\uac00 \\uc0c1\\uac01\\ud6c4\\uc6d0\\uac00\\uc5d0 \\ubbf8\\ub2ec\\ud558\\ub294 \\uae30\\uac04\\uc774\\ub098 \\uc815\\ub3c4\\n- \\ucc28\\uc785\\uc790\\uc758 \\uc601\\uc5c5\\uc131\\uacfc\\uc758 \\uc2e4\\uc81c \\ub610\\ub294 \\uc608\\uc0c1\\ub418\\ub294 \\uc720\\uc758\\uc801\\uc778 \\uc545\\ud654\\n- \\uac19\\uc740 \\ucc28\\uc785\\uc790\\uc758 \\uadf8 \\ubc16\\uc758 \\uae08\\uc735\\uc0c1\\ud488\\uc5d0 \\ub300\\ud55c \\uc2e0\\uc6a9\\uc704\\ud5d8\\uc758 \\uc720\\uc758\\uc801\\uc778 \\uc99d\\uac00\\n- \\ucc28\\uc785\\uc790\\uc758 \\uaddc\\uc81c\\uc0c1\\u318d\\uacbd\\uc81c\\uc801\\u318d\\uae30\\uc220\\uc801 \\ud658\\uacbd\\uc758 \\uc2e4\\uc81c \\ub610\\ub294 \\uc608\\uc0c1\\ub418\\ub294 \\uc720\\uc758\\uc801\\uc778 \\ubd88\\ub9ac\\ud55c \\ubcc0\\ub3d9\\uc73c\\ub85c\\uc11c \\ucc44\\ubb34\\ub97c \\uc9c0\\uae09\\ud560 \\uc218 \\uc788\\ub294 \\ucc28\\uc785\\uc790\\uc758 \\ub2a5\\ub825\\uc5d0 \\uc720\\uc758\\uc801\\uc778 \\ud558\\ub77d\\uc744 \\uc77c\\uc73c\\ud0a4\\ub294 \\ubcc0\\ub3d9\\n\\uc774\\ub7ec\\ud55c \\ud3c9\\uac00 \\uacb0\\uacfc\\uc640 \\uc0c1\\uad00 \\uc5c6\\uc774 \\uacc4\\uc57d\\uc0c1 \\uc9c0\\uae09\\uc774 30\\uc77c\\uc744 \\ucd08\\uacfc\\ud558\\uc5ec \\uc5f0\\uccb4\\ub418\\ub294 \\uacbd\\uc6b0\\uc5d0\\ub294 \\uc774\\ub97c \\ubc18\\uc99d\\ud558\\ub294 \\ud569\\ub9ac\\uc801\\uc774\\uace0 \\ub4b7\\ubc1b\\uce68\\ub420 \\uc218 \\uc788\\ub294 \\uc815\\ubcf4\\uac00 \\uc5c6\\ub2e4\\uba74 \\uae08\\uc735\\uc0c1\\ud488\\uc758 \\uc2e0\\uc6a9\\uc704\\ud5d8\\uc774 \\ucd5c\\ucd08 \\uc778\\uc2dd \\uc774\\ud6c4 \\uc720\\uc758\\uc801\\uc73c\\ub85c \\uc99d\\uac00\\ud558\\uc600\\ub2e4\\uace0 \\uac04\\uc8fc\\ud569\\ub2c8\\ub2e4.\\n\\uc0c1\\uae30 \\uc0ac\\ud56d\\uc5d0\\ub3c4 \\ubd88\\uad6c\\ud558\\uace0 \\uc5f0\\uacb0\\ud68c\\uc0ac\\ub294 \\ubcf4\\uace0\\uae30\\uac04 \\ub9d0\\uc5d0 \\uae08\\uc735\\uc0c1\\ud488\\uc774 \\ub0ae\\uc740 \\uc2e0\\uc6a9\\uc704\\ud5d8\\uc744 \\uac16\\ub294\\ub2e4\\uace0 \\uacb0\\uc815\\ud558\\ub294 \\uacbd\\uc6b0\\uc5d0\\ub294 \\ud574\\ub2f9 \\uae08\\uc735\\uc0c1\\ud488\\uc758 \\uc2e0\\uc6a9\\uc704\\ud5d8\\uc774 \\uc720\\uc758\\uc801\\uc73c\\ub85c \\uc99d\\uac00\\ud558\\uc9c0 \\uc54a\\uc558\\ub2e4\\uace0 \\ubcf4\\uace0 \\uc788\\uc2b5\\ub2c8\\ub2e4. (1) \\uae08\\uc735\\uc0c1\\ud488\\uc758 \\ucc44\\ubb34\\ubd88\\uc774\\ud589 \\ubc1c\\uc0dd \\uc704\\ud5d8\\uc774 \\ub0ae\\uace0 (2) \\ub2e8\\uae30\\uc801\\uc73c\\ub85c \\ucc28\\uc785\\uc790\\uac00 \\uacc4\\uc57d\\uc0c1 \\ud604\\uae08\\ud750\\ub984 \\uc9c0\\uae09\\uc758\\ubb34\\ub97c \\uc774\\ud589\\ud560 \\uc218 \\uc788\\ub294 \\uac15\\ud55c \\ub2a5\\ub825\\uc744 \\uac16\\uace0 \\uc788\\uc73c\\uba70 (3) \\uc7a5\\uae30\\uc801\\uc73c\\ub85c\\ub294 \\uacbd\\uc81c \\ud658\\uacbd\\uacfc \\uc0ac\\uc5c5 \\ud658\\uacbd\\uc758 \\ubd88\\ub9ac\\ud55c \\ubcc0\\ud654 \\ub54c\\ubb38\\uc5d0 \\ucc28\\uc785\\uc790\\uac00 \\uacc4\\uc57d\\uc0c1 \\ud604\\uae08\\ud750\\ub984 \\uc9c0\\uae09\\uc758\\ubb34\\ub97c \\uc774\\ud589\\ud560 \\uc218 \\uc788\\ub294 \\ub2a5\\ub825\\uc774 \\uc57d\\ud574\\uc9c8 \\uc218\\ub3c4 \\uc788\\uc73c\\ub098 \\ubc18\\ub4dc\\uc2dc \\uc57d\\ud574\\uc9c0\\uc9c0\\ub294 \\uc54a\\ub294 \\uacbd\\uc6b0\\uc5d0\\uae08\\uc735\\uc0c1\\ud488\\uc774 \\ub0ae\\uc740 \\uc2e0\\uc6a9\\uc704\\ud5d8\\uc744 \\uac16\\ub294\\ub2e4\\uace0 \\uacb0\\uc815\\ud569\\ub2c8\\ub2e4.\\n\\uc5f0\\uacb0\\ud68c\\uc0ac\\ub294 \\uad6d\\uc81c\\uc801\\uc778 \\ud1b5\\ub150\\uc5d0 \\ub530\\ub77c \\uc678\\ubd80\\uc2e0\\uc6a9\\ub4f1\\uae09\\uc774 '\\ud22c\\uc790\\ub4f1\\uae09' \\uc5d0 \\ud574\\ub2f9\\ud558\\ub294 \\uae08\\uc735\\uc790\\uc0b0 \\ub610\\ub294\\uc678\\ubd80\\uc2e0\\uc6a9\\ub4f1\\uae09\\uc744 \\uc774\\uc6a9\\ud560 \\uc218 \\uc5c6\\ub294 \\uacbd\\uc6b0\\uc5d0 \\ub0b4\\ubd80\\ub4f1\\uae09\\uc774 '\\uc815\\uc0c1' \\uc5d0 \\ud574\\ub2f9\\ud558\\ub294 \\uae08\\uc735\\uc790\\uc0b0\\uc740 \\ub0ae\\uc740 \\uc2e0\\uc6a9\\uc704\\ud5d8\\uc744 \\uac16\\ub294\\ub2e4\\uace0 \\ud310\\ub2e8\\ud569\\ub2c8\\ub2e4. '\\uc815\\uc0c1' \\uc740 \\uac70\\ub798\\uc0c1\\ub300\\ubc29\\uc774 \\uacac\\uc2e4\\ud55c \\uc7ac\\ubb34\\uc0c1\\ud0dc\\ub97c \\uac00\\uc9c0\\uace0 \\uc788\\uc73c\\uba70 \\uc5f0\\uccb4\\ub41c \\uae08\\uc561\\uc774 \\uc5c6\\ub2e4\\ub294 \\uac83\\uc744 \\uc758\\ubbf8\\ud569\\ub2c8\\ub2e4.\\n\\uae08\\uc735\\ubcf4\\uc99d\\uacc4\\uc57d\\uc758 \\uacbd\\uc6b0 \\uc5f0\\uacb0\\ud68c\\uc0ac\\uac00 \\ucde8\\uc18c \\ubd88\\uac00\\ub2a5\\ud55c \\uc57d\\uc815\\uc758 \\ud68c\\uc0ac\\uc790\\uac00 \\ub41c \\ub0a0\\uc774 \\uc190\\uc0c1 \\ubaa9\\uc801\\uc758 \\uae08\\uc735\\uc0c1\\ud488\\uc744 \\ud3c9\\uac00\\ud558\\uae30 \\uc704\\ud55c \\ubaa9\\uc801\\uc758 \\ucd5c\\ucd08 \\uc778\\uc2dd\\uc77c\\uc785\\ub2c8\\ub2e4. \\uae08\\uc735\\ubcf4\\uc99d\\uacc4\\uc57d\\uc758 \\ucd5c\\ucd08 \\uc778\\uc2dd \\uc774\\ud6c4 \\uc2e0\\uc6a9\\uc704\\ud5d8\\uc774 \\uc720\\uc758\\uc801\\uc73c\\ub85c \\uc99d\\uac00\\ud558\\uc600\\ub294\\uc9c0\\ub97c \\ud3c9\\uac00\\ud560 \\ub54c \\ud2b9\\uc815 \\ucc44\\ubb34\\uc790\\uac00 \\uacc4\\uc57d\\uc744 \\uc774\\ud589\\ud558\\uc9c0 \\ubabb\\ud560 \\uc704\\ud5d8\\uc758 \\ubcc0\\ub3d9\\uc744 \\uace0\\ub824\\ud569\\ub2c8\\ub2e4.\\n\\uc5f0\\uacb0\\ud68c\\uc0ac\\ub294 \\uc2e0\\uc6a9\\uc704\\ud5d8\\uc774 \\uc720\\uc758\\uc801\\uc73c\\ub85c \\uc99d\\uac00\\ud558\\uc600\\ub294\\uc9c0\\ub97c \\ud310\\ub2e8\\ud558\\uae30 \\uc704\\ud574 \\uc0ac\\uc6a9\\ub418\\ub294 \\uc694\\uac74\\uc758 \\ud6a8\\uacfc\\uc131\\uc744 \\uc815\\uae30\\uc801\\uc73c\\ub85c \\uac80\\ud1a0\\ud558\\uace0 \\uc788\\uc73c\\uba70, \\uadf8\\ub7ec\\ud55c \\uc694\\uac74\\uc774 \\uc5f0\\uccb4\\uac00 \\ub418\\uae30 \\uc804\\uc5d0 \\uc2e0\\uc6a9\\uc704\\ud5d8\\uc774 \\uc720\\uc758\\uc801\\uc73c\\ub85c \\uc99d\\uac00\\ud558\\uc600\\ub294\\uc9c0\\ub97c \\ud310\\ub2e8\\ud560 \\uc218 \\uc788\\ub2e4\\ub294 \\ud655\\uc2e0\\uc744 \\uac16\\ub294\\ub370 \\uc801\\uc808\\ud558\\ub3c4\\ub85d \\uadf8\\ub7ec\\ud55c \\uc694\\uac74\\uc744 \\uc218\\uc815\\ud558\\uace0 \\uc788\\uc2b5\\ub2c8\\ub2e4.\\n3) \\uae08\\uc735\\uc790\\uc0b0\\uc758 \\uc190\\uc0c1\\n\\uc5f0\\uacb0\\ud68c\\uc0ac\\ub294 \\uae30\\ub300\\uc2e0\\uc6a9\\uc190\\uc2e4 \\ubaa8\\ud615\\uc774 \\uc801\\uc6a9\\ub418\\ub294 \\ub2e4\\uc74c\\uc758 \\uae08\\uc735\\uc790\\uc0b0\\uc744 \\ubcf4\\uc720\\ud558\\uace0 \\uc788\\uc2b5\\ub2c8\\ub2e4.\\n\\u00b7 \\uc7ac\\ud654 \\ubc0f \\uc6a9\\uc5ed\\uc758 \\uc81c\\uacf5\\uc5d0 \\ub530\\ub978 \\ub9e4\\ucd9c\\ucc44\\uad8c\\n\\u00b7 \\uc0c1\\uac01\\ud6c4\\uc6d0\\uac00\\ub85c \\uce21\\uc815\\ud558\\ub294 \\uae30\\ud0c0 \\uae08\\uc735\\uc790\\uc0b0\\n\\ud604\\uae08\\uc131\\uc790\\uc0b0\\ub3c4 \\uc190\\uc0c1 \\uaddc\\uc815\\uc758 \\uc801\\uc6a9\\ub300\\uc0c1\\uc5d0 \\ud3ec\\ud568\\ub418\\ub098 \\uc2dd\\ubcc4\\ub41c \\uae30\\ub300\\uc2e0\\uc6a9\\uc190\\uc2e4\\uc740 \\uc720\\uc758\\uc801\\uc774\\uc9c0 \\uc54a\\uc2b5\\ub2c8\\ub2e4.\\n(\\uac00) \\ub9e4\\ucd9c\\ucc44\\uad8c\\n\\uc5f0\\uacb0\\ud68c\\uc0ac\\ub294 \\ub9e4\\ucd9c\\ucc44\\uad8c\\uc5d0 \\ub300\\ud574 \\uc804\\uccb4 \\uae30\\uac04 \\uae30\\ub300\\uc2e0\\uc6a9\\uc190\\uc2e4\\uc744 \\uc190\\uc2e4\\ucda9\\ub2f9\\uae08\\uc73c\\ub85c \\uc778\\uc2dd\\ud558\\ub294 \\uac04\\ud3b8\\ubc95\\uc744 \\uc801\\uc6a9\\ud569\\ub2c8\\ub2e4.\\n\\uae30\\ub300\\uc2e0\\uc6a9\\uc190\\uc2e4\\uc744 \\uce21\\uc815\\ud558\\uae30 \\uc704\\ud574 \\ub9e4\\ucd9c\\ucc44\\uad8c\\uc740 \\uc2e0\\uc6a9\\uc704\\ud5d8 \\ud2b9\\uc131\\uacfc \\uc5f0\\uccb4\\uc77c\\uc744 \\uae30\\uc900\\uc73c\\ub85c \\uad6c\\ubd84\\ud558\\uc600\\uc2b5\\ub2c8\\ub2e4.\\n\\uae30\\ub300\\uc2e0\\uc6a9\\uc190\\uc2e4\\uc728\\uc740 2019\\ub144 12\\uc6d4 31\\uc77c \\ubc0f 2018\\ub144 12\\uc6d4 31\\uc77c \\uae30\\uc900\\uc73c\\ub85c\\ubd80\\ud130 \\uac01 36\\uac1c\\uc6d4 \\ub3d9\\uc548\\uc758 \\ub9e4\\ucd9c\\uacfc \\uad00\\ub828\\ub41c \\uc9c0\\ubd88 \\uc815\\ubcf4\\uc640 \\uad00\\ub828 \\ud655\\uc778\\ub41c \\uc2e0\\uc6a9\\uc190\\uc2e4 \\uc815\\ubcf4\\ub97c \\uadfc\\uac70\\ub85c \\uc0b0\\ucd9c\\ud558\\uc600\\uc2b5\\ub2c8\\ub2e4. \\uacfc\\uac70 \\uc190\\uc2e4 \\uc815\\ubcf4\\ub294 \\uace0\\uac1d\\uc758 \\ucc44\\ubb34 \\uc774\\ud589\\ub2a5\\ub825\\uc5d0 \\uc601\\ud5a5\\uc744 \\ubbf8\\uce60 \\uac70\\uc2dc\\uacbd\\uc81c\\uc801 \\ud604\\uc7ac \\ubc0f \\ubbf8\\ub798\\uc804\\ub9dd\\uc815\\ubcf4\\ub97c \\ubc18\\uc601\\ud558\\uc5ec \\uc870\\uc815\\ud569\\ub2c8\\ub2e4. \\uc5f0\\uacb0\\ud68c\\uc0ac\\ub294 \\ub9e4\\ucd9c\\uc774 \\ubc1c\\uc0dd\\ud558\\ub294 \\uc0b0\\uc5c5\\uc758 \\ubd80\\ub3c4\\uc728\\uc774 \\uac00\\uc7a5 \\ubaa9\\uc801\\uc801\\ud569\\ud55c \\uc694\\uc18c\\ub85c \\ud310\\ub2e8\\ud558\\uace0 \\uacfc\\uac70 \\uc190\\uc2e4 \\uc815\\ubcf4\\ub97c \\uc774\\ub7ec\\ud55c \\uc694\\uc18c\\uc758 \\uc608\\uc0c1 \\ubcc0\\ub3d9\\uc5d0 \\uadfc\\uac70\\ud558\\uc5ec \\uc870\\uc815\\ud569\\ub2c8\\ub2e4.\\n\\uae30\\ucd08\\uc640 \\uae30\\ub9d0\\uc758 \\ub9e4\\ucd9c\\ucc44\\uad8c\\uc5d0 \\ub300\\ud55c \\uc190\\uc2e4\\ucda9\\ub2f9\\uae08\\uc740 \\ub2e4\\uc74c\\uacfc \\uac19\\uc2b5\\ub2c8\\ub2e4(\\ub2e8\\uc704: \\ucc9c\\uc6d0).\\n\\uad6c \\ubd84\\n\\uc815\\uc0c1\\n1\\ub144 \\uc774\\ub0b4 \\uc5f0\\uccb4\\n1\\ub144 \\ucd08\\uacfc \\uc5f0\\uccb4\\n\\uac1c\\ubcc4 \\uc190\\uc0c1\\ucc44\\uad8c\\n\\uacc4\\n\\ub2f9\\uae30\\ub9d0\\n\\uae30\\ub300 \\uc190\\uc2e4\\ub960\\n0.0%\\n0.0%\\n100.0%\\n\\ucd1d \\uc7a5\\ubd80\\uae08\\uc561 - \\ub9e4\\ucd9c\\ucc44\\uad8c\\n82,366,824\\n16,292,616\\n4,359,139\\n517,813\\n103,536,392\\n\\uc190\\uc2e4\\ucda9\\ub2f9\\uae08\\n-\\n1\\n4,011,793\\n357,451\\n4,369,245\\n\\uc804\\uae30\\ub9d0\\n\\uae30\\ub300 \\uc190\\uc2e4\\ub960\\n0.0%\\n1.0%\\n99.9%\\n\\ucd1d \\uc7a5\\ubd80\\uae08\\uc561 - \\ub9e4\\ucd9c\\ucc44\\uad8c\\n92,341,844\\n12,877,081\\n2,892,383\\n5,399,946\\n113,511,254\\n\\uc190\\uc2e4\\ucda9\\ub2f9\\uae08\\n-\\n124,693\\n2,890,100\\n5,399,946\\n8,414,739\\n\\ub2f9\\uae30\\uc640 \\uc804\\uae30 \\uc911 \\ub9e4\\ucd9c\\ucc44\\uad8c\\uacfc \\uc190\\uc2e4\\ucda9\\ub2f9\\uae08 \\ubcc0\\ub3d9\\ub0b4\\uc5ed\\uc740 \\ub2e4\\uc74c\\uacfc \\uac19\\uc2b5\\ub2c8\\ub2e4(\\ub2e8\\uc704: \\ucc9c\\uc6d0).\\n\\uad6c \\ubd84\\n\\ub9e4\\ucd9c\\ucc44\\uad8c\\n\\ub2f9\\uae30\\n\\uc804\\uae30\\n\\uae30\\ucd08\\n8,414,739\\n6,028,832\\n\\ub2f9\\uae30\\uc190\\uc775\\uc73c\\ub85c \\uc778\\uc2dd\\ub41c \\uc190\\uc2e4\\ucda9\\ub2f9\\uae08\\uc758 \\uc99d\\uac00\\n(1,626,586)\\n2,385,713\\n\\ud68c\\uc218\\uac00 \\ubd88\\uac00\\ub2a5\\ud558\\uc5ec \\ub2f9\\uae30\\uc911 \\uc81c\\uac01\\ub41c \\uae08\\uc561\\n(1,835,903)\\n(7,273)\\n\\uae30\\ud0c0\\uc99d\\uac10\\n(583,005)\\n7,467\\n\\uae30\\ub9d0\\n4,369,245\\n8,414,739\\n\\ub9e4\\ucd9c\\ucc44\\uad8c\\uacfc \\uacc4\\uc57d\\uc790\\uc0b0\\uc740 \\ud68c\\uc218\\ub97c \\ub354 \\uc774\\uc0c1 \\ud569\\ub9ac\\uc801\\uc73c\\ub85c \\uc608\\uc0c1\\ud560 \\uc218 \\uc5c6\\ub294 \\uacbd\\uc6b0 \\uc81c\\uac01\\ub429\\ub2c8\\ub2e4.\\n\\ub9e4\\ucd9c\\ucc44\\uad8c\\uc5d0 \\ub300\\ud55c \\uc190\\uc0c1\\uc740 \\uc190\\uc775\\uacc4\\uc0b0\\uc11c\\uc0c1 \\ub300\\uc190\\uc0c1\\uac01\\ube44\\ub85c \\uc21c\\uc561\\uc73c\\ub85c \\ud45c\\uc2dc\\ub418\\uace0 \\uc788\\uc2b5\\ub2c8\\ub2e4. \\uc81c\\uac01\\ub41c \\uae08\\uc561\\uc758 \\ud6c4\\uc18d\\uc801\\uc778 \\ud68c\\uc218\\ub294 \\ub3d9\\uc77c\\ud55c \\uacc4\\uc815\\uacfc\\ubaa9\\uc5d0 \\ub300\\ud55c \\ucc28\\uac10\\uc73c\\ub85c \\uc778\\uc2dd\\ud558\\uace0 \\uc788\\uc2b5\\ub2c8\\ub2e4.\\n(\\ub098) \\uc0c1\\uac01\\ud6c4\\uc6d0\\uac00 \\uce21\\uc815 \\uae30\\ud0c0 \\uae08\\uc735\\uc790\\uc0b0\\n\\uc0c1\\uac01\\ud6c4\\uc6d0\\uac00\\ub85c \\uce21\\uc815\\ud558\\ub294 \\uae30\\ud0c0 \\uae08\\uc735\\uc790\\uc0b0\\uc5d0\\ub294 \\uc7a5\\ub2e8\\uae30\\uae08\\uc735\\uc0c1\\ud488, \\uad00\\uacc4\\uc0ac\\ub300\\uc5ec\\uae08, \\uae30\\ud0c0 \\ubbf8\\uc218\\uae08 \\ub4f1\\uc774 \\ud3ec\\ud568\\ub429\\ub2c8\\ub2e4.\\n\\uc0c1\\uac01\\ud6c4\\uc6d0\\uac00\\ub85c \\uce21\\uc815\\ub418\\ub294 \\uae30\\ud0c0 \\uae08\\uc735\\uc790\\uc0b0\\uc5d0 \\ub300\\ud55c \\uc190\\uc2e4\\ucda9\\ub2f9\\uae08\\uc758 \\ubcc0\\ub3d9 \\ub0b4\\uc5ed\\uc740 \\ub2e4\\uc74c\\uacfc \\uac19\\uc2b5\\ub2c8\\ub2e4(\\ub2e8\\uc704: \\ucc9c\\uc6d0).\\n\\uad6c \\ubd84\\n\\ub2f9\\uae30\\n\\uc804\\uae30\\n\\ucd5c\\ucd08\\uc801\\uc6a9\\uc77c \\uc190\\uc2e4\\ucda9\\ub2f9\\uae08\\n4,190,257\\n2,690,257\\n\\ub2f9\\uae30\\uc190\\uc775\\uc5d0 \\uc778\\uc2dd\\ub41c \\uc190\\uc2e4\\ucda9\\ub2f9\\uae08\\uc758 \\uc99d\\uac00\\n888,192\\n1,500,000\\n\\ub2f9\\uae30\\ub9d0 \\uc190\\uc2e4\\ucda9\\ub2f9\\uae08\\n5,078,449\\n4,190,257\\n\\uc0c1\\uac01\\ud6c4\\uc6d0\\uac00\\ub85c \\uce21\\uc815\\ud558\\ub294 \\uae30\\ud0c0 \\uae08\\uc735\\uc790\\uc0b0\\uc740 \\ubaa8\\ub450 \\uc2e0\\uc6a9\\uc704\\ud5d8\\uc774 \\ub0ae\\uc740 \\uac83\\uc73c\\ub85c \\ud310\\ub2e8\\ub418\\uba70, \\ub530\\ub77c\\uc11c \\uc190\\uc2e4\\ucda9\\ub2f9\\uae08\\uc740 12\\uac1c\\uc6d4 \\uae30\\ub300\\uc2e0\\uc6a9\\uc190\\uc2e4\\ub85c \\uc778\\uc2dd\\ud558\\uc600\\uc2b5\\ub2c8\\ub2e4. \\uae08\\uc735\\uc0c1\\ud488\\uc740 \\ucc44\\ubb34\\ubd88\\uc774\\ud589\\uc704\\ud5d8\\uc774 \\ub0ae\\uace0 \\ub2e8\\uae30\\uac04 \\ub0b4\\uc5d0 \\uacc4\\uc57d\\uc0c1 \\ud604\\uae08\\ud750\\ub984\\uc744 \\uc9c0\\uae09\\ud560 \\uc218 \\uc788\\ub294 \\ubc1c\\ud589\\uc790\\uc758 \\ucda9\\ubd84\\ud55c \\ub2a5\\ub825\\uc774\\uc788\\ub294 \\uacbd\\uc6b0 \\uc2e0\\uc6a9\\uc704\\ud5d8\\uc774 \\ub0ae\\uc740 \\uac83\\uc73c\\ub85c \\uac04\\uc8fc\\ud569\\ub2c8\\ub2e4.\\n4) \\ub300\\uc190\\uc0c1\\uac01\\ube44\\n\\ub2f9\\uae30\\uc640 \\uc804\\uae30 \\uc911 \\uc190\\uc775\\uc73c\\ub85c \\uc778\\uc2dd\\ub41c \\uae08\\uc735\\uc790\\uc0b0\\uc758 \\uc190\\uc0c1 \\uad00\\ub828 \\ub300\\uc190\\uc0c1\\uac01\\ube44\\ub294 \\ub2e4\\uc74c\\uacfc \\uac19\\uc2b5\\ub2c8\\ub2e4(\\ub2e8\\uc704: \\ucc9c\\uc6d0).\\n\\uad6c \\ubd84\\n\\ub2f9\\uae30\\n\\uc804\\uae30\\n\\ub9e4\\ucd9c\\ucc44\\uad8c\\n- \\ub9e4\\ucd9c\\ucc44\\uad8c \\uc190\\uc2e4\\ucda9\\ub2f9\\uae08 \\ubcc0\\ub3d9\\n(1,626,586)\\n2,385,713\\n\\uae30\\ud0c0 \\uae08\\uc735\\uc790\\uc0b0\\n- \\ub300\\uc190\\uc0c1\\uac01\\ube44\\n888,192\\n1,500,000\\n\\uc704\\uc758 \\ub300\\uc190\\uc0c1\\uac01\\ube44 \\uc911 (-)1,626,586\\ucc9c\\uc6d0 (\\uc804\\uae30: 2,385,713\\ucc9c\\uc6d0)\\uc740 \\uace0\\uac1d\\uacfc\\uc758 \\uacc4\\uc57d\\uc5d0\\uc11c \\uc0dd\\uae30\\ub294 \\ucc44\\uad8c\\uacfc \\uad00\\ub828\\ub41c \\uae08\\uc561\\uc785\\ub2c8\\ub2e4.\\n5) \\ub2f9\\uae30\\uc190\\uc775-\\uacf5\\uc815\\uac00\\uce58 \\uce21\\uc815 \\uae08\\uc735\\uc790\\uc0b0\\n\\uc5f0\\uacb0\\ud68c\\uc0ac\\ub294 \\ub2f9\\uae30\\uc190\\uc775-\\uacf5\\uc815\\uac00\\uce58 \\uce21\\uc815 \\uae08\\uc735\\uc790\\uc0b0\\uc5d0 \\ub300\\ud55c \\uc2e0\\uc6a9\\uc704\\ud5d8\\uc5d0\\ub3c4 \\ub178\\ucd9c\\ub418\\uc5b4 \\uc788\\uc2b5\\ub2c8\\ub2e4. \\ub2f9\\uae30 \\ud604\\uc7ac \\uc5f0\\uacb0\\ud68c\\uc0ac\\uc758 \\uad00\\ub828 \\ucd5c\\ub300\\ub178\\ucd9c\\uae08\\uc561\\uc740 \\ud574\\ub2f9 \\uc7a5\\ubd80\\uae08\\uc561\\uc785\\ub2c8\\ub2e4. (\\ub2f9\\uae30: 24,542,878\\ucc9c\\uc6d0, \\uc804\\uae30: 9,300,349\\ucc9c\\uc6d0)\\n(3) \\uc720\\ub3d9\\uc131\\uc704\\ud5d8\\n\\uc720\\ub3d9\\uc131\\uc704\\ud5d8\\uc740 \\uc5f0\\uacb0\\ud68c\\uc0ac\\uc758 \\uacbd\\uc601\\ud658\\uacbd \\ub610\\ub294 \\uae08\\uc735\\uc2dc\\uc7a5\\uc758 \\uc545\\ud654\\ub85c \\uc778\\ud574 \\uc5f0\\uacb0\\ud68c\\uc0ac\\uac00 \\ubd80\\ub2f4\\ud558\\uace0 \\uc788\\ub294 \\ub2e8\\uae30 \\ucc44\\ubb34\\ub97c \\uc801\\uae30\\uc5d0 \\uc774\\ud589\\ud558\\uc9c0 \\ubabb\\ud560 \\uc704\\ud5d8\\uc73c\\ub85c \\uc815\\uc758\\ud569\\ub2c8\\ub2e4.\\n\\uc5f0\\uacb0\\ud68c\\uc0ac\\ub294 \\uc720\\ub3d9\\uc131\\uc704\\ud5d8\\uc744 \\uad00\\ub9ac\\ud558\\uae30 \\uc704\\ud558\\uc5ec \\ub2e8\\uae30 \\ubc0f \\uc911\\uc7a5\\uae30 \\uc790\\uae08\\uad00\\ub9ac\\uacc4\\ud68d\\uc744 \\uc218\\ub9bd\\ud558\\uace0\\ud604\\uae08\\uc720\\ucd9c\\uc608\\uc0b0\\uacfc \\uc2e4\\uc81c\\ud604\\uae08\\uc720\\ucd9c\\uc561\\uc744 \\uc9c0\\uc18d\\uc801\\uc73c\\ub85c \\ubd84\\uc11d\\u318d\\uac80\\ud1a0\\ud558\\uc5ec \\uae08\\uc735\\ubd80\\ucc44\\uc640 \\uae08\\uc735\\uc790\\uc0b0\\uc758 \\ub9cc\\uae30\\uad6c\\uc870\\ub97c \\ub300\\uc751\\uc2dc\\ud0a4\\uace0 \\uc788\\uc2b5\\ub2c8\\ub2e4. \\uc5f0\\uacb0\\ud68c\\uc0ac\\uc758 \\uacbd\\uc601\\uc9c4\\uc740 \\uc601\\uc5c5\\ud65c\\ub3d9\\ud604\\uae08\\ud750\\ub984\\uacfc \\uae08\\uc735\\uc790\\uc0b0\\uc758 \\ud604\\uae08\\uc720\\uc785\\uc73c\\ub85c \\uae08\\uc735\\ubd80\\ucc44\\ub97c \\uc0c1\\ud658\\uac00\\ub2a5\\ud558\\ub2e4\\uace0 \\ud310\\ub2e8\\ud558\\uace0 \\uc788\\uc2b5\\ub2c8\\ub2e4. \\ud55c\\ud3b8, \\uc5f0\\uacb0\\ud68c\\uc0ac\\ub294 \\uc77c\\uc2dc\\uc801\\uc73c\\ub85c \\ubc1c\\uc0dd\\ud560 \\uc218 \\uc788\\ub294 \\uc720\\ub3d9\\uc131\\uc704\\ud5d8\\uc744 \\uad00\\ub9ac\\ud558\\uae30 \\uc704\\ud558\\uc5ec \\ubd80\\uc0b0\\uc740\\ud589 \\ub4f1 \\uae08\\uc735\\uae30\\uad00\\uacfc \\ub2f9\\uc88c\\ucc28\\uc6d4\\uc57d\\uc815\\uc744 \\uccb4\\uacb0\\ud558\\uace0 \\uc788\\uc2b5\\ub2c8\\ub2e4.\\n\\ub610\\ud55c \\uc801\\uc815\\uaddc\\ubaa8\\uc758 \\uc608\\uae08\\uacfc Committed Line\\uc744 \\ubcf4\\uc720\\ud568\\uc73c\\ub85c\\uc368 \\ud5a5\\ud6c4 \\ubc1c\\uc0dd \\uac00\\ub2a5\\ud55c \\uc790\\uae08\\uacbd\\uc0c9\\uc5d0 \\ub530\\ub978 \\uc720\\ub3d9\\uc131\\uc704\\ud5d8\\uc5d0 \\ub300\\ucc98\\ud558\\uace0 \\uc788\\uc2b5\\ub2c8\\ub2e4. \\ubcf4\\uace0\\uae30\\uac04\\ub9d0 \\ud604\\uc7ac \\uc720\\ub3d9\\uc790\\uc0b0 \\uc911 \\ud604\\uae08\\ubc0f\\ud604\\uae08\\uc131\\uc790\\uc0b0\\uacfc \\uae08\\uc735\\uae30\\uad00\\uc608\\uce58\\uae08\\uc758 \\ubcf4\\uc720\\uaddc\\ubaa8\\ub294\\n68,335\\ubc31\\ub9cc\\uc6d0(\\uc804\\uae30\\ub9d0:\\n107,891\\ubc31\\ub9cc\\uc6d0)\\uc785\\ub2c8\\ub2e4. \\uadf8\\ub9ac\\uace0 \\ubcf4\\uace0\\uae30\\uac04\\ub9d0 \\ud604\\uc7ac \\uc5f0\\uacb0\\ud68c\\uc0ac\\ub294 \\ubd80\\uc0b0\\uc740\\ud589\\uacfc \\ucd1d 25,000\\n\\ubc31\\ub9cc\\uc6d0(\\uc804\\uae30\\ub9d0:\\n25,000\\n\\ubc31\\ub9cc\\uc6d0) \\uaddc\\ubaa8\\uc758 Committed Line\\uc744 \\uc720\\uc9c0\\ud558\\uace0 \\uc788\\uc2b5\\ub2c8\\ub2e4.\\n\\uae08\\uc735\\ubd80\\ucc44\\uc5d0 \\ub300\\ud558\\uc5ec \\ubcf4\\uace0\\uae30\\uac04\\uc885\\ub8cc\\uc77c\\ub85c\\ubd80\\ud130 \\uacc4\\uc57d\\ub9cc\\uae30\\uc77c\\uae4c\\uc9c0\\uc758 \\uc794\\uc5ec\\ub9cc\\uae30\\uc5d0 \\ub530\\ub77c \\ub9cc\\uae30\\ubcc4\\ub85c \\uad6c\\ubd84\\ub41c \\uc21c\\uc720\\ub3d9\\uc131\\uc740 \\ub2e4\\uc74c\\uacfc \\uac19\\uc2b5\\ub2c8\\ub2e4(\\ub2e8\\uc704: \\ucc9c\\uc6d0).\\n2019. 12. 31\\n3\\uac1c\\uc6d4\\uc774\\ub0b4\\n~ 6\\uac1c\\uc6d4\\n~ 1\\ub144\\n~ 2\\ub144\\n2\\ub144\\ucd08\\uacfc\\n\\uacc4\\n\\ub9e4\\uc785\\ucc44\\ubb34\\ubc0f\\ubbf8\\uc9c0\\uae09\\uae08\\n87,825,309\\n5,574\\n189,564\\n-\\n-\\n88,020,447\\n\\uc7a5\\u318d\\ub2e8\\uae30\\ucc28\\uc785\\uae08\\n6,849,370\\n3,658,220\\n16,454,500\\n4,050,000\\n8,800,000\\n39,812,090\\n\\uae30\\ud0c0\\uae08\\uc735\\ubd80\\ucc44\\n27,185,898\\n-\\n66,241\\n1,106,212\\n4,625,850\\n32,984,201\\n\\uc774 \\uc790 \\ube44 \\uc6a9\\n500,079\\n175,390\\n220,370\\n258,173\\n257,733\\n1,411,745\\n2018. 12. 31\\n3\\uac1c\\uc6d4\\uc774\\ub0b4\\n~ 6\\uac1c\\uc6d4\\n~ 1\\ub144\\n~ 2\\ub144\\n2\\ub144\\ucd08\\uacfc\\n\\uacc4\\n\\ub9e4\\uc785\\ucc44\\ubb34\\ubc0f\\ubbf8\\uc9c0\\uae09\\uae08\\n127,924,972\\n-\\n-\\n-\\n-\\n127,924,972\\n\\uc7a5\\u318d\\ub2e8\\uae30\\ucc28\\uc785\\uae08\\n11,689,543\\n6,661,350\\n19,102,680\\n3,905,140\\n13,183,280\\n54,541,993\\n\\uae30\\ud0c0\\uae08\\uc735\\ubd80\\ucc44\\n11,872,665\\n5,968,636\\n988,488\\n5,037,332\\n3,946,947\\n27,814,068\\n\\uc774 \\uc790 \\ube44 \\uc6a9\\n381,405\\n287,974\\n163,677\\n220,906\\n750,640\\n1,804,602\\n(4). \\uc790\\ubcf8\\uc704\\ud5d8 \\uad00\\ub9ac\\n\\uc5f0\\uacb0\\ud68c\\uc0ac\\uc758 \\uc790\\ubcf8\\uad00\\ub9ac \\ubaa9\\uc801\\uc740 \\uae30\\uc5c5\\uc73c\\ub85c\\uc11c \\uc8fc\\uc8fc \\ubc0f \\uc774\\ud574\\ub2f9\\uc0ac\\uc790\\ub4e4\\uc5d0\\uac8c \\uc774\\uc775\\uc744 \\uc9c0\\uc18d\\uc801\\uc73c\\ub85c \\uc81c\\uacf5\\ud560 \\uc218 \\uc788\\ub294 \\ub2a5\\ub825\\uc744 \\ubcf4\\ud638\\ud558\\uace0 \\uc790\\ubcf8\\ube44\\uc6a9\\uc744 \\uc808\\uac10\\ud558\\uae30 \\uc704\\ud574 \\ucd5c\\uc801 \\uc790\\ubcf8\\uad6c\\uc870\\ub97c \\uc720\\uc9c0\\ud558\\ub294 \\uac83\\uc785\\ub2c8\\ub2e4.\\n\\uc790\\ubcf8\\uad6c\\uc870\\ub97c \\uc720\\uc9c0 \\ub610\\ub294 \\uc870\\uc815\\ud558\\uae30 \\uc704\\ud558\\uc5ec \\uc5f0\\uacb0\\ud68c\\uc0ac\\ub294 \\uc8fc\\uc8fc\\uc5d0\\uac8c \\uc9c0\\uae09\\ub418\\ub294 \\ubc30\\ub2f9\\uc744 \\uc870\\uc815\\ud558\\uace0, \\uc790\\uc0ac\\uc8fc \\uc774\\uc775\\uc18c\\uac01\\uc744 \\uc2dc\\ud589\\ud558\\uba70, \\ubd80\\ucc44\\uac10\\uc18c\\ub97c \\uc704\\ud55c \\uc2e0\\uc8fc \\ubc1c\\ud589 \\ub4f1\\uc744 \\uc2e4\\uc2dc\\ud558\\uace0 \\uc788\\uc2b5\\ub2c8\\ub2e4.\\n\\uc0b0\\uc5c5\\ub0b4\\uc758 \\ud0c0\\uc0ac\\uc640 \\ub9c8\\ucc2c\\uac00\\uc9c0\\ub85c \\uc5f0\\uacb0\\ud68c\\uc0ac\\ub294 \\uc790\\ubcf8\\uc870\\ub2ec\\ube44\\uc728\\uc5d0 \\uae30\\ucd08\\ud558\\uc5ec \\uc790\\ubcf8\\uc744 \\uad00\\ub9ac\\ud558\\uace0 \\uc788\\uc2b5\\ub2c8\\ub2e4. \\uc790\\ubcf8\\uc870\\ub2ec\\ube44\\uc728\\uc740 \\uc21c\\ubd80\\ucc44\\ub97c \\ucd1d\\uc790\\ubcf8\\uc73c\\ub85c \\ub098\\ub204\\uc5b4 \\uc0b0\\ucd9c\\ud558\\uace0 \\uc788\\uc2b5\\ub2c8\\ub2e4. \\uc21c\\ubd80\\ucc44\\ub294 \\ucd1d \\ucc28\\uc785\\uae08(\\uc7ac\\ubb34\\uc0c1\\ud0dc\\ud45c\\uc758 \\uc7a5\\ub2e8\\uae30\\ucc28\\uc785\\uae08 \\ud3ec\\ud568)\\uc5d0\\uc11c \\ud604\\uae08\\ubc0f\\ud604\\uae08\\uc131\\uc790\\uc0b0\\uc744 \\ucc28\\uac10\\ud55c \\uae08\\uc561\\uc774\\uba70 \\ucd1d\\uc790\\ubcf8\\uc740 \\uc7ac\\ubb34\\uc0c1\\ud0dc\\ud45c\\uc758 \\uc790\\ubcf8\\uc5d0 \\uc21c\\ubd80\\ucc44\\ub97c \\uac00\\uc0b0\\ud55c \\uae08\\uc561\\uc785\\ub2c8\\ub2e4.\\n\\ubcf4\\uace0\\uae30\\uac04\\uc885\\ub8cc\\uc77c \\ud604\\uc7ac\\uc758 \\uc790\\ubcf8\\uc870\\ub2ec\\ube44\\uc728\\uc740 \\ub2e4\\uc74c\\uacfc \\uac19\\uc2b5\\ub2c8\\ub2e4(\\ub2e8\\uc704: \\ucc9c\\uc6d0).\\n\\uad6c \\ubd84\\n2019. 12. 31\\n2018. 12. 31\\n\\uc7a5\\uae30\\ucc28\\uc785\\uae08(\\uc720\\ub3d9\\uc131\\uc7a5\\uae30\\ubd80\\ucc44 \\ud3ec\\ud568)\\n31,063,500\\n37,987,170\\n\\ub2e8\\uae30\\ucc28\\uc785\\uae08\\n8,748,590\\n16,554,823\\n\\ucd1d\\ucc28\\uc785\\uae08\\n39,812,090\\n54,541,993\\n\\ucc28\\uac10\\n\\ud604\\uae08\\ubc0f\\ud604\\uae08\\uc131\\uc790\\uc0b0\\n(56,659,623)\\n(75,931,442)\\n\\uc21c\\ubd80\\ucc44\\n(16,847,533)\\n(21,389,449)\\n\\uc790\\ubcf8\\ucd1d\\uacc4\\n462,082,022\\n434,916,932\\n\\ucd1d\\uc790\\ubcf8\\n445,234,489\\n413,527,483\\n\\uc21c\\ubd80\\ucc44 \\ub300 \\ucd1d\\uc790\\ubcf8\\ube44\\uc728(\\uc790\\ubcf8\\uc870\\ub2ec\\ube44\\uc728)\\n(3.78)%\\n(5.17)%\\n8. \\ud30c\\uc0dd\\uc0c1\\ud488 \\ubc0f \\ud48b\\ubc31\\uc635\\uc158\\ub4f1 \\uac70\\ub798\\ud604\\ud669\\n\\ud68c\\uc0ac\\uc758 \\uc804\\ubc18\\uc801\\uc778 \\uc704\\ud5d8\\uad00\\ub9ac\\uc815\\ucc45\\uc740 \\uae08\\uc735\\uc2dc\\uc7a5\\uc758 \\uc608\\uce21\\ubd88\\uac00\\ub2a5\\uc131\\uc5d0 \\ucd08\\uc810\\uc744 \\ub9de\\ucd94\\uace0 \\uc788\\uc73c\\uba70 \\uc7ac\\ubb34\\uc131\\uacfc\\uc5d0 \\uc7a0\\uc7ac\\uc801\\uc73c\\ub85c \\ubd88\\ub9ac\\ud560 \\uc218 \\uc788\\ub294 \\ud6a8\\uacfc\\ub97c \\ucd5c\\uc18c\\ud654\\ud558\\ub294\\ub370 \\uc911\\uc810\\uc744 \\ub450\\uace0 \\uc788\\uc2b5\\ub2c8\\ub2e4. \\ud68c\\uc0ac\\ub294 \\ud2b9\\uc815 \\uc704\\ud5d8\\uc744 \\ud68c\\ud53c\\ud558\\uae30 \\uc704\\ud574 \\ud30c\\uc0dd\\uc0c1\\ud488\\uc744 \\uc774\\uc6a9\\ud558\\uace0 \\uc788\\uc2b5\\ub2c8\\ub2e4.\\n(1) \\ub2f9\\uae30\\ub9d0\\n2019\\ub144 12\\uc6d4 31\\uc77c \\ud604\\uc7ac \\ub2f9\\uc0ac\\uac00 \\ubcf4\\uc720\\ud558\\uace0 \\uc788\\ub294 \\ud30c\\uc0dd\\uc0c1\\ud488\\uc740 \\uc5c6\\uc2b5\\ub2c8\\ub2e4.\\n(2) \\uacf5\\uc2dc\\ub300\\uc0c1 \\uae30\\uac04 \\uc911 \\ud30c\\uc0dd\\uc0c1\\ud488\\uacc4\\uc57d\\uc73c\\ub85c \\ubc1c\\uc0dd\\ud55c \\uc774\\uc775 \\ubc0f \\uc190\\uc2e4 \\uc0c1\\ud669\\uc5d0 \\uad00\\ud55c \\ub0b4\\uc6a9\\uc740 \\uc544\\ub798\\uc640 \\uac19\\uc2b5\\ub2c8\\ub2e4. (\\ub2e8\\uc704= \\uc678\\ud654: \\ucc9c, \\uc6d0\\ud654: \\ucc9c\\uc6d0)\\n\\uad6c\\ubd84(\\ud68c\\uc0ac)\\n\\uc0c1\\ud488\\ub0b4\\uc5ed\\n\\ud68c\\ud53c\\ub300\\uc0c1\\n\\uacc4\\uc57d\\uccb4\\uacb0\\uc77c\\n\\uac70\\ub798\\n\\uc815\\uc0b0\\uc77c\\n\\uacc4\\uc57d\\ud658\\uc728\\n\\uc815\\uc0b0\\ud658\\uc728\\n\\uacc4\\uc57d\\uae08\\uc561\\n\\ud30c\\uc0dd\\uc0c1\\ud488\\uac70\\ub798 \\uc190\\uc775\\n\\uc704\\ud5d8\\n\\uc0bc\\uc131\\uc120\\ubb3c\\n\\ud1b5\\ud654\\uc120\\ubb3c\\n\\ud658\\uc728\\ubcc0\\ub3d9\\n2018-12\\uc6d4\\n\\ub9e4\\uc218\\n2019-01-22\\n1,113.30\\n1130.2\\nUSD 1,000\\n16,900\\n\\ud658\\uc728\\ubcc0\\ub3d9\\n2018-12\\uc6d4\\n\\ub9e4\\uc218\\n2019-01-22\\n1,109.50\\n1,130.2\\nUSD 1,000\\n20,700\\n\\ud658\\uc728\\ubcc0\\ub3d9\\n2018-12\\uc6d4\\n\\ub9e4\\uc218\\n2019-01-22\\n1,112.80\\n1130.2\\nUSD 1,000\\n17,400\\n\\ud658\\uc728\\ubcc0\\ub3d9\\n2018-12\\uc6d4\\n\\ub9e4\\uc218\\n2019-01-22\\n1,106.00\\n1130.2\\nUSD 500\\n12,100\\n\\ud658\\uc728\\ubcc0\\ub3d9\\n2018-12\\uc6d4\\n\\ub9e4\\uc218\\n2019-01-22\\n1,104.00\\n1130.2\\nUSD 500\\n13,100\\n\\ud658\\uc728\\ubcc0\\ub3d9\\n2018-12\\uc6d4\\n\\ub9e4\\uc218\\n2019-01-22\\n1,120.50\\n1130.2\\nUSD 500\\n4,850\\n\\ud658\\uc728\\ubcc0\\ub3d9\\n2018-12\\uc6d4\\n\\ub9e4\\uc218\\n2019-02-19\\n1,118.10\\n1,127.5\\nUSD 500\\n4,700\\n\\ud658\\uc728\\ubcc0\\ub3d9\\n2018-12\\uc6d4\\n\\ub9e4\\uc218\\n2019-02-19\\n1,114.50\\n1,127.5\\nUSD 1,000\\n13,000\\n\\ud658\\uc728\\ubcc0\\ub3d9\\n2019-01\\uc6d4\\n\\ub9e4\\uc218\\n2019-02-19\\n1,114.50\\n1,127.5\\nUSD 500\\n6,500\\n\\ud658\\uc728\\ubcc0\\ub3d9\\n2019-01\\uc6d4\\n\\ub9e4\\uc218\\n2019-02-19\\n1,111.10\\n1,127.5\\nUSD 500\\n8,200\\n\\ud658\\uc728\\ubcc0\\ub3d9\\n2019-02\\uc6d4\\n\\ub9e4\\uc218\\n2019-03-19\\n1,120.20\\n1,130.9\\nUSD 1,000\\n10,700\\n\\ud658\\uc728\\ubcc0\\ub3d9\\n2019-02\\uc6d4\\n\\ub9e4\\uc218\\n2019-03-19\\n1,121.80\\n1,130.9\\nUSD 500\\n4,550\\n\\ud658\\uc728\\ubcc0\\ub3d9\\n2019-02\\uc6d4\\n\\ub9e4\\uc218\\n2019-04-16\\n1,123.70\\n1,135.7\\nUSD 500\\n6,000\\n\\ud658\\uc728\\ubcc0\\ub3d9\\n2019-02\\uc6d4\\n\\ub9e4\\uc218\\n2019-04-16\\n1,124.50\\n1,135.7\\nUSD 500\\n5,600\\n\\ud658\\uc728\\ubcc0\\ub3d9\\n2019-06\\uc6d4\\n\\ub9e4\\uc218\\n2019-07-16\\n1,183.90\\n1,178.5\\nUSD 500\\n(2,700)\\n\\ud658\\uc728\\ubcc0\\ub3d9\\n2019-06\\uc6d4\\n\\ub9e4\\uc218\\n2019-07-16\\n1,177.10\\n1,178.5\\nUSD 500\\n700\\n\\ud658\\uc728\\ubcc0\\ub3d9\\n2019-06\\uc6d4\\n\\ub9e4\\uc218\\n2019-07-16\\n1,178.10\\n1,178.5\\nUSD 500\\n200\\n\\ud658\\uc728\\ubcc0\\ub3d9\\n2019-06\\uc6d4\\n\\ub9e4\\uc218\\n2019-07-16\\n1,174.10\\n1,178.5\\nUSD 500\\n2,200\\n\\ud658\\uc728\\ubcc0\\ub3d9\\n2019-06\\uc6d4\\n\\ub9e4\\uc218\\n2019-07-16\\n1,165.10\\n1,178.5\\nUSD 500\\n6,700\\n\\ud658\\uc728\\ubcc0\\ub3d9\\n2019-06\\uc6d4\\n\\ub9e4\\uc218\\n2019-07-16\\n1,170.50\\n1,178.5\\nUSD 500\\n4,000\\n\\ud658\\uc728\\ubcc0\\ub3d9\\n2019-06\\uc6d4\\n\\ub9e4\\uc218\\n2019-07-16\\n1,156.90\\n1,178.5\\nUSD 500\\n10,800\\n\\ud658\\uc728\\ubcc0\\ub3d9\\n2019-06\\uc6d4\\n\\ub9e4\\uc218\\n2019-07-16\\n1,152.90\\n1,178.5\\nUSD 500\\n12,800\\n\\ud658\\uc728\\ubcc0\\ub3d9\\n2019-07\\uc6d4\\n\\ub9e4\\uc218\\n2019-08-20\\n1,171.50\\n1,210.2\\nUSD 500\\n19,350\\n\\ud658\\uc728\\ubcc0\\ub3d9\\n2019-09\\uc6d4\\n\\ub9e4\\uc218\\n2019-10-22\\n1,202.10\\n1,171.4\\nUSD 500\\n(15,350)\\n\\ud658\\uc728\\ubcc0\\ub3d9\\n2019-09\\uc6d4\\n\\ub9e4\\uc218\\n2019-10-22\\n1,198.10\\n1,171.4\\nUSD 500\\n(13,350)\\n\\ud658\\uc728\\ubcc0\\ub3d9\\n2019-09\\uc6d4\\n\\ub9e4\\uc218\\n2019-10-22\\n1,195.10\\n1,171.4\\nUSD 500\\n(11,850)\\n\\ud658\\uc728\\ubcc0\\ub3d9\\n2019-09\\uc6d4\\n\\ub9e4\\uc218\\n2019-10-22\\n1,195.50\\n1,171.4\\nUSD 500\\n(12,050)\\n\\ud658\\uc728\\ubcc0\\ub3d9\\n2019-09\\uc6d4\\n\\ub9e4\\uc218\\n2019-10-22\\n1,192.20\\n1,171.4\\nUSD 500\\n(10,400)\\n\\ud658\\uc728\\ubcc0\\ub3d9\\n2019-09\\uc6d4\\n\\ub9e4\\uc218\\n2019-10-22\\n1,189.20\\n1,171.4\\nUSD 500\\n(8,900)\\n\\ud658\\uc728\\ubcc0\\ub3d9\\n2019-09\\uc6d4\\n\\ub9e4\\uc218\\n2019-10-22\\n1,188.20\\n1,171.4\\nUSD 500\\n(8,400)\\n\\ud658\\uc728\\ubcc0\\ub3d9\\n2019-09\\uc6d4\\n\\ub9e4\\uc218\\n2019-10-22\\n1,182.20\\n1,171.4\\nUSD 1,000\\n(10,800)\\n\\ud658\\uc728\\ubcc0\\ub3d9\\n2019-10\\uc6d4\\n\\ub9e4\\uc218\\n2019-11-19\\n1,188.10\\n1,168.6\\nUSD 1,000\\n(19,500)\\n\\ud658\\uc728\\ubcc0\\ub3d9\\n2019-10\\uc6d4\\n\\ub9e4\\uc218\\n2019-11-19\\n1,184.50\\n1,168.6\\nUSD 500\\n(7,950)\\n\\ud658\\uc728\\ubcc0\\ub3d9\\n2019-10\\uc6d4\\n\\ub9e4\\uc218\\n2019-11-19\\n1,177.30\\n1,168.6\\nUSD 1,000\\n(8,700)\\n\\ud658\\uc728\\ubcc0\\ub3d9\\n2019-10\\uc6d4\\n\\ub9e4\\uc218\\n2019-11-19\\n1,173.30\\n1,168.6\\nUSD 1,000\\n(4,700)\\n\\ud658\\uc728\\ubcc0\\ub3d9\\n2019-10\\uc6d4\\n\\ub9e4\\uc218\\n2019-11-19\\n1,169.30\\n1,168.6\\nUSD 500\\n(350)\\n\\ud658\\uc728\\ubcc0\\ub3d9\\n2019-10\\uc6d4\\n\\ub9e4\\uc218\\n2019-11-19\\n1,167.50\\n1,168.6\\nUSD 500\\n550\\n\\ud569\\uacc4\\n66,600\",\n          \"II. \\uc0ac\\uc5c5\\uc758 \\ub0b4\\uc6a9\\n1. \\uc0ac\\uc5c5\\uc758 \\uac1c\\uc694\\n\\uac00. \\uc5c5\\uacc4\\uc758 \\ud604\\ud669\\n(1) \\uc0b0\\uc5c5\\uc758 \\ud2b9\\uc131\\n- \\uc804\\uc790\\ubd80\\ud488\\uc0ac\\uc5c5\\n\\ub2f9\\uc0ac\\uc758 \\uc804\\uc790\\ubd80\\ud488\\uc0ac\\uc5c5\\uc740 TV\\ubc0f \\uc0dd\\ud65c\\uac00\\uc804\\uc6a9 \\ud30c\\uc6cc\\ubaa8\\ub4c8, \\uc2a4\\ub9c8\\ud2b8\\ud3f0 \\ubb34\\uc120 \\ucda9\\uc804 \\ubaa8\\ub4c8,\\n\\ud0dc\\uc591\\uad11 \\uc778\\ubc84\\ud130 \\ubc0f \\ubc30\\ud130\\ub9ac \\ubaa8\\ub4c8 \\ub4f1\\uc73c\\ub85c \\uad6c\\uc131\\ub418\\uc5b4 \\uc788\\uc73c\\uba70 \\uc774\\uc911 \\ud30c\\uc6cc\\ubaa8\\ub4c8\\uacfc \\ubb34\\uc120\\ucda9\\uc804 \\ubaa8\\ub4c8 \\uc0ac\\uc5c5\\uc774 \\uc911\\uc2ec\\uc744 \\uc774\\ub8e8\\uace0 \\uc788\\uc2b5\\ub2c8\\ub2e4.\\n\\ud30c\\uc6cc\\ubaa8\\ub4c8 \\uc0ac\\uc5c5\\uc740 \\uac01\\uc885 \\uc804\\uc790\\uc81c\\ud488\\uc5d0 \\uc804\\uc6d0\\uc744 \\uacf5\\uae09\\ud558\\ub294 \\uc7a5\\uce58\\ub97c \\uc0dd\\uc0b0\\ud558\\ub294 \\uc0ac\\uc5c5\\uc785\\ub2c8\\ub2e4. \\uc774\\ub294 \\uc804\\uae30\\uc5d0\\ub108\\uc9c0\\ub97c \\uc548\\uc815\\uc801\\uc73c\\ub85c \\ubcc0\\ud658\\ud558\\uc5ec \\uc804\\uc790\\uc81c\\ud488\\uc5d0 \\uc804\\uc6d0\\uc744 \\uacf5\\uae09\\ud574\\uc8fc\\ub294 \\uc2ec\\uc7a5\\uc5ed\\ud560\\uc744 \\ud558\\ub294 \\ubd80\\ud488\\uc73c\\ub85c\\uc11c \\ud1b5\\uc0c1\\uc801\\uc73c\\ub85c SMPS(Switching Mode Power Supply)\\ub77c\\uace0 \\ubd88\\ub9ac\\uc6b0\\uace0 \\uc788\\uc2b5\\ub2c8\\ub2e4. \\uace0\\uac1d\\uc758 \\uc6a9\\ub3c4\\uc5d0 \\ub530\\ub77c \\ub2e4\\uc591\\ud55c \\uc81c\\ud488\\uc73c\\ub85c \\uad6c\\uc131\\ub418\\uc5b4 \\uc788\\uc73c\\uba70 TV \\ub514\\uc9c0\\ud138 \\uac00\\uc804\\uc6a9 \\uae30\\uae30\\ub4f1 \\uc0ac\\ubb34\\uc6a9\\ud488\\uc6a9, \\ud1b5\\uc2e0\\uc7a5\\ube44\\uc6a9 \\ub4f1\\uc73c\\ub85c \\ubd84\\ub958\\ub418\\uace0 \\uc788\\uc2b5\\ub2c8\\ub2e4\\n\\ubb34\\uc120 \\ucda9\\uc804\\uae30 \\ubaa8\\ub4c8 \\ubd80\\ubb38\\uc740 \\ucd5c\\uadfc \\uc2a4\\ub9c8\\ud2b8\\ud3f0 \\ud655\\ub300\\ub85c \\ub300\\ud654\\uba74\\uc744 \\uc774\\uc6a9\\ud55c \\uc5b4\\ud50c\\ub9ac\\ucf00\\uc774\\uc158\\uc758 \\uad6c\\ub3d9 \\ub3d9\\uc601\\uc0c1 \\uc7ac\\uc0dd, \\uac8c\\uc784\\uc2dc\\uac04\\uc758 \\uc99d\\uac00 \\ub4f1 \\uacfc\\uac70\\ubcf4\\ub2e4 \\uc804\\ub825\\uc18c\\ube44\\uac00 \\uc99d\\uac00\\ud558\\uba74\\uc11c \\ucda9\\uc804\\uc218\\uc694\\uac00 \\uae09\\uc99d\\ud558\\uc600\\uace0 \\uae30\\uc874\\uc758 \\uc720\\uc120\\ucda9\\uc804\\ubc29\\uc2dd \\ub300\\ube44 \\ud3b8\\ub9ac\\uc131\\uc744 \\uac16\\ucd94\\uace0 \\uc788\\uc5b4 \\uae09\\ubd80\\uc0c1\\ud558\\uace0 \\uc788\\ub294 \\uc0ac\\uc5c5\\ubd84\\uc57c \\uc785\\ub2c8\\ub2e4. \\ubb34\\uc120\\ucda9\\uc804\\uae30\\ub294 \\ucda9\\uc804\\ud328\\ub4dc\\uc5d0\\uc11c \\uc804\\uae30\\uc5d0\\ub108\\uc9c0\\ub97c \\uc790\\uae30\\uc7a5\\uc73c\\ub85c \\uc804\\ud658\\uc2dc\\ud0a4\\uace0 \\ud734\\ub300\\ud3f0\\uc5d0\\uc11c \\uc790\\uae30\\uc7a5\\uc744 \\uc804\\uae30\\uc5d0\\ub108\\uc9c0\\ub85c \\uc804\\ud658\\uc2dc\\ucf1c \\ubc30\\ud130\\ub9ac\\ub97c \\ucda9\\uc804\\ud558\\ub294 \\uc7a5\\uce58\\ub85c \\ubcc4\\ub3c4\\uc758 \\ucf00\\uc774\\ube14 \\uc5c6\\uc774 \\ucda9\\uc804\\ud328\\ub4dc\\uc5d0 \\ud734\\ub300\\ud3f0\\uc744 \\uc62c\\ub824 \\ub193\\uc73c\\uba74 \\ucda9\\uc804\\uc774 \\ub418\\ub294 \\uae30\\uae30\\uc785\\ub2c8\\ub2e4.\\n\\uc2a4\\ub9c8\\ud2b8\\ud3f0 \\ucda9\\uc804\\ud615\\ud0dc \\uc911 \\uc790\\uae30\\uc720\\ub3c4 \\ubc29\\uc2dd\\uc740 WPC(Wireless Power Consortium)\\uc5d0 \\uc758\\ud574 \\ud45c\\uc900\\ud654\\uc778\\uc99d(Qi)\\ub97c \\uc81c\\uc815\\ud558\\uc5ec \\ud734\\ub300\\ud3f0 \\ucda9\\uc804\\uc5d0 \\uc801\\uc6a9\\ub418\\ub294 \\ucd08\\uc785\\ub2e8\\uacc4\\uc774\\uba70 \\ud5a5\\ud6c4 \\uc218\\ub144\\ub0b4\\uc5d0 \\uc790\\uae30\\uacf5\\uba85\\ubc29\\uc2dd\\uc758 \\ubb34\\uc120\\ucda9\\uc804\\uc774 \\uc0c1\\uc6a9\\ud654\\ub420 \\uacbd\\uc6b0 \\ud0dc\\ube14\\ub9bfPC \\ub4f1\\uc758 \\ubaa8\\ubc14\\uc77c \\uae30\\uae30\\ub294 \\ubb3c\\ub860 \\uac00\\uc804\\uae30\\uae30, \\uc870\\uba85\\ub4f1 \\uc77c\\uc0c1 \\uc18d\\uc73c\\ub85c \\uae09\\uc18d\\ud55c \\ud655\\ub300\\uac00 \\uae30\\ub300\\ub418\\ub294 \\uc0ac\\uc5c5\\uc785\\ub2c8\\ub2e4.\\n\\ub2f9 \\uc0ac\\uc5c5\\uc740 \\uc804\\uc790\\uc81c\\ud488 \\uc644\\uc131\\ud488 \\uc81c\\uc870\\uc5c5\\uccb4\\uc5d0\\uc11c \\ud2b9\\uc815 \\uc81c\\ud488\\uc758 \\ubaa8\\ub378 \\uac1c\\ubc1c \\ub2e8\\uacc4\\uc5d0\\uc11c \\ub2f9\\uc0ac\\uc640 \\uac19\\uc740 \\ud30c\\uc6cc\\ubaa8\\ub4c8 \\uc804\\ubb38\\uc5c5\\uccb4\\uc5d0 \\ud2b9\\uc815\\ud30c\\uc6cc\\uc81c\\ud488 \\uac1c\\ubc1c\\uc744 \\uc758\\ub8b0\\ud558\\uc5ec \\uac1c\\ubc1c\\ub41c \\uc81c\\ud488\\uc758 \\uc2b9\\uc778, \\uc0dd\\uc0b0, \\ud310\\ub9e4\\uac00 \\uc774\\ub8e8\\uc5b4 \\uc9c0\\ub294 \\uad6c\\uc870\\uc774\\uba70 \\uc804\\uc790\\uae30\\uae30\\uc5d0 \\ud544\\uc218\\uc801\\uc73c\\ub85c \\uc0ac\\uc6a9\\ub418\\uc5b4 \\uc218\\uc694\\uac00 \\uad11\\ubc94\\uc704\\ud55c \\uc601\\uc5ed\\uc785\\ub2c8\\ub2e4.\\n- LED \\uc18c\\uc7ac \\uc0ac\\uc5c5\\nLED\\ub294 \\ud654\\ud569\\ubb3c \\ubc18\\ub3c4\\uccb4 \\ub2e8\\uc790\\uc5d0 \\uc804\\ub958\\ub97c \\ud758\\ub824\\uc11c P-N\\uc811\\ud569 \\ubd80\\uadfc \\ud639\\uc740 \\ud65c\\uc131\\uce35\\uc5d0\\uc11c \\uc804\\uc790\\uc640 \\ud640\\uc758 \\uacb0\\ud569\\uc5d0 \\uc758\\ud574 \\ube5b\\uc744 \\ubc29\\ucd9c\\ud558\\ub294 \\uc18c\\uc790(Chip)\\ub97c \\uc758\\ubbf8\\ud569\\ub2c8\\ub2e4. \\uae30\\uc874 \\uad11\\uc6d0\\ub300\\ube44 \\ucd08\\uae30 \\uad6c\\ub9e4\\ube44\\uc6a9\\uc774 \\ub192\\uc74c\\uc5d0\\ub3c4 \\ubd88\\uad6c\\ud558\\uace0 \\ucc28\\uc138\\ub300 \\uad11\\uc6d0\\uc73c\\ub85c\\uc11c \\ubd80\\uac01\\ub418\\ub294 \\uc774\\uc720\\ub294 \\uad11\\uc6d0\\uc73c\\ub85c\\uc368\\uc758 \\uc6b0\\uc218\\uc131\\uc774 \\ub6f0\\uc5b4\\ub098 \\uc0b0\\uc5c5 \\uc804\\ubc18\\uc5d0\\uc11c \\ud65c\\uc6a9 \\uac00\\ub2a5\\uc131\\uc774 \\ub192\\uae30 \\ub54c\\ubb38\\uc785\\ub2c8\\ub2e4. LED Chip\\uc740 \\uc54c\\ub8e8\\ubbf8\\ub098 \\ubd84\\ub9d0\\uc744 \\uc6d0\\ub8cc\\ub85c \\ud558\\uc5ec \\uace0\\uc628\\uc73c\\ub85c \\ub179\\uc5ec \\ub369\\uc5b4\\ub9ac(\\uc789\\uacf3)\\ub85c \\ub9cc\\ub4e0 \\ud6c4 \\uc774\\ub97c \\uc587\\uac8c \\uc798\\ub77c \\ub9cc\\ub4e0 \\uc0ac\\ud30c\\uc774\\uc5b4 Wafer\\ub97c \\uc774\\uc6a9\\ud558\\uc5ec \\ub9cc\\ub4e4\\uac8c \\ub418\\uba70, \\uc644\\uc131\\ub41c Chip\\uc744 TV\\uad11\\uc6d0\\uc6a9, \\uc870\\uba85\\uc6a9, \\uae30\\ud0c0 \\uc0b0\\uc5c5\\uc6a9 \\ub4f1 \\uad11\\uc6d0\\uc774 \\ud544\\uc694\\ud55c \\ubd80\\ubb38\\uc5d0 \\ud3ed\\ub113\\uac8c \\uc0ac\\uc6a9\\ud558\\uac8c \\ub429\\ub2c8\\ub2e4.\\n- \\ud0dc\\uc591\\uad11 \\uc0ac\\uc5c5\\n\\ud0dc\\uc591\\uad11 \\uc0b0\\uc5c5\\uc740 \\ud0dc\\uc591\\uc73c\\ub85c\\ubd80\\ud130 \\ubcf5\\uc0ac\\ub418\\ub294 \\ube5b \\uc5d0\\ub108\\uc9c0\\ub97c \\ud65c\\uc6a9\\ud55c \\ub300\\ud45c\\uc801\\uc778 \\uce5c\\ud658\\uacbd\\uc0b0\\uc5c5 \\uc785\\ub2c8\\ub2e4. \\uad6d\\ub0b4\\uc2dc\\uc7a5\\uc740 \\uad6d\\uac00\\uc758 \\ubcf4\\uae09\\uc815\\ucc45 \\ub4f1\\uc5d0 \\uc758\\ud55c \\uc815\\ubd80 \\uc8fc\\ub3c4\\ud615 \\uc0b0\\uc5c5\\uc73c\\ub85c\\uc11c \\uad6d\\ub0b4\\n\\uc2dc\\uc7a5\\uaddc\\ubaa8\\ub294 2015\\ub144 920MW, 2017\\ub144\\uc740 1.2GW, 2019\\ub144\\uc740 1.9GW\\ub85c \\uad6d\\ub0b4 \\ud0dc\\uc591\\uad11\\uc2dc\\uc7a5\\uc740 \\uc2e0\\uc815\\ubd80\\uc758 \\ud0c8\\uc6d0\\uc804, \\uc2e0\\uc7ac\\uc0dd\\uc5d0\\ub108\\uc9c0 \\ubcf4\\uae09 \\ud655\\ub300 \\ub4f1 \\uc6b0\\ud638\\uc801\\uc778 \\uc815\\ucc45\\uc2dc\\ud589\\uc73c\\ub85c \\ub144 1GW \\uc774\\uc0c1\\uc758 \\uc2dc\\uc7a5\\uaddc\\ubaa8\\uac00 \\uc720\\uc9c0 \\ub420 \\uac83\\uc73c\\ub85c \\uc804\\ub9dd\\ub429\\ub2c8\\ub2e4. \\uadf8\\ub7ec\\ub098 \\ud0dc\\uc591\\uad11 \\uc0b0\\uc5c5\\uc740 2010\\ub144\\ubd80\\ud130 \\uacf5\\uae09\\uacfc\\uc789\\ud604\\uc0c1\\uc774 \\uc2ec\\ud654\\ub418\\uba74\\uc11c, \\uc6d0\\uac00 \\uc774\\ud558\\ub85c \\uc81c\\ud488\\uac00\\uaca9\\uc774 \\ud615\\uc131\\ub418\\uc5b4 \\uc804\\uc138\\uacc4 \\ud0dc\\uc591\\uad11 \\uae30\\uc5c5\\ub4e4\\uc774 \\uae09\\uaca9\\ud55c \\uc704\\uae30\\uc5d0 \\uc9c1\\uba74\\ud558\\uae30\\ub3c4 \\ud588\\uc73c\\uba70, \\uacf5\\uae09\\uacfc\\uc789\\uc73c\\ub85c \\uc778\\ud55c \\uc218\\uae09\\ubd88\\uade0\\ud615\\uc744 \\ud574\\uc18c \\ud558\\uae30 \\uc704\\ud55c \\ub178\\ub825\\uacfc \\uc218\\uc694 \\uc99d\\uac00\\ub85c \\uc778\\ud574 2013\\ub144\\ubd80\\ud130 \\uc2dc\\uc7a5 \\ud68c\\ubcf5\\uc138\\ub97c \\ubcf4\\uc774\\uace0 \\uc788\\uc2b5\\ub2c8\\ub2e4. \\uadf8\\ub7ec\\ub098 Global Player \\ub4e4\\uc758 \\uaddc\\ubaa8 \\ud655\\ub300\\ub85c \\uc778\\ud55c \\uacbd\\uc7c1\\uc740 \\uc810\\ucc28 \\uc2ec\\ud654 \\ub418\\uc5b4\\uac00\\uace0 \\uc788\\uc2b5\\ub2c8\\ub2e4.\\n- \\ud734\\ub300\\ud3f0 \\uc0ac\\uc5c5\\n\\ud734\\ub300\\ud3f0 \\uc0ac\\uc5c5\\uc740 \\uc2a4\\ub9c8\\ud2b8\\ud3f0\\uc73c\\ub85c \\ub300\\ubcc0\\ub418\\ub294 \\ud734\\ub300\\uc6a9 \\ud1b5\\uc2e0 \\uae30\\uae30\\ub85c\\uc368 \\uc774\\uc81c\\ub294 \\ub2e8\\uc21c\\ud55c \\ud1b5\\uc2e0\\uae30\\uae30\\ub97c \\ub118\\uc5b4 \\uc0dd\\ud65c\\uc18d\\uc5d0 \\ubc18\\ub4dc\\uc2dc \\ud544\\uc694\\ud55c \\ud544\\uc218\\ud488\\uc73c\\ub85c \\uc790\\ub9ac \\uc7a1\\uc558\\uc2b5\\ub2c8\\ub2e4. .\\n\\uc0bc\\uc131, \\uc560\\ud50c\\uc774 Global \\uc2dc\\uc7a5\\uc744 \\uc8fc\\ub3c4\\ud574 \\uc654\\uc73c\\uba70, \\ucd5c\\uadfc \\ub4e4\\uc5b4 \\ud654\\uc6e8\\uc774, \\uc0e4\\uc624\\ubbf8, \\ube44\\ubcf4,\\u00a0 \\ub4f1 \\uc911\\uad6d\\uc5c5\\uccb4\\uc758 \\uc2dc\\uc7a5 \\uc810\\uc720\\uc728\\uc774 \\uc810\\ucc28 \\uc99d\\uac00\\ud558\\uace0 \\uc788\\uc2b5\\ub2c8\\ub2e4.\\n(2) \\uc0b0\\uc5c5\\uc758 \\uc131\\uc7a5\\uc131\\nTV \\uc2dc\\uc7a5\\uc740 \\uace0\\ud574\\uc0c1\\ub3c4\\uc778 UHD TV\\ub85c \\ub300\\ud45c\\ub418\\ub294 \\uace0\\ud654\\uc9c8\\uc758 \\uc81c\\ud488\\uc774 \\uac00\\uaca9 \\ud558\\ub77d\\uc744 \\ud1b5\\ud558\\uc5ec \\ub300\\uc911\\ud654 \\uad6d\\uba74\\uc5d0 \\uc9c4\\uc785\\ud560 \\uac83\\uc73c\\ub85c \\uc608\\uc0c1\\ub429\\ub2c8\\ub2e4. \\uae30\\uc874\\uc758 LCD TV \\uc911\\uc2ec\\uc758 \\uc81c\\ud488 \\uad6c\\uc870\\uc5d0 \\ud000\\ud140\\ub2f7, OLED\\uac00 \\uac00\\uc138\\ud558\\uba74\\uc11c \\ubcf4\\uae09\\ud615, \\ub300\\uc911\\ud654 \\uc601\\uc5ed\\uc744 UHD TV\\ub85c \\uc804\\ud658\\ud558\\uc5ec \\uc18c\\ube44\\uc790\\uc758 \\uad50\\uccb4 \\uc218\\uc694\\ub97c \\uc720\\ubc1c\\ud560 \\uac83\\uc73c\\ub85c \\uc608\\uc0c1\\ub429\\ub2c8\\ub2e4.\\n2010\\ub144 \\uc774\\ud6c4 TV \\uc5c5\\uccb4\\ub294 TV \\ud328\\ub7ec\\ub2e4\\uc784 \\ubcc0\\ud654, \\uc989 \\uc2a4\\ub9c8\\ud2b8 \\ubc0f 3D \\ub4f1 \\ub2e4\\uc591\\ud55c \\uae30\\ub2a5\\uc744 \\ucd94\\uac00 \\ud558\\uba74\\uc11c \\uc0c8\\ub85c\\uc6b4 IT \\uae30\\uae30\\ub85c \\ubcc0\\ud654\\ub97c \\uc2dc\\ub3c4\\ud558\\uc600\\uc73c\\ub098, \\ucd5c\\uadfc \\ub2e4\\uc2dc TV \\ubcf8\\uc5f0 \\uae30\\ub2a5\\uc778 \\ud654\\uc9c8\\ub85c \\ucd08\\uc810\\uc744 \\uc774\\ub3d9\\ud558\\uc5ec \\ubcf8\\uaca9\\uc801\\uc778 \\ub300\\ud654\\uba74, \\uace0\\ud654\\uc9c8 \\uacbd\\uc7c1\\uc73c\\ub85c \\uc811\\uc5b4 \\ub4e4\\uace0 \\uc788\\uc73c\\uba70 \\ud2b9\\ud788 75\\uc778\\uce58 \\uc774\\uc0c1\\uc758 \\ub300\\ud615 TV\\uc2dc\\uc7a5 \\uc131\\uc7a5\\uc18d\\ub3c4\\uac00 \\uc810\\ucc28 \\uac00\\uc18d\\ud654\\ub420 \\uc804\\ub9dd \\uc785\\ub2c8\\ub2e4. \\ucd5c\\uadfc\\uc5d0\\ub294 \\uae30\\uc874 4K \\ud654\\uc9c8\\uc744 \\ubcf4\\uc720\\ud55c TV\\ubcf4\\ub2e4 4\\ubc30 \\uac00\\ub7c9 \\ud654\\uc9c8\\uc774 \\uc88b\\uc740 8K TV\\uac00 \\ucd9c\\uc2dc\\ub418\\uba74\\uc11c \\ud504\\ub9ac\\ubbf8\\uc5c4\\ud654\\uc5d0 \\uac00\\uc18d\\ub3c4\\uac00 \\ubd99\\uace0 \\uc788\\uc2b5\\ub2c8\\ub2e4. \\ubc31\\uc0c9\\uac00\\uc804\\uc73c\\ub85c \\ub300\\ud45c\\ub418\\ub294 \\uc0dd\\ud65c\\uac00\\uc804\\uc2dc\\uc7a5 \\uc5ed\\uc2dc \\uc131\\uc219\\ud55c \\uc2dc\\uc7a5\\uc774\\ub098, \\ub514\\uc790\\uc778, \\uc131\\ub2a5 \\ub4f1\\uc5d0\\uc11c \\uace0\\uae09\\ud654, \\uace0\\uc0ac\\uc591\\ud654 \\ub4f1\\uc744 \\ud1b5\\ud574 \\uc9c0\\uc18d\\uc801\\uc778 \\uc218\\uc694 \\ucc3d\\ucd9c\\uc744 \\ud558\\uace0 \\uc788\\uc73c\\uba70, \\ud5a5\\ud6c4 IoT \\ub4f1\\uacfc \\ub9de\\ubb3c\\ub824 \\uc0c8\\ub85c\\uc6b4 \\uc131\\uc7a5 \\ubaa8\\uba58\\ud140\\uc744 \\uae30\\ub300\\ud558\\uace0 \\uc788\\uc2b5\\ub2c8\\ub2e4\\nLED\\uc18c\\uc7ac \\uc0ac\\uc5c5\\uc758 \\uacbd\\uc6b0 \\ubbf8\\uad6d\\uc740 2014\\ub144\\ubd80\\ud130 40W\\uc774\\uc0c1 \\ubaa8\\ub4e0 \\ubc31\\uc5f4\\uc804\\uad6c\\uc758 \\ud310\\ub9e4\\ub97c \\uae08\\uc9c0\\ud558\\uace0 \\uc788\\uace0, \\uc911\\uad6d\\ub3c4 60W\\uc774\\uc0c1 \\ubc31\\uc5f4\\ub4f1\\uc744 2014\\ub144\\ubd80\\ud130 \\ud310\\ub9e4 \\uae08\\uc9c0\\ud558\\uc600\\uace0, 16\\ub144\\ubd80\\ud130\\ub294 15W\\uc774\\uc0c1 \\ubc31\\uc5f4\\ub4f1\\uc758 \\ud310\\ub9e4\\ub97c \\uae08\\uc9c0\\ud558\\ub294 \\ub4f1 \\uac01\\uad6d\\uc758 \\uce5c\\ud658\\uacbd \\uc5d0\\ub108\\uc9c0 \\uc815\\ucc45\\uc758 \\ud655\\ub300\\ub85c LED \\uc870\\uba85\\uc2dc\\uc7a5\\uc218\\uc694\\uac00 \\uafb8\\uc900\\ud788 \\uc99d\\uac00\\ud560 \\uac83\\uc73c\\ub85c \\uc608\\uc0c1\\ub418\\uace0 \\uc788\\uc73c\\uba70, \\uae30\\uc874\\uc758 \\uad11\\uc6d0\\uc774 LED\\ub85c \\ub300\\uccb4\\ub420 \\uc218 \\uc788\\uc73c\\ubbc0\\ub85c \\uc138\\uacc4 LED \\uc2dc\\uc7a5\\uc758 \\ud5a5\\ud6c4 \\uc131\\uc7a5 \\uc7a0\\uc7ac\\ub825\\uc740 \\ub9e4\\uc6b0 \\ub192\\uc2b5\\ub2c8\\ub2e4. \\ud604\\uc7ac LED\\uc0b0\\uc5c5\\uc740 \\ud734\\ub300\\ud3f0, \\ucef4\\ud4e8\\ud130, TV, \\uc870\\uba85 \\uc2dc\\uc7a5\\uc774 \\uc8fc\\ub3c4\\ud558\\uace0 \\uc788\\uc73c\\ub098, \\ud5a5\\ud6c4 \\uc790\\ub3d9\\ucc28, \\uc758\\ub8cc\\ud658\\uacbd \\ub4f1 \\ub2e4\\uc591\\ud55c \\uace0\\ubd80\\uac00 \\uac00\\uce58 \\uc735\\ud569\\uc2dc\\uc7a5\\uc774 \\uc9c0\\uc18d\\uc801\\uc73c\\ub85c \\ud655\\ub300\\ub420 \\uc804\\ub9dd\\uc785\\ub2c8\\ub2e4.\\n\\ud0dc\\uc591\\uad11 \\uc0b0\\uc5c5\\uc758 \\uc7a5\\uae30 \\uc131\\uc7a5\\uc131\\uc5d0\\ub294 \\ud06c\\uac8c \\uc758\\uc2ec\\ud560 \\ub9cc\\ud55c \\uc5ec\\uc9c0\\uac00 \\uc5c6\\uc73c\\ub098, \\ub3d9 \\uc0b0\\uc5c5\\uc740\\n\\uadf8\\ub9ac\\ub4dc\\ud328\\ub7ec\\ud2f0(Grid Parity, \\ud0dc\\uc591\\uad11 \\ub4f1\\uc758 \\ub300\\uccb4\\uc5d0\\ub108\\uc9c0\\ub85c \\uc804\\uae30\\ub97c \\uc0dd\\uc0b0\\ud558\\ub294 \\ubc1c\\uc804\\uc6d0\\uac00\\uac00 \\uc6d0\\uc720 \\ub4f1 \\ud654\\uc11d\\uc5f0\\ub8cc\\uc758 \\ubc1c\\uc804 \\uc6d0\\uac00\\uc640 \\uac19\\uc544\\uc9c0\\ub294 \\uc2dc\\uae30)\\uc5d0 \\ub3c4\\ub2ec\\ud560 \\ub54c\\uae4c\\uc9c0 \\uc815\\ubd80\\uc758 \\uc9c0\\uc6d0\\uc774 \\ud544\\uc694\\ud55c \\uc0b0\\uc5c5\\uc785\\ub2c8\\ub2e4. \\uc720\\ub7fd\\uc758 \\uc7ac\\uc815\\uc704\\uae30\\uc758 \\uc5ec\\ud30c\\ub85c \\ub3c5\\uc77c, \\uc2a4\\ud398\\uc778, \\uc774\\ud0c8\\ub9ac\\uc544\\ub97c \\ube44\\ub86f\\ud55c \\uc720\\ub7fd \\uc8fc\\uc694 \\uad6d\\uac00\\ub4e4\\uc758 \\ubcf4\\uc870\\uae08 \\ucd95\\uc18c\\ub85c \\uc778\\ud574 \\uc720\\ub7fd \\ud0dc\\uc591\\uad11 \\uc2dc\\uc7a5\\uc758 \\uc131\\uc7a5\\uc774 \\ub454\\ud654\\ub418\\uc5c8\\uc73c\\ub098, 2011\\ub144\\uc5d0 \\ubc1c\\uc0dd\\ud55c \\ud6c4\\ucfe0\\uc2dc\\ub9c8 \\uc6d0\\uc804 \\uc0ac\\ud0dc\\ub85c \\uc778\\ud55c \\uc77c\\ubcf8 \\uc218\\uc694\\uc758 \\uae09\\uc99d, \\uc911\\uad6d \\ubc0f \\ubbf8\\uad6d\\uc758 \\uce5c\\ud658\\uacbd \\uc5d0\\ub108\\uc9c0 \\ud655\\ub300\\uc815\\ucc45 \\ub4f1\\uc73c\\ub85c \\uad00\\ub828 \\uc0b0\\uc5c5\\uc758 \\uc131\\uc7a5\\ucd95 \\uc774\\ub3d9\\uc774 \\uc9c4\\ud589 \\uc911\\uc774\\uba70, \\ud604\\uc7ac \\ud638\\uc8fc \\ubc0f \\ud504\\ub791\\uc2a4 \\ub4f1 \\uc120\\uc9c4 \\ud0dc\\uc591\\uad11 \\uc2dc\\uc7a5\\uc774 \\ud655\\ub300\\ub418\\uace0 \\uc788\\uc73c\\uba70, \\uc778\\ub3c4, \\ub3d9\\ub0a8\\uc544\\uc2dc\\uc544 \\ubc0f \\uc911\\ub0a8\\ubbf8 \\ub4f1 \\uc774\\uba38\\uc9d5 \\ub9c8\\ucf13 \\uc218\\uc694\\uac00 \\ube60\\ub974\\uac8c \\uc99d\\uac00\\ud574 \\uacf5\\uae09\\uacfc\\uc789\\uc73c\\ub85c \\uc778\\ud55c \\ubd80\\uc9c4\\uc744 \\uc810\\ucc28 \\ud574\\uc18c\\ud574 \\uac00\\uace0 \\uc788\\uc5b4 \\uc810\\uc9c4\\uc801\\uc778 \\uc131\\uc7a5\\uc774 \\uc608\\uc0c1\\ub429\\ub2c8\\ub2e4.\\n\\ud734\\ub300\\ud3f0 \\uc0b0\\uc5c5\\uc740 2013\\ub144\\uae4c\\uc9c0 10%\\uc774\\uc0c1\\uc758 \\uc131\\uc7a5\\uc744 \\uac70\\ub4ed\\ud574 \\uc654\\uc73c\\uba70, 2014\\ub144\\ubd80\\ud130 8%\\uc218\\uc900\\uc758 \\uc548\\uc815\\uc801 \\uc131\\uc7a5\\uc744 \\ud574\\uc654\\uc73c\\ub098 \\ucd5c\\uadfc 2~4% \\uc218\\uc900\\uc758 \\uc131\\uc219\\uae30\\uc5d0 \\uc811\\uc5b4\\ub4e0 \\uac83\\uc73c\\ub85c \\ucd94\\uc815\\ub429\\ub2c8\\ub2e4. \\uc131\\uc7a5\\ub960\\uc740 \\ub2e4\\uc18c \\uc815\\uccb4\\ub418\\uace0 \\uc788\\uc73c\\ub098, \\ubd81\\ubbf8/\\uc720\\ub7fd\\uc744 \\uae30\\ubc18\\uc73c\\ub85c \\uc548\\uc815\\ub41c \\uc218\\uc694\\uc640 \\uc911\\uad6d, \\uc778\\ub3c4 \\ub4f1 \\uc2e0\\ud765 \\uc2dc\\uc7a5\\uc774 \\uc131\\uc7a5\\uc73c\\ub85c \\uce68\\uccb4\\ub41c \\uc138\\uacc4\\uacbd\\uc81c \\uc18d\\uc5d0\\uc11c\\ub3c4 \\uc548\\uc815\\ub41c \\uc131\\uc7a5\\uc744 \\uc774\\uc5b4\\uac00\\uace0 \\uc788\\uc2b5\\ub2c8\\ub2e4.\\n(3) \\uacbd\\uae30\\ubcc0\\ub3d9\\uc758 \\ud2b9\\uc131\\n\\uc804\\uc790\\ubd80\\ud488 \\uc0ac\\uc5c5\\uc758 \\uc2dc\\uc7a5\\uc740 TV \\ubc0f \\uc0dd\\ud65c\\uac00\\uc804 \\uc2dc\\uc7a5\\uc758 \\uc5c5\\ud669\\uc5d0 \\ub530\\ub77c \\uc88c\\uc6b0\\ub418\\uace0 \\uc788\\uace0, \\ud2b9\\ud788 TV\\uc6a9 \\ubd80\\ud488\\uc2dc\\uc7a5\\uc740 \\ud328\\ub110\\uc5c5\\uccb4\\uc758 \\uc2e4\\uc801 \\ubc0f \\ud22c\\uc790 \\uaddc\\ubaa8\\uc5d0 \\ub530\\ub77c \\uc601\\ud5a5\\uc744 \\ubc1b\\uc2b5\\ub2c8\\ub2e4.\\nLED \\uc18c\\uc7ac\\uc0ac\\uc5c5\\uc740 LED TV, \\ub178\\ud2b8\\ubd81 \\ub4f1 IT \\uae30\\uae30\\uc640 LED \\uc870\\uba85\\uc5d0 \\uc8fc\\ub85c \\uc0ac\\uc6a9\\ub418\\uace0 \\uc788\\uc2b5\\ub2c8\\ub2e4. IT \\uae30\\uae30\\ub294 \\uacbd\\uae30\\ubcc0\\ub3d9\\uc5d0 \\ubbfc\\uac10\\ud55c \\uc601\\ud5a5\\uc744 \\ubc1b\\uc73c\\ubbc0\\ub85c \\uad00\\ub828 LED \\uc18c\\uc7ac\\uc0ac\\uc5c5\\ub3c4 \\uacbd\\uae30\\ubcc0\\ub3d9\\uc5d0 \\ubbfc\\uac10\\ud55c \\uacbd\\ud5a5\\uc744 \\ubcf4\\uc774\\uace0 \\uc788\\uc2b5\\ub2c8\\ub2e4.\\n\\ud0dc\\uc591\\uad11 \\ubaa8\\ub4c8 \\uc0ac\\uc5c5\\uc740 \\ubc1c\\uc804\\ub2e8\\uac00\\uc758 \\ubb38\\uc81c\\ub85c \\uc778\\ud574 \\ud55c\\uad6d \\uc815\\ubd80\\uc758 \\ubcf4\\uc870\\uae08 \\uc9c0\\uae09 \\uc815\\ucc45, \\uac00\\uc7a5 \\ud070 \\uc218\\uc694\\ucc98\\uc774\\uc790 \\uc0dd\\uc0b0\\ucc98\\uc778 \\uc911\\uad6d\\uc758 \\uc218\\uc694\\ub3d9\\ud5a5\\uc5d0 \\ubbfc\\uac10\\ud55c \\uc601\\ud5a5\\uc744 \\ubc1b\\uace0 \\uc788\\uc2b5\\ub2c8\\ub2e4.\\n\\ud734\\ub300\\ud3f0 \\uc0ac\\uc5c5\\uc740 2~3\\ub144\\uc758 \\uc9e7\\uc740 \\uad50\\uccb4 \\uc8fc\\uae30\\ub85c \\uc778\\ud574 \\ud0c0 \\uac00\\uc804\\uc81c\\ud488 \\ub300\\ube44 \\uafb8\\uc900\\ud55c \\uae30\\ubc18 \\uc218\\uc694\\ub97c \\uac00\\uc9c0\\uace0 \\uc788\\ub294 \\uad6c\\uc870\\uc774\\uba70 \\uc804\\ud615\\uc801\\uc778 B2C \\uc81c\\ud488\\uc774\\ubbc0\\ub85c \\uc804\\ubc18\\uc801\\uc778 \\uc18c\\ube44\\uc790 \\uacbd\\uae30\\uc5d0 \\uc601\\ud5a5\\uc744 \\ubc1b\\uace0 \\uc788\\uc2b5\\ub2c8\\ub2e4.\\n(4) \\uacbd\\uc7c1\\uc694\\uc18c\\n\\uc804\\uc790\\ubd80\\ud488 \\uc0b0\\uc5c5\\uc740 TV\\ubc0f \\uc0dd\\ud65c\\uac00\\uc804\\uc758 \\uc131\\uc7a5\\uc5d0 \\ub530\\ub978 \\uc5f0\\uad00\\uc0b0\\uc5c5\\uc73c\\ub85c\\uc11c \\uace0\\uae09\\ud654, \\ucc28\\ubcc4\\ud654\\uc5d0 \\ub530\\ub978 \\uc218\\uc694\\uc5d0 \\uc801\\uae30 \\ub300\\uc751\\ud560 \\uc218 \\uc788\\ub294 \\ud0c4\\ub825\\uc801\\uc778 System\\uad6c\\ucd95, \\uc6d0\\uc7ac\\ub8cc \\uc218\\uae09\\uc758 \\uc548\\uc815\\uc131, \\uac00\\uc804\\uc81c\\ud488 \\uc2dc\\uc7a5 \\uac00\\uaca9\\uacbd\\uc7c1 \\uc2ec\\ud654\\uc5d0 \\ub530\\ub978 \\uad00\\ub828 \\ubd80\\ud488 \\ub4f1\\uc758 \\uc6d0\\uac00 \\uc808\\uac10\\uc774 \\uc8fc\\uc694 \\uacbd\\uc7c1 \\uc694\\uc18c\\uc785\\ub2c8\\ub2e4. \\ub610\\ud55c \\ubb34\\uc120\\ucda9\\uc804\\uae30 \\uc0ac\\uc5c5\\uc740 \\ud30c\\uc6cc\\ubaa8\\ub4c8 \\uc0ac\\uc5c5\\uc744 \\ud1b5\\ud574 \\ucd95\\uc801\\ud55c \\ud68c\\ub85c \\uae30\\uc220\\uc744 \\ubc14\\ud0d5\\uc73c\\ub85c \\ucda9\\uc804\\ud6a8\\uc728 \\uae30\\uc220\\ub825\\uc744 \\ud655\\ubcf4\\ud558\\uace0 \\uc788\\uc73c\\uba70 \\uc2dc\\uc7a5 \\uc810\\uc720\\uc728 \\ud655\\ubcf4\\ub97c \\uc704\\ud574 \\uae00\\ub85c\\ubc8c \\ud734\\ub300\\ud3f0 \\uc5c5\\uccb4 \\ub4f1\\uacfc \\ud611\\ub825 \\ubc29\\uc548 \\ubaa8\\uc0c9\\uc5d0 \\uc5ed\\ub7c9\\uc744 \\uc9d1\\uc911\\ud558\\uace0 \\uc788\\uc2b5\\ub2c8\\ub2e4.\\nLED \\uc18c\\uc7ac\\uc0ac\\uc5c5\\uc758 \\uc131\\ud328\\ub294 \\uc548\\uc815\\uc801\\uc778 \\uace0\\uac1d\\uae30\\ubc18\\uc758 \\ud655\\ubcf4\\uc640 \\ub300\\ub7c9\\uc0dd\\uc0b0\\uc744 \\uc704\\ud55c Capa\\n\\ud655\\ubcf4, \\ub192\\uc740 \\uc218\\uc728\\uc744 \\ud1b5\\ud55c \\uc6d0\\uac00 \\uacbd\\uc7c1\\ub825 \\ud655\\ubcf4 \\uc5ec\\ubd80\\uc5d0 \\ub2ec\\ub824 \\uc788\\uc2b5\\ub2c8\\ub2e4. \\ub2f9\\uc0ac\\ub294 \\ud604\\uc7ac\\nGlobal Top \\uc218\\uc900\\uc758 Capa\\ub97c \\uac16\\ucd94\\uace0 \\uc788\\uc73c\\uba70, \\ub04a\\uc784\\uc5c6\\ub294 \\ud601\\uc2e0\\ud65c\\ub3d9\\uc73c\\ub85c \\ub192\\uc740 \\uc218\\uc728 \\uc720\\uc9c0\\uc640 \\uc6d0\\uac00\\uc808\\uac10\\uc744 \\uc9c0\\uc18d\\ud558\\uace0 \\uc788\\uc73c\\uba70 \\uc774\\ub97c \\ud1b5\\ud574 \\uacbd\\uc7c1\\uc0ac \\ub300\\ube44 \\uc6b0\\uc704 \\ud655\\ubcf4\\ub97c \\uc704\\ud574\\n\\ub178\\ub825\\ud558\\uace0 \\uc788\\uc2b5\\ub2c8\\ub2e4. \\ub610\\ud55c \\ubcf4\\uc720\\ud55c \\uc5ed\\ub7c9\\uc744 \\uae30\\ubc18\\uc73c\\ub85c \\ud0c0\\uc0ac\\uc5c5\\uc73c\\ub85c\\uc758 \\ud655\\ub300 \\uac00\\ub2a5\\uc131\\uc744\\n\\uc9c0\\uc18d\\uc801\\uc73c\\ub85c \\ubaa8\\uc0c9\\ud558\\uace0 \\uc788\\uc2b5\\ub2c8\\ub2e4\\n\\ud0dc\\uc591\\uad11 \\uc0ac\\uc5c5 \\uc911 \\ubaa8\\ub4c8\\ubd80\\ubb38\\uc740 TV BLU \\uc870\\ub9bd\\uc0ac\\uc5c5\\uc744 \\ud1b5\\ud574 \\ucd95\\uc801\\ud55c \\uc870\\ub9bd/\\uc81c\\uc870 \\uacbd\\ud5d8\\uc744\\n\\ubc14\\ud0d5\\uc73c\\ub85c \\ub192\\uc740 \\uace0\\uac1d \\uc120\\ud638\\ub3c4\\ub97c \\ud655\\ubcf4\\ud558\\uace0 \\uc788\\uc73c\\uba70, \\uc6b0\\uc218\\ud55c \\uae30\\uc220\\ub825 \\uae30\\ubc18\\uc758 \\uace0\\ud6a8\\uc728 \\ubc0f \\uc218\\uc0c1\\ud615 \\ubaa8\\ub4c8 \\uac1c\\ubc1c, \\ucd5c\\uace0\\uc758 \\ud488\\uc9c8 \\ubc0f \\uc6d0\\uac00 \\uacbd\\uc7c1\\ub825\\uc744 \\uac16\\ucd94\\uace0 \\uc788\\uc5b4 \\uad6d\\ub0b4\\uc2dc\\uc7a5\\uc5d0\\uc11c\\uc758 \\uacac\\uace0\\ud55c \\uc704\\uce58\\ub97c \\uc810\\uc720\\ud558\\uace0 \\uc788\\uc2b5\\ub2c8\\ub2e4.\\n\\ud734\\ub300\\ud3f0 \\uc0ac\\uc5c5\\uc740 User-Interface, \\ub514\\uc790\\uc778, \\ubc30\\ud130\\ub9ac \\uc218\\uba85, \\uc815\\ubcf4\\ucc98\\ub9ac\\ub2a5\\ub825 \\ub4f1\\uc774 \\uc911\\uc694\\ud55c\\uacbd\\uc7c1 \\uc694\\uc18c\\uc774\\uba70, \\uc0bc\\uc131\\uacfc \\uc560\\ud50c \\ub4f1\\uc758 Global Player \\ub4e4\\uc774 \\ucc28\\ubcc4\\ud654\\ub97c \\ub9cc\\ub4e4\\uc5b4 \\ub0b4\\uae30 \\uc704\\ud574\\ub178\\ub825\\ud558\\uace0 \\uc788\\uc2b5\\ub2c8\\ub2e4. \\ub2f9\\uc0ac\\uc758 \\ud734\\ub300\\ud3f0 \\uc0ac\\uc5c5\\uc740 Global Top Tier \\uace0\\uac1d\\uc5d0\\uac8c \\uacf5\\uae09\\ud558\\uae30 \\uc704\\ud55c \\ub6f0\\uc5b4\\ub09c \\uc81c\\uc870 \\uc5ed\\ub7c9\\uc774 \\uacbd\\uc7c1\\uc758 \\ud575\\uc2ec\\uc694\\uc18c\\ub77c\\uace0 \\ud560 \\uc218 \\uc788\\uc2b5\\ub2c8\\ub2e4.\\n(5) \\uc790\\uc6d0\\uc870\\ub2ec\\uc758 \\ud2b9\\uc131\\n\\uc804\\uc790\\ubd80\\ud488 \\uc0ac\\uc5c5\\uc758 \\uc8fc\\uc694 \\uc6d0\\uc7ac\\ub8cc\\uc778 Control PBA, \\ucf58\\ub374\\uc11c, IC\\ucee8\\ud2b8\\ub864\\ub7ec \\ub4f1\\uc740 \\uad6d\\ub0b4\\uc678\\uc5d0 \\uacf5\\uae09\\uc5c5\\uccb4\\uac00 \\ub2e4\\uc218\\uac00 \\uc788\\uc5b4 \\uc6d0\\uc790\\uc7ac \\ub4f1\\uc744 \\uc548\\uc815\\uc801\\uc73c\\ub85c \\uc870\\ub2ec\\ud560 \\uc218 \\uc788\\uc2b5\\ub2c8\\ub2e4.\\nLED \\uc789\\uacf3\\uc758 \\uc6d0\\uc7ac\\ub8cc\\uc778 \\uc54c\\ub8e8\\ubbf8\\ub098(alumina)\\ub294 \\ubbf8\\uad6d, \\ud504\\ub791\\uc2a4, \\uc77c\\ubcf8, \\uc911\\uad6d \\ub4f1\\uc9c0\\uc5d0\\uc11c \\uc218\\uc785\\ud558\\uace0 \\uc788\\uc73c\\uba70, \\uacf5\\uae09 Capa\\ub3c4 \\uc5ec\\uc720\\uac00 \\uc788\\uc5b4 \\uc548\\uc815\\uc801\\uc73c\\ub85c \\uc870\\ub2ec\\ub418\\uace0 \\uc788\\uc2b5\\ub2c8\\ub2e4.\\n\\ud0dc\\uc591\\uad11 \\uc0ac\\uc5c5\\uc758 \\uc8fc\\uc694 \\uc6d0\\uc7ac\\ub8cc\\uc778 CELL\\uc740 \\uad6d\\ub0b4 \\ubc0f \\uc911\\uad6d \\ub4f1 \\ub2e4\\uc591\\ud55c \\uad6c\\ub9e4\\ucc98\\ub85c\\ubd80\\ud130 \\uc870\\ub2ec\\uc774 \\uc774\\ub8e8\\uc5b4\\uc9c0\\uace0 \\uc788\\uc2b5\\ub2c8\\ub2e4.\\n(6) \\uad00\\ub828 \\ubc95\\ub839 \\ub610\\ub294 \\uc815\\ubd80\\uc758 \\uaddc\\uc81c\\n- \\ud574\\ub2f9\\uc0ac\\ud56d \\uc5c6\\uc74c\\n\\ub098. \\ud68c\\uc0ac\\uc758 \\ud604\\ud669\\n(1) \\uc601\\uc5c5\\uac1c\\ud669 \\ubc0f \\uc0ac\\uc5c5\\ubd80\\ubb38\\uc758 \\uad6c\\ubd84\\n(\\uac00) \\uc601\\uc5c5\\uac1c\\ud669\\nTV \\uc2dc\\uc7a5\\uc740 \\uae00\\ub85c\\ubc8c \\uacbd\\uae30\\uce68\\uccb4\\ub85c \\uc131\\uc7a5\\uc774 \\ub454\\ud654\\ub418\\uc5c8\\uc73c\\uba70, \\uace0\\uac1d\\uc0ac \\ud574\\uc678 \\uc0dd\\uc0b0 \\ud655\\ub300, \\ud310\\uac00 \\ud558\\ub77d \\ub4f1\\uc73c\\ub85c \\uc778\\ud558\\uc5ec \\uacbd\\uc601 \\ud658\\uacbd\\uc5d0 \\uc545\\ud654 \\uc694\\uc778\\uc73c\\ub85c \\uc791\\uc6a9\\ud558\\uc600\\uc2b5\\ub2c8\\ub2e4. \\uadf8\\ub7ec\\ub098 TV\\uc758 \\ub300\\ud615\\ud654, UHD \\ub4f1\\uc758 \\ud504\\ub9ac\\ubbf8\\uc5c4 \\uace0\\ud654\\uc9c8\\ud654, \\uace0\\uac1d\\uc0ac\\uc758 \\uacf5\\uaca9\\uc801\\uc778 \\ud310\\ub9e4\\ud655\\ub300, \\ub9c8\\uc774\\ud06c\\ub85c LED TV \\ub4f1 \\ud2b9\\ud654\\ub41c \\uc81c\\ud488\\uc758 \\uc2dc\\uc7a5\\uc774 \\ud655\\ub300 \\ub418\\uc5b4 \\uad00\\ub828 \\uc218\\uc694\\uac00 \\uc99d\\uac00\\ud560 \\uac83\\uc73c\\ub85c \\uc608\\uc0c1\\ub418\\uba70 \\ub2f9\\uc0ac\\ub294 \\ub300\\ud615\\uc778\\uce58, UHD TV \\ub4f1 \\ud2b9\\ud654\\ub41c \\uace0\\uae09, \\uace0\\ubd80\\uac00\\uac00\\uce58 \\ubaa8\\ub378 \\uc911\\uc2ec \\uc0dd\\uc0b0\\uc744 \\ud1b5\\ud574 \\uc804\\uc790 \\ubd80\\ud488 \\uc0ac\\uc5c5\\uc744 \\uc548\\uc815\\uc801\\uc73c\\ub85c \\uc6b4\\uc601\\ud574 \\ub098\\uac08 \\uac83\\uc774\\uba70, \\uc0dd\\ud65c\\uac00\\uc804\\uc6a9 \\ud30c\\uc6cc\\ub294 \\ub2f9\\uc0ac\\uc758 \\ub6f0\\uc5b4\\ub09c \\ud488\\uc9c8/\\uc81c\\uc870 \\uacbd\\uc7c1\\ub825\\uc744 \\uae30\\ubc18\\uc73c\\ub85c \\ub0c9\\uc7a5\\uace0, \\uc5d0\\uc5b4\\ucee8, \\uc138\\ud0c1\\uae30 \\ub4f1 \\ub300\\ud45c\\uc801\\uc778 \\ubc31\\uc0c9\\uac00\\uc804 \\uc2dc\\uc7a5\\uc73c\\ub85c \\uc0ac\\uc5c5\\uc744 \\ud655\\ub300 \\uc911\\uc5d0 \\uc788\\uc2b5\\ub2c8\\ub2e4\\n\\ud734\\ub300\\ud3f0 \\ubb34\\uc120 \\ucda9\\uc804\\uae30\\uc6a9 \\ud30c\\uc6cc\\ub294 \\uc0c8\\ub85c\\uc6b4 \\uacf5\\ubc95\\uacfc \\uc18c\\uc7ac\\ub97c \\uac1c\\ubc1c/\\uc801\\uc6a9\\ud558\\uc5ec \\uacbd\\uc7c1\\uc0ac \\ub300\\ube44\\ucc28\\ubcc4\\ud654\\ub97c \\ud1b5\\ud574 \\uc81c\\ud488 \\uad70\\uc744 \\ud655\\ub300\\ud574 \\ub098\\uac00\\uace0 \\uc788\\uc2b5\\ub2c8\\ub2e4.\\nLED\\uc18c\\uc7ac \\uc0ac\\uc5c5\\uc740 LED TV \\uc2dc\\uc7a5\\uacfc LED \\uc870\\uba85 \\uc2dc\\uc7a5\\uc758 \\uc131\\uc7a5\\uc5d0 \\ud798\\uc785\\uc5b4 \\uafb8\\uc900\\ud788 \\uc218\\uc694\\uac00 \\uc99d\\uac00\\ud558\\uace0 \\uc788\\uc73c\\ub098 \\uacf5\\uae09\\uacfc\\uc789\\uc73c\\ub85c \\uc778\\ud55c \\uac00\\uaca9\\ud558\\ub77d\\uc73c\\ub85c LED \\uc5c5\\uacc4\\uac00 \\uc804\\ubc18\\uc801\\uc778 \\uce68\\uccb4\\ub97c \\uacaa\\uace0 \\uc788\\uc2b5\\ub2c8\\ub2e4. LED \\uc218\\uc694\\uac00 \\uc790\\ub3d9\\ucc28\\uc6a9, \\uc758\\ub8cc\\uc6a9, \\uc0b0\\uc5c5\\uc6a9 \\ub4f1 \\ub2e4\\uc591\\ud55c \\ubd84\\uc57c\\uc5d0\\uc11c LED \\uc0ac\\uc6a9\\ub960\\uc774 \\uc99d\\uac00\\ud558\\uace0 \\uc788\\uc73c\\ub098, \\ub2f9\\ubd84\\uac04\\uc740 \\uacf5\\uae09\\uacfc\\uc789\\uc774 \\uc9c0\\uc18d \\ub420 \\uac83\\uc73c\\ub85c \\uc608\\uc0c1\\ub429\\ub2c8\\ub2e4. \\ub2f9\\uc0ac\\ub294 \\uc218\\uc728 \\uac1c\\uc120\\uc744 \\ud3ec\\ud568\\ud55c \\uc0dd\\uc0b0\\uc131 \\ud5a5\\uc0c1 \\ubc0f \\uc6d0\\uac00\\ud601\\uc2e0\\uc744 \\ud1b5\\ud574 \\ud604\\uc7ac\\uc758 \\uce68\\uccb4\\uae30\\uc5d0\\uc11c \\uc0dd\\uc874\\ud560 \\ubfd0 \\uc544\\ub2c8\\ub77c\\n\\ud574\\ub2f9 \\ubd84\\uc57c\\uc5d0\\uc11c \\ucd95\\uc801\\ud55c \\uc5ed\\ub7c9\\uc744 \\ud65c\\uc6a9\\ud55c \\uc0c8\\ub85c\\uc6b4 \\uae30\\ud68c\\ub3c4 \\uc9c0\\uc18d\\uc801\\uc73c\\ub85c \\ubaa8\\uc0c9\\ud558\\uace0 \\uc788\\uc2b5\\ub2c8\\ub2e4.\\n\\ud0dc\\uc591\\uad11 \\ubaa8\\ub4c8 \\uc0ac\\uc5c5\\uc740 \\uae00\\ub85c\\ubc8c \\uacbd\\uae30\\uce68\\uccb4\\uc5d0\\ub3c4 \\ubd88\\uad6c\\ud558\\uace0 \\ubbf8\\uad6d, \\uc720\\ub7fd, \\ud55c\\uad6d \\ub4f1\\uc758 \\uce5c\\ud658\\uacbd \\uc5d0\\ub108\\uc9c0 \\uc815\\ucc45, \\ud6c4\\ucfe0\\uc2dc\\ub9c8 \\uc6d0\\uc804\\uc0ac\\ud0dc \\uc774\\ud6c4 \\uce5c\\ud658\\uacbd \\uc5d0\\ub108\\uc9c0 \\uc218\\uc694\\uc99d\\uac00\\ub85c \\uafb8\\uc900\\ud788 \\uc218\\uc694\\uac00 \\uc99d\\uac00\\ucd94\\uc138\\uc5d0 \\uc788\\uc73c\\uba70, \\uae30\\uc220\\uc758 \\ubc1c\\uc804 \\ubc0f \\uc81c\\uc870\\uc0ac\\uc758 \\uc6d0\\uac00\\uc808\\uac10 \\ub178\\ub825\\uc73c\\ub85c \\uadf8\\ub9ac\\ub4dc \\ud328\\ub9ac\\ud2f0\\uc758 \\uc870\\uae30\\ub3c4\\ub2ec \\uac00\\ub2a5\\uc131\\uc774 \\ub192\\uc544\\uc9c0\\ub294 \\ub4f1 \\uc2dc\\uc7a5\\uc218\\uc694 \\ud655\\ub300\\uac00 \\uc9c0\\uc18d\\ub420 \\uac83\\uc73c\\ub85c \\uc608\\uc0c1 \\ub429\\ub2c8\\ub2e4. \\ub2f9\\uc0ac\\ub294 \\ubbf8\\uad6d\\uc758 Safe-Guard Risk \\ub4f1 \\uce58\\uc5f4\\ud55c \\uacbd\\uc7c1\\uc0c1\\ud669\\uc5d0\\uc11c\\ub3c4 \\uc0dd\\uc0b0\\uc218\\uc728 \\uac1c\\uc120, \\uace0\\ud6a8\\uc728 \\ubaa8\\ub4c8 \\uac1c\\ubc1c \\ub4f1 \\uae30\\uc220\\ub825\\uc744 \\ud655\\ubcf4\\ud558\\uc5ec \\ud0dc\\uc591\\uad11 \\ubaa8\\ub4c8 \\ubd84\\uc57c\\uc758 \\uc218\\uc775 \\ucc3d\\ucd9c\\uc744 \\ud560 \\uc218 \\uc788\\ub294 \\ub0b4\\ubd80 \\uacbd\\uc7c1\\ub825\\uc744 \\uac16\\ucd94\\uace0 \\ubc1c\\uc804\\uc2dc\\ucf1c \\ub098\\uac00\\uace0 \\uc788\\uc2b5\\ub2c8\\ub2e4.\\n\\ud734\\ub300\\ud3f0 \\uc0ac\\uc5c5\\uc740Global Top Tier\\uc758 \\uace0\\uac1d\\uacfc \\uacf5\\uae09\\ub9dd\\uc744 \\uac16\\ucd94\\uace0 \\uc788\\uc73c\\ubbc0\\ub85c \\ube44\\uad50\\uc801 \\uc0ac\\uc5c5\\uc5d0 \\ub300\\ud55c \\uc548\\uc815\\uc131\\uc744 \\uac16\\ucd94\\uace0 \\uc788\\uc73c\\uba70 \\ub6f0\\uc5b4\\ub09c \\uc81c\\uc870 \\uc5ed\\ub7c9\\uc744 \\uae30\\ubc18\\uc73c\\ub85c \\uacbd\\uc7c1\\ub825 \\uc788\\ub294 \\ud488\\uc9c8\\uacfc \\uc6d0\\uac00 \\ud655\\ubcf4\\ub97c \\uc704\\ud55c \\uc9c0\\uc18d\\uc801\\uc778 \\ub178\\ub825\\uc744 \\uae30\\uc6b8\\uc774\\uace0 \\uc788\\uc2b5\\ub2c8\\ub2e4.\\n\\u25ce \\ub144\\ub3c4\\ubcc4 \\ub9e4\\ucd9c\\uc2e4\\uc801\\ucd94\\uc774\\n(\\ub2e8\\uc704 : \\ubc31\\ub9cc\\uc6d0)\\n\\uad6c \\ubd84\\n2019\\ub144 \\ub144\\uac04\\n2018\\ub144 \\ub144\\uac04\\n2017\\ub144 \\ub144\\uac04\\n\\ud30c\\uc6cc\\ubcf4\\ub4dc\\n437,679\\n314,953\\n328,858\\n\\ud734\\ub300\\ud3f0\\n316,504\\n312,257\\n334,399\\n\\uae30\\ud0c0 \\uc804\\uc790\\ubd80\\ud488\\n40,437\\n39,457\\n37,112\\n\\uc194\\u00a0\\u00a0 \\ub77c\\n162,744\\n140,104\\n192,113\\nLED \\uc18c\\uc7ac\\n14,879\\n35,128\\n42,773\\n\\uacc4\\n972,243\\n841,899\\n935,255\\n\\u25ce\\n\\uacf5\\uc2dc\\ub300\\uc0c1 \\uc0ac\\uc5c5\\ubd80\\ubb38\\uc758 \\uad6c\\ubd84\\n(\\ub2e8\\uc704 : %)\\n\\uad6c\\u00a0 \\ubd84\\n\\uc8fc\\uc694\\uc81c\\ud488\\uba85\\n\\ub0b4 \\uc6a9\\n\\ub9e4\\ucd9c\\uc561\\n\\ube44\\uc728\\n\\ube44 \\uace0\\n\\uc804\\u00a0 \\u00a0 \\uc790\\n\\ud30c\\uc6cc\\ubcf4\\ub4dc\\nLCD TV \\ubc0f \\uac00\\uc804 \\ubd80\\ud488, \\ubb34\\uc804\\ucda9\\uc804 \\ubd80\\ud488 \\ub4f1\\n45.0\\n-\\n\\ud734\\ub300\\ud3f0\\n\\ud734\\ub300\\ud3f0 \\uc644\\uc81c\\ud488 \\ub4f1\\n32.6\\n-\\n\\uae30\\ud0c0 \\uc804\\uc790\\ubd80\\ud488\\nLCD TV/ DID \\ubd80\\ud488, \\uc804\\uc7a5\\ubd80\\ud488 \\ub4f1\\n4.2\\n-\\n\\uc194\\u00a0 \\u00a0 \\ub77c\\n\\uc194\\ub77c\\ubaa8\\ub4c8\\nCell\\uc744 \\uc751\\uc6a9\\ud55c \\ubc1c\\uc804\\uc0ac\\uc5c5\\ubd80\\ud488\\n16.7\\n-\\nLED \\uc18c\\uc7ac\\n\\uc6e8\\uc774\\ud37c/\\uc789\\uacf3\\nLED \\uc870\\uba85/TV\\uc6a9 \\ub4f1 Chip \\uc0dd\\uc0b0\\ubd80\\ud488\\n1.5\\n-\\n\\uacc4\\n100.0\\n-\\n(2) \\uc2dc\\uc7a5\\uc810\\uc720\\uc728\\n\\uc0ac\\ud30c\\uc774\\uc5b4 \\uae00\\ub85c\\ubc8c\\uc2dc\\uc7a5\\n(\\uc790\\ub8cc : YOLE 2017.02)\\n\\ud0dc\\uc591\\uad11 \\uae00\\ub85c\\ubc8c \\uc2dc\\uc7a5\\n(\\uc790\\ub8cc : KTB\\ud22c\\uc790\\uc99d\\uad8c 2019.05)\\n(3) \\uc2dc\\uc7a5\\uc758 \\ud2b9\\uc131\\n1) \\uc804\\uc790\\ubd80\\ud488 \\uc2dc\\uc7a5\\n\\ubbf8/\\uc911\\uac04 \\ubb34\\uc5ed\\uc804\\uc7c1, \\uac01\\uad6d\\uc758 \\ubcf4\\ud638\\ubb34\\uc5ed \\uc5ec\\ud30c\\ub85c \\uc778\\ud55c \\uae00\\ub85c\\ubc8c \\uacbd\\uae30\\uc758 \\ubd88\\uc548\\uc815\\uc131 \\uc9c0\\uc18d, \\uc8fc\\uc694 IT\\uae30\\uae30\\uc758 \\ub192\\uc740 \\ubcf4\\uae09\\ub960 \\ub4f1\\uc758 \\uc694\\uc778\\uc73c\\ub85c \\uc804\\ubc29\\uc0b0\\uc5c5\\uc778 TV\\uc758 \\uc120\\uc9c4\\uad6d \\uc218\\uc694\\ub294 \\uc815\\uccb4 \\uacbd\\ud5a5\\uc744 \\ubcf4\\uc774\\uace0 \\uc788\\uc73c\\ub098, \\ud504\\ub9ac\\ubbf8\\uc5c4 \\uc81c\\ud488\\uc744 \\uc911\\uc2ec\\uc73c\\ub85c \\ud55c \\uad50\\uccb4\\uc218\\uc694\\uc640 \\ub354\\ubd88\\uc5b4 \\uc778\\ub3c4, \\uc911\\uad6d \\ub4f1 \\uc2e0\\ud765 \\uc2dc\\uc7a5\\uc5d0\\uc11c \\uc218\\uc694\\uac00 \\uc99d\\uac00\\ud558\\uace0 \\uc788\\uc73c\\uba70, \\uae30\\uc874 \\uc81c\\ud488\\uc758 \\uc0dd\\uc0b0\\ud6a8\\uc728 \\uc99d\\ub300, \\uc0dd\\ud65c\\uac00\\uc804 \\ub4f1 \\uc2e0\\uaddc \\uc81c\\ud488\\uad70 \\ud655\\ub300\\ub85c \\uafb8\\uc900\\ud788 \\uacbd\\uc7c1\\ub825\\uc744 \\ud655\\ub300\\ud574 \\ub098\\uac00\\uace0 \\uc788\\uc2b5\\ub2c8\\ub2e4.\\n\\ubb34\\uc120\\ucda9\\uc804 \\uc2dc\\uc7a5\\uc740 \\ubb34\\uc120\\ucda9\\uc804 \\uae30\\ub2a5\\uc774 \\ub0b4\\uc7a5\\ub41c \\ud504\\ub9ac\\ubbf8\\uc5c4\\uae09 \\ud734\\ub300\\ud3f0 \\ucd9c\\uc2dc\\uc640 \\ud568\\uaed8 \\ubcf8\\uaca9 \\uac1c\\ud654\\ub418\\uc5c8\\uc73c\\uba70, 2016\\ub144\\ubd80\\ud130 \\ubcf4\\uae09\\ud615 \\ud734\\ub300\\ud3f0\\uc73c\\ub85c\\uc758 \\uc801\\uc6a9 \\ud655\\ub300 \\ubc0f \\uc911\\uad6d \\ub4f1 \\ud6c4\\ubc1c \\uc81c\\uc870\\uc0ac\\uc758 \\ubb34\\uc120\\ucda9\\uc804 \\uc801\\uc6a9\\uc73c\\ub85c \\uc9c0\\uc18d\\uc801\\uc778 \\uc131\\uc7a5\\uc138\\ub97c \\ubcf4\\uc774\\uace0 \\uc788\\uc73c\\uba70, \\ub610\\ud55c, \\uac01\\uc885 \\ubaa8\\ubc14\\uc77c \\uc804\\uc790\\uae30\\uae30\\u5916 \\uc790\\ub3d9\\ucc28 \\ub4f1\\uc758 \\u975eIT\\uc0b0\\uc5c5\\uc73c\\ub85c\\uae4c\\uc9c0 \\ubb34\\uc120\\ucda9\\uc804 \\uc218\\uc694\\uac00 \\ub2e4\\uc591\\ud654 \\ub418\\uc5b4\\uac00\\uace0 \\uc788\\uc2b5\\ub2c8\\ub2e4. \\ub2f9\\uc0ac\\ub294 2015\\ub144 \\ud558\\ubc18\\uae30\\ubd80\\ud130 \\ud734\\ub300\\ud3f0\\uc6a9 \\ubb34\\uc120\\ucda9\\uc804 RX \\ubaa8\\ub4c8 \\uc0ac\\uc5c5\\uc5d0 \\uc9c4\\ucd9c\\ud55c \\uc774\\ub798, 2016\\ub144\\ubd80\\ud130 \\uc0bc\\uc131\\ud398\\uc774 RX \\ubaa8\\ub4c8\\uc774 \\uc911\\uc800\\uac00 \\ud734\\ub300\\ud3f0\\uc5d0 \\ud655\\ub300 \\uc801\\uc6a9\\ub428\\uc5d0 \\ub530\\ub77c \\uc810\\uc720\\uc728\\uacfc \\ub9e4\\ucd9c \\ud655\\ub300\\ub97c \\uc704\\ud574 \\uc81c\\uc870 \\uacbd\\uc7c1\\ub825\\uacfc \\ud488\\uc9c8\\uad00\\ub9ac\\ub85c \\uc9c0\\uc18d\\uc801\\uc778 \\ub178\\ub825\\uc744 \\uae30\\uc6b8\\uc774\\uace0 \\uc788\\uc2b5\\ub2c8\\ub2e4. \\uc774\\ub7ec\\ud55c \\ub178\\ub825\\uc758 \\uacb0\\uc2e4\\ub85c Global Top-tier\\uace0\\uac1d\\uc758 Supply Chain \\uc9c4\\uc785 \\ubc0f 2018\\ub144\\ubd80\\ud130 \\ud504\\ub9ac\\ubbf8\\uc5c4\\uae09 \\ubaa8\\ub378 1st Vendor\\ub85c\\uc368 \\uc218\\uc8fc\\ub97c \\uc9c0\\uc18d\\ud558\\uc5ec \\uc810\\ucc28 \\uadf8 \\uaddc\\ubaa8\\ub97c \\ud655\\ub300\\ud574 \\ub098\\uac00\\uace0 \\uc788\\uc2b5\\ub2c8\\ub2e4.\\n2) LED\\uc18c\\uc7ac \\uc2dc\\uc7a5\\nLED\\uc0b0\\uc5c5\\uc740 11\\ub144 \\ud558\\ubc18\\uae30\\ubd80\\ud130 \\ubcf8\\uaca9\\ud654\\ub41c \\uacf5\\uae09\\uacfc\\uc789\\uacfc \\uc218\\uc694 \\ubd80\\uc9c4\\uc73c\\ub85c \\uc778\\ud574 \\uc5b4\\ub824\\uc6c0\\uc744 \\uacaa\\uc5b4 \\uc654\\uc73c\\ub098 LED\\ub97c \\ucc44\\ud0dd\\ud558\\ub294 TV, \\uc790\\ub3d9\\ucc28 \\uc804\\uc870\\ub4f1 \\ub4f1 \\uc0b0\\uc5c5\\uc81c\\ud488, \\uc870\\uba85\\uc81c\\ud488 \\ub4f1\\uc758 \\ud655\\ub300\\uc5d0 \\ud798\\uc785\\uc5b4 \\uc218\\uc694\\uac00 \\uc99d\\uac00\\ud558\\ub294 \\ucd94\\uc138\\ub85c \\uc804\\ud658 \\ub418\\uc5c8\\uc2b5\\ub2c8\\ub2e4. \\ud2b9\\ud788 LED \\uc870\\uba85\\ubd80\\ubb38\\uc5d0\\uc11c\\ub294 \\uac00\\uaca9\\uc758 Sweet Spot \\ub3c4\\ub798 \\ubc0f \\uc911\\uad6d, \\ubbf8\\uad6d \\ub4f1\\uc758 \\ubc31\\uc5f4\\ub4f1 \\ud310\\ub9e4 \\uae08\\uc9c0 \\uc815\\ucc45 \\ub4f1\\uc5d0 \\ud798\\uc785\\uc5b4 \\uc218\\uc694\\uac00 \\ud06c\\uac8c \\uc99d\\uac00\\ud560 \\uac83\\uc73c\\ub85c \\uae30\\ub300\\ud558\\uace0 \\uc788\\uc2b5\\ub2c8\\ub2e4.\\n\\ucd5c\\uadfc \\uc8fc\\uc694 \\uc5c5\\uccb4\\ub4e4\\uc758 \\uc0ac\\uc5c5 Exit \\ub4f1 \\uc2dc\\uc7a5 \\uad6c\\uc870 \\uc870\\uc815\\uc774 \\uc77c\\uc5b4\\ub098\\uace0 \\uc788\\uc5b4 \\uc2dc\\uc7a5\\uc740 \\uaca9\\ub3d9\\uae30\\ub97c \\ub9de\\uc774\\ud558\\uace0 \\uc788\\uc73c\\uba70 \\ub2f9\\uc0ac\\ub294 \\uc774\\ub7ec\\ud55c \\uc5b4\\ub824\\uc6b4 \\uc2dc\\uc7a5\\uc0c1\\ud669 \\uadf9\\ubcf5\\uc744 \\uc704\\ud574 \\ud601\\uc2e0\\uc801 \\uc218\\uc728\\uac1c\\uc120, \\ud488\\uc9c8 \\uac15\\ud654, \\uc124\\ube44\\ud22c\\uc790\\ub97c \\ud1b5\\ud55c Global \\uc218\\uc900\\uc758 Capa\\ud655\\ubcf4, \\uc6e8\\uc774\\ud37c \\uac00\\uacf5\\uae30\\uc220\\uc744 \\ud65c\\uc6a9\\ud55c \\uc2e0\\uaddc\\uc601\\uc5ed \\uc9c4\\uc785 \\ub4f1 \\uc0dd\\uc874\\uc744 \\ub118\\uc5b4 \\uc2dc\\uc7a5\\ud658\\uacbd \\ubcc0\\ud654\\uc5d0 \\ub300\\uc751\\ud558\\uae30 \\uc704\\ud55c \\uc900\\ube44\\ub97c \\ucc28\\uc9c8 \\uc5c6\\uc774 \\ud574\\ub098\\uac00\\uace0 \\uc788\\uc2b5\\ub2c8\\ub2e4.\\n3) \\ud0dc\\uc591\\uad11 \\ubaa8\\ub4c8 \\uc2dc\\uc7a5\\n\\uc138\\uacc4 \\ud0dc\\uc591\\uad11\\uc2dc\\uc7a5\\uc740 \\uc911\\uad6d\\uacfc \\ubbf8\\uad6d\\uc758 \\ubb34\\uc5ed \\ubd84\\uc7c1 \\ubc0f \\uc911\\uad6d\\uc758 \\uacf5\\uae09\\uacfc\\uc789 \\ub4f1\\uc73c\\ub85c 18\\ub144\\n\\uc911\\uad6d\\uc2dc\\uc7a5 \\uc218\\uc694\\uac00 \\uac10\\uc18c\\ub418\\uc5c8\\uc74c\\uc5d0\\ub3c4 \\ubd88\\uad6c \\uc778\\ub3c4\\uc640 \\ub0a8\\ubbf8 \\ub4f1 \\uac1c\\ubc1c\\ub3c4\\uc0c1\\uad6d\\uc758 \\uc218\\uc694\\uc99d\\uac00\\uc5d0 \\ub530\\ub77c 18\\ub144\\ub3c4 103GW, 19\\ub144\\ub3c4\\ub294 129GW \\uc774\\uc0c1\\uc774 \\ub420\\uac83\\uc73c\\ub85c \\uc608\\uc0c1\\ud558\\uace0 \\uc788\\uc2b5\\ub2c8\\ub2e4. \\ub610\\ud55c \\uad6d\\ub0b4 \\uc2dc\\uc7a5\\uc740 \\uc815\\ubd80\\uc758 \\uac15\\ub825\\ud55c \\uc2e0\\uc7ac\\uc0dd \\uc5d0\\ub108\\uc9c0 \\ucd09\\uc9c4 \\uc815\\ucc45\\uc5d0 \\ub530\\ub77c \\uc9c0\\uc18d\\uc801\\uc778 \\uc218\\uc694 \\uc99d\\uac00\\uac00 \\uc608\\uc0c1 \\ub429\\ub2c8\\ub2e4. \\ub530\\ub77c\\uc11c \\ub2f9\\uc0ac\\ub294 \\uad6d\\ub0b4\\uc2dc\\uc7a5\\uc5d0\\uc11c\\uc758 \\ud0c4\\ud0c4\\ud55c \\uc785\\uc9c0\\uae30\\ubc18\\uc744 \\ubc14\\ud0d5\\uc73c\\ub85c, \\uae30\\uc874 \\ubbf8\\uad6d\\uc2dc\\uc7a5 \\uc678\\uc5d0 \\uc601\\uc5c5\\ucc44\\ub110\\uc744 \\ub2e4\\ubcc0\\ud654\\ud558\\uc5ec \\ud310\\ub9e4\\ub7c9\\uc744 \\uc99d\\ub300\\ud558\\uace0 \\ub2e4\\uc591\\ud55c Biz. \\ubaa8\\ub378 \\uac1c\\ubc1c\\uc744 \\ud1b5\\ud574 \\uc2e0\\uaddc\\uc2dc\\uc7a5\\uc744 \\ud655\\uc7a5\\ud574 \\ub098\\uac00\\uaca0\\uc2b5\\ub2c8\\ub2e4.\\n4) \\ud734\\ub300\\ud3f0 \\uc2dc\\uc7a5\\n\\uc138\\uacc4 \\uc2a4\\ub9c8\\ud2b8\\ud3f0 \\uc2dc\\uc7a5\\uc740 \\uc5f0\\ud3c9\\uade0 2~4% \\uc218\\uc900\\uc73c\\ub85c \\uacfc\\uac70 \\ubcf4\\ub2e4\\ub294 \\uc131\\uc7a5\\uc138\\uac00 \\ub454\\ud654\\ub418\\uae30\\ub3c4 \\ud558\\uc600\\uc73c\\ub098 \\uac1c\\ubc1c \\ub3c4\\uc0c1\\uad6d\\uc758 \\uc2a4\\ub9c8\\ud2b8\\ud3f0 \\ud310\\ub9e4 \\ud638\\uc870\\ub85c \\uc5ec\\uc804\\ud788 \\uacac\\uc870\\ud55c \\uc131\\uc7a5\\uc138\\ub97c \\ubcf4\\uc774\\uace0 \\uc788\\uc2b5\\ub2c8\\ub2e4.\\u00a0 \\ud2b9\\ud788 \\ub2f9\\uc0ac\\uc758 \\uace0\\uac1d\\uc740 \\uc138\\uacc4\\uc2dc\\uc7a5 \\uc810\\uc720\\uc728 20% \\uc774\\uc0c1\\uc73c\\ub85c Global M/S 1\\uc704\\ub97c \\ucc28\\uc9c0\\ud558\\uace0 \\uc788\\uc73c\\uba70, \\ub2f9\\uc0ac\\ub294 Capa\\uc99d\\uc124\\uacfc \\ucd5c\\uace0\\uc758 \\uc81c\\uc870 \\uacbd\\uc7c1\\ub825\\uc744 \\uae30\\ubc18\\uc73c\\ub85c \\uc6d0\\uac00\\uc640 \\ud488\\uc9c8 \\uce21\\uba74\\uc5d0\\uc11c \\uace0\\uac1d\\uc0ac\\uc758 Best \\ud30c\\ud2b8\\ub108\\ub97c \\uc720\\uc9c0 \\ud558\\uaca0\\uc2b5\\ub2c8\\ub2e4.\\n(4) \\uc2e0\\uaddc\\uc0ac\\uc5c5 \\ub4f1\\uc758 \\ub0b4\\uc6a9 \\ubc0f \\uc804\\ub9dd\\n\\ub2f9\\uc0ac\\ub294 \\ud5a5\\ud6c4 \\uc0c8\\ub85c\\uc6b4 \\ubbf8\\ub798 \\uc131\\uc7a5\\ub3d9\\ub825\\uc744 \\ud655\\ubcf4\\ud558\\uace0\\uc790 \\uae30\\uc874\\uc0ac\\uc5c5\\uacfc\\uc758 \\uc720\\uad00 \\ubd84\\uc57c\\uc640 \\ubcf4\\uc720\\uc5ed\\ub7c9 \\ud65c\\uc6a9 \\uac00\\ub2a5\\ud55c \\uc2e0\\uaddc \\uc544\\uc774\\ud15c Incubation\\uc744 \\uc704\\ud55c \\ub0b4\\ubd80 \\ud504\\ub85c\\uc138\\uc2a4\\ub97c \\uac16\\ucd94\\uace0 \\uc9c0\\uc18d\\uc801\\uc778 \\ubc1c\\uad74\\uc744 \\ud574 \\ub098\\uac00\\uace0 \\uc788\\uc73c\\uba70, M&A\\ub97c \\ud1b5\\ud55c \\uc131\\uc7a5\\uae30\\ud68c \\ubc1c\\uad74\\uc744 \\uc704\\ud55c \\uc900\\ube44\\ub3c4 \\uafb8\\uc900\\ud788 \\ud558\\uace0 \\uc788\\uc2b5\\ub2c8\\ub2e4. \\ub2f9\\uc0ac\\uc758 \\ud575\\uc2ec\\uc5ed\\ub7c9\\uacfc \\ud30c\\ud2b8\\ub108\\ub4e4\\uacfc\\uc758 \\ud611\\uc5c5\\uc744 \\ud1b5\\ud574 \\ub2f9\\uc0ac\\uac00 \\ucd94\\uc9c4\\ud558\\ub294 \\uc2e0\\uaddc\\uc0ac\\uc5c5\\uc774 \\uc131\\uacf5\\uc801\\uc73c\\ub85c \\ub860\\uce6d\\ub420 \\uac83\\uc73c\\ub85c \\uc608\\uc0c1\\ud558\\uba70, \\ud68c\\uc0ac\\uc758 \\uc2e0\\uaddc \\uc131\\uc7a5\\ub3d9\\ub825\\uc73c\\ub85c \\uc790\\ub9ac\\ub9e4\\uae40 \\ud560 \\uac83\\uc73c\\ub85c \\uae30\\ub300\\ud558\\uace0 \\uc788\\uc2b5\\ub2c8\\ub2e4.\\n2. \\uc8fc\\uc694 \\uc81c\\ud488 \\ubc0f \\uc6d0\\uc7ac\\ub8cc \\ub4f1\\n(1) \\uc8fc\\uc694 \\uc81c\\ud488 \\ub4f1\\uc758 \\ud604\\ud669\\n(\\ub2e8\\uc704 : \\ubc31\\ub9cc\\uc6d0,%)\\n\\uc0ac\\uc5c5\\ubd80\\ubb38\\n\\ub9e4\\ucd9c\\uc720\\ud615\\n\\ud488 \\ubaa9\\n\\uad6c\\uccb4\\uc801\\uc6a9\\ub3c4\\n\\uc8fc\\uc694\\uc0c1\\ud45c\\ub4f1\\n\\ub9e4\\ucd9c\\uc561\\n(\\ube44\\uc728)\\n\\uc804\\uc790\\ubd80\\ud488\\n\\uc81c\\ud488\\n\\ud30c\\uc6cc\\ubcf4\\ub4dc\\nLCD TV \\ubd80\\ud488,\\n\\ubb34\\uc120\\ucda9\\uc804 \\ubd80\\ud488, \\uc870\\uba85\\nHANSOL,\\nOEM\\ube0c\\ub79c\\ub4dc\\n332,313\\n(34.2)\\n\\ud734\\ub300\\ud3f0\\n\\ud734\\ub300\\ud3f0 \\uc644\\uc81c\\ud488,\\n\\ud734\\ub300\\ud3f0 \\ubd80\\ud488\\n\\\"\\n314,351\\n(32.3)\\n\\uae30\\ud0c0\\n\\uc804\\uc790\\ubd80\\ud488\\nLCD TV,DID \\ubd80\\ud488,\\nESS, \\uc194\\ub77c\\ubc1c\\uc804\\ubd80\\ud488\\n\\\"\\n37,503\\n(3.9)\\n\\uc194 \\ub77c\\n\\uc194\\ub77c\\ubaa8\\ub4c8\\nCell\\uc744 \\uc751\\uc6a9\\ud55c\\n\\ubc1c\\uc804\\uc0ac\\uc5c5 \\ubd80\\ud488\\n\\\"\\n157,474\\n(16.2)\\nLED\\uc18c\\uc7ac\\n\\uc6e8\\uc774\\ud37c,\\uc789\\uacf3\\nLED\\uc870\\uba85,TV\\uc6a9 \\ub4f1\\nChip \\uc0dd\\uc0b0\\ubd80\\ud488\\n\\\"\\n14,929\\n(1.5)\\n\\uc804\\uc790\\ubd80\\ud488\\n\\uc0c1\\ud488\\n\\ud30c\\uc6cc\\ubcf4\\ub4dc\\nLCD TV \\ubd80\\ud488,\\n\\ubb34\\uc120\\ucda9\\uc804 \\ubd80\\ud488, \\uc870\\uba85\\n\\\"\\n105,366\\n(10.8)\\n\\ud734\\ub300\\ud3f0\\n\\ud734\\ub300\\ud3f0 \\uc644\\uc81c\\ud488,\\n\\ud734\\ub300\\ud3f0 \\ubd80\\ud488\\n\\\"\\n2,153\\n(0.2)\\n\\uae30\\ud0c0\\n\\uc804\\uc790\\ubd80\\ud488\\nLCD TV,DID \\ubd80\\ud488,\\nESS, \\uc194\\ub77c\\ubc1c\\uc804\\ubd80\\ud488\\n\\\"\\n2,934\\n(0.3)\\n\\uc194 \\ub77c\\n\\uc194\\ub77c\\ubaa8\\ub4c8\\nCell\\uc744 \\uc751\\uc6a9\\ud55c\\n\\ubc1c\\uc804\\uc0ac\\uc5c5 \\ubd80\\ud488\\n\\\"\\n5,271\\n(0.5)\\nLED\\uc18c\\uc7ac\\n\\uc6e8\\uc774\\ud37c,\\uc789\\uacf3\\nLED\\uc870\\uba85,TV\\uc6a9 \\ub4f1\\nChip \\uc0dd\\uc0b0\\ubd80\\ud488\\n\\\"\\n-50\\n(-0.0)\\n(2) \\uc8fc\\uc694 \\uc81c\\ud488 \\ub4f1\\uc758 \\uac00\\uaca9\\ubcc0\\ub3d9\\ucd94\\uc774\\n(\\ub2e8\\uc704 : \\uc6d0)\\n\\ud488 \\ubaa9\\n\\uad6c \\ubd84\\n\\uc81c54\\uae30\\n\\uc81c53\\uae30\\n\\uc81c52\\uae30\\n\\ud30c\\uc6cc\\ubcf4\\ub4dc\\n\\ub0b4 \\uc218\\n106,538\\n38,453\\n35,077\\n\\uc218 \\ucd9c\\n60,571\\n24,374\\n33,064\\n\\ud734\\ub300\\ud3f0\\n\\ub0b4 \\uc218\\n-\\n-\\n-\\n\\uc218 \\ucd9c\\n9,434\\n9,457\\n9,237\\n\\uae30\\ud0c0 \\uc804\\uc790\\ubd80\\ud488\\n\\ub0b4 \\uc218\\n298,135\\n314,957\\n329,261\\n\\uc218 \\ucd9c\\n211,162\\n146,979\\n155,107\\n\\uc194\\ub77c\\ubaa8\\ub4c8\\n\\ub0b4 \\uc218\\n139,162\\n139,156\\n144,882\\n\\uc218 \\ucd9c\\n132,462\\n148,882\\n146,689\\n\\uc6e8\\uc774\\ud37c,\\uc789\\uacf3\\n\\ub0b4 \\uc218\\n24,819\\n25,640\\n27,596\\n\\uc218 \\ucd9c\\n21,825\\n31,291\\n34,076\\n1) \\uc0b0\\ucd9c\\uae30\\uc900\\n- \\uc0b0\\ucd9c\\ub300\\uc0c1 \\ubc0f \\uadf8 \\uc120\\uc815\\ubc29\\ubc95 : \\ubaa8\\ub378 \\ud569\\uacc4\\uc218\\ub7c9 \\ubc0f \\ub0b4\\uc218,\\uc218\\ucd9c \\ub9e4\\ucd9c\\uc561\\uc744 \\uae30\\uc900.\\n(\\ub2e8, \\uc18c\\ubaa8\\uc131 \\uc790\\uc7ac\\ub9e4\\ucd9c \\uc81c\\uc678)\\n- \\uc0b0\\ucd9c\\ub2e8\\uc704 : \\uc6d0/\\uac1c\\n- \\uc0b0\\ucd9c\\ubc29\\ubc95 : \\ud569\\uacc4 \\ub2e8\\uc21c\\ud3c9\\uade0\\n2) \\uc8fc\\uc694 \\uac00\\uaca9\\ubcc0\\ub3d9\\uc6d0\\uc778\\n\\uc2dc\\uc7a5\\uac00\\uaca9 \\ud615\\uc131\\uc5d0 \\uc5f0\\ub3d9\\ud55c \\ud310\\uac00 \\ubc0f \\ud658\\uc728\\ubcc0\\ub3d9\\n(3) \\uc8fc\\uc694 \\uc6d0\\uc7ac\\ub8cc \\ub4f1\\uc758 \\ud604\\ud669\\n(\\ub2e8\\uc704 : \\ubc31\\ub9cc\\uc6d0, %)\\n\\uc0ac\\uc5c5\\ubd80\\ubb38\\n\\ub9e4\\uc785\\uc720\\ud615\\n\\ud488 \\ubaa9\\n\\uad6c\\uccb4\\uc801 \\uc6a9\\ub3c4\\n\\ub9e4\\uc785\\uc561(\\ube44\\uc728)\\n\\ube44 \\uace0\\n\\uc804\\uc790\\ubd80\\ud488\\nPiece\\n1.\\uc6d0\\uc7ac\\ub8cc\\nSHEET\\nTV\\ubd80\\ud488,\\n\\ud734\\ub300\\ud3f0\\ubd80\\ud488\\n407(0.1)\\nMorgan Touch Technology,\\ud55c\\uad6d\\uc4f0\\ub9ac\\uc5e0 \\ub4f1\\nLED MODULE\\n2,535(0.5)\\n\\uc720\\uc131\\uc804\\uc790,\\ud4e8\\uccd0\\uc77c\\ub809\\ud2b8\\ub85c\\ub2c9\\uc2a4 \\ub4f1\\nCONNECTOR\\n2044(0.4)\\n\\uc5f0\\ud638\\uc804\\uc790,\\uc5d0\\uc2a4\\uc5d8\\uc804\\uc790 \\ub4f1\\nSMPS\\n493(0.1)\\n\\uc624\\uc2a4\\ub78c,Xenerqi \\ub4f1\\nINVERTER\\n-\\n\\ub3d9\\ud765\\uc804\\uc790 \\ub4f1\\n\\ud655\\uc0b0\\ud310\\n64(0.0)\\n\\ubbf8\\ub798\\ub098\\ub178\\ud14d,\\uc5d0\\uc2a4\\ucf00\\uc774\\uc528\\ud558\\uc2a4\\ub514\\uc2a4\\ud50c\\ub808\\uc774\\ud544\\ub984 \\ub4f1\\nPCB\\n471(0.1)\\n\\uc368\\ud0a4\\ud2b8\\ud50c\\ub809\\uc2a4,\\ube44\\uc528 \\ub4f1\\n\\uae30\\ud0c0\\n66,918(13.9)\\n\\ubc14\\uc774\\uc11c\\uce58\\ucf54\\ub9ac\\uc544,\\ucf00\\uc774\\uc564\\uc528 \\ub4f1\\n\\uc194 \\ub77c\\n\\ud0dc\\uc591\\uc804\\uc9c0(CELL)\\n\\uc194\\ub77c\\ubaa8\\ub4c8\\ubd80\\ud488\\n70,140(14.5)\\n\\uc2e0\\uc131\\uc774\\uc5d4\\uc9c0,TSEC,TS Solartech \\ub4f1\\n\\uae30 \\ud0c0\\n50,521(10.5)\\n\\ub3c4\\ud654\\uc5d4\\uc9c0\\ub2c8\\uc5b4\\ub9c1,\\uc194\\ub77c\\uc704\\uc988,\\uc5d0\\uc2a4\\uc5d0\\ud504\\uc528 \\ub4f1\\nLED\\uc18c\\uc7ac\\nLED \\uc789\\uacf3\\nLED\\uc6e8\\uc774\\ud37c\\ubd80\\ud488\\n2,901(0.6)\\n\\uc0ac\\ud30c\\uc774\\uc5b4\\ud14c\\ud06c\\ub180\\ub85c\\uc9c0,\\uc77c\\uc9c4\\ub514\\uc2a4\\ud50c\\ub808\\uc774,\\ubaa8\\ub178\\ud06c\\ub9ac\\uc2a4\\ud0c8 \\ub4f1\\nDiamond Wire/powder\\n802(0.2)\\n\\uc0c8\\uc194\\ub2e4\\uc774\\uc544\\ubaac\\ub4dc,\\ud2f0\\uc5d0\\uc2a4\\uc5d0\\uc774 \\ub4f1\\n\\uc54c\\ub8e8\\ubbf8\\ub098\\nLED\\uc789\\uacf3\\ubd80\\ud488\\n-\\nBrightech \\ub4f1\\n\\uae30 \\ud0c0\\nLED\\uc789\\uacf3,\\uc6e8\\uc774\\ud37c\\ubd80\\ud488\\n1,799(0.4)\\n\\uc774\\ud654\\ub2e4\\uc774\\uc544\\ubaac\\ub4dc,\\ud55c\\uc1a1\\uae00\\ub85c\\ubc8c \\ub4f1\\n2.\\uc0c1\\ud488\\n\\uc804\\uc790\\ubd80\\ud488\\n\\ud30c\\uc6cc\\ubcf4\\ub4dc\\nTV\\ubd80\\ud488\\n233,834(48.4)\\n\\ud0dc\\uad6d\\ubc95\\uc778\\n\\uae30 \\ud0c0\\n46,532(9.6)\\n\\ud0dc\\uad6d\\ubc95\\uc778,\\ub3d9\\uad11\\uc815\\ubc00 \\ub4f1\\n\\uc194 \\ub77c\\n\\uae30 \\ud0c0\\n\\uc194\\ub77c\\ubaa8\\ub4c8\\ubd80\\ud488\\n3,266(0.7)\\nHENGDIAN GROUP\\nLED\\uc18c\\uc7ac\\nLED \\uc789\\uacf3\\nLED \\uc6e8\\uc774\\ud37c\\ubd80\\ud488\\n10(0.0)\\n\\uc5d8\\uc9c0\\uc5d0\\uc2a4 \\ub4f1\\n\\uae30 \\ud0c0\\n6(0.0)\\n\\ucf54\\ub9c8\\ud14c\\ud06c\\ub180\\ub85c\\uc9c0 \\ub4f1\\n(4) \\uc8fc\\uc694 \\uc6d0\\uc7ac\\ub8cc \\ub4f1\\uc758 \\uac00\\uaca9\\ubcc0\\ub3d9\\ucd94\\uc774\\n(\\ub2e8\\uc704 : \\uc6d0)\\n\\uad6c \\ubd84\\n\\uc81c54\\uae30\\n\\uc81c53\\uae30\\n\\uc81c52\\uae30\\n\\ube44 \\uace0\\nSheet\\n6,602\\n6,680\\n6,139\\n-\\nLED Module\\n6,446\\n6,061\\n13,904\\n-\\nSMPS\\n550\\n543\\n341\\n-\\n\\uc789\\uacf3\\n7,039\\n8,389\\n7,393\\n-\\n\\uc54c\\ub8e8\\ubbf8\\ub098\\n-\\n10,470\\n11,142\\n-\\n\\ud0dc\\uc591\\uc804\\uc9c0\\n892\\n977\\n1,201\\n-\\n1) \\uc0b0\\ucd9c\\uae30\\uc900\\n- \\uc0b0\\ucd9c\\ub300\\uc0c1 \\ubc0f \\uadf8 \\uc120\\uc815\\ubc29\\ubc95 : \\uc6d0\\uac00\\ube44\\uc911\\uc774 \\ub192\\uc740 \\ud488\\ubaa9\\uc744 \\uc120\\uc815\\ud558\\uc600\\uc74c.\\n- \\uc0b0\\ucd9c\\ub2e8\\uc704 : \\uc6d0/\\uac1c\\n- \\uc0b0\\ucd9c\\ubc29\\ubc95 : \\ud569\\uacc4\\uae08\\uc561\\uc758 \\ub2e8\\uc21c\\ud3c9\\uade0\\n2) \\uc8fc\\uc694 \\uac00\\uaca9\\ubcc0\\ub3d9\\uc6d0\\uc778\\n- \\uc2dc\\uc7a5 \\uc218\\uae09\\uc5d0 \\ub530\\ub978 \\ub2e8\\uac00 \\ubcc0\\ub3d9 \\ubc0f \\ud658\\uc728 \\ubcc0\\ub3d9 \\uc601\\ud5a5 \\ub4f1\\n3. \\uc0dd\\uc0b0 \\ubc0f \\uc124\\ube44\\uc5d0 \\uad00\\ud55c \\uc0ac\\ud56d\\n(1) \\uc0dd\\uc0b0\\ub2a5\\ub825 \\ubc0f \\uc0dd\\uc0b0\\ub2a5\\ub825\\uc758 \\uc0b0\\ucd9c\\uadfc\\uac70\\n1) \\uc0dd\\uc0b0\\ub2a5\\ub825\\n(\\ub2e8\\uc704 : \\ucc9c\\uac1c,\\ubc31\\ub9cc\\uc6d0)\\n\\uc0ac\\uc5c5\\ubd80\\ubb38\\n\\ud488 \\ubaa9\\n\\uc0ac\\uc5c5\\uc7a5\\n\\uc81c54\\uae30\\n\\uc81c53\\uae30\\n\\uc81c52\\uae30\\n\\uc804\\uc790\\ubd80\\ud488\\nBLU \\ub4f1\\n\\uc9c4\\ucc9c,\\n\\uc624\\ucc3d\\n101\\n19,573\\n121\\n34,834\\n74\\n27,992\\nLED\\uc18c\\uc7ac\\n\\uc6e8\\uc774\\ud37c\\n4,440\\n112,219\\n2,164\\n44,824\\n2,126\\n37,228\\n\\uc194 \\ub77c\\n\\ubaa8\\ub4c8\\n1,131\\n149,250\\n1,066\\n142,441\\n1,174\\n186,351\\n\\ud569 \\uacc4\\n5,672\\n281,042\\n3,351\\n222,098\\n3,373\\n251,571\\n2) \\uc0dd\\uc0b0\\ub2a5\\ub825\\uc758 \\uc0b0\\ucd9c\\uadfc\\uac70\\n(\\uac00) \\uc0b0\\ucd9c\\ubc29\\ubc95 \\ub4f1\\n\\u2460 \\uc0b0\\ucd9c\\uae30\\uc900\\n(\\ub2e8\\uc704 :\\uc2dc\\uac04,\\uc77c,\\ucc9c\\ub300)\\n\\uc81c \\ud488\\n\\uc0dd \\uc0b0\\n\\uc9c1\\uc811\\uc778\\uc6d0\\n\\uc870\\uc5c5\\uc77c\\uc218\\n\\uc815\\uc0c1\\uc870\\uc5c5\\n\\uc2dc\\uac04(1\\uc77c)\\n\\ucd1d\\uc870\\uc5c5\\uc2dc\\uac04\\n\\ub300 \\ub2f9\\n\\ud3c9\\uade0\\uacf5\\uc218\\n\\uc0dd\\uc0b0\\ub2a5\\ub825\\n\\uc804\\uc790\\ubd80\\ud488\\n79\\n275\\n8\\n173,800\\n0.40\\n435\\nLED\\uc6e8\\uc774\\ud37c\\n16\\n275\\n8\\n35,200\\n0.10\\n352\\n\\uc194\\ub77c\\ubaa8\\ub4c8\\n173\\n275\\n8\\n380,600\\n0.30\\n1,269\\n\\u2461 \\uc0b0\\ucd9c\\ubc29\\ubc95\\n- \\uc9c1\\uc811\\uc0dd\\uc0b0\\uc778\\uc6d0\\n:\\n2019\\ub144\\ub9d0 \\uc0dd\\uc0b0\\uc9c1\\uc811\\uc778\\uc6d0 \\uae30\\uc900\\n- \\ucd1d\\uc870\\uc5c5\\uc2dc\\uac04 : \\uc0dd\\uc0b0\\uc9c1\\uc811\\uc778\\uc6d0\\u00d7\\uc870\\uc5c5\\uc77c\\uc218\\u00d7\\uc870\\uc5c5\\uc2dc\\uac04\\n- \\ub300\\ub2f9 \\uc0dd\\uc0b0\\uacf5\\uc218 : \\uc0dd\\uc0b0 \\uc804\\ubaa8\\ub378 \\ud3c9\\uade0\\uacf5\\uc218\\uae30\\uc900(\\uad6d\\ub0b4 \\uc804\\uc790\\ubd80\\ud488, LED\\uc6e8\\uc774\\ud37c, \\uc194\\ub77c\\ubaa8\\ub4c8)\\n(\\ub098) \\ud3c9\\uade0\\uac00\\ub3d9\\uc2dc\\uac04\\n\\uc81c \\ud488\\n1\\uc77c\\uc815\\uc0c1\\uac00\\ub3d9\\uc2dc\\uac04\\n\\uc6d4\\ud3c9\\uade0\\uac00\\ub3d9\\uc77c\\uc218\\n\\uac00\\ub3d9\\uc77c\\uc218\\n\\uac00\\ub3d9\\uc2dc\\uac04\\n\\uc804\\uc790\\ubd80\\ud488\\n8\\n24\\n275\\n2,200\\nLED\\uc6e8\\uc774\\ud37c\\n8\\n24\\n275\\n2,200\\n\\uc194\\ub77c\\ubaa8\\ub4c8\\n8\\n24\\n275\\n2,200\\n3) \\uc0dd\\uc0b0\\uc2e4\\uc801 \\ubc0f \\uac00\\ub3d9\\ub960\\n(\\uac00) \\uc0dd\\uc0b0\\uc2e4\\uc801\\n(\\ub2e8\\uc704 : \\ucc9c\\uac1c,\\ubc31\\ub9cc\\uc6d0)\\n\\uc0ac\\uc5c5\\ubd80\\ubb38\\n\\ud488 \\ubaa9\\n\\uc0ac\\uc5c5\\uc7a5\\n\\uc81c54\\uae30\\n\\uc81c53\\uae30\\n\\uc81c52\\uae30\\n\\uc804\\uc790\\ubd80\\ud488\\nBLU,\\nESS\\ub4f1\\n\\uc9c4\\ucc9c\\n\\uc624\\ucc3d\\n86\\n16,637\\n108\\n31,107\\n71\\n26,928\\n\\ud30c\\uc6cc\\ubcf4\\ub4dc,\\uc870\\uba85\\ub4f1\\n6,583\\n25,970\\n9,258\\n39,114\\n9,240\\n32,126\\nLED \\uc18c\\uc7ac\\n\\uc6e8\\uc774\\ud37c\\n888\\n22,444\\n1,800\\n37,293\\n2,102\\n36,818\\n\\uc194\\ub77c\\ubaa8\\ub4c8\\n\\ubaa8\\ub4c8\\n1,075\\n141,787\\n972\\n129,906\\n1,163\\n184,674\\n\\ud569 \\uacc4\\n8,632\\n206,839\\n12,139\\n237,420\\n12,576\\n280,547\\n(\\ub098) \\ub2f9\\ud574 \\uc0ac\\uc5c5\\uc5f0\\ub3c4\\uc758 \\uac00\\ub3d9\\ub960\\n(\\ub2e8\\uc704 : \\uc2dc\\uac04,%)\\n\\uc0ac\\uc5c5\\uc18c(\\uc0ac\\uc5c5\\ubd80\\ubb38)\\n\\uac00\\ub3d9\\uac00\\ub2a5\\uc2dc\\uac04\\n\\uc2e4\\uc81c\\uac00\\ub3d9\\uc2dc\\uac04\\n\\ud3c9\\uade0\\uac00\\ub3d9\\ub960\\n\\uc9c4\\ucc9c\\uacf5\\uc7a5(BLU,\\uc778\\ubc84\\ud130 \\ub4f1)\\n204,471\\n173,800\\n85\\n\\uc624\\ucc3d\\uacf5\\uc7a5(LED\\uc6e8\\uc774\\ud37c)\\n176,000\\n35,200\\n20\\n\\uc624\\ucc3d\\uacf5\\uc7a5(\\uc194\\ub77c\\ubaa8\\ub4c8)\\n400,632\\n380,600\\n95\\n* \\uac00\\ub3d9\\uc2dc\\uac04 \\uc0b0\\ucd9c : \\ud22c\\uc785 \\uc0dd\\uc0b0\\uc778\\uc6d0\\uc5d0 \\uc758\\ud55c \\uac00\\ub3d9\\uc2dc\\uac04 \\uc0b0\\ucd9c \\uae30\\uc900\\n- \\uc0c1\\uae30 \\uc0dd\\uc0b0\\ub0b4\\uc5ed\\uc740 \\uad6d\\ub0b4 \\uc0ac\\uc5c5\\uc7a5 \\uae30\\uc900\\uc785\\ub2c8\\ub2e4.\\n(\\ub2e4) \\uc0dd\\uc0b0\\uc124\\ube44\\uc758 \\ud604\\ud669 \\ub4f1\\n\\u2460 \\uc0dd\\uc0b0\\uc124\\ube44\\uc758 \\ud604\\ud669\\n[\\uc790\\uc0b0\\ud56d\\ubaa9 :\\ud1a0 \\uc9c0]\\n(\\ub2e8\\uc704 : \\ubc31\\ub9cc\\uc6d0)\\n\\uc0ac\\uc5c5\\uc18c\\n\\uc18c\\uc720\\n\\ud615\\ud0dc\\n\\uc18c\\uc7ac\\uc9c0\\n\\uad6c\\ubd84\\n\\uae30\\ucd08\\n\\uc7a5\\ubd80\\n\\uac00\\uc561\\n\\ub2f9\\uae30\\uc99d\\uac10\\n\\ub2f9\\uae30\\n\\uc0c1\\uac01\\n\\uae30 \\ub9d0\\n\\uc7a5\\ubd80\\uac00\\uc561\\n\\ube44\\uace0\\n\\uc99d\\uac00\\n\\uac10\\uc18c\\n\\uc9c4\\ucc9c\\n\\uc624\\ucc3d\\n\\uc790\\uac00\\n(\\ub4f1\\uae30)\\n\\ucda9\\ubd81 \\uc9c4\\ucc9c,\\uc624\\ucc3d,\\n81,671\\u33a1\\n13,609\\n-\\n1\\n-\\n13,608\\n\\ud3c9\\uac00\\uae08\\uc561\\n15,347\\n\\ud569 \\uacc4\\n13,609\\n-\\n1\\n-\\n13,608\\n-\\n[\\uc790\\uc0b0\\ud56d\\ubaa9 :\\uac74\\ucd95\\ubb3c]\\n(\\ub2e8\\uc704 : \\ubc31\\ub9cc\\uc6d0)\\n\\uc0ac\\uc5c5\\uc18c\\n\\uc18c\\uc720\\n\\ud615\\ud0dc\\n\\uc18c\\uc7ac\\uc9c0\\n\\uad6c\\ubd84\\n\\uae30\\ucd08\\uc7a5\\ubd80\\uac00\\uc561\\n\\ub2f9\\uae30\\uc99d\\uac10\\n\\ub2f9\\uae30\\n\\uc0c1\\uac01\\n\\uae30 \\ub9d0\\n\\uc7a5\\ubd80\\uac00\\uc561\\n\\ube44\\uace0\\n\\uc99d\\uac00\\n\\uac10\\uc18c\\n\\uc9c4\\ucc9c\\n\\uc624\\ucc3d\\n\\uc790\\uac00\\n(\\ub4f1\\uae30)\\n\\ucda9\\ubd81\\n\\uc9c4\\ucc9c,\\n\\uc624\\ucc3d,\\n-\\n100,377\\n37\\n61\\n3,892\\n96,461\\n-\\n\\ud569 \\uacc4\\n100,377\\n37\\n61\\n3,892\\n96,461\\n-\\n[\\uc790\\uc0b0\\ud56d\\ubaa9 :\\n\\uae30\\uacc4\\uc7a5\\uce58 ]\\n(\\ub2e8\\uc704 : \\ubc31\\ub9cc\\uc6d0)\\n\\uc0ac\\uc5c5\\uc18c\\n\\uc18c\\uc720\\n\\ud615\\ud0dc\\n\\uc18c\\uc7ac\\uc9c0\\n\\uad6c\\ubd84\\n\\uae30\\ucd08\\uc7a5\\ubd80\\uac00\\uc561\\n\\ub2f9\\uae30\\uc99d\\uac10\\n\\ub2f9\\uae30\\n\\uc0c1\\uac01\\n\\uae30\\ub9d0\\uc7a5\\ubd80\\uac00\\uc561\\n\\ube44\\uace0\\n\\uc99d\\uac00\\n\\uac10\\uc18c\\n\\uc9c4\\ucc9c\\n\\uc624\\ucc3d\\n\\uc790\\uac00\\n\\ucda9\\ubd81 \\uc9c4\\ucc9c,\\uc624\\ucc3d\\n-\\n29,825\\n2,569\\n314\\n11,905\\n20,175\\n-\\n\\ud569 \\uacc4\\n29,825\\n2,569\\n314\\n11,905\\n20,175\\n-\\n* \\ub2f9\\uae30 \\uc0c1\\uac01\\uae08\\uc561\\uc5d0\\ub294 \\uc190\\uc0c1\\ucc28\\uc190\\uc778\\uc2dd\\uc561 5,491\\ubc31\\ub9cc\\uc6d0\\uc774 \\ud3ec\\ud568\\ub418\\uc5b4 \\uc788\\uc2b5\\ub2c8\\ub2e4.\\n[\\uc790\\uc0b0\\ud56d\\ubaa9 :\\uacf5\\uad6c\\uae30\\uad6c \\ube44\\ud488]\\n(\\ub2e8\\uc704 : \\ubc31\\ub9cc\\uc6d0)\\n\\uc0ac\\uc5c5\\uc18c\\n\\uc18c\\uc720\\n\\ud615\\ud0dc\\n\\uc18c\\uc7ac\\uc9c0\\n\\uad6c\\ubd84\\n\\uae30\\ucd08\\uc7a5\\ubd80\\uac00\\uc561\\n\\ub2f9\\uae30\\uc99d\\uac10\\n\\ub2f9\\uae30\\n\\uc0c1\\uac01\\n\\uae30\\ub9d0\\uc7a5\\ubd80\\uac00\\uc561\\n\\ube44\\uace0\\n\\uc99d\\uac00\\n\\uac10\\uc18c\\n\\uc9c4\\ucc9c\\n\\uc624\\ucc3d\\n\\uc790\\uac00\\n\\ucda9\\ubd81 \\uc9c4\\ucc9c,\\n\\uc624\\ucc3d\\n-\\n4,285\\n984\\n98\\n1,915\\n3,257\\n-\\n\\ud569 \\uacc4\\n4,285\\n984\\n98\\n1,915\\n3,257\\n-\\n* \\ub2f9\\uae30 \\uc0c1\\uac01\\uae08\\uc561\\uc5d0\\ub294 \\uc190\\uc0c1\\ucc28\\uc190\\uc778\\uc2dd\\uc561 240\\ubc31\\ub9cc\\uc6d0\\uc774 \\ud3ec\\ud568\\ub418\\uc5b4 \\uc788\\uc2b5\\ub2c8\\ub2e4.\\n- \\uc0c1\\uae30 \\uc0dd\\uc0b0\\uc124\\ube44 \\ub0b4\\uc5ed\\uc740 \\uad6d\\ub0b4 \\uc0ac\\uc5c5\\uc7a5 \\uae30\\uc900\\uc785\\ub2c8\\ub2e4.\\n\\u2461 \\uc124\\ube44\\uc758 \\uc2e0\\uc124\\u318d\\ub9e4\\uc785 \\uacc4\\ud68d \\ub4f1\\n(\\uac00) \\uc9c4\\ud589\\uc911\\uc778 \\ud22c\\uc790\\n- \\uc8fc\\uc694 \\ud22c\\uc790\\uc0ac\\ud56d\\uc740 \\uc5c6\\uc73c\\uba70 \\uae30\\uc874\\uc124\\ube44\\uc5d0 \\ub300\\ud55c \\uc720\\uc9c0\\ubcf4\\uc218 \\ud22c\\uc790\\ub85c \\uc9c4\\ud589\\ud560 \\uc608\\uc815\\uc784\\n(\\ub098) \\ud5a5\\ud6c4 \\ud22c\\uc790\\uacc4\\ud68d\\n- \\uae30\\uc874\\uc124\\ube44\\uc5d0 \\ub300\\ud55c \\uc720\\uc9c0\\ubcf4\\uc218 \\ud22c\\uc790\\ub85c \\uc9c4\\ud589\\ud560 \\uacc4\\ud68d\\uc784\\n4. \\ub9e4\\ucd9c\\uc5d0 \\uad00\\ud55c \\uc0ac\\ud56d\\n(1) \\ub9e4\\ucd9c\\uc2e4\\uc801\\n(\\ub2e8\\uc704 :\\ubc31\\ub9cc\\uc6d0)\\n\\uc0ac\\uc5c5\\n\\ubd80\\ubb38\\n\\ub9e4\\ucd9c\\n\\uc720\\ud615\\n\\ud488 \\ubaa9\\n\\uc81c54\\uae30\\n\\uc81c53\\uae30\\n\\uc81c52\\uae30\\n\\uc804\\uc790\\n\\ubd80\\ud488\\n\\uc81c\\ud488\\n\\ubc0f\\n\\uc0c1\\ud488\\n\\ud30c\\uc6cc\\ubcf4\\ub4dc\\n\\uc218 \\ucd9c\\n431,402\\n306,018\\n313,060\\n\\ub0b4 \\uc218\\n6,277\\n8,935\\n15,798\\n\\ud569 \\uacc4\\n437,679\\n314,953\\n328,858\\n\\ud734\\ub300\\ud3f0\\n\\uc218 \\ucd9c\\n316,504\\n312,257\\n334,399\\n\\ub0b4 \\uc218\\n-\\n-\\n-\\n\\ud569 \\uacc4\\n316,504\\n312,257\\n334,399\\n\\uae30\\ud0c0\\n\\uc804\\uc790\\ubd80\\ud488\\n\\uc218 \\ucd9c\\n28,291\\n22,324\\n12,160\\n\\ub0b4 \\uc218\\n12,146\\n17,133\\n24,952\\n\\ud569 \\uacc4\\n40,437\\n39,457\\n37,112\\n\\uc194 \\ub77c\\n\\uc194\\ub77c\\ubaa8\\ub4c8\\n\\uc218 \\ucd9c\\n5,306\\n20,394\\n12,698\\n\\ub0b4 \\uc218\\n157,438\\n119,710\\n179,415\\n\\ud569 \\uacc4\\n162,744\\n140,104\\n192,113\\nLED\\n\\uc18c\\uc7ac\\n\\uc6e8\\uc774\\ud37c\\n\\uc218 \\ucd9c\\n11,131\\n22,638\\n17,385\\n\\ub0b4 \\uc218\\n3,747\\n12,490\\n25,388\\n\\ud569 \\uacc4\\n14,879\\n35,128\\n42,773\\n\\ud569 \\uacc4\\n\\uc218 \\ucd9c\\n792,635\\n683,631\\n689,702\\n\\ub0b4 \\uc218\\n179,609\\n158,268\\n245,553\\n\\ud569 \\uacc4\\n972,243\\n841,899\\n935,255\\n(2) \\ud310\\ub9e4\\uacbd\\ub85c \\ubc0f \\ud310\\ub9e4\\ubc29\\ubc95 \\ub4f1\\n1) \\ud310\\ub9e4\\uc870\\uc9c1\\n- \\uad6d\\ud310 \\ubc0f \\uc218\\ucd9c : \\uac01 \\uc0ac\\uc5c5\\ubd80 \\uc601\\uc5c5\\ud300\\n2) \\ud310\\ub9e4\\uacbd\\ub85c\\n- \\ub0b4\\uc218 : \\uc0dd\\uc0b0\\uc790(\\uacf5\\uc7a5) \\u2192 OEM \\u2192 END USER\\n- \\uc218\\ucd9c : \\uc0dd\\uc0b0\\uc790(\\uacf5\\uc7a5) \\u2192 OEM \\u2192 END USER\\n3) \\ud310\\ub9e4\\ubc29\\ubc95 \\ubc0f \\uc870\\uac74\\n- \\ub0b4\\uc218 : \\ud604\\uae08 \\ub610\\ub294 \\uc5b4\\uc74c(100% \\ub2f4\\ubcf4\\ubd80 60\\uc77c \\uc5ec\\uc2e0\\uc81c\\uacf5)\\n- \\uc218\\ucd9c : L/C \\ubc29\\uc2dd, D/A \\ubc29\\uc2dd, T/T, \\uad6c\\ub9e4\\uc2b9\\uc778\\uc11c, \\uae30\\ud0c0\\n4) \\ud310\\ub9e4\\uc804\\ub7b5\\n- \\uace0\\uac1d\\ub9cc\\uc871\\uc744 \\uc704\\ud574 R&D \\ud22c\\uc790\\ud655\\ub300\\uc640 A/S\\uc9c0\\uc6d0\\uccb4\\uc81c \\uc644\\ube44\\ub97c \\ud1b5\\ud574 \\uace0\\uac1d\\ub9cc\\uc871\\uc744\\n\\ucd94\\uad6c \\ud560 \\uacc4\\ud68d\\uc785\\ub2c8\\ub2e4\\n5. \\uc218\\uc8fc\\uc0c1\\ud669\\n- \\ub2f9\\uc0ac\\uc758 \\uc8fc\\uc694 \\uc0ac\\uc5c5\\uc740 \\uc804\\uc790\\ubd80\\ud488\\uacfc \\ud734\\ub300\\ud3f0 \\uc0ac\\uc5c5\\uc774\\uba70, \\uc774\\ub294 \\uace0\\uac1d\\uc0ac\\ub85c\\ubd80\\ud130 \\uc218\\uc8fc\\uacc4\\uc57d\\uc744 \\ud1b5\\ud55c \\ubc1c\\uc8fc\\uac00 \\uc544\\ub2cc \\ub9e4\\uc6d4 Forecast \\ud615\\ud0dc\\ub85c \\ubaa8\\ub378\\ubcc4 \\ub0a9\\ud488 \\uc218\\ub7c9\\uc744 \\uc694\\uccad\\ubc1b\\uc544 \\uc81c\\ud488\\uc744 \\ucd9c\\ud558\\ud558\\uace0 \\uc788\\uc2b5\\ub2c8\\ub2e4.\\n6. \\uc2dc\\uc7a5\\uc704\\ud5d8\\uacfc \\uc704\\ud5d8\\uad00\\ub9ac\\n(1) \\uc790\\ubcf8\\uc704\\ud5d8\\uad00\\ub9ac\\n\\uc5f0\\uacb0\\uc2e4\\uccb4\\ub294 \\ubd80\\ucc44\\uc640 \\uc790\\ubcf8 \\uc794\\uc561\\uc758 \\ucd5c\\uc801\\ud654\\ub97c \\ud1b5\\ud558\\uc5ec \\uc8fc\\uc8fc\\uc774\\uc775\\uc744 \\uadf9\\ub300\\ud654\\uc2dc\\ud0a4\\ub294 \\ub3d9\\uc2dc\\uc5d0 \\uacc4\\uc18d\\uae30\\uc5c5\\uc73c\\ub85c\\uc11c\\n\\uc9c0\\uc18d\\ub420 \\uc218 \\uc788\\ub3c4\\ub85d \\uc790\\ubcf8\\uc744 \\uad00\\ub9ac\\ud558\\uace0 \\uc788\\uc2b5\\ub2c8\\ub2e4. \\uc5f0\\uacb0\\uc2e4\\uccb4\\uc758 \\uc804\\ubc18\\uc801\\uc778 \\uc804\\ub7b5\\uc740 \\uc804\\uae30\\ub9d0\\uacfc \\ubcc0\\ub3d9\\uc774 \\uc5c6\\uc2b5\\ub2c8\\ub2e4.\\n(\\ub2e8\\uc704: \\ucc9c\\uc6d0)\\n\\uad6c\\u00a0 \\u00a0 \\u00a0 \\u00a0 \\ubd84\\n\\ub2f9\\uae30\\ub9d0\\n\\uc804\\uae30\\ub9d0\\n\\ubd80\\ucc44(A)\\n233,482,052\\n311,160,540\\n\\uc790\\ubcf8(B)\\n261,842,265\\n201,851,320\\n\\ubd80\\ucc44\\ube44\\uc728(A/B)\\n89.2%\\n154.2%\\n(2) \\uae08\\uc735\\uc704\\ud5d8\\uad00\\ub9ac\\n1) \\uae08\\uc735\\uc704\\ud5d8\\uc694\\uc18c\\n\\uc5f0\\uacb0\\uc2e4\\uccb4\\uc758 \\uc7ac\\ubb34\\ubd80\\ubb38\\uc740 \\uc601\\uc5c5\\uc744 \\uad00\\ub9ac\\ud558\\uace0 \\uad6d\\ub0b4\\uc678 \\uae08\\uc735\\uc2dc\\uc7a5\\uc758 \\uc811\\uadfc\\uc744 \\uc870\\uc9c1\\ud558\\uba70, \\uac01 \\uc704\\ud5d8\\uc758 \\ubc94\\uc704\\uc640 \\uaddc\\ubaa8\\ub97c \\ubd84\\uc11d\\ud55c \\ub0b4\\ubd80\\uc704\\ud5d8\\ubcf4\\uace0\\uc11c\\ub97c \\ud1b5\\ud558\\uc5ec \\uc5f0\\uacb0\\uc2e4\\uccb4\\uc758 \\uc601\\uc5c5\\uacfc \\uad00\\ub828\\ud55c \\uae08\\uc735\\uc704\\ud5d8\\uc744 \\uac10\\uc2dc\\ud558\\uace0 \\uad00\\ub9ac\\ud558\\ub294 \\uc5ed\\ud560\\uc744 \\ud558\\uace0 \\uc788\\uc2b5\\ub2c8\\ub2e4. \\uc774\\ub7ec\\ud55c \\uc704\\ud5d8\\ub4e4\\uc740 \\uc2dc\\uc7a5\\uc704\\ud5d8(\\ud1b5\\ud654\\uc704\\ud5d8, \\uacf5\\uc815\\uac00\\uce58\\uc774\\uc790\\uc728\\uc704\\ud5d8 \\ubc0f \\uac00\\uaca9\\uc704\\ud5d8 \\ud3ec\\ud568), \\uc2e0\\uc6a9\\uc704\\ud5d8, \\uc720\\ub3d9\\uc131\\uc704\\ud5d8 \\ubc0f \\ud604\\uae08\\ud750\\ub984\\uc774\\uc790\\uc728\\uc704\\ud5d8\\uc744 \\ud3ec\\ud568\\ud558\\uace0 \\uc788\\uc2b5\\ub2c8\\ub2e4.\\n\\uc804\\uae30\\ub9d0 \\uc774\\ud6c4 \\uc5f0\\uacb0\\uc2e4\\uccb4\\uc758 \\uae08\\uc735\\uc704\\ud5d8\\uad00\\ub9ac\\ubaa9\\uc801\\uacfc \\uc704\\ud5d8\\uad00\\ub9ac\\uc815\\ucc45\\uc758 \\ubcc0\\ud654\\ub294 \\uc5c6\\uc2b5\\ub2c8\\ub2e4.\\n2) \\uc704\\ud5d8\\ud68c\\ud53c\\ud65c\\ub3d9\\n\\uc5f0\\uacb0\\uc2e4\\uccb4\\uc758 \\ud65c\\ub3d9\\uc740 \\uc8fc\\ub85c \\ud658\\uc728\\uc758 \\ubcc0\\ub3d9\\uc73c\\ub85c \\uc778\\ud55c \\uae08\\uc735\\uc704\\ud5d8\\uc5d0 \\ub178\\ucd9c\\ub418\\uc5b4 \\uc788\\uc73c\\uba70, \\uc678\\ud654\\uc704\\ud5d8\\uc744 \\uad00\\ub9ac\\ud558\\uae30 \\uc704\\ud574 \\ud30c\\uc0dd\\uc0c1\\ud488\\uacc4\\uc57d\\uc744 \\uccb4\\uacb0\\ud558\\uace0 \\uc788\\uc2b5\\ub2c8\\ub2e4. \\uc5f0\\uacb0\\uc2e4\\uccb4\\ub294 \\ub2f9\\uae30\\uc5d0 \\uc678\\ud654\\ucc44\\uad8c\\uacfc \\uc678\\ud654\\ubd80\\ucc44\\uc758 \\ud658\\uc728\\ubcc0\\ub3d9\\uc704\\ud5d8\\uc744 \\ud68c\\ud53c\\ud558\\uae30 \\uc704\\n\\ud558\\n\\uc5ec \\ud1b5\\ud654\\uc120\\ub3c4\\uacc4\\uc57d\\uc744 \\uae08\\uc735\\uae30\\uad00\\uacfc \\uccb4\\uacb0\\ud558\\uc600\\uc2b5\\ub2c8\\ub2e4.\\n3) \\uc2e0\\uc6a9\\uc704\\ud5d8\\n\\ub2f9\\uae30\\ub9d0 \\ubc0f \\uc804\\uae30\\ub9d0 \\ud604\\uc7ac \\uc5f0\\uacb0\\uc2e4\\uccb4\\uac00 \\ubcf4\\uc720\\ud558\\uace0 \\uc788\\ub294 \\ud604\\uae08 \\ubc0f \\uc9c0\\ubd84\\uc99d\\uad8c\\uc744 \\uc81c\\uc678\\ud55c \\uae08\\uc735\\uc0c1\\ud488\\uc758 \\uc2e0\\uc6a9\\uc704\\ud5d8\\uc5d0 \\ub300\\ud55c \\ucd5c\\ub300 \\ub178\\ucd9c\\uc815\\ub3c4\\ub294 \\ub2e4\\uc74c\\uacfc \\uac19\\uc2b5\\ub2c8\\ub2e4.\\n(\\ub2e8\\uc704: \\ucc9c\\uc6d0)\\n\\uacc4\\uc815\\uacfc\\ubaa9\\n\\ub2f9\\uae30\\ub9d0\\n\\uc804\\uae30\\ub9d0\\n\\ud604\\uae08\\ubc0f\\ud604\\uae08\\uc131\\uc790\\uc0b0\\n77,672,880\\n21,718,936\\n\\ub2e8\\uae30\\uae08\\uc735\\uc0c1\\ud488\\n-\\n50,000,000\\n\\ub9e4\\ucd9c\\ucc44\\uad8c\\ubc0f\\uae30\\ud0c0\\ucc44\\uad8c\\n86,867,123\\n106,517,331\\n\\uae30\\ud0c0\\uae08\\uc735\\uc790\\uc0b0\\n866,950\\n687,385\\n\\uc7a5\\uae30\\uae08\\uc735\\uc0c1\\ud488\\n682,012\\n562,012\\n\\ud569\\u00a0 \\uacc4\\n166,088,965\\n179,485,664\\n\\uc2e0\\uc6a9\\uc704\\ud5d8\\uc740 \\uc804\\uc0ac \\ucc28\\uc6d0\\uc5d0\\uc11c \\uad00\\ub9ac\\ub418\\uace0 \\uc788\\uc2b5\\ub2c8\\ub2e4. \\uc2e0\\uc6a9\\uc704\\ud5d8\\uc740 \\ubcf4\\uc720\\ud558\\uace0 \\uc788\\ub294 \\uc218\\ucde8\\ucc44\\uad8c \\ubc0f \\ud655\\uc815\\uacc4\\uc57d\\uc744 \\ud3ec\\ud568\\ud55c \\uac70\\ub798\\ucc98\\uc5d0 \\ub300\\ud55c \\uc2e0\\uc6a9\\uc704\\ud5d8 \\ubfd0\\ub9cc \\uc544\\ub2c8\\ub77c \\ud604\\uae08\\ubc0f\\ud604\\uae08\\uc131\\uc790\\uc0b0, \\ud30c\\uc0dd\\uae08\\uc735\\uc0c1\\ud488, \\uc740\\ud589 \\ubc0f \\uae08\\uc735\\uae30\\uad00 \\uc608\\uce58\\uae08\\uc73c\\ub85c\\ubd80\\ud130 \\ubc1c\\uc0dd\\ud558\\uace0 \\uc788\\uc2b5\\ub2c8\\ub2e4. \\uc5f0\\uacb0\\uc2e4\\uccb4\\ub294 \\uc2e0\\uc6a9\\uc704\\ud5d8\\uc744 \\uad00\\ub9ac\\ud558\\uae30 \\uc704\\ud558\\uc5ec \\uc2e0\\uc6a9\\ub3c4\\uac00 \\uc77c\\uc815 \\uc218\\uc900 \\uc774\\uc0c1\\uc778 \\uac70\\ub798\\ucc98\\uc640 \\uac70\\ub798\\ud558\\uace0 \\uc788\\uc73c\\uba70 \\uc8fc\\uae30\\uc801\\uc73c\\ub85c \\uac70\\ub798\\ucc98\\uc758 \\uc2e0\\uc6a9\\ub3c4\\ub97c \\uc7ac\\ud3c9\\uac00\\ud558\\uc5ec \\uc2e0\\uc6a9\\uac70\\ub798\\ud55c\\ub3c4\\ub97c \\uc7ac\\uac80\\ud1a0\\ud558\\uace0 \\uc788\\uc2b5\\ub2c8\\ub2e4. \\ub2f9\\uae30 \\uc911 \\uc2e0\\uc6a9\\ud55c\\ub3c4\\ub97c \\ucd08\\uacfc\\ud55c \\uac74\\uc740 \\uc5c6\\uc5c8\\uc73c\\uba70 \\uc5f0\\uacb0\\uc2e4\\uccb4\\ub294 \\uac70\\ub798\\ucc98\\ub85c\\ubd80\\ud130 \\ucc44\\ubb34\\ubd88\\uc774\\ud589\\uc73c\\ub85c \\uc778\\ud55c \\uc911\\uc694\\ud55c \\uc190\\uc2e4\\uc744 \\uc608\\uc0c1\\ud558\\uace0 \\uc788\\uc9c0 \\uc54a\\uc2b5\\ub2c8\\ub2e4.\\n4) \\uc720\\ub3d9\\uc131\\uc704\\ud5d8\\n\\uc804\\uae30\\ub9d0\\uacfc \\ube44\\uad50\\ud558\\uc5ec \\uae08\\uc735\\ubd80\\ucc44\\uc758 \\ud560\\uc778\\ub418\\uc9c0 \\uc54a\\uc740 \\uacc4\\uc57d\\uc0c1 \\ud604\\uae08\\ud750\\ub984\\uc5d0 \\uc720\\uc758\\uc801\\uc778 \\ubcc0\\ub3d9\\uc740 \\uc5c6\\uc2b5\\ub2c8\\ub2e4.\\n\\uc720\\ub3d9\\uc131\\uc704\\ud5d8\\uad00\\ub9ac\\uc5d0 \\ub300\\ud55c \\uad81\\uadf9\\uc801\\uc778 \\ucc45\\uc784\\uc740 \\uc5f0\\uacb0\\uc2e4\\uccb4\\uc758 \\ub2e8\\uae30 \\ubc0f \\uc911\\uc7a5\\uae30 \\uc790\\uae08\\uc870\\ub2ec\\uacfc \\uc720\\ub3d9\\uc131\\uad00\\ub9ac\\uaddc\\uc815\\uc744 \\uc801\\uc808\\ud558\\uac8c \\uad00\\ub9ac\\ud558\\uae30 \\uc704\\ud55c \\uae30\\ubcf8\\uc815\\ucc45\\uc744 \\uc218\\ub9bd\\ud558\\ub294 \\uc774\\uc0ac\\ud68c\\uc5d0 \\uc788\\uc2b5\\ub2c8\\ub2e4. \\uc5f0\\uacb0\\uc2e4\\uccb4\\ub294 \\ucda9\\ubd84\\ud55c \\uc801\\ub9bd\\uae08\\uacfc \\ucc28\\uc785\\ud55c\\ub3c4\\ub97c \\uc720\\uc9c0\\ud558\\uace0 \\uc608\\uce21\\ud604\\uae08\\ud750\\ub984\\uacfc \\uc2e4\\uc81c\\ud604\\uae08\\ud750\\ub984\\uc744 \\uacc4\\uc18d\\ud558\\uc5ec \\uad00\\ucc30\\ud558\\uace0 \\uae08\\uc735\\uc790\\uc0b0\\uacfc \\uae08\\uc735\\ubd80\\ucc44\\uc758 \\ub9cc\\uae30\\uad6c\\uc870\\ub97c \\ub300\\uc751\\uc2dc\\ud0a4\\uba74\\uc11c \\uc720\\ub3d9\\uc131\\uc704\\ud5d8\\uc744 \\uad00\\ub9ac\\ud558\\uace0 \\uc788\\uc2b5\\ub2c8\\ub2e4.\\n\\uac00. \\uc720\\ub3d9\\uc131 \\ubc0f \\uc774\\uc790\\uc728\\uc704\\ud5d8 \\uad00\\ub828 \\ub0b4\\uc5ed\\n\\uc720\\ub3d9\\uc131\\uc704\\ud5d8\\uc774\\ub780 \\uc5f0\\uacb0\\uc2e4\\uccb4\\uac00 \\uae08\\uc735\\ubd80\\ucc44\\uc5d0 \\uad00\\ub828\\ub41c \\uc758\\ubb34\\ub97c \\ucda9\\uc871\\ud558\\ub294 \\ub370 \\uc5b4\\ub824\\uc6c0\\uc744 \\uacaa\\uac8c \\ub420 \\uc704\\ud5d8\\uc744 \\uc758\\ubbf8\\ud569\\ub2c8\\ub2e4. \\uc5f0\\uacb0\\uc2e4\\uccb4\\uc758 \\uc720\\ub3d9\\uc131 \\uad00\\ub9ac\\ubc29\\ubc95\\uc740 \\uc7ac\\ubb34\\uc801\\uc73c\\ub85c \\uc5b4\\ub824\\uc6b4 \\uc0c1\\ud669\\uc5d0\\uc11c\\ub3c4 \\ubc1b\\uc544\\ub4e4\\uc77c \\uc218 \\uc5c6\\ub294 \\uc190\\uc2e4\\uc774 \\ubc1c\\uc0dd\\ud558\\uac70\\ub098 \\uc5f0\\uacb0\\uc2e4\\uccb4\\uc758 \\uc778\\uc9c0\\ub3c4\\uc5d0 \\uc190\\uc0c1\\uc744 \\uc785\\ud790 \\uc704\\ud5d8 \\uc5c6\\uc774\\ub9cc\\uae30\\uc77c\\uc5d0 \\ubd80\\ucc44\\ub97c \\uc0c1\\ud658\\ud560 \\uc218 \\uc788\\ub294 \\ucda9\\ubd84\\ud55c \\uc720\\ub3d9\\uc131\\uc744 \\uc720\\uc9c0\\ud558\\ub3c4\\ub85d \\ud558\\ub294 \\uac83\\uc785\\ub2c8\\ub2e4.\\n\\ub2e4\\uc74c \\ud45c\\ub294 \\uc5f0\\uacb0\\uc2e4\\uccb4\\uc758 \\ube44\\ud30c\\uc0dd\\uae08\\uc735\\ubd80\\ucc44\\uc5d0 \\ub300\\ud55c \\uacc4\\uc57d\\uc0c1 \\uc794\\uc874\\ub9cc\\uae30\\ub97c \\uc0c1\\uc138\\ud558\\uac8c \\ub098\\ud0c0\\ub0b4\\uace0\\uc788\\uc2b5\\ub2c8\\ub2e4. \\ud574\\ub2f9 \\ud45c\\ub294 \\uae08\\uc735\\ubd80\\ucc44\\uc758 \\ud560\\uc778\\ub418\\uc9c0 \\uc54a\\uc740 \\ud604\\uae08\\ud750\\ub984\\uc744 \\uae30\\ucd08\\ub85c \\uc5f0\\uacb0\\uc2e4\\uccb4\\uac00 \\uc9c0\\uae09\\ud558\\uc5ec\\uc57c \\ud558\\ub294 \\uac00\\uc7a5 \\ube60\\ub978 \\ub9cc\\uae30\\uc77c\\uc5d0 \\uadfc\\uac70\\ud558\\uc5ec \\uc791\\uc131\\ub418\\uc5c8\\uc2b5\\ub2c8\\ub2e4. \\ud574\\ub2f9 \\ud45c\\ub294 \\uc6d0\\uae08 \\ubc0f \\uc774\\uc790\\uc758 \\ud604\\uae08\\ud750\\ub984\\uc744 \\ubaa8\\ub450 \\ud3ec\\ud568\\ud558\\uace0 \\uc788\\uc2b5\\ub2c8\\ub2e4. \\uacc4\\uc57d\\uc0c1 \\ub9cc\\uae30\\ub294 \\uc5f0\\uacb0\\uc2e4\\uccb4\\uc0ac\\uac00 \\uc9c0\\uae09\\uc744 \\uc694\\uad6c\\ubc1b\\uc744 \\uc218 \\uc788\\ub294 \\uac00\\uc7a5 \\ube60\\ub978 \\ub0a0\\uc5d0 \\uadfc\\uac70\\ud55c \\uac83\\uc785\\ub2c8\\ub2e4.\\n(\\ub2f9\\uae30\\ub9d0)\\n(\\ub2e8\\uc704: \\ucc9c\\uc6d0)\\n\\uad6c\\u00a0 \\ubd84\\n\\uc7a5\\ubd80\\uae08\\uc561\\n\\uacc4\\uc57d\\uc0c1 \\ud604\\uae08\\ud750\\ub984\\n3\\uac1c\\uc6d4 \\uc774\\ud558\\n3\\uac1c\\uc6d4 ~ 1\\ub144\\n1\\ub144 ~ 3\\ub144\\n\\ud30c\\uc0dd\\uae08\\uc735\\ubd80\\ucc44:\\n\\ud30c\\uc0dd\\uc0c1\\ud488\\uae08\\uc735\\ubd80\\ucc44\\n201,383\\n201,383\\n201,383\\n-\\n-\\n\\ube44\\ud30c\\uc0dd\\uae08\\uc735\\ubd80\\ucc44:\\n\\ub9e4\\uc785\\ucc44\\ubb34\\ubc0f\\uae30\\ud0c0\\ucc44\\ubb34\\n75,773,980\\n75,773,980\\n75,773,980\\n-\\n-\\n\\ucc28\\uc785\\uae08\\n39,623,073\\n40,228,088\\n324,152\\n39,903,936\\n-\\n\\uc0ac\\ucc44\\n77,985,279\\n78,987,665\\n619,521\\n78,368,144\\n-\\n\\ub9ac\\uc2a4\\ubd80\\ucc44\\n936,586\\n936,587\\n76,759\\n288,474\\n571,354\\n\\ud569\\u00a0 \\uacc4\\n194,520,301\\n196,127,703\\n76,995,795\\n118,560,554\\n571,354\\n(\\uc804\\uae30\\ub9d0)\\n(\\ub2e8\\uc704: \\ucc9c\\uc6d0)\\n\\uad6c\\u00a0 \\ubd84\\n\\uc7a5\\ubd80\\uae08\\uc561\\n\\uacc4\\uc57d\\uc0c1 \\ud604\\uae08\\ud750\\ub984\\n3\\uac1c\\uc6d4 \\uc774\\ud558\\n3\\uac1c\\uc6d4 ~ 1\\ub144\\n1\\ub144 ~ 3\\ub144\\n\\ud30c\\uc0dd\\uae08\\uc735\\ubd80\\ucc44:\\n\\ud30c\\uc0dd\\uc0c1\\ud488\\uae08\\uc735\\ubd80\\ucc44\\n130,017\\n130,017\\n130,017\\n-\\n-\\n\\ube44\\ud30c\\uc0dd\\uae08\\uc735\\ubd80\\ucc44:\\n\\ub9e4\\uc785\\ucc44\\ubb34\\ubc0f\\uae30\\ud0c0\\ucc44\\ubb34\\n87,903,929\\n87,903,929\\n87,903,929\\n-\\n-\\n\\ucc28\\uc785\\uae08\\n56,283,731\\n57,118,110\\n21,701,277\\n35,416,833\\n-\\n\\uc0ac\\ucc44\\n133,843,217\\n139,142,288\\n6,563,823\\n99,106,397\\n33,472,068\\n\\ud569\\u00a0 \\uacc4\\n278,160,894\\n284,294,344\\n116,299,046\\n134,523,230\\n33,472,068\\n5) \\uc678\\ud654\\uc704\\ud5d8\\uad00\\ub9ac\\n\\uc5f0\\uacb0\\uc2e4\\uccb4\\ub294 \\uc218\\ucd9c\\uac70\\ub798 \\ub4f1 \\uc601\\uc5c5\\ud65c\\ub3d9\\uc744 \\uc601\\uc704\\ud558\\uace0 \\uc788\\uc5b4 \\uc678\\ud658\\uc704\\ud5d8, \\ud2b9\\ud788 \\uc8fc\\ub85c \\ubbf8\\uad6d \\ub2ec\\ub7ec\\u00a0 \\ud654, \\uc720\\ub7fd \\uc720\\ub85c\\ud654 \\ub4f1\\uacfc \\uad00\\ub828\\ub41c \\ud658\\uc728\\ubcc0\\ub3d9\\uc704\\ud5d8\\uc5d0 \\ub178\\ucd9c\\ub418\\uc5b4 \\uc788\\uc2b5\\ub2c8\\ub2e4. \\uc678\\ud658\\uc704\\ud5d8\\uc740 \\uc778\\uc2dd\\ub41c\\uc790\\uc0b0\\uacfc \\ubd80\\ucc44\\uc640 \\uad00\\ub828\\ud558\\uc5ec \\ubc1c\\uc0dd\\ud558\\uace0 \\uc788\\uc2b5\\ub2c8\\ub2e4.\\n\\uc5f0\\uacb0\\uc2e4\\uccb4\\uc758 \\uacbd\\uc601\\uc9c4\\uc740 \\uac01\\uac01\\uc758 \\uae30\\ub2a5\\ud1b5\\ud654\\uc5d0 \\ub300\\ud55c \\uc678\\ud658\\uc704\\ud5d8\\uc744 \\uad00\\ub9ac\\ud558\\ub3c4\\ub85d \\ud558\\ub294 \\uc815\\ucc45\\uc744 \\uc218\\ub9bd\\ud558\\uace0 \\uc788\\uc2b5\\ub2c8\\ub2e4. \\uc678\\ud658\\uc704\\ud5d8\\uc740 \\uc778\\uc2dd\\ub41c \\uc790\\uc0b0\\ubd80\\ucc44\\uac00 \\uae30\\ub2a5\\ud1b5\\ud654 \\uc678\\uc758 \\ud1b5\\ud654\\ub85c \\ud45c\\uc2dc\\ub420 \\ub54c \\ubc1c\\uc0dd\\ud558\\uace0 \\uc788\\uc2b5\\ub2c8\\ub2e4.\\n\\uc5f0\\uacb0\\uc2e4\\uccb4\\ub294 \\uc678\\ud654\\ub85c \\ud45c\\uc2dc\\ub41c \\uac70\\ub798\\ub97c \\ud558\\uace0 \\uc788\\uae30 \\ub54c\\ubb38\\uc5d0 \\ud658\\uc728\\ubcc0\\ub3d9\\uc704\\ud5d8\\uc5d0 \\ub178\\ucd9c\\ub418\\uc5b4 \\uc788\\uc2b5\\ub2c8\\ub2e4. \\ub2f9\\uae30\\ub9d0\\uacfc \\uc804\\uae30\\ub9d0 \\ud604\\uc7ac \\uc5f0\\uacb0\\uc2e4\\uccb4\\uc758 \\ud658\\uc704\\ud5d8\\uc5d0 \\ub300\\ud55c \\ub178\\ucd9c\\uc815\\ub3c4\\ub294 \\ub2e4\\uc74c\\uacfc \\uac19\\uc2b5\\ub2c8\\ub2e4.\\n(\\ub2e8\\uc704: \\ucc9c\\uc6d0)\\n\\uad6c\\u00a0\\u00a0 \\ubd84\\n\\ub2f9\\uae30\\ub9d0\\n\\uc804\\uae30\\ub9d0\\n\\uc678\\ud654\\uae08\\uc735\\uc790\\uc0b0\\n\\uc678\\ud654\\uae08\\uc735\\ubd80\\ucc44\\n\\uc678\\ud654\\uae08\\uc735\\uc790\\uc0b0\\n\\uc678\\ud654\\uae08\\uc735\\ubd80\\ucc44\\nUSD\\n48,475,616\\n32,541,339\\n60,643,966\\n47,902,120\\nEUR\\n1,846,440\\n31,217\\n11,245,624\\n6,221,205\\nJPY\\n707\\n1,275\\n673\\n586\\nTHB\\n25,177,149\\n27,572,766\\n14,954,012\\n24,568,472\\nCNY\\n842,219\\n4,289,417\\n344,523\\n1,194,358\\n\\ud569\\u00a0 \\u00a0 \\uacc4\\n76,342,131\\n64,436,014\\n87,188,798\\n79,886,741\\n\\uc5f0\\uacb0\\uc2e4\\uccb4\\uc758 \\uc678\\ud658\\uc704\\ud5d8 \\uad00\\ub9ac\\uc758 \\ubaa9\\ud45c\\ub294 \\ud658\\uc728 \\ubcc0\\ub3d9\\uc73c\\ub85c \\uc778\\ud55c \\ubd88\\ud655\\uc2e4\\uc131\\uacfc \\uc190\\uc775 \\ubcc0\\ub3d9\\uc744 \\ucd5c\\uc18c\\ud654 \\ud568\\uc73c\\ub85c\\uc368 \\uae30\\uc5c5\\uc758 \\uac00\\uce58\\ub97c \\uadf9\\ub300\\ud654\\ud558\\ub294\\ub370 \\uc788\\uc2b5\\ub2c8\\ub2e4. \\ubcf4\\uace0\\uae30\\uac04\\ub9d0 \\ud604\\uc7ac \\ub2e4\\ub978 \\ubaa8\\ub4e0 \\ubcc0\\uc218\\uac00 \\uc77c\\uc815\\ud558\\uace0 \\uc8fc\\uc694 \\uc678\\ud654\\uc5d0 \\ub300\\ud55c \\uc6d0\\ud654\\uc758 \\ud658\\uc728 10% \\ubcc0\\ub3d9\\uc2dc \\ud658\\uc728\\ubcc0\\ub3d9\\uc774 \\ubc95\\uc778\\uc138\\ucc28\\uac10\\uc804\\uc21c\\uc774\\uc775\\uc5d0 \\ubbf8\\uce58\\ub294 \\uc601\\ud5a5\\uc740 \\ub2e4\\uc74c\\uacfc \\uac19\\uc2b5\\ub2c8\\ub2e4.\\n(\\ub2e8\\uc704: \\ucc9c\\uc6d0)\\n\\uad6c\\u00a0\\u00a0 \\ubd84\\n\\ub2f9\\uae30\\n\\uc804\\uae30\\n10% \\uc0c1\\uc2b9\\uc2dc\\n10% \\ud558\\ub77d\\uc2dc\\n10% \\uc0c1\\uc2b9\\uc2dc\\n10% \\ud558\\ub77d\\uc2dc\\n\\ubc95\\uc778\\uc138\\ube44\\uc6a9\\ucc28\\uac10\\uc804\\uc21c\\uc774\\uc775\\n2,454,500\\n(2,454,500)\\n91,844\\n(91,844)\\n(3) \\uae08\\uc735\\uc0c1\\ud488\\uc758 \\uacf5\\uc815\\uac00\\uce58\\n\\ud65c\\uc131\\uc2dc\\uc7a5\\uc5d0\\uc11c \\uac70\\ub798\\ub418\\ub294 \\uae08\\uc735\\uc0c1\\ud488\\uc758 \\uacf5\\uc815\\uac00\\uce58\\ub294 \\ubcf4\\uace0\\uae30\\uac04\\ub9d0 \\ud604\\uc7ac \\uace0\\uc2dc\\ub418\\ub294 \\uc2dc\\uc7a5\\uac00\\uaca9\\uc5d0 \\uae30\\ucd08\\ud558\\uc5ec \\uc0b0\\uc815\\ub429\\ub2c8\\ub2e4.\\n\\uc5f0\\uacb0\\uc2e4\\uccb4\\ub294 \\ub2f9\\uae30\\ub9d0 \\ud604\\uc7ac \\uc2dc\\uc7a5 \\uc0c1\\ud669\\uc5d0 \\uadfc\\uac70\\ud558\\uc5ec \\uac00\\uc815\\uc744 \\uc218\\ub9bd\\ud558\\uace0 \\uc788\\uc73c\\uba70 \\ucd94\\uc815\\ud604\\uae08\\ud750\\ub984\\ud560\\uc778\\ubc95\\uacfc \\uac19\\uc740 \\ub2e4\\uc591\\ud55c \\ud3c9\\uac00\\uae30\\ubc95\\ub4e4\\uc744 \\uc0ac\\uc6a9\\ud558\\uc5ec \\uacf5\\uc815\\uac00\\uce58\\ub97c \\uc0b0\\uc815\\ud558\\uace0 \\uc788\\uc2b5\\ub2c8\\ub2e4.\\n\\ub9e4\\ucd9c\\ucc44\\uad8c\\uc758 \\uacbd\\uc6b0 \\uc190\\uc0c1\\ucc28\\uc190\\uc744 \\ucc28\\uac10\\ud55c \\uc7a5\\ubd80\\uae08\\uc561\\uc744 \\uacf5\\uc815\\uac00\\uce58 \\uadfc\\uc0ac\\uce58\\ub85c \\ubcf4\\uba70, \\uacf5\\uc2dc\\ubaa9\\uc801\\uc73c\\ub85c \\uae08\\uc735\\ubd80\\ucc44 \\uacf5\\uc815\\uac00\\uce58\\ub294 \\uacc4\\uc57d\\uc0c1\\uc758 \\ubbf8\\ub798\\ud604\\uae08\\ud750\\ub984\\uc744 \\uc720\\uc0ac\\ud55c \\uae08\\uc735\\uc0c1\\ud488\\uc5d0\\ub300\\ud574 \\uc5f0\\uacb0\\uc2e4\\uccb4\\uac00 \\uc801\\uc6a9\\ud558\\ub294 \\ud604\\ud589\\uc2dc\\uc7a5\\uc774\\uc790\\uc728\\ub85c \\ud560\\uc778\\ud55c \\uae08\\uc561\\uc73c\\ub85c \\ucd94\\uc815\\ud558\\uace0 \\uc788\\uc2b5\\ub2c8\\ub2e4.\\n1) \\uc5f0\\uacb0\\uc2e4\\uccb4\\ub294 \\uc7ac\\ubb34\\uc0c1\\ud0dc\\ud45c\\uc5d0 \\uacf5\\uc815\\uac00\\uce58\\ub85c \\uce21\\uc815\\ub418\\ub294 \\uae08\\uc735\\uc0c1\\ud488\\uc5d0 \\ub300\\ud558\\uc5ec \\uacf5\\uc815\\uac00\\uce58\\uce21\\uc815\\uc5d0 \\uc0ac\\uc6a9\\ub41c \\ud22c\\uc785\\ubcc0\\uc218\\uc5d0 \\ub530\\ub77c \\ub2e4\\uc74c\\uacfc \\uac19\\uc740 \\uacf5\\uc815\\uac00\\uce58 \\uc11c\\uc5f4\\uccb4\\uacc4\\ub85c \\ubd84\\ub958\\ud558\\uc600\\uc2b5\\ub2c8\\ub2e4.\\n\\uad6c\\u00a0 \\u00a0 \\ubd84\\n\\ud22c\\uc785\\ubcc0\\uc218\\uc758 \\uc720\\uc758\\uc131\\n\\uc218\\uc900 1\\n\\ub3d9\\uc77c\\ud55c \\uc790\\uc0b0\\uc774\\ub098 \\ubd80\\ucc44\\uc5d0 \\ub300\\ud55c \\ud65c\\uc131\\uc2dc\\uc7a5\\uc758 \\uacf5\\uc2dc\\uac00\\uaca9\\n\\uc218\\uc900 2\\n\\uc9c1\\uc811\\uc801\\uc73c\\ub85c \\ub610\\ub294 \\uac04\\uc811\\uc801\\uc73c\\ub85c \\uad00\\uce21\\uac00\\ub2a5\\ud55c, \\uc790\\uc0b0\\uc774\\ub098 \\ubd80\\ucc44\\uc5d0 \\ub300\\ud55c \\ud22c\\uc785\\ubcc0\\uc218\\n\\uc218\\uc900 3\\n\\uad00\\uce21\\uac00\\ub2a5\\ud55c \\uc2dc\\uc7a5\\uc790\\ub8cc\\uc5d0 \\uae30\\ucd08\\ud558\\uc9c0 \\uc54a\\uc740, \\uc790\\uc0b0\\uc774\\ub098 \\ubd80\\ucc44\\uc5d0 \\ub300\\ud55c \\ud22c\\uc785\\ubcc0\\uc218\\n\\ub2e4\\uc74c \\ud45c\\ub294 \\ucd5c\\ucd08 \\uc778\\uc2dd\\ud6c4 \\uacf5\\uc815\\uac00\\uce58\\ub85c \\uce21\\uc815\\ub418\\ub294 \\uae08\\uc735\\uc0c1\\ud488\\uc744 \\uacf5\\uc815\\uac00\\uce58\\uac00 \\uc2dc\\uc7a5\\uc5d0\\uc11c \\uad00\\uce21\\uac00\\ub2a5\\ud55c \\uc815\\ub3c4\\uc5d0 \\ub530\\ub77c \\uc218\\uc900 1\\uc5d0\\uc11c \\uc218\\uc900 3\\uc73c\\ub85c \\ubd84\\ub958\\ud558\\uc5ec \\ubd84\\uc11d\\ud55c \\uac83\\uc785\\ub2c8\\ub2e4.\\n(\\ub2f9\\uae30\\ub9d0)\\n(\\ub2e8\\uc704: \\ucc9c\\uc6d0)\\n\\uad6c\\u00a0 \\u00a0 \\u00a0 \\u00a0 \\u00a0 \\ubd84\\n\\uc218\\uc900 1\\n\\uc218\\uc900 2\\n\\uc218\\uc900 3\\n\\ud569 \\uacc4\\n\\ud30c\\uc0dd\\uc0c1\\ud488\\uc790\\uc0b0\\n-\\n279,596\\n-\\n279,596\\n\\ud30c\\uc0dd\\uc0c1\\ud488\\ubd80\\ucc44\\n-\\n201,383\\n-\\n201,383\\n(\\uc804\\uae30\\ub9d0)\\n(\\ub2e8\\uc704: \\ucc9c\\uc6d0)\\n\\uad6c\\u00a0 \\u00a0 \\u00a0 \\u00a0 \\u00a0 \\ubd84\\n\\uc218\\uc900 1\\n\\uc218\\uc900 2\\n\\uc218\\uc900 3\\n\\ud569 \\uacc4\\n\\ud30c\\uc0dd\\uc0c1\\ud488\\uc790\\uc0b0\\n-\\n138,076\\n-\\n138,076\\n\\ud30c\\uc0dd\\uc0c1\\ud488\\ubd80\\ucc44\\n-\\n130,017\\n-\\n130,017\\n\\ub2f9\\uae30 \\uc911 \\uc218\\uc900 1\\uacfc \\uc218\\uc900 2 \\uac04\\uc758 \\uc720\\uc758\\uc801\\uc778 \\uc774\\ub3d9\\uc740 \\uc5c6\\uc2b5\\ub2c8\\ub2e4.\\n2) \\uc5f0\\uacb0\\uc2e4\\uccb4\\uac00 \\ubcf4\\uc720\\ud558\\uace0 \\uc788\\ub294 \\uae08\\uc735\\uc790\\uc0b0\\uacfc \\uae08\\uc735\\ubd80\\ucc44\\uc758 \\uacf5\\uc815\\uac00\\uce58\\uc5d0 \\uc601\\ud5a5\\uc744 \\ubbf8\\uce58\\ub294 \\ub2f9\\uae30 \\uc911 \\ubc1c\\uc0dd\\ud55c \\uc0ac\\uc5c5\\ud658\\uacbd\\uc774\\ub098 \\uacbd\\uc81c\\uc801 \\ud658\\uacbd\\uc758 \\uc720\\uc758\\uc801\\uc778 \\ubcc0\\ud654\\ub294 \\uc5c6\\uc2b5\\ub2c8\\ub2e4.\\n3) \\ub2e4\\uc74c \\ud45c\\ub294 \\uc218\\uc900 2 \\uacf5\\uc815\\uac00\\uce58\\uce21\\uc815\\uc5d0 \\uc0ac\\uc6a9\\ub41c \\uac00\\uce58\\ud3c9\\uac00\\uae30\\ubc95, \\uacf5\\uc815\\uac00\\uce58 \\uc11c\\uc5f4\\uccb4\\uacc4 \\uc218\\uc900, \\uc720\\uc758\\uc801\\uc774\\uc9c0\\ub9cc \\uad00\\uce21\\uac00\\ub2a5\\ud558\\uc9c0 \\uc54a\\uc740 \\ud22c\\uc785\\ubcc0\\uc218 \\ubc0f \\ubc94\\uc704\\uc640 \\uad00\\uce21\\uac00\\ub2a5\\ud558\\uc9c0 \\uc54a\\uc740 \\ud22c\\uc785\\ubcc0\\uc218\\uc640\\uacf5\\uc815\\uac00\\uce58\\uce21\\uc815\\uce58 \\uac04\\uc758 \\uc5f0\\uad00\\uc131\\uc744 \\uc124\\uba85\\ud55c \\uac83\\uc785\\ub2c8\\ub2e4.\\n(\\ub2e8\\uc704:\\ucc9c\\uc6d0)\\n\\uad6c\\ubd84\\n\\uacf5\\uc815\\uac00\\uce58\\n\\uacf5\\uc815\\uac00\\uce58 \\uc11c\\uc5f4\\uccb4\\uacc4 \\uc218\\uc900\\n\\uac00\\uce58\\ud3c9\\uac00\\uae30\\ubc95\\n\\uc720\\uc758\\uc801\\uc778 \\uad00\\uce21\\uac00\\ub2a5\\ud558\\uc9c0 \\uc54a\\uc740 \\ud22c\\uc785\\ubcc0\\uc218 \\ubc0f \\ubc94\\uc704\\n\\uad00\\uce21\\uac00\\ub2a5\\ud558\\uc9c0 \\uc54a\\uc740 \\ud22c\\uc785\\ubcc0\\uc218\\uc640 \\uacf5\\uc815\\uac00\\uce58\\uce21\\uc815\\uce58 \\uac04\\uc758 \\uc5f0\\uad00\\uc131\\n\\ub2f9\\uae30\\ub9d0\\n\\uc804\\uae30\\ub9d0\\n\\ud30c\\uc0dd\\uc0c1\\ud488\\uc790\\uc0b0\\n279,596\\n138,076\\n2\\n\\ud1b5\\ud654\\uc120\\ub3c4\\uc758 \\uacf5\\uc815\\uac00\\uce58\\ub294 \\uc6d0\\uce59\\uc801\\uc73c\\ub85c \\uce21\\uc815\\ub300\\uc0c1 \\ud1b5\\ud654\\uc120\\ub3c4\\uc758 \\uc794\\uc874\\uae30\\uac04\\uacfc \\uc77c\\uce58\\ud558\\ub294 \\uae30\\uac04\\uc5d0 \\ub300\\ud55c \\ubcf4\\uace0\\uae30\\uac04 \\ub9d0 \\ud604\\uc7ac \\uc2dc\\uc7a5\\uc5d0\\uc11c \\uacf5\\uc2dc\\ub41c \\uc120\\ub3c4\\ud658\\uc728\\uc5d0 \\uae30\\ucd08\\ud558\\uc5ec \\uce21\\uc815\\ud558\\uace0 \\uc788\\uc2b5\\ub2c8\\ub2e4.\\n\\ud574\\ub2f9\\uc0ac\\ud56d \\uc5c6\\uc74c\\n\\ud574\\ub2f9\\uc0ac\\ud56d \\uc5c6\\uc74c\\n\\ud30c\\uc0dd\\uc0c1\\ud488\\ubd80\\ucc44\\n201,383\\n130,017\\n(4) \\uae08\\uc735\\uc790\\uc0b0\\uc758 \\uc7ac\\ubd84\\ub958\\n\\ub2f9\\uae30 \\uc911 \\ubaa9\\uc801\\uc774\\ub098 \\uc0ac\\uc6a9\\uc758 \\ubcc0\\uacbd\\uc73c\\ub85c \\uc778\\ud558\\uc5ec \\uc7ac\\ubd84\\ub958\\ub41c \\uae08\\uc735\\uc790\\uc0b0\\uc740 \\uc5c6\\uc2b5\\ub2c8\\ub2e4.\\n7. \\ud30c\\uc0dd\\uc0c1\\ud488 \\ub4f1\\uc5d0 \\uad00\\ud55c \\uc0ac\\ud56d\\n\\uac00. \\ud30c\\uc0dd\\uc0c1\\ud488\\uacc4\\uc57d \\uccb4\\uacb0 \\ud604\\ud669\\n\\ub2f9\\uae30\\ub9d0 \\ud604\\uc7ac \\ubbf8\\uacb0\\uc81c\\ub41c \\ud30c\\uc0dd\\uc0c1\\ud488\\uacfc \\ub9cc\\uae30\\uc2dc\\uc810\\uc5d0\\uc11c \\ud1b5\\ud654\\uc120\\ub3c4\\uacc4\\uc57d\\uc744 \\uccb4\\uacb0\\ud558\\uace0\\n\\uc788\\uc2b5\\n\\ub2c8\\ub2e4.\\n\\uac70\\ub798\\n\\uc0c1\\ub300\\ubc29\\n\\uacc4\\uc57d\\uc77c\\n\\ub9cc\\uae30\\uc77c\\n\\uc57d\\uc815\\ud658\\uc728\\n\\uacc4\\uc57d\\uae08\\uc561\\n\\ud3c9\\uac00\\uc774\\uc775(\\uc190\\uc2e4)\\n(\\ubc31\\ub9cc\\uc6d0)\\n\\ub300\\uae08\\n\\uc218\\uc218\\ubc29\\ubc95\\n\\uacc4\\uc57d\\ub0b4\\uc6a9\\n\\uc0b0\\uc5c5\\uc740\\ud589\\n\\uc678\\n2019-08-06\\n2020-05-28\\n1,152.22~1,203.70\\nUSD 17,818,000\\n249\\n\\uc2e4\\ubb3c\\uc778\\uc218\\ub3c4\\n\\ub9cc\\uae30\\uc77c\\uc5d0 \\uc57d\\uc815\\ud658\\uc728\\ub85c \\ub9e4\\ub3c4\\n2019-12-06\\n2020-01-13\\n1,312.50~1,320.09\\nEUR 1,325,000\\n23\\n2019-11-15\\n2020-02-17\\n1,156.31~1,192.90\\nUSD 10,826,000\\n(194)\\n\\ub098. \\ub9ac\\uc2a4\\ud06c \\uad00\\ub9ac\\uc5d0 \\uad00\\ud55c \\uc0ac\\ud56d\\n1) \\ub9ac\\uc2a4\\ud06c \\uad00\\ub9ac\\uc758 \\ubaa9\\uc801\\n- \\ud658\\uc728\\ubcc0\\ub3d9\\uc73c\\ub85c\\ubd80\\ud130 \\uc601\\uc5c5\\uc758 \\uc548\\uc815\\uc131\\uc744 \\ud655\\ubcf4\\n- \\uc548\\uc815\\uc801, \\uc800\\uae08\\ub9ac\\uc758 \\uc678\\ud654Financing.\\n- \\ud658 Risk\\uad00\\ub9ac \\uae30\\ubc95\\uc758 \\uac1c\\ubc1c, \\ub3c4\\uc785, \\ucd95\\uc801\\n2) \\ub9ac\\uc2a4\\ud06c \\uad00\\ub9ac\\uc758 \\uc6d0\\uce59\\n- \\uc218\\ucd9c\\uc785(\\uc601\\uc5c5)\\uad00\\ub828 \\ud3ec\\uc9c0\\uc158\\uc758 \\ucc3d\\ucd9c \\ubc0f \\ud55c\\ub3c4\\uc124\\uc815/\\uc720\\uc9c0.\\n- \\uc7ac\\ubb34\\uad00\\ub828 \\ud3ec\\uc9c0\\uc158(\\uc678\\ud654\\uc790\\uc0b0/\\ubd80\\ucc44 \\ub4f1) \\ubc0f \\uc124\\ube44\\ud22c\\uc790 \\ub4f1\\uc758 \\ud2b9\\uc218\\ud55c \\uacbd\\uc6b0\\uc5d0 \\ubc1c\\uc0dd\\ud558\\ub294\\n\\ud3ec\\uc9c0\\uc158\\uc5d0 \\ub300\\ud558\\uc5ec\\ub294 Chief Dealer\\uc758 \\uac70\\ub798 \\uc804\\ub7b5\\uc5d0 \\ub530\\ub77c \\ud5e4\\uc9c0(Hedge)\\n3) \\ub9ac\\uc2a4\\ud06c \\uad00\\ub9ac\\uc870\\uc9c1\\n\\ub2f4\\ub2f9\\ubd80\\uc11c\\n\\ub2f4\\ub2f9\\uc778\\uc6d0\\n\\ub2f4\\ub2f9\\uc5c5\\ubb34\\n\\ube44\\uace0\\n\\uc790\\uae08\\ud300,\\n\\uc9c0\\uc6d0\\ud300\\n\\ucd1d\\uc778\\uc6d0 3\\uba85\\n- \\ud658 POSITION \\uc810\\uac80(\\uae30\\uac04\\ubcc4)\\n- \\uc678\\ud658, \\uae08\\ub9ac HEDGE \\uac70\\ub798\\n- \\ud658 POSITION \\ud3c9\\uac00 \\ubc0f \\uc190\\uc775 \\ud604\\ud669 \\ubcf4\\uace0\\n- \\uc678\\ud658 \\uac70\\ub798 \\uc190\\uc775 \\ubcf4\\uace0 \\uae30\\ub85d\\uc720\\uc9c0 \\ub4f1\\n- \\ud30c\\uc0dd\\uc0c1\\ud488 \\uac80\\ud1a0, \\uac70\\ub798 \\uc2e4\\ud589\\n-\\n8. \\uacbd\\uc601\\uc0c1\\uc758 \\uc8fc\\uc694\\uacc4\\uc57d \\ub4f1\\n- \\ud574\\ub2f9\\uc0ac\\ud56d\\uc5c6\\uc74c\\n9. \\uc5f0\\uad6c\\uac1c\\ubc1c \\ud65c\\ub3d9\\n\\uac00. \\uc5f0\\uad6c\\uac1c\\ubc1c\\ud65c\\ub3d9\\uc758 \\uac1c\\uc694\\n1) \\uc5f0\\uad6c\\uac1c\\ubc1c \\ub2f4\\ub2f9\\uc870\\uc9c1\\n\\uc5f0\\uad6c\\uac1c\\ubc1c \\ub2f4\\ub2f9\\uc870\\uc9c1\\n\\ud68c\\ub85c\\uac1c\\ubc1c\\n\\uae30\\uad6c\\uac1c\\ubc1c\\n\\uc18c\\uc7ac\\uc5f0\\uad6c\\n(117\\uba85)\\n(13\\uba85)\\n(4\\uba85)\\n2) \\uc5f0\\uad6c\\uac1c\\ubc1c\\ube44\\uc6a9\\n(\\ub2e8\\uc704 : \\ucc9c\\uc6d0)\\n\\uacfc \\ubaa9\\n\\uc81c54\\uae30\\n\\uc81c53\\uae30\\n\\uc81c52\\uae30\\n\\ube44\\uace0\\n\\uc6d0 \\uc7ac \\ub8cc \\ube44\\n1,950,081\\n2,808,903\\n1,909,995\\n-\\n\\uc778 \\uac74 \\ube44\\n7,138,019\\n6,905,034\\n6,024,005\\n-\\n\\uac10 \\uac00 \\uc0c1 \\uac01 \\ube44\\n646,952\\n724,091\\n763,424\\n-\\n\\uc704 \\ud0c1 \\uc6a9 \\uc5ed \\ube44\\n1,038,811\\n1,356,105\\n910,031\\n-\\n\\uae30 \\ud0c0\\n6,774,810\\n7,126,413\\n8,896,430\\n-\\n\\uc5f0\\uad6c\\uac1c\\ubc1c\\ube44\\uc6a9 \\uacc4\\n17,548,673\\n18,920,546\\n18,503,886\\n-\\n(\\uc815\\ubd80\\ubcf4\\uc870\\uae08)\\n(3,937,032)\\n(3,633,700)\\n(2,948,726)\\n-\\n\\ud68c\\uacc4\\ucc98\\ub9ac\\n\\ud310\\ub9e4\\ube44\\uc640 \\uad00\\ub9ac\\ube44\\n16,875,349\\n16,661,353\\n14,864,868\\n-\\n\\uc81c\\uc870\\uacbd\\ube44\\n-\\n-\\n-\\n-\\n\\uac1c\\ubc1c\\ube44(\\ubb34\\ud615\\uc790\\uc0b0)\\n673,324\\n2,259,193\\n3,639,018\\n-\\n\\uc5f0\\uad6c\\uac1c\\ubc1c\\ube44 / \\ub9e4\\ucd9c\\uc561 \\ube44\\uc728\\n[\\uc5f0\\uad6c\\uac1c\\ubc1c\\ube44\\uc6a9\\uacc4\\u00f7\\ub2f9\\uae30\\ub9e4\\ucd9c\\uc561\\u00d7100]\\n2.97%\\n3.65%\\n3.17%\\n-\\n- \\uc0c1\\uae30 \\uc5f0\\uad6c\\uac1c\\ubc1c\\ube44\\uc6a9\\uc740 \\uac1c\\ubcc4\\uae30\\uc900\\uc73c\\ub85c \\ud45c\\uae30\\ud558\\uc600\\uc2b5\\ub2c8\\ub2e4.\\n\\ub098. \\uc5f0\\uad6c\\uac1c\\ubc1c \\uc2e4\\uc801\\n1) Power Board\\n\\ubaa8 \\ub378\\n\\uac1c \\ubc1c \\ubd80 \\ubb38\\n\\uae30 \\uac04\\n\\ube44 \\uace0\\n(\\ud6a8\\uacfc\\ub4f1)\\nP11020N_NHS (BN44-00958A)\\nPD Board (Monitor)\\n18.08 ~ 19.02\\n-\\nF240PWA(B)_RHS (BN44-01003A,01004A)\\nPD Board (Monitor)\\n18.08 ~ 19.06\\n-\\nP22020N_RHS (BN44-00976A)\\nPD Board (Monitor)\\n18.08 ~ 19.07\\n-\\n(BN44-00982A) L65S7NA_RHS\\n65\\\" PD Board (LED TV)\\n18.09 ~ 19.01\\n-\\n(BN44-00981B) L82S9NB_RHS\\n85\\\"LED Dirver (LED TV) 4K SLIM\\n18.09 ~ 19.01\\n-\\n(BN44-00981A) L82S9NA_RHS\\n85\\\"LED Dirver (LED TV) 4K SLIM\\n18.09 ~ 19.01\\n-\\n(BN44-00980F) L75S9NRB_RHS\\n75\\\"LED Dirver (LED TV) 4K SLIM\\n18.09 ~ 19.01\\n-\\n(BN44-00980E) L75S9NRA_RHS\\n75\\\"LED Dirver (LED TV) 4K SLIM\\n18.09 ~ 19.01\\n-\\n(BN44-00980D) L65S9NRB_RHS\\n65\\\"LED Dirver (LED TV) 4K SLIM\\n18.09 ~ 19.01\\n-\\n(BN44-00980C) L65S9NRA_RHS\\n65\\\"LED Dirver (LED TV) 4K SLIM\\n18.09 ~ 19.01\\n-\\n(BN44-00980B) L55S9NRB_RHS\\n55\\\"LED Dirver (LED TV) 4K SLIM\\n18.09 ~ 19.01\\n-\\n(BN44-00980A) L55S9NRA_RHS\\n55\\\"LED Dirver (LED TV) 4K SLIM\\n18.09 ~ 19.01\\n-\\n(BN44-00978D) L65S7ND_RHS\\n65\\\" LED Dirver (LED TV)\\n18.09 ~ 19.01\\n-\\n(BN44-00978B) L55S7NC_RHS\\n55\\\" LED Dirver (LED TV)\\n18.09 ~ 19.01\\n-\\n(BN44-00978A) L49S7NC_RHS\\n49\\\" LED Dirver (LED TV)\\n18.09 ~ 19.01\\n-\\n(BN44-00977A) L55S7NA_RHS\\n55\\\" PD Board (LED TV)\\n18.09 ~ 19.01\\n-\\n(BN44-00932S) L65E7N_RHS\\n65\\\" PD Board (LED TV)\\n18.09 ~ 19.01\\n-\\n(BN44-00932R) L55E7N_RHS\\n55\\\" PD Board (LED TV)\\n18.09 ~ 19.01\\n-\\n(BN44-00932Q) L55E7_RHS\\n55\\\" PD Board (LED TV)\\n18.09 ~ 19.01\\n-\\n(BN44-00932M) L65E8N_RHS\\n65\\\" PD Board (LED TV)\\n18.09 ~ 19.01\\n-\\n(BN44-00874E) L75E8N_RHS\\n75\\\" PD Board (LED TV)\\n18.09 ~ 19.01\\n-\\n(BN44_00998A) L85S9SNRC_RHS\\n85\\\"LED Dirver (LED TV) 8K SLIM\\n18.09 ~ 19.01\\n-\\n(BN44_00997B) L85S9SNRB_RHS\\n85\\\"LED Dirver (LED TV) 8K SLIM\\n18.09 ~ 19.01\\n-\\n(BN44_00997A) L85S9SNRA_RHS\\n85\\\"LED Dirver (LED TV) 8K SLIM\\n18.09 ~ 19.01\\n-\\n(BN44_00996A) L82S9SNRC_RHS\\n82\\\"LED Dirver (LED TV) 8K SLIM\\n18.09 ~ 19.01\\n-\\n(BN44_00995B) L82S9SNRB_RHS\\n82\\\"LED Dirver (LED TV) 8K SLIM\\n18.09 ~ 19.01\\n-\\n(BN44_00995A) L82S9SNRA_RHS\\n82\\\"LED Dirver (LED TV) 8K SLIM\\n18.09 ~ 19.01\\n-\\n(BN44_00994B) L75S9SNRB_RHS\\n75\\\"LED Dirver (LED TV) 8K SLIM\\n18.09 ~ 19.01\\n-\\n(BN44_00994A) L75S9SNRA_RHS\\n75\\\"LED Dirver (LED TV) 8K SLIM\\n18.09 ~ 19.01\\n-\\n(BN44_00993B) L65S9SNRB_RHS\\n65\\\"LED Dirver (LED TV) 8K SLIM\\n18.09 ~ 19.01\\n-\\n(BN44_00993A) L65S9SNRA_RHS\\n65\\\"LED Dirver (LED TV) 8K SLIM\\n18.09 ~ 19.01\\n-\\n(BN44-01002A) P950NQ_RHS\\nOC BoX (LED TV)\\n18.09 ~ 19.02\\n-\\n(BN44-00874F) L82E8N_RHS\\n82\\\" PD Board (LED TV)\\n18.09 ~ 19.02\\n-\\n(BN44_01012A) L55S9SNB_RHS\\n55\\\"LED Dirver (LED TV) 8K SLIM\\n18.09 ~ 19.03\\n-\\n(BN44_01011A) L55S9SNA_RHS\\n55\\\"LED Dirver (LED TV) 8K SLIM\\n18.09 ~ 19.03\\n-\\n(BN44_01001A) L98S9SNC_RHS\\n98\\\"LED Dirver (LED TV) 8K SLIM\\n18.09 ~ 19.03\\n-\\n(BN44_00999B) L98S9SNB_RHS\\n98\\\"LED Dirver (LED TV) 8K SLIM\\n18.09 ~ 19.03\\n-\\n(BN44_00999A) L98S9SNA_RHS\\n98\\\"LED Dirver (LED TV) 8K SLIM\\n18.09 ~ 19.03\\n-\\nMWO_INV(1KW)\\n\\uc804\\uc790\\ub808\\uc778\\uc9c0 \\uc778\\ubc84\\ud130, 1.0KW, \\uad6c\\uc8fc\\u5411, \\uacfc\\uc81c\\n18.09 ~ 20.10\\n-\\nMWO_INV(1KW)\\n\\uc804\\uc790\\ub808\\uc778\\uc9c0 \\uc778\\ubc84\\ud130, 1.0KW, \\uad6c\\uc8fc\\u5411, \\uc120\\ud589\\uacfc\\uc81c\\n18.09 ~ 20.10\\n-\\nL49F6_RHS (BN44-00962B)\\n49\\\" LED Dirver (Frame LED TV)\\n18.12 ~ 19.02\\n-\\nL43F6_RHS (BN44-00960B)\\n43\\\" LED Dirver (Frame LED TV)\\n18.12 ~ 19.02\\n-\\nF75E8_RHS (BN44-01005A)\\n75\\\" PD Board (Monitor)\\n18.12 ~ 19.03\\n-\\n(BN44-00955A)F75E8_RHS\\n75\\\" PD Board (Monitor)\\n18.12 ~ 19.03\\n-\\nF65E6_RHS (BN44-00954B)\\n65\\\" PD Board (Monitor)\\n18.12 ~ 19.05\\n-\\n(BN44-00954A)F65E6_RHS\\n65\\\" PD Board (Monitor)\\n18.12 ~ 19.05\\n-\\nTSE, PRODUCT,20S,PF2,SKD,DB97-32744D\\n\\uc5d0\\uc5b4\\ucee8 \\uc778\\ubc84\\ud130, 3.0KW, \\uc6d4\\ub4dc\\uc640\\uc774\\ub4dc, SKD, \\uc591\\uc0b0 \\uacfc\\uc81c\\n18.12 ~ 19.10\\n-\\nTSE, PRODUCT,20S,PF2,CKD,DB97-32744C\\n\\uc5d0\\uc5b4\\ucee8 \\uc778\\ubc84\\ud130, 3.0KW, \\uc6d4\\ub4dc\\uc640\\uc774\\ub4dc, CKD \\uc591\\uc0b0 \\uacfc\\uc81c\\n18.12 ~ 19.10\\n-\\nTSE, PRODUCT,20S,PF2,CKD,DB97-32744B\\n\\uc5d0\\uc5b4\\ucee8 \\uc778\\ubc84\\ud130, 3.0KW, \\uc6d4\\ub4dc\\uc640\\uc774\\ub4dc, CKD, \\uc591\\uc0b0 \\uacfc\\uc81c\\n18.12 ~ 19.10\\n-\\nTSE, PRODUCT,20S,PF2,CKD,DB97-32744A\\n\\uc5d0\\uc5b4\\ucee8 \\uc778\\ubc84\\ud130, 3.0KW, \\uc6d4\\ub4dc\\uc640\\uc774\\ub4dc, CKD, \\uc591\\uc0b0 \\uacfc\\uc81c\\n18.12 ~ 19.10\\n-\\nTSE, PRODUCT, 20S, PF2, DB92-04849G\\n\\uc5d0\\uc5b4\\ucee8 \\uc778\\ubc84\\ud130, 3.0KW, \\uc6d4\\ub4dc\\uc640\\uc774\\ub4dc, \\uc591\\uc0b0 \\uacfc\\uc81c\\n18.12 ~ 19.10\\n-\\nTSE, PRODUCT, 20S, PF2, DB92-04849F\\n\\uc5d0\\uc5b4\\ucee8 \\uc778\\ubc84\\ud130, 3.0KW, \\uc6d4\\ub4dc\\uc640\\uc774\\ub4dc, \\uc591\\uc0b0 \\uacfc\\uc81c\\n18.12 ~ 19.10\\n-\\nTSE, PRODUCT, 20S, PF2, DB92-04849E\\n\\uc5d0\\uc5b4\\ucee8 \\uc778\\ubc84\\ud130, 3.0KW, \\uc6d4\\ub4dc\\uc640\\uc774\\ub4dc, \\uc591\\uc0b0 \\uacfc\\uc81c\\n18.12 ~ 19.10\\n-\\nTSE, PRODUCT, 20S, PF2, DB92-04849D\\n\\uc5d0\\uc5b4\\ucee8 \\uc778\\ubc84\\ud130, 3.0KW, \\uc6d4\\ub4dc\\uc640\\uc774\\ub4dc, \\uc591\\uc0b0 \\uacfc\\uc81c\\n18.12 ~ 19.10\\n-\\nTSE, PRODUCT, 20S, PF2, DB92-04849C\\n\\uc5d0\\uc5b4\\ucee8 \\uc778\\ubc84\\ud130, 3.0KW, \\uc6d4\\ub4dc\\uc640\\uc774\\ub4dc, \\uc591\\uc0b0 \\uacfc\\uc81c\\n18.12 ~ 19.10\\n-\\nTSE, PRODUCT, 20S, PF2, DB92-04849B\\n\\uc5d0\\uc5b4\\ucee8 \\uc778\\ubc84\\ud130, 3.0KW, \\uc6d4\\ub4dc\\uc640\\uc774\\ub4dc, \\uc591\\uc0b0 \\uacfc\\uc81c\\n18.12 ~ 19.10\\n-\\nTSE, PRODUCT, 20S, PF2, DB92-04849A\\n\\uc5d0\\uc5b4\\ucee8 \\uc778\\ubc84\\ud130, 3.0KW, \\uc6d4\\ub4dc\\uc640\\uc774\\ub4dc, \\uc591\\uc0b0 \\uacfc\\uc81c\\n18.12 ~ 19.10\\n-\\nTSE, PRODUCT, 20S, PF2, DB92-04842V\\n\\uc5d0\\uc5b4\\ucee8 \\uc778\\ubc84\\ud130, 3.0KW, \\uc6d4\\ub4dc\\uc640\\uc774\\ub4dc, \\uc591\\uc0b0 \\uacfc\\uc81c\\n18.12 ~ 19.10\\n-\\nTSE, PRODUCT, 20S, PF2, DB92-04842U\\n\\uc5d0\\uc5b4\\ucee8 \\uc778\\ubc84\\ud130, 3.0KW, \\uc6d4\\ub4dc\\uc640\\uc774\\ub4dc, \\uc591\\uc0b0 \\uacfc\\uc81c\\n18.12 ~ 19.10\\n-\\nTSE, PRODUCT, 20S, PF2, DB92-04842T\\n\\uc5d0\\uc5b4\\ucee8 \\uc778\\ubc84\\ud130, 3.0KW, \\uc6d4\\ub4dc\\uc640\\uc774\\ub4dc, \\uc591\\uc0b0 \\uacfc\\uc81c\\n18.12 ~ 19.10\\n-\\nTSE, PRODUCT, 20S, PF2, DB92-04842S\\n\\uc5d0\\uc5b4\\ucee8 \\uc778\\ubc84\\ud130, 3.0KW, \\uc6d4\\ub4dc\\uc640\\uc774\\ub4dc, \\uc591\\uc0b0 \\uacfc\\uc81c\\n18.12 ~ 19.10\\n-\\nTSE, PRODUCT, 20S, PF2, DB92-04842R\\n\\uc5d0\\uc5b4\\ucee8 \\uc778\\ubc84\\ud130, 3.0KW, \\uc6d4\\ub4dc\\uc640\\uc774\\ub4dc, \\uc591\\uc0b0 \\uacfc\\uc81c\\n18.12 ~ 19.10\\n-\\nTSE, PRODUCT, 20S, PF2, DB92-04842Q\\n\\uc5d0\\uc5b4\\ucee8 \\uc778\\ubc84\\ud130, 3.0KW, \\uc6d4\\ub4dc\\uc640\\uc774\\ub4dc, \\uc591\\uc0b0 \\uacfc\\uc81c\\n18.12 ~ 19.10\\n-\\nTSE, PRODUCT, 20S, PF2, DB92-04842P\\n\\uc5d0\\uc5b4\\ucee8 \\uc778\\ubc84\\ud130, 3.0KW, \\uc6d4\\ub4dc\\uc640\\uc774\\ub4dc, \\uc591\\uc0b0 \\uacfc\\uc81c\\n18.12 ~ 19.10\\n-\\nTSE, PRODUCT, 20S, PF2, DB92-04842N\\n\\uc5d0\\uc5b4\\ucee8 \\uc778\\ubc84\\ud130, 3.0KW, \\uc6d4\\ub4dc\\uc640\\uc774\\ub4dc, \\uc591\\uc0b0 \\uacfc\\uc81c\\n18.12 ~ 19.10\\n-\\nTSE, PRODUCT, 20S, PF2, DB92-04842M\\n\\uc5d0\\uc5b4\\ucee8 \\uc778\\ubc84\\ud130, 3.0KW, \\uc6d4\\ub4dc\\uc640\\uc774\\ub4dc, \\uc591\\uc0b0 \\uacfc\\uc81c\\n18.12 ~ 19.10\\n-\\nTSE, PRODUCT, 20S, PF2, DB92-04842L\\n\\uc5d0\\uc5b4\\ucee8 \\uc778\\ubc84\\ud130, 3.0KW, \\uc6d4\\ub4dc\\uc640\\uc774\\ub4dc, \\uc591\\uc0b0 \\uacfc\\uc81c\\n18.12 ~ 19.10\\n-\\nTSE, PRODUCT, 20S, PF2, DB92-04842K\\n\\uc5d0\\uc5b4\\ucee8 \\uc778\\ubc84\\ud130, 3.0KW, \\uc6d4\\ub4dc\\uc640\\uc774\\ub4dc, \\uc591\\uc0b0 \\uacfc\\uc81c\\n18.12 ~ 19.10\\n-\\nTSE, PRODUCT, 20S, PF2, DB92-04842J\\n\\uc5d0\\uc5b4\\ucee8 \\uc778\\ubc84\\ud130, 3.0KW, \\uc6d4\\ub4dc\\uc640\\uc774\\ub4dc, \\uc591\\uc0b0 \\uacfc\\uc81c\\n18.12 ~ 19.10\\n-\\nTSE, PRODUCT, 20S, PF2, DB92-04842H\\n\\uc5d0\\uc5b4\\ucee8 \\uc778\\ubc84\\ud130, 3.0KW, \\uc6d4\\ub4dc\\uc640\\uc774\\ub4dc, \\uc591\\uc0b0 \\uacfc\\uc81c\\n18.12 ~ 19.10\\n-\\nTSE, PRODUCT, 20S, PF2, DB92-04842G\\n\\uc5d0\\uc5b4\\ucee8 \\uc778\\ubc84\\ud130, 3.0KW, \\uc6d4\\ub4dc\\uc640\\uc774\\ub4dc, \\uc591\\uc0b0 \\uacfc\\uc81c\\n18.12 ~ 19.10\\n-\\nTSE, PRODUCT, 20S, PF2, DB92-04842F\\n\\uc5d0\\uc5b4\\ucee8 \\uc778\\ubc84\\ud130, 3.0KW, \\uc6d4\\ub4dc\\uc640\\uc774\\ub4dc, \\uc591\\uc0b0 \\uacfc\\uc81c\\n18.12 ~ 19.10\\n-\\nTSE, PRODUCT, 20S, PF2, DB92-04842E\\n\\uc5d0\\uc5b4\\ucee8 \\uc778\\ubc84\\ud130, 3.0KW, \\uc6d4\\ub4dc\\uc640\\uc774\\ub4dc, \\uc591\\uc0b0 \\uacfc\\uc81c\\n18.12 ~ 19.10\\n-\\nTSE, PRODUCT, 20S, PF2, DB92-04842D\\n\\uc5d0\\uc5b4\\ucee8 \\uc778\\ubc84\\ud130, 3.0KW, \\uc6d4\\ub4dc\\uc640\\uc774\\ub4dc, \\uc591\\uc0b0 \\uacfc\\uc81c\\n18.12 ~ 19.10\\n-\\nTSE, PRODUCT, 20S, PF2, DB92-04842C\\n\\uc5d0\\uc5b4\\ucee8 \\uc778\\ubc84\\ud130, 3.0KW, \\uc6d4\\ub4dc\\uc640\\uc774\\ub4dc, \\uc591\\uc0b0 \\uacfc\\uc81c\\n18.12 ~ 19.10\\n-\\nTSE, PRODUCT, 20S, PF2, DB92-04842B\\n\\uc5d0\\uc5b4\\ucee8 \\uc778\\ubc84\\ud130, 3.0KW, \\uc6d4\\ub4dc\\uc640\\uc774\\ub4dc, \\uc591\\uc0b0 \\uacfc\\uc81c\\n18.12 ~ 19.10\\n-\\nTSE, PRODUCT, 20S, PF2, DB92-04842A\\n\\uc5d0\\uc5b4\\ucee8 \\uc778\\ubc84\\ud130, 3.0KW, \\uc6d4\\ub4dc\\uc640\\uc774\\ub4dc, \\uc591\\uc0b0 \\uacfc\\uc81c\\n18.12 ~ 19.10\\n-\\nTSE, 20S, PF3, DB92-04924A, PFC_MODULE\\n\\uc5d0\\uc5b4\\ucee8 \\uc778\\ubc84\\ud130, PFC_MODULE GUIDE, \\uc591\\uc0b0\\uacfc\\uc81c\\n18.12 ~ 19.10\\n-\\nPF3 (\\ud1b5\\ud569\\ubcf4\\ub4dc)\\n\\uc5d0\\uc5b4\\ucee8 \\uc778\\ubc84\\ud130, 4.0KW, \\uc720\\ub7fd\\ud5a5, \\uacfc\\uc81c\\n18.12 ~ 19.10\\n-\\nPF2 (\\ud1b5\\ud569\\ubcf4\\ub4dc) (\\ud30c\\uc0dd 26\\uc885)\\n\\uc5d0\\uc5b4\\ucee8 \\uc778\\ubc84\\ud130, 3.0KW, \\uc6d4\\ub4dc\\uc640\\uc774\\ub4dc, \\uacfc\\uc81c\\n18.12 ~ 19.10\\n-\\nPF1 (WITH OUT PFC)\\n\\uc5d0\\uc5b4\\ucee8 \\uc778\\ubc84\\ud130, 2.0KW, \\uc6d4\\ub4dc\\uc640\\uc774\\ub4dc, \\uacfc\\uc81c\\n18.12 ~ 19.10\\n-\\nPF1 (WITH\\u00a0 PFC)\\n\\uc5d0\\uc5b4\\ucee8 \\uc778\\ubc84\\ud130, 2.0KW, \\uc6d4\\ub4dc\\uc640\\uc774\\ub4dc, \\uacfc\\uc81c\\n18.12 ~ 19.10\\n-\\nF82S9SNRA(B,C)_RHS (BN44-01008A,01009A,01010A)\\n82\\\" LED Dirver (Monitor)\\n19.01 ~ 19.04\\n-\\nSSL550_0D17C (LJ44-00340A,341A,342A)\\n55\\\" LED Driver-SDC\\n19.01 ~ 19.05\\n-\\nF82E8_RHS (BN44-01006A)\\n82\\\" PD Board (Monitor)\\n19.01 ~ 19.05\\n-\\n(BN44-01002B) F950NQ_RHS\\n95\\\" EBT\\n19.03 ~ 19.05\\n-\\nPS341\\n34\\\" PD Board (Monitor)-Vizio\\n19.03 ~ 19.07\\n-\\nM657\\n65\\\" PD Board (LED TV)-Vizio\\n19.03 ~ 19.07\\n-\\nM557\\n55\\\" PD Board (LED TV)-Vizio\\n19.03 ~ 19.07\\n-\\nM437\\n43\\\" PD Board (LED TV)-Vizio\\n19.03 ~ 19.07\\n-\\n(BN44-00994D) L75S9SNVB_RHS\\n75\\\"LED Dirver (LED TV) 8K SLIM VE\\n19.03 ~ 19.07\\n-\\n(BN44-00994C) L75S9SNVA_RHS\\n75\\\"LED Dirver (LED TV) 8K SLIM VE\\n19.03 ~ 19.07\\n-\\n(BN44-00968B) L82S9SCRB_RHS\\n82\\\"LED Dirver (LED TV) 8K SLIM \\uc911\\uad6d\\ud5a5\\n19.03 ~ 19.07\\n-\\n(BN44-00967B) L82S9SCRA_RHS\\n82\\\"LED Dirver (LED TV) 8K SLIM \\uc911\\uad6d\\ud5a5\\n19.03 ~ 19.07\\n-\\n(BN44-00966B) L75S9SCRB_RHS\\n75\\\"LED Dirver (LED TV) 8K SLIM \\uc911\\uad6d\\ud5a5\\n19.03 ~ 19.07\\n-\\n(BN44-00965B) L75S9SCRA_RHS\\n75\\\"LED Dirver (LED TV) 8K SLIM \\uc911\\uad6d\\ud5a5\\n19.03 ~ 19.07\\n-\\n(BN44-00964B) L65S9SCRB_RHS\\n65\\\"LED Dirver (LED TV) 8K SLIM \\uc911\\uad6d\\ud5a5\\n19.03 ~ 19.07\\n-\\n(BN44-00963B) L65S9SCRA_RHS\\n65\\\"LED Dirver (LED TV) 8K SLIM \\uc911\\uad6d\\ud5a5\\n19.03 ~ 19.07\\n-\\n(BN44-01016A) L70S6N_RHS\\n70\\\" LED Dirver (LED TV)\\n19.06 ~ 19.07\\n-\\n(BN44-00970B)L85S9SCRB_RHS\\n85\\\"LED Dirver (LED TV) 8K SLIM \\uc911\\uad6d\\ud5a5\\n19.06 ~ 19.07\\n-\\n(BN44-00969B) L85S9SCRA_RHS\\n85\\\"LED Dirver (LED TV) 8K SLIM \\uc911\\uad6d\\ud5a5\\n19.06 ~ 19.07\\n-\\n(BN44_01001B) F98S9SNC_RHS\\n98\\\"LED Dirver (LED TV) 8K SLIM EBT\\n19.06 ~ 19.07\\n-\\n(BN44_00999D) F98S9SNB_RHS\\n98\\\"LED Dirver (LED TV) 8K SLIM EBT\\n19.06 ~ 19.07\\n-\\n(BN44_00999C) F98S9SNA_RHS\\n98\\\"LED Dirver (LED TV) 8K SLIM EBT\\n19.06 ~ 19.07\\n-\\nSSL550_0D17D (LJ44-00344A)\\n55\\\" LED Driver-SDC\\n19.06 ~ 19.08\\n-\\n(BN44-01021A) F75E7_RHS\\n75\\\" EBT\\n19.06 ~ 19.08\\n-\\nVS9000\\n\\ubb34\\uc120\\uccad\\uc18c\\uae30 80W\\n19.06 ~ 19.10\\n-\\nSEHC, PRODUCT, PCB, HA-VC2514D, DJ92-00177B\\n\\ubb34\\uc120\\uccad\\uc18c\\uae30 80W \\uc591\\uc0b0\\uacfc\\uc81c\\n19.06 ~ 19.10\\n-\\nRF9900\\n\\ub0c9\\uc7a5\\uace0 \\ud1b5\\ud569 \\ubcf4\\ub4dc \\uad6d\\ub0b4\\ud5a5\\n19.06 ~ 20.03\\n-\\nSECG, 20S, RF9900, DA92-01301A\\n\\ub0c9\\uc7a5\\uace0 \\ud1b5\\ud569 \\ubcf4\\ub4dc \\uad6d\\ub0b4\\ud5a5 \\uc591\\uc0b0\\uacfc\\uc81c\\n19.06 ~ 20.05\\n-\\nIFMH\\n\\uc778\\ub355\\uc158 \\uc778\\ubc84\\ud130, 3.6KW, 2\\uad6c(2F), \\uad6d\\ub0b4,, \\uacfc\\uc81c\\n19.06 ~ 20.06\\n-\\nF85LUC(D)R_RHSV (BN96-41263B,BN96-41264B)\\n85\\\" LED Dirver (Monitor)\\n19.08 ~ 19.11\\n-\\n(BN44-01080A)L75F7_THS\\n75\\\" Frame TV(\\uc561\\uc790)\\n19.09 ~ 20.01\\n-\\n(BN44-01079B)L65F7_THS\\n65\\\" Frame TV(\\uc561\\uc790)\\n19.09 ~ 20.01\\n-\\n(BN44-01079A)L55F7_THS\\n55\\\" Frame TV(\\uc561\\uc790)\\n19.09 ~ 20.01\\n-\\n(BN44-01078A)L50F7_THS\\n50\\\" Frame TV(\\uc561\\uc790)\\n19.09 ~ 20.01\\n-\\n(BN44-01077A)L43F7_THS\\n43\\\" Frame TV(\\uc561\\uc790)\\n19.09 ~ 20.01\\n-\\n(BN44-01075A)L75S8SNA_THS\\n75\\\" SMPS (LED TV), Q800\\n19.09 ~ 20.01\\n-\\n(BN44-01074A)L82S8SNA_THS\\n82\\\" SMPS (LED TV), Q800\\n19.09 ~ 20.01\\n-\\n(BN44-01073A)L65S8SNA_THS\\n65\\\" SMPS (LED TV), Q800\\n19.09 ~ 20.01\\n-\\n(BN44-01071A,B)L55S8SNA(D)_THS\\n55\\\" SMPS (LED TV), Q800\\n19.09 ~ 20.01\\n-\\n(BN44-01070A,B)L82S8SNC(D)_THS\\n82\\\" LD Board (LED TV), Q800\\n19.09 ~ 20.01\\n-\\n(BN44-01069A,B)L75S8SNC(D)_THS\\n75\\\" LD Board (LED TV), Q800\\n19.09 ~ 20.01\\n-\\n(BN44-01068A)L65S8SNC_THS\\n65\\\" LD Board (LED TV), Q800\\n19.09 ~ 20.01\\n-\\n(BN44-01067A)L55S8SNC_THS\\n55\\\" LD Board (LED TV), Q800\\n19.09 ~ 20.01\\n-\\n(BN44-01065B)L82S6N_THS\\n80\\\", 82\\\" PD Board (LED TV), TU6K,7K\\n19.09 ~ 20.01\\n-\\n(BN44-01065A)L82E8N_THS\\n82\\\" PD Board (LED TV),TU7K,8K\\n19.09 ~ 20.01\\n-\\n(BN44-01063A)L65E8N_THS\\n65\\\" PD Board (LED TV), TU7K,8K\\n19.09 ~ 20.01\\n-\\n(BN44-01059A)L65E7N_THS\\n65\\\" PD Board (LED TV), TU7K,8K\\n19.09 ~ 20.01\\n-\\n(BN44-01058A)L55E7(N)_THS\\n55\\\" PD Board (LED TV), TU7K,8K\\n19.09 ~ 20.01\\n-\\n(BN44-01056A)L75S6N_THS\\n70\\\", 75\\\" PD Board (LED TV), TU6K,7K\\n19.09 ~ 20.01\\n-\\n(BN44-01054E)L55S6(N)_THS\\n50\\\", 58\\\" PD Board (LED TV), TU6K,7K\\n19.09 ~ 20.01\\n-\\n(BN44-01052A)L65S8NA_THS\\n55\\\" SMPS (LEDTV) Q80\\n19.09 ~ 20.01\\n-\\n(BN44-01051A)L55S8NA_THS\\n55\\\" SMPS (LEDTV) Q80\\n19.09 ~ 20.01\\n-\\n(BN44-01050A,B)L85SQ9NA(B)_THS\\n85\\\" SMPS (LED TV), Q900\\n19.09 ~ 20.01\\n-\\n(BN44-01049A)L75SQ9NA_THS\\n75\\\" SMPS (LED TV), Q900\\n19.09 ~ 20.01\\n-\\n(BN44-01048A)L65SQ9NA_THS\\n65\\\" SMPS (LED TV), Q900\\n19.09 ~ 20.01\\n-\\n(BN44-01047E,F)L85SQ9NC(D)_THS\\n85\\\" LD Board (LED TV), Q900\\n19.09 ~ 20.01\\n-\\n(BN44-01047C,D)L75SQ9NC(D)_THS\\n75\\\" LD Board (LED TV), Q900\\n19.09 ~ 20.01\\n-\\n(BN44-01047A,B)L65SQ9NC(D)_THS\\n65\\\" LD Board (LED TV), Q900\\n19.09 ~ 20.01\\n-\\n(BN44-01046C,D)L65S8NC(D)_THS\\n65\\\" LD Board (LED TV), Q80\\n19.09 ~ 20.01\\n-\\n(BN44-01046B)L55S8NC_THS\\n55\\\" LD Board (LED TV), Q80\\n19.09 ~ 20.01\\n-\\n(BN44-01046A)L49S8NC_THS\\n49\\\" LD Board (LED TV), Q80\\n19.09 ~ 20.01\\n-\\n(BN44-01030A)L85S9NB_THS\\n85\\\" DCDC (LEDTV) Q95\\n19.09 ~ 20.01\\n-\\n(BN44-01029A)L75S9NB_THS\\n75\\\" DCDC (LEDTV) Q95\\n19.09 ~ 20.01\\n-\\n(BN44-01028A)L65S9NB_THS\\n65\\\" DCDC (LEDTV) Q95\\n19.09 ~ 20.01\\n-\\n(BN44-01027A)L55S9NB_THS\\n55\\\" DCDC (LEDTV) Q95\\n19.09 ~ 20.01\\n-\\nVW 5000R\\n\\uc138\\ud0c1\\uae30 \\uc778\\ubc84\\ud130 450W\\n19.11 ~ 20.03\\n-\\nVS 6000-S\\n20W \\ubb34\\uc120\\uccad\\uc18c\\uae30 Charge\\n19.11 ~ 20.03\\n-\\nVS 6000\\n10W \\ubb34\\uc120\\uccad\\uc18c\\uae30 Charge\\n19.11 ~ 20.03\\n-\\nTSE, PRODUCT, DC92-02596C_KIT, WA5000T Better\\n\\uc138\\ud0c1\\uae30 \\uc778\\ubc84\\ud130 450W \\uc591\\uc0b0\\uacfc\\uc81c\\n19.11 ~ 20.03\\n-\\nTSE, PRODUCT, DC92-02596B_KIT, WA5000T Better\\n\\uc138\\ud0c1\\uae30 \\uc778\\ubc84\\ud130 450W \\uc591\\uc0b0\\uacfc\\uc81c\\n19.11 ~ 20.03\\n-\\nTSE, PRODUCT, DC92-02596A_KIT, WA5000T Better\\n\\uc138\\ud0c1\\uae30 \\uc778\\ubc84\\ud130 450W \\uc591\\uc0b0\\uacfc\\uc81c\\n19.11 ~ 20.03\\n-\\nTSE, PRODUCT, DC92-02595D_KIT, WA5000T Good\\n\\uc138\\ud0c1\\uae30 \\uc778\\ubc84\\ud130 450W \\uc591\\uc0b0\\uacfc\\uc81c\\n19.11 ~ 20.03\\n-\\nTSE, PRODUCT, DC92-02595C_KIT, WA5000T Good\\n\\uc138\\ud0c1\\uae30 \\uc778\\ubc84\\ud130 450W \\uc591\\uc0b0\\uacfc\\uc81c\\n19.11 ~ 20.03\\n-\\nTSE, PRODUCT, DC92-02595B_KIT, WA5000T Good\\n\\uc138\\ud0c1\\uae30 \\uc778\\ubc84\\ud130 450W \\uc591\\uc0b0\\uacfc\\uc81c\\n19.11 ~ 20.03\\n-\\nTSE, PRODUCT, DC92-02595A_KIT, WA5000T Good\\n\\uc138\\ud0c1\\uae30 \\uc778\\ubc84\\ud130 450W \\uc591\\uc0b0\\uacfc\\uc81c\\n19.11 ~ 20.03\\n-\\nTSE, PRODUCT, DC92-02594Y_KIT, WA5000T Better\\n\\uc138\\ud0c1\\uae30 \\uc778\\ubc84\\ud130 450W \\uc591\\uc0b0\\uacfc\\uc81c\\n19.11 ~ 20.03\\n-\\nTSE, PRODUCT, DC92-02594X_KIT, WA5000T Better\\n\\uc138\\ud0c1\\uae30 \\uc778\\ubc84\\ud130 450W \\uc591\\uc0b0\\uacfc\\uc81c\\n19.11 ~ 20.03\\n-\\nTSE, PRODUCT, DC92-02594W_KIT, WA5000T Better\\n\\uc138\\ud0c1\\uae30 \\uc778\\ubc84\\ud130 450W \\uc591\\uc0b0\\uacfc\\uc81c\\n19.11 ~ 20.03\\n-\\nTSE, PRODUCT, DC92-02594V_KIT, WA5000T Better\\n\\uc138\\ud0c1\\uae30 \\uc778\\ubc84\\ud130 450W \\uc591\\uc0b0\\uacfc\\uc81c\\n19.11 ~ 20.03\\n-\\nTSE, PRODUCT, DC92-02594U_KIT, WA5000T Better\\n\\uc138\\ud0c1\\uae30 \\uc778\\ubc84\\ud130 450W \\uc591\\uc0b0\\uacfc\\uc81c\\n19.11 ~ 20.03\\n-\\nTSE, PRODUCT, DC92-02594T_KIT, WA5000T Better\\n\\uc138\\ud0c1\\uae30 \\uc778\\ubc84\\ud130 450W \\uc591\\uc0b0\\uacfc\\uc81c\\n19.11 ~ 20.03\\n-\\nTSE, PRODUCT, DC92-02594S_KIT, WA5000T Better\\n\\uc138\\ud0c1\\uae30 \\uc778\\ubc84\\ud130 450W \\uc591\\uc0b0\\uacfc\\uc81c\\n19.11 ~ 20.03\\n-\\nTSE, PRODUCT, DC92-02594R_KIT, WA5000T Better\\n\\uc138\\ud0c1\\uae30 \\uc778\\ubc84\\ud130 450W \\uc591\\uc0b0\\uacfc\\uc81c\\n19.11 ~ 20.03\\n-\\nTSE, PRODUCT, DC92-02594Q_KIT, WA5000T Better\\n\\uc138\\ud0c1\\uae30 \\uc778\\ubc84\\ud130 450W \\uc591\\uc0b0\\uacfc\\uc81c\\n19.11 ~ 20.03\\n-\\nTSE, PRODUCT, DC92-02594P_KIT, WA5000T Better\\n\\uc138\\ud0c1\\uae30 \\uc778\\ubc84\\ud130 450W \\uc591\\uc0b0\\uacfc\\uc81c\\n19.11 ~ 20.03\\n-\\nTSE, PRODUCT, DC92-02594N_KIT, WA5000T Better\\n\\uc138\\ud0c1\\uae30 \\uc778\\ubc84\\ud130 450W \\uc591\\uc0b0\\uacfc\\uc81c\\n19.11 ~ 20.03\\n-\\nTSE, PRODUCT, DC92-02594M_KIT, WA5000T Better\\n\\uc138\\ud0c1\\uae30 \\uc778\\ubc84\\ud130 450W \\uc591\\uc0b0\\uacfc\\uc81c\\n19.11 ~ 20.03\\n-\\nTSE, PRODUCT, DC92-02594L_KIT, WA5000T Better\\n\\uc138\\ud0c1\\uae30 \\uc778\\ubc84\\ud130 450W \\uc591\\uc0b0\\uacfc\\uc81c\\n19.11 ~ 20.03\\n-\\nTSE, PRODUCT, DC92-02594K_KIT, WA5000T Better\\n\\uc138\\ud0c1\\uae30 \\uc778\\ubc84\\ud130 450W \\uc591\\uc0b0\\uacfc\\uc81c\\n19.11 ~ 20.03\\n-\\nTSE, PRODUCT, DC92-02594J_KIT, WA5000T Better\\n\\uc138\\ud0c1\\uae30 \\uc778\\ubc84\\ud130 450W \\uc591\\uc0b0\\uacfc\\uc81c\\n19.11 ~ 20.03\\n-\\nTSE, PRODUCT, DC92-02594H_KIT, WA5000T Better\\n\\uc138\\ud0c1\\uae30 \\uc778\\ubc84\\ud130 450W \\uc591\\uc0b0\\uacfc\\uc81c\\n19.11 ~ 20.03\\n-\\nTSE, PRODUCT, DC92-02594G_KIT, WA5000T Better\\n\\uc138\\ud0c1\\uae30 \\uc778\\ubc84\\ud130 450W \\uc591\\uc0b0\\uacfc\\uc81c\\n19.11 ~ 20.03\\n-\\nTSE, PRODUCT, DC92-02594F_KIT, WA5000T Better\\n\\uc138\\ud0c1\\uae30 \\uc778\\ubc84\\ud130 450W \\uc591\\uc0b0\\uacfc\\uc81c\\n19.11 ~ 20.03\\n-\\nTSE, PRODUCT, DC92-02594E_KIT, WA5000T Better\\n\\uc138\\ud0c1\\uae30 \\uc778\\ubc84\\ud130 450W \\uc591\\uc0b0\\uacfc\\uc81c\\n19.11 ~ 20.03\\n-\\nTSE, PRODUCT, DC92-02594D_KIT, WA5000T Better\\n\\uc138\\ud0c1\\uae30 \\uc778\\ubc84\\ud130 450W \\uc591\\uc0b0\\uacfc\\uc81c\\n19.11 ~ 20.03\\n-\\nTSE, PRODUCT, DC92-02594C_KIT, WA5000T Better\\n\\uc138\\ud0c1\\uae30 \\uc778\\ubc84\\ud130 450W \\uc591\\uc0b0\\uacfc\\uc81c\\n19.11 ~ 20.03\\n-\\nTSE, PRODUCT, DC92-02594B_KIT, WA5000T Better\\n\\uc138\\ud0c1\\uae30 \\uc778\\ubc84\\ud130 450W \\uc591\\uc0b0\\uacfc\\uc81c\\n19.11 ~ 20.03\\n-\\nTSE, PRODUCT, DC92-02594A_KIT, WA5000T Better\\n\\uc138\\ud0c1\\uae30 \\uc778\\ubc84\\ud130 450W \\uc591\\uc0b0\\uacfc\\uc81c\\n19.11 ~ 20.03\\n-\\nTSE, PRODUCT, DC92-02593G_KIT, WA5000T Best\\n\\uc138\\ud0c1\\uae30 \\uc778\\ubc84\\ud130 450W \\uc591\\uc0b0\\uacfc\\uc81c\\n19.11 ~ 20.03\\n-\\nTSE, PRODUCT, DC92-02593F_KIT, WA5000T Best\\n\\uc138\\ud0c1\\uae30 \\uc778\\ubc84\\ud130 450W \\uc591\\uc0b0\\uacfc\\uc81c\\n19.11 ~ 20.03\\n-\\nTSE, PRODUCT, DC92-02593E_KIT, WA5000T Best\\n\\uc138\\ud0c1\\uae30 \\uc778\\ubc84\\ud130 450W \\uc591\\uc0b0\\uacfc\\uc81c\\n19.11 ~ 20.03\\n-\\nTSE, PRODUCT, DC92-02593D_KIT, WA5000T Best\\n\\uc138\\ud0c1\\uae30 \\uc778\\ubc84\\ud130 450W \\uc591\\uc0b0\\uacfc\\uc81c\\n19.11 ~ 20.03\\n-\\nTSE, PRODUCT, DC92-02593C_KIT, WA5000T Best\\n\\uc138\\ud0c1\\uae30 \\uc778\\ubc84\\ud130 450W \\uc591\\uc0b0\\uacfc\\uc81c\\n19.11 ~ 20.03\\n-\\nTSE, PRODUCT, DC92-02593B_KIT, WA5000T Best\\n\\uc138\\ud0c1\\uae30 \\uc778\\ubc84\\ud130 450W \\uc591\\uc0b0\\uacfc\\uc81c\\n19.11 ~ 20.03\\n-\\nTSE, PRODUCT, DC92-02593A_KIT, WA5000T Best\\n\\uc138\\ud0c1\\uae30 \\uc778\\ubc84\\ud130 450W \\uc591\\uc0b0\\uacfc\\uc81c\\n19.11 ~ 20.03\\n-\\n2) \\uae30\\ud0c0 \\uc804\\uc790\\ubd80\\ud488\\n\\ubaa8 \\ub378\\n\\uac1c \\ubc1c \\ubd80 \\ubb38\\n\\uae30 \\uac04\\n\\ube44\\uace0\\n(\\ud6a8\\uacfc\\ub4f1)\\nHorticulture Grow lighting\\n\\uc2dd\\ubb3c\\uc131\\uc7a5\\ub4f1, 360W/600W, \\uc2a4\\ud399\\ud2b8\\ub7fc4\\uc885, IP66, UL, DLC\\n18.08 ~ 19.01\\n-\\nHigh Output Flood\\nMpuls series, 200W/400W/600W, CCT(3K,4K,5K),\\uad11\\uac01 3\\uc885,IP66, UL, DLC Premium\\n18.08 ~ 19.05\\n-\\nHSPV-K400(\\uac00\\uc81c)\\n(Micro Inverter)AC \\ucd9c\\ub825 \\uc804\\ub825 400W, \\uace0\\ucd9c\\ub825/\\uc800\\uac00\\n18.11 ~ 19.12\\n-\\nBLHE2\\nLiner High bay, 135W/178W, indoor, UL, DLC Premiun, \\uc911\\uad6d \\uc774\\uc6d0\\ud654\\n18.12 ~ 19.01\\n-\\nBN96-49478A\\n\\uad6c\\uc8fc \\uc77c\\ubc18 (G7.5)\\n18.12 ~ 19.03\\n-\\nBN96-49476A\\n\\uad6c\\uc8fc \\uc77c\\ubc18 (G8.6)\\n18.12 ~ 19.03\\n-\\nBN96-49474A\\nCIS \\uc704\\uc131 (G8.6)\\n18.12 ~ 19.03\\n-\\nBN96-49473A\\nCIS \\uc704\\uc131 (G7.5)\\n18.12 ~ 19.03\\n-\\nBN96-49472A\\n\\uad6c\\uc8fc \\uc704\\uc131 (G8.6)\\n18.12 ~ 19.03\\n-\\nBn96-49471A\\n\\uad6c\\uc8fc \\uc704\\uc131 (G7.5)\\n18.12 ~ 19.03\\n-\\nSlim Arealight\\n100W/140W, outdoor, UL, DLC Premiun, \\uc911\\uad6d\\uc774\\uc6d0\\ud654\\n18.12 ~ 19.04\\n-\\nHSHP-4601\\n(Hybrid AIO ESS G2) HQC\\u5411 4.6kW, \\ud638\\uc8fc \\uaddc\\uaca9 \\uc778\\uc99d\\n18.12 ~ 19.04\\n-\\nBN96-49640A\\n\\ud130\\ud0a4\\ud5a5(G8.6) \\uc704\\uc131\\n19.03 ~ 19.05\\n-\\nBN96-4961A\\n\\ud130\\ud0a4\\ud5a5(G7.5) \\uc704\\uc131\\n19.03 ~ 19.05\\n-\\nBN96-50164A\\n\\ubbf8\\uc8fc\\ud5a5 55\\\"\\n19.04 ~ 19.08\\n-\\nBN96-50163A\\n\\ubbf8\\uc8fc\\ud5a5 50\\\"\\n19.04 ~ 19.08\\n-\\nSM-G988U\\nGalaxy S20 \\ubb34\\uc120 \\ucda9\\uc804 RX \\ubaa8\\ub4c8 \\uac1c\\ubc1c\\n19.06 ~ 19.12\\n-\\nBN96-51373E\\nKANT-SU2 TU7000 55\\\" SDC \\uc774\\ud0dc\\ub9ac\\n19.09 ~ 20.02\\n-\\nBN96-51373D\\nKANT-SU2 TU7000 55\\\" SDC \\ud130\\ud0a4\\n19.09 ~ 20.02\\n-\\nBN96-51373C\\nKANT-SU2 TU7000 55\\\" SDC \\uad6c\\uc8fc\\ube44\\uc704\\uc131\\n19.09 ~ 20.02\\n-\\nBN96-51373B\\nKANT-SU2 TU7000 55\\\" SDC CIS\\n19.09 ~ 20.02\\n-\\nBN96-51373A\\nKANT-SU2 TU7000 55\\\" SDC \\uad6c\\uc8fc\\uc704\\uc131\\n19.09 ~ 20.02\\n-\\nBN96-51372E\\nKANT-SU2 TU7000 50\\\" INX8.6 \\uc774\\ud0dc\\ub9ac\\n19.09 ~ 20.02\\n-\\nBN96-51372D\\nKANT-SU2 TU7000 50\\\" INX8.6 \\ud130\\ud0a4\\n19.09 ~ 20.02\\n-\\nBN96-51372C\\nKANT-SU2 TU7000 50\\\" INX8.6 CIS\\n19.09 ~ 20.02\\n-\\nBN96-51372B\\nKANT-SU2 TU7000 50\\\" INX8.6 \\uad6c\\uc8fc\\ube44\\uc704\\uc131\\n19.09 ~ 20.02\\n-\\nBN96-51372A\\nKANT-SU2 TU7000 50\\\" INX8.6 \\uad6c\\uc8fc\\uc704\\uc131\\n19.09 ~ 20.02\\n-\\nBN96-50992C\\nKANT-S2 T5300 32\\\" BOE CIS\\n19.09 ~ 20.02\\n-\\nBN96-50992B\\nKANT-S2 T5300 32\\\" BOE \\uad6c\\uc8fc\\ube44\\uc704\\uc131\\n19.09 ~ 20.02\\n-\\nBN96-50992A\\nKANT-S2 T5300 32\\\" BOE \\uad6c\\uc8fc\\uc704\\uc131\\n19.09 ~ 20.02\\n-\\nBN96-50991E\\nKANT-SU2 TU7000 50\\\" HKC \\uc774\\ud0dc\\ub9ac\\n19.09 ~ 20.02\\n-\\nBN96-50991D\\nKANT-SU2 TU7000 50\\\" HKC \\ud130\\ud0a4\\n19.09 ~ 20.02\\n-\\nBN96-50991C\\nKANT-SU2 TU7000 50\\\" HKC CIS\\n19.09 ~ 20.02\\n-\\nBN96-50991B\\nKANT-SU2 TU7000 50\\\" HKC \\uad6c\\uc8fc\\ube44\\uc704\\uc131\\n19.09 ~ 20.02\\n-\\nBN96-50991A\\nKANT-SU2 TU7000 50\\\" HKC \\uad6c\\uc8fc\\uc704\\uc131\\n19.09 ~ 20.02\\n-\\nBN96-50990E\\nKANT-SU2 TU7000 55\\\" BOE \\uc774\\ud0dc\\ub9ac\\n19.09 ~ 20.02\\n-\\nBN96-50990D\\nKANT-SU2 TU7000 55\\\" BOE \\ud130\\ud0a4\\n19.09 ~ 20.02\\n-\\nBN96-50990C\\nKANT-SU2 TU7000 55\\\" BOE CIS\\n19.09 ~ 20.02\\n-\\nBN96-50990B\\nKANT-SU2 TU7000 55\\\" BOE \\uad6c\\uc8fc\\ube44\\uc704\\uc131\\n19.09 ~ 20.02\\n-\\nBN96-50990A\\nKANT-SU2 TU7000 55\\\" BOE \\uad6c\\uc8fc\\uc704\\uc131\\n19.09 ~ 20.02\\n-\\nBN96-51663E\\nBiz TV, KANT-SU2 TU7000 55\\\" SDC \\uad6c\\uc8fc\\uc704\\uc131\\n20.01 ~ 20.03\\n-\\nBN96-51663D\\nBiz TV, KANT-SU2 TU7000 55\\\" SDC CIS\\n20.01 ~ 20.03\\n-\\nBN96-51663C\\nBiz TV, KANT-SU2 TU7000 50\\\" INX8.6 \\uad6c\\uc8fc\\uc704\\uc131\\n20.01 ~ 20.03\\n-\\nBN96-51663B\\nBiz TV, KANT-SU2 TU7000 50\\\" INX8.6 CIS\\n20.01 ~ 20.03\\n-\\nBN96-51663A\\nBiz TV, KANT-SU2 TU7000 50\\\" HKC CIS\\n20.01 ~ 20.03\\n-\\nBN96-51662A\\nBiz TV, KANT-SU2 TU7000 55\\\" BOE CIS\\n20.01 ~ 20.03\\n-\\nBN96-51661A\\nBiz TV, KANT-SU2 TU7000 50\\\" HKC \\uad6c\\uc8fc\\uc704\\uc131\\n20.01 ~ 20.03\\n-\\nBN96-51660A\\nBiz TV, KANT-SU2 TU7000 55\\\" BOE \\uad6c\\uc8fc\\uc704\\uc131\\n20.01 ~ 20.03\\n-\\n3) \\uc194\\ub77c\\ubaa8\\ub4c8\\n\\ubaa8 \\ub378\\n\\uac1c \\ubc1c \\ubd80 \\ubb38\\n\\uae30 \\uac04\\n\\ube44\\uace0\\n(\\ud6a8\\uacfc\\ub4f1)\\nHSxxxUD-AH2\\n72CELL, 5BB, \\ub2e8\\uacb0\\uc815, M2.5, \\ucd9c\\ub825\\ucd94\\uac00,\\uad6d\\ub0b4\\u5411\\n19.07~19.08\\n-\\nHSxxxUE-AH2\\n78CELL, 5BB, \\ub2e8\\uacb0\\uc815, M2.5, \\uace0\\ucd9c\\ub825,\\uad6d\\ub0b4\\u5411\\n19.04~19.07\\n-\\nHSxxxUD-JH2\\n144CELL, 5BB, \\ub2e8\\uacb0\\uc815, Half, M2.5, \\ucd9c\\ub825\\ucd94\\uac00,\\uad6d\\ub0b4\\u5411\\n19.08~19.09\\n-\\nHSxxxUE-JH2\\n156CELL, 5BB, \\ub2e8\\uacb0\\uc815, Half, M2.5, \\uad6d\\ub0b4, \\ubbf8\\uc8fc\\u5411\\n19.04~19.08\\n-\\nHSxxxUE-JH2\\n156CELL, 5BB, \\ub2e8\\uacb0\\uc815, Half, M2.5, \\uace0\\ucd9c\\ub825,\\ud574\\uc678\\u5411\\n19.01~19.06\\n-\\nHAxxxUD-ADA\\n144CELL, 5BB, Half, \\ub2e8\\uacb0\\uc815, G2G,OEM\\n19.02~19.08\\n-\\nHSxxxUB-AN2\\n156CELL, 5BB, \\ub2e8\\uacb0\\uc815, \\uc77c\\ubc18, M2.0, BLK \\ud504\\ub808\\uc784,\\uad6d\\ub0b4\\u5411\\n19.08~19.09\\n-\\nHSxxxUD-HH2\\n144CELL, 5BB, \\ub2e8\\uacb0\\uc815, Half, M2.5,\\ub17c\\ud3f4\\ub529,\\uad6d\\ub0b4/\\ud574\\uc678\\u5411\\n19.08~19.12\\n-\\nHAxxxUD-HHB\\n144CELL, 5BB, \\ub2e8\\uacb0\\uc815, Half, M2.5,G2G,\\uad6d\\ub0b4\\u5411\\n19.06~19.12\\n-\\nHSxxxUD-W02\\n72CELL, 5BB, \\ub2e8\\uacb0\\uc815, \\uc77c\\ubc18, M2.5, \\uc218\\uc0c1\\ud615,\\uad6d\\ub0b4\\u5411\\n19.08~19.12\\n-\\nHSxxxUE-JH2\\n156CELL, 5BB, \\ub2e8\\uacb0\\uc815, \\uc77c\\ubc18, M2.0, BLK \\ud504\\ub808\\uc784,\\uad6d\\ub0b4\\u5411\\n19.08~19.12\\n-\\nHSxxxUE-JH2\\n156CELL, 5BB, \\ub2e8\\uacb0\\uc815, Half, M2.5, \\uace0\\ucd9c\\ub825,\\ud574\\uc678\\u5411\\n19.01~19.06\\n-\\nHAxxxUD-ADA\\n144CELL, 5BB, Half, \\ub2e8\\uacb0\\uc815, G2G,OEM\\n19.02~19.08\\n-\\n10. \\uae30\\ud0c0 \\ud22c\\uc790\\uc758\\uc0ac\\uacb0\\uc815\\uc5d0 \\ud544\\uc694\\ud55c \\uc0ac\\ud56d\\n\\uac00. \\uc678\\ubd80\\uc790\\uae08\\uc870\\ub2ec \\uc694\\uc57d\\ud45c\\n[\\uad6d\\ub0b4\\uc870\\ub2ec]\\n(\\ub2e8\\uc704 : \\ubc31\\ub9cc\\uc6d0)\\n\\uc870 \\ub2ec \\uc6d0 \\ucc9c\\n\\uae30\\ucd08\\uc794\\uc561\\n\\uc2e0\\uaddc\\uc870\\ub2ec\\n\\uc0c1\\ud658\\ub4f1\\uac10\\uc18c\\n\\uae30\\ub9d0\\uc794\\uc561\\n\\ube44\\uace0\\n\\uc740\\u00a0 \\u00a0 \\u00a0 \\u00a0\\u00a0 \\ud589\\n35,000\\n35,000\\n35,000\\n35,000\\n-\\n\\ubcf4 \\ud5d8 \\ud68c \\uc0ac\\n-\\n-\\n-\\n-\\n-\\n\\uc885\\ud569\\uae08\\uc735\\ud68c\\uc0ac\\n-\\n5,000\\n5,000\\n-\\n-\\n\\uc5ec\\uc2e0\\uc804\\ubb38\\uae08\\uc735\\ud68c\\uc0ac\\n-\\n-\\n-\\n-\\n-\\n\\uc0c1\\ud638\\uc800\\ucd95\\uc740\\ud589\\n-\\n-\\n-\\n-\\n-\\n\\uae30\\ud0c0\\uae08\\uc735\\uae30\\uad00\\n-\\n-\\n-\\n-\\n-\\n\\uae08\\uc735\\uae30\\uad00 \\ud569\\uacc4\\n35,000\\n40,000\\n40,000\\n35,000\\n-\\n\\ud68c\\uc0ac\\ucc44 (\\uacf5\\ubaa8)\\n80,000\\n-\\n50,000\\n30,000\\n-\\n\\ud68c\\uc0ac\\ucc44 (\\uc0ac\\ubaa8)\\n54,000\\n45,000\\n51,000\\n48,000\\n-\\n\\uc790\\ubcf8\\uc2dc\\uc7a5 \\ud569\\uacc4\\n134,000\\n45,000\\n101,000\\n78,000\\n-\\n\\uc8fc\\uc8fc\\u318d\\uc784\\uc6d0\\u318d\\uacc4\\uc5f4\\ud68c\\uc0ac\\ucc28\\uc785\\uae08\\n-\\n-\\n-\\n-\\n-\\n\\uae30\\u00a0 \\u00a0 \\u00a0 \\u00a0\\u00a0 \\ud0c0\\n-\\n-\\n-\\n-\\n-\\n\\ucd1d\\u00a0 \\u00a0 \\u00a0 \\u00a0\\u00a0 \\uacc4\\n169,000\\n85,000\\n141,000\\n113,000\\n-\\n[\\ud574\\uc678\\uc870\\ub2ec]\\n(\\ub2e8\\uc704 : \\ubc31\\ub9cc\\uc6d0)\\n\\uc870 \\ub2ec \\uc6d0 \\ucc9c\\n\\uae30\\ucd08\\uc794\\uc561\\n\\uc2e0\\uaddc\\uc870\\ub2ec\\n\\uc0c1\\ud658\\ub4f1\\uac10\\uc18c\\n\\uae30\\ub9d0\\uc794\\uc561\\n\\ube44\\uace0\\n\\uae08 \\uc735 \\uae30 \\uad00\\n-\\n-\\n-\\n-\\n-\\n\\ud574\\uc678\\uc99d\\uad8c(\\ud68c\\uc0ac\\ucc44)\\n-\\n-\\n-\\n-\\n-\\n\\ud574\\uc678\\uc99d\\uad8c(\\uc8fc\\uc2dd\\ub4f1)\\n-\\n-\\n-\\n-\\n-\\n\\uc790 \\uc0b0 \\uc720 \\ub3d9 \\ud654\\n-\\n-\\n-\\n-\\n-\\n\\uae30 \\ud0c0\\n-\\n-\\n-\\n-\\n-\\n\\ucd1d \\uacc4\\n-\\n-\\n-\\n-\\n-\\n- \\uac1c\\ubcc4 \\uc7ac\\ubb34\\uc81c\\ud45c \\uae30\\uc900 \\ucc28\\uc785\\uae08\\uc774\\uba70, \\uc0ac\\n\\ucc44\\ud560\\uc778\\ubc1c\\ud589\\ucc28\\uae08 15\\ubc31\\ub9cc\\n\\uc6d0\\uc744 \\uc81c\\uc678\\ud55c\\n\\uc6d0\\uae08 \\uae30\\uc900\\uc73c\\ub85c \\ud45c\\uae30\\ud558\\uc600\\uc2b5\\ub2c8\\ub2e4.\"\n        ],\n        \"semantic_type\": \"\",\n        \"description\": \"\"\n      }\n    }\n  ]\n}"
            }
          },
          "metadata": {},
          "execution_count": 4
        }
      ]
    },
    {
      "cell_type": "code",
      "source": [
        "mecab = Mecab()\n",
        "\n",
        "tagged_corpus_list = []\n",
        "\n",
        "for index, row in tqdm(df.iterrows(), total=len(df)):\n",
        "  text = row['business']\n",
        "  tag = row['name']\n",
        "  tagged_corpus_list.append(TaggedDocument(tags=[tag], words=mecab.morphs(text)))\n",
        "\n",
        "  print('문서의 수 :', len(tagged_corpus_list))"
      ],
      "metadata": {
        "colab": {
          "base_uri": "https://localhost:8080/"
        },
        "id": "mGA87FVvKGM_",
        "outputId": "6b1fe195-52f6-4389-b44a-886e4f29eda0"
      },
      "execution_count": 5,
      "outputs": [
        {
          "output_type": "stream",
          "name": "stderr",
          "text": [
            "  0%|          | 5/2295 [00:00<01:03, 36.34it/s]"
          ]
        },
        {
          "output_type": "stream",
          "name": "stdout",
          "text": [
            "문서의 수 : 1\n",
            "문서의 수 : 2\n",
            "문서의 수 : 3\n",
            "문서의 수 : 4\n",
            "문서의 수 : 5\n",
            "문서의 수 : 6\n"
          ]
        },
        {
          "output_type": "stream",
          "name": "stderr",
          "text": [
            "\r  0%|          | 9/2295 [00:00<01:34, 24.13it/s]"
          ]
        },
        {
          "output_type": "stream",
          "name": "stdout",
          "text": [
            "문서의 수 : 7\n",
            "문서의 수 : 8\n",
            "문서의 수 : 9\n"
          ]
        },
        {
          "output_type": "stream",
          "name": "stderr",
          "text": [
            "\r  1%|          | 12/2295 [00:00<02:53, 13.15it/s]"
          ]
        },
        {
          "output_type": "stream",
          "name": "stdout",
          "text": [
            "문서의 수 : 10\n",
            "문서의 수 : 11\n",
            "문서의 수 : 12\n",
            "문서의 수 : 13\n"
          ]
        },
        {
          "output_type": "stream",
          "name": "stderr",
          "text": [
            "  1%|          | 17/2295 [00:01<02:18, 16.49it/s]"
          ]
        },
        {
          "output_type": "stream",
          "name": "stdout",
          "text": [
            "문서의 수 : 14\n",
            "문서의 수 : 15\n",
            "문서의 수 : 16\n",
            "문서의 수 : 17\n",
            "문서의 수 : 18\n"
          ]
        },
        {
          "output_type": "stream",
          "name": "stderr",
          "text": [
            "  1%|          | 25/2295 [00:01<01:30, 24.95it/s]"
          ]
        },
        {
          "output_type": "stream",
          "name": "stdout",
          "text": [
            "문서의 수 : 19\n",
            "문서의 수 : 20\n",
            "문서의 수 : 21\n",
            "문서의 수 : 22\n",
            "문서의 수 : 23\n",
            "문서의 수 : 24\n",
            "문서의 수 : 25\n",
            "문서의 수 : 26\n",
            "문서의 수 : 27\n"
          ]
        },
        {
          "output_type": "stream",
          "name": "stderr",
          "text": [
            "  1%|▏         | 33/2295 [00:01<01:12, 31.14it/s]"
          ]
        },
        {
          "output_type": "stream",
          "name": "stdout",
          "text": [
            "문서의 수 : 28\n",
            "문서의 수 : 29\n",
            "문서의 수 : 30\n",
            "문서의 수 : 31\n",
            "문서의 수 : 32\n",
            "문서의 수 : 33\n",
            "문서의 수 : 34\n",
            "문서의 수 : 35\n"
          ]
        },
        {
          "output_type": "stream",
          "name": "stderr",
          "text": [
            "  2%|▏         | 41/2295 [00:01<01:16, 29.59it/s]"
          ]
        },
        {
          "output_type": "stream",
          "name": "stdout",
          "text": [
            "문서의 수 : 36\n",
            "문서의 수 : 37\n",
            "문서의 수 : 38\n",
            "문서의 수 : 39\n",
            "문서의 수 : 40\n",
            "문서의 수 : 41\n"
          ]
        },
        {
          "output_type": "stream",
          "name": "stderr",
          "text": [
            "\r  2%|▏         | 45/2295 [00:02<02:09, 17.39it/s]"
          ]
        },
        {
          "output_type": "stream",
          "name": "stdout",
          "text": [
            "문서의 수 : 42\n",
            "문서의 수 : 43\n",
            "문서의 수 : 44\n",
            "문서의 수 : 45\n",
            "문서의 수 : 46\n",
            "문서의 수 : 47\n",
            "문서의 수 : 48\n",
            "문서의 수 : 49\n"
          ]
        },
        {
          "output_type": "stream",
          "name": "stderr",
          "text": [
            "  2%|▏         | 54/2295 [00:02<01:43, 21.69it/s]"
          ]
        },
        {
          "output_type": "stream",
          "name": "stdout",
          "text": [
            "문서의 수 : 50\n",
            "문서의 수 : 51\n",
            "문서의 수 : 52\n",
            "문서의 수 : 53\n",
            "문서의 수 : 54\n",
            "문서의 수 : 55\n",
            "문서의 수 : 56\n",
            "문서의 수 : 57\n"
          ]
        },
        {
          "output_type": "stream",
          "name": "stderr",
          "text": [
            "  3%|▎         | 63/2295 [00:02<01:18, 28.49it/s]"
          ]
        },
        {
          "output_type": "stream",
          "name": "stdout",
          "text": [
            "문서의 수 : 58\n",
            "문서의 수 : 59\n",
            "문서의 수 : 60\n",
            "문서의 수 : 61\n",
            "문서의 수 : 62\n",
            "문서의 수 : 63\n",
            "문서의 수 : 64\n",
            "문서의 수 : 65\n"
          ]
        },
        {
          "output_type": "stream",
          "name": "stderr",
          "text": [
            "  3%|▎         | 72/2295 [00:03<01:23, 26.70it/s]"
          ]
        },
        {
          "output_type": "stream",
          "name": "stdout",
          "text": [
            "문서의 수 : 66\n",
            "문서의 수 : 67\n",
            "문서의 수 : 68\n",
            "문서의 수 : 69\n",
            "문서의 수 : 70\n",
            "문서의 수 : 71\n",
            "문서의 수 : 72\n",
            "문서의 수 : 73\n",
            "문서의 수 : 74\n"
          ]
        },
        {
          "output_type": "stream",
          "name": "stderr",
          "text": [
            "  4%|▎         | 81/2295 [00:03<01:07, 32.87it/s]"
          ]
        },
        {
          "output_type": "stream",
          "name": "stdout",
          "text": [
            "문서의 수 : 75\n",
            "문서의 수 : 76\n",
            "문서의 수 : 77\n",
            "문서의 수 : 78\n",
            "문서의 수 : 79\n",
            "문서의 수 : 80\n",
            "문서의 수 : 81\n"
          ]
        },
        {
          "output_type": "stream",
          "name": "stderr",
          "text": [
            "  4%|▍         | 89/2295 [00:03<01:20, 27.31it/s]"
          ]
        },
        {
          "output_type": "stream",
          "name": "stdout",
          "text": [
            "문서의 수 : 82\n",
            "문서의 수 : 83\n",
            "문서의 수 : 84\n",
            "문서의 수 : 85\n",
            "문서의 수 : 86\n",
            "문서의 수 : 87\n",
            "문서의 수 : 88\n",
            "문서의 수 : 89\n"
          ]
        },
        {
          "output_type": "stream",
          "name": "stderr",
          "text": [
            "\r  4%|▍         | 93/2295 [00:03<01:13, 29.99it/s]"
          ]
        },
        {
          "output_type": "stream",
          "name": "stdout",
          "text": [
            "문서의 수 : 90\n",
            "문서의 수 : 91\n",
            "문서의 수 : 92\n",
            "문서의 수 : 93\n",
            "문서의 수 : 94\n",
            "문서의 수 : 95\n"
          ]
        },
        {
          "output_type": "stream",
          "name": "stderr",
          "text": [
            "  4%|▍         | 100/2295 [00:04<02:23, 15.25it/s]"
          ]
        },
        {
          "output_type": "stream",
          "name": "stdout",
          "text": [
            "문서의 수 : 96\n",
            "문서의 수 : 97\n",
            "문서의 수 : 98\n",
            "문서의 수 : 99\n",
            "문서의 수 : 100\n"
          ]
        },
        {
          "output_type": "stream",
          "name": "stderr",
          "text": [
            "\r  4%|▍         | 103/2295 [00:04<02:26, 14.93it/s]"
          ]
        },
        {
          "output_type": "stream",
          "name": "stdout",
          "text": [
            "문서의 수 : 101\n",
            "문서의 수 : 102\n",
            "문서의 수 : 103\n"
          ]
        },
        {
          "output_type": "stream",
          "name": "stderr",
          "text": [
            "\r  5%|▍         | 106/2295 [00:05<02:46, 13.12it/s]"
          ]
        },
        {
          "output_type": "stream",
          "name": "stdout",
          "text": [
            "문서의 수 : 104\n",
            "문서의 수 : 105\n",
            "문서의 수 : 106\n",
            "문서의 수 : 107\n"
          ]
        },
        {
          "output_type": "stream",
          "name": "stderr",
          "text": [
            "\r  5%|▍         | 108/2295 [00:05<03:05, 11.82it/s]"
          ]
        },
        {
          "output_type": "stream",
          "name": "stdout",
          "text": [
            "문서의 수 : 108\n",
            "문서의 수 : 109\n"
          ]
        },
        {
          "output_type": "stream",
          "name": "stderr",
          "text": [
            "\r  5%|▍         | 110/2295 [00:05<03:33, 10.26it/s]"
          ]
        },
        {
          "output_type": "stream",
          "name": "stdout",
          "text": [
            "문서의 수 : 110\n",
            "문서의 수 : 111\n"
          ]
        },
        {
          "output_type": "stream",
          "name": "stderr",
          "text": [
            "  5%|▍         | 113/2295 [00:06<05:27,  6.66it/s]"
          ]
        },
        {
          "output_type": "stream",
          "name": "stdout",
          "text": [
            "문서의 수 : 112\n",
            "문서의 수 : 113\n"
          ]
        },
        {
          "output_type": "stream",
          "name": "stderr",
          "text": [
            "\r  5%|▌         | 115/2295 [00:06<04:24,  8.24it/s]"
          ]
        },
        {
          "output_type": "stream",
          "name": "stdout",
          "text": [
            "문서의 수 : 114\n",
            "문서의 수 : 115\n",
            "문서의 수 : 116\n"
          ]
        },
        {
          "output_type": "stream",
          "name": "stderr",
          "text": [
            "\r  5%|▌         | 117/2295 [00:06<04:25,  8.19it/s]"
          ]
        },
        {
          "output_type": "stream",
          "name": "stdout",
          "text": [
            "문서의 수 : 117\n",
            "문서의 수 : 118\n"
          ]
        },
        {
          "output_type": "stream",
          "name": "stderr",
          "text": [
            "  5%|▌         | 120/2295 [00:07<04:25,  8.18it/s]"
          ]
        },
        {
          "output_type": "stream",
          "name": "stdout",
          "text": [
            "문서의 수 : 119\n",
            "문서의 수 : 120\n",
            "문서의 수 : 121\n",
            "문서의 수 : 122\n"
          ]
        },
        {
          "output_type": "stream",
          "name": "stderr",
          "text": [
            "  5%|▌         | 126/2295 [00:07<02:33, 14.17it/s]"
          ]
        },
        {
          "output_type": "stream",
          "name": "stdout",
          "text": [
            "문서의 수 : 123\n",
            "문서의 수 : 124\n",
            "문서의 수 : 125\n",
            "문서의 수 : 126\n",
            "문서의 수 : 127\n"
          ]
        },
        {
          "output_type": "stream",
          "name": "stderr",
          "text": [
            "  6%|▌         | 131/2295 [00:07<02:17, 15.70it/s]"
          ]
        },
        {
          "output_type": "stream",
          "name": "stdout",
          "text": [
            "문서의 수 : 128\n",
            "문서의 수 : 129\n",
            "문서의 수 : 130\n",
            "문서의 수 : 131\n",
            "문서의 수 : 132\n",
            "문서의 수 : 133\n"
          ]
        },
        {
          "output_type": "stream",
          "name": "stderr",
          "text": [
            "  6%|▌         | 137/2295 [00:08<02:08, 16.78it/s]"
          ]
        },
        {
          "output_type": "stream",
          "name": "stdout",
          "text": [
            "문서의 수 : 134\n",
            "문서의 수 : 135\n",
            "문서의 수 : 136\n",
            "문서의 수 : 137\n",
            "문서의 수 : 138\n"
          ]
        },
        {
          "output_type": "stream",
          "name": "stderr",
          "text": [
            "  6%|▌         | 143/2295 [00:08<01:41, 21.16it/s]"
          ]
        },
        {
          "output_type": "stream",
          "name": "stdout",
          "text": [
            "문서의 수 : 139\n",
            "문서의 수 : 140\n",
            "문서의 수 : 141\n",
            "문서의 수 : 142\n",
            "문서의 수 : 143\n",
            "문서의 수 : 144\n"
          ]
        },
        {
          "output_type": "stream",
          "name": "stderr",
          "text": [
            "  7%|▋         | 150/2295 [00:08<01:27, 24.57it/s]"
          ]
        },
        {
          "output_type": "stream",
          "name": "stdout",
          "text": [
            "문서의 수 : 145\n",
            "문서의 수 : 146\n",
            "문서의 수 : 147\n",
            "문서의 수 : 148\n",
            "문서의 수 : 149\n",
            "문서의 수 : 150\n"
          ]
        },
        {
          "output_type": "stream",
          "name": "stderr",
          "text": [
            "\r  7%|▋         | 153/2295 [00:08<01:28, 24.11it/s]"
          ]
        },
        {
          "output_type": "stream",
          "name": "stdout",
          "text": [
            "문서의 수 : 151\n",
            "문서의 수 : 152\n",
            "문서의 수 : 153\n",
            "문서의 수 : 154\n"
          ]
        },
        {
          "output_type": "stream",
          "name": "stderr",
          "text": [
            "\r  7%|▋         | 156/2295 [00:08<01:33, 22.79it/s]"
          ]
        },
        {
          "output_type": "stream",
          "name": "stdout",
          "text": [
            "문서의 수 : 155\n",
            "문서의 수 : 156\n"
          ]
        },
        {
          "output_type": "stream",
          "name": "stderr",
          "text": [
            "\r  7%|▋         | 159/2295 [00:09<02:37, 13.55it/s]"
          ]
        },
        {
          "output_type": "stream",
          "name": "stdout",
          "text": [
            "문서의 수 : 157\n",
            "문서의 수 : 158\n",
            "문서의 수 : 159\n",
            "문서의 수 : 160\n"
          ]
        },
        {
          "output_type": "stream",
          "name": "stderr",
          "text": [
            "  7%|▋         | 164/2295 [00:09<02:13, 15.93it/s]"
          ]
        },
        {
          "output_type": "stream",
          "name": "stdout",
          "text": [
            "문서의 수 : 161\n",
            "문서의 수 : 162\n",
            "문서의 수 : 163\n",
            "문서의 수 : 164\n",
            "문서의 수 : 165\n"
          ]
        },
        {
          "output_type": "stream",
          "name": "stderr",
          "text": [
            "  7%|▋         | 171/2295 [00:10<02:31, 14.02it/s]"
          ]
        },
        {
          "output_type": "stream",
          "name": "stdout",
          "text": [
            "문서의 수 : 166\n",
            "문서의 수 : 167\n",
            "문서의 수 : 168\n",
            "문서의 수 : 169\n",
            "문서의 수 : 170\n",
            "문서의 수 : 171\n",
            "문서의 수 : 172\n",
            "문서의 수 : 173\n",
            "문서의 수 : 174\n"
          ]
        },
        {
          "output_type": "stream",
          "name": "stderr",
          "text": [
            "  8%|▊         | 182/2295 [00:10<01:24, 25.03it/s]"
          ]
        },
        {
          "output_type": "stream",
          "name": "stdout",
          "text": [
            "문서의 수 : 175\n",
            "문서의 수 : 176\n",
            "문서의 수 : 177\n",
            "문서의 수 : 178\n",
            "문서의 수 : 179\n",
            "문서의 수 : 180\n",
            "문서의 수 : 181\n",
            "문서의 수 : 182\n",
            "문서의 수 : 183\n",
            "문서의 수 : 184\n",
            "문서의 수 : 185\n"
          ]
        },
        {
          "output_type": "stream",
          "name": "stderr",
          "text": [
            "\r  8%|▊         | 187/2295 [00:10<01:12, 29.04it/s]"
          ]
        },
        {
          "output_type": "stream",
          "name": "stdout",
          "text": [
            "문서의 수 : 186\n",
            "문서의 수 : 187\n",
            "문서의 수 : 188\n",
            "문서의 수 : 189\n",
            "문서의 수 : 190\n"
          ]
        },
        {
          "output_type": "stream",
          "name": "stderr",
          "text": [
            "  8%|▊         | 195/2295 [00:10<01:17, 27.04it/s]"
          ]
        },
        {
          "output_type": "stream",
          "name": "stdout",
          "text": [
            "문서의 수 : 191\n",
            "문서의 수 : 192\n",
            "문서의 수 : 193\n",
            "문서의 수 : 194\n",
            "문서의 수 : 195\n",
            "문서의 수 : 196\n",
            "문서의 수 : 197\n"
          ]
        },
        {
          "output_type": "stream",
          "name": "stderr",
          "text": [
            "  9%|▉         | 204/2295 [00:11<01:06, 31.67it/s]"
          ]
        },
        {
          "output_type": "stream",
          "name": "stdout",
          "text": [
            "문서의 수 : 198\n",
            "문서의 수 : 199\n",
            "문서의 수 : 200\n",
            "문서의 수 : 201\n",
            "문서의 수 : 202\n",
            "문서의 수 : 203\n",
            "문서의 수 : 204\n",
            "문서의 수 : 205\n",
            "문서의 수 : 206\n"
          ]
        },
        {
          "output_type": "stream",
          "name": "stderr",
          "text": [
            "  9%|▉         | 212/2295 [00:11<01:02, 33.28it/s]"
          ]
        },
        {
          "output_type": "stream",
          "name": "stdout",
          "text": [
            "문서의 수 : 207\n",
            "문서의 수 : 208\n",
            "문서의 수 : 209\n",
            "문서의 수 : 210\n",
            "문서의 수 : 211\n",
            "문서의 수 : 212\n"
          ]
        },
        {
          "output_type": "stream",
          "name": "stderr",
          "text": [
            " 10%|▉         | 220/2295 [00:11<01:10, 29.38it/s]"
          ]
        },
        {
          "output_type": "stream",
          "name": "stdout",
          "text": [
            "문서의 수 : 213\n",
            "문서의 수 : 214\n",
            "문서의 수 : 215\n",
            "문서의 수 : 216\n",
            "문서의 수 : 217\n",
            "문서의 수 : 218\n",
            "문서의 수 : 219\n",
            "문서의 수 : 220\n",
            "문서의 수 : 221\n",
            "문서의 수 : 222\n"
          ]
        },
        {
          "output_type": "stream",
          "name": "stderr",
          "text": [
            " 10%|▉         | 229/2295 [00:12<01:14, 27.58it/s]"
          ]
        },
        {
          "output_type": "stream",
          "name": "stdout",
          "text": [
            "문서의 수 : 223\n",
            "문서의 수 : 224\n",
            "문서의 수 : 225\n",
            "문서의 수 : 226\n",
            "문서의 수 : 227\n",
            "문서의 수 : 228\n",
            "문서의 수 : 229\n",
            "문서의 수 : 230\n",
            "문서의 수 : 231\n"
          ]
        },
        {
          "output_type": "stream",
          "name": "stderr",
          "text": [
            " 10%|█         | 237/2295 [00:12<01:25, 23.98it/s]"
          ]
        },
        {
          "output_type": "stream",
          "name": "stdout",
          "text": [
            "문서의 수 : 232\n",
            "문서의 수 : 233\n",
            "문서의 수 : 234\n",
            "문서의 수 : 235\n",
            "문서의 수 : 236\n",
            "문서의 수 : 237\n",
            "문서의 수 : 238\n"
          ]
        },
        {
          "output_type": "stream",
          "name": "stderr",
          "text": [
            "\r 11%|█         | 241/2295 [00:12<01:22, 24.96it/s]"
          ]
        },
        {
          "output_type": "stream",
          "name": "stdout",
          "text": [
            "문서의 수 : 239\n",
            "문서의 수 : 240\n",
            "문서의 수 : 241\n",
            "문서의 수 : 242\n"
          ]
        },
        {
          "output_type": "stream",
          "name": "stderr",
          "text": [
            " 11%|█         | 249/2295 [00:12<01:17, 26.33it/s]"
          ]
        },
        {
          "output_type": "stream",
          "name": "stdout",
          "text": [
            "문서의 수 : 243\n",
            "문서의 수 : 244\n",
            "문서의 수 : 245\n",
            "문서의 수 : 246\n",
            "문서의 수 : 247\n",
            "문서의 수 : 248\n",
            "문서의 수 : 249\n",
            "문서의 수 : 250\n",
            "문서의 수 : 251\n"
          ]
        },
        {
          "output_type": "stream",
          "name": "stderr",
          "text": [
            " 11%|█         | 257/2295 [00:13<01:09, 29.51it/s]"
          ]
        },
        {
          "output_type": "stream",
          "name": "stdout",
          "text": [
            "문서의 수 : 252\n",
            "문서의 수 : 253\n",
            "문서의 수 : 254\n",
            "문서의 수 : 255\n",
            "문서의 수 : 256\n",
            "문서의 수 : 257\n",
            "문서의 수 : 258\n",
            "문서의 수 : 259\n"
          ]
        },
        {
          "output_type": "stream",
          "name": "stderr",
          "text": [
            "\r 11%|█▏        | 261/2295 [00:13<01:26, 23.64it/s]"
          ]
        },
        {
          "output_type": "stream",
          "name": "stdout",
          "text": [
            "문서의 수 : 260\n",
            "문서의 수 : 261\n",
            "문서의 수 : 262\n",
            "문서의 수 : 263\n"
          ]
        },
        {
          "output_type": "stream",
          "name": "stderr",
          "text": [
            " 12%|█▏        | 268/2295 [00:13<01:25, 23.60it/s]"
          ]
        },
        {
          "output_type": "stream",
          "name": "stdout",
          "text": [
            "문서의 수 : 264\n",
            "문서의 수 : 265\n",
            "문서의 수 : 266\n",
            "문서의 수 : 267\n",
            "문서의 수 : 268\n",
            "문서의 수 : 269\n",
            "문서의 수 : 270\n"
          ]
        },
        {
          "output_type": "stream",
          "name": "stderr",
          "text": [
            "\r 12%|█▏        | 272/2295 [00:13<01:18, 25.67it/s]"
          ]
        },
        {
          "output_type": "stream",
          "name": "stdout",
          "text": [
            "문서의 수 : 271\n",
            "문서의 수 : 272\n",
            "문서의 수 : 273\n",
            "문서의 수 : 274\n"
          ]
        },
        {
          "output_type": "stream",
          "name": "stderr",
          "text": [
            " 12%|█▏        | 278/2295 [00:14<01:42, 19.70it/s]"
          ]
        },
        {
          "output_type": "stream",
          "name": "stdout",
          "text": [
            "문서의 수 : 275\n",
            "문서의 수 : 276\n",
            "문서의 수 : 277\n",
            "문서의 수 : 278\n",
            "문서의 수 : 279\n",
            "문서의 수 : 280\n"
          ]
        },
        {
          "output_type": "stream",
          "name": "stderr",
          "text": [
            " 13%|█▎        | 287/2295 [00:14<01:13, 27.25it/s]"
          ]
        },
        {
          "output_type": "stream",
          "name": "stdout",
          "text": [
            "문서의 수 : 281\n",
            "문서의 수 : 282\n",
            "문서의 수 : 283\n",
            "문서의 수 : 284\n",
            "문서의 수 : 285\n",
            "문서의 수 : 286\n",
            "문서의 수 : 287\n",
            "문서의 수 : 288\n"
          ]
        },
        {
          "output_type": "stream",
          "name": "stderr",
          "text": [
            "\r 13%|█▎        | 291/2295 [00:14<01:39, 20.16it/s]"
          ]
        },
        {
          "output_type": "stream",
          "name": "stdout",
          "text": [
            "문서의 수 : 289\n",
            "문서의 수 : 290\n",
            "문서의 수 : 291\n"
          ]
        },
        {
          "output_type": "stream",
          "name": "stderr",
          "text": [
            " 13%|█▎        | 300/2295 [00:14<01:12, 27.52it/s]"
          ]
        },
        {
          "output_type": "stream",
          "name": "stdout",
          "text": [
            "문서의 수 : 292\n",
            "문서의 수 : 293\n",
            "문서의 수 : 294\n",
            "문서의 수 : 295\n",
            "문서의 수 : 296\n",
            "문서의 수 : 297\n",
            "문서의 수 : 298\n",
            "문서의 수 : 299\n",
            "문서의 수 : 300\n"
          ]
        },
        {
          "output_type": "stream",
          "name": "stderr",
          "text": [
            "\r 13%|█▎        | 304/2295 [00:15<01:06, 29.92it/s]"
          ]
        },
        {
          "output_type": "stream",
          "name": "stdout",
          "text": [
            "문서의 수 : 301\n",
            "문서의 수 : 302\n",
            "문서의 수 : 303\n",
            "문서의 수 : 304\n",
            "문서의 수 : 305\n",
            "문서의 수 : 306\n",
            "문서의 수 : 307\n"
          ]
        },
        {
          "output_type": "stream",
          "name": "stderr",
          "text": [
            " 14%|█▎        | 313/2295 [00:15<01:02, 31.64it/s]"
          ]
        },
        {
          "output_type": "stream",
          "name": "stdout",
          "text": [
            "문서의 수 : 308\n",
            "문서의 수 : 309\n",
            "문서의 수 : 310\n",
            "문서의 수 : 311\n",
            "문서의 수 : 312\n",
            "문서의 수 : 313\n",
            "문서의 수 : 314\n",
            "문서의 수 : 315\n",
            "문서의 수 : 316\n"
          ]
        },
        {
          "output_type": "stream",
          "name": "stderr",
          "text": [
            " 14%|█▍        | 322/2295 [00:15<00:56, 34.62it/s]"
          ]
        },
        {
          "output_type": "stream",
          "name": "stdout",
          "text": [
            "문서의 수 : 317\n",
            "문서의 수 : 318\n",
            "문서의 수 : 319\n",
            "문서의 수 : 320\n",
            "문서의 수 : 321\n",
            "문서의 수 : 322\n"
          ]
        },
        {
          "output_type": "stream",
          "name": "stderr",
          "text": [
            " 14%|█▍        | 331/2295 [00:15<01:02, 31.65it/s]"
          ]
        },
        {
          "output_type": "stream",
          "name": "stdout",
          "text": [
            "문서의 수 : 323\n",
            "문서의 수 : 324\n",
            "문서의 수 : 325\n",
            "문서의 수 : 326\n",
            "문서의 수 : 327\n",
            "문서의 수 : 328\n",
            "문서의 수 : 329\n",
            "문서의 수 : 330\n",
            "문서의 수 : 331\n"
          ]
        },
        {
          "output_type": "stream",
          "name": "stderr",
          "text": [
            "\r 15%|█▍        | 335/2295 [00:16<01:01, 32.09it/s]"
          ]
        },
        {
          "output_type": "stream",
          "name": "stdout",
          "text": [
            "문서의 수 : 332\n",
            "문서의 수 : 333\n",
            "문서의 수 : 334\n",
            "문서의 수 : 335\n",
            "문서의 수 : 336\n",
            "문서의 수 : 337\n"
          ]
        },
        {
          "output_type": "stream",
          "name": "stderr",
          "text": [
            " 15%|█▌        | 345/2295 [00:16<00:53, 36.15it/s]"
          ]
        },
        {
          "output_type": "stream",
          "name": "stdout",
          "text": [
            "문서의 수 : 338\n",
            "문서의 수 : 339\n",
            "문서의 수 : 340\n",
            "문서의 수 : 341\n",
            "문서의 수 : 342\n",
            "문서의 수 : 343\n",
            "문서의 수 : 344\n",
            "문서의 수 : 345\n",
            "문서의 수 : 346\n",
            "문서의 수 : 347\n"
          ]
        },
        {
          "output_type": "stream",
          "name": "stderr",
          "text": [
            " 15%|█▌        | 353/2295 [00:16<00:56, 34.22it/s]"
          ]
        },
        {
          "output_type": "stream",
          "name": "stdout",
          "text": [
            "문서의 수 : 348\n",
            "문서의 수 : 349\n",
            "문서의 수 : 350\n",
            "문서의 수 : 351\n",
            "문서의 수 : 352\n",
            "문서의 수 : 353\n",
            "문서의 수 : 354\n",
            "문서의 수 : 355\n"
          ]
        },
        {
          "output_type": "stream",
          "name": "stderr",
          "text": [
            "\r 16%|█▌        | 357/2295 [00:16<00:56, 34.35it/s]"
          ]
        },
        {
          "output_type": "stream",
          "name": "stdout",
          "text": [
            "문서의 수 : 356\n",
            "문서의 수 : 357\n",
            "문서의 수 : 358\n",
            "문서의 수 : 359\n",
            "문서의 수 : 360\n"
          ]
        },
        {
          "output_type": "stream",
          "name": "stderr",
          "text": [
            " 16%|█▌        | 365/2295 [00:17<01:06, 29.23it/s]"
          ]
        },
        {
          "output_type": "stream",
          "name": "stdout",
          "text": [
            "문서의 수 : 361\n",
            "문서의 수 : 362\n",
            "문서의 수 : 363\n",
            "문서의 수 : 364\n",
            "문서의 수 : 365\n",
            "문서의 수 : 366\n"
          ]
        },
        {
          "output_type": "stream",
          "name": "stderr",
          "text": [
            " 16%|█▋        | 374/2295 [00:17<01:04, 29.84it/s]"
          ]
        },
        {
          "output_type": "stream",
          "name": "stdout",
          "text": [
            "문서의 수 : 367\n",
            "문서의 수 : 368\n",
            "문서의 수 : 369\n",
            "문서의 수 : 370\n",
            "문서의 수 : 371\n",
            "문서의 수 : 372\n",
            "문서의 수 : 373\n",
            "문서의 수 : 374\n"
          ]
        },
        {
          "output_type": "stream",
          "name": "stderr",
          "text": [
            "\r 16%|█▋        | 378/2295 [00:17<01:03, 30.07it/s]"
          ]
        },
        {
          "output_type": "stream",
          "name": "stdout",
          "text": [
            "문서의 수 : 375\n",
            "문서의 수 : 376\n",
            "문서의 수 : 377\n",
            "문서의 수 : 378\n",
            "문서의 수 : 379\n",
            "문서의 수 : 380\n",
            "문서의 수 : 381\n"
          ]
        },
        {
          "output_type": "stream",
          "name": "stderr",
          "text": [
            " 17%|█▋        | 387/2295 [00:17<00:58, 32.74it/s]"
          ]
        },
        {
          "output_type": "stream",
          "name": "stdout",
          "text": [
            "문서의 수 : 382\n",
            "문서의 수 : 383\n",
            "문서의 수 : 384\n",
            "문서의 수 : 385\n",
            "문서의 수 : 386\n",
            "문서의 수 : 387\n",
            "문서의 수 : 388\n",
            "문서의 수 : 389\n",
            "문서의 수 : 390\n"
          ]
        },
        {
          "output_type": "stream",
          "name": "stderr",
          "text": [
            " 17%|█▋        | 396/2295 [00:17<00:52, 35.96it/s]"
          ]
        },
        {
          "output_type": "stream",
          "name": "stdout",
          "text": [
            "문서의 수 : 391\n",
            "문서의 수 : 392\n",
            "문서의 수 : 393\n",
            "문서의 수 : 394\n",
            "문서의 수 : 395\n",
            "문서의 수 : 396\n",
            "문서의 수 : 397\n"
          ]
        },
        {
          "output_type": "stream",
          "name": "stderr",
          "text": [
            "\r 17%|█▋        | 400/2295 [00:18<01:01, 30.75it/s]"
          ]
        },
        {
          "output_type": "stream",
          "name": "stdout",
          "text": [
            "문서의 수 : 398\n",
            "문서의 수 : 399\n",
            "문서의 수 : 400\n",
            "문서의 수 : 401\n",
            "문서의 수 : 402\n"
          ]
        },
        {
          "output_type": "stream",
          "name": "stderr",
          "text": [
            "\r 18%|█▊        | 404/2295 [00:18<01:05, 28.80it/s]"
          ]
        },
        {
          "output_type": "stream",
          "name": "stdout",
          "text": [
            "문서의 수 : 403\n",
            "문서의 수 : 404\n",
            "문서의 수 : 405\n",
            "문서의 수 : 406\n",
            "문서의 수 : 407\n"
          ]
        },
        {
          "output_type": "stream",
          "name": "stderr",
          "text": [
            " 18%|█▊        | 411/2295 [00:18<01:10, 26.87it/s]"
          ]
        },
        {
          "output_type": "stream",
          "name": "stdout",
          "text": [
            "문서의 수 : 408\n",
            "문서의 수 : 409\n",
            "문서의 수 : 410\n",
            "문서의 수 : 411\n",
            "문서의 수 : 412\n",
            "문서의 수 : 413\n",
            "문서의 수 : 414\n"
          ]
        },
        {
          "output_type": "stream",
          "name": "stderr",
          "text": [
            " 18%|█▊        | 419/2295 [00:18<01:06, 28.07it/s]"
          ]
        },
        {
          "output_type": "stream",
          "name": "stdout",
          "text": [
            "문서의 수 : 415\n",
            "문서의 수 : 416\n",
            "문서의 수 : 417\n",
            "문서의 수 : 418\n",
            "문서의 수 : 419\n",
            "문서의 수 : 420\n",
            "문서의 수 : 421\n"
          ]
        },
        {
          "output_type": "stream",
          "name": "stderr",
          "text": [
            " 19%|█▊        | 425/2295 [00:19<01:19, 23.56it/s]"
          ]
        },
        {
          "output_type": "stream",
          "name": "stdout",
          "text": [
            "문서의 수 : 422\n",
            "문서의 수 : 423\n",
            "문서의 수 : 424\n",
            "문서의 수 : 425\n"
          ]
        },
        {
          "output_type": "stream",
          "name": "stderr",
          "text": [
            "\r 19%|█▊        | 428/2295 [00:19<01:22, 22.73it/s]"
          ]
        },
        {
          "output_type": "stream",
          "name": "stdout",
          "text": [
            "문서의 수 : 426\n",
            "문서의 수 : 427\n",
            "문서의 수 : 428\n",
            "문서의 수 : 429\n",
            "문서의 수 : 430\n"
          ]
        },
        {
          "output_type": "stream",
          "name": "stderr",
          "text": [
            "\r 19%|█▉        | 431/2295 [00:19<01:18, 23.65it/s]"
          ]
        },
        {
          "output_type": "stream",
          "name": "stdout",
          "text": [
            "문서의 수 : 431\n",
            "문서의 수 : 432\n",
            "문서의 수 : 433\n"
          ]
        },
        {
          "output_type": "stream",
          "name": "stderr",
          "text": [
            " 19%|█▉        | 436/2295 [00:19<01:45, 17.64it/s]"
          ]
        },
        {
          "output_type": "stream",
          "name": "stdout",
          "text": [
            "문서의 수 : 434\n",
            "문서의 수 : 435\n",
            "문서의 수 : 436\n",
            "문서의 수 : 437\n",
            "문서의 수 : 438\n"
          ]
        },
        {
          "output_type": "stream",
          "name": "stderr",
          "text": [
            " 19%|█▉        | 442/2295 [00:20<01:42, 18.16it/s]"
          ]
        },
        {
          "output_type": "stream",
          "name": "stdout",
          "text": [
            "문서의 수 : 439\n",
            "문서의 수 : 440\n",
            "문서의 수 : 441\n",
            "문서의 수 : 442\n",
            "문서의 수 : 443\n",
            "문서의 수 : 444\n"
          ]
        },
        {
          "output_type": "stream",
          "name": "stderr",
          "text": [
            " 20%|█▉        | 449/2295 [00:20<01:19, 23.16it/s]"
          ]
        },
        {
          "output_type": "stream",
          "name": "stdout",
          "text": [
            "문서의 수 : 445\n",
            "문서의 수 : 446\n",
            "문서의 수 : 447\n",
            "문서의 수 : 448\n",
            "문서의 수 : 449\n",
            "문서의 수 : 450\n"
          ]
        },
        {
          "output_type": "stream",
          "name": "stderr",
          "text": [
            "\r 20%|█▉        | 452/2295 [00:20<01:31, 20.22it/s]"
          ]
        },
        {
          "output_type": "stream",
          "name": "stdout",
          "text": [
            "문서의 수 : 451\n",
            "문서의 수 : 452\n",
            "문서의 수 : 453\n"
          ]
        },
        {
          "output_type": "stream",
          "name": "stderr",
          "text": [
            "\r 20%|█▉        | 455/2295 [00:20<01:32, 19.94it/s]"
          ]
        },
        {
          "output_type": "stream",
          "name": "stdout",
          "text": [
            "문서의 수 : 454\n",
            "문서의 수 : 455\n",
            "문서의 수 : 456\n",
            "문서의 수 : 457\n"
          ]
        },
        {
          "output_type": "stream",
          "name": "stderr",
          "text": [
            " 20%|██        | 461/2295 [00:21<01:35, 19.15it/s]"
          ]
        },
        {
          "output_type": "stream",
          "name": "stdout",
          "text": [
            "문서의 수 : 458\n",
            "문서의 수 : 459\n",
            "문서의 수 : 460\n",
            "문서의 수 : 461\n",
            "문서의 수 : 462\n",
            "문서의 수 : 463\n"
          ]
        },
        {
          "output_type": "stream",
          "name": "stderr",
          "text": [
            " 20%|██        | 467/2295 [00:21<01:26, 21.02it/s]"
          ]
        },
        {
          "output_type": "stream",
          "name": "stdout",
          "text": [
            "문서의 수 : 464\n",
            "문서의 수 : 465\n",
            "문서의 수 : 466\n",
            "문서의 수 : 467\n",
            "문서의 수 : 468\n"
          ]
        },
        {
          "output_type": "stream",
          "name": "stderr",
          "text": [
            " 21%|██        | 473/2295 [00:21<01:20, 22.69it/s]"
          ]
        },
        {
          "output_type": "stream",
          "name": "stdout",
          "text": [
            "문서의 수 : 469\n",
            "문서의 수 : 470\n",
            "문서의 수 : 471\n",
            "문서의 수 : 472\n",
            "문서의 수 : 473\n"
          ]
        },
        {
          "output_type": "stream",
          "name": "stderr",
          "text": [
            " 21%|██        | 482/2295 [00:21<01:00, 29.73it/s]"
          ]
        },
        {
          "output_type": "stream",
          "name": "stdout",
          "text": [
            "문서의 수 : 474\n",
            "문서의 수 : 475\n",
            "문서의 수 : 476\n",
            "문서의 수 : 477\n",
            "문서의 수 : 478\n",
            "문서의 수 : 479\n",
            "문서의 수 : 480\n",
            "문서의 수 : 481\n",
            "문서의 수 : 482\n",
            "문서의 수 : 483\n"
          ]
        },
        {
          "output_type": "stream",
          "name": "stderr",
          "text": [
            "\r 21%|██        | 486/2295 [00:21<00:58, 30.95it/s]"
          ]
        },
        {
          "output_type": "stream",
          "name": "stdout",
          "text": [
            "문서의 수 : 484\n",
            "문서의 수 : 485\n",
            "문서의 수 : 486\n",
            "문서의 수 : 487\n",
            "문서의 수 : 488\n",
            "문서의 수 : 489\n"
          ]
        },
        {
          "output_type": "stream",
          "name": "stderr",
          "text": [
            " 22%|██▏       | 494/2295 [00:22<01:15, 24.01it/s]"
          ]
        },
        {
          "output_type": "stream",
          "name": "stdout",
          "text": [
            "문서의 수 : 490\n",
            "문서의 수 : 491\n",
            "문서의 수 : 492\n",
            "문서의 수 : 493\n",
            "문서의 수 : 494\n",
            "문서의 수 : 495\n",
            "문서의 수 : 496\n"
          ]
        },
        {
          "output_type": "stream",
          "name": "stderr",
          "text": [
            " 22%|██▏       | 502/2295 [00:22<01:03, 28.22it/s]"
          ]
        },
        {
          "output_type": "stream",
          "name": "stdout",
          "text": [
            "문서의 수 : 497\n",
            "문서의 수 : 498\n",
            "문서의 수 : 499\n",
            "문서의 수 : 500\n",
            "문서의 수 : 501\n",
            "문서의 수 : 502\n",
            "문서의 수 : 503\n"
          ]
        },
        {
          "output_type": "stream",
          "name": "stderr",
          "text": [
            " 22%|██▏       | 509/2295 [00:22<01:06, 26.77it/s]"
          ]
        },
        {
          "output_type": "stream",
          "name": "stdout",
          "text": [
            "문서의 수 : 504\n",
            "문서의 수 : 505\n",
            "문서의 수 : 506\n",
            "문서의 수 : 507\n",
            "문서의 수 : 508\n",
            "문서의 수 : 509\n",
            "문서의 수 : 510\n",
            "문서의 수 : 511\n"
          ]
        },
        {
          "output_type": "stream",
          "name": "stderr",
          "text": [
            " 22%|██▏       | 516/2295 [00:23<00:59, 29.84it/s]"
          ]
        },
        {
          "output_type": "stream",
          "name": "stdout",
          "text": [
            "문서의 수 : 512\n",
            "문서의 수 : 513\n",
            "문서의 수 : 514\n",
            "문서의 수 : 515\n",
            "문서의 수 : 516\n",
            "문서의 수 : 517\n",
            "문서의 수 : 518\n",
            "문서의 수 : 519\n"
          ]
        },
        {
          "output_type": "stream",
          "name": "stderr",
          "text": [
            " 23%|██▎       | 524/2295 [00:23<01:04, 27.42it/s]"
          ]
        },
        {
          "output_type": "stream",
          "name": "stdout",
          "text": [
            "문서의 수 : 520\n",
            "문서의 수 : 521\n",
            "문서의 수 : 522\n",
            "문서의 수 : 523\n",
            "문서의 수 : 524\n"
          ]
        },
        {
          "output_type": "stream",
          "name": "stderr",
          "text": [
            " 23%|██▎       | 532/2295 [00:23<00:58, 30.35it/s]"
          ]
        },
        {
          "output_type": "stream",
          "name": "stdout",
          "text": [
            "문서의 수 : 525\n",
            "문서의 수 : 526\n",
            "문서의 수 : 527\n",
            "문서의 수 : 528\n",
            "문서의 수 : 529\n",
            "문서의 수 : 530\n",
            "문서의 수 : 531\n",
            "문서의 수 : 532\n",
            "문서의 수 : 533\n",
            "문서의 수 : 534\n"
          ]
        },
        {
          "output_type": "stream",
          "name": "stderr",
          "text": [
            " 24%|██▎       | 540/2295 [00:23<00:56, 31.31it/s]"
          ]
        },
        {
          "output_type": "stream",
          "name": "stdout",
          "text": [
            "문서의 수 : 535\n",
            "문서의 수 : 536\n",
            "문서의 수 : 537\n",
            "문서의 수 : 538\n",
            "문서의 수 : 539\n",
            "문서의 수 : 540\n",
            "문서의 수 : 541\n",
            "문서의 수 : 542\n"
          ]
        },
        {
          "output_type": "stream",
          "name": "stderr",
          "text": [
            " 24%|██▍       | 553/2295 [00:24<00:40, 43.14it/s]"
          ]
        },
        {
          "output_type": "stream",
          "name": "stdout",
          "text": [
            "문서의 수 : 543\n",
            "문서의 수 : 544\n",
            "문서의 수 : 545\n",
            "문서의 수 : 546\n",
            "문서의 수 : 547\n",
            "문서의 수 : 548\n",
            "문서의 수 : 549\n",
            "문서의 수 : 550\n",
            "문서의 수 : 551\n",
            "문서의 수 : 552\n",
            "문서의 수 : 553\n",
            "문서의 수 : 554\n"
          ]
        },
        {
          "output_type": "stream",
          "name": "stderr",
          "text": [
            " 25%|██▍       | 564/2295 [00:24<00:40, 42.91it/s]"
          ]
        },
        {
          "output_type": "stream",
          "name": "stdout",
          "text": [
            "문서의 수 : 555\n",
            "문서의 수 : 556\n",
            "문서의 수 : 557\n",
            "문서의 수 : 558\n",
            "문서의 수 : 559\n",
            "문서의 수 : 560\n",
            "문서의 수 : 561\n",
            "문서의 수 : 562\n",
            "문서의 수 : 563\n",
            "문서의 수 : 564\n"
          ]
        },
        {
          "output_type": "stream",
          "name": "stderr",
          "text": [
            " 25%|██▌       | 574/2295 [00:24<00:40, 42.07it/s]"
          ]
        },
        {
          "output_type": "stream",
          "name": "stdout",
          "text": [
            "문서의 수 : 565\n",
            "문서의 수 : 566\n",
            "문서의 수 : 567\n",
            "문서의 수 : 568\n",
            "문서의 수 : 569\n",
            "문서의 수 : 570\n",
            "문서의 수 : 571\n",
            "문서의 수 : 572\n",
            "문서의 수 : 573\n",
            "문서의 수 : 574\n"
          ]
        },
        {
          "output_type": "stream",
          "name": "stderr",
          "text": [
            "\r 25%|██▌       | 579/2295 [00:24<00:48, 35.42it/s]"
          ]
        },
        {
          "output_type": "stream",
          "name": "stdout",
          "text": [
            "문서의 수 : 575\n",
            "문서의 수 : 576\n",
            "문서의 수 : 577\n",
            "문서의 수 : 578\n",
            "문서의 수 : 579\n"
          ]
        },
        {
          "output_type": "stream",
          "name": "stderr",
          "text": [
            " 26%|██▌       | 588/2295 [00:25<00:49, 34.46it/s]"
          ]
        },
        {
          "output_type": "stream",
          "name": "stdout",
          "text": [
            "문서의 수 : 580\n",
            "문서의 수 : 581\n",
            "문서의 수 : 582\n",
            "문서의 수 : 583\n",
            "문서의 수 : 584\n",
            "문서의 수 : 585\n",
            "문서의 수 : 586\n",
            "문서의 수 : 587\n",
            "문서의 수 : 588\n",
            "문서의 수 : 589\n"
          ]
        },
        {
          "output_type": "stream",
          "name": "stderr",
          "text": [
            "\r 26%|██▌       | 593/2295 [00:25<00:44, 38.03it/s]"
          ]
        },
        {
          "output_type": "stream",
          "name": "stdout",
          "text": [
            "문서의 수 : 590\n",
            "문서의 수 : 591\n",
            "문서의 수 : 592\n",
            "문서의 수 : 593\n",
            "문서의 수 : 594\n",
            "문서의 수 : 595\n",
            "문서의 수 : 596\n"
          ]
        },
        {
          "output_type": "stream",
          "name": "stderr",
          "text": [
            " 26%|██▋       | 603/2295 [00:25<00:46, 36.12it/s]"
          ]
        },
        {
          "output_type": "stream",
          "name": "stdout",
          "text": [
            "문서의 수 : 597\n",
            "문서의 수 : 598\n",
            "문서의 수 : 599\n",
            "문서의 수 : 600\n",
            "문서의 수 : 601\n",
            "문서의 수 : 602\n",
            "문서의 수 : 603\n",
            "문서의 수 : 604\n",
            "문서의 수 : 605\n",
            "문서의 수 : 606\n"
          ]
        },
        {
          "output_type": "stream",
          "name": "stderr",
          "text": [
            " 27%|██▋       | 612/2295 [00:25<00:43, 38.35it/s]"
          ]
        },
        {
          "output_type": "stream",
          "name": "stdout",
          "text": [
            "문서의 수 : 607\n",
            "문서의 수 : 608\n",
            "문서의 수 : 609\n",
            "문서의 수 : 610\n",
            "문서의 수 : 611\n",
            "문서의 수 : 612\n",
            "문서의 수 : 613\n",
            "문서의 수 : 614\n",
            "문서의 수 : 615\n",
            "문서의 수 : 616\n"
          ]
        },
        {
          "output_type": "stream",
          "name": "stderr",
          "text": [
            " 27%|██▋       | 623/2295 [00:26<00:37, 45.10it/s]"
          ]
        },
        {
          "output_type": "stream",
          "name": "stdout",
          "text": [
            "문서의 수 : 617\n",
            "문서의 수 : 618\n",
            "문서의 수 : 619\n",
            "문서의 수 : 620\n",
            "문서의 수 : 621\n",
            "문서의 수 : 622\n",
            "문서의 수 : 623\n",
            "문서의 수 : 624\n",
            "문서의 수 : 625\n",
            "문서의 수 : 626\n",
            "문서의 수 : 627\n",
            "문서의 수 : 628\n",
            "문서의 수 : 629\n",
            "문서의 수 : 630\n"
          ]
        },
        {
          "output_type": "stream",
          "name": "stderr",
          "text": [
            "\r 27%|██▋       | 631/2295 [00:26<00:31, 52.91it/s]"
          ]
        },
        {
          "output_type": "stream",
          "name": "stdout",
          "text": [
            "문서의 수 : 631\n",
            "문서의 수 : 632\n",
            "문서의 수 : 633\n",
            "문서의 수 : 634\n",
            "문서의 수 : 635\n"
          ]
        },
        {
          "output_type": "stream",
          "name": "stderr",
          "text": [
            " 28%|██▊       | 643/2295 [00:26<00:39, 41.69it/s]"
          ]
        },
        {
          "output_type": "stream",
          "name": "stdout",
          "text": [
            "문서의 수 : 636\n",
            "문서의 수 : 637\n",
            "문서의 수 : 638\n",
            "문서의 수 : 639\n",
            "문서의 수 : 640\n",
            "문서의 수 : 641\n",
            "문서의 수 : 642\n",
            "문서의 수 : 643\n",
            "문서의 수 : 644\n",
            "문서의 수 : 645\n"
          ]
        },
        {
          "output_type": "stream",
          "name": "stderr",
          "text": [
            " 28%|██▊       | 653/2295 [00:26<00:44, 37.10it/s]"
          ]
        },
        {
          "output_type": "stream",
          "name": "stdout",
          "text": [
            "문서의 수 : 646\n",
            "문서의 수 : 647\n",
            "문서의 수 : 648\n",
            "문서의 수 : 649\n",
            "문서의 수 : 650\n",
            "문서의 수 : 651\n",
            "문서의 수 : 652\n",
            "문서의 수 : 653\n"
          ]
        },
        {
          "output_type": "stream",
          "name": "stderr",
          "text": [
            "\r 29%|██▊       | 657/2295 [00:27<00:57, 28.60it/s]"
          ]
        },
        {
          "output_type": "stream",
          "name": "stdout",
          "text": [
            "문서의 수 : 654\n",
            "문서의 수 : 655\n",
            "문서의 수 : 656\n",
            "문서의 수 : 657\n"
          ]
        },
        {
          "output_type": "stream",
          "name": "stderr",
          "text": [
            " 29%|██▉       | 665/2295 [00:27<00:54, 29.78it/s]"
          ]
        },
        {
          "output_type": "stream",
          "name": "stdout",
          "text": [
            "문서의 수 : 658\n",
            "문서의 수 : 659\n",
            "문서의 수 : 660\n",
            "문서의 수 : 661\n",
            "문서의 수 : 662\n",
            "문서의 수 : 663\n",
            "문서의 수 : 664\n",
            "문서의 수 : 665\n"
          ]
        },
        {
          "output_type": "stream",
          "name": "stderr",
          "text": [
            " 29%|██▉       | 673/2295 [00:27<00:48, 33.11it/s]"
          ]
        },
        {
          "output_type": "stream",
          "name": "stdout",
          "text": [
            "문서의 수 : 666\n",
            "문서의 수 : 667\n",
            "문서의 수 : 668\n",
            "문서의 수 : 669\n",
            "문서의 수 : 670\n",
            "문서의 수 : 671\n",
            "문서의 수 : 672\n",
            "문서의 수 : 673\n",
            "문서의 수 : 674\n"
          ]
        },
        {
          "output_type": "stream",
          "name": "stderr",
          "text": [
            "\r 29%|██▉       | 677/2295 [00:27<00:59, 27.28it/s]"
          ]
        },
        {
          "output_type": "stream",
          "name": "stdout",
          "text": [
            "문서의 수 : 675\n",
            "문서의 수 : 676\n",
            "문서의 수 : 677\n",
            "문서의 수 : 678\n"
          ]
        },
        {
          "output_type": "stream",
          "name": "stderr",
          "text": [
            "\r 30%|██▉       | 681/2295 [00:27<00:54, 29.56it/s]"
          ]
        },
        {
          "output_type": "stream",
          "name": "stdout",
          "text": [
            "문서의 수 : 679\n",
            "문서의 수 : 680\n",
            "문서의 수 : 681\n",
            "문서의 수 : 682\n"
          ]
        },
        {
          "output_type": "stream",
          "name": "stderr",
          "text": [
            " 30%|███       | 689/2295 [00:28<01:02, 25.81it/s]"
          ]
        },
        {
          "output_type": "stream",
          "name": "stdout",
          "text": [
            "문서의 수 : 683\n",
            "문서의 수 : 684\n",
            "문서의 수 : 685\n",
            "문서의 수 : 686\n",
            "문서의 수 : 687\n",
            "문서의 수 : 688\n",
            "문서의 수 : 689\n"
          ]
        },
        {
          "output_type": "stream",
          "name": "stderr",
          "text": [
            "\r 30%|███       | 693/2295 [00:28<00:57, 27.90it/s]"
          ]
        },
        {
          "output_type": "stream",
          "name": "stdout",
          "text": [
            "문서의 수 : 690\n",
            "문서의 수 : 691\n",
            "문서의 수 : 692\n",
            "문서의 수 : 693\n",
            "문서의 수 : 694\n",
            "문서의 수 : 695\n",
            "문서의 수 : 696\n",
            "문서의 수 : 697\n"
          ]
        },
        {
          "output_type": "stream",
          "name": "stderr",
          "text": [
            " 31%|███       | 702/2295 [00:28<00:54, 29.11it/s]"
          ]
        },
        {
          "output_type": "stream",
          "name": "stdout",
          "text": [
            "문서의 수 : 698\n",
            "문서의 수 : 699\n",
            "문서의 수 : 700\n",
            "문서의 수 : 701\n",
            "문서의 수 : 702\n",
            "문서의 수 : 703\n",
            "문서의 수 : 704\n",
            "문서의 수 : 705\n"
          ]
        },
        {
          "output_type": "stream",
          "name": "stderr",
          "text": [
            " 31%|███       | 712/2295 [00:28<00:50, 31.30it/s]"
          ]
        },
        {
          "output_type": "stream",
          "name": "stdout",
          "text": [
            "문서의 수 : 706\n",
            "문서의 수 : 707\n",
            "문서의 수 : 708\n",
            "문서의 수 : 709\n",
            "문서의 수 : 710\n",
            "문서의 수 : 711\n",
            "문서의 수 : 712\n"
          ]
        },
        {
          "output_type": "stream",
          "name": "stderr",
          "text": [
            "\r 31%|███       | 717/2295 [00:28<00:45, 34.92it/s]"
          ]
        },
        {
          "output_type": "stream",
          "name": "stdout",
          "text": [
            "문서의 수 : 713\n",
            "문서의 수 : 714\n",
            "문서의 수 : 715\n",
            "문서의 수 : 716\n",
            "문서의 수 : 717\n"
          ]
        },
        {
          "output_type": "stream",
          "name": "stderr",
          "text": [
            "\r 31%|███▏      | 721/2295 [00:29<01:00, 26.06it/s]"
          ]
        },
        {
          "output_type": "stream",
          "name": "stdout",
          "text": [
            "문서의 수 : 718\n",
            "문서의 수 : 719\n",
            "문서의 수 : 720\n",
            "문서의 수 : 721\n"
          ]
        },
        {
          "output_type": "stream",
          "name": "stderr",
          "text": [
            "\r 32%|███▏      | 725/2295 [00:29<01:09, 22.62it/s]"
          ]
        },
        {
          "output_type": "stream",
          "name": "stdout",
          "text": [
            "문서의 수 : 722\n",
            "문서의 수 : 723\n",
            "문서의 수 : 724\n",
            "문서의 수 : 725\n",
            "문서의 수 : 726\n",
            "문서의 수 : 727\n"
          ]
        },
        {
          "output_type": "stream",
          "name": "stderr",
          "text": [
            "\r 32%|███▏      | 728/2295 [00:29<01:07, 23.33it/s]"
          ]
        },
        {
          "output_type": "stream",
          "name": "stdout",
          "text": [
            "문서의 수 : 728\n"
          ]
        },
        {
          "output_type": "stream",
          "name": "stderr",
          "text": [
            " 32%|███▏      | 735/2295 [00:30<01:50, 14.11it/s]"
          ]
        },
        {
          "output_type": "stream",
          "name": "stdout",
          "text": [
            "문서의 수 : 729\n",
            "문서의 수 : 730\n",
            "문서의 수 : 731\n",
            "문서의 수 : 732\n",
            "문서의 수 : 733\n",
            "문서의 수 : 734\n",
            "문서의 수 : 735\n",
            "문서의 수 : 736\n"
          ]
        },
        {
          "output_type": "stream",
          "name": "stderr",
          "text": [
            " 32%|███▏      | 743/2295 [00:30<01:14, 20.97it/s]"
          ]
        },
        {
          "output_type": "stream",
          "name": "stdout",
          "text": [
            "문서의 수 : 737\n",
            "문서의 수 : 738\n",
            "문서의 수 : 739\n",
            "문서의 수 : 740\n",
            "문서의 수 : 741\n",
            "문서의 수 : 742\n",
            "문서의 수 : 743\n",
            "문서의 수 : 744\n"
          ]
        },
        {
          "output_type": "stream",
          "name": "stderr",
          "text": [
            " 33%|███▎      | 750/2295 [00:30<01:05, 23.65it/s]"
          ]
        },
        {
          "output_type": "stream",
          "name": "stdout",
          "text": [
            "문서의 수 : 745\n",
            "문서의 수 : 746\n",
            "문서의 수 : 747\n",
            "문서의 수 : 748\n",
            "문서의 수 : 749\n",
            "문서의 수 : 750\n"
          ]
        },
        {
          "output_type": "stream",
          "name": "stderr",
          "text": [
            " 33%|███▎      | 758/2295 [00:31<00:55, 27.73it/s]"
          ]
        },
        {
          "output_type": "stream",
          "name": "stdout",
          "text": [
            "문서의 수 : 751\n",
            "문서의 수 : 752\n",
            "문서의 수 : 753\n",
            "문서의 수 : 754\n",
            "문서의 수 : 755\n",
            "문서의 수 : 756\n",
            "문서의 수 : 757\n",
            "문서의 수 : 758\n",
            "문서의 수 : 759\n"
          ]
        },
        {
          "output_type": "stream",
          "name": "stderr",
          "text": [
            " 33%|███▎      | 766/2295 [00:31<00:50, 30.08it/s]"
          ]
        },
        {
          "output_type": "stream",
          "name": "stdout",
          "text": [
            "문서의 수 : 760\n",
            "문서의 수 : 761\n",
            "문서의 수 : 762\n",
            "문서의 수 : 763\n",
            "문서의 수 : 764\n",
            "문서의 수 : 765\n",
            "문서의 수 : 766\n"
          ]
        },
        {
          "output_type": "stream",
          "name": "stderr",
          "text": [
            "\r 34%|███▎      | 770/2295 [00:31<00:52, 28.78it/s]"
          ]
        },
        {
          "output_type": "stream",
          "name": "stdout",
          "text": [
            "문서의 수 : 767\n",
            "문서의 수 : 768\n",
            "문서의 수 : 769\n",
            "문서의 수 : 770\n",
            "문서의 수 : 771\n",
            "문서의 수 : 772\n"
          ]
        },
        {
          "output_type": "stream",
          "name": "stderr",
          "text": [
            " 34%|███▍      | 777/2295 [00:31<01:01, 24.76it/s]"
          ]
        },
        {
          "output_type": "stream",
          "name": "stdout",
          "text": [
            "문서의 수 : 773\n",
            "문서의 수 : 774\n",
            "문서의 수 : 775\n",
            "문서의 수 : 776\n",
            "문서의 수 : 777\n",
            "문서의 수 : 778\n",
            "문서의 수 : 779\n"
          ]
        },
        {
          "output_type": "stream",
          "name": "stderr",
          "text": [
            " 34%|███▍      | 785/2295 [00:32<00:57, 26.31it/s]"
          ]
        },
        {
          "output_type": "stream",
          "name": "stdout",
          "text": [
            "문서의 수 : 780\n",
            "문서의 수 : 781\n",
            "문서의 수 : 782\n",
            "문서의 수 : 783\n",
            "문서의 수 : 784\n",
            "문서의 수 : 785\n"
          ]
        },
        {
          "output_type": "stream",
          "name": "stderr",
          "text": [
            "\r 34%|███▍      | 788/2295 [00:32<01:04, 23.40it/s]"
          ]
        },
        {
          "output_type": "stream",
          "name": "stdout",
          "text": [
            "문서의 수 : 786\n",
            "문서의 수 : 787\n",
            "문서의 수 : 788\n",
            "문서의 수 : 789\n",
            "문서의 수 : 790\n"
          ]
        },
        {
          "output_type": "stream",
          "name": "stderr",
          "text": [
            " 35%|███▍      | 795/2295 [00:32<01:00, 24.59it/s]"
          ]
        },
        {
          "output_type": "stream",
          "name": "stdout",
          "text": [
            "문서의 수 : 791\n",
            "문서의 수 : 792\n",
            "문서의 수 : 793\n",
            "문서의 수 : 794\n",
            "문서의 수 : 795\n"
          ]
        },
        {
          "output_type": "stream",
          "name": "stderr",
          "text": [
            " 35%|███▍      | 801/2295 [00:32<01:03, 23.52it/s]"
          ]
        },
        {
          "output_type": "stream",
          "name": "stdout",
          "text": [
            "문서의 수 : 796\n",
            "문서의 수 : 797\n",
            "문서의 수 : 798\n",
            "문서의 수 : 799\n",
            "문서의 수 : 800\n",
            "문서의 수 : 801\n"
          ]
        },
        {
          "output_type": "stream",
          "name": "stderr",
          "text": [
            "\r 35%|███▌      | 804/2295 [00:33<01:04, 23.06it/s]"
          ]
        },
        {
          "output_type": "stream",
          "name": "stdout",
          "text": [
            "문서의 수 : 802\n",
            "문서의 수 : 803\n",
            "문서의 수 : 804\n",
            "문서의 수 : 805\n",
            "문서의 수 : 806\n",
            "문서의 수 :"
          ]
        },
        {
          "output_type": "stream",
          "name": "stderr",
          "text": [
            " 35%|███▌      | 810/2295 [00:33<01:12, 20.62it/s]"
          ]
        },
        {
          "output_type": "stream",
          "name": "stdout",
          "text": [
            " 807\n",
            "문서의 수 : 808\n",
            "문서의 수 : 809\n",
            "문서의 수 : 810\n"
          ]
        },
        {
          "output_type": "stream",
          "name": "stderr",
          "text": [
            "\r 35%|███▌      | 813/2295 [00:33<01:11, 20.72it/s]"
          ]
        },
        {
          "output_type": "stream",
          "name": "stdout",
          "text": [
            "문서의 수 : 811\n",
            "문서의 수 : 812\n",
            "문서의 수 : 813\n",
            "문서의 수 : 814\n",
            "문서의 수 : 815\n"
          ]
        },
        {
          "output_type": "stream",
          "name": "stderr",
          "text": [
            " 36%|███▌      | 819/2295 [00:33<01:10, 20.87it/s]"
          ]
        },
        {
          "output_type": "stream",
          "name": "stdout",
          "text": [
            "문서의 수 : 816\n",
            "문서의 수 : 817\n",
            "문서의 수 : 818\n",
            "문서의 수 : 819\n",
            "문서의 수 : 820\n"
          ]
        },
        {
          "output_type": "stream",
          "name": "stderr",
          "text": [
            "\r 36%|███▌      | 824/2295 [00:33<01:04, 22.81it/s]"
          ]
        },
        {
          "output_type": "stream",
          "name": "stdout",
          "text": [
            "문서의 수 : 821\n",
            "문서의 수 : 822\n",
            "문서의 수 : 823\n",
            "문서의 수 : 824\n",
            "문서의 수 : 825\n"
          ]
        },
        {
          "output_type": "stream",
          "name": "stderr",
          "text": [
            " 36%|███▌      | 830/2295 [00:34<01:07, 21.57it/s]"
          ]
        },
        {
          "output_type": "stream",
          "name": "stdout",
          "text": [
            "문서의 수 : 826\n",
            "문서의 수 : 827\n",
            "문서의 수 : 828\n",
            "문서의 수 : 829\n",
            "문서의 수 : 830\n"
          ]
        },
        {
          "output_type": "stream",
          "name": "stderr",
          "text": [
            " 36%|███▋      | 836/2295 [00:34<01:06, 22.07it/s]"
          ]
        },
        {
          "output_type": "stream",
          "name": "stdout",
          "text": [
            "문서의 수 : 831\n",
            "문서의 수 : 832\n",
            "문서의 수 : 833\n",
            "문서의 수 : 834\n",
            "문서의 수 : 835\n",
            "문서의 수 : 836\n"
          ]
        },
        {
          "output_type": "stream",
          "name": "stderr",
          "text": [
            "\r 37%|███▋      | 839/2295 [00:34<01:16, 19.09it/s]"
          ]
        },
        {
          "output_type": "stream",
          "name": "stdout",
          "text": [
            "문서의 수 : 837\n",
            "문서의 수 : 838\n",
            "문서의 수 : 839\n",
            "문서의 수 : 840\n",
            "문서의 수 : 841\n"
          ]
        },
        {
          "output_type": "stream",
          "name": "stderr",
          "text": [
            " 37%|███▋      | 845/2295 [00:34<01:10, 20.64it/s]"
          ]
        },
        {
          "output_type": "stream",
          "name": "stdout",
          "text": [
            "문서의 수 : 842\n",
            "문서의 수 : 843\n",
            "문서의 수 : 844\n",
            "문서의 수 : 845\n",
            "문서의 수 : 846\n"
          ]
        },
        {
          "output_type": "stream",
          "name": "stderr",
          "text": [
            " 37%|███▋      | 851/2295 [00:35<01:06, 21.59it/s]"
          ]
        },
        {
          "output_type": "stream",
          "name": "stdout",
          "text": [
            "문서의 수 : 847\n",
            "문서의 수 : 848\n",
            "문서의 수 : 849\n",
            "문서의 수 : 850\n",
            "문서의 수 : 851\n",
            "문서의 수 : 852\n",
            "문서의 수 : 853\n"
          ]
        },
        {
          "output_type": "stream",
          "name": "stderr",
          "text": [
            " 37%|███▋      | 858/2295 [00:35<00:57, 25.02it/s]"
          ]
        },
        {
          "output_type": "stream",
          "name": "stdout",
          "text": [
            "문서의 수 : 854\n",
            "문서의 수 : 855\n",
            "문서의 수 : 856\n",
            "문서의 수 : 857\n",
            "문서의 수 : 858\n",
            "문서의 수 : 859\n",
            "문서의 수 : 860\n"
          ]
        },
        {
          "output_type": "stream",
          "name": "stderr",
          "text": [
            " 38%|███▊      | 866/2295 [00:35<00:48, 29.43it/s]"
          ]
        },
        {
          "output_type": "stream",
          "name": "stdout",
          "text": [
            "문서의 수 : 861\n",
            "문서의 수 : 862\n",
            "문서의 수 : 863\n",
            "문서의 수 : 864\n",
            "문서의 수 : 865\n",
            "문서의 수 : 866\n",
            "문서의 수 : 867\n"
          ]
        },
        {
          "output_type": "stream",
          "name": "stderr",
          "text": [
            " 38%|███▊      | 874/2295 [00:35<00:47, 30.12it/s]"
          ]
        },
        {
          "output_type": "stream",
          "name": "stdout",
          "text": [
            "문서의 수 : 868\n",
            "문서의 수 : 869\n",
            "문서의 수 : 870\n",
            "문서의 수 : 871\n",
            "문서의 수 : 872\n",
            "문서의 수 : 873\n",
            "문서의 수 : 874\n",
            "문서의 수 : 875\n"
          ]
        },
        {
          "output_type": "stream",
          "name": "stderr",
          "text": [
            " 38%|███▊      | 882/2295 [00:36<00:44, 31.84it/s]"
          ]
        },
        {
          "output_type": "stream",
          "name": "stdout",
          "text": [
            "문서의 수 : 876\n",
            "문서의 수 : 877\n",
            "문서의 수 : 878\n",
            "문서의 수 : 879\n",
            "문서의 수 : 880\n",
            "문서의 수 : 881\n",
            "문서의 수 : 882\n",
            "문서의 수 : 883\n"
          ]
        },
        {
          "output_type": "stream",
          "name": "stderr",
          "text": [
            " 39%|███▉      | 892/2295 [00:36<00:37, 37.62it/s]"
          ]
        },
        {
          "output_type": "stream",
          "name": "stdout",
          "text": [
            "문서의 수 : 884\n",
            "문서의 수 : 885\n",
            "문서의 수 : 886\n",
            "문서의 수 : 887\n",
            "문서의 수 : 888\n",
            "문서의 수 : 889\n",
            "문서의 수 : 890\n",
            "문서의 수 : 891\n",
            "문서의 수 : 892\n",
            "문서의 수 : 893\n"
          ]
        },
        {
          "output_type": "stream",
          "name": "stderr",
          "text": [
            " 39%|███▉      | 900/2295 [00:36<00:40, 34.38it/s]"
          ]
        },
        {
          "output_type": "stream",
          "name": "stdout",
          "text": [
            "문서의 수 : 894\n",
            "문서의 수 : 895\n",
            "문서의 수 : 896\n",
            "문서의 수 : 897\n",
            "문서의 수 : 898\n",
            "문서의 수 : 899\n",
            "문서의 수 : 900\n",
            "문서의 수 : 901\n"
          ]
        },
        {
          "output_type": "stream",
          "name": "stderr",
          "text": [
            " 40%|███▉      | 909/2295 [00:36<00:39, 35.17it/s]"
          ]
        },
        {
          "output_type": "stream",
          "name": "stdout",
          "text": [
            "문서의 수 : 902\n",
            "문서의 수 : 903\n",
            "문서의 수 : 904\n",
            "문서의 수 : 905\n",
            "문서의 수 : 906\n",
            "문서의 수 : 907\n",
            "문서의 수 : 908\n",
            "문서의 수 : 909\n"
          ]
        },
        {
          "output_type": "stream",
          "name": "stderr",
          "text": [
            "\r 40%|███▉      | 913/2295 [00:37<00:42, 32.54it/s]"
          ]
        },
        {
          "output_type": "stream",
          "name": "stdout",
          "text": [
            "문서의 수 : 910\n",
            "문서의 수 : 911\n",
            "문서의 수 : 912\n",
            "문서의 수 : 913\n",
            "문서의 수 : 914\n",
            "문서의 수 : 915\n"
          ]
        },
        {
          "output_type": "stream",
          "name": "stderr",
          "text": [
            " 40%|████      | 921/2295 [00:37<00:41, 32.95it/s]"
          ]
        },
        {
          "output_type": "stream",
          "name": "stdout",
          "text": [
            "문서의 수 : 916\n",
            "문서의 수 : 917\n",
            "문서의 수 : 918\n",
            "문서의 수 : 919\n",
            "문서의 수 : 920\n",
            "문서의 수 : 921\n",
            "문서의 수 : 922\n",
            "문서의 수 : 923\n"
          ]
        },
        {
          "output_type": "stream",
          "name": "stderr",
          "text": [
            " 40%|████      | 929/2295 [00:37<00:43, 31.21it/s]"
          ]
        },
        {
          "output_type": "stream",
          "name": "stdout",
          "text": [
            "문서의 수 : 924\n",
            "문서의 수 : 925\n",
            "문서의 수 : 926\n",
            "문서의 수 : 927\n",
            "문서의 수 : 928\n",
            "문서의 수 : 929\n"
          ]
        },
        {
          "output_type": "stream",
          "name": "stderr",
          "text": [
            " 41%|████      | 937/2295 [00:37<00:40, 33.92it/s]"
          ]
        },
        {
          "output_type": "stream",
          "name": "stdout",
          "text": [
            "문서의 수 : 930\n",
            "문서의 수 : 931\n",
            "문서의 수 : 932\n",
            "문서의 수 : 933\n",
            "문서의 수 : 934\n",
            "문서의 수 : 935\n",
            "문서의 수 : 936\n",
            "문서의 수 : 937\n",
            "문서의 수 : 938\n"
          ]
        },
        {
          "output_type": "stream",
          "name": "stderr",
          "text": [
            " 41%|████▏     | 948/2295 [00:38<00:33, 40.04it/s]"
          ]
        },
        {
          "output_type": "stream",
          "name": "stdout",
          "text": [
            "문서의 수 : 939\n",
            "문서의 수 : 940\n",
            "문서의 수 : 941\n",
            "문서의 수 : 942\n",
            "문서의 수 : 943\n",
            "문서의 수 : 944\n",
            "문서의 수 : 945\n",
            "문서의 수 : 946\n",
            "문서의 수 : 947\n",
            "문서의 수 : 948\n"
          ]
        },
        {
          "output_type": "stream",
          "name": "stderr",
          "text": [
            "\r 42%|████▏     | 954/2295 [00:38<00:32, 41.66it/s]"
          ]
        },
        {
          "output_type": "stream",
          "name": "stdout",
          "text": [
            "문서의 수 : 949\n",
            "문서의 수 : 950\n",
            "문서의 수 : 951\n",
            "문서의 수 : 952\n",
            "문서의 수 : 953\n",
            "문서의 수 : 954\n",
            "문서의 수 : 955\n",
            "문서의 수 : 956\n",
            "문서의 수 : 957\n"
          ]
        },
        {
          "output_type": "stream",
          "name": "stderr",
          "text": [
            " 42%|████▏     | 964/2295 [00:38<00:37, 35.58it/s]"
          ]
        },
        {
          "output_type": "stream",
          "name": "stdout",
          "text": [
            "문서의 수 : 958\n",
            "문서의 수 : 959\n",
            "문서의 수 : 960\n",
            "문서의 수 : 961\n",
            "문서의 수 : 962\n",
            "문서의 수 : 963\n",
            "문서의 수 : 964\n"
          ]
        },
        {
          "output_type": "stream",
          "name": "stderr",
          "text": [
            "\r 42%|████▏     | 968/2295 [00:38<00:38, 34.68it/s]"
          ]
        },
        {
          "output_type": "stream",
          "name": "stdout",
          "text": [
            "문서의 수 : 965\n",
            "문서의 수 : 966\n",
            "문서의 수 : 967\n",
            "문서의 수 : 968\n",
            "문서의 수 : 969\n",
            "문서의 수 : 970\n",
            "문서의 수 : 971\n",
            "문서의 수 : 972\n",
            "문서의 수 : 973\n"
          ]
        },
        {
          "output_type": "stream",
          "name": "stderr",
          "text": [
            " 43%|████▎     | 979/2295 [00:38<00:32, 40.32it/s]"
          ]
        },
        {
          "output_type": "stream",
          "name": "stdout",
          "text": [
            "문서의 수 : 974\n",
            "문서의 수 : 975\n",
            "문서의 수 : 976\n",
            "문서의 수 : 977\n",
            "문서의 수 : 978\n",
            "문서의 수 : 979\n",
            "문서의 수 : 980\n",
            "문서의 수 : 981\n",
            "문서의 수 : 982\n"
          ]
        },
        {
          "output_type": "stream",
          "name": "stderr",
          "text": [
            " 43%|████▎     | 990/2295 [00:39<00:30, 42.90it/s]"
          ]
        },
        {
          "output_type": "stream",
          "name": "stdout",
          "text": [
            "문서의 수 : 983\n",
            "문서의 수 : 984\n",
            "문서의 수 : 985\n",
            "문서의 수 : 986\n",
            "문서의 수 : 987\n",
            "문서의 수 : 988\n",
            "문서의 수 : 989\n",
            "문서의 수 : 990\n",
            "문서의 수 : 991\n",
            "문서의 수 : 992\n"
          ]
        },
        {
          "output_type": "stream",
          "name": "stderr",
          "text": [
            " 44%|████▎     | 1000/2295 [00:39<00:30, 42.83it/s]"
          ]
        },
        {
          "output_type": "stream",
          "name": "stdout",
          "text": [
            "문서의 수 : 993\n",
            "문서의 수 : 994\n",
            "문서의 수 : 995\n",
            "문서의 수 : 996\n",
            "문서의 수 : 997\n",
            "문서의 수 : 998\n",
            "문서의 수 : 999\n",
            "문서의 수 : 1000\n",
            "문서의 수 : 1001\n",
            "문서의 수 : 1002\n"
          ]
        },
        {
          "output_type": "stream",
          "name": "stderr",
          "text": [
            " 44%|████▍     | 1010/2295 [00:39<00:31, 40.61it/s]"
          ]
        },
        {
          "output_type": "stream",
          "name": "stdout",
          "text": [
            "문서의 수 : 1003\n",
            "문서의 수 : 1004\n",
            "문서의 수 : 1005\n",
            "문서의 수 : 1006\n",
            "문서의 수 : 1007\n",
            "문서의 수 : 1008\n",
            "문서의 수 : 1009\n",
            "문서의 수 : 1010\n",
            "문서의 수 : 1011\n",
            "문서의 수 : 1012\n"
          ]
        },
        {
          "output_type": "stream",
          "name": "stderr",
          "text": [
            " 44%|████▍     | 1020/2295 [00:39<00:31, 41.13it/s]"
          ]
        },
        {
          "output_type": "stream",
          "name": "stdout",
          "text": [
            "문서의 수 : 1013\n",
            "문서의 수 : 1014\n",
            "문서의 수 : 1015\n",
            "문서의 수 : 1016\n",
            "문서의 수 : 1017\n",
            "문서의 수 : 1018\n",
            "문서의 수 : 1019\n",
            "문서의 수 : 1020\n",
            "문서의 수 : 1021\n"
          ]
        },
        {
          "output_type": "stream",
          "name": "stderr",
          "text": [
            "\r 45%|████▍     | 1025/2295 [00:40<00:41, 30.34it/s]"
          ]
        },
        {
          "output_type": "stream",
          "name": "stdout",
          "text": [
            "문서의 수 : 1022\n",
            "문서의 수 : 1023\n",
            "문서의 수 : 1024\n",
            "문서의 수 : 1025\n",
            "문서의 수 : 1026\n",
            "문서의 수 : 1027\n"
          ]
        },
        {
          "output_type": "stream",
          "name": "stderr",
          "text": [
            " 45%|████▌     | 1033/2295 [00:40<00:40, 30.90it/s]"
          ]
        },
        {
          "output_type": "stream",
          "name": "stdout",
          "text": [
            "문서의 수 : 1028\n",
            "문서의 수 : 1029\n",
            "문서의 수 : 1030\n",
            "문서의 수 : 1031\n",
            "문서의 수 : 1032\n",
            "문서의 수 : 1033\n",
            "문서의 수 : 1034\n",
            "문서의 수 : 1035\n",
            "문서의 수 : 1036\n"
          ]
        },
        {
          "output_type": "stream",
          "name": "stderr",
          "text": [
            " 45%|████▌     | 1042/2295 [00:40<00:33, 36.95it/s]"
          ]
        },
        {
          "output_type": "stream",
          "name": "stdout",
          "text": [
            "문서의 수 : 1037\n",
            "문서의 수 : 1038\n",
            "문서의 수 : 1039\n",
            "문서의 수 : 1040\n",
            "문서의 수 : 1041\n",
            "문서의 수 : 1042\n",
            "문서의 수 : 1043\n",
            "문서의 수 : 1044\n"
          ]
        },
        {
          "output_type": "stream",
          "name": "stderr",
          "text": [
            "\r 46%|████▌     | 1046/2295 [00:40<00:36, 33.98it/s]"
          ]
        },
        {
          "output_type": "stream",
          "name": "stdout",
          "text": [
            "문서의 수 : 1045\n",
            "문서의 수 : 1046\n",
            "문서의 수 : 1047\n"
          ]
        },
        {
          "output_type": "stream",
          "name": "stderr",
          "text": [
            " 46%|████▌     | 1053/2295 [00:41<00:50, 24.79it/s]"
          ]
        },
        {
          "output_type": "stream",
          "name": "stdout",
          "text": [
            "문서의 수 : 1048\n",
            "문서의 수 : 1049\n",
            "문서의 수 : 1050\n",
            "문서의 수 : 1051\n",
            "문서의 수 : 1052\n",
            "문서의 수 : 1053\n",
            "문서의 수 : 1054\n"
          ]
        },
        {
          "output_type": "stream",
          "name": "stderr",
          "text": [
            " 46%|████▌     | 1060/2295 [00:41<00:44, 27.83it/s]"
          ]
        },
        {
          "output_type": "stream",
          "name": "stdout",
          "text": [
            "문서의 수 : 1055\n",
            "문서의 수 : 1056\n",
            "문서의 수 : 1057\n",
            "문서의 수 : 1058\n",
            "문서의 수 : 1059\n",
            "문서의 수 : 1060\n",
            "문서의 수 : 1061\n"
          ]
        },
        {
          "output_type": "stream",
          "name": "stderr",
          "text": [
            " 47%|████▋     | 1068/2295 [00:41<00:46, 26.42it/s]"
          ]
        },
        {
          "output_type": "stream",
          "name": "stdout",
          "text": [
            "문서의 수 : 1062\n",
            "문서의 수 : 1063\n",
            "문서의 수 : 1064\n",
            "문서의 수 : 1065\n",
            "문서의 수 : 1066\n",
            "문서의 수 : 1067\n",
            "문서의 수 : 1068\n"
          ]
        },
        {
          "output_type": "stream",
          "name": "stderr",
          "text": [
            " 47%|████▋     | 1074/2295 [00:41<00:47, 25.63it/s]"
          ]
        },
        {
          "output_type": "stream",
          "name": "stdout",
          "text": [
            "문서의 수 : 1069\n",
            "문서의 수 : 1070\n",
            "문서의 수 : 1071\n",
            "문서의 수 : 1072\n",
            "문서의 수 : 1073\n",
            "문서의 수 : 1074\n"
          ]
        },
        {
          "output_type": "stream",
          "name": "stderr",
          "text": [
            " 47%|████▋     | 1083/2295 [00:42<00:36, 33.20it/s]"
          ]
        },
        {
          "output_type": "stream",
          "name": "stdout",
          "text": [
            "문서의 수 : 1075\n",
            "문서의 수 : 1076\n",
            "문서의 수 : 1077\n",
            "문서의 수 : 1078\n",
            "문서의 수 : 1079\n",
            "문서의 수 : 1080\n",
            "문서의 수 : 1081\n",
            "문서의 수 : 1082\n",
            "문서의 수 : 1083\n",
            "문서의 수 : 1084\n"
          ]
        },
        {
          "output_type": "stream",
          "name": "stderr",
          "text": [
            "\r 47%|████▋     | 1088/2295 [00:42<00:34, 35.12it/s]"
          ]
        },
        {
          "output_type": "stream",
          "name": "stdout",
          "text": [
            "문서의 수 : 1085\n",
            "문서의 수 : 1086\n",
            "문서의 수 : 1087\n",
            "문서의 수 : 1088\n",
            "문서의 수 : 1089\n",
            "문서의 수 : 1090\n",
            "문서의 수 : 1091\n"
          ]
        },
        {
          "output_type": "stream",
          "name": "stderr",
          "text": [
            "\r 48%|████▊     | 1092/2295 [00:42<00:38, 31.12it/s]"
          ]
        },
        {
          "output_type": "stream",
          "name": "stdout",
          "text": [
            "문서의 수 : 1092\n"
          ]
        },
        {
          "output_type": "stream",
          "name": "stderr",
          "text": [
            "\r 48%|████▊     | 1096/2295 [00:42<01:09, 17.16it/s]"
          ]
        },
        {
          "output_type": "stream",
          "name": "stdout",
          "text": [
            "문서의 수 : 1093\n",
            "문서의 수 : 1094\n",
            "문서의 수 : 1095\n",
            "문서의 수 : 1096\n",
            "문서의 수 : 1097\n",
            "문서의 수 : 1098\n"
          ]
        },
        {
          "output_type": "stream",
          "name": "stderr",
          "text": [
            " 48%|████▊     | 1106/2295 [00:43<00:45, 26.34it/s]"
          ]
        },
        {
          "output_type": "stream",
          "name": "stdout",
          "text": [
            "문서의 수 : 1099\n",
            "문서의 수 : 1100\n",
            "문서의 수 : 1101\n",
            "문서의 수 : 1102\n",
            "문서의 수 : 1103\n",
            "문서의 수 : 1104\n",
            "문서의 수 : 1105\n",
            "문서의 수 : 1106\n",
            "문서의 수 : 1107\n",
            "문서의 수 : 1108\n"
          ]
        },
        {
          "output_type": "stream",
          "name": "stderr",
          "text": [
            " 49%|████▊     | 1114/2295 [00:43<00:38, 30.29it/s]"
          ]
        },
        {
          "output_type": "stream",
          "name": "stdout",
          "text": [
            "문서의 수 : 1109\n",
            "문서의 수 : 1110\n",
            "문서의 수 : 1111\n",
            "문서의 수 : 1112\n",
            "문서의 수 : 1113\n",
            "문서의 수 : 1114\n",
            "문서의 수 : 1115\n",
            "문서의 수 : 1116\n",
            "문서의 수 : 1117\n"
          ]
        },
        {
          "output_type": "stream",
          "name": "stderr",
          "text": [
            " 49%|████▉     | 1123/2295 [00:43<00:34, 33.52it/s]"
          ]
        },
        {
          "output_type": "stream",
          "name": "stdout",
          "text": [
            "문서의 수 : 1118\n",
            "문서의 수 : 1119\n",
            "문서의 수 : 1120\n",
            "문서의 수 : 1121\n",
            "문서의 수 : 1122\n",
            "문서의 수 : 1123\n",
            "문서의 수 : 1124\n",
            "문서의 수 : 1125\n",
            "문서의 수 : 1126\n"
          ]
        },
        {
          "output_type": "stream",
          "name": "stderr",
          "text": [
            " 49%|████▉     | 1132/2295 [00:43<00:37, 31.23it/s]"
          ]
        },
        {
          "output_type": "stream",
          "name": "stdout",
          "text": [
            "문서의 수 : 1127\n",
            "문서의 수 : 1128\n",
            "문서의 수 : 1129\n",
            "문서의 수 : 1130\n",
            "문서의 수 : 1131\n",
            "문서의 수 : 1132\n",
            "문서의 수 : 1133\n",
            "문서의 수 : 1134\n",
            "문서의 수 : 1135\n"
          ]
        },
        {
          "output_type": "stream",
          "name": "stderr",
          "text": [
            " 50%|████▉     | 1141/2295 [00:44<00:39, 29.45it/s]"
          ]
        },
        {
          "output_type": "stream",
          "name": "stdout",
          "text": [
            "문서의 수 : 1136\n",
            "문서의 수 : 1137\n",
            "문서의 수 : 1138\n",
            "문서의 수 : 1139\n",
            "문서의 수 : 1140\n",
            "문서의 수 : 1141\n"
          ]
        },
        {
          "output_type": "stream",
          "name": "stderr",
          "text": [
            " 50%|█████     | 1148/2295 [00:44<00:43, 26.34it/s]"
          ]
        },
        {
          "output_type": "stream",
          "name": "stdout",
          "text": [
            "문서의 수 : 1142\n",
            "문서의 수 : 1143\n",
            "문서의 수 : 1144\n",
            "문서의 수 : 1145\n",
            "문서의 수 : 1146\n",
            "문서의 수 : 1147\n",
            "문서의 수 : 1148\n"
          ]
        },
        {
          "output_type": "stream",
          "name": "stderr",
          "text": [
            " 50%|█████     | 1155/2295 [00:44<00:40, 28.23it/s]"
          ]
        },
        {
          "output_type": "stream",
          "name": "stdout",
          "text": [
            "문서의 수 : 1149\n",
            "문서의 수 : 1150\n",
            "문서의 수 : 1151\n",
            "문서의 수 : 1152\n",
            "문서의 수 : 1153\n",
            "문서의 수 : 1154\n",
            "문서의 수 : 1155\n",
            "문서의 수 : 1156\n"
          ]
        },
        {
          "output_type": "stream",
          "name": "stderr",
          "text": [
            " 51%|█████     | 1163/2295 [00:44<00:36, 31.42it/s]"
          ]
        },
        {
          "output_type": "stream",
          "name": "stdout",
          "text": [
            "문서의 수 : 1157\n",
            "문서의 수 : 1158\n",
            "문서의 수 : 1159\n",
            "문서의 수 : 1160\n",
            "문서의 수 : 1161\n",
            "문서의 수 : 1162\n",
            "문서의 수 : 1163\n",
            "문서의 수 : 1164\n"
          ]
        },
        {
          "output_type": "stream",
          "name": "stderr",
          "text": [
            "\r 51%|█████     | 1167/2295 [00:45<00:37, 30.18it/s]"
          ]
        },
        {
          "output_type": "stream",
          "name": "stdout",
          "text": [
            "문서의 수 : 1165\n",
            "문서의 수 : 1166\n",
            "문서의 수 : 1167\n",
            "문서의 수 : 1168\n",
            "문서의 수 : 1169\n"
          ]
        },
        {
          "output_type": "stream",
          "name": "stderr",
          "text": [
            " 51%|█████     | 1174/2295 [00:45<00:47, 23.74it/s]"
          ]
        },
        {
          "output_type": "stream",
          "name": "stdout",
          "text": [
            "문서의 수 : 1170\n",
            "문서의 수 : 1171\n",
            "문서의 수 : 1172\n",
            "문서의 수 : 1173\n",
            "문서의 수 : 1174\n"
          ]
        },
        {
          "output_type": "stream",
          "name": "stderr",
          "text": [
            " 51%|█████▏    | 1180/2295 [00:45<00:44, 25.01it/s]"
          ]
        },
        {
          "output_type": "stream",
          "name": "stdout",
          "text": [
            "문서의 수 : 1175\n",
            "문서의 수 : 1176\n",
            "문서의 수 : 1177\n",
            "문서의 수 : 1178\n",
            "문서의 수 : 1179\n",
            "문서의 수 : 1180\n"
          ]
        },
        {
          "output_type": "stream",
          "name": "stderr",
          "text": [
            "\r 52%|█████▏    | 1183/2295 [00:45<00:50, 22.19it/s]"
          ]
        },
        {
          "output_type": "stream",
          "name": "stdout",
          "text": [
            "문서의 수 : 1181\n",
            "문서의 수 : 1182\n",
            "문서의 수 : 1183\n",
            "문서의 수 : 1184\n"
          ]
        },
        {
          "output_type": "stream",
          "name": "stderr",
          "text": [
            "\r 52%|█████▏    | 1186/2295 [00:46<00:53, 20.89it/s]"
          ]
        },
        {
          "output_type": "stream",
          "name": "stdout",
          "text": [
            "문서의 수 : 1185\n",
            "문서의 수 : 1186\n",
            "문서의 수 : 1187\n",
            "문서의 수 : 1188\n"
          ]
        },
        {
          "output_type": "stream",
          "name": "stderr",
          "text": [
            " 52%|█████▏    | 1192/2295 [00:46<00:50, 21.79it/s]"
          ]
        },
        {
          "output_type": "stream",
          "name": "stdout",
          "text": [
            "문서의 수 : 1189\n",
            "문서의 수 : 1190\n",
            "문서의 수 : 1191\n",
            "문서의 수 : 1192\n",
            "문서의 수 : 1193\n",
            "문서의 수 : 1194\n"
          ]
        },
        {
          "output_type": "stream",
          "name": "stderr",
          "text": [
            "\r 52%|█████▏    | 1195/2295 [00:46<00:48, 22.61it/s]"
          ]
        },
        {
          "output_type": "stream",
          "name": "stdout",
          "text": [
            "문서의 수 : 1195\n",
            "문서의 수 : 1196\n",
            "문서의 수 : 1197\n",
            "문서의 수 : 1198"
          ]
        },
        {
          "output_type": "stream",
          "name": "stderr",
          "text": [
            " 52%|█████▏    | 1201/2295 [00:46<00:58, 18.57it/s]"
          ]
        },
        {
          "output_type": "stream",
          "name": "stdout",
          "text": [
            "\n",
            "문서의 수 : 1199\n",
            "문서의 수 : 1200\n",
            "문서의 수 : 1201\n"
          ]
        },
        {
          "output_type": "stream",
          "name": "stderr",
          "text": [
            " 53%|█████▎    | 1209/2295 [00:47<00:43, 25.15it/s]"
          ]
        },
        {
          "output_type": "stream",
          "name": "stdout",
          "text": [
            "문서의 수 : 1202\n",
            "문서의 수 : 1203\n",
            "문서의 수 : 1204\n",
            "문서의 수 : 1205\n",
            "문서의 수 : 1206\n",
            "문서의 수 : 1207\n",
            "문서의 수 : 1208\n",
            "문서의 수 : 1209\n"
          ]
        },
        {
          "output_type": "stream",
          "name": "stderr",
          "text": [
            " 53%|█████▎    | 1215/2295 [00:47<00:43, 24.85it/s]"
          ]
        },
        {
          "output_type": "stream",
          "name": "stdout",
          "text": [
            "문서의 수 : 1210\n",
            "문서의 수 : 1211\n",
            "문서의 수 : 1212\n",
            "문서의 수 : 1213\n",
            "문서의 수 : 1214\n",
            "문서의 수 : 1215\n"
          ]
        },
        {
          "output_type": "stream",
          "name": "stderr",
          "text": [
            "\r 53%|█████▎    | 1218/2295 [00:47<00:42, 25.35it/s]"
          ]
        },
        {
          "output_type": "stream",
          "name": "stdout",
          "text": [
            "문서의 수 : 1216\n",
            "문서의 수 : 1217\n",
            "문서의 수 : 1218\n",
            "문서의 수 : 1219\n",
            "문서의 수 : 1220\n"
          ]
        },
        {
          "output_type": "stream",
          "name": "stderr",
          "text": [
            " 53%|█████▎    | 1225/2295 [00:47<00:42, 25.29it/s]"
          ]
        },
        {
          "output_type": "stream",
          "name": "stdout",
          "text": [
            "문서의 수 : 1221\n",
            "문서의 수 : 1222\n",
            "문서의 수 : 1223\n",
            "문서의 수 : 1224\n",
            "문서의 수 : 1225\n",
            "문서의 수 : 1226\n"
          ]
        },
        {
          "output_type": "stream",
          "name": "stderr",
          "text": [
            "\r 54%|█████▎    | 1228/2295 [00:47<00:42, 24.95it/s]"
          ]
        },
        {
          "output_type": "stream",
          "name": "stdout",
          "text": [
            "문서의 수 : 1227\n",
            "문서의 수 : 1228\n",
            "문서의 수 : 1229\n",
            "문서의 수 : 1230\n"
          ]
        },
        {
          "output_type": "stream",
          "name": "stderr",
          "text": [
            " 54%|█████▍    | 1234/2295 [00:48<00:46, 22.76it/s]"
          ]
        },
        {
          "output_type": "stream",
          "name": "stdout",
          "text": [
            "문서의 수 : 1231\n",
            "문서의 수 : 1232\n",
            "문서의 수 : 1233\n",
            "문서의 수 : 1234\n",
            "문서의 수 : 1235\n",
            "문서의 수 : 1236\n"
          ]
        },
        {
          "output_type": "stream",
          "name": "stderr",
          "text": [
            "\r 54%|█████▍    | 1237/2295 [00:48<00:46, 22.55it/s]"
          ]
        },
        {
          "output_type": "stream",
          "name": "stdout",
          "text": [
            "문서의 수 : 1237\n",
            "문서의 수 : 1238\n",
            "문서의 수 : 1239\n"
          ]
        },
        {
          "output_type": "stream",
          "name": "stderr",
          "text": [
            " 54%|█████▍    | 1243/2295 [00:48<00:49, 21.10it/s]"
          ]
        },
        {
          "output_type": "stream",
          "name": "stdout",
          "text": [
            "문서의 수 : 1240\n",
            "문서의 수 : 1241\n",
            "문서의 수 : 1242\n",
            "문서의 수 : 1243\n",
            "문서의 수 : 1244\n",
            "문서의 수 : 1245\n",
            "문서의 수 : 1246\n"
          ]
        },
        {
          "output_type": "stream",
          "name": "stderr",
          "text": [
            " 55%|█████▍    | 1252/2295 [00:48<00:33, 31.12it/s]"
          ]
        },
        {
          "output_type": "stream",
          "name": "stdout",
          "text": [
            "문서의 수 : 1247\n",
            "문서의 수 : 1248\n",
            "문서의 수 : 1249\n",
            "문서의 수 : 1250\n",
            "문서의 수 : 1251\n",
            "문서의 수 : 1252\n",
            "문서의 수 : 1253\n",
            "문서의 수 : 1254\n",
            "문서의 수 : 1255\n",
            "문서의 수 : 1256\n"
          ]
        },
        {
          "output_type": "stream",
          "name": "stderr",
          "text": [
            " 55%|█████▍    | 1261/2295 [00:49<00:30, 34.05it/s]"
          ]
        },
        {
          "output_type": "stream",
          "name": "stdout",
          "text": [
            "문서의 수 : 1257\n",
            "문서의 수 : 1258\n",
            "문서의 수 : 1259\n",
            "문서의 수 : 1260\n",
            "문서의 수 : 1261\n",
            "문서의 수 : 1262\n",
            "문서의 수 : 1263\n",
            "문서의 수 : 1264\n"
          ]
        },
        {
          "output_type": "stream",
          "name": "stderr",
          "text": [
            " 55%|█████▌    | 1269/2295 [00:49<00:33, 30.39it/s]"
          ]
        },
        {
          "output_type": "stream",
          "name": "stdout",
          "text": [
            "문서의 수 : 1265\n",
            "문서의 수 : 1266\n",
            "문서의 수 : 1267\n",
            "문서의 수 : 1268\n",
            "문서의 수 : 1269\n",
            "문서의 수 : 1270\n",
            "문서의 수 : 1271\n"
          ]
        },
        {
          "output_type": "stream",
          "name": "stderr",
          "text": [
            " 56%|█████▌    | 1277/2295 [00:49<00:29, 34.21it/s]"
          ]
        },
        {
          "output_type": "stream",
          "name": "stdout",
          "text": [
            "문서의 수 : 1272\n",
            "문서의 수 : 1273\n",
            "문서의 수 : 1274\n",
            "문서의 수 : 1275\n",
            "문서의 수 : 1276\n",
            "문서의 수 : 1277\n",
            "문서의 수 : 1278\n",
            "문서의 수 : 1279\n"
          ]
        },
        {
          "output_type": "stream",
          "name": "stderr",
          "text": [
            " 56%|█████▌    | 1285/2295 [00:49<00:31, 31.67it/s]"
          ]
        },
        {
          "output_type": "stream",
          "name": "stdout",
          "text": [
            "문서의 수 : 1280\n",
            "문서의 수 : 1281\n",
            "문서의 수 : 1282\n",
            "문서의 수 : 1283\n",
            "문서의 수 : 1284\n",
            "문서의 수 : 1285\n",
            "문서의 수 : 1286\n"
          ]
        },
        {
          "output_type": "stream",
          "name": "stderr",
          "text": [
            "\r 56%|█████▌    | 1289/2295 [00:50<00:40, 24.57it/s]"
          ]
        },
        {
          "output_type": "stream",
          "name": "stdout",
          "text": [
            "문서의 수 : 1287\n",
            "문서의 수 : 1288\n",
            "문서의 수 : 1289\n",
            "문서의 수 : 1290\n",
            "문서의 수 : 1291\n"
          ]
        },
        {
          "output_type": "stream",
          "name": "stderr",
          "text": [
            " 57%|█████▋    | 1299/2295 [00:50<00:37, 26.36it/s]"
          ]
        },
        {
          "output_type": "stream",
          "name": "stdout",
          "text": [
            "문서의 수 : 1292\n",
            "문서의 수 : 1293\n",
            "문서의 수 : 1294\n",
            "문서의 수 : 1295\n",
            "문서의 수 : 1296\n",
            "문서의 수 : 1297\n",
            "문서의 수 : 1298\n",
            "문서의 수 : 1299\n"
          ]
        },
        {
          "output_type": "stream",
          "name": "stderr",
          "text": [
            " 57%|█████▋    | 1306/2295 [00:50<00:35, 27.67it/s]"
          ]
        },
        {
          "output_type": "stream",
          "name": "stdout",
          "text": [
            "문서의 수 : 1300\n",
            "문서의 수 : 1301\n",
            "문서의 수 : 1302\n",
            "문서의 수 : 1303\n",
            "문서의 수 : 1304\n",
            "문서의 수 : 1305\n",
            "문서의 수 : 1306\n"
          ]
        },
        {
          "output_type": "stream",
          "name": "stderr",
          "text": [
            " 57%|█████▋    | 1313/2295 [00:50<00:33, 29.02it/s]"
          ]
        },
        {
          "output_type": "stream",
          "name": "stdout",
          "text": [
            "문서의 수 : 1307\n",
            "문서의 수 : 1308\n",
            "문서의 수 : 1309\n",
            "문서의 수 : 1310\n",
            "문서의 수 : 1311\n",
            "문서의 수 : 1312\n",
            "문서의 수 : 1313\n"
          ]
        },
        {
          "output_type": "stream",
          "name": "stderr",
          "text": [
            " 57%|█████▋    | 1319/2295 [00:51<00:35, 27.83it/s]"
          ]
        },
        {
          "output_type": "stream",
          "name": "stdout",
          "text": [
            "문서의 수 : 1314\n",
            "문서의 수 : 1315\n",
            "문서의 수 : 1316\n",
            "문서의 수 : 1317\n",
            "문서의 수 : 1318\n",
            "문서의 수 : 1319\n",
            "문서의 수 : 1320\n"
          ]
        },
        {
          "output_type": "stream",
          "name": "stderr",
          "text": [
            " 58%|█████▊    | 1325/2295 [00:51<00:47, 20.63it/s]"
          ]
        },
        {
          "output_type": "stream",
          "name": "stdout",
          "text": [
            "문서의 수 : 1321\n",
            "문서의 수 : 1322\n",
            "문서의 수 : 1323\n",
            "문서의 수 : 1324\n",
            "문서의 수 : 1325\n",
            "문서의 수 : 1326\n",
            "문서의 수 : 1327\n",
            "문서의 수 : 1328\n"
          ]
        },
        {
          "output_type": "stream",
          "name": "stderr",
          "text": [
            " 58%|█████▊    | 1334/2295 [00:51<00:32, 29.55it/s]"
          ]
        },
        {
          "output_type": "stream",
          "name": "stdout",
          "text": [
            "문서의 수 : 1329\n",
            "문서의 수 : 1330\n",
            "문서의 수 : 1331\n",
            "문서의 수 : 1332\n",
            "문서의 수 : 1333\n",
            "문서의 수 : 1334\n",
            "문서의 수 : 1335\n",
            "문서의 수 : 1336\n",
            "문서의 수 : 1337\n"
          ]
        },
        {
          "output_type": "stream",
          "name": "stderr",
          "text": [
            " 59%|█████▊    | 1344/2295 [00:51<00:26, 36.40it/s]"
          ]
        },
        {
          "output_type": "stream",
          "name": "stdout",
          "text": [
            "문서의 수 : 1338\n",
            "문서의 수 : 1339\n",
            "문서의 수 : 1340\n",
            "문서의 수 : 1341\n",
            "문서의 수 : 1342\n",
            "문서의 수 : 1343\n",
            "문서의 수 : 1344\n",
            "문서의 수 : 1345\n",
            "문서의 수 : 1346\n"
          ]
        },
        {
          "output_type": "stream",
          "name": "stderr",
          "text": [
            " 59%|█████▉    | 1352/2295 [00:52<00:25, 36.32it/s]"
          ]
        },
        {
          "output_type": "stream",
          "name": "stdout",
          "text": [
            "문서의 수 : 1347\n",
            "문서의 수 : 1348\n",
            "문서의 수 : 1349\n",
            "문서의 수 : 1350\n",
            "문서의 수 : 1351\n",
            "문서의 수 : 1352\n",
            "문서의 수 : 1353\n",
            "문서의 수 : 1354\n",
            "문서의 수 : 1355\n"
          ]
        },
        {
          "output_type": "stream",
          "name": "stderr",
          "text": [
            " 59%|█████▉    | 1360/2295 [00:52<00:27, 33.80it/s]"
          ]
        },
        {
          "output_type": "stream",
          "name": "stdout",
          "text": [
            "문서의 수 : 1356\n",
            "문서의 수 : 1357\n",
            "문서의 수 : 1358\n",
            "문서의 수 : 1359\n",
            "문서의 수 : 1360\n",
            "문서의 수 : 1361\n",
            "문서의 수 : 1362\n",
            "문서의 수 : 1363\n"
          ]
        },
        {
          "output_type": "stream",
          "name": "stderr",
          "text": [
            " 60%|█████▉    | 1368/2295 [00:52<00:27, 33.70it/s]"
          ]
        },
        {
          "output_type": "stream",
          "name": "stdout",
          "text": [
            "문서의 수 : 1364\n",
            "문서의 수 : 1365\n",
            "문서의 수 : 1366\n",
            "문서의 수 : 1367\n",
            "문서의 수 : 1368\n",
            "문서의 수 : 1369\n"
          ]
        },
        {
          "output_type": "stream",
          "name": "stderr",
          "text": [
            "\r 60%|█████▉    | 1372/2295 [00:52<00:29, 31.29it/s]"
          ]
        },
        {
          "output_type": "stream",
          "name": "stdout",
          "text": [
            "문서의 수 : 1370\n",
            "문서의 수 : 1371\n",
            "문서의 수 : 1372\n",
            "문서의 수 : 1373\n",
            "문서의 수 : 1374\n"
          ]
        },
        {
          "output_type": "stream",
          "name": "stderr",
          "text": [
            " 60%|██████    | 1380/2295 [00:53<00:31, 28.81it/s]"
          ]
        },
        {
          "output_type": "stream",
          "name": "stdout",
          "text": [
            "문서의 수 : 1375\n",
            "문서의 수 : 1376\n",
            "문서의 수 : 1377\n",
            "문서의 수 : 1378\n",
            "문서의 수 : 1379\n",
            "문서의 수 : 1380\n"
          ]
        },
        {
          "output_type": "stream",
          "name": "stderr",
          "text": [
            " 60%|██████    | 1386/2295 [00:53<00:32, 27.88it/s]"
          ]
        },
        {
          "output_type": "stream",
          "name": "stdout",
          "text": [
            "문서의 수 : 1381\n",
            "문서의 수 : 1382\n",
            "문서의 수 : 1383\n",
            "문서의 수 : 1384\n",
            "문서의 수 : 1385\n",
            "문서의 수 : 1386\n",
            "문서의 수 : 1387\n",
            "문서의 수 : 1388\n"
          ]
        },
        {
          "output_type": "stream",
          "name": "stderr",
          "text": [
            " 61%|██████    | 1395/2295 [00:53<00:27, 32.89it/s]"
          ]
        },
        {
          "output_type": "stream",
          "name": "stdout",
          "text": [
            "문서의 수 : 1389\n",
            "문서의 수 : 1390\n",
            "문서의 수 : 1391\n",
            "문서의 수 : 1392\n",
            "문서의 수 : 1393\n",
            "문서의 수 : 1394\n",
            "문서의 수 : 1395\n",
            "문서의 수 : 1396\n",
            "문서의 수 : 1397\n",
            "문서의 수 : 1398\n"
          ]
        },
        {
          "output_type": "stream",
          "name": "stderr",
          "text": [
            " 61%|██████    | 1404/2295 [00:53<00:26, 33.84it/s]"
          ]
        },
        {
          "output_type": "stream",
          "name": "stdout",
          "text": [
            "문서의 수 : 1399\n",
            "문서의 수 : 1400\n",
            "문서의 수 : 1401\n",
            "문서의 수 : 1402\n",
            "문서의 수 : 1403\n",
            "문서의 수 : 1404\n",
            "문서의 수 : 1405\n",
            "문서의 수 : 1406\n",
            "문서의 수 : 1407\n"
          ]
        },
        {
          "output_type": "stream",
          "name": "stderr",
          "text": [
            " 62%|██████▏   | 1412/2295 [00:54<00:26, 33.56it/s]"
          ]
        },
        {
          "output_type": "stream",
          "name": "stdout",
          "text": [
            "문서의 수 : 1408\n",
            "문서의 수 : 1409\n",
            "문서의 수 : 1410\n",
            "문서의 수 : 1411\n",
            "문서의 수 : 1412\n",
            "문서의 수 : 1413\n",
            "문서의 수 : 1414\n"
          ]
        },
        {
          "output_type": "stream",
          "name": "stderr",
          "text": [
            " 62%|██████▏   | 1420/2295 [00:54<00:28, 31.03it/s]"
          ]
        },
        {
          "output_type": "stream",
          "name": "stdout",
          "text": [
            "문서의 수 : 1415\n",
            "문서의 수 : 1416\n",
            "문서의 수 : 1417\n",
            "문서의 수 : 1418\n",
            "문서의 수 : 1419\n",
            "문서의 수 : 1420\n",
            "문서의 수 : 1421\n"
          ]
        },
        {
          "output_type": "stream",
          "name": "stderr",
          "text": [
            " 62%|██████▏   | 1428/2295 [00:54<00:27, 32.05it/s]"
          ]
        },
        {
          "output_type": "stream",
          "name": "stdout",
          "text": [
            "문서의 수 : 1422\n",
            "문서의 수 : 1423\n",
            "문서의 수 : 1424\n",
            "문서의 수 : 1425\n",
            "문서의 수 : 1426\n",
            "문서의 수 : 1427\n",
            "문서의 수 : 1428\n"
          ]
        },
        {
          "output_type": "stream",
          "name": "stderr",
          "text": [
            "\r 62%|██████▏   | 1432/2295 [00:54<00:34, 24.95it/s]"
          ]
        },
        {
          "output_type": "stream",
          "name": "stdout",
          "text": [
            "문서의 수 : 1429\n",
            "문서의 수 : 1430\n",
            "문서의 수 : 1431\n",
            "문서의 수 : 1432\n",
            "문서의 수 : 1433\n"
          ]
        },
        {
          "output_type": "stream",
          "name": "stderr",
          "text": [
            " 63%|██████▎   | 1439/2295 [00:55<00:31, 27.40it/s]"
          ]
        },
        {
          "output_type": "stream",
          "name": "stdout",
          "text": [
            "문서의 수 : 1434\n",
            "문서의 수 : 1435\n",
            "문서의 수 : 1436\n",
            "문서의 수 : 1437\n",
            "문서의 수 : 1438\n",
            "문서의 수 : 1439\n"
          ]
        },
        {
          "output_type": "stream",
          "name": "stderr",
          "text": [
            "\r 63%|██████▎   | 1442/2295 [00:55<00:39, 21.53it/s]"
          ]
        },
        {
          "output_type": "stream",
          "name": "stdout",
          "text": [
            "문서의 수 : 1440\n",
            "문서의 수 : 1441\n",
            "문서의 수 : 1442\n",
            "문서의 수 : 1443\n",
            "문서의 수 : 1444\n"
          ]
        },
        {
          "output_type": "stream",
          "name": "stderr",
          "text": [
            " 63%|██████▎   | 1448/2295 [00:55<00:38, 22.28it/s]"
          ]
        },
        {
          "output_type": "stream",
          "name": "stdout",
          "text": [
            "문서의 수 : 1445\n",
            "문서의 수 : 1446\n",
            "문서의 수 : 1447\n",
            "문서의 수 : 1448\n",
            "문서의 수 : 1449\n",
            "문서의 수 : 1450\n"
          ]
        },
        {
          "output_type": "stream",
          "name": "stderr",
          "text": [
            " 63%|██████▎   | 1456/2295 [00:55<00:29, 28.13it/s]"
          ]
        },
        {
          "output_type": "stream",
          "name": "stdout",
          "text": [
            "문서의 수 : 1451\n",
            "문서의 수 : 1452\n",
            "문서의 수 : 1453\n",
            "문서의 수 : 1454\n",
            "문서의 수 : 1455\n",
            "문서의 수 : 1456\n",
            "문서의 수 : 1457\n",
            "문서의 수 : 1458\n"
          ]
        },
        {
          "output_type": "stream",
          "name": "stderr",
          "text": [
            " 64%|██████▎   | 1462/2295 [00:56<00:35, 23.57it/s]"
          ]
        },
        {
          "output_type": "stream",
          "name": "stdout",
          "text": [
            "문서의 수 : 1459\n",
            "문서의 수 : 1460\n",
            "문서의 수 : 1461\n",
            "문서의 수 : 1462\n",
            "문서의 수 : 1463\n",
            "문서의 수 : 1464\n"
          ]
        },
        {
          "output_type": "stream",
          "name": "stderr",
          "text": [
            " 64%|██████▍   | 1471/2295 [00:56<00:26, 31.67it/s]"
          ]
        },
        {
          "output_type": "stream",
          "name": "stdout",
          "text": [
            "문서의 수 : 1465\n",
            "문서의 수 : 1466\n",
            "문서의 수 : 1467\n",
            "문서의 수 : 1468\n",
            "문서의 수 : 1469\n",
            "문서의 수 : 1470\n",
            "문서의 수 : 1471\n",
            "문서의 수 : 1472\n",
            "문서의 수 : 1473\n"
          ]
        },
        {
          "output_type": "stream",
          "name": "stderr",
          "text": [
            " 64%|██████▍   | 1479/2295 [00:56<00:27, 29.41it/s]"
          ]
        },
        {
          "output_type": "stream",
          "name": "stdout",
          "text": [
            "문서의 수 : 1474\n",
            "문서의 수 : 1475\n",
            "문서의 수 : 1476\n",
            "문서의 수 : 1477\n",
            "문서의 수 : 1478\n",
            "문서의 수 : 1479\n"
          ]
        },
        {
          "output_type": "stream",
          "name": "stderr",
          "text": [
            "\r 65%|██████▍   | 1483/2295 [00:56<00:29, 27.57it/s]"
          ]
        },
        {
          "output_type": "stream",
          "name": "stdout",
          "text": [
            "문서의 수 : 1480\n",
            "문서의 수 : 1481\n",
            "문서의 수 : 1482\n",
            "문서의 수 : 1483\n",
            "문서의 수 : 1484\n",
            "문서의 수 : 1485\n"
          ]
        },
        {
          "output_type": "stream",
          "name": "stderr",
          "text": [
            " 65%|██████▍   | 1490/2295 [00:57<00:31, 25.71it/s]"
          ]
        },
        {
          "output_type": "stream",
          "name": "stdout",
          "text": [
            "문서의 수 : 1486\n",
            "문서의 수 : 1487\n",
            "문서의 수 : 1488\n",
            "문서의 수 : 1489\n",
            "문서의 수 : 1490\n",
            "문서의 수 : 1491\n",
            "문서의 수 : 1492\n"
          ]
        },
        {
          "output_type": "stream",
          "name": "stderr",
          "text": [
            "\r 65%|██████▌   | 1495/2295 [00:57<00:28, 27.68it/s]"
          ]
        },
        {
          "output_type": "stream",
          "name": "stdout",
          "text": [
            "문서의 수 : 1493\n",
            "문서의 수 : 1494\n",
            "문서의 수 : 1495\n"
          ]
        },
        {
          "output_type": "stream",
          "name": "stderr",
          "text": [
            " 65%|██████▌   | 1502/2295 [00:57<00:39, 20.13it/s]"
          ]
        },
        {
          "output_type": "stream",
          "name": "stdout",
          "text": [
            "문서의 수 : 1496\n",
            "문서의 수 : 1497\n",
            "문서의 수 : 1498\n",
            "문서의 수 : 1499\n",
            "문서의 수 : 1500\n",
            "문서의 수 : 1501\n",
            "문서의 수 : 1502\n"
          ]
        },
        {
          "output_type": "stream",
          "name": "stderr",
          "text": [
            " 66%|██████▌   | 1509/2295 [00:58<00:35, 22.24it/s]"
          ]
        },
        {
          "output_type": "stream",
          "name": "stdout",
          "text": [
            "문서의 수 : 1503\n",
            "문서의 수 : 1504\n",
            "문서의 수 : 1505\n",
            "문서의 수 : 1506\n",
            "문서의 수 : 1507\n",
            "문서의 수 : 1508\n",
            "문서의 수 : 1509\n"
          ]
        },
        {
          "output_type": "stream",
          "name": "stderr",
          "text": [
            "\r 66%|██████▌   | 1513/2295 [00:58<00:32, 23.78it/s]"
          ]
        },
        {
          "output_type": "stream",
          "name": "stdout",
          "text": [
            "문서의 수 : 1510\n",
            "문서의 수 : 1511\n",
            "문서의 수 : 1512\n",
            "문서의 수 : 1513\n",
            "문서의 수 : 1514\n",
            "문서의 수 : 1515\n"
          ]
        },
        {
          "output_type": "stream",
          "name": "stderr",
          "text": [
            " 66%|██████▌   | 1519/2295 [00:58<00:32, 23.81it/s]"
          ]
        },
        {
          "output_type": "stream",
          "name": "stdout",
          "text": [
            "문서의 수 : 1516\n",
            "문서의 수 : 1517\n",
            "문서의 수 : 1518\n",
            "문서의 수 : 1519\n",
            "문서의 수 : 1520\n",
            "문서의 수 : 1521\n"
          ]
        },
        {
          "output_type": "stream",
          "name": "stderr",
          "text": [
            " 66%|██████▋   | 1526/2295 [00:58<00:30, 25.54it/s]"
          ]
        },
        {
          "output_type": "stream",
          "name": "stdout",
          "text": [
            "문서의 수 : 1522\n",
            "문서의 수 : 1523\n",
            "문서의 수 : 1524\n",
            "문서의 수 : 1525\n",
            "문서의 수 : 1526\n",
            "문서의 수 : 1527\n",
            "문서의 수 : 1528\n"
          ]
        },
        {
          "output_type": "stream",
          "name": "stderr",
          "text": [
            " 67%|██████▋   | 1533/2295 [00:59<00:31, 24.24it/s]"
          ]
        },
        {
          "output_type": "stream",
          "name": "stdout",
          "text": [
            "문서의 수 : 1529\n",
            "문서의 수 : 1530\n",
            "문서의 수 : 1531\n",
            "문서의 수 : 1532\n",
            "문서의 수 : 1533\n"
          ]
        },
        {
          "output_type": "stream",
          "name": "stderr",
          "text": [
            "\r 67%|██████▋   | 1536/2295 [00:59<00:33, 22.39it/s]"
          ]
        },
        {
          "output_type": "stream",
          "name": "stdout",
          "text": [
            "문서의 수 : 1534\n",
            "문서의 수 : 1535\n",
            "문서의 수 : 1536\n",
            "문서의 수 : 1537\n"
          ]
        },
        {
          "output_type": "stream",
          "name": "stderr",
          "text": [
            "\r 67%|██████▋   | 1539/2295 [00:59<00:35, 21.42it/s]"
          ]
        },
        {
          "output_type": "stream",
          "name": "stdout",
          "text": [
            "문서의 수 : 1538\n",
            "문서의 수 : 1539\n",
            "문서의 수 : 1540\n",
            "문서의 수 : 1541\n"
          ]
        },
        {
          "output_type": "stream",
          "name": "stderr",
          "text": [
            " 67%|██████▋   | 1545/2295 [00:59<00:37, 19.81it/s]"
          ]
        },
        {
          "output_type": "stream",
          "name": "stdout",
          "text": [
            "문서의 수 : 1542\n",
            "문서의 수 : 1543\n",
            "문서의 수 : 1544\n",
            "문서의 수 : 1545\n",
            "문서의 수 : 1546\n"
          ]
        },
        {
          "output_type": "stream",
          "name": "stderr",
          "text": [
            " 68%|██████▊   | 1551/2295 [00:59<00:32, 23.24it/s]"
          ]
        },
        {
          "output_type": "stream",
          "name": "stdout",
          "text": [
            "문서의 수 : 1547\n",
            "문서의 수 : 1548\n",
            "문서의 수 : 1549\n",
            "문서의 수 : 1550\n",
            "문서의 수 : 1551\n",
            "문서의 수 : 1552\n"
          ]
        },
        {
          "output_type": "stream",
          "name": "stderr",
          "text": [
            " 68%|██████▊   | 1557/2295 [01:00<00:33, 22.29it/s]"
          ]
        },
        {
          "output_type": "stream",
          "name": "stdout",
          "text": [
            "문서의 수 : 1553\n",
            "문서의 수 : 1554\n",
            "문서의 수 : 1555\n",
            "문서의 수 : 1556\n",
            "문서의 수 : 1557\n"
          ]
        },
        {
          "output_type": "stream",
          "name": "stderr",
          "text": [
            "\r 68%|██████▊   | 1560/2295 [01:00<00:34, 21.61it/s]"
          ]
        },
        {
          "output_type": "stream",
          "name": "stdout",
          "text": [
            "문서의 수 : 1558\n",
            "문서의 수 : 1559\n",
            "문서의 수 : 1560\n",
            "문서의 수 : 1561\n",
            "문서의 수 : 1562\n"
          ]
        },
        {
          "output_type": "stream",
          "name": "stderr",
          "text": [
            " 68%|██████▊   | 1566/2295 [01:00<00:38, 18.87it/s]"
          ]
        },
        {
          "output_type": "stream",
          "name": "stdout",
          "text": [
            "문서의 수 : 1563\n",
            "문서의 수 : 1564\n",
            "문서의 수 : 1565\n",
            "문서의 수 : 1566\n"
          ]
        },
        {
          "output_type": "stream",
          "name": "stderr",
          "text": [
            " 68%|██████▊   | 1570/2295 [01:00<00:39, 18.58it/s]"
          ]
        },
        {
          "output_type": "stream",
          "name": "stdout",
          "text": [
            "문서의 수 : 1567\n",
            "문서의 수 : 1568\n",
            "문서의 수 : 1569\n",
            "문서의 수 : 1570\n",
            "문서의 수 : 1571\n"
          ]
        },
        {
          "output_type": "stream",
          "name": "stderr",
          "text": [
            " 69%|██████▊   | 1575/2295 [01:01<00:33, 21.32it/s]"
          ]
        },
        {
          "output_type": "stream",
          "name": "stdout",
          "text": [
            "문서의 수 : 1572\n",
            "문서의 수 : 1573\n",
            "문서의 수 : 1574\n",
            "문서의 수 : 1575\n",
            "문서의 수 : 1576\n"
          ]
        },
        {
          "output_type": "stream",
          "name": "stderr",
          "text": [
            " 69%|██████▉   | 1581/2295 [01:01<00:35, 20.29it/s]"
          ]
        },
        {
          "output_type": "stream",
          "name": "stdout",
          "text": [
            "문서의 수 : 1577\n",
            "문서의 수 : 1578\n",
            "문서의 수 : 1579\n",
            "문서의 수 : 1580\n",
            "문서의 수 : 1581\n"
          ]
        },
        {
          "output_type": "stream",
          "name": "stderr",
          "text": [
            "\r 69%|██████▉   | 1584/2295 [01:01<00:39, 18.20it/s]"
          ]
        },
        {
          "output_type": "stream",
          "name": "stdout",
          "text": [
            "문서의 수 : 1582\n",
            "문서의 수 : 1583\n",
            "문서의 수 : 1584\n",
            "문서의 수 : 1585\n",
            "문서의 수 : 1586\n"
          ]
        },
        {
          "output_type": "stream",
          "name": "stderr",
          "text": [
            " 69%|██████▉   | 1592/2295 [01:01<00:29, 24.06it/s]"
          ]
        },
        {
          "output_type": "stream",
          "name": "stdout",
          "text": [
            "문서의 수 : 1587\n",
            "문서의 수 : 1588\n",
            "문서의 수 : 1589\n",
            "문서의 수 : 1590\n",
            "문서의 수 : 1591\n",
            "문서의 수 : 1592\n"
          ]
        },
        {
          "output_type": "stream",
          "name": "stderr",
          "text": [
            " 70%|██████▉   | 1599/2295 [01:02<00:24, 28.63it/s]"
          ]
        },
        {
          "output_type": "stream",
          "name": "stdout",
          "text": [
            "문서의 수 : 1593\n",
            "문서의 수 : 1594\n",
            "문서의 수 : 1595\n",
            "문서의 수 : 1596\n",
            "문서의 수 : 1597\n",
            "문서의 수 : 1598\n",
            "문서의 수 : 1599\n",
            "문서의 수 : 1600\n"
          ]
        },
        {
          "output_type": "stream",
          "name": "stderr",
          "text": [
            " 70%|███████   | 1608/2295 [01:02<00:19, 35.19it/s]"
          ]
        },
        {
          "output_type": "stream",
          "name": "stdout",
          "text": [
            "문서의 수 : 1601\n",
            "문서의 수 : 1602\n",
            "문서의 수 : 1603\n",
            "문서의 수 : 1604\n",
            "문서의 수 : 1605\n",
            "문서의 수 : 1606\n",
            "문서의 수 : 1607\n",
            "문서의 수 : 1608\n",
            "문서의 수 : 1609\n"
          ]
        },
        {
          "output_type": "stream",
          "name": "stderr",
          "text": [
            " 70%|███████   | 1617/2295 [01:02<00:19, 35.66it/s]"
          ]
        },
        {
          "output_type": "stream",
          "name": "stdout",
          "text": [
            "문서의 수 : 1610\n",
            "문서의 수 : 1611\n",
            "문서의 수 : 1612\n",
            "문서의 수 : 1613\n",
            "문서의 수 : 1614\n",
            "문서의 수 : 1615\n",
            "문서의 수 : 1616\n",
            "문서의 수 : 1617\n"
          ]
        },
        {
          "output_type": "stream",
          "name": "stderr",
          "text": [
            " 71%|███████   | 1625/2295 [01:02<00:20, 32.78it/s]"
          ]
        },
        {
          "output_type": "stream",
          "name": "stdout",
          "text": [
            "문서의 수 : 1618\n",
            "문서의 수 : 1619\n",
            "문서의 수 : 1620\n",
            "문서의 수 : 1621\n",
            "문서의 수 : 1622\n",
            "문서의 수 : 1623\n",
            "문서의 수 : 1624\n",
            "문서의 수 : 1625\n"
          ]
        },
        {
          "output_type": "stream",
          "name": "stderr",
          "text": [
            " 71%|███████   | 1634/2295 [01:03<00:19, 33.28it/s]"
          ]
        },
        {
          "output_type": "stream",
          "name": "stdout",
          "text": [
            "문서의 수 : 1626\n",
            "문서의 수 : 1627\n",
            "문서의 수 : 1628\n",
            "문서의 수 : 1629\n",
            "문서의 수 : 1630\n",
            "문서의 수 : 1631\n",
            "문서의 수 : 1632\n",
            "문서의 수 : 1633\n",
            "문서의 수 : 1634\n"
          ]
        },
        {
          "output_type": "stream",
          "name": "stderr",
          "text": [
            "\r 71%|███████▏  | 1638/2295 [01:03<00:21, 30.85it/s]"
          ]
        },
        {
          "output_type": "stream",
          "name": "stdout",
          "text": [
            "문서의 수 : 1635\n",
            "문서의 수 : 1636\n",
            "문서의 수 : 1637\n",
            "문서의 수 : 1638\n",
            "문서의 수 : 1639\n",
            "문서의 수 : 1640\n"
          ]
        },
        {
          "output_type": "stream",
          "name": "stderr",
          "text": [
            "\r 72%|███████▏  | 1642/2295 [01:03<00:23, 27.57it/s]"
          ]
        },
        {
          "output_type": "stream",
          "name": "stdout",
          "text": [
            "문서의 수 : 1641\n",
            "문서의 수 : 1642\n",
            "문서의 수 : 1643\n",
            "문서의 수 : 1644\n",
            "문서의 수 : 1645\n"
          ]
        },
        {
          "output_type": "stream",
          "name": "stderr",
          "text": [
            "\r 72%|███████▏  | 1646/2295 [01:03<00:25, 25.90it/s]"
          ]
        },
        {
          "output_type": "stream",
          "name": "stdout",
          "text": [
            "문서의 수 : 1646\n",
            "문서의 수 : 1647\n"
          ]
        },
        {
          "output_type": "stream",
          "name": "stderr",
          "text": [
            "\r 72%|███████▏  | 1649/2295 [01:03<00:31, 20.73it/s]"
          ]
        },
        {
          "output_type": "stream",
          "name": "stdout",
          "text": [
            "문서의 수 : 1648\n",
            "문서의 수 : 1649\n",
            "문서의 수 : 1650\n",
            "문서의 수 : 1651\n"
          ]
        },
        {
          "output_type": "stream",
          "name": "stderr",
          "text": [
            " 72%|███████▏  | 1655/2295 [01:04<00:32, 20.00it/s]"
          ]
        },
        {
          "output_type": "stream",
          "name": "stdout",
          "text": [
            "문서의 수 : 1652\n",
            "문서의 수 : 1653\n",
            "문서의 수 : 1654\n",
            "문서의 수 : 1655\n",
            "문서의 수 : 1656\n"
          ]
        },
        {
          "output_type": "stream",
          "name": "stderr",
          "text": [
            " 72%|███████▏  | 1662/2295 [01:04<00:26, 23.95it/s]"
          ]
        },
        {
          "output_type": "stream",
          "name": "stdout",
          "text": [
            "문서의 수 : 1657\n",
            "문서의 수 : 1658\n",
            "문서의 수 : 1659\n",
            "문서의 수 : 1660\n",
            "문서의 수 : 1661\n",
            "문서의 수 : 1662\n",
            "문서의 수 : 1663\n"
          ]
        },
        {
          "output_type": "stream",
          "name": "stderr",
          "text": [
            " 73%|███████▎  | 1668/2295 [01:04<00:26, 23.25it/s]"
          ]
        },
        {
          "output_type": "stream",
          "name": "stdout",
          "text": [
            "문서의 수 : 1664\n",
            "문서의 수 : 1665\n",
            "문서의 수 : 1666\n",
            "문서의 수 : 1667\n",
            "문서의 수 : 1668\n"
          ]
        },
        {
          "output_type": "stream",
          "name": "stderr",
          "text": [
            " 73%|███████▎  | 1674/2295 [01:04<00:25, 23.89it/s]"
          ]
        },
        {
          "output_type": "stream",
          "name": "stdout",
          "text": [
            "문서의 수 : 1669\n",
            "문서의 수 : 1670\n",
            "문서의 수 : 1671\n",
            "문서의 수 : 1672\n",
            "문서의 수 : 1673\n",
            "문서의 수 : 1674\n"
          ]
        },
        {
          "output_type": "stream",
          "name": "stderr",
          "text": [
            " 73%|███████▎  | 1680/2295 [01:05<00:27, 22.25it/s]"
          ]
        },
        {
          "output_type": "stream",
          "name": "stdout",
          "text": [
            "문서의 수 : 1675\n",
            "문서의 수 : 1676\n",
            "문서의 수 : 1677\n",
            "문서의 수 : 1678\n",
            "문서의 수 : 1679\n",
            "문서의 수 : 1680\n"
          ]
        },
        {
          "output_type": "stream",
          "name": "stderr",
          "text": [
            "\r 73%|███████▎  | 1683/2295 [01:05<00:28, 21.55it/s]"
          ]
        },
        {
          "output_type": "stream",
          "name": "stdout",
          "text": [
            "문서의 수 : 1681\n",
            "문서의 수 : 1682\n",
            "문서의 수 : 1683\n",
            "문서의 수 : 1684\n"
          ]
        },
        {
          "output_type": "stream",
          "name": "stderr",
          "text": [
            " 74%|███████▎  | 1689/2295 [01:05<00:26, 23.24it/s]"
          ]
        },
        {
          "output_type": "stream",
          "name": "stdout",
          "text": [
            "문서의 수 : 1685\n",
            "문서의 수 : 1686\n",
            "문서의 수 : 1687\n",
            "문서의 수 : 1688\n",
            "문서의 수 : 1689\n",
            "문서의 수 : 1690\n",
            "문서의 수 : 1691\n"
          ]
        },
        {
          "output_type": "stream",
          "name": "stderr",
          "text": [
            " 74%|███████▍  | 1695/2295 [01:05<00:24, 24.58it/s]"
          ]
        },
        {
          "output_type": "stream",
          "name": "stdout",
          "text": [
            "문서의 수 : 1692\n",
            "문서의 수 : 1693\n",
            "문서의 수 : 1694\n",
            "문서의 수 : 1695\n",
            "문서의 수 : 1696\n",
            "문서의 수 : 1697\n"
          ]
        },
        {
          "output_type": "stream",
          "name": "stderr",
          "text": [
            " 74%|███████▍  | 1701/2295 [01:06<00:25, 22.99it/s]"
          ]
        },
        {
          "output_type": "stream",
          "name": "stdout",
          "text": [
            "문서의 수 : 1698\n",
            "문서의 수 : 1699\n",
            "문서의 수 : 1700\n",
            "문서의 수 : 1701\n",
            "문서의 수 : 1702\n"
          ]
        },
        {
          "output_type": "stream",
          "name": "stderr",
          "text": [
            " 74%|███████▍  | 1708/2295 [01:06<00:23, 25.25it/s]"
          ]
        },
        {
          "output_type": "stream",
          "name": "stdout",
          "text": [
            "문서의 수 : 1703\n",
            "문서의 수 : 1704\n",
            "문서의 수 : 1705\n",
            "문서의 수 : 1706\n",
            "문서의 수 : 1707\n",
            "문서의 수 : 1708\n",
            "문서의 수 : 1709\n",
            "문서의 수 : 1710\n"
          ]
        },
        {
          "output_type": "stream",
          "name": "stderr",
          "text": [
            " 75%|███████▍  | 1716/2295 [01:06<00:19, 30.28it/s]"
          ]
        },
        {
          "output_type": "stream",
          "name": "stdout",
          "text": [
            "문서의 수 : 1711\n",
            "문서의 수 : 1712\n",
            "문서의 수 : 1713\n",
            "문서의 수 : 1714\n",
            "문서의 수 : 1715\n",
            "문서의 수 : 1716\n",
            "문서의 수 : 1717\n",
            "문서의 수 : 1718\n"
          ]
        },
        {
          "output_type": "stream",
          "name": "stderr",
          "text": [
            " 75%|███████▌  | 1724/2295 [01:06<00:18, 30.61it/s]"
          ]
        },
        {
          "output_type": "stream",
          "name": "stdout",
          "text": [
            "문서의 수 : 1719\n",
            "문서의 수 : 1720\n",
            "문서의 수 : 1721\n",
            "문서의 수 : 1722\n",
            "문서의 수 : 1723\n",
            "문서의 수 : 1724\n",
            "문서의 수 : 1725\n"
          ]
        },
        {
          "output_type": "stream",
          "name": "stderr",
          "text": [
            " 75%|███████▌  | 1732/2295 [01:07<00:18, 29.73it/s]"
          ]
        },
        {
          "output_type": "stream",
          "name": "stdout",
          "text": [
            "문서의 수 : 1726\n",
            "문서의 수 : 1727\n",
            "문서의 수 : 1728\n",
            "문서의 수 : 1729\n",
            "문서의 수 : 1730\n",
            "문서의 수 : 1731\n",
            "문서의 수 : 1732\n"
          ]
        },
        {
          "output_type": "stream",
          "name": "stderr",
          "text": [
            "\r 76%|███████▌  | 1736/2295 [01:07<00:20, 27.41it/s]"
          ]
        },
        {
          "output_type": "stream",
          "name": "stdout",
          "text": [
            "문서의 수 : 1733\n",
            "문서의 수 : 1734\n",
            "문서의 수 : 1735\n",
            "문서의 수 : 1736\n",
            "문서의 수 : 1737\n",
            "문서의 수 : 1738\n"
          ]
        },
        {
          "output_type": "stream",
          "name": "stderr",
          "text": [
            " 76%|███████▌  | 1742/2295 [01:07<00:25, 21.59it/s]"
          ]
        },
        {
          "output_type": "stream",
          "name": "stdout",
          "text": [
            "문서의 수 : 1739\n",
            "문서의 수 : 1740\n",
            "문서의 수 : 1741\n",
            "문서의 수 : 1742\n",
            "문서의 수 : 1743\n"
          ]
        },
        {
          "output_type": "stream",
          "name": "stderr",
          "text": [
            " 76%|███████▌  | 1749/2295 [01:07<00:22, 24.12it/s]"
          ]
        },
        {
          "output_type": "stream",
          "name": "stdout",
          "text": [
            "문서의 수 : 1744\n",
            "문서의 수 : 1745\n",
            "문서의 수 : 1746\n",
            "문서의 수 : 1747\n",
            "문서의 수 : 1748\n",
            "문서의 수 : 1749\n",
            "문서의 수 : 1750\n"
          ]
        },
        {
          "output_type": "stream",
          "name": "stderr",
          "text": [
            "\r 76%|███████▋  | 1753/2295 [01:08<00:24, 22.28it/s]"
          ]
        },
        {
          "output_type": "stream",
          "name": "stdout",
          "text": [
            "문서의 수 : 1751\n",
            "문서의 수 : 1752\n",
            "문서의 수 : 1753\n",
            "문서의 수 : 1754\n"
          ]
        },
        {
          "output_type": "stream",
          "name": "stderr",
          "text": [
            " 77%|███████▋  | 1760/2295 [01:08<00:22, 23.88it/s]"
          ]
        },
        {
          "output_type": "stream",
          "name": "stdout",
          "text": [
            "문서의 수 : 1755\n",
            "문서의 수 : 1756\n",
            "문서의 수 : 1757\n",
            "문서의 수 : 1758\n",
            "문서의 수 : 1759\n",
            "문서의 수 : 1760\n"
          ]
        },
        {
          "output_type": "stream",
          "name": "stderr",
          "text": [
            "\r 77%|███████▋  | 1763/2295 [01:08<00:24, 21.94it/s]"
          ]
        },
        {
          "output_type": "stream",
          "name": "stdout",
          "text": [
            "문서의 수 : 1761\n",
            "문서의 수 : 1762\n",
            "문서의 수 : 1763\n",
            "문서의 수 : 1764\n",
            "문서의 수 : 1765\n"
          ]
        },
        {
          "output_type": "stream",
          "name": "stderr",
          "text": [
            " 77%|███████▋  | 1769/2295 [01:08<00:22, 22.89it/s]"
          ]
        },
        {
          "output_type": "stream",
          "name": "stdout",
          "text": [
            "문서의 수 : 1766\n",
            "문서의 수 : 1767\n",
            "문서의 수 : 1768\n",
            "문서의 수 : 1769\n",
            "문서의 수 : 1770\n"
          ]
        },
        {
          "output_type": "stream",
          "name": "stderr",
          "text": [
            " 77%|███████▋  | 1776/2295 [01:09<00:20, 25.89it/s]"
          ]
        },
        {
          "output_type": "stream",
          "name": "stdout",
          "text": [
            "문서의 수 : 1771\n",
            "문서의 수 : 1772\n",
            "문서의 수 : 1773\n",
            "문서의 수 : 1774\n",
            "문서의 수 : 1775\n",
            "문서의 수 : 1776\n",
            "문서의 수 : 1777\n",
            "문서의 수 : 1778\n"
          ]
        },
        {
          "output_type": "stream",
          "name": "stderr",
          "text": [
            " 78%|███████▊  | 1784/2295 [01:09<00:16, 31.10it/s]"
          ]
        },
        {
          "output_type": "stream",
          "name": "stdout",
          "text": [
            "문서의 수 : 1779\n",
            "문서의 수 : 1780\n",
            "문서의 수 : 1781\n",
            "문서의 수 : 1782\n",
            "문서의 수 : 1783\n",
            "문서의 수 : 1784\n",
            "문서의 수 : 1785\n",
            "문서의 수 : 1786\n",
            "문서의 수 : 1787\n"
          ]
        },
        {
          "output_type": "stream",
          "name": "stderr",
          "text": [
            " 78%|███████▊  | 1793/2295 [01:09<00:14, 33.53it/s]"
          ]
        },
        {
          "output_type": "stream",
          "name": "stdout",
          "text": [
            "문서의 수 : 1788\n",
            "문서의 수 : 1789\n",
            "문서의 수 : 1790\n",
            "문서의 수 : 1791\n",
            "문서의 수 : 1792\n",
            "문서의 수 : 1793\n",
            "문서의 수 : 1794\n"
          ]
        },
        {
          "output_type": "stream",
          "name": "stderr",
          "text": [
            "\r 78%|███████▊  | 1797/2295 [01:09<00:16, 29.47it/s]"
          ]
        },
        {
          "output_type": "stream",
          "name": "stdout",
          "text": [
            "문서의 수 : 1795\n",
            "문서의 수 : 1796\n",
            "문서의 수 : 1797\n",
            "문서의 수 : 1798\n",
            "문서의 수 : 1799\n",
            "문서의 수 : 1800\n"
          ]
        },
        {
          "output_type": "stream",
          "name": "stderr",
          "text": [
            " 79%|███████▊  | 1805/2295 [01:10<00:18, 27.21it/s]"
          ]
        },
        {
          "output_type": "stream",
          "name": "stdout",
          "text": [
            "문서의 수 : 1801\n",
            "문서의 수 : 1802\n",
            "문서의 수 : 1803\n",
            "문서의 수 : 1804\n",
            "문서의 수 : 1805\n",
            "문서의 수 : 1806\n",
            "문서의 수 : 1807\n"
          ]
        },
        {
          "output_type": "stream",
          "name": "stderr",
          "text": [
            "\r 79%|███████▉  | 1809/2295 [01:10<00:19, 24.85it/s]"
          ]
        },
        {
          "output_type": "stream",
          "name": "stdout",
          "text": [
            "문서의 수 : 1808\n",
            "문서의 수 : 1809\n",
            "문서의 수 : 1810\n",
            "문서의 수 : 1811\n"
          ]
        },
        {
          "output_type": "stream",
          "name": "stderr",
          "text": [
            " 79%|███████▉  | 1815/2295 [01:10<00:20, 23.51it/s]"
          ]
        },
        {
          "output_type": "stream",
          "name": "stdout",
          "text": [
            "문서의 수 : 1812\n",
            "문서의 수 : 1813\n",
            "문서의 수 : 1814\n",
            "문서의 수 : 1815\n",
            "문서의 수 : 1816\n",
            "문서의 수 : 1817\n"
          ]
        },
        {
          "output_type": "stream",
          "name": "stderr",
          "text": [
            " 79%|███████▉  | 1823/2295 [01:10<00:19, 24.08it/s]"
          ]
        },
        {
          "output_type": "stream",
          "name": "stdout",
          "text": [
            "문서의 수 : 1818\n",
            "문서의 수 : 1819\n",
            "문서의 수 : 1820\n",
            "문서의 수 : 1821\n",
            "문서의 수 : 1822\n",
            "문서의 수 : 1823\n",
            "문서의 수 : 1824\n"
          ]
        },
        {
          "output_type": "stream",
          "name": "stderr",
          "text": [
            " 80%|███████▉  | 1830/2295 [01:11<00:17, 27.03it/s]"
          ]
        },
        {
          "output_type": "stream",
          "name": "stdout",
          "text": [
            "문서의 수 : 1825\n",
            "문서의 수 : 1826\n",
            "문서의 수 : 1827\n",
            "문서의 수 : 1828\n",
            "문서의 수 : 1829\n",
            "문서의 수 : 1830\n",
            "문서의 수 : 1831\n"
          ]
        },
        {
          "output_type": "stream",
          "name": "stderr",
          "text": [
            " 80%|████████  | 1837/2295 [01:11<00:16, 27.63it/s]"
          ]
        },
        {
          "output_type": "stream",
          "name": "stdout",
          "text": [
            "문서의 수 : 1832\n",
            "문서의 수 : 1833\n",
            "문서의 수 : 1834\n",
            "문서의 수 : 1835\n",
            "문서의 수 : 1836\n",
            "문서의 수 : 1837\n",
            "문서의 수 : 1838\n"
          ]
        },
        {
          "output_type": "stream",
          "name": "stderr",
          "text": [
            " 80%|████████  | 1843/2295 [01:11<00:17, 25.42it/s]"
          ]
        },
        {
          "output_type": "stream",
          "name": "stdout",
          "text": [
            "문서의 수 : 1839\n",
            "문서의 수 : 1840\n",
            "문서의 수 : 1841\n",
            "문서의 수 : 1842\n",
            "문서의 수 : 1843\n"
          ]
        },
        {
          "output_type": "stream",
          "name": "stderr",
          "text": [
            "\r 80%|████████  | 1846/2295 [01:11<00:22, 19.84it/s]"
          ]
        },
        {
          "output_type": "stream",
          "name": "stdout",
          "text": [
            "문서의 수 : 1844\n",
            "문서의 수 : 1845\n",
            "문서의 수 : 1846\n"
          ]
        },
        {
          "output_type": "stream",
          "name": "stderr",
          "text": [
            " 81%|████████  | 1852/2295 [01:12<00:19, 22.41it/s]"
          ]
        },
        {
          "output_type": "stream",
          "name": "stdout",
          "text": [
            "문서의 수 : 1847\n",
            "문서의 수 : 1848\n",
            "문서의 수 : 1849\n",
            "문서의 수 : 1850\n",
            "문서의 수 : 1851\n",
            "문서의 수 : 1852\n",
            "문서의 수 : 1853\n"
          ]
        },
        {
          "output_type": "stream",
          "name": "stderr",
          "text": [
            " 81%|████████  | 1858/2295 [01:12<00:19, 22.51it/s]"
          ]
        },
        {
          "output_type": "stream",
          "name": "stdout",
          "text": [
            "문서의 수 : 1854\n",
            "문서의 수 : 1855\n",
            "문서의 수 : 1856\n",
            "문서의 수 : 1857\n",
            "문서의 수 : 1858\n"
          ]
        },
        {
          "output_type": "stream",
          "name": "stderr",
          "text": [
            "\r 81%|████████  | 1861/2295 [01:12<00:21, 20.26it/s]"
          ]
        },
        {
          "output_type": "stream",
          "name": "stdout",
          "text": [
            "문서의 수 : 1859\n",
            "문서의 수 : 1860\n",
            "문서의 수 : 1861\n",
            "문서의 수 : 1862\n",
            "문서의 수 : 1863\n"
          ]
        },
        {
          "output_type": "stream",
          "name": "stderr",
          "text": [
            " 81%|████████▏ | 1867/2295 [01:12<00:18, 22.97it/s]"
          ]
        },
        {
          "output_type": "stream",
          "name": "stdout",
          "text": [
            "문서의 수 : 1864\n",
            "문서의 수 : 1865\n",
            "문서의 수 : 1866\n",
            "문서의 수 : 1867\n",
            "문서의 수 : 1868\n"
          ]
        },
        {
          "output_type": "stream",
          "name": "stderr",
          "text": [
            "\r 81%|████████▏ | 1870/2295 [01:12<00:20, 20.55it/s]"
          ]
        },
        {
          "output_type": "stream",
          "name": "stdout",
          "text": [
            "문서의 수 : 1869\n",
            "문서의 수 : 1870\n",
            "문서의 수 : 1871\n",
            "문서의 수 : 1872\n"
          ]
        },
        {
          "output_type": "stream",
          "name": "stderr",
          "text": [
            " 82%|████████▏ | 1876/2295 [01:13<00:21, 19.10it/s]"
          ]
        },
        {
          "output_type": "stream",
          "name": "stdout",
          "text": [
            "문서의 수 : 1873\n",
            "문서의 수 : 1874\n",
            "문서의 수 : 1875\n",
            "문서의 수 : 1876\n",
            "문서의 수 : 1877\n"
          ]
        },
        {
          "output_type": "stream",
          "name": "stderr",
          "text": [
            " 82%|████████▏ | 1882/2295 [01:13<00:22, 18.47it/s]"
          ]
        },
        {
          "output_type": "stream",
          "name": "stdout",
          "text": [
            "문서의 수 : 1878\n",
            "문서의 수 : 1879\n",
            "문서의 수 : 1880\n",
            "문서의 수 : 1881\n",
            "문서의 수 : 1882\n"
          ]
        },
        {
          "output_type": "stream",
          "name": "stderr",
          "text": [
            "\r 82%|████████▏ | 1884/2295 [01:13<00:23, 17.83it/s]"
          ]
        },
        {
          "output_type": "stream",
          "name": "stdout",
          "text": [
            "문서의 수 : 1883\n",
            "문서의 수 : 1884\n",
            "문서의 수 : 1885\n",
            "문서의 수 : 1886\n"
          ]
        },
        {
          "output_type": "stream",
          "name": "stderr",
          "text": [
            " 82%|████████▏ | 1889/2295 [01:14<00:23, 17.53it/s]"
          ]
        },
        {
          "output_type": "stream",
          "name": "stdout",
          "text": [
            "문서의 수 : 1887\n",
            "문서의 수 : 1888\n",
            "문서의 수 : 1889\n",
            "문서의 수 : 1890\n"
          ]
        },
        {
          "output_type": "stream",
          "name": "stderr",
          "text": [
            " 82%|████████▏ | 1893/2295 [01:14<00:25, 15.74it/s]"
          ]
        },
        {
          "output_type": "stream",
          "name": "stdout",
          "text": [
            "문서의 수 : 1891\n",
            "문서의 수 : 1892\n",
            "문서의 수 : 1893\n",
            "문서의 수 : 1894\n"
          ]
        },
        {
          "output_type": "stream",
          "name": "stderr",
          "text": [
            " 83%|████████▎ | 1897/2295 [01:14<00:26, 15.29it/s]"
          ]
        },
        {
          "output_type": "stream",
          "name": "stdout",
          "text": [
            "문서의 수 : 1895\n",
            "문서의 수 : 1896\n",
            "문서의 수 : 1897\n",
            "문서의 수 : 1898\n"
          ]
        },
        {
          "output_type": "stream",
          "name": "stderr",
          "text": [
            " 83%|████████▎ | 1901/2295 [01:14<00:27, 14.27it/s]"
          ]
        },
        {
          "output_type": "stream",
          "name": "stdout",
          "text": [
            "문서의 수 : 1899\n",
            "문서의 수 : 1900\n",
            "문서의 수 : 1901\n"
          ]
        },
        {
          "output_type": "stream",
          "name": "stderr",
          "text": [
            " 83%|████████▎ | 1905/2295 [01:15<00:26, 14.79it/s]"
          ]
        },
        {
          "output_type": "stream",
          "name": "stdout",
          "text": [
            "문서의 수 : 1902\n",
            "문서의 수 : 1903\n",
            "문서의 수 : 1904\n",
            "문서의 수 : 1905\n"
          ]
        },
        {
          "output_type": "stream",
          "name": "stderr",
          "text": [
            " 83%|████████▎ | 1910/2295 [01:15<00:22, 17.23it/s]"
          ]
        },
        {
          "output_type": "stream",
          "name": "stdout",
          "text": [
            "문서의 수 : 1906\n",
            "문서의 수 : 1907\n",
            "문서의 수 : 1908\n",
            "문서의 수 : 1909\n",
            "문서의 수 : 1910\n"
          ]
        },
        {
          "output_type": "stream",
          "name": "stderr",
          "text": [
            " 83%|████████▎ | 1915/2295 [01:15<00:19, 19.63it/s]"
          ]
        },
        {
          "output_type": "stream",
          "name": "stdout",
          "text": [
            "문서의 수 : 1911\n",
            "문서의 수 : 1912\n",
            "문서의 수 : 1913\n",
            "문서의 수 : 1914\n",
            "문서의 수 : 1915\n",
            "문서의 수 : 1916\n"
          ]
        },
        {
          "output_type": "stream",
          "name": "stderr",
          "text": [
            " 84%|████████▎ | 1922/2295 [01:15<00:16, 23.19it/s]"
          ]
        },
        {
          "output_type": "stream",
          "name": "stdout",
          "text": [
            "문서의 수 : 1917\n",
            "문서의 수 : 1918\n",
            "문서의 수 : 1919\n",
            "문서의 수 : 1920\n",
            "문서의 수 : 1921\n",
            "문서의 수 : 1922\n"
          ]
        },
        {
          "output_type": "stream",
          "name": "stderr",
          "text": [
            "\r 84%|████████▍ | 1925/2295 [01:16<00:17, 21.65it/s]"
          ]
        },
        {
          "output_type": "stream",
          "name": "stdout",
          "text": [
            "문서의 수 : 1923\n",
            "문서의 수 : 1924\n",
            "문서의 수 : 1925\n",
            "문서의 수 : 1926\n"
          ]
        },
        {
          "output_type": "stream",
          "name": "stderr",
          "text": [
            " 84%|████████▍ | 1932/2295 [01:16<00:14, 24.93it/s]"
          ]
        },
        {
          "output_type": "stream",
          "name": "stdout",
          "text": [
            "문서의 수 : 1927\n",
            "문서의 수 : 1928\n",
            "문서의 수 : 1929\n",
            "문서의 수 : 1930\n",
            "문서의 수 : 1931\n",
            "문서의 수 : 1932\n",
            "문서의 수 : 1933\n"
          ]
        },
        {
          "output_type": "stream",
          "name": "stderr",
          "text": [
            " 84%|████████▍ | 1939/2295 [01:16<00:13, 25.64it/s]"
          ]
        },
        {
          "output_type": "stream",
          "name": "stdout",
          "text": [
            "문서의 수 : 1934\n",
            "문서의 수 : 1935\n",
            "문서의 수 : 1936\n",
            "문서의 수 : 1937\n",
            "문서의 수 : 1938\n",
            "문서의 수 : 1939\n",
            "문서의 수 : 1940\n"
          ]
        },
        {
          "output_type": "stream",
          "name": "stderr",
          "text": [
            " 85%|████████▍ | 1947/2295 [01:16<00:11, 30.13it/s]"
          ]
        },
        {
          "output_type": "stream",
          "name": "stdout",
          "text": [
            "문서의 수 : 1941\n",
            "문서의 수 : 1942\n",
            "문서의 수 : 1943\n",
            "문서의 수 : 1944\n",
            "문서의 수 : 1945\n",
            "문서의 수 : 1946\n",
            "문서의 수 : 1947\n"
          ]
        },
        {
          "output_type": "stream",
          "name": "stderr",
          "text": [
            "\r 85%|████████▌ | 1951/2295 [01:17<00:12, 26.84it/s]"
          ]
        },
        {
          "output_type": "stream",
          "name": "stdout",
          "text": [
            "문서의 수 : 1948\n",
            "문서의 수 : 1949\n",
            "문서의 수 : 1950\n",
            "문서의 수 : 1951\n",
            "문서의 수 : 1952\n",
            "문서의 수 : 1953\n",
            "문서의 수 : 1954\n"
          ]
        },
        {
          "output_type": "stream",
          "name": "stderr",
          "text": [
            " 85%|████████▌ | 1958/2295 [01:17<00:13, 25.50it/s]"
          ]
        },
        {
          "output_type": "stream",
          "name": "stdout",
          "text": [
            "문서의 수 : 1955\n",
            "문서의 수 : 1956\n",
            "문서의 수 : 1957\n",
            "문서의 수 : 1958\n"
          ]
        },
        {
          "output_type": "stream",
          "name": "stderr",
          "text": [
            "\r 85%|████████▌ | 1961/2295 [01:17<00:15, 21.18it/s]"
          ]
        },
        {
          "output_type": "stream",
          "name": "stdout",
          "text": [
            "문서의 수 : 1959\n",
            "문서의 수 : 1960\n",
            "문서의 수 : 1961\n",
            "문서의 수 : 1962\n",
            "문서의 수 : 1963\n"
          ]
        },
        {
          "output_type": "stream",
          "name": "stderr",
          "text": [
            " 86%|████████▌ | 1968/2295 [01:17<00:12, 25.18it/s]"
          ]
        },
        {
          "output_type": "stream",
          "name": "stdout",
          "text": [
            "문서의 수 : 1964\n",
            "문서의 수 : 1965\n",
            "문서의 수 : 1966\n",
            "문서의 수 : 1967\n",
            "문서의 수 : 1968\n",
            "문서의 수 : 1969\n",
            "문서의 수 : 1970\n"
          ]
        },
        {
          "output_type": "stream",
          "name": "stderr",
          "text": [
            " 86%|████████▌ | 1975/2295 [01:17<00:11, 28.29it/s]"
          ]
        },
        {
          "output_type": "stream",
          "name": "stdout",
          "text": [
            "문서의 수 : 1971\n",
            "문서의 수 : 1972\n",
            "문서의 수 : 1973\n",
            "문서의 수 : 1974\n",
            "문서의 수 : 1975\n",
            "문서의 수 : 1976\n"
          ]
        },
        {
          "output_type": "stream",
          "name": "stderr",
          "text": [
            " 86%|████████▋ | 1981/2295 [01:18<00:13, 23.27it/s]"
          ]
        },
        {
          "output_type": "stream",
          "name": "stdout",
          "text": [
            "문서의 수 : 1977\n",
            "문서의 수 : 1978\n",
            "문서의 수 : 1979\n",
            "문서의 수 : 1980\n",
            "문서의 수 : 1981\n",
            "문서의 수 : 1982\n"
          ]
        },
        {
          "output_type": "stream",
          "name": "stderr",
          "text": [
            " 87%|████████▋ | 1987/2295 [01:18<00:13, 22.39it/s]"
          ]
        },
        {
          "output_type": "stream",
          "name": "stdout",
          "text": [
            "문서의 수 : 1983\n",
            "문서의 수 : 1984\n",
            "문서의 수 : 1985\n",
            "문서의 수 : 1986\n",
            "문서의 수 : 1987\n"
          ]
        },
        {
          "output_type": "stream",
          "name": "stderr",
          "text": [
            "\r 87%|████████▋ | 1990/2295 [01:18<00:13, 22.45it/s]"
          ]
        },
        {
          "output_type": "stream",
          "name": "stdout",
          "text": [
            "문서의 수 : 1988\n",
            "문서의 수 : 1989\n",
            "문서의 수 : 1990\n",
            "문서의 수 : 1991\n"
          ]
        },
        {
          "output_type": "stream",
          "name": "stderr",
          "text": [
            " 87%|████████▋ | 1997/2295 [01:19<00:12, 23.38it/s]"
          ]
        },
        {
          "output_type": "stream",
          "name": "stdout",
          "text": [
            "문서의 수 : 1992\n",
            "문서의 수 : 1993\n",
            "문서의 수 : 1994\n",
            "문서의 수 : 1995\n",
            "문서의 수 : 1996\n",
            "문서의 수 : 1997\n",
            "문서의 수 : 1998\n",
            "문서의 수 : 1999\n",
            "문서의 수 : 2000\n"
          ]
        },
        {
          "output_type": "stream",
          "name": "stderr",
          "text": [
            " 87%|████████▋ | 2006/2295 [01:19<00:10, 27.59it/s]"
          ]
        },
        {
          "output_type": "stream",
          "name": "stdout",
          "text": [
            "문서의 수 : 2001\n",
            "문서의 수 : 2002\n",
            "문서의 수 : 2003\n",
            "문서의 수 : 2004\n",
            "문서의 수 : 2005\n",
            "문서의 수 : 2006\n",
            "문서의 수 : 2007\n"
          ]
        },
        {
          "output_type": "stream",
          "name": "stderr",
          "text": [
            " 88%|████████▊ | 2014/2295 [01:19<00:09, 28.86it/s]"
          ]
        },
        {
          "output_type": "stream",
          "name": "stdout",
          "text": [
            "문서의 수 : 2008\n",
            "문서의 수 : 2009\n",
            "문서의 수 : 2010\n",
            "문서의 수 : 2011\n",
            "문서의 수 : 2012\n",
            "문서의 수 : 2013\n",
            "문서의 수 : 2014\n"
          ]
        },
        {
          "output_type": "stream",
          "name": "stderr",
          "text": [
            " 88%|████████▊ | 2020/2295 [01:19<00:11, 23.70it/s]"
          ]
        },
        {
          "output_type": "stream",
          "name": "stdout",
          "text": [
            "문서의 수 : 2015\n",
            "문서의 수 : 2016\n",
            "문서의 수 : 2017\n",
            "문서의 수 : 2018\n",
            "문서의 수 : 2019\n",
            "문서의 수 : 2020\n"
          ]
        },
        {
          "output_type": "stream",
          "name": "stderr",
          "text": [
            " 88%|████████▊ | 2026/2295 [01:20<00:11, 23.20it/s]"
          ]
        },
        {
          "output_type": "stream",
          "name": "stdout",
          "text": [
            "문서의 수 : 2021\n",
            "문서의 수 : 2022\n",
            "문서의 수 : 2023\n",
            "문서의 수 : 2024\n",
            "문서의 수 : 2025\n",
            "문서의 수 : 2026\n"
          ]
        },
        {
          "output_type": "stream",
          "name": "stderr",
          "text": [
            "\r 88%|████████▊ | 2029/2295 [01:20<00:13, 19.96it/s]"
          ]
        },
        {
          "output_type": "stream",
          "name": "stdout",
          "text": [
            "문서의 수 : 2027\n",
            "문서의 수 : 2028\n",
            "문서의 수 : 2029\n",
            "문서의 수 : 2030\n"
          ]
        },
        {
          "output_type": "stream",
          "name": "stderr",
          "text": [
            " 89%|████████▊ | 2035/2295 [01:20<00:12, 20.68it/s]"
          ]
        },
        {
          "output_type": "stream",
          "name": "stdout",
          "text": [
            "문서의 수 : 2031\n",
            "문서의 수 : 2032\n",
            "문서의 수 : 2033\n",
            "문서의 수 : 2034\n",
            "문서의 수 : 2035\n",
            "문서의 수 : 2036\n"
          ]
        },
        {
          "output_type": "stream",
          "name": "stderr",
          "text": [
            " 89%|████████▉ | 2041/2295 [01:20<00:12, 20.87it/s]"
          ]
        },
        {
          "output_type": "stream",
          "name": "stdout",
          "text": [
            "문서의 수 : 2037\n",
            "문서의 수 : 2038\n",
            "문서의 수 : 2039\n",
            "문서의 수 : 2040\n",
            "문서의 수 : 2041\n",
            "문서의 수 : 2042\n"
          ]
        },
        {
          "output_type": "stream",
          "name": "stderr",
          "text": [
            " 89%|████████▉ | 2047/2295 [01:21<00:11, 22.07it/s]"
          ]
        },
        {
          "output_type": "stream",
          "name": "stdout",
          "text": [
            "문서의 수 : 2043\n",
            "문서의 수 : 2044\n",
            "문서의 수 : 2045\n",
            "문서의 수 : 2046\n",
            "문서의 수 : 2047\n"
          ]
        },
        {
          "output_type": "stream",
          "name": "stderr",
          "text": [
            "\r 89%|████████▉ | 2050/2295 [01:21<00:11, 21.10it/s]"
          ]
        },
        {
          "output_type": "stream",
          "name": "stdout",
          "text": [
            "문서의 수 : 2048\n",
            "문서의 수 : 2049\n",
            "문서의 수 : 2050\n",
            "문서의 수 : 2051\n"
          ]
        },
        {
          "output_type": "stream",
          "name": "stderr",
          "text": [
            " 90%|████████▉ | 2057/2295 [01:21<00:11, 21.11it/s]"
          ]
        },
        {
          "output_type": "stream",
          "name": "stdout",
          "text": [
            "문서의 수 : 2052\n",
            "문서의 수 : 2053\n",
            "문서의 수 : 2054\n",
            "문서의 수 : 2055\n",
            "문서의 수 : 2056\n",
            "문서의 수 : 2057\n",
            "문서의 수 : 2058\n"
          ]
        },
        {
          "output_type": "stream",
          "name": "stderr",
          "text": [
            " 90%|████████▉ | 2063/2295 [01:21<00:10, 22.96it/s]"
          ]
        },
        {
          "output_type": "stream",
          "name": "stdout",
          "text": [
            "문서의 수 : 2059\n",
            "문서의 수 : 2060\n",
            "문서의 수 : 2061\n",
            "문서의 수 : 2062\n",
            "문서의 수 : 2063\n",
            "문서의 수 : 2064\n"
          ]
        },
        {
          "output_type": "stream",
          "name": "stderr",
          "text": [
            " 90%|█████████ | 2069/2295 [01:22<00:09, 24.08it/s]"
          ]
        },
        {
          "output_type": "stream",
          "name": "stdout",
          "text": [
            "문서의 수 : 2065\n",
            "문서의 수 : 2066\n",
            "문서의 수 : 2067\n",
            "문서의 수 : 2068\n",
            "문서의 수 : 2069\n",
            "문서의 수 : 2070\n",
            "문서의 수 : 2071\n"
          ]
        },
        {
          "output_type": "stream",
          "name": "stderr",
          "text": [
            " 91%|█████████ | 2078/2295 [01:22<00:06, 32.31it/s]"
          ]
        },
        {
          "output_type": "stream",
          "name": "stdout",
          "text": [
            "문서의 수 : 2072\n",
            "문서의 수 : 2073\n",
            "문서의 수 : 2074\n",
            "문서의 수 : 2075\n",
            "문서의 수 : 2076\n",
            "문서의 수 : 2077\n",
            "문서의 수 : 2078\n",
            "문서의 수 : 2079\n",
            "문서의 수 : 2080\n"
          ]
        },
        {
          "output_type": "stream",
          "name": "stderr",
          "text": [
            " 91%|█████████ | 2086/2295 [01:22<00:07, 29.53it/s]"
          ]
        },
        {
          "output_type": "stream",
          "name": "stdout",
          "text": [
            "문서의 수 : 2081\n",
            "문서의 수 : 2082\n",
            "문서의 수 : 2083\n",
            "문서의 수 : 2084\n",
            "문서의 수 : 2085\n",
            "문서의 수 : 2086\n",
            "문서의 수 : 2087\n",
            "문서의 수 : 2088\n",
            "문서의 수 : 2089\n"
          ]
        },
        {
          "output_type": "stream",
          "name": "stderr",
          "text": [
            "\r 91%|█████████ | 2091/2295 [01:22<00:06, 31.28it/s]"
          ]
        },
        {
          "output_type": "stream",
          "name": "stdout",
          "text": [
            "문서의 수 : 2090\n",
            "문서의 수 : 2091\n",
            "문서의 수 : 2092\n",
            "문서의 수 : 2093\n",
            "문서의 수 : 2094\n"
          ]
        },
        {
          "output_type": "stream",
          "name": "stderr",
          "text": [
            " 91%|█████████▏| 2099/2295 [01:23<00:06, 28.30it/s]"
          ]
        },
        {
          "output_type": "stream",
          "name": "stdout",
          "text": [
            "문서의 수 : 2095\n",
            "문서의 수 : 2096\n",
            "문서의 수 : 2097\n",
            "문서의 수 : 2098\n",
            "문서의 수 : 2099\n",
            "문서의 수 : 2100\n",
            "문서의 수 : 2101\n"
          ]
        },
        {
          "output_type": "stream",
          "name": "stderr",
          "text": [
            " 92%|█████████▏| 2106/2295 [01:23<00:06, 29.33it/s]"
          ]
        },
        {
          "output_type": "stream",
          "name": "stdout",
          "text": [
            "문서의 수 : 2102\n",
            "문서의 수 : 2103\n",
            "문서의 수 : 2104\n",
            "문서의 수 : 2105\n",
            "문서의 수 : 2106\n",
            "문서의 수 : 2107\n",
            "문서의 수 : 2108\n"
          ]
        },
        {
          "output_type": "stream",
          "name": "stderr",
          "text": [
            " 92%|█████████▏| 2114/2295 [01:23<00:06, 26.11it/s]"
          ]
        },
        {
          "output_type": "stream",
          "name": "stdout",
          "text": [
            "문서의 수 : 2109\n",
            "문서의 수 : 2110\n",
            "문서의 수 : 2111\n",
            "문서의 수 : 2112\n",
            "문서의 수 : 2113\n",
            "문서의 수 : 2114\n"
          ]
        },
        {
          "output_type": "stream",
          "name": "stderr",
          "text": [
            " 92%|█████████▏| 2120/2295 [01:24<00:07, 22.94it/s]"
          ]
        },
        {
          "output_type": "stream",
          "name": "stdout",
          "text": [
            "문서의 수 : 2115\n",
            "문서의 수 : 2116\n",
            "문서의 수 : 2117\n",
            "문서의 수 : 2118\n",
            "문서의 수 : 2119\n",
            "문서의 수 : 2120\n"
          ]
        },
        {
          "output_type": "stream",
          "name": "stderr",
          "text": [
            " 93%|█████████▎| 2128/2295 [01:24<00:05, 29.62it/s]"
          ]
        },
        {
          "output_type": "stream",
          "name": "stdout",
          "text": [
            "문서의 수 : 2121\n",
            "문서의 수 : 2122\n",
            "문서의 수 : 2123\n",
            "문서의 수 : 2124\n",
            "문서의 수 : 2125\n",
            "문서의 수 : 2126\n",
            "문서의 수 : 2127\n",
            "문서의 수 : 2128\n",
            "문서의 수 : 2129\n"
          ]
        },
        {
          "output_type": "stream",
          "name": "stderr",
          "text": [
            " 93%|█████████▎| 2136/2295 [01:24<00:05, 31.03it/s]"
          ]
        },
        {
          "output_type": "stream",
          "name": "stdout",
          "text": [
            "문서의 수 : 2130\n",
            "문서의 수 : 2131\n",
            "문서의 수 : 2132\n",
            "문서의 수 : 2133\n",
            "문서의 수 : 2134\n",
            "문서의 수 : 2135\n",
            "문서의 수 : 2136\n"
          ]
        },
        {
          "output_type": "stream",
          "name": "stderr",
          "text": [
            " 93%|█████████▎| 2144/2295 [01:24<00:04, 31.52it/s]"
          ]
        },
        {
          "output_type": "stream",
          "name": "stdout",
          "text": [
            "문서의 수 : 2137\n",
            "문서의 수 : 2138\n",
            "문서의 수 : 2139\n",
            "문서의 수 : 2140\n",
            "문서의 수 : 2141\n",
            "문서의 수 : 2142\n",
            "문서의 수 : 2143\n",
            "문서의 수 : 2144\n"
          ]
        },
        {
          "output_type": "stream",
          "name": "stderr",
          "text": [
            "\r 94%|█████████▎| 2148/2295 [01:24<00:04, 29.68it/s]"
          ]
        },
        {
          "output_type": "stream",
          "name": "stdout",
          "text": [
            "문서의 수 : 2145\n",
            "문서의 수 : 2146\n",
            "문서의 수 : 2147\n",
            "문서의 수 : 2148\n",
            "문서의 수 : 2149\n",
            "문서의 수 : 2150\n"
          ]
        },
        {
          "output_type": "stream",
          "name": "stderr",
          "text": [
            " 94%|█████████▍| 2155/2295 [01:25<00:05, 27.42it/s]"
          ]
        },
        {
          "output_type": "stream",
          "name": "stdout",
          "text": [
            "문서의 수 : 2151\n",
            "문서의 수 : 2152\n",
            "문서의 수 : 2153\n",
            "문서의 수 : 2154\n",
            "문서의 수 : 2155\n",
            "문서의 수 : 2156\n"
          ]
        },
        {
          "output_type": "stream",
          "name": "stderr",
          "text": [
            " 94%|█████████▍| 2161/2295 [01:25<00:05, 26.13it/s]"
          ]
        },
        {
          "output_type": "stream",
          "name": "stdout",
          "text": [
            "문서의 수 : 2157\n",
            "문서의 수 : 2158\n",
            "문서의 수 : 2159\n",
            "문서의 수 : 2160\n",
            "문서의 수 : 2161\n"
          ]
        },
        {
          "output_type": "stream",
          "name": "stderr",
          "text": [
            "\r 94%|█████████▍| 2164/2295 [01:25<00:05, 24.17it/s]"
          ]
        },
        {
          "output_type": "stream",
          "name": "stdout",
          "text": [
            "문서의 수 : 2162\n",
            "문서의 수 : 2163\n",
            "문서의 수 : 2164\n"
          ]
        },
        {
          "output_type": "stream",
          "name": "stderr",
          "text": [
            "\r 94%|█████████▍| 2167/2295 [01:25<00:06, 20.85it/s]"
          ]
        },
        {
          "output_type": "stream",
          "name": "stdout",
          "text": [
            "문서의 수 : 2165\n",
            "문서의 수 : 2166\n",
            "문서의 수 : 2167\n",
            "문서의 수 : 2168\n"
          ]
        },
        {
          "output_type": "stream",
          "name": "stderr",
          "text": [
            "\r 95%|█████████▍| 2170/2295 [01:25<00:06, 19.68it/s]"
          ]
        },
        {
          "output_type": "stream",
          "name": "stdout",
          "text": [
            "문서의 수 : 2169\n",
            "문서의 수 : 2170\n",
            "문서의 수 : 2171\n",
            "문서의 수 : 2172\n"
          ]
        },
        {
          "output_type": "stream",
          "name": "stderr",
          "text": [
            " 95%|█████████▍| 2175/2295 [01:26<00:06, 18.22it/s]"
          ]
        },
        {
          "output_type": "stream",
          "name": "stdout",
          "text": [
            "문서의 수 : 2173\n",
            "문서의 수 : 2174\n",
            "문서의 수 : 2175\n"
          ]
        },
        {
          "output_type": "stream",
          "name": "stderr",
          "text": [
            "\r 95%|█████████▍| 2177/2295 [01:26<00:07, 14.78it/s]"
          ]
        },
        {
          "output_type": "stream",
          "name": "stdout",
          "text": [
            "문서의 수 : 2176\n",
            "문서의 수 : 2177\n",
            "문서의 수 : 2178\n"
          ]
        },
        {
          "output_type": "stream",
          "name": "stderr",
          "text": [
            "\r 95%|█████████▍| 2179/2295 [01:26<00:07, 14.65it/s]"
          ]
        },
        {
          "output_type": "stream",
          "name": "stdout",
          "text": [
            "문서의 수 : 2179\n",
            "문서의 수 : 2180\n"
          ]
        },
        {
          "output_type": "stream",
          "name": "stderr",
          "text": [
            " 95%|█████████▌| 2184/2295 [01:26<00:07, 15.02it/s]"
          ]
        },
        {
          "output_type": "stream",
          "name": "stdout",
          "text": [
            "문서의 수 : 2181\n",
            "문서의 수 : 2182\n",
            "문서의 수 : 2183\n",
            "문서의 수 : 2184\n"
          ]
        },
        {
          "output_type": "stream",
          "name": "stderr",
          "text": [
            " 95%|█████████▌| 2188/2295 [01:27<00:06, 15.56it/s]"
          ]
        },
        {
          "output_type": "stream",
          "name": "stdout",
          "text": [
            "문서의 수 : 2185\n",
            "문서의 수 : 2186\n",
            "문서의 수 : 2187\n",
            "문서의 수 : 2188\n"
          ]
        },
        {
          "output_type": "stream",
          "name": "stderr",
          "text": [
            " 96%|█████████▌| 2193/2295 [01:27<00:05, 17.96it/s]"
          ]
        },
        {
          "output_type": "stream",
          "name": "stdout",
          "text": [
            "문서의 수 : 2189\n",
            "문서의 수 : 2190\n",
            "문서의 수 : 2191\n",
            "문서의 수 : 2192\n",
            "문서의 수 : 2193\n"
          ]
        },
        {
          "output_type": "stream",
          "name": "stderr",
          "text": [
            " 96%|█████████▌| 2198/2295 [01:27<00:05, 18.73it/s]"
          ]
        },
        {
          "output_type": "stream",
          "name": "stdout",
          "text": [
            "문서의 수 : 2194\n",
            "문서의 수 : 2195\n",
            "문서의 수 : 2196\n",
            "문서의 수 : 2197\n",
            "문서의 수 : 2198\n"
          ]
        },
        {
          "output_type": "stream",
          "name": "stderr",
          "text": [
            " 96%|█████████▌| 2202/2295 [01:28<00:05, 16.51it/s]"
          ]
        },
        {
          "output_type": "stream",
          "name": "stdout",
          "text": [
            "문서의 수 : 2199\n",
            "문서의 수 : 2200\n",
            "문서의 수 : 2201\n",
            "문서의 수 : 2202\n"
          ]
        },
        {
          "output_type": "stream",
          "name": "stderr",
          "text": [
            " 96%|█████████▌| 2206/2295 [01:28<00:05, 15.27it/s]"
          ]
        },
        {
          "output_type": "stream",
          "name": "stdout",
          "text": [
            "문서의 수 : 2203\n",
            "문서의 수 : 2204\n",
            "문서의 수 : 2205\n",
            "문서의 수 : 2206\n",
            "문서의 수 : 2207\n"
          ]
        },
        {
          "output_type": "stream",
          "name": "stderr",
          "text": [
            " 96%|█████████▋| 2210/2295 [01:28<00:07, 11.22it/s]"
          ]
        },
        {
          "output_type": "stream",
          "name": "stdout",
          "text": [
            "문서의 수 : 2208\n",
            "문서의 수 : 2209\n",
            "문서의 수 : 2210\n",
            "문서의 수 : 2211\n"
          ]
        },
        {
          "output_type": "stream",
          "name": "stderr",
          "text": [
            " 97%|█████████▋| 2216/2295 [01:29<00:04, 17.01it/s]"
          ]
        },
        {
          "output_type": "stream",
          "name": "stdout",
          "text": [
            "문서의 수 : 2212\n",
            "문서의 수 : 2213\n",
            "문서의 수 : 2214\n",
            "문서의 수 : 2215\n",
            "문서의 수 : 2216\n"
          ]
        },
        {
          "output_type": "stream",
          "name": "stderr",
          "text": [
            " 97%|█████████▋| 2220/2295 [01:29<00:04, 15.93it/s]"
          ]
        },
        {
          "output_type": "stream",
          "name": "stdout",
          "text": [
            "문서의 수 : 2217\n",
            "문서의 수 : 2218\n",
            "문서의 수 : 2219\n",
            "문서의 수 : 2220\n"
          ]
        },
        {
          "output_type": "stream",
          "name": "stderr",
          "text": [
            "\r 97%|█████████▋| 2222/2295 [01:29<00:04, 14.96it/s]"
          ]
        },
        {
          "output_type": "stream",
          "name": "stdout",
          "text": [
            "문서의 수 : 2221\n",
            "문서의 수 : 2222\n",
            "문서의 수 : 2223\n",
            "문서의 수 : 2224\n",
            "문서의 수 : 2225\n"
          ]
        },
        {
          "output_type": "stream",
          "name": "stderr",
          "text": [
            " 97%|█████████▋| 2228/2295 [01:29<00:03, 17.71it/s]"
          ]
        },
        {
          "output_type": "stream",
          "name": "stdout",
          "text": [
            "문서의 수 : 2226\n",
            "문서의 수 : 2227\n",
            "문서의 수 : 2228\n",
            "문서의 수 : 2229\n",
            "문서의 수 : 2230\n"
          ]
        },
        {
          "output_type": "stream",
          "name": "stderr",
          "text": [
            " 97%|█████████▋| 2234/2295 [01:29<00:02, 21.41it/s]"
          ]
        },
        {
          "output_type": "stream",
          "name": "stdout",
          "text": [
            "문서의 수 : 2231\n",
            "문서의 수 : 2232\n",
            "문서의 수 : 2233\n",
            "문서의 수 : 2234\n",
            "문서의 수 : 2235\n"
          ]
        },
        {
          "output_type": "stream",
          "name": "stderr",
          "text": [
            "\r 97%|█████████▋| 2237/2295 [01:30<00:02, 22.19it/s]"
          ]
        },
        {
          "output_type": "stream",
          "name": "stdout",
          "text": [
            "문서의 수 : 2236\n",
            "문서의 수 : 2237\n",
            "문서의 수 : 2238\n"
          ]
        },
        {
          "output_type": "stream",
          "name": "stderr",
          "text": [
            " 98%|█████████▊| 2244/2295 [01:30<00:02, 19.93it/s]"
          ]
        },
        {
          "output_type": "stream",
          "name": "stdout",
          "text": [
            "문서의 수 : 2239\n",
            "문서의 수 : 2240\n",
            "문서의 수 : 2241\n",
            "문서의 수 : 2242\n",
            "문서의 수 : 2243\n",
            "문서의 수 : 2244\n"
          ]
        },
        {
          "output_type": "stream",
          "name": "stderr",
          "text": [
            " 98%|█████████▊| 2250/2295 [01:30<00:02, 21.14it/s]"
          ]
        },
        {
          "output_type": "stream",
          "name": "stdout",
          "text": [
            "문서의 수 : 2245\n",
            "문서의 수 : 2246\n",
            "문서의 수 : 2247\n",
            "문서의 수 : 2248\n",
            "문서의 수 : 2249\n",
            "문서의 수 : 2250\n"
          ]
        },
        {
          "output_type": "stream",
          "name": "stderr",
          "text": [
            "\r 98%|█████████▊| 2253/2295 [01:30<00:01, 22.98it/s]"
          ]
        },
        {
          "output_type": "stream",
          "name": "stdout",
          "text": [
            "문서의 수 : 2251\n",
            "문서의 수 : 2252\n",
            "문서의 수 : 2253\n",
            "문서의 수 : 2254\n",
            "문서의 수 : 2255\n",
            "문서의 수 : 2256\n"
          ]
        },
        {
          "output_type": "stream",
          "name": "stderr",
          "text": [
            " 98%|█████████▊| 2260/2295 [01:31<00:01, 25.74it/s]"
          ]
        },
        {
          "output_type": "stream",
          "name": "stdout",
          "text": [
            "문서의 수 : 2257\n",
            "문서의 수 : 2258\n",
            "문서의 수 : 2259\n",
            "문서의 수 : 2260\n",
            "문서의 수 : 2261\n",
            "문서의 수 : 2262\n"
          ]
        },
        {
          "output_type": "stream",
          "name": "stderr",
          "text": [
            " 99%|█████████▉| 2267/2295 [01:31<00:01, 27.90it/s]"
          ]
        },
        {
          "output_type": "stream",
          "name": "stdout",
          "text": [
            "문서의 수 : 2263\n",
            "문서의 수 : 2264\n",
            "문서의 수 : 2265\n",
            "문서의 수 : 2266\n",
            "문서의 수 : 2267\n",
            "문서의 수 : 2268\n",
            "문서의 수 : 2269\n",
            "문서의 수 : 2270\n"
          ]
        },
        {
          "output_type": "stream",
          "name": "stderr",
          "text": [
            " 99%|█████████▉| 2275/2295 [01:31<00:00, 31.68it/s]"
          ]
        },
        {
          "output_type": "stream",
          "name": "stdout",
          "text": [
            "문서의 수 : 2271\n",
            "문서의 수 : 2272\n",
            "문서의 수 : 2273\n",
            "문서의 수 : 2274\n",
            "문서의 수 : 2275\n",
            "문서의 수 : 2276\n",
            "문서의 수 : 2277\n"
          ]
        },
        {
          "output_type": "stream",
          "name": "stderr",
          "text": [
            " 99%|█████████▉| 2283/2295 [01:31<00:00, 28.59it/s]"
          ]
        },
        {
          "output_type": "stream",
          "name": "stdout",
          "text": [
            "문서의 수 : 2278\n",
            "문서의 수 : 2279\n",
            "문서의 수 : 2280\n",
            "문서의 수 : 2281\n",
            "문서의 수 : 2282\n",
            "문서의 수 : 2283\n"
          ]
        },
        {
          "output_type": "stream",
          "name": "stderr",
          "text": [
            "100%|█████████▉| 2289/2295 [01:32<00:00, 26.09it/s]"
          ]
        },
        {
          "output_type": "stream",
          "name": "stdout",
          "text": [
            "문서의 수 : 2284\n",
            "문서의 수 : 2285\n",
            "문서의 수 : 2286\n",
            "문서의 수 : 2287\n",
            "문서의 수 : 2288\n",
            "문서의 수 : 2289\n"
          ]
        },
        {
          "output_type": "stream",
          "name": "stderr",
          "text": [
            "100%|██████████| 2295/2295 [01:32<00:00, 24.84it/s]"
          ]
        },
        {
          "output_type": "stream",
          "name": "stdout",
          "text": [
            "문서의 수 : 2290\n",
            "문서의 수 : 2291\n",
            "문서의 수 : 2292\n",
            "문서의 수 : 2293\n",
            "문서의 수 : 2294\n",
            "문서의 수 : 2295\n"
          ]
        },
        {
          "output_type": "stream",
          "name": "stderr",
          "text": [
            "\n"
          ]
        }
      ]
    },
    {
      "cell_type": "code",
      "source": [
        "from gensim.models import doc2vec\n",
        "\n",
        "model = doc2vec.Doc2Vec(vector_size=300, alpha=0.025, min_alpha=0.025, workers=8, window=8)\n",
        "\n",
        "model.build_vocab(tagged_corpus_list)\n",
        "\n",
        "model.train(tagged_corpus_list, total_examples=model.corpus_count, epochs=20)\n",
        "\n",
        "model.save('dart.doc2vec')"
      ],
      "metadata": {
        "id": "C2pKjFr_Kh8e"
      },
      "execution_count": 6,
      "outputs": []
    },
    {
      "cell_type": "code",
      "source": [
        "similar_doc = model.docvecs.most_similar('동화약품')\n",
        "print(similar_doc)"
      ],
      "metadata": {
        "colab": {
          "base_uri": "https://localhost:8080/"
        },
        "id": "_5-fUNwULLkb",
        "outputId": "450cb982-08ad-4d6d-9305-166221e35c21"
      },
      "execution_count": 7,
      "outputs": [
        {
          "output_type": "stream",
          "name": "stdout",
          "text": [
            "[('종근당', 0.5530642867088318), ('제일약품', 0.5460351705551147), ('일양약품', 0.5152671933174133), ('동아에스티', 0.5133564472198486), ('우리들제약', 0.5055021047592163), ('삼아제약', 0.5047171711921692), ('진양제약', 0.5042979121208191), ('유유제약', 0.502726674079895), ('삼일제약', 0.5015737414360046), ('대웅제약', 0.4992654323577881)]\n"
          ]
        },
        {
          "output_type": "stream",
          "name": "stderr",
          "text": [
            "<ipython-input-7-8152187b51f2>:1: DeprecationWarning: Call to deprecated `docvecs` (The `docvecs` property has been renamed `dv`.).\n",
            "  similar_doc = model.docvecs.most_similar('동화약품')\n"
          ]
        }
      ]
    },
    {
      "cell_type": "code",
      "source": [
        "similar_doc = model.docvecs.most_similar('하이트진로')\n",
        "print(similar_doc)"
      ],
      "metadata": {
        "colab": {
          "base_uri": "https://localhost:8080/"
        },
        "id": "Ia5y_vlAR5CF",
        "outputId": "19b84dc7-a728-4d4a-c2c1-5292731f8c84"
      },
      "execution_count": 8,
      "outputs": [
        {
          "output_type": "stream",
          "name": "stdout",
          "text": [
            "[('하이트진로홀딩스', 0.8590090870857239), ('보해양조', 0.5223902463912964), ('무학', 0.517168402671814), ('롯데칠성', 0.46775829792022705), ('국순당', 0.4391874670982361), ('삼광글라스', 0.3935472071170807), ('서부T&D', 0.3868127763271332), ('모나리자', 0.3862602114677429), ('PN풍년', 0.38376009464263916), ('해마로푸드서비스', 0.3826047480106354)]\n"
          ]
        },
        {
          "output_type": "stream",
          "name": "stderr",
          "text": [
            "<ipython-input-8-10a440d49d85>:1: DeprecationWarning: Call to deprecated `docvecs` (The `docvecs` property has been renamed `dv`.).\n",
            "  similar_doc = model.docvecs.most_similar('하이트진로')\n"
          ]
        }
      ]
    },
    {
      "cell_type": "code",
      "source": [
        "similar_doc = model.docvecs.most_similar('LG이노텍')\n",
        "print(similar_doc)"
      ],
      "metadata": {
        "colab": {
          "base_uri": "https://localhost:8080/"
        },
        "id": "4Ym7_T5bR-PO",
        "outputId": "161f1c39-baf8-4c7c-f6df-11ee0999c9b4"
      },
      "execution_count": 9,
      "outputs": [
        {
          "output_type": "stream",
          "name": "stdout",
          "text": [
            "[('LG전자', 0.5261231660842896), ('LG', 0.4997347593307495), ('서울반도체', 0.4558715522289276), ('삼성전기', 0.45545437932014465), ('LG디스플레이', 0.44918927550315857), ('서울바이오시스', 0.4151296019554138), ('와이솔', 0.4081985652446747), ('일진디스플', 0.4066793918609619), ('삼성SDI', 0.4050021171569824), ('큐엠씨', 0.39945921301841736)]\n"
          ]
        },
        {
          "output_type": "stream",
          "name": "stderr",
          "text": [
            "<ipython-input-9-0fd06fded1b7>:1: DeprecationWarning: Call to deprecated `docvecs` (The `docvecs` property has been renamed `dv`.).\n",
            "  similar_doc = model.docvecs.most_similar('LG이노텍')\n"
          ]
        }
      ]
    },
    {
      "cell_type": "code",
      "source": [
        "similar_doc = model.docvecs.most_similar('메리츠화재')\n",
        "print(similar_doc)"
      ],
      "metadata": {
        "colab": {
          "base_uri": "https://localhost:8080/"
        },
        "id": "miWktJIWSBdW",
        "outputId": "a8364b7b-ab48-43ac-bcd9-bf6e382e7e1b"
      },
      "execution_count": 10,
      "outputs": [
        {
          "output_type": "stream",
          "name": "stdout",
          "text": [
            "[('메리츠금융지주', 0.7438501119613647), ('한화손해보험', 0.7073774933815002), ('한화생명', 0.6770269274711609), ('DB손해보험', 0.6649059057235718), ('롯데손해보험', 0.6633701324462891), ('흥국화재', 0.6579137444496155), ('현대해상', 0.644489586353302), ('코리안리', 0.6090441346168518), ('미래에셋생명', 0.5916408896446228), ('삼성생명', 0.5683466196060181)]\n"
          ]
        },
        {
          "output_type": "stream",
          "name": "stderr",
          "text": [
            "<ipython-input-10-abc7faabfcd2>:1: DeprecationWarning: Call to deprecated `docvecs` (The `docvecs` property has been renamed `dv`.).\n",
            "  similar_doc = model.docvecs.most_similar('메리츠화재')\n"
          ]
        }
      ]
    },
    {
      "cell_type": "code",
      "source": [],
      "metadata": {
        "id": "A98M3IpbSEPm"
      },
      "execution_count": null,
      "outputs": []
    }
  ]
}