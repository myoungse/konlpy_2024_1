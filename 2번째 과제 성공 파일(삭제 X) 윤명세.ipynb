{
 "cells": [
  {
   "cell_type": "code",
   "execution_count": 2,
   "id": "21514004",
   "metadata": {},
   "outputs": [],
   "source": [
    "import re\n",
    "from gensim.utils import to_unicode\n",
    "\n",
    "WIKI_REMOVE_CHARS = re.compile(\"'+|(=+.{2,30}=+)|__TOC__|(ファイル:).+|:(en|de|it|fr|es|kr|zh|no|fi):|\\n\", re.UNICODE)\n",
    "WIKI_SPACE_CHARS = re.compile(\"(\\\\s|゙|゚|　)+\", re.UNICODE)\n",
    "EMAIL_PATTERN = re.compile(\"(^[a-zA-Z0-9_.+-]+@[a-zA-Z0-9-]+\\.[a-zA-Z0-9-.]+$)\", re.UNICODE)\n",
    "URL_PATTERN = re.compile(\"(ftp|http|https)?://(?:[a-zA-Z]|[0-9]|[$-_@.&+]|[!*\\(\\),]|(?:%[0-9a-fA-F][0-9a-fA-F]))+\", re.UNICODE)\n",
    "WIKI_REMOVE_TOKEN_CHARS = re.compile(\"(\\\\*$|:$|^파일:.+|^;)\", re.UNICODE)\n",
    "MULTIPLE_SPACES = re.compile(' +', re.UNICODE)\n",
    "\n",
    "\n",
    "def tokenize(content, token_min_len=2, token_max_len=100, lower=True):\n",
    "    content = re.sub(EMAIL_PATTERN, ' ', content)  \n",
    "    content = re.sub(URL_PATTERN, ' ', content)\n",
    "    content = re.sub(WIKI_REMOVE_CHARS, ' ', content)\n",
    "    content = re.sub(WIKI_SPACE_CHARS, ' ', content)\n",
    "    content = re.sub(MULTIPLE_SPACES, ' ', content)\n",
    "    tokens = content.replace(\", )\", \"\").split(\" \")\n",
    "    result = []\n",
    "    for token in tokens:\n",
    "        if not token.startswith('_'):\n",
    "            token_candidate = to_unicode(re.sub(WIKI_REMOVE_TOKEN_CHARS, '', token))\n",
    "        else:\n",
    "            token_candidate = \"\"\n",
    "        if len(token_candidate) > 0:\n",
    "            result.append(token_candidate)\n",
    "    return result\n"
   ]
  },
  {
   "cell_type": "code",
   "execution_count": 3,
   "id": "a77ae084",
   "metadata": {},
   "outputs": [
    {
     "name": "stderr",
     "output_type": "stream",
     "text": [
      "C:\\Users\\AI31\\anaconda3\\envs\\mecab\\lib\\site-packages\\gensim\\utils.py:1333: UserWarning: detected Windows; aliasing chunkize to chunkize_serial\n",
      "  warnings.warn(\"detected %s; aliasing chunkize to chunkize_serial\" % entity)\n"
     ]
    },
    {
     "name": "stdout",
     "output_type": "stream",
     "text": [
      "Processed 10000 articles\n",
      "Processed 20000 articles\n",
      "Processed 30000 articles\n",
      "Processed 40000 articles\n",
      "Processed 50000 articles\n",
      "Processed 60000 articles\n",
      "Processed 70000 articles\n",
      "Processed 80000 articles\n",
      "Processed 90000 articles\n",
      "Processed 100000 articles\n",
      "Processed 110000 articles\n",
      "Processed 120000 articles\n",
      "Processed 130000 articles\n",
      "Processed 140000 articles\n",
      "Processed 150000 articles\n",
      "Processed 160000 articles\n",
      "Processed 170000 articles\n",
      "Processed 180000 articles\n",
      "Processed 190000 articles\n",
      "Processed 200000 articles\n",
      "Processed 210000 articles\n",
      "Processed 220000 articles\n",
      "Processed 230000 articles\n",
      "Processed 240000 articles\n",
      "Processed 250000 articles\n",
      "Processed 260000 articles\n",
      "Processed 270000 articles\n",
      "Processed 280000 articles\n",
      "Processed 290000 articles\n",
      "Processed 300000 articles\n",
      "Processed 310000 articles\n",
      "Processed 320000 articles\n",
      "Processed 330000 articles\n",
      "Processed 340000 articles\n",
      "Processed 350000 articles\n",
      "Processed 360000 articles\n",
      "Processed 370000 articles\n",
      "Processed 380000 articles\n",
      "Processed 390000 articles\n",
      "Processed 400000 articles\n",
      "Processed 410000 articles\n",
      "Processed 420000 articles\n",
      "Processed 430000 articles\n",
      "Processed 440000 articles\n",
      "Processed 450000 articles\n",
      "Processing complete!\n"
     ]
    }
   ],
   "source": [
    "from gensim.corpora import WikiCorpus, Dictionary\n",
    "from gensim.utils import to_unicode\n",
    "from gensim.corpora.wikicorpus import tokenize\n",
    "\n",
    "\n",
    "in_f =r\"C:\\Users\\AI31\\Downloads\\kowiki-latest-pages-articles.xml.bz2\"\n",
    "out_f =r\"C:\\Users\\AI31\\Downloads\\processed\\processed_wiki_ko.txt\"\n",
    "output = open(out_f, 'w', encoding = \"utf-8\")\n",
    "wiki = WikiCorpus(in_f, tokenizer_func=tokenize, dictionary=Dictionary())\n",
    "i = 0\n",
    "for text in wiki.get_texts() :\n",
    "    output.write(bytes(' '.join(text), 'utf-8').decode('utf-8') + '\\n')\n",
    "    i = i + 1\n",
    "    if (i % 10000 == 0):\n",
    "        print('Processed ' + str(i) + ' articles')\n",
    "output.close()\n",
    "print('Processing complete!')"
   ]
  },
  {
   "cell_type": "code",
   "execution_count": 8,
   "id": "a85ee278",
   "metadata": {},
   "outputs": [],
   "source": [
    "import json\n",
    "\n",
    "corpus_fname = r\"C:\\Users\\AI31\\Downloads\\KorQuAD_v1.0_train.json\"\n",
    "output_fname = r\"C:\\Users\\AI31\\Downloads\\processed\\processed_korquad.txt\"\n",
    "\n",
    "with open(corpus_fname) as f1, open(output_fname, 'w', encoding='utf-8') as f2:\n",
    "    dataset_json = json.load(f1)\n",
    "    dataset = dataset_json['data']\n",
    "    for article in dataset:\n",
    "        w_lines = []\n",
    "        for paragraph in article['paragraphs']:\n",
    "            w_lines.append(paragraph['context'])\n",
    "            for qa in paragraph['qas']:\n",
    "                q_text = qa['question']\n",
    "                for a in qa['answers']:\n",
    "                    a_text = a['text']\n",
    "                    w_lines.append(q_text + \" \" + a_text)\n",
    "        for line in w_lines:\n",
    "            f2.writelines(line + \"\\n\")"
   ]
  },
  {
   "cell_type": "code",
   "execution_count": 9,
   "id": "9ebbfc11",
   "metadata": {},
   "outputs": [],
   "source": [
    "corpus_path = r\"C:\\Users\\AI31\\Desktop\\ratings.txt\"\n",
    "output_fname = r\"C:\\Users\\AI31\\Downloads\\processed\\processed_ratings.txt\"\n",
    "with_label = False\n",
    "\n",
    "with open(corpus_path, 'r', encoding='utf-8') as f1, \\\n",
    "            open(output_fname, 'w', encoding='utf-8') as f2:\n",
    "        next(f1)  \n",
    "        for line in f1:\n",
    "            _, sentence, label = line.strip().split('\\t')\n",
    "            if not sentence: continue\n",
    "            if with_label:\n",
    "                f2.writelines(sentence + \"\\u241E\" + label + \"\\n\")\n",
    "            else:\n",
    "                f2.writelines(sentence + \"\\n\")"
   ]
  }
 ],
 "metadata": {
  "kernelspec": {
   "display_name": "mecab",
   "language": "python",
   "name": "mecab"
  },
  "language_info": {
   "codemirror_mode": {
    "name": "ipython",
    "version": 3
   },
   "file_extension": ".py",
   "mimetype": "text/x-python",
   "name": "python",
   "nbconvert_exporter": "python",
   "pygments_lexer": "ipython3",
   "version": "3.8.0"
  }
 },
 "nbformat": 4,
 "nbformat_minor": 5
}
